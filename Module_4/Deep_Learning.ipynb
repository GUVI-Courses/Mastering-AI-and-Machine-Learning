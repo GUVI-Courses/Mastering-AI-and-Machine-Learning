{
  "cells": [
    {
      "cell_type": "code",
      "execution_count": null,
      "id": "d3fc8475",
      "metadata": {
        "id": "d3fc8475"
      },
      "outputs": [],
      "source": [
        "import tensorflow as tf\n",
        "\n",
        "from tensorflow.keras.models import Sequential\n",
        "from tensorflow.keras.layers import Dense\n",
        "\n",
        "from sklearn.datasets import load_breast_cancer\n",
        "from sklearn.model_selection import train_test_split\n",
        "\n",
        "from sklearn.preprocessing import StandardScaler"
      ]
    },
    {
      "cell_type": "markdown",
      "id": "5af59a21",
      "metadata": {
        "id": "5af59a21"
      },
      "source": [
        "### Simple Neural Network - Binary Classification"
      ]
    },
    {
      "cell_type": "code",
      "execution_count": null,
      "id": "f602bdf9",
      "metadata": {
        "id": "f602bdf9"
      },
      "outputs": [],
      "source": [
        "dataset = load_breast_cancer()"
      ]
    },
    {
      "cell_type": "code",
      "execution_count": null,
      "id": "5213e441",
      "metadata": {
        "id": "5213e441"
      },
      "outputs": [],
      "source": [
        "X, y = dataset.data, dataset.target"
      ]
    },
    {
      "cell_type": "code",
      "execution_count": null,
      "id": "6099f8c2",
      "metadata": {
        "id": "6099f8c2"
      },
      "outputs": [],
      "source": [
        "scaler = StandardScaler()\n",
        "X_scaled = scaler.fit_transform(X)"
      ]
    },
    {
      "cell_type": "code",
      "execution_count": null,
      "id": "0a3d4dc4",
      "metadata": {
        "id": "0a3d4dc4",
        "outputId": "6487d4c8-00b2-4cbb-a5b5-0865110c8d57"
      },
      "outputs": [
        {
          "data": {
            "text/plain": [
              "(569, 30)"
            ]
          },
          "execution_count": 5,
          "metadata": {},
          "output_type": "execute_result"
        }
      ],
      "source": [
        "X.shape"
      ]
    },
    {
      "cell_type": "code",
      "execution_count": null,
      "id": "399f0e8c",
      "metadata": {
        "id": "399f0e8c"
      },
      "outputs": [],
      "source": [
        "X_train, X_test, y_train, y_test = train_test_split(X_scaled, y, test_size=0.1, random_state=3)"
      ]
    },
    {
      "cell_type": "code",
      "execution_count": null,
      "id": "65808c80",
      "metadata": {
        "id": "65808c80",
        "outputId": "94647168-0bca-4bf4-a3ed-519375ef1ecc"
      },
      "outputs": [
        {
          "data": {
            "text/plain": [
              "((512, 30), (57, 30))"
            ]
          },
          "execution_count": 25,
          "metadata": {},
          "output_type": "execute_result"
        }
      ],
      "source": [
        "X_train.shape, X_test.shape"
      ]
    },
    {
      "cell_type": "code",
      "execution_count": null,
      "id": "da4fc45b",
      "metadata": {
        "id": "da4fc45b",
        "outputId": "fd53ffa7-8401-4888-aee0-637dc4077af9"
      },
      "outputs": [
        {
          "data": {
            "text/plain": [
              "array(['malignant', 'benign'], dtype='<U9')"
            ]
          },
          "execution_count": 26,
          "metadata": {},
          "output_type": "execute_result"
        }
      ],
      "source": [
        "dataset.target_names"
      ]
    },
    {
      "cell_type": "code",
      "execution_count": null,
      "id": "aa31ca13",
      "metadata": {
        "id": "aa31ca13"
      },
      "outputs": [],
      "source": [
        "model = Sequential()\n",
        "model.add(Dense(16, input_dim=X.shape[1], activation=\"relu\"))\n",
        "model.add(Dense(1, activation=\"sigmoid\"))"
      ]
    },
    {
      "cell_type": "code",
      "execution_count": null,
      "id": "fe4dc274",
      "metadata": {
        "id": "fe4dc274"
      },
      "outputs": [],
      "source": [
        "model.compile(optimizer=\"SGD\", loss=\"binary_crossentropy\", metrics=[\"accuracy\"])"
      ]
    },
    {
      "cell_type": "code",
      "execution_count": null,
      "id": "423d4d58",
      "metadata": {
        "id": "423d4d58",
        "outputId": "6215bb9f-eb1c-4de5-e08f-e40f678c16b7"
      },
      "outputs": [
        {
          "name": "stdout",
          "output_type": "stream",
          "text": [
            "Model: \"sequential_2\"\n",
            "_________________________________________________________________\n",
            " Layer (type)                Output Shape              Param #   \n",
            "=================================================================\n",
            " dense_2 (Dense)             (None, 16)                496       \n",
            "                                                                 \n",
            " dense_3 (Dense)             (None, 1)                 17        \n",
            "                                                                 \n",
            "=================================================================\n",
            "Total params: 513 (2.00 KB)\n",
            "Trainable params: 513 (2.00 KB)\n",
            "Non-trainable params: 0 (0.00 Byte)\n",
            "_________________________________________________________________\n"
          ]
        }
      ],
      "source": [
        "model.summary()"
      ]
    },
    {
      "cell_type": "code",
      "execution_count": null,
      "id": "87b8c696",
      "metadata": {
        "id": "87b8c696",
        "outputId": "be52c7e3-102e-4fdf-d813-0151908a6871"
      },
      "outputs": [
        {
          "name": "stdout",
          "output_type": "stream",
          "text": [
            "Epoch 1/20\n",
            "16/16 [==============================] - 1s 26ms/step - loss: 0.6792 - accuracy: 0.5859 - val_loss: 0.5736 - val_accuracy: 0.7544\n",
            "Epoch 2/20\n",
            "16/16 [==============================] - 0s 14ms/step - loss: 0.5229 - accuracy: 0.8184 - val_loss: 0.4585 - val_accuracy: 0.8596\n",
            "Epoch 3/20\n",
            "16/16 [==============================] - 0s 13ms/step - loss: 0.4301 - accuracy: 0.9004 - val_loss: 0.3845 - val_accuracy: 0.9474\n",
            "Epoch 4/20\n",
            "16/16 [==============================] - 0s 15ms/step - loss: 0.3698 - accuracy: 0.9238 - val_loss: 0.3338 - val_accuracy: 0.9298\n",
            "Epoch 5/20\n",
            "16/16 [==============================] - 0s 12ms/step - loss: 0.3270 - accuracy: 0.9375 - val_loss: 0.2971 - val_accuracy: 0.9298\n",
            "Epoch 6/20\n",
            "16/16 [==============================] - 0s 12ms/step - loss: 0.2950 - accuracy: 0.9414 - val_loss: 0.2690 - val_accuracy: 0.9298\n",
            "Epoch 7/20\n",
            "16/16 [==============================] - 0s 10ms/step - loss: 0.2702 - accuracy: 0.9434 - val_loss: 0.2467 - val_accuracy: 0.9123\n",
            "Epoch 8/20\n",
            "16/16 [==============================] - 0s 11ms/step - loss: 0.2504 - accuracy: 0.9492 - val_loss: 0.2289 - val_accuracy: 0.9123\n",
            "Epoch 9/20\n",
            "16/16 [==============================] - 0s 13ms/step - loss: 0.2340 - accuracy: 0.9473 - val_loss: 0.2143 - val_accuracy: 0.9123\n",
            "Epoch 10/20\n",
            "16/16 [==============================] - 0s 10ms/step - loss: 0.2204 - accuracy: 0.9473 - val_loss: 0.2021 - val_accuracy: 0.9123\n",
            "Epoch 11/20\n",
            "16/16 [==============================] - 0s 8ms/step - loss: 0.2089 - accuracy: 0.9492 - val_loss: 0.1917 - val_accuracy: 0.9123\n",
            "Epoch 12/20\n",
            "16/16 [==============================] - 0s 8ms/step - loss: 0.1990 - accuracy: 0.9531 - val_loss: 0.1830 - val_accuracy: 0.9123\n",
            "Epoch 13/20\n",
            "16/16 [==============================] - 0s 13ms/step - loss: 0.1903 - accuracy: 0.9512 - val_loss: 0.1753 - val_accuracy: 0.9123\n",
            "Epoch 14/20\n",
            "16/16 [==============================] - 0s 8ms/step - loss: 0.1827 - accuracy: 0.9531 - val_loss: 0.1686 - val_accuracy: 0.9298\n",
            "Epoch 15/20\n",
            "16/16 [==============================] - 0s 15ms/step - loss: 0.1759 - accuracy: 0.9570 - val_loss: 0.1627 - val_accuracy: 0.9298\n",
            "Epoch 16/20\n",
            "16/16 [==============================] - 0s 19ms/step - loss: 0.1699 - accuracy: 0.9570 - val_loss: 0.1575 - val_accuracy: 0.9298\n",
            "Epoch 17/20\n",
            "16/16 [==============================] - 0s 11ms/step - loss: 0.1645 - accuracy: 0.9570 - val_loss: 0.1528 - val_accuracy: 0.9298\n",
            "Epoch 18/20\n",
            "16/16 [==============================] - 0s 23ms/step - loss: 0.1595 - accuracy: 0.9570 - val_loss: 0.1486 - val_accuracy: 0.9298\n",
            "Epoch 19/20\n",
            "16/16 [==============================] - 0s 10ms/step - loss: 0.1551 - accuracy: 0.9570 - val_loss: 0.1447 - val_accuracy: 0.9298\n",
            "Epoch 20/20\n",
            "16/16 [==============================] - 0s 14ms/step - loss: 0.1510 - accuracy: 0.9590 - val_loss: 0.1412 - val_accuracy: 0.9298\n"
          ]
        },
        {
          "data": {
            "text/plain": [
              "<keras.src.callbacks.History at 0x7fcc8da3fe80>"
            ]
          },
          "execution_count": 30,
          "metadata": {},
          "output_type": "execute_result"
        }
      ],
      "source": [
        "model.fit(X_train, y_train, validation_data=(X_test, y_test), epochs=20)"
      ]
    },
    {
      "cell_type": "code",
      "execution_count": null,
      "id": "bba5d6e6",
      "metadata": {
        "id": "bba5d6e6",
        "outputId": "085efa8f-de53-45e2-bd53-d81a73ed2ce3"
      },
      "outputs": [
        {
          "name": "stdout",
          "output_type": "stream",
          "text": [
            "2/2 [==============================] - 0s 150ms/step - loss: 0.1412 - accuracy: 0.9298\n",
            "Test accuracy: 92.98%\n",
            "Test loss: 0.14122320711612701\n"
          ]
        }
      ],
      "source": [
        "evalLoss, evalAccuracy = model.evaluate(X_test, y_test)\n",
        "print(f\"Test accuracy: {evalAccuracy * 100:.2f}%\")\n",
        "print(f\"Test loss: {evalLoss}\")"
      ]
    },
    {
      "cell_type": "code",
      "execution_count": null,
      "id": "a68f4ce1",
      "metadata": {
        "id": "a68f4ce1",
        "outputId": "223a6e78-dc68-494d-c779-0b77fa2cd5c6"
      },
      "outputs": [
        {
          "name": "stdout",
          "output_type": "stream",
          "text": [
            "2/2 [==============================] - 0s 15ms/step\n"
          ]
        }
      ],
      "source": [
        "ypred = model.predict(X_test)"
      ]
    },
    {
      "cell_type": "code",
      "execution_count": null,
      "id": "50d608da",
      "metadata": {
        "id": "50d608da",
        "outputId": "d259d007-8e49-4867-8181-811b1f68e7c4"
      },
      "outputs": [
        {
          "data": {
            "text/plain": [
              "array([1, 1, 1, 1, 0, 1, 1, 1, 1, 1, 1, 0, 1, 1, 1, 1, 1, 1, 0, 1, 1, 1,\n",
              "       1, 1, 1, 1, 1, 0, 0, 1, 0, 1, 1, 1, 1, 1, 1, 1, 0, 0, 0, 1, 1, 0,\n",
              "       1, 1, 0, 0, 0, 1, 0, 1, 1, 0, 0, 1, 1])"
            ]
          },
          "execution_count": 33,
          "metadata": {},
          "output_type": "execute_result"
        }
      ],
      "source": [
        "y_test"
      ]
    },
    {
      "cell_type": "code",
      "execution_count": null,
      "id": "4032775d",
      "metadata": {
        "id": "4032775d",
        "outputId": "acb921c3-52fe-44ea-a8dd-0b957d996920"
      },
      "outputs": [
        {
          "data": {
            "text/plain": [
              "array([[0.9396039 ],\n",
              "       [0.6976157 ],\n",
              "       [0.93362194],\n",
              "       [0.9936764 ],\n",
              "       [0.14878754],\n",
              "       [0.88138175],\n",
              "       [0.89296347],\n",
              "       [0.9728021 ],\n",
              "       [0.9888247 ],\n",
              "       [0.9746109 ],\n",
              "       [0.9368207 ],\n",
              "       [0.03454762],\n",
              "       [0.9825936 ],\n",
              "       [0.53156424],\n",
              "       [0.99039257],\n",
              "       [0.9101963 ],\n",
              "       [0.97110873],\n",
              "       [0.9947013 ],\n",
              "       [0.00521903],\n",
              "       [0.8801752 ],\n",
              "       [0.96638703],\n",
              "       [0.96492904],\n",
              "       [0.80236775],\n",
              "       [0.81583077],\n",
              "       [0.95389026],\n",
              "       [0.99504036],\n",
              "       [0.87772155],\n",
              "       [0.01032086],\n",
              "       [0.0209461 ],\n",
              "       [0.95171183],\n",
              "       [0.5567143 ],\n",
              "       [0.9951553 ],\n",
              "       [0.9144548 ],\n",
              "       [0.9624352 ],\n",
              "       [0.93751866],\n",
              "       [0.91477245],\n",
              "       [0.98687154],\n",
              "       [0.9955115 ],\n",
              "       [0.09498243],\n",
              "       [0.01621003],\n",
              "       [0.01129021],\n",
              "       [0.9620967 ],\n",
              "       [0.96028286],\n",
              "       [0.05740355],\n",
              "       [0.8148052 ],\n",
              "       [0.3994813 ],\n",
              "       [0.5054073 ],\n",
              "       [0.68967545],\n",
              "       [0.2281225 ],\n",
              "       [0.9522154 ],\n",
              "       [0.02041246],\n",
              "       [0.9376818 ],\n",
              "       [0.8188314 ],\n",
              "       [0.15573147],\n",
              "       [0.00974954],\n",
              "       [0.8927599 ],\n",
              "       [0.95717514]], dtype=float32)"
            ]
          },
          "execution_count": 34,
          "metadata": {},
          "output_type": "execute_result"
        }
      ],
      "source": [
        "ypred"
      ]
    },
    {
      "cell_type": "code",
      "execution_count": null,
      "id": "00257469",
      "metadata": {
        "id": "00257469"
      },
      "outputs": [],
      "source": [
        "classLabels = (ypred > 0.5).astype(int)"
      ]
    },
    {
      "cell_type": "code",
      "execution_count": null,
      "id": "35c09c18",
      "metadata": {
        "id": "35c09c18",
        "outputId": "47f4fd82-d998-4cf9-9d7d-e71a8c10dac9"
      },
      "outputs": [
        {
          "data": {
            "text/plain": [
              "array([1, 1, 1, 1, 0, 1, 1, 1, 1, 1, 1, 0, 1, 1, 1, 1, 1, 1, 0, 1, 1, 1,\n",
              "       1, 1, 1, 1, 1, 0, 0, 1, 1, 1, 1, 1, 1, 1, 1, 1, 0, 0, 0, 1, 1, 0,\n",
              "       1, 0, 1, 1, 0, 1, 0, 1, 1, 0, 0, 1, 1])"
            ]
          },
          "execution_count": 36,
          "metadata": {},
          "output_type": "execute_result"
        }
      ],
      "source": [
        "classLabels.flatten()"
      ]
    },
    {
      "cell_type": "code",
      "execution_count": null,
      "id": "d2e7f2a8",
      "metadata": {
        "id": "d2e7f2a8"
      },
      "outputs": [],
      "source": [
        "from sklearn.metrics import classification_report"
      ]
    },
    {
      "cell_type": "code",
      "execution_count": null,
      "id": "58fe0f38",
      "metadata": {
        "id": "58fe0f38",
        "outputId": "228c5ecd-fc5e-4dd2-8d71-c1ca085bf9a7"
      },
      "outputs": [
        {
          "name": "stdout",
          "output_type": "stream",
          "text": [
            "              precision    recall  f1-score   support\n",
            "\n",
            "           0       0.93      0.81      0.87        16\n",
            "           1       0.93      0.98      0.95        41\n",
            "\n",
            "    accuracy                           0.93        57\n",
            "   macro avg       0.93      0.89      0.91        57\n",
            "weighted avg       0.93      0.93      0.93        57\n",
            "\n"
          ]
        }
      ],
      "source": [
        "print(classification_report(y_test, classLabels))"
      ]
    },
    {
      "cell_type": "markdown",
      "id": "9f746eb2",
      "metadata": {
        "id": "9f746eb2"
      },
      "source": [
        "### Simple Neural Network - Regression"
      ]
    },
    {
      "cell_type": "code",
      "execution_count": null,
      "id": "71a1c4e9",
      "metadata": {
        "id": "71a1c4e9"
      },
      "outputs": [],
      "source": [
        "import tensorflow as tf\n",
        "\n",
        "from tensorflow.keras.models import Sequential\n",
        "from tensorflow.keras.layers import Dense\n",
        "\n",
        "from sklearn.datasets import fetch_california_housing\n",
        "from sklearn.model_selection import train_test_split\n",
        "\n",
        "from sklearn.preprocessing import StandardScaler"
      ]
    },
    {
      "cell_type": "code",
      "execution_count": null,
      "id": "fc5dbb3e",
      "metadata": {
        "id": "fc5dbb3e"
      },
      "outputs": [],
      "source": [
        "housing = fetch_california_housing()"
      ]
    },
    {
      "cell_type": "code",
      "execution_count": null,
      "id": "0c73c47f",
      "metadata": {
        "id": "0c73c47f"
      },
      "outputs": [],
      "source": [
        "X, y = housing.data, housing.target"
      ]
    },
    {
      "cell_type": "code",
      "execution_count": null,
      "id": "b2c7f1ae",
      "metadata": {
        "id": "b2c7f1ae",
        "outputId": "dd84e0a3-041d-41ec-d4be-d9376a8bfc18"
      },
      "outputs": [
        {
          "data": {
            "text/plain": [
              "(20640, 8)"
            ]
          },
          "execution_count": 70,
          "metadata": {},
          "output_type": "execute_result"
        }
      ],
      "source": [
        "X.shape"
      ]
    },
    {
      "cell_type": "code",
      "execution_count": null,
      "id": "a5f60866",
      "metadata": {
        "id": "a5f60866"
      },
      "outputs": [],
      "source": [
        "X_train, X_test, y_train, y_test = train_test_split(X, y, test_size=0.2, random_state=3)"
      ]
    },
    {
      "cell_type": "code",
      "execution_count": null,
      "id": "405425f1",
      "metadata": {
        "id": "405425f1"
      },
      "outputs": [],
      "source": [
        "scaler = StandardScaler()\n",
        "X_train_scaled = scaler.fit_transform(X_train)\n",
        "X_test_scaled = scaler.transform(X_test)"
      ]
    },
    {
      "cell_type": "code",
      "execution_count": null,
      "id": "c6f1ab73",
      "metadata": {
        "id": "c6f1ab73"
      },
      "outputs": [],
      "source": [
        "model = Sequential()\n",
        "model.add(Dense(16, input_dim=X.shape[1], activation=\"relu\"))\n",
        "model.add(Dense(1))"
      ]
    },
    {
      "cell_type": "code",
      "execution_count": null,
      "id": "ff085671",
      "metadata": {
        "id": "ff085671"
      },
      "outputs": [],
      "source": [
        "model.compile(optimizer=\"SGD\", loss=\"mean_squared_error\", metrics=[\"mse\"])"
      ]
    },
    {
      "cell_type": "code",
      "execution_count": null,
      "id": "a27fc057",
      "metadata": {
        "id": "a27fc057",
        "outputId": "61b701b1-f4e8-447e-a1e6-188d07715750"
      },
      "outputs": [
        {
          "name": "stdout",
          "output_type": "stream",
          "text": [
            "Model: \"sequential_10\"\n",
            "_________________________________________________________________\n",
            " Layer (type)                Output Shape              Param #   \n",
            "=================================================================\n",
            " dense_20 (Dense)            (None, 16)                144       \n",
            "                                                                 \n",
            " dense_21 (Dense)            (None, 1)                 17        \n",
            "                                                                 \n",
            "=================================================================\n",
            "Total params: 161 (644.00 Byte)\n",
            "Trainable params: 161 (644.00 Byte)\n",
            "Non-trainable params: 0 (0.00 Byte)\n",
            "_________________________________________________________________\n"
          ]
        }
      ],
      "source": [
        "model.summary()"
      ]
    },
    {
      "cell_type": "code",
      "execution_count": null,
      "id": "c689f69d",
      "metadata": {
        "id": "c689f69d",
        "outputId": "d9e83a1e-aeb5-48f8-8010-7d8c84fda4de"
      },
      "outputs": [
        {
          "name": "stdout",
          "output_type": "stream",
          "text": [
            "Epoch 1/20\n",
            "516/516 [==============================] - 9s 13ms/step - loss: 0.7422 - mse: 0.7422 - val_loss: 0.5215 - val_mse: 0.5215\n",
            "Epoch 2/20\n",
            "516/516 [==============================] - 5s 10ms/step - loss: 0.4999 - mse: 0.4999 - val_loss: 0.4735 - val_mse: 0.4735\n",
            "Epoch 3/20\n",
            "516/516 [==============================] - 4s 7ms/step - loss: 0.4699 - mse: 0.4699 - val_loss: 0.4475 - val_mse: 0.4475\n",
            "Epoch 4/20\n",
            "516/516 [==============================] - 3s 5ms/step - loss: 0.4495 - mse: 0.4495 - val_loss: 0.4384 - val_mse: 0.4384\n",
            "Epoch 5/20\n",
            "516/516 [==============================] - 3s 6ms/step - loss: 0.4385 - mse: 0.4385 - val_loss: 0.4220 - val_mse: 0.4220\n",
            "Epoch 6/20\n",
            "516/516 [==============================] - 4s 8ms/step - loss: 0.4305 - mse: 0.4305 - val_loss: 0.4104 - val_mse: 0.4104\n",
            "Epoch 7/20\n",
            "516/516 [==============================] - 4s 8ms/step - loss: 0.4197 - mse: 0.4197 - val_loss: 0.4043 - val_mse: 0.4043\n",
            "Epoch 8/20\n",
            "516/516 [==============================] - 5s 9ms/step - loss: 0.4200 - mse: 0.4200 - val_loss: 0.3926 - val_mse: 0.3926\n",
            "Epoch 9/20\n",
            "516/516 [==============================] - 6s 11ms/step - loss: 0.4104 - mse: 0.4104 - val_loss: 0.3867 - val_mse: 0.3867\n",
            "Epoch 10/20\n",
            "516/516 [==============================] - 7s 13ms/step - loss: 0.4024 - mse: 0.4024 - val_loss: 0.3925 - val_mse: 0.3925\n",
            "Epoch 11/20\n",
            "516/516 [==============================] - 8s 15ms/step - loss: 0.4162 - mse: 0.4162 - val_loss: 0.3911 - val_mse: 0.3911\n",
            "Epoch 12/20\n",
            "516/516 [==============================] - 7s 14ms/step - loss: 0.4170 - mse: 0.4170 - val_loss: 0.3803 - val_mse: 0.3803\n",
            "Epoch 13/20\n",
            "516/516 [==============================] - 3s 7ms/step - loss: 0.4219 - mse: 0.4219 - val_loss: 0.3790 - val_mse: 0.3790\n",
            "Epoch 14/20\n",
            "516/516 [==============================] - 3s 6ms/step - loss: 0.3925 - mse: 0.3925 - val_loss: 0.3696 - val_mse: 0.3696\n",
            "Epoch 15/20\n",
            "516/516 [==============================] - 3s 6ms/step - loss: 0.3851 - mse: 0.3851 - val_loss: 0.6144 - val_mse: 0.6144\n",
            "Epoch 16/20\n",
            "516/516 [==============================] - 4s 8ms/step - loss: 0.3861 - mse: 0.3861 - val_loss: 0.3793 - val_mse: 0.3793\n",
            "Epoch 17/20\n",
            "516/516 [==============================] - 2s 4ms/step - loss: 0.3774 - mse: 0.3774 - val_loss: 0.3710 - val_mse: 0.3710\n",
            "Epoch 18/20\n",
            "516/516 [==============================] - 2s 4ms/step - loss: 0.3719 - mse: 0.3719 - val_loss: 0.3632 - val_mse: 0.3632\n",
            "Epoch 19/20\n",
            "516/516 [==============================] - 2s 4ms/step - loss: 0.3714 - mse: 0.3714 - val_loss: 0.3545 - val_mse: 0.3545\n",
            "Epoch 20/20\n",
            "516/516 [==============================] - 2s 4ms/step - loss: 0.3714 - mse: 0.3714 - val_loss: 0.3547 - val_mse: 0.3547\n"
          ]
        },
        {
          "data": {
            "text/plain": [
              "<keras.src.callbacks.History at 0x7fbeb67389d0>"
            ]
          },
          "execution_count": 77,
          "metadata": {},
          "output_type": "execute_result"
        }
      ],
      "source": [
        "model.fit(X_train_scaled, y_train, validation_data=(X_test_scaled, y_test), epochs=20)"
      ]
    },
    {
      "cell_type": "code",
      "execution_count": null,
      "id": "95a84c80",
      "metadata": {
        "id": "95a84c80",
        "outputId": "7698f86d-101c-4cb1-ae5d-cdfdb4cc4306"
      },
      "outputs": [
        {
          "name": "stdout",
          "output_type": "stream",
          "text": [
            "129/129 [==============================] - 2s 17ms/step - loss: 0.3547 - mse: 0.3547\n",
            "Test mean squared error is 0.35468506813049316\n"
          ]
        }
      ],
      "source": [
        "loss, mse = model.evaluate(X_test_scaled, y_test)\n",
        "print(\"Test mean squared error is\", mse)"
      ]
    },
    {
      "cell_type": "code",
      "execution_count": null,
      "id": "2bd75f82",
      "metadata": {
        "id": "2bd75f82",
        "outputId": "ca4f9f36-e42c-4db1-b623-1b7fecf15cee"
      },
      "outputs": [
        {
          "name": "stdout",
          "output_type": "stream",
          "text": [
            "129/129 [==============================] - 2s 10ms/step\n"
          ]
        }
      ],
      "source": [
        "ypred = model.predict(X_test_scaled)"
      ]
    },
    {
      "cell_type": "code",
      "execution_count": null,
      "id": "4b43e717",
      "metadata": {
        "id": "4b43e717",
        "outputId": "aa6d1176-601d-4e62-e2ba-88888cb13460"
      },
      "outputs": [
        {
          "data": {
            "text/plain": [
              "array([1.538969 , 1.0149635, 2.0436354, 1.5530512, 2.5255246, 2.1764977,\n",
              "       2.5821807, 4.607812 , 1.2550735, 2.6576195, 2.3513737, 1.3178887,\n",
              "       2.5665042, 3.1994665, 2.1002488], dtype=float32)"
            ]
          },
          "execution_count": 83,
          "metadata": {},
          "output_type": "execute_result"
        }
      ],
      "source": [
        "ypred.flatten()[:15]"
      ]
    },
    {
      "cell_type": "code",
      "execution_count": null,
      "id": "ee757c44",
      "metadata": {
        "id": "ee757c44",
        "outputId": "c1ee713d-c3a4-480e-8e94-351de7726760"
      },
      "outputs": [
        {
          "data": {
            "text/plain": [
              "array([1.188  , 1.188  , 2.133  , 1.903  , 1.598  , 1.845  , 2.141  ,\n",
              "       5.00001, 1.013  , 1.878  , 4.125  , 0.985  , 1.698  , 3.405  ,\n",
              "       2.664  ])"
            ]
          },
          "execution_count": 84,
          "metadata": {},
          "output_type": "execute_result"
        }
      ],
      "source": [
        "y_test[:15]"
      ]
    },
    {
      "cell_type": "markdown",
      "id": "247cf43c",
      "metadata": {
        "id": "247cf43c"
      },
      "source": [
        "### Simple Neural Network - Multi Classification"
      ]
    },
    {
      "cell_type": "code",
      "execution_count": null,
      "id": "8c172339",
      "metadata": {
        "id": "8c172339"
      },
      "outputs": [],
      "source": [
        "from sklearn.datasets import load_iris"
      ]
    },
    {
      "cell_type": "code",
      "execution_count": null,
      "id": "5a24af9c",
      "metadata": {
        "id": "5a24af9c"
      },
      "outputs": [],
      "source": [
        "dataset = load_iris()"
      ]
    },
    {
      "cell_type": "code",
      "execution_count": null,
      "id": "190cbaec",
      "metadata": {
        "id": "190cbaec"
      },
      "outputs": [],
      "source": [
        "X,y = dataset.data, dataset.target"
      ]
    },
    {
      "cell_type": "code",
      "execution_count": null,
      "id": "e52569ba",
      "metadata": {
        "id": "e52569ba",
        "outputId": "cf2cec7f-717b-4a0d-9304-dd64028fd74e"
      },
      "outputs": [
        {
          "data": {
            "text/plain": [
              "(150, 4)"
            ]
          },
          "execution_count": 89,
          "metadata": {},
          "output_type": "execute_result"
        }
      ],
      "source": [
        "X.shape"
      ]
    },
    {
      "cell_type": "code",
      "execution_count": null,
      "id": "fa8e269a",
      "metadata": {
        "id": "fa8e269a"
      },
      "outputs": [],
      "source": [
        "X_train, X_test, y_train, y_test = train_test_split(X, y, test_size=0.1, random_state=3)"
      ]
    },
    {
      "cell_type": "code",
      "execution_count": null,
      "id": "3288dbbb",
      "metadata": {
        "id": "3288dbbb"
      },
      "outputs": [],
      "source": [
        "scaler = StandardScaler()\n",
        "X_train_scaled = scaler.fit_transform(X_train)\n",
        "X_test_scaled = scaler.transform(X_test)"
      ]
    },
    {
      "cell_type": "code",
      "execution_count": null,
      "id": "f69b4148",
      "metadata": {
        "id": "f69b4148",
        "outputId": "8d9f420c-b248-4894-e3aa-1bf30f38cbb0"
      },
      "outputs": [
        {
          "data": {
            "text/plain": [
              "3"
            ]
          },
          "execution_count": 93,
          "metadata": {},
          "output_type": "execute_result"
        }
      ],
      "source": [
        "len(dataset.target_names)"
      ]
    },
    {
      "cell_type": "code",
      "execution_count": null,
      "id": "f3f8816f",
      "metadata": {
        "id": "f3f8816f"
      },
      "outputs": [],
      "source": [
        "model = Sequential()\n",
        "model.add(Dense(16, input_dim=X.shape[1], activation=\"relu\"))\n",
        "model.add(Dense(len(dataset.target_names), activation=\"softmax\"))"
      ]
    },
    {
      "cell_type": "code",
      "execution_count": null,
      "id": "0841519f",
      "metadata": {
        "id": "0841519f"
      },
      "outputs": [],
      "source": [
        "model.compile(optimizer=\"SGD\", loss=\"sparse_categorical_crossentropy\", metrics=[\"accuracy\"])"
      ]
    },
    {
      "cell_type": "code",
      "execution_count": null,
      "id": "c115432a",
      "metadata": {
        "id": "c115432a",
        "outputId": "b066f444-bb33-4656-e27c-572491cb4c1e"
      },
      "outputs": [
        {
          "name": "stdout",
          "output_type": "stream",
          "text": [
            "Model: \"sequential_11\"\n",
            "_________________________________________________________________\n",
            " Layer (type)                Output Shape              Param #   \n",
            "=================================================================\n",
            " dense_22 (Dense)            (None, 16)                80        \n",
            "                                                                 \n",
            " dense_23 (Dense)            (None, 3)                 51        \n",
            "                                                                 \n",
            "=================================================================\n",
            "Total params: 131 (524.00 Byte)\n",
            "Trainable params: 131 (524.00 Byte)\n",
            "Non-trainable params: 0 (0.00 Byte)\n",
            "_________________________________________________________________\n"
          ]
        }
      ],
      "source": [
        "model.summary()"
      ]
    },
    {
      "cell_type": "code",
      "execution_count": null,
      "id": "02bec70c",
      "metadata": {
        "id": "02bec70c",
        "outputId": "f23dbef7-339a-4ad1-8708-6f7af85019ca"
      },
      "outputs": [
        {
          "name": "stdout",
          "output_type": "stream",
          "text": [
            "Epoch 1/20\n",
            "5/5 [==============================] - 4s 315ms/step - loss: 1.0333 - accuracy: 0.4148 - val_loss: 1.0649 - val_accuracy: 0.5333\n",
            "Epoch 2/20\n",
            "5/5 [==============================] - 0s 41ms/step - loss: 0.9818 - accuracy: 0.4667 - val_loss: 1.0075 - val_accuracy: 0.6667\n",
            "Epoch 3/20\n",
            "5/5 [==============================] - 0s 67ms/step - loss: 0.9395 - accuracy: 0.5185 - val_loss: 0.9422 - val_accuracy: 0.6000\n",
            "Epoch 4/20\n",
            "5/5 [==============================] - 0s 49ms/step - loss: 0.8929 - accuracy: 0.5926 - val_loss: 0.8946 - val_accuracy: 0.6000\n",
            "Epoch 5/20\n",
            "5/5 [==============================] - 0s 49ms/step - loss: 0.8580 - accuracy: 0.6000 - val_loss: 0.8502 - val_accuracy: 0.6000\n",
            "Epoch 6/20\n",
            "5/5 [==============================] - 0s 59ms/step - loss: 0.8256 - accuracy: 0.6000 - val_loss: 0.8039 - val_accuracy: 0.6000\n",
            "Epoch 7/20\n",
            "5/5 [==============================] - 0s 61ms/step - loss: 0.7929 - accuracy: 0.6519 - val_loss: 0.7705 - val_accuracy: 0.6000\n",
            "Epoch 8/20\n",
            "5/5 [==============================] - 0s 64ms/step - loss: 0.7674 - accuracy: 0.6593 - val_loss: 0.7392 - val_accuracy: 0.6000\n",
            "Epoch 9/20\n",
            "5/5 [==============================] - 0s 51ms/step - loss: 0.7444 - accuracy: 0.6889 - val_loss: 0.7081 - val_accuracy: 0.6000\n",
            "Epoch 10/20\n",
            "5/5 [==============================] - 0s 44ms/step - loss: 0.7219 - accuracy: 0.6963 - val_loss: 0.6834 - val_accuracy: 0.6667\n",
            "Epoch 11/20\n",
            "5/5 [==============================] - 0s 57ms/step - loss: 0.7044 - accuracy: 0.7111 - val_loss: 0.6580 - val_accuracy: 0.6667\n",
            "Epoch 12/20\n",
            "5/5 [==============================] - 0s 64ms/step - loss: 0.6870 - accuracy: 0.7111 - val_loss: 0.6342 - val_accuracy: 0.6667\n",
            "Epoch 13/20\n",
            "5/5 [==============================] - 0s 61ms/step - loss: 0.6714 - accuracy: 0.7111 - val_loss: 0.6139 - val_accuracy: 0.6667\n",
            "Epoch 14/20\n",
            "5/5 [==============================] - 0s 64ms/step - loss: 0.6579 - accuracy: 0.7037 - val_loss: 0.5968 - val_accuracy: 0.6667\n",
            "Epoch 15/20\n",
            "5/5 [==============================] - 0s 70ms/step - loss: 0.6461 - accuracy: 0.7037 - val_loss: 0.5806 - val_accuracy: 0.6667\n",
            "Epoch 16/20\n",
            "5/5 [==============================] - 0s 52ms/step - loss: 0.6348 - accuracy: 0.7111 - val_loss: 0.5649 - val_accuracy: 0.7333\n",
            "Epoch 17/20\n",
            "5/5 [==============================] - 0s 43ms/step - loss: 0.6238 - accuracy: 0.7185 - val_loss: 0.5509 - val_accuracy: 0.8000\n",
            "Epoch 18/20\n",
            "5/5 [==============================] - 0s 51ms/step - loss: 0.6142 - accuracy: 0.7407 - val_loss: 0.5373 - val_accuracy: 0.8000\n",
            "Epoch 19/20\n",
            "5/5 [==============================] - 0s 51ms/step - loss: 0.6050 - accuracy: 0.7407 - val_loss: 0.5250 - val_accuracy: 0.8000\n",
            "Epoch 20/20\n",
            "5/5 [==============================] - 0s 56ms/step - loss: 0.5964 - accuracy: 0.7481 - val_loss: 0.5136 - val_accuracy: 0.8000\n"
          ]
        },
        {
          "data": {
            "text/plain": [
              "<keras.src.callbacks.History at 0x7fbeb6780ac0>"
            ]
          },
          "execution_count": 97,
          "metadata": {},
          "output_type": "execute_result"
        }
      ],
      "source": [
        "model.fit(X_train_scaled, y_train, validation_data=(X_test_scaled, y_test), epochs=20)"
      ]
    },
    {
      "cell_type": "code",
      "execution_count": null,
      "id": "eb8c22d2",
      "metadata": {
        "id": "eb8c22d2",
        "outputId": "2e51d460-e599-4745-e7cb-ddc098325db9"
      },
      "outputs": [
        {
          "name": "stdout",
          "output_type": "stream",
          "text": [
            "1/1 [==============================] - 0s 149ms/step - loss: 0.5136 - accuracy: 0.8000\n",
            "Test accuracy: 80.00%\n",
            "Test loss: 0.5135704874992371\n"
          ]
        }
      ],
      "source": [
        "evalLoss, evalAccuracy = model.evaluate(X_test_scaled, y_test)\n",
        "print(f\"Test accuracy: {evalAccuracy * 100:.2f}%\")\n",
        "print(f\"Test loss: {evalLoss}\")"
      ]
    },
    {
      "cell_type": "code",
      "execution_count": null,
      "id": "ddd5d7ce",
      "metadata": {
        "id": "ddd5d7ce",
        "outputId": "9790e93b-6184-49b2-9351-0b33f4e9dd0a"
      },
      "outputs": [
        {
          "name": "stdout",
          "output_type": "stream",
          "text": [
            "1/1 [==============================] - 0s 258ms/step\n"
          ]
        }
      ],
      "source": [
        "ypred = model.predict(X_test_scaled)"
      ]
    },
    {
      "cell_type": "code",
      "execution_count": null,
      "id": "f26143bf",
      "metadata": {
        "id": "f26143bf"
      },
      "outputs": [],
      "source": [
        "import numpy as np"
      ]
    },
    {
      "cell_type": "code",
      "execution_count": null,
      "id": "f81fa1b6",
      "metadata": {
        "id": "f81fa1b6"
      },
      "outputs": [],
      "source": [
        "y_pred = np.argmax(ypred, axis=1)"
      ]
    },
    {
      "cell_type": "code",
      "execution_count": null,
      "id": "83356b92",
      "metadata": {
        "id": "83356b92",
        "outputId": "2caab7f8-7799-45ac-f607-f738f2ea605b"
      },
      "outputs": [
        {
          "data": {
            "text/plain": [
              "array([0, 0, 0, 0, 0, 2, 1, 0, 2, 1, 1, 0, 1, 1, 2])"
            ]
          },
          "execution_count": 104,
          "metadata": {},
          "output_type": "execute_result"
        }
      ],
      "source": [
        "y_test"
      ]
    },
    {
      "cell_type": "code",
      "execution_count": null,
      "id": "da59621e",
      "metadata": {
        "id": "da59621e",
        "outputId": "4332b2e8-f6eb-4566-b164-09172f700408"
      },
      "outputs": [
        {
          "data": {
            "text/plain": [
              "array([0, 0, 0, 0, 0, 2, 0, 0, 2, 2, 1, 0, 1, 0, 2])"
            ]
          },
          "execution_count": 105,
          "metadata": {},
          "output_type": "execute_result"
        }
      ],
      "source": [
        "y_pred"
      ]
    },
    {
      "cell_type": "code",
      "execution_count": null,
      "id": "5cf04ae5",
      "metadata": {
        "id": "5cf04ae5",
        "outputId": "5048e651-1fb4-4d2b-cb2d-cbaadaafc254"
      },
      "outputs": [
        {
          "name": "stdout",
          "output_type": "stream",
          "text": [
            "              precision    recall  f1-score   support\n",
            "\n",
            "           0       0.78      1.00      0.88         7\n",
            "           1       1.00      0.40      0.57         5\n",
            "           2       0.75      1.00      0.86         3\n",
            "\n",
            "    accuracy                           0.80        15\n",
            "   macro avg       0.84      0.80      0.77        15\n",
            "weighted avg       0.85      0.80      0.77        15\n",
            "\n"
          ]
        }
      ],
      "source": [
        "from sklearn.metrics import classification_report\n",
        "\n",
        "print(classification_report(y_test, y_pred))"
      ]
    },
    {
      "cell_type": "markdown",
      "id": "3a8789e0",
      "metadata": {
        "id": "3a8789e0"
      },
      "source": [
        "### Multiclass Case with deep neural network"
      ]
    },
    {
      "cell_type": "code",
      "execution_count": null,
      "id": "6cbe2938",
      "metadata": {
        "id": "6cbe2938"
      },
      "outputs": [],
      "source": [
        "from tensorflow.keras.datasets import mnist"
      ]
    },
    {
      "cell_type": "code",
      "execution_count": null,
      "id": "84f577a1",
      "metadata": {
        "id": "84f577a1"
      },
      "outputs": [],
      "source": [
        "(X_train,y_train),(X_test,y_test) = mnist.load_data()"
      ]
    },
    {
      "cell_type": "code",
      "execution_count": null,
      "id": "6fd7f9cc",
      "metadata": {
        "id": "6fd7f9cc",
        "outputId": "398a29ec-6115-4099-eef7-99a55e22120f"
      },
      "outputs": [
        {
          "data": {
            "text/plain": [
              "((60000, 28, 28), (10000, 28, 28))"
            ]
          },
          "execution_count": 4,
          "metadata": {},
          "output_type": "execute_result"
        }
      ],
      "source": [
        "X_train.shape, X_test.shape"
      ]
    },
    {
      "cell_type": "code",
      "execution_count": null,
      "id": "cda7117f",
      "metadata": {
        "id": "cda7117f"
      },
      "outputs": [],
      "source": [
        "from matplotlib import pyplot as plt"
      ]
    },
    {
      "cell_type": "code",
      "execution_count": null,
      "id": "adefc4f2",
      "metadata": {
        "id": "adefc4f2",
        "outputId": "513b2823-7fa0-476b-b49e-67ce676898d7"
      },
      "outputs": [
        {
          "data": {
            "image/png": "[encoded data removed]",
            "text/plain": [
              "<Figure size 1000x800 with 9 Axes>"
            ]
          },
          "metadata": {},
          "output_type": "display_data"
        }
      ],
      "source": [
        "plt.figure(figsize=(10,8))\n",
        "for i in range(9):\n",
        "    plt.subplot(3,3,i+1)\n",
        "    plt.imshow(X_train[i], cmap='gray')\n",
        "    plt.title(f\"Label: {y_train[i]}\")\n",
        "    plt.axis('off')\n",
        "plt.show()"
      ]
    },
    {
      "cell_type": "code",
      "execution_count": null,
      "id": "0e11a9a5",
      "metadata": {
        "id": "0e11a9a5"
      },
      "outputs": [],
      "source": [
        "X_train = X_train.reshape(X_train.shape[0], 28 * 28)\n",
        "X_test = X_test.reshape(X_test.shape[0], 28 * 28)"
      ]
    },
    {
      "cell_type": "code",
      "execution_count": null,
      "id": "dd26b4f9",
      "metadata": {
        "id": "dd26b4f9",
        "outputId": "6e13a288-c1cf-4c37-d844-0cd90c7cf7b0"
      },
      "outputs": [
        {
          "data": {
            "text/plain": [
              "((10000, 784), (60000, 784))"
            ]
          },
          "execution_count": 8,
          "metadata": {},
          "output_type": "execute_result"
        }
      ],
      "source": [
        "X_test.shape, X_train.shape"
      ]
    },
    {
      "cell_type": "code",
      "execution_count": null,
      "id": "0926dc7f",
      "metadata": {
        "id": "0926dc7f"
      },
      "outputs": [],
      "source": [
        "scaler = StandardScaler()"
      ]
    },
    {
      "cell_type": "code",
      "execution_count": null,
      "id": "b3ac5560",
      "metadata": {
        "id": "b3ac5560"
      },
      "outputs": [],
      "source": [
        "X_train_scaled = scaler.fit_transform(X_train)\n",
        "X_test_scaled = scaler.transform(X_test)"
      ]
    },
    {
      "cell_type": "code",
      "execution_count": null,
      "id": "676baabc",
      "metadata": {
        "id": "676baabc",
        "outputId": "a0f2eb8e-1a9f-4ffd-bf2f-dcd6df3e1235"
      },
      "outputs": [
        {
          "data": {
            "text/plain": [
              "10"
            ]
          },
          "execution_count": 12,
          "metadata": {},
          "output_type": "execute_result"
        }
      ],
      "source": [
        "len(set(y_train))"
      ]
    },
    {
      "cell_type": "code",
      "execution_count": null,
      "id": "63bcfb4e",
      "metadata": {
        "id": "63bcfb4e"
      },
      "outputs": [],
      "source": [
        "model = Sequential()\n",
        "model.add(Dense(64, input_dim=X_train.shape[1], activation=\"relu\"))\n",
        "model.add(Dense(32, activation=\"relu\"))\n",
        "model.add(Dense(16, activation=\"relu\"))\n",
        "model.add(Dense(len(set(y_train)), activation=\"softmax\"))"
      ]
    },
    {
      "cell_type": "code",
      "execution_count": null,
      "id": "a5b442eb",
      "metadata": {
        "id": "a5b442eb"
      },
      "outputs": [],
      "source": [
        "model.compile(optimizer=\"SGD\", loss=\"sparse_categorical_crossentropy\", metrics=[\"accuracy\"])"
      ]
    },
    {
      "cell_type": "code",
      "execution_count": null,
      "id": "ba7c1eb8",
      "metadata": {
        "id": "ba7c1eb8",
        "outputId": "db697580-68d3-483d-c82d-ed05845d7853"
      },
      "outputs": [
        {
          "name": "stdout",
          "output_type": "stream",
          "text": [
            "Model: \"sequential_13\"\n",
            "_________________________________________________________________\n",
            " Layer (type)                Output Shape              Param #   \n",
            "=================================================================\n",
            " dense_28 (Dense)            (None, 64)                50240     \n",
            "                                                                 \n",
            " dense_29 (Dense)            (None, 32)                2080      \n",
            "                                                                 \n",
            " dense_30 (Dense)            (None, 16)                528       \n",
            "                                                                 \n",
            " dense_31 (Dense)            (None, 10)                170       \n",
            "                                                                 \n",
            "=================================================================\n",
            "Total params: 53018 (207.10 KB)\n",
            "Trainable params: 53018 (207.10 KB)\n",
            "Non-trainable params: 0 (0.00 Byte)\n",
            "_________________________________________________________________\n"
          ]
        }
      ],
      "source": [
        "model.summary()"
      ]
    },
    {
      "cell_type": "code",
      "execution_count": null,
      "id": "d1f2d7c2",
      "metadata": {
        "id": "d1f2d7c2",
        "outputId": "2f23364b-d009-4589-ca49-043ba52e8315"
      },
      "outputs": [
        {
          "name": "stdout",
          "output_type": "stream",
          "text": [
            "Epoch 1/30\n",
            "1875/1875 [==============================] - 33s 17ms/step - loss: 0.0057 - accuracy: 0.9995 - val_loss: 0.2145 - val_accuracy: 0.9662\n",
            "Epoch 2/30\n",
            "1875/1875 [==============================] - 27s 15ms/step - loss: 0.0051 - accuracy: 0.9996 - val_loss: 0.2191 - val_accuracy: 0.9657\n",
            "Epoch 3/30\n",
            "1875/1875 [==============================] - 28s 15ms/step - loss: 0.0046 - accuracy: 0.9996 - val_loss: 0.2221 - val_accuracy: 0.9662\n",
            "Epoch 4/30\n",
            "1875/1875 [==============================] - 28s 15ms/step - loss: 0.0044 - accuracy: 0.9997 - val_loss: 0.2254 - val_accuracy: 0.9662\n",
            "Epoch 5/30\n",
            "1875/1875 [==============================] - 29s 16ms/step - loss: 0.0037 - accuracy: 0.9998 - val_loss: 0.2276 - val_accuracy: 0.9664\n",
            "Epoch 6/30\n",
            "1875/1875 [==============================] - 30s 16ms/step - loss: 0.0034 - accuracy: 0.9998 - val_loss: 0.2295 - val_accuracy: 0.9656\n",
            "Epoch 7/30\n",
            "1875/1875 [==============================] - 29s 15ms/step - loss: 0.0035 - accuracy: 0.9999 - val_loss: 0.2337 - val_accuracy: 0.9661\n",
            "Epoch 8/30\n",
            "1875/1875 [==============================] - 29s 15ms/step - loss: 0.0029 - accuracy: 0.9998 - val_loss: 0.2348 - val_accuracy: 0.9665\n",
            "Epoch 9/30\n",
            "1875/1875 [==============================] - 15s 8ms/step - loss: 0.0032 - accuracy: 0.9999 - val_loss: 0.2378 - val_accuracy: 0.9662\n",
            "Epoch 10/30\n",
            "1875/1875 [==============================] - 9s 5ms/step - loss: 0.0023 - accuracy: 0.9999 - val_loss: 0.2403 - val_accuracy: 0.9665\n",
            "Epoch 11/30\n",
            "1875/1875 [==============================] - 9s 5ms/step - loss: 0.0024 - accuracy: 0.9999 - val_loss: 0.2410 - val_accuracy: 0.9656\n",
            "Epoch 12/30\n",
            "1875/1875 [==============================] - 9s 5ms/step - loss: 0.0022 - accuracy: 0.9999 - val_loss: 0.2441 - val_accuracy: 0.9665\n",
            "Epoch 13/30\n",
            "1875/1875 [==============================] - 9s 5ms/step - loss: 0.0020 - accuracy: 1.0000 - val_loss: 0.2464 - val_accuracy: 0.9660\n",
            "Epoch 14/30\n",
            "1875/1875 [==============================] - 9s 5ms/step - loss: 0.0020 - accuracy: 0.9999 - val_loss: 0.2503 - val_accuracy: 0.9661\n",
            "Epoch 15/30\n",
            "1875/1875 [==============================] - 11s 6ms/step - loss: 0.0019 - accuracy: 0.9999 - val_loss: 0.2495 - val_accuracy: 0.9675\n",
            "Epoch 16/30\n",
            "1875/1875 [==============================] - 15s 8ms/step - loss: 0.0018 - accuracy: 0.9999 - val_loss: 0.2516 - val_accuracy: 0.9662\n",
            "Epoch 17/30\n",
            "1875/1875 [==============================] - 11s 6ms/step - loss: 0.0017 - accuracy: 0.9999 - val_loss: 0.2534 - val_accuracy: 0.9663\n",
            "Epoch 18/30\n",
            "1875/1875 [==============================] - 10s 5ms/step - loss: 0.0015 - accuracy: 1.0000 - val_loss: 0.2556 - val_accuracy: 0.9664\n",
            "Epoch 19/30\n",
            "1875/1875 [==============================] - 9s 5ms/step - loss: 0.0016 - accuracy: 1.0000 - val_loss: 0.2564 - val_accuracy: 0.9663\n",
            "Epoch 20/30\n",
            "1875/1875 [==============================] - 10s 5ms/step - loss: 0.0014 - accuracy: 1.0000 - val_loss: 0.2587 - val_accuracy: 0.9659\n",
            "Epoch 21/30\n",
            "1875/1875 [==============================] - 11s 6ms/step - loss: 0.0012 - accuracy: 1.0000 - val_loss: 0.2595 - val_accuracy: 0.9667\n",
            "Epoch 22/30\n",
            "1875/1875 [==============================] - 13s 7ms/step - loss: 0.0013 - accuracy: 1.0000 - val_loss: 0.2626 - val_accuracy: 0.9660\n",
            "Epoch 23/30\n",
            "1875/1875 [==============================] - 9s 5ms/step - loss: 0.0012 - accuracy: 1.0000 - val_loss: 0.2631 - val_accuracy: 0.9658\n",
            "Epoch 24/30\n",
            "1875/1875 [==============================] - 8s 4ms/step - loss: 0.0012 - accuracy: 1.0000 - val_loss: 0.2636 - val_accuracy: 0.9661\n",
            "Epoch 25/30\n",
            "1875/1875 [==============================] - 7s 4ms/step - loss: 0.0010 - accuracy: 1.0000 - val_loss: 0.2659 - val_accuracy: 0.9660\n",
            "Epoch 26/30\n",
            "1875/1875 [==============================] - 9s 5ms/step - loss: 0.0011 - accuracy: 1.0000 - val_loss: 0.2671 - val_accuracy: 0.9658\n",
            "Epoch 27/30\n",
            "1875/1875 [==============================] - 10s 5ms/step - loss: 9.5279e-04 - accuracy: 1.0000 - val_loss: 0.2692 - val_accuracy: 0.9659\n",
            "Epoch 28/30\n",
            "1875/1875 [==============================] - 10s 5ms/step - loss: 0.0011 - accuracy: 1.0000 - val_loss: 0.2697 - val_accuracy: 0.9661\n",
            "Epoch 29/30\n",
            "1875/1875 [==============================] - 8s 5ms/step - loss: 9.7364e-04 - accuracy: 1.0000 - val_loss: 0.2716 - val_accuracy: 0.9664\n",
            "Epoch 30/30\n",
            "1875/1875 [==============================] - 9s 5ms/step - loss: 8.6048e-04 - accuracy: 1.0000 - val_loss: 0.2731 - val_accuracy: 0.9663\n"
          ]
        }
      ],
      "source": [
        "history = model.fit(X_train_scaled, y_train, validation_data=(X_test_scaled, y_test), epochs=30)"
      ]
    },
    {
      "cell_type": "code",
      "execution_count": null,
      "id": "f4b46250",
      "metadata": {
        "id": "f4b46250",
        "outputId": "449043fc-5915-4a71-9a97-d3f20b91499f"
      },
      "outputs": [
        {
          "data": {
            "image/png": "[encoded data removed]",
            "text/plain": [
              "<Figure size 640x480 with 1 Axes>"
            ]
          },
          "metadata": {},
          "output_type": "display_data"
        }
      ],
      "source": [
        "plt.plot(history.history[\"loss\"], 'r')\n",
        "plt.plot(history.history[\"val_loss\"], 'g')\n",
        "plt.title(\"Model loss\")\n",
        "plt.xlabel(\"Epochs\")\n",
        "plt.ylabel(\"loss\")\n",
        "plt.legend([\"Train Loss\", \"Val Loss\"])\n",
        "plt.show()"
      ]
    },
    {
      "cell_type": "code",
      "execution_count": null,
      "id": "48bdebe6",
      "metadata": {
        "id": "48bdebe6",
        "outputId": "07e2eb13-f92f-431d-b9c0-421c27f20d7a"
      },
      "outputs": [
        {
          "data": {
            "image/png": "[encoded data removed]",
            "text/plain": [
              "<Figure size 640x480 with 1 Axes>"
            ]
          },
          "metadata": {},
          "output_type": "display_data"
        }
      ],
      "source": [
        "plt.plot(history.history[\"accuracy\"], 'r')\n",
        "plt.plot(history.history[\"val_accuracy\"], 'g')\n",
        "plt.title(\"Model accuracy\")\n",
        "plt.xlabel(\"Epochs\")\n",
        "plt.ylabel(\"Accuracy\")\n",
        "plt.show()"
      ]
    },
    {
      "cell_type": "code",
      "execution_count": null,
      "id": "7559a360",
      "metadata": {
        "scrolled": true,
        "id": "7559a360",
        "outputId": "e93dc2cf-38b9-4316-b71f-fa34da2ee1dc"
      },
      "outputs": [
        {
          "name": "stdout",
          "output_type": "stream",
          "text": [
            "313/313 [==============================] - 4s 14ms/step - loss: 0.2144 - accuracy: 0.9652\n",
            "Test accuracy: 96.52%\n",
            "Test loss: 0.21437636017799377\n"
          ]
        }
      ],
      "source": [
        "evalLoss, evalAccuracy = model.evaluate(X_test_scaled, y_test)\n",
        "print(f\"Test accuracy: {evalAccuracy * 100:.2f}%\")\n",
        "print(f\"Test loss: {evalLoss}\")"
      ]
    },
    {
      "cell_type": "code",
      "execution_count": null,
      "id": "d8998e6d",
      "metadata": {
        "id": "d8998e6d",
        "outputId": "ae05a93f-0b8f-4b29-ccb1-6d77524bd30f"
      },
      "outputs": [
        {
          "name": "stdout",
          "output_type": "stream",
          "text": [
            "313/313 [==============================] - 9s 22ms/step\n"
          ]
        }
      ],
      "source": [
        "ypred = model.predict(X_test_scaled)"
      ]
    },
    {
      "cell_type": "code",
      "execution_count": null,
      "id": "f574e328",
      "metadata": {
        "id": "f574e328",
        "outputId": "7ff6748f-3ade-4478-a917-57512935be2c"
      },
      "outputs": [
        {
          "data": {
            "text/plain": [
              "array([[2.5326269e-10, 2.9766031e-10, 4.6666437e-10, ..., 9.9999994e-01,\n",
              "        4.1796268e-14, 4.4416018e-10],\n",
              "       [3.8101363e-16, 4.9572136e-14, 9.9999994e-01, ..., 1.2309550e-15,\n",
              "        3.9808974e-16, 5.2211904e-22],\n",
              "       [3.5684554e-08, 9.9967599e-01, 3.0176514e-06, ..., 5.0041313e-06,\n",
              "        2.9799901e-04, 9.3760821e-10],\n",
              "       ...,\n",
              "       [1.6869358e-17, 5.8350762e-11, 3.4812446e-09, ..., 1.7285037e-08,\n",
              "        2.4421765e-10, 7.7459772e-09],\n",
              "       [4.1808678e-23, 2.0498190e-28, 2.1833076e-24, ..., 8.8305880e-32,\n",
              "        4.8247788e-11, 6.3233759e-23],\n",
              "       [1.5226875e-11, 1.8048962e-16, 1.8014834e-17, ..., 2.8986055e-19,\n",
              "        4.3267697e-14, 1.1305534e-15]], dtype=float32)"
            ]
          },
          "execution_count": 132,
          "metadata": {},
          "output_type": "execute_result"
        }
      ],
      "source": [
        "ypred"
      ]
    },
    {
      "cell_type": "code",
      "execution_count": null,
      "id": "a85859e4",
      "metadata": {
        "id": "a85859e4"
      },
      "outputs": [],
      "source": [
        "import numpy as np"
      ]
    },
    {
      "cell_type": "code",
      "execution_count": null,
      "id": "20bd5c75",
      "metadata": {
        "id": "20bd5c75"
      },
      "outputs": [],
      "source": [
        "y_pred = np.argmax(ypred, axis=1)"
      ]
    },
    {
      "cell_type": "code",
      "execution_count": null,
      "id": "b43e2a94",
      "metadata": {
        "id": "b43e2a94",
        "outputId": "26a5af33-8cf1-4f38-8dc7-1d075aa4d1ee"
      },
      "outputs": [
        {
          "data": {
            "text/plain": [
              "array([7, 2, 1, ..., 4, 5, 6], dtype=uint8)"
            ]
          },
          "execution_count": 135,
          "metadata": {},
          "output_type": "execute_result"
        }
      ],
      "source": [
        "y_test"
      ]
    },
    {
      "cell_type": "code",
      "execution_count": null,
      "id": "757f9073",
      "metadata": {
        "id": "757f9073",
        "outputId": "56db5d57-252c-40fa-a08d-ef87ec4374b6"
      },
      "outputs": [
        {
          "data": {
            "text/plain": [
              "array([7, 2, 1, ..., 4, 5, 6])"
            ]
          },
          "execution_count": 136,
          "metadata": {},
          "output_type": "execute_result"
        }
      ],
      "source": [
        "y_pred"
      ]
    },
    {
      "cell_type": "code",
      "execution_count": null,
      "id": "4599f433",
      "metadata": {
        "id": "4599f433",
        "outputId": "b68e92b7-2af1-4f2e-a170-09e2217da963"
      },
      "outputs": [
        {
          "name": "stdout",
          "output_type": "stream",
          "text": [
            "              precision    recall  f1-score   support\n",
            "\n",
            "           0       0.98      0.98      0.98       980\n",
            "           1       0.98      0.99      0.99      1135\n",
            "           2       0.96      0.96      0.96      1032\n",
            "           3       0.95      0.97      0.96      1010\n",
            "           4       0.96      0.97      0.97       982\n",
            "           5       0.96      0.95      0.96       892\n",
            "           6       0.97      0.97      0.97       958\n",
            "           7       0.97      0.96      0.97      1028\n",
            "           8       0.95      0.95      0.95       974\n",
            "           9       0.97      0.94      0.96      1009\n",
            "\n",
            "    accuracy                           0.97     10000\n",
            "   macro avg       0.96      0.96      0.96     10000\n",
            "weighted avg       0.97      0.97      0.97     10000\n",
            "\n"
          ]
        }
      ],
      "source": [
        "from sklearn.metrics import classification_report\n",
        "\n",
        "print(classification_report(y_test, y_pred))"
      ]
    },
    {
      "cell_type": "markdown",
      "id": "9a0d416c",
      "metadata": {
        "id": "9a0d416c"
      },
      "source": [
        "### Regularization"
      ]
    },
    {
      "cell_type": "code",
      "execution_count": null,
      "id": "4331f22f",
      "metadata": {
        "id": "4331f22f"
      },
      "outputs": [],
      "source": [
        "from tensorflow.keras.regularizers import l2"
      ]
    },
    {
      "cell_type": "code",
      "execution_count": null,
      "id": "5e01d660",
      "metadata": {
        "id": "5e01d660"
      },
      "outputs": [],
      "source": [
        "model = Sequential()\n",
        "model.add(Dense(64, input_dim=X_train.shape[1], activation=\"relu\", kernel_regularizer=l2(0.01)))\n",
        "model.add(Dense(32, activation=\"relu\", kernel_regularizer=l2(0.01)))\n",
        "model.add(Dense(16, activation=\"relu\", kernel_regularizer=l2(0.01)))\n",
        "model.add(Dense(len(set(y_train)), activation=\"softmax\"))"
      ]
    },
    {
      "cell_type": "code",
      "execution_count": null,
      "id": "467f22fc",
      "metadata": {
        "id": "467f22fc"
      },
      "outputs": [],
      "source": [
        "model.compile(optimizer=\"SGD\", loss=\"sparse_categorical_crossentropy\", metrics=[\"accuracy\"])"
      ]
    },
    {
      "cell_type": "code",
      "execution_count": null,
      "id": "4de3460f",
      "metadata": {
        "id": "4de3460f",
        "outputId": "bb17f847-0874-44c9-97d9-3b18794940ce"
      },
      "outputs": [
        {
          "name": "stdout",
          "output_type": "stream",
          "text": [
            "Model: \"sequential_15\"\n",
            "_________________________________________________________________\n",
            " Layer (type)                Output Shape              Param #   \n",
            "=================================================================\n",
            " dense_32 (Dense)            (None, 64)                50240     \n",
            "                                                                 \n",
            " dense_33 (Dense)            (None, 32)                2080      \n",
            "                                                                 \n",
            " dense_34 (Dense)            (None, 16)                528       \n",
            "                                                                 \n",
            " dense_35 (Dense)            (None, 10)                170       \n",
            "                                                                 \n",
            "=================================================================\n",
            "Total params: 53018 (207.10 KB)\n",
            "Trainable params: 53018 (207.10 KB)\n",
            "Non-trainable params: 0 (0.00 Byte)\n",
            "_________________________________________________________________\n"
          ]
        }
      ],
      "source": [
        "model.summary()"
      ]
    },
    {
      "cell_type": "code",
      "execution_count": null,
      "id": "e6cdfa8f",
      "metadata": {
        "id": "e6cdfa8f",
        "outputId": "6b224a44-acac-445a-ac56-1d3f89f78d02"
      },
      "outputs": [
        {
          "name": "stdout",
          "output_type": "stream",
          "text": [
            "Epoch 1/30\n",
            "1875/1875 [==============================] - 40s 19ms/step - loss: 2.0002 - accuracy: 0.8248 - val_loss: 1.3059 - val_accuracy: 0.9254\n",
            "Epoch 2/30\n",
            "1875/1875 [==============================] - 29s 15ms/step - loss: 1.0421 - accuracy: 0.9323 - val_loss: 0.8377 - val_accuracy: 0.9397\n",
            "Epoch 3/30\n",
            "1875/1875 [==============================] - 13s 7ms/step - loss: 0.7125 - accuracy: 0.9437 - val_loss: 0.6142 - val_accuracy: 0.9474\n",
            "Epoch 4/30\n",
            "1875/1875 [==============================] - 12s 7ms/step - loss: 0.5500 - accuracy: 0.9505 - val_loss: 0.5023 - val_accuracy: 0.9520\n",
            "Epoch 5/30\n",
            "1875/1875 [==============================] - 12s 6ms/step - loss: 0.4672 - accuracy: 0.9546 - val_loss: 0.4451 - val_accuracy: 0.9540\n",
            "Epoch 6/30\n",
            "1875/1875 [==============================] - 11s 6ms/step - loss: 0.4215 - accuracy: 0.9577 - val_loss: 0.4083 - val_accuracy: 0.9561\n",
            "Epoch 7/30\n",
            "1875/1875 [==============================] - 11s 6ms/step - loss: 0.3954 - accuracy: 0.9600 - val_loss: 0.3902 - val_accuracy: 0.9576\n",
            "Epoch 8/30\n",
            "1875/1875 [==============================] - 11s 6ms/step - loss: 0.3762 - accuracy: 0.9612 - val_loss: 0.3746 - val_accuracy: 0.9605\n",
            "Epoch 9/30\n",
            "1875/1875 [==============================] - 9s 5ms/step - loss: 0.3630 - accuracy: 0.9628 - val_loss: 0.3688 - val_accuracy: 0.9600\n",
            "Epoch 10/30\n",
            "1875/1875 [==============================] - 8s 4ms/step - loss: 0.3534 - accuracy: 0.9641 - val_loss: 0.3557 - val_accuracy: 0.9598\n",
            "Epoch 11/30\n",
            "1875/1875 [==============================] - 9s 5ms/step - loss: 0.3441 - accuracy: 0.9653 - val_loss: 0.3485 - val_accuracy: 0.9629\n",
            "Epoch 12/30\n",
            "1875/1875 [==============================] - 10s 5ms/step - loss: 0.3369 - accuracy: 0.9664 - val_loss: 0.3436 - val_accuracy: 0.9621\n",
            "Epoch 13/30\n",
            "1875/1875 [==============================] - 11s 6ms/step - loss: 0.3324 - accuracy: 0.9671 - val_loss: 0.3408 - val_accuracy: 0.9623\n",
            "Epoch 14/30\n",
            "1875/1875 [==============================] - 9s 5ms/step - loss: 0.3266 - accuracy: 0.9681 - val_loss: 0.3350 - val_accuracy: 0.9623\n",
            "Epoch 15/30\n",
            "1875/1875 [==============================] - 10s 5ms/step - loss: 0.3218 - accuracy: 0.9677 - val_loss: 0.3331 - val_accuracy: 0.9613\n",
            "Epoch 16/30\n",
            "1875/1875 [==============================] - 10s 5ms/step - loss: 0.3163 - accuracy: 0.9686 - val_loss: 0.3300 - val_accuracy: 0.9630\n",
            "Epoch 17/30\n",
            "1875/1875 [==============================] - 13s 7ms/step - loss: 0.3123 - accuracy: 0.9694 - val_loss: 0.3219 - val_accuracy: 0.9641\n",
            "Epoch 18/30\n",
            "1875/1875 [==============================] - 11s 6ms/step - loss: 0.3087 - accuracy: 0.9693 - val_loss: 0.3180 - val_accuracy: 0.9635\n",
            "Epoch 19/30\n",
            "1875/1875 [==============================] - 9s 5ms/step - loss: 0.3059 - accuracy: 0.9700 - val_loss: 0.3175 - val_accuracy: 0.9651\n",
            "Epoch 20/30\n",
            "1875/1875 [==============================] - 10s 5ms/step - loss: 0.3028 - accuracy: 0.9704 - val_loss: 0.3156 - val_accuracy: 0.9638\n",
            "Epoch 21/30\n",
            "1875/1875 [==============================] - 10s 5ms/step - loss: 0.2993 - accuracy: 0.9698 - val_loss: 0.3122 - val_accuracy: 0.9624\n",
            "Epoch 22/30\n",
            "1875/1875 [==============================] - 9s 5ms/step - loss: 0.2963 - accuracy: 0.9708 - val_loss: 0.3091 - val_accuracy: 0.9658\n",
            "Epoch 23/30\n",
            "1875/1875 [==============================] - 9s 5ms/step - loss: 0.2929 - accuracy: 0.9711 - val_loss: 0.3041 - val_accuracy: 0.9666\n",
            "Epoch 24/30\n",
            "1875/1875 [==============================] - 10s 5ms/step - loss: 0.2915 - accuracy: 0.9707 - val_loss: 0.3002 - val_accuracy: 0.9654\n",
            "Epoch 25/30\n",
            "1875/1875 [==============================] - 12s 6ms/step - loss: 0.2880 - accuracy: 0.9710 - val_loss: 0.3042 - val_accuracy: 0.9652\n",
            "Epoch 26/30\n",
            "1875/1875 [==============================] - 10s 6ms/step - loss: 0.2858 - accuracy: 0.9719 - val_loss: 0.3000 - val_accuracy: 0.9663\n",
            "Epoch 27/30\n",
            "1875/1875 [==============================] - 9s 5ms/step - loss: 0.2832 - accuracy: 0.9728 - val_loss: 0.3007 - val_accuracy: 0.9656\n",
            "Epoch 28/30\n",
            "1875/1875 [==============================] - 8s 4ms/step - loss: 0.2830 - accuracy: 0.9728 - val_loss: 0.2974 - val_accuracy: 0.9669\n",
            "Epoch 29/30\n",
            "1875/1875 [==============================] - 10s 6ms/step - loss: 0.2803 - accuracy: 0.9726 - val_loss: 0.2916 - val_accuracy: 0.9672\n",
            "Epoch 30/30\n",
            "1875/1875 [==============================] - 11s 6ms/step - loss: 0.2768 - accuracy: 0.9728 - val_loss: 0.2922 - val_accuracy: 0.9670\n"
          ]
        }
      ],
      "source": [
        "history = model.fit(X_train_scaled, y_train, validation_data=(X_test_scaled, y_test), epochs=30)"
      ]
    },
    {
      "cell_type": "code",
      "execution_count": null,
      "id": "96d7e178",
      "metadata": {
        "id": "96d7e178"
      },
      "outputs": [],
      "source": []
    },
    {
      "cell_type": "code",
      "execution_count": null,
      "id": "17fb1c49",
      "metadata": {
        "scrolled": true,
        "id": "17fb1c49",
        "outputId": "3f7d4402-fd88-40db-8bc1-053b573147e5"
      },
      "outputs": [
        {
          "name": "stdout",
          "output_type": "stream",
          "text": [
            "313/313 [==============================] - 24s 75ms/step - loss: 0.2922 - accuracy: 0.9670\n",
            "Test accuracy: 96.70%\n",
            "Test loss: 0.2921806275844574\n"
          ]
        }
      ],
      "source": [
        "evalLoss, evalAccuracy = model.evaluate(X_test_scaled, y_test)\n",
        "print(f\"Test accuracy: {evalAccuracy * 100:.2f}%\")\n",
        "print(f\"Test loss: {evalLoss}\")"
      ]
    },
    {
      "cell_type": "code",
      "execution_count": null,
      "id": "740cc5a9",
      "metadata": {
        "id": "740cc5a9",
        "outputId": "ba2729c6-7003-4687-ba93-724a9d037b7c"
      },
      "outputs": [
        {
          "name": "stdout",
          "output_type": "stream",
          "text": [
            "313/313 [==============================] - 4s 12ms/step\n"
          ]
        }
      ],
      "source": [
        "ypred = model.predict(X_test_scaled)"
      ]
    },
    {
      "cell_type": "code",
      "execution_count": null,
      "id": "9ecd1108",
      "metadata": {
        "id": "9ecd1108"
      },
      "outputs": [],
      "source": [
        "ypred"
      ]
    },
    {
      "cell_type": "code",
      "execution_count": null,
      "id": "b8964399",
      "metadata": {
        "id": "b8964399"
      },
      "outputs": [],
      "source": [
        "import numpy as np"
      ]
    },
    {
      "cell_type": "code",
      "execution_count": null,
      "id": "e4602ffc",
      "metadata": {
        "id": "e4602ffc"
      },
      "outputs": [],
      "source": [
        "y_pred = np.argmax(ypred, axis=1)"
      ]
    },
    {
      "cell_type": "code",
      "execution_count": null,
      "id": "77251672",
      "metadata": {
        "id": "77251672",
        "outputId": "0bafc1ae-bab0-48f5-9344-e9f304a13017"
      },
      "outputs": [
        {
          "data": {
            "text/plain": [
              "array([7, 2, 1, ..., 4, 5, 6], dtype=uint8)"
            ]
          },
          "execution_count": 153,
          "metadata": {},
          "output_type": "execute_result"
        }
      ],
      "source": [
        "y_test"
      ]
    },
    {
      "cell_type": "code",
      "execution_count": null,
      "id": "5710b88e",
      "metadata": {
        "id": "5710b88e",
        "outputId": "db9a598f-63ea-46cf-f523-40493dea09be"
      },
      "outputs": [
        {
          "data": {
            "text/plain": [
              "array([7, 2, 1, ..., 4, 5, 6])"
            ]
          },
          "execution_count": 154,
          "metadata": {},
          "output_type": "execute_result"
        }
      ],
      "source": [
        "y_pred"
      ]
    },
    {
      "cell_type": "code",
      "execution_count": null,
      "id": "978980df",
      "metadata": {
        "id": "978980df",
        "outputId": "2c97f70a-b450-4b3c-f6e8-e1d518738825"
      },
      "outputs": [
        {
          "name": "stdout",
          "output_type": "stream",
          "text": [
            "              precision    recall  f1-score   support\n",
            "\n",
            "           0       0.98      0.98      0.98       980\n",
            "           1       0.98      0.99      0.98      1135\n",
            "           2       0.97      0.97      0.97      1032\n",
            "           3       0.96      0.97      0.97      1010\n",
            "           4       0.97      0.96      0.97       982\n",
            "           5       0.98      0.95      0.97       892\n",
            "           6       0.97      0.98      0.97       958\n",
            "           7       0.97      0.94      0.96      1028\n",
            "           8       0.95      0.96      0.96       974\n",
            "           9       0.95      0.96      0.95      1009\n",
            "\n",
            "    accuracy                           0.97     10000\n",
            "   macro avg       0.97      0.97      0.97     10000\n",
            "weighted avg       0.97      0.97      0.97     10000\n",
            "\n"
          ]
        }
      ],
      "source": [
        "from sklearn.metrics import classification_report\n",
        "\n",
        "print(classification_report(y_test, y_pred))"
      ]
    },
    {
      "cell_type": "markdown",
      "id": "08cbc745",
      "metadata": {
        "id": "08cbc745"
      },
      "source": [
        "### Dropouts"
      ]
    },
    {
      "cell_type": "code",
      "execution_count": null,
      "id": "85ab429d",
      "metadata": {
        "id": "85ab429d"
      },
      "outputs": [],
      "source": [
        "from tensorflow.keras.layers import Dropout"
      ]
    },
    {
      "cell_type": "code",
      "execution_count": null,
      "id": "ffbcd9b8",
      "metadata": {
        "id": "ffbcd9b8"
      },
      "outputs": [],
      "source": [
        "model = Sequential()\n",
        "model.add(Dense(64, input_dim=X_train.shape[1], activation=\"relu\"))\n",
        "model.add(Dropout(0.2))\n",
        "\n",
        "model.add(Dense(32, activation=\"relu\"))\n",
        "model.add(Dropout(0.2))\n",
        "\n",
        "model.add(Dense(16, activation=\"relu\"))\n",
        "model.add(Dropout(0.2))\n",
        "\n",
        "model.add(Dense(len(set(y_train)), activation=\"softmax\"))"
      ]
    },
    {
      "cell_type": "code",
      "execution_count": null,
      "id": "383ff552",
      "metadata": {
        "id": "383ff552"
      },
      "outputs": [],
      "source": [
        "model.compile(optimizer=\"SGD\", loss=\"sparse_categorical_crossentropy\", metrics=[\"accuracy\"])"
      ]
    },
    {
      "cell_type": "code",
      "execution_count": null,
      "id": "7e8ce557",
      "metadata": {
        "id": "7e8ce557",
        "outputId": "82305351-a592-4dc0-f5f2-4a75f7d62aae"
      },
      "outputs": [
        {
          "name": "stdout",
          "output_type": "stream",
          "text": [
            "Model: \"sequential\"\n",
            "_________________________________________________________________\n",
            " Layer (type)                Output Shape              Param #   \n",
            "=================================================================\n",
            " dense (Dense)               (None, 64)                50240     \n",
            "                                                                 \n",
            " dropout (Dropout)           (None, 64)                0         \n",
            "                                                                 \n",
            " dense_1 (Dense)             (None, 32)                2080      \n",
            "                                                                 \n",
            " dropout_1 (Dropout)         (None, 32)                0         \n",
            "                                                                 \n",
            " dense_2 (Dense)             (None, 16)                528       \n",
            "                                                                 \n",
            " dropout_2 (Dropout)         (None, 16)                0         \n",
            "                                                                 \n",
            " dense_3 (Dense)             (None, 10)                170       \n",
            "                                                                 \n",
            "=================================================================\n",
            "Total params: 53018 (207.10 KB)\n",
            "Trainable params: 53018 (207.10 KB)\n",
            "Non-trainable params: 0 (0.00 Byte)\n",
            "_________________________________________________________________\n"
          ]
        }
      ],
      "source": [
        "model.summary()"
      ]
    },
    {
      "cell_type": "code",
      "execution_count": null,
      "id": "1c959002",
      "metadata": {
        "id": "1c959002",
        "outputId": "08f26a4c-449c-4c24-8dfb-7b8d86425409"
      },
      "outputs": [
        {
          "name": "stdout",
          "output_type": "stream",
          "text": [
            "Epoch 1/30\n",
            "1875/1875 [==============================] - 9s 4ms/step - loss: 1.1617 - accuracy: 0.6134 - val_loss: 0.4018 - val_accuracy: 0.8942\n",
            "Epoch 2/30\n",
            "1875/1875 [==============================] - 8s 4ms/step - loss: 0.6361 - accuracy: 0.8088 - val_loss: 0.3090 - val_accuracy: 0.9166\n",
            "Epoch 3/30\n",
            "1875/1875 [==============================] - 9s 5ms/step - loss: 0.5202 - accuracy: 0.8480 - val_loss: 0.2654 - val_accuracy: 0.9243\n",
            "Epoch 4/30\n",
            "1875/1875 [==============================] - 12s 7ms/step - loss: 0.4608 - accuracy: 0.8685 - val_loss: 0.2366 - val_accuracy: 0.9351\n",
            "Epoch 5/30\n",
            "1875/1875 [==============================] - 10s 5ms/step - loss: 0.4266 - accuracy: 0.8769 - val_loss: 0.2248 - val_accuracy: 0.9380\n",
            "Epoch 6/30\n",
            "1875/1875 [==============================] - 13s 7ms/step - loss: 0.3874 - accuracy: 0.8905 - val_loss: 0.2150 - val_accuracy: 0.9414\n",
            "Epoch 7/30\n",
            "1875/1875 [==============================] - 10s 5ms/step - loss: 0.3699 - accuracy: 0.8947 - val_loss: 0.2052 - val_accuracy: 0.9467\n",
            "Epoch 8/30\n",
            "1875/1875 [==============================] - 12s 6ms/step - loss: 0.3525 - accuracy: 0.8995 - val_loss: 0.2005 - val_accuracy: 0.9459\n",
            "Epoch 9/30\n",
            "1875/1875 [==============================] - 11s 6ms/step - loss: 0.3332 - accuracy: 0.9055 - val_loss: 0.1898 - val_accuracy: 0.9498\n",
            "Epoch 10/30\n",
            "1875/1875 [==============================] - 9s 5ms/step - loss: 0.3255 - accuracy: 0.9070 - val_loss: 0.1862 - val_accuracy: 0.9510\n",
            "Epoch 11/30\n",
            "1875/1875 [==============================] - 10s 5ms/step - loss: 0.3102 - accuracy: 0.9122 - val_loss: 0.1868 - val_accuracy: 0.9511\n",
            "Epoch 12/30\n",
            "1875/1875 [==============================] - 12s 6ms/step - loss: 0.3055 - accuracy: 0.9159 - val_loss: 0.1832 - val_accuracy: 0.9518\n",
            "Epoch 13/30\n",
            "1875/1875 [==============================] - 17s 9ms/step - loss: 0.2893 - accuracy: 0.9189 - val_loss: 0.1769 - val_accuracy: 0.9541\n",
            "Epoch 14/30\n",
            "1875/1875 [==============================] - 12s 6ms/step - loss: 0.2828 - accuracy: 0.9204 - val_loss: 0.1716 - val_accuracy: 0.9551\n",
            "Epoch 15/30\n",
            "1875/1875 [==============================] - 9s 5ms/step - loss: 0.2772 - accuracy: 0.9222 - val_loss: 0.1701 - val_accuracy: 0.9561\n",
            "Epoch 16/30\n",
            "1875/1875 [==============================] - 8s 4ms/step - loss: 0.2674 - accuracy: 0.9247 - val_loss: 0.1633 - val_accuracy: 0.9575\n",
            "Epoch 17/30\n",
            "1875/1875 [==============================] - 9s 5ms/step - loss: 0.2632 - accuracy: 0.9267 - val_loss: 0.1674 - val_accuracy: 0.9576\n",
            "Epoch 18/30\n",
            "1875/1875 [==============================] - 10s 5ms/step - loss: 0.2557 - accuracy: 0.9286 - val_loss: 0.1637 - val_accuracy: 0.9600\n",
            "Epoch 19/30\n",
            "1875/1875 [==============================] - 11s 6ms/step - loss: 0.2461 - accuracy: 0.9305 - val_loss: 0.1628 - val_accuracy: 0.9601\n",
            "Epoch 20/30\n",
            "1875/1875 [==============================] - 10s 5ms/step - loss: 0.2452 - accuracy: 0.9317 - val_loss: 0.1612 - val_accuracy: 0.9592\n",
            "Epoch 21/30\n",
            "1875/1875 [==============================] - 11s 6ms/step - loss: 0.2400 - accuracy: 0.9329 - val_loss: 0.1622 - val_accuracy: 0.9611\n",
            "Epoch 22/30\n",
            "1875/1875 [==============================] - 9s 5ms/step - loss: 0.2353 - accuracy: 0.9343 - val_loss: 0.1627 - val_accuracy: 0.9614\n",
            "Epoch 23/30\n",
            "1875/1875 [==============================] - 7s 4ms/step - loss: 0.2327 - accuracy: 0.9344 - val_loss: 0.1607 - val_accuracy: 0.9625\n",
            "Epoch 24/30\n",
            "1875/1875 [==============================] - 8s 4ms/step - loss: 0.2247 - accuracy: 0.9362 - val_loss: 0.1608 - val_accuracy: 0.9616\n",
            "Epoch 25/30\n",
            "1875/1875 [==============================] - 7s 4ms/step - loss: 0.2221 - accuracy: 0.9368 - val_loss: 0.1605 - val_accuracy: 0.9619\n",
            "Epoch 26/30\n",
            "1875/1875 [==============================] - 8s 4ms/step - loss: 0.2184 - accuracy: 0.9394 - val_loss: 0.1584 - val_accuracy: 0.9628\n",
            "Epoch 27/30\n",
            "1875/1875 [==============================] - 8s 4ms/step - loss: 0.2113 - accuracy: 0.9419 - val_loss: 0.1622 - val_accuracy: 0.9617\n",
            "Epoch 28/30\n",
            "1875/1875 [==============================] - 7s 4ms/step - loss: 0.2148 - accuracy: 0.9390 - val_loss: 0.1552 - val_accuracy: 0.9638\n",
            "Epoch 29/30\n",
            "1875/1875 [==============================] - 6s 3ms/step - loss: 0.2099 - accuracy: 0.9423 - val_loss: 0.1569 - val_accuracy: 0.9636\n",
            "Epoch 30/30\n",
            "1875/1875 [==============================] - 6s 3ms/step - loss: 0.2079 - accuracy: 0.9430 - val_loss: 0.1573 - val_accuracy: 0.9643\n"
          ]
        }
      ],
      "source": [
        "history = model.fit(X_train_scaled, y_train, validation_data=(X_test_scaled, y_test), epochs=30)"
      ]
    },
    {
      "cell_type": "code",
      "execution_count": null,
      "id": "f4012630",
      "metadata": {
        "id": "f4012630",
        "outputId": "3504182f-5988-4619-a742-ce5b965d2925"
      },
      "outputs": [
        {
          "name": "stdout",
          "output_type": "stream",
          "text": [
            "313/313 [==============================] - 2s 8ms/step - loss: 0.1573 - accuracy: 0.9643\n",
            "Test accuracy: 96.43%\n",
            "Test loss: 0.15727920830249786\n"
          ]
        }
      ],
      "source": [
        "evalLoss, evalAccuracy = model.evaluate(X_test_scaled, y_test)\n",
        "print(f\"Test accuracy: {evalAccuracy * 100:.2f}%\")\n",
        "print(f\"Test loss: {evalLoss}\")"
      ]
    },
    {
      "cell_type": "code",
      "execution_count": null,
      "id": "1bcfc890",
      "metadata": {
        "id": "1bcfc890"
      },
      "outputs": [],
      "source": [
        "import cv2"
      ]
    },
    {
      "cell_type": "code",
      "execution_count": null,
      "id": "e672d233",
      "metadata": {
        "id": "e672d233"
      },
      "outputs": [],
      "source": [
        "img = cv2.imread(\"./zeros.png\", 0)"
      ]
    },
    {
      "cell_type": "code",
      "execution_count": null,
      "id": "e07359f7",
      "metadata": {
        "id": "e07359f7",
        "outputId": "fcd1ba41-4501-4b83-d7ea-957238d501b2"
      },
      "outputs": [
        {
          "data": {
            "image/png": "[encoded data removed]",
            "text/plain": [
              "<Figure size 640x480 with 1 Axes>"
            ]
          },
          "metadata": {},
          "output_type": "display_data"
        }
      ],
      "source": [
        "plt.imshow(img,cmap=\"gray\")\n",
        "plt.show()"
      ]
    },
    {
      "cell_type": "code",
      "execution_count": null,
      "id": "871e3904",
      "metadata": {
        "id": "871e3904"
      },
      "outputs": [],
      "source": [
        "invertImg = cv2.bitwise_not(img)"
      ]
    },
    {
      "cell_type": "code",
      "execution_count": null,
      "id": "76caf62b",
      "metadata": {
        "id": "76caf62b",
        "outputId": "d0bd3173-ef79-437a-927a-a254711c097a"
      },
      "outputs": [
        {
          "data": {
            "image/png": "[encoded data removed]",
            "text/plain": [
              "<Figure size 640x480 with 1 Axes>"
            ]
          },
          "metadata": {},
          "output_type": "display_data"
        }
      ],
      "source": [
        "plt.imshow(invertImg,cmap=\"gray\")\n",
        "plt.show()"
      ]
    },
    {
      "cell_type": "code",
      "execution_count": null,
      "id": "03587ec9",
      "metadata": {
        "id": "03587ec9"
      },
      "outputs": [],
      "source": [
        "resizeImg = cv2.resize(invertImg, (28,28))"
      ]
    },
    {
      "cell_type": "code",
      "execution_count": null,
      "id": "dc9c6081",
      "metadata": {
        "id": "dc9c6081",
        "outputId": "636c36cb-1a25-482f-ce87-db2833356cd2"
      },
      "outputs": [
        {
          "data": {
            "text/plain": [
              "((497, 495), (28, 28))"
            ]
          },
          "execution_count": 59,
          "metadata": {},
          "output_type": "execute_result"
        }
      ],
      "source": [
        "invertImg.shape, resizeImg.shape"
      ]
    },
    {
      "cell_type": "code",
      "execution_count": null,
      "id": "4779d369",
      "metadata": {
        "id": "4779d369"
      },
      "outputs": [],
      "source": [
        "reshapeImg = resizeImg.reshape(784)"
      ]
    },
    {
      "cell_type": "code",
      "execution_count": null,
      "id": "3ab59f4f",
      "metadata": {
        "id": "3ab59f4f",
        "outputId": "bdad7f44-cecd-4f21-be7c-2a95ef637716"
      },
      "outputs": [
        {
          "data": {
            "text/plain": [
              "(784,)"
            ]
          },
          "execution_count": 61,
          "metadata": {},
          "output_type": "execute_result"
        }
      ],
      "source": [
        "reshapeImg.shape"
      ]
    },
    {
      "cell_type": "code",
      "execution_count": null,
      "id": "fe25e0f3",
      "metadata": {
        "id": "fe25e0f3"
      },
      "outputs": [],
      "source": [
        "reshapeImgScaled = scaler.transform([reshapeImg])"
      ]
    },
    {
      "cell_type": "code",
      "execution_count": null,
      "id": "34bdf1ec",
      "metadata": {
        "id": "34bdf1ec",
        "outputId": "24ff295e-2194-4575-ca94-6582cbf42fc3"
      },
      "outputs": [
        {
          "data": {
            "text/plain": [
              "(1, 784)"
            ]
          },
          "execution_count": 63,
          "metadata": {},
          "output_type": "execute_result"
        }
      ],
      "source": [
        "reshapeImgScaled.shape"
      ]
    },
    {
      "cell_type": "code",
      "execution_count": null,
      "id": "a9b8755d",
      "metadata": {
        "id": "a9b8755d",
        "outputId": "2de16dfe-b76a-4e80-e849-9105b7cf079d"
      },
      "outputs": [
        {
          "name": "stdout",
          "output_type": "stream",
          "text": [
            "1/1 [==============================] - 0s 39ms/step\n"
          ]
        }
      ],
      "source": [
        "pred = model.predict(reshapeImgScaled)"
      ]
    },
    {
      "cell_type": "code",
      "execution_count": null,
      "id": "0098d0e9",
      "metadata": {
        "id": "0098d0e9",
        "outputId": "e2d0bed7-a274-456b-f34f-08cd6c4ac897"
      },
      "outputs": [
        {
          "data": {
            "text/plain": [
              "array([0])"
            ]
          },
          "execution_count": 65,
          "metadata": {},
          "output_type": "execute_result"
        }
      ],
      "source": [
        "np.argmax(pred, axis=1)"
      ]
    },
    {
      "cell_type": "code",
      "execution_count": null,
      "id": "10f0e19e",
      "metadata": {
        "id": "10f0e19e",
        "outputId": "5687ad3a-82d3-4cc4-c713-4fc873ae66fe"
      },
      "outputs": [
        {
          "data": {
            "text/plain": [
              "array([[9.9999928e-01, 9.1243369e-21, 6.6994716e-07, 2.0411528e-09,\n",
              "        3.6950079e-16, 1.2562238e-08, 4.7810924e-09, 1.8337504e-10,\n",
              "        3.0495673e-10, 2.7483622e-14]], dtype=float32)"
            ]
          },
          "execution_count": 66,
          "metadata": {},
          "output_type": "execute_result"
        }
      ],
      "source": [
        "pred"
      ]
    },
    {
      "cell_type": "code",
      "execution_count": null,
      "id": "eda49f95",
      "metadata": {
        "collapsed": true,
        "id": "eda49f95"
      },
      "outputs": [],
      "source": [
        "pred = model.predict"
      ]
    },
    {
      "cell_type": "markdown",
      "id": "3fc6b6a8",
      "metadata": {
        "id": "3fc6b6a8"
      },
      "source": [
        "### Optimizer Comparison"
      ]
    },
    {
      "cell_type": "code",
      "execution_count": null,
      "id": "ac3d4a63",
      "metadata": {
        "id": "ac3d4a63"
      },
      "outputs": [],
      "source": [
        "import numpy as np\n",
        "from tensorflow.keras.datasets import mnist\n",
        "from tensorflow.keras.models import Sequential\n",
        "from tensorflow.keras.layers import Dense, Dropout\n",
        "from tensorflow.keras.optimizers import SGD, Adam, RMSprop, Adagrad, Nadam"
      ]
    },
    {
      "cell_type": "code",
      "execution_count": null,
      "id": "6336c8c6",
      "metadata": {
        "id": "6336c8c6"
      },
      "outputs": [],
      "source": [
        "(X_train, y_train), (X_test, y_test) = mnist.load_data()"
      ]
    },
    {
      "cell_type": "code",
      "execution_count": null,
      "id": "3e4336fc",
      "metadata": {
        "id": "3e4336fc"
      },
      "outputs": [],
      "source": [
        "X_train = X_train.reshape(X_train.shape[0], 28 * 28)\n",
        "X_test = X_test.reshape(X_test.shape[0], 28 * 28)"
      ]
    },
    {
      "cell_type": "code",
      "execution_count": null,
      "id": "6ba7a2e1",
      "metadata": {
        "id": "6ba7a2e1"
      },
      "outputs": [],
      "source": [
        "X_train = X_train.astype('float32') / 255\n",
        "X_test = X_test.astype('float32') / 255"
      ]
    },
    {
      "cell_type": "code",
      "execution_count": null,
      "id": "87227c24",
      "metadata": {
        "id": "87227c24"
      },
      "outputs": [],
      "source": [
        "def create_model():\n",
        "    model = Sequential()\n",
        "    model.add(Dense(64, input_dim=X_train.shape[1], activation=\"relu\"))\n",
        "    model.add(Dropout(0.2))\n",
        "    model.add(Dense(32, activation=\"relu\"))\n",
        "    model.add(Dropout(0.2))\n",
        "    model.add(Dense(16, activation=\"relu\"))\n",
        "    model.add(Dropout(0.2))\n",
        "    model.add(Dense(len(set(y_train)), activation=\"softmax\"))\n",
        "    return model"
      ]
    },
    {
      "cell_type": "code",
      "execution_count": null,
      "id": "698eebd1",
      "metadata": {
        "id": "698eebd1"
      },
      "outputs": [],
      "source": [
        "optimizers = {\n",
        "    \"SGD\": SGD(),\n",
        "    \"Adam\": Adam(),\n",
        "    \"RMSprop\": RMSprop(),\n",
        "    \"Adagrad\": Adagrad(),\n",
        "    \"Nadam\": Nadam()\n",
        "}"
      ]
    },
    {
      "cell_type": "code",
      "execution_count": null,
      "id": "fbe83bb9",
      "metadata": {
        "id": "fbe83bb9"
      },
      "outputs": [],
      "source": [
        "optimizer_performance = {}\n"
      ]
    },
    {
      "cell_type": "code",
      "execution_count": null,
      "id": "29ff4e27",
      "metadata": {
        "id": "29ff4e27",
        "outputId": "675389f7-9d45-4078-efc8-84797d766051"
      },
      "outputs": [
        {
          "name": "stdout",
          "output_type": "stream",
          "text": [
            "313/313 [==============================] - 1s 4ms/step - loss: 0.1687 - accuracy: 0.9531\n",
            "Optimizer: SGD, Score : [0.1686728149652481, 0.9531000256538391]\n",
            "313/313 [==============================] - 1s 4ms/step - loss: 0.1275 - accuracy: 0.9670\n",
            "Optimizer: Adam, Score : [0.12754008173942566, 0.9670000076293945]\n",
            "313/313 [==============================] - 1s 4ms/step - loss: 0.1538 - accuracy: 0.9659\n",
            "Optimizer: RMSprop, Score : [0.1538495570421219, 0.9659000039100647]\n",
            "313/313 [==============================] - 1s 4ms/step - loss: 0.6437 - accuracy: 0.8611\n",
            "Optimizer: Adagrad, Score : [0.6436970233917236, 0.8611000180244446]\n",
            "313/313 [==============================] - 2s 6ms/step - loss: 0.1165 - accuracy: 0.9679\n",
            "Optimizer: Nadam, Score : [0.11653081327676773, 0.9678999781608582]\n"
          ]
        }
      ],
      "source": [
        "for name, optimizer in optimizers.items():\n",
        "    model = create_model()\n",
        "    model.compile(optimizer=optimizer, loss=\"sparse_categorical_crossentropy\", metrics=[\"accuracy\"])\n",
        "    history = model.fit(X_train, y_train, validation_data=(X_test, y_test), epochs=10, verbose=0)\n",
        "    score = model.evaluate(X_test, y_test)\n",
        "    optimizer_performance[name] = score\n",
        "    print(f\"Optimizer: {name}, Score : {score}\")"
      ]
    },
    {
      "cell_type": "code",
      "execution_count": null,
      "id": "8253718e",
      "metadata": {
        "id": "8253718e",
        "outputId": "ad610ae4-c52c-468b-99f5-b78c5ea8177a"
      },
      "outputs": [
        {
          "data": {
            "text/plain": [
              "{'SGD': [0.1686728149652481, 0.9531000256538391],\n",
              " 'Adam': [0.12754008173942566, 0.9670000076293945],\n",
              " 'RMSprop': [0.1538495570421219, 0.9659000039100647],\n",
              " 'Adagrad': [0.6436970233917236, 0.8611000180244446],\n",
              " 'Nadam': [0.11653081327676773, 0.9678999781608582]}"
            ]
          },
          "execution_count": 11,
          "metadata": {},
          "output_type": "execute_result"
        }
      ],
      "source": [
        "optimizer_performance"
      ]
    },
    {
      "cell_type": "code",
      "execution_count": null,
      "id": "15748c29",
      "metadata": {
        "id": "15748c29"
      },
      "outputs": [],
      "source": [
        "best_optimizer = max(optimizer_performance, key=lambda x: optimizer_performance[x][1])"
      ]
    },
    {
      "cell_type": "code",
      "execution_count": null,
      "id": "80828a68",
      "metadata": {
        "id": "80828a68",
        "outputId": "d2a7c62f-a162-4011-b725-44f578b9ba50"
      },
      "outputs": [
        {
          "data": {
            "text/plain": [
              "'Nadam'"
            ]
          },
          "execution_count": 13,
          "metadata": {},
          "output_type": "execute_result"
        }
      ],
      "source": [
        "best_optimizer"
      ]
    },
    {
      "cell_type": "code",
      "execution_count": null,
      "id": "3cadbdac",
      "metadata": {
        "id": "3cadbdac"
      },
      "outputs": [],
      "source": [
        "best_score = optimizer_performance[best_optimizer]"
      ]
    },
    {
      "cell_type": "code",
      "execution_count": null,
      "id": "257e78dd",
      "metadata": {
        "id": "257e78dd",
        "outputId": "2125fd18-7059-4852-c5c3-8efa5c4fbcc8"
      },
      "outputs": [
        {
          "name": "stdout",
          "output_type": "stream",
          "text": [
            "\n",
            "Best Optimizer for MNIST Dataset: Nadam with Accuracy: 0.9679\n"
          ]
        }
      ],
      "source": [
        "print(f\"\\nBest Optimizer for MNIST Dataset: {best_optimizer} with Accuracy: {best_score[1]:.4f}\")"
      ]
    },
    {
      "cell_type": "code",
      "execution_count": null,
      "id": "1fcc28db",
      "metadata": {
        "id": "1fcc28db",
        "outputId": "a77246a5-49c4-4175-9db9-e721577a3959"
      },
      "outputs": [
        {
          "name": "stdout",
          "output_type": "stream",
          "text": [
            "313/313 [==============================] - 2s 5ms/step - loss: 0.1195 - accuracy: 0.9733\n"
          ]
        }
      ],
      "source": [
        "model = create_model()\n",
        "model.compile(optimizer=Nadam(), loss=\"sparse_categorical_crossentropy\", metrics=[\"accuracy\"])\n",
        "history = model.fit(X_train, y_train, validation_data=(X_test, y_test), epochs=30, verbose=0)\n",
        "score = model.evaluate(X_test, y_test)"
      ]
    },
    {
      "cell_type": "code",
      "execution_count": null,
      "id": "b715f015",
      "metadata": {
        "id": "b715f015"
      },
      "outputs": [],
      "source": [
        "import cv2\n",
        "\n",
        "img = cv2.imread(\"./second.png\", 0)\n",
        "invertImg = cv2.bitwise_not(img)\n",
        "resizeImg = cv2.resize(invertImg, (28,28))\n",
        "reshapeImg = resizeImg.reshape(784)\n",
        "reshapeImgScaled = reshapeImg.astype('float32') / 255"
      ]
    },
    {
      "cell_type": "code",
      "execution_count": null,
      "id": "a7162f79",
      "metadata": {
        "id": "a7162f79",
        "outputId": "98d9aaf7-5587-47fa-8631-9f56622773b2"
      },
      "outputs": [
        {
          "data": {
            "text/plain": [
              "(784,)"
            ]
          },
          "execution_count": 24,
          "metadata": {},
          "output_type": "execute_result"
        }
      ],
      "source": [
        "reshapeImgScaled.shape"
      ]
    },
    {
      "cell_type": "code",
      "execution_count": null,
      "id": "aead1cef",
      "metadata": {
        "id": "aead1cef",
        "outputId": "c1ed05ea-a369-4e8e-ffe8-d68f659004a2"
      },
      "outputs": [
        {
          "data": {
            "text/plain": [
              "(1, 784)"
            ]
          },
          "execution_count": 25,
          "metadata": {},
          "output_type": "execute_result"
        }
      ],
      "source": [
        "reshapeImgScaled.reshape(1,-1).shape"
      ]
    },
    {
      "cell_type": "code",
      "execution_count": null,
      "id": "9d4b97f8",
      "metadata": {
        "id": "9d4b97f8",
        "outputId": "0ea29162-1ff6-4092-c39b-773e0a6ceb14"
      },
      "outputs": [
        {
          "name": "stdout",
          "output_type": "stream",
          "text": [
            "1/1 [==============================] - 0s 141ms/step\n"
          ]
        }
      ],
      "source": [
        "pred = model.predict(reshapeImgScaled.reshape(1,-1))"
      ]
    },
    {
      "cell_type": "code",
      "execution_count": null,
      "id": "34501638",
      "metadata": {
        "id": "34501638",
        "outputId": "5c1563fa-bbdb-41eb-b1fa-7af560487b40"
      },
      "outputs": [
        {
          "data": {
            "text/plain": [
              "array([[3.3323021e-11, 1.9457134e-06, 9.9745160e-01, 1.0206196e-03,\n",
              "        7.3436396e-10, 2.6727098e-09, 5.8203377e-12, 1.5255776e-03,\n",
              "        2.7770250e-07, 7.2820444e-10]], dtype=float32)"
            ]
          },
          "execution_count": 27,
          "metadata": {},
          "output_type": "execute_result"
        }
      ],
      "source": [
        "pred"
      ]
    },
    {
      "cell_type": "code",
      "execution_count": null,
      "id": "167a7195",
      "metadata": {
        "id": "167a7195",
        "outputId": "e88144bc-ac1c-4f66-abe1-6295b8a48560"
      },
      "outputs": [
        {
          "data": {
            "text/plain": [
              "array([2])"
            ]
          },
          "execution_count": 28,
          "metadata": {},
          "output_type": "execute_result"
        }
      ],
      "source": [
        "np.argmax(pred, axis=1)"
      ]
    },
    {
      "cell_type": "markdown",
      "source": [
        "### CNN"
      ],
      "metadata": {
        "id": "75ePkpRFoqfj"
      },
      "id": "75ePkpRFoqfj"
    },
    {
      "cell_type": "code",
      "execution_count": null,
      "id": "10e5d0bd",
      "metadata": {
        "id": "10e5d0bd"
      },
      "outputs": [],
      "source": [
        "import tensorflow as tf\n",
        "import numpy as np\n",
        "from tensorflow.keras.layers import *\n",
        "from tensorflow.keras.models import Sequential\n",
        "from tensorflow.keras.datasets import mnist"
      ]
    },
    {
      "cell_type": "code",
      "source": [
        "(x_train, y_train), (x_test, y_test) = mnist.load_data()\n"
      ],
      "metadata": {
        "colab": {
          "base_uri": "https://localhost:8080/"
        },
        "id": "XodzRQY4o3bM",
        "outputId": "1540fd5a-9b07-4bb7-dc89-adfad988b637"
      },
      "id": "XodzRQY4o3bM",
      "execution_count": null,
      "outputs": [
        {
          "output_type": "stream",
          "name": "stdout",
          "text": [
            "Downloading data from https://storage.googleapis.com/tensorflow/tf-keras-datasets/mnist.npz\n",
            "\u001b[1m11490434/11490434\u001b[0m \u001b[32m━━━━━━━━━━━━━━━━━━━━\u001b[0m\u001b[37m\u001b[0m \u001b[1m0s\u001b[0m 0us/step\n"
          ]
        }
      ]
    },
    {
      "cell_type": "code",
      "source": [
        "x_train.shape"
      ],
      "metadata": {
        "colab": {
          "base_uri": "https://localhost:8080/"
        },
        "id": "9rmIJeYxo3Qx",
        "outputId": "39ec2533-0caa-4f8a-adc0-df703662727b"
      },
      "id": "9rmIJeYxo3Qx",
      "execution_count": null,
      "outputs": [
        {
          "output_type": "execute_result",
          "data": {
            "text/plain": [
              "(60000, 28, 28)"
            ]
          },
          "metadata": {},
          "execution_count": 5
        }
      ]
    },
    {
      "cell_type": "code",
      "source": [
        "x_train = np.expand_dims(x_train, -1) / 255.0\n",
        "x_test = np.expand_dims(x_test, -1) / 255.0"
      ],
      "metadata": {
        "id": "QuIEyfgXo3Nw"
      },
      "id": "QuIEyfgXo3Nw",
      "execution_count": null,
      "outputs": []
    },
    {
      "cell_type": "code",
      "source": [
        "x_train.shape"
      ],
      "metadata": {
        "colab": {
          "base_uri": "https://localhost:8080/"
        },
        "id": "cwga-vCyo3IS",
        "outputId": "b87d970f-bcfe-4ebf-a4c4-9cf840cb9524"
      },
      "id": "cwga-vCyo3IS",
      "execution_count": null,
      "outputs": [
        {
          "output_type": "execute_result",
          "data": {
            "text/plain": [
              "(60000, 28, 28, 1)"
            ]
          },
          "metadata": {},
          "execution_count": 9
        }
      ]
    },
    {
      "cell_type": "code",
      "source": [
        "num_classes = 10\n",
        "input_shape = (28,28,1)"
      ],
      "metadata": {
        "id": "_zmod8cto3Fn"
      },
      "id": "_zmod8cto3Fn",
      "execution_count": null,
      "outputs": []
    },
    {
      "cell_type": "code",
      "source": [
        "model = Sequential()\n",
        "model.add(Conv2D(32, kernel_size=(3,3), activation='relu', input_shape=input_shape))\n",
        "model.add(MaxPooling2D(pool_size=(2,2)))\n",
        "model.add(Flatten())\n",
        "model.add(Dense(128, activation='relu'))\n",
        "model.add(Dense(num_classes, activation=\"softmax\"))"
      ],
      "metadata": {
        "colab": {
          "base_uri": "https://localhost:8080/"
        },
        "id": "ukQRww32qP88",
        "outputId": "64496913-4e67-4601-d0cf-2e040bf5e152"
      },
      "id": "ukQRww32qP88",
      "execution_count": null,
      "outputs": [
        {
          "output_type": "stream",
          "name": "stderr",
          "text": [
            "/usr/local/lib/python3.10/dist-packages/keras/src/layers/convolutional/base_conv.py:107: UserWarning: Do not pass an `input_shape`/`input_dim` argument to a layer. When using Sequential models, prefer using an `Input(shape)` object as the first layer in the model instead.\n",
            "  super().__init__(activity_regularizer=activity_regularizer, **kwargs)\n"
          ]
        }
      ]
    },
    {
      "cell_type": "code",
      "source": [
        "model.compile(optimizer=\"adam\",  loss=\"sparse_categorical_crossentropy\", metrics=['accuracy'])"
      ],
      "metadata": {
        "id": "RzUiC3u5qXCL"
      },
      "id": "RzUiC3u5qXCL",
      "execution_count": null,
      "outputs": []
    },
    {
      "cell_type": "code",
      "source": [
        "model.summary()"
      ],
      "metadata": {
        "colab": {
          "base_uri": "https://localhost:8080/",
          "height": 289
        },
        "id": "hkJ4DNrTrP_P",
        "outputId": "b81636f2-1494-4863-c364-8f04f46c3bfc"
      },
      "id": "hkJ4DNrTrP_P",
      "execution_count": null,
      "outputs": [
        {
          "output_type": "display_data",
          "data": {
            "text/plain": [
              "\u001b[1mModel: \"sequential_1\"\u001b[0m\n"
            ],
            "text/html": [
              "<pre style=\"white-space:pre;overflow-x:auto;line-height:normal;font-family:Menlo,'DejaVu Sans Mono',consolas,'Courier New',monospace\"><span style=\"font-weight: bold\">Model: \"sequential_1\"</span>\n",
              "</pre>\n"
            ]
          },
          "metadata": {}
        },
        {
          "output_type": "display_data",
          "data": {
            "text/plain": [
              "┏━━━━━━━━━━━━━━━━━━━━━━━━━━━━━━━━━━━━━━┳━━━━━━━━━━━━━━━━━━━━━━━━━━━━━┳━━━━━━━━━━━━━━━━━┓\n",
              "┃\u001b[1m \u001b[0m\u001b[1mLayer (type)                        \u001b[0m\u001b[1m \u001b[0m┃\u001b[1m \u001b[0m\u001b[1mOutput Shape               \u001b[0m\u001b[1m \u001b[0m┃\u001b[1m \u001b[0m\u001b[1m        Param #\u001b[0m\u001b[1m \u001b[0m┃\n",
              "┡━━━━━━━━━━━━━━━━━━━━━━━━━━━━━━━━━━━━━━╇━━━━━━━━━━━━━━━━━━━━━━━━━━━━━╇━━━━━━━━━━━━━━━━━┩\n",
              "│ conv2d (\u001b[38;5;33mConv2D\u001b[0m)                      │ (\u001b[38;5;45mNone\u001b[0m, \u001b[38;5;34m26\u001b[0m, \u001b[38;5;34m26\u001b[0m, \u001b[38;5;34m32\u001b[0m)          │             \u001b[38;5;34m320\u001b[0m │\n",
              "├──────────────────────────────────────┼─────────────────────────────┼─────────────────┤\n",
              "│ max_pooling2d (\u001b[38;5;33mMaxPooling2D\u001b[0m)         │ (\u001b[38;5;45mNone\u001b[0m, \u001b[38;5;34m13\u001b[0m, \u001b[38;5;34m13\u001b[0m, \u001b[38;5;34m32\u001b[0m)          │               \u001b[38;5;34m0\u001b[0m │\n",
              "├──────────────────────────────────────┼─────────────────────────────┼─────────────────┤\n",
              "│ flatten (\u001b[38;5;33mFlatten\u001b[0m)                    │ (\u001b[38;5;45mNone\u001b[0m, \u001b[38;5;34m5408\u001b[0m)                │               \u001b[38;5;34m0\u001b[0m │\n",
              "├──────────────────────────────────────┼─────────────────────────────┼─────────────────┤\n",
              "│ dense (\u001b[38;5;33mDense\u001b[0m)                        │ (\u001b[38;5;45mNone\u001b[0m, \u001b[38;5;34m128\u001b[0m)                 │         \u001b[38;5;34m692,352\u001b[0m │\n",
              "├──────────────────────────────────────┼─────────────────────────────┼─────────────────┤\n",
              "│ dense_1 (\u001b[38;5;33mDense\u001b[0m)                      │ (\u001b[38;5;45mNone\u001b[0m, \u001b[38;5;34m10\u001b[0m)                  │           \u001b[38;5;34m1,290\u001b[0m │\n",
              "└──────────────────────────────────────┴─────────────────────────────┴─────────────────┘\n"
            ],
            "text/html": [
              "<pre style=\"white-space:pre;overflow-x:auto;line-height:normal;font-family:Menlo,'DejaVu Sans Mono',consolas,'Courier New',monospace\">┏━━━━━━━━━━━━━━━━━━━━━━━━━━━━━━━━━━━━━━┳━━━━━━━━━━━━━━━━━━━━━━━━━━━━━┳━━━━━━━━━━━━━━━━━┓\n",
              "┃<span style=\"font-weight: bold\"> Layer (type)                         </span>┃<span style=\"font-weight: bold\"> Output Shape                </span>┃<span style=\"font-weight: bold\">         Param # </span>┃\n",
              "┡━━━━━━━━━━━━━━━━━━━━━━━━━━━━━━━━━━━━━━╇━━━━━━━━━━━━━━━━━━━━━━━━━━━━━╇━━━━━━━━━━━━━━━━━┩\n",
              "│ conv2d (<span style=\"color: #0087ff; text-decoration-color: #0087ff\">Conv2D</span>)                      │ (<span style=\"color: #00d7ff; text-decoration-color: #00d7ff\">None</span>, <span style=\"color: #00af00; text-decoration-color: #00af00\">26</span>, <span style=\"color: #00af00; text-decoration-color: #00af00\">26</span>, <span style=\"color: #00af00; text-decoration-color: #00af00\">32</span>)          │             <span style=\"color: #00af00; text-decoration-color: #00af00\">320</span> │\n",
              "├──────────────────────────────────────┼─────────────────────────────┼─────────────────┤\n",
              "│ max_pooling2d (<span style=\"color: #0087ff; text-decoration-color: #0087ff\">MaxPooling2D</span>)         │ (<span style=\"color: #00d7ff; text-decoration-color: #00d7ff\">None</span>, <span style=\"color: #00af00; text-decoration-color: #00af00\">13</span>, <span style=\"color: #00af00; text-decoration-color: #00af00\">13</span>, <span style=\"color: #00af00; text-decoration-color: #00af00\">32</span>)          │               <span style=\"color: #00af00; text-decoration-color: #00af00\">0</span> │\n",
              "├──────────────────────────────────────┼─────────────────────────────┼─────────────────┤\n",
              "│ flatten (<span style=\"color: #0087ff; text-decoration-color: #0087ff\">Flatten</span>)                    │ (<span style=\"color: #00d7ff; text-decoration-color: #00d7ff\">None</span>, <span style=\"color: #00af00; text-decoration-color: #00af00\">5408</span>)                │               <span style=\"color: #00af00; text-decoration-color: #00af00\">0</span> │\n",
              "├──────────────────────────────────────┼─────────────────────────────┼─────────────────┤\n",
              "│ dense (<span style=\"color: #0087ff; text-decoration-color: #0087ff\">Dense</span>)                        │ (<span style=\"color: #00d7ff; text-decoration-color: #00d7ff\">None</span>, <span style=\"color: #00af00; text-decoration-color: #00af00\">128</span>)                 │         <span style=\"color: #00af00; text-decoration-color: #00af00\">692,352</span> │\n",
              "├──────────────────────────────────────┼─────────────────────────────┼─────────────────┤\n",
              "│ dense_1 (<span style=\"color: #0087ff; text-decoration-color: #0087ff\">Dense</span>)                      │ (<span style=\"color: #00d7ff; text-decoration-color: #00d7ff\">None</span>, <span style=\"color: #00af00; text-decoration-color: #00af00\">10</span>)                  │           <span style=\"color: #00af00; text-decoration-color: #00af00\">1,290</span> │\n",
              "└──────────────────────────────────────┴─────────────────────────────┴─────────────────┘\n",
              "</pre>\n"
            ]
          },
          "metadata": {}
        },
        {
          "output_type": "display_data",
          "data": {
            "text/plain": [
              "\u001b[1m Total params: \u001b[0m\u001b[38;5;34m693,962\u001b[0m (2.65 MB)\n"
            ],
            "text/html": [
              "<pre style=\"white-space:pre;overflow-x:auto;line-height:normal;font-family:Menlo,'DejaVu Sans Mono',consolas,'Courier New',monospace\"><span style=\"font-weight: bold\"> Total params: </span><span style=\"color: #00af00; text-decoration-color: #00af00\">693,962</span> (2.65 MB)\n",
              "</pre>\n"
            ]
          },
          "metadata": {}
        },
        {
          "output_type": "display_data",
          "data": {
            "text/plain": [
              "\u001b[1m Trainable params: \u001b[0m\u001b[38;5;34m693,962\u001b[0m (2.65 MB)\n"
            ],
            "text/html": [
              "<pre style=\"white-space:pre;overflow-x:auto;line-height:normal;font-family:Menlo,'DejaVu Sans Mono',consolas,'Courier New',monospace\"><span style=\"font-weight: bold\"> Trainable params: </span><span style=\"color: #00af00; text-decoration-color: #00af00\">693,962</span> (2.65 MB)\n",
              "</pre>\n"
            ]
          },
          "metadata": {}
        },
        {
          "output_type": "display_data",
          "data": {
            "text/plain": [
              "\u001b[1m Non-trainable params: \u001b[0m\u001b[38;5;34m0\u001b[0m (0.00 B)\n"
            ],
            "text/html": [
              "<pre style=\"white-space:pre;overflow-x:auto;line-height:normal;font-family:Menlo,'DejaVu Sans Mono',consolas,'Courier New',monospace\"><span style=\"font-weight: bold\"> Non-trainable params: </span><span style=\"color: #00af00; text-decoration-color: #00af00\">0</span> (0.00 B)\n",
              "</pre>\n"
            ]
          },
          "metadata": {}
        }
      ]
    },
    {
      "cell_type": "code",
      "source": [
        "model.fit(x_train,y_train, validation_data=(x_test,y_test), epochs=15)"
      ],
      "metadata": {
        "colab": {
          "base_uri": "https://localhost:8080/"
        },
        "id": "Gcw1KEDvrSCY",
        "outputId": "af155d9b-be62-49e1-fae0-e770e06ea18c"
      },
      "id": "Gcw1KEDvrSCY",
      "execution_count": null,
      "outputs": [
        {
          "output_type": "stream",
          "name": "stdout",
          "text": [
            "Epoch 1/15\n",
            "\u001b[1m1875/1875\u001b[0m \u001b[32m━━━━━━━━━━━━━━━━━━━━\u001b[0m\u001b[37m\u001b[0m \u001b[1m63s\u001b[0m 33ms/step - accuracy: 0.9137 - loss: 0.2949 - val_accuracy: 0.9802 - val_loss: 0.0589\n",
            "Epoch 2/15\n",
            "\u001b[1m1875/1875\u001b[0m \u001b[32m━━━━━━━━━━━━━━━━━━━━\u001b[0m\u001b[37m\u001b[0m \u001b[1m64s\u001b[0m 23ms/step - accuracy: 0.9829 - loss: 0.0518 - val_accuracy: 0.9832 - val_loss: 0.0531\n",
            "Epoch 3/15\n",
            "\u001b[1m1875/1875\u001b[0m \u001b[32m━━━━━━━━━━━━━━━━━━━━\u001b[0m\u001b[37m\u001b[0m \u001b[1m46s\u001b[0m 25ms/step - accuracy: 0.9906 - loss: 0.0319 - val_accuracy: 0.9834 - val_loss: 0.0497\n",
            "Epoch 4/15\n",
            "\u001b[1m1875/1875\u001b[0m \u001b[32m━━━━━━━━━━━━━━━━━━━━\u001b[0m\u001b[37m\u001b[0m \u001b[1m43s\u001b[0m 23ms/step - accuracy: 0.9942 - loss: 0.0185 - val_accuracy: 0.9868 - val_loss: 0.0400\n",
            "Epoch 5/15\n",
            "\u001b[1m1875/1875\u001b[0m \u001b[32m━━━━━━━━━━━━━━━━━━━━\u001b[0m\u001b[37m\u001b[0m \u001b[1m83s\u001b[0m 24ms/step - accuracy: 0.9967 - loss: 0.0105 - val_accuracy: 0.9867 - val_loss: 0.0469\n",
            "Epoch 6/15\n",
            "\u001b[1m1875/1875\u001b[0m \u001b[32m━━━━━━━━━━━━━━━━━━━━\u001b[0m\u001b[37m\u001b[0m \u001b[1m81s\u001b[0m 23ms/step - accuracy: 0.9972 - loss: 0.0081 - val_accuracy: 0.9861 - val_loss: 0.0438\n",
            "Epoch 7/15\n",
            "\u001b[1m1875/1875\u001b[0m \u001b[32m━━━━━━━━━━━━━━━━━━━━\u001b[0m\u001b[37m\u001b[0m \u001b[1m86s\u001b[0m 25ms/step - accuracy: 0.9988 - loss: 0.0043 - val_accuracy: 0.9855 - val_loss: 0.0518\n",
            "Epoch 8/15\n",
            "\u001b[1m1875/1875\u001b[0m \u001b[32m━━━━━━━━━━━━━━━━━━━━\u001b[0m\u001b[37m\u001b[0m \u001b[1m78s\u001b[0m 23ms/step - accuracy: 0.9991 - loss: 0.0037 - val_accuracy: 0.9880 - val_loss: 0.0487\n",
            "Epoch 9/15\n",
            "\u001b[1m1875/1875\u001b[0m \u001b[32m━━━━━━━━━━━━━━━━━━━━\u001b[0m\u001b[37m\u001b[0m \u001b[1m83s\u001b[0m 24ms/step - accuracy: 0.9991 - loss: 0.0029 - val_accuracy: 0.9845 - val_loss: 0.0582\n",
            "Epoch 10/15\n",
            "\u001b[1m1875/1875\u001b[0m \u001b[32m━━━━━━━━━━━━━━━━━━━━\u001b[0m\u001b[37m\u001b[0m \u001b[1m81s\u001b[0m 23ms/step - accuracy: 0.9986 - loss: 0.0041 - val_accuracy: 0.9859 - val_loss: 0.0613\n",
            "Epoch 11/15\n",
            "\u001b[1m1875/1875\u001b[0m \u001b[32m━━━━━━━━━━━━━━━━━━━━\u001b[0m\u001b[37m\u001b[0m \u001b[1m44s\u001b[0m 23ms/step - accuracy: 0.9991 - loss: 0.0027 - val_accuracy: 0.9882 - val_loss: 0.0530\n",
            "Epoch 12/15\n",
            "\u001b[1m1875/1875\u001b[0m \u001b[32m━━━━━━━━━━━━━━━━━━━━\u001b[0m\u001b[37m\u001b[0m \u001b[1m81s\u001b[0m 23ms/step - accuracy: 0.9993 - loss: 0.0025 - val_accuracy: 0.9875 - val_loss: 0.0546\n",
            "Epoch 13/15\n",
            "\u001b[1m1875/1875\u001b[0m \u001b[32m━━━━━━━━━━━━━━━━━━━━\u001b[0m\u001b[37m\u001b[0m \u001b[1m46s\u001b[0m 25ms/step - accuracy: 0.9993 - loss: 0.0023 - val_accuracy: 0.9869 - val_loss: 0.0619\n",
            "Epoch 14/15\n",
            "\u001b[1m1875/1875\u001b[0m \u001b[32m━━━━━━━━━━━━━━━━━━━━\u001b[0m\u001b[37m\u001b[0m \u001b[1m80s\u001b[0m 24ms/step - accuracy: 0.9987 - loss: 0.0030 - val_accuracy: 0.9874 - val_loss: 0.0665\n",
            "Epoch 15/15\n",
            "\u001b[1m1875/1875\u001b[0m \u001b[32m━━━━━━━━━━━━━━━━━━━━\u001b[0m\u001b[37m\u001b[0m \u001b[1m44s\u001b[0m 23ms/step - accuracy: 0.9994 - loss: 0.0018 - val_accuracy: 0.9871 - val_loss: 0.0632\n"
          ]
        },
        {
          "output_type": "execute_result",
          "data": {
            "text/plain": [
              "<keras.src.callbacks.history.History at 0x78727b27bd60>"
            ]
          },
          "metadata": {},
          "execution_count": 18
        }
      ]
    },
    {
      "cell_type": "code",
      "source": [
        "loss, accuracy = model.evaluate(x_test, y_test)"
      ],
      "metadata": {
        "colab": {
          "base_uri": "https://localhost:8080/"
        },
        "id": "SU4epjEXrkh7",
        "outputId": "4256b27e-ed98-45db-8f9a-e16c6eaf1d12"
      },
      "id": "SU4epjEXrkh7",
      "execution_count": null,
      "outputs": [
        {
          "output_type": "stream",
          "name": "stdout",
          "text": [
            "\u001b[1m313/313\u001b[0m \u001b[32m━━━━━━━━━━━━━━━━━━━━\u001b[0m\u001b[37m\u001b[0m \u001b[1m3s\u001b[0m 11ms/step - accuracy: 0.9824 - loss: 0.0894\n"
          ]
        }
      ]
    },
    {
      "cell_type": "code",
      "source": [
        "loss, accuracy"
      ],
      "metadata": {
        "colab": {
          "base_uri": "https://localhost:8080/"
        },
        "id": "cRnRHfOIvhMM",
        "outputId": "fe331ee2-759d-4cb8-a056-089ae28c735b"
      },
      "id": "cRnRHfOIvhMM",
      "execution_count": null,
      "outputs": [
        {
          "output_type": "execute_result",
          "data": {
            "text/plain": [
              "(0.06315406411886215, 0.9871000051498413)"
            ]
          },
          "metadata": {},
          "execution_count": 22
        }
      ]
    },
    {
      "cell_type": "code",
      "source": [
        "model = Sequential()\n",
        "model.add(Conv2D(32, kernel_size=(3,3), activation='relu', input_shape=input_shape))\n",
        "model.add(MaxPooling2D(pool_size=(2,2)))\n",
        "\n",
        "model.add(Conv2D(64, kernel_size=(3,3), activation='relu', input_shape=input_shape))\n",
        "model.add(MaxPooling2D(pool_size=(2,2)))\n",
        "\n",
        "model.add(Conv2D(128, kernel_size=(3,3), activation='relu', input_shape=input_shape))\n",
        "model.add(MaxPooling2D(pool_size=(2,2)))\n",
        "\n",
        "model.add(Flatten())\n",
        "model.add(Dropout(0.3))\n",
        "\n",
        "model.add(Dense(128, activation='relu'))\n",
        "model.add(Dense(num_classes, activation=\"softmax\"))"
      ],
      "metadata": {
        "colab": {
          "base_uri": "https://localhost:8080/"
        },
        "id": "Yy8n89n8vpRQ",
        "outputId": "2a72e48f-4562-4441-c0dd-3548756f0345"
      },
      "id": "Yy8n89n8vpRQ",
      "execution_count": null,
      "outputs": [
        {
          "output_type": "stream",
          "name": "stderr",
          "text": [
            "/usr/local/lib/python3.10/dist-packages/keras/src/layers/convolutional/base_conv.py:107: UserWarning: Do not pass an `input_shape`/`input_dim` argument to a layer. When using Sequential models, prefer using an `Input(shape)` object as the first layer in the model instead.\n",
            "  super().__init__(activity_regularizer=activity_regularizer, **kwargs)\n"
          ]
        }
      ]
    },
    {
      "cell_type": "code",
      "source": [
        "model.compile(optimizer=\"adam\",  loss=\"sparse_categorical_crossentropy\", metrics=['accuracy'])"
      ],
      "metadata": {
        "id": "hpRBel0uxTP0"
      },
      "id": "hpRBel0uxTP0",
      "execution_count": null,
      "outputs": []
    },
    {
      "cell_type": "code",
      "source": [
        "model.summary()"
      ],
      "metadata": {
        "colab": {
          "base_uri": "https://localhost:8080/",
          "height": 449
        },
        "id": "jhTOsNeDxaL5",
        "outputId": "2a2c15b9-f8d8-4485-a8e7-4db62df4cc06"
      },
      "id": "jhTOsNeDxaL5",
      "execution_count": null,
      "outputs": [
        {
          "output_type": "display_data",
          "data": {
            "text/plain": [
              "\u001b[1mModel: \"sequential_2\"\u001b[0m\n"
            ],
            "text/html": [
              "<pre style=\"white-space:pre;overflow-x:auto;line-height:normal;font-family:Menlo,'DejaVu Sans Mono',consolas,'Courier New',monospace\"><span style=\"font-weight: bold\">Model: \"sequential_2\"</span>\n",
              "</pre>\n"
            ]
          },
          "metadata": {}
        },
        {
          "output_type": "display_data",
          "data": {
            "text/plain": [
              "┏━━━━━━━━━━━━━━━━━━━━━━━━━━━━━━━━━━━━━━┳━━━━━━━━━━━━━━━━━━━━━━━━━━━━━┳━━━━━━━━━━━━━━━━━┓\n",
              "┃\u001b[1m \u001b[0m\u001b[1mLayer (type)                        \u001b[0m\u001b[1m \u001b[0m┃\u001b[1m \u001b[0m\u001b[1mOutput Shape               \u001b[0m\u001b[1m \u001b[0m┃\u001b[1m \u001b[0m\u001b[1m        Param #\u001b[0m\u001b[1m \u001b[0m┃\n",
              "┡━━━━━━━━━━━━━━━━━━━━━━━━━━━━━━━━━━━━━━╇━━━━━━━━━━━━━━━━━━━━━━━━━━━━━╇━━━━━━━━━━━━━━━━━┩\n",
              "│ conv2d_1 (\u001b[38;5;33mConv2D\u001b[0m)                    │ (\u001b[38;5;45mNone\u001b[0m, \u001b[38;5;34m26\u001b[0m, \u001b[38;5;34m26\u001b[0m, \u001b[38;5;34m32\u001b[0m)          │             \u001b[38;5;34m320\u001b[0m │\n",
              "├──────────────────────────────────────┼─────────────────────────────┼─────────────────┤\n",
              "│ max_pooling2d_1 (\u001b[38;5;33mMaxPooling2D\u001b[0m)       │ (\u001b[38;5;45mNone\u001b[0m, \u001b[38;5;34m13\u001b[0m, \u001b[38;5;34m13\u001b[0m, \u001b[38;5;34m32\u001b[0m)          │               \u001b[38;5;34m0\u001b[0m │\n",
              "├──────────────────────────────────────┼─────────────────────────────┼─────────────────┤\n",
              "│ conv2d_2 (\u001b[38;5;33mConv2D\u001b[0m)                    │ (\u001b[38;5;45mNone\u001b[0m, \u001b[38;5;34m11\u001b[0m, \u001b[38;5;34m11\u001b[0m, \u001b[38;5;34m64\u001b[0m)          │          \u001b[38;5;34m18,496\u001b[0m │\n",
              "├──────────────────────────────────────┼─────────────────────────────┼─────────────────┤\n",
              "│ max_pooling2d_2 (\u001b[38;5;33mMaxPooling2D\u001b[0m)       │ (\u001b[38;5;45mNone\u001b[0m, \u001b[38;5;34m5\u001b[0m, \u001b[38;5;34m5\u001b[0m, \u001b[38;5;34m64\u001b[0m)            │               \u001b[38;5;34m0\u001b[0m │\n",
              "├──────────────────────────────────────┼─────────────────────────────┼─────────────────┤\n",
              "│ conv2d_3 (\u001b[38;5;33mConv2D\u001b[0m)                    │ (\u001b[38;5;45mNone\u001b[0m, \u001b[38;5;34m3\u001b[0m, \u001b[38;5;34m3\u001b[0m, \u001b[38;5;34m128\u001b[0m)           │          \u001b[38;5;34m73,856\u001b[0m │\n",
              "├──────────────────────────────────────┼─────────────────────────────┼─────────────────┤\n",
              "│ max_pooling2d_3 (\u001b[38;5;33mMaxPooling2D\u001b[0m)       │ (\u001b[38;5;45mNone\u001b[0m, \u001b[38;5;34m1\u001b[0m, \u001b[38;5;34m1\u001b[0m, \u001b[38;5;34m128\u001b[0m)           │               \u001b[38;5;34m0\u001b[0m │\n",
              "├──────────────────────────────────────┼─────────────────────────────┼─────────────────┤\n",
              "│ flatten_1 (\u001b[38;5;33mFlatten\u001b[0m)                  │ (\u001b[38;5;45mNone\u001b[0m, \u001b[38;5;34m128\u001b[0m)                 │               \u001b[38;5;34m0\u001b[0m │\n",
              "├──────────────────────────────────────┼─────────────────────────────┼─────────────────┤\n",
              "│ dropout (\u001b[38;5;33mDropout\u001b[0m)                    │ (\u001b[38;5;45mNone\u001b[0m, \u001b[38;5;34m128\u001b[0m)                 │               \u001b[38;5;34m0\u001b[0m │\n",
              "├──────────────────────────────────────┼─────────────────────────────┼─────────────────┤\n",
              "│ dense_2 (\u001b[38;5;33mDense\u001b[0m)                      │ (\u001b[38;5;45mNone\u001b[0m, \u001b[38;5;34m128\u001b[0m)                 │          \u001b[38;5;34m16,512\u001b[0m │\n",
              "├──────────────────────────────────────┼─────────────────────────────┼─────────────────┤\n",
              "│ dense_3 (\u001b[38;5;33mDense\u001b[0m)                      │ (\u001b[38;5;45mNone\u001b[0m, \u001b[38;5;34m10\u001b[0m)                  │           \u001b[38;5;34m1,290\u001b[0m │\n",
              "└──────────────────────────────────────┴─────────────────────────────┴─────────────────┘\n"
            ],
            "text/html": [
              "<pre style=\"white-space:pre;overflow-x:auto;line-height:normal;font-family:Menlo,'DejaVu Sans Mono',consolas,'Courier New',monospace\">┏━━━━━━━━━━━━━━━━━━━━━━━━━━━━━━━━━━━━━━┳━━━━━━━━━━━━━━━━━━━━━━━━━━━━━┳━━━━━━━━━━━━━━━━━┓\n",
              "┃<span style=\"font-weight: bold\"> Layer (type)                         </span>┃<span style=\"font-weight: bold\"> Output Shape                </span>┃<span style=\"font-weight: bold\">         Param # </span>┃\n",
              "┡━━━━━━━━━━━━━━━━━━━━━━━━━━━━━━━━━━━━━━╇━━━━━━━━━━━━━━━━━━━━━━━━━━━━━╇━━━━━━━━━━━━━━━━━┩\n",
              "│ conv2d_1 (<span style=\"color: #0087ff; text-decoration-color: #0087ff\">Conv2D</span>)                    │ (<span style=\"color: #00d7ff; text-decoration-color: #00d7ff\">None</span>, <span style=\"color: #00af00; text-decoration-color: #00af00\">26</span>, <span style=\"color: #00af00; text-decoration-color: #00af00\">26</span>, <span style=\"color: #00af00; text-decoration-color: #00af00\">32</span>)          │             <span style=\"color: #00af00; text-decoration-color: #00af00\">320</span> │\n",
              "├──────────────────────────────────────┼─────────────────────────────┼─────────────────┤\n",
              "│ max_pooling2d_1 (<span style=\"color: #0087ff; text-decoration-color: #0087ff\">MaxPooling2D</span>)       │ (<span style=\"color: #00d7ff; text-decoration-color: #00d7ff\">None</span>, <span style=\"color: #00af00; text-decoration-color: #00af00\">13</span>, <span style=\"color: #00af00; text-decoration-color: #00af00\">13</span>, <span style=\"color: #00af00; text-decoration-color: #00af00\">32</span>)          │               <span style=\"color: #00af00; text-decoration-color: #00af00\">0</span> │\n",
              "├──────────────────────────────────────┼─────────────────────────────┼─────────────────┤\n",
              "│ conv2d_2 (<span style=\"color: #0087ff; text-decoration-color: #0087ff\">Conv2D</span>)                    │ (<span style=\"color: #00d7ff; text-decoration-color: #00d7ff\">None</span>, <span style=\"color: #00af00; text-decoration-color: #00af00\">11</span>, <span style=\"color: #00af00; text-decoration-color: #00af00\">11</span>, <span style=\"color: #00af00; text-decoration-color: #00af00\">64</span>)          │          <span style=\"color: #00af00; text-decoration-color: #00af00\">18,496</span> │\n",
              "├──────────────────────────────────────┼─────────────────────────────┼─────────────────┤\n",
              "│ max_pooling2d_2 (<span style=\"color: #0087ff; text-decoration-color: #0087ff\">MaxPooling2D</span>)       │ (<span style=\"color: #00d7ff; text-decoration-color: #00d7ff\">None</span>, <span style=\"color: #00af00; text-decoration-color: #00af00\">5</span>, <span style=\"color: #00af00; text-decoration-color: #00af00\">5</span>, <span style=\"color: #00af00; text-decoration-color: #00af00\">64</span>)            │               <span style=\"color: #00af00; text-decoration-color: #00af00\">0</span> │\n",
              "├──────────────────────────────────────┼─────────────────────────────┼─────────────────┤\n",
              "│ conv2d_3 (<span style=\"color: #0087ff; text-decoration-color: #0087ff\">Conv2D</span>)                    │ (<span style=\"color: #00d7ff; text-decoration-color: #00d7ff\">None</span>, <span style=\"color: #00af00; text-decoration-color: #00af00\">3</span>, <span style=\"color: #00af00; text-decoration-color: #00af00\">3</span>, <span style=\"color: #00af00; text-decoration-color: #00af00\">128</span>)           │          <span style=\"color: #00af00; text-decoration-color: #00af00\">73,856</span> │\n",
              "├──────────────────────────────────────┼─────────────────────────────┼─────────────────┤\n",
              "│ max_pooling2d_3 (<span style=\"color: #0087ff; text-decoration-color: #0087ff\">MaxPooling2D</span>)       │ (<span style=\"color: #00d7ff; text-decoration-color: #00d7ff\">None</span>, <span style=\"color: #00af00; text-decoration-color: #00af00\">1</span>, <span style=\"color: #00af00; text-decoration-color: #00af00\">1</span>, <span style=\"color: #00af00; text-decoration-color: #00af00\">128</span>)           │               <span style=\"color: #00af00; text-decoration-color: #00af00\">0</span> │\n",
              "├──────────────────────────────────────┼─────────────────────────────┼─────────────────┤\n",
              "│ flatten_1 (<span style=\"color: #0087ff; text-decoration-color: #0087ff\">Flatten</span>)                  │ (<span style=\"color: #00d7ff; text-decoration-color: #00d7ff\">None</span>, <span style=\"color: #00af00; text-decoration-color: #00af00\">128</span>)                 │               <span style=\"color: #00af00; text-decoration-color: #00af00\">0</span> │\n",
              "├──────────────────────────────────────┼─────────────────────────────┼─────────────────┤\n",
              "│ dropout (<span style=\"color: #0087ff; text-decoration-color: #0087ff\">Dropout</span>)                    │ (<span style=\"color: #00d7ff; text-decoration-color: #00d7ff\">None</span>, <span style=\"color: #00af00; text-decoration-color: #00af00\">128</span>)                 │               <span style=\"color: #00af00; text-decoration-color: #00af00\">0</span> │\n",
              "├──────────────────────────────────────┼─────────────────────────────┼─────────────────┤\n",
              "│ dense_2 (<span style=\"color: #0087ff; text-decoration-color: #0087ff\">Dense</span>)                      │ (<span style=\"color: #00d7ff; text-decoration-color: #00d7ff\">None</span>, <span style=\"color: #00af00; text-decoration-color: #00af00\">128</span>)                 │          <span style=\"color: #00af00; text-decoration-color: #00af00\">16,512</span> │\n",
              "├──────────────────────────────────────┼─────────────────────────────┼─────────────────┤\n",
              "│ dense_3 (<span style=\"color: #0087ff; text-decoration-color: #0087ff\">Dense</span>)                      │ (<span style=\"color: #00d7ff; text-decoration-color: #00d7ff\">None</span>, <span style=\"color: #00af00; text-decoration-color: #00af00\">10</span>)                  │           <span style=\"color: #00af00; text-decoration-color: #00af00\">1,290</span> │\n",
              "└──────────────────────────────────────┴─────────────────────────────┴─────────────────┘\n",
              "</pre>\n"
            ]
          },
          "metadata": {}
        },
        {
          "output_type": "display_data",
          "data": {
            "text/plain": [
              "\u001b[1m Total params: \u001b[0m\u001b[38;5;34m110,474\u001b[0m (431.54 KB)\n"
            ],
            "text/html": [
              "<pre style=\"white-space:pre;overflow-x:auto;line-height:normal;font-family:Menlo,'DejaVu Sans Mono',consolas,'Courier New',monospace\"><span style=\"font-weight: bold\"> Total params: </span><span style=\"color: #00af00; text-decoration-color: #00af00\">110,474</span> (431.54 KB)\n",
              "</pre>\n"
            ]
          },
          "metadata": {}
        },
        {
          "output_type": "display_data",
          "data": {
            "text/plain": [
              "\u001b[1m Trainable params: \u001b[0m\u001b[38;5;34m110,474\u001b[0m (431.54 KB)\n"
            ],
            "text/html": [
              "<pre style=\"white-space:pre;overflow-x:auto;line-height:normal;font-family:Menlo,'DejaVu Sans Mono',consolas,'Courier New',monospace\"><span style=\"font-weight: bold\"> Trainable params: </span><span style=\"color: #00af00; text-decoration-color: #00af00\">110,474</span> (431.54 KB)\n",
              "</pre>\n"
            ]
          },
          "metadata": {}
        },
        {
          "output_type": "display_data",
          "data": {
            "text/plain": [
              "\u001b[1m Non-trainable params: \u001b[0m\u001b[38;5;34m0\u001b[0m (0.00 B)\n"
            ],
            "text/html": [
              "<pre style=\"white-space:pre;overflow-x:auto;line-height:normal;font-family:Menlo,'DejaVu Sans Mono',consolas,'Courier New',monospace\"><span style=\"font-weight: bold\"> Non-trainable params: </span><span style=\"color: #00af00; text-decoration-color: #00af00\">0</span> (0.00 B)\n",
              "</pre>\n"
            ]
          },
          "metadata": {}
        }
      ]
    },
    {
      "cell_type": "code",
      "source": [
        "model.fit(x_train,y_train, validation_data=(x_test,y_test), epochs=15)"
      ],
      "metadata": {
        "colab": {
          "base_uri": "https://localhost:8080/"
        },
        "id": "YRDJ42LMxcfF",
        "outputId": "7f403579-1aff-49a6-810b-9dc0309d86d4"
      },
      "id": "YRDJ42LMxcfF",
      "execution_count": null,
      "outputs": [
        {
          "output_type": "stream",
          "name": "stdout",
          "text": [
            "Epoch 1/15\n",
            "\u001b[1m1875/1875\u001b[0m \u001b[32m━━━━━━━━━━━━━━━━━━━━\u001b[0m\u001b[37m\u001b[0m \u001b[1m80s\u001b[0m 41ms/step - accuracy: 0.8325 - loss: 0.5147 - val_accuracy: 0.9772 - val_loss: 0.0706\n",
            "Epoch 2/15\n",
            "\u001b[1m1875/1875\u001b[0m \u001b[32m━━━━━━━━━━━━━━━━━━━━\u001b[0m\u001b[37m\u001b[0m \u001b[1m67s\u001b[0m 36ms/step - accuracy: 0.9706 - loss: 0.0955 - val_accuracy: 0.9818 - val_loss: 0.0647\n",
            "Epoch 3/15\n",
            "\u001b[1m1875/1875\u001b[0m \u001b[32m━━━━━━━━━━━━━━━━━━━━\u001b[0m\u001b[37m\u001b[0m \u001b[1m66s\u001b[0m 35ms/step - accuracy: 0.9801 - loss: 0.0663 - val_accuracy: 0.9850 - val_loss: 0.0497\n",
            "Epoch 4/15\n",
            "\u001b[1m1875/1875\u001b[0m \u001b[32m━━━━━━━━━━━━━━━━━━━━\u001b[0m\u001b[37m\u001b[0m \u001b[1m65s\u001b[0m 35ms/step - accuracy: 0.9838 - loss: 0.0497 - val_accuracy: 0.9877 - val_loss: 0.0414\n",
            "Epoch 5/15\n",
            "\u001b[1m1875/1875\u001b[0m \u001b[32m━━━━━━━━━━━━━━━━━━━━\u001b[0m\u001b[37m\u001b[0m \u001b[1m82s\u001b[0m 35ms/step - accuracy: 0.9862 - loss: 0.0431 - val_accuracy: 0.9879 - val_loss: 0.0419\n",
            "Epoch 6/15\n",
            "\u001b[1m1875/1875\u001b[0m \u001b[32m━━━━━━━━━━━━━━━━━━━━\u001b[0m\u001b[37m\u001b[0m \u001b[1m82s\u001b[0m 35ms/step - accuracy: 0.9879 - loss: 0.0395 - val_accuracy: 0.9894 - val_loss: 0.0375\n",
            "Epoch 7/15\n",
            "\u001b[1m1875/1875\u001b[0m \u001b[32m━━━━━━━━━━━━━━━━━━━━\u001b[0m\u001b[37m\u001b[0m \u001b[1m82s\u001b[0m 35ms/step - accuracy: 0.9888 - loss: 0.0344 - val_accuracy: 0.9890 - val_loss: 0.0414\n",
            "Epoch 8/15\n",
            "\u001b[1m1875/1875\u001b[0m \u001b[32m━━━━━━━━━━━━━━━━━━━━\u001b[0m\u001b[37m\u001b[0m \u001b[1m82s\u001b[0m 34ms/step - accuracy: 0.9908 - loss: 0.0290 - val_accuracy: 0.9882 - val_loss: 0.0442\n",
            "Epoch 9/15\n",
            "\u001b[1m1875/1875\u001b[0m \u001b[32m━━━━━━━━━━━━━━━━━━━━\u001b[0m\u001b[37m\u001b[0m \u001b[1m64s\u001b[0m 34ms/step - accuracy: 0.9918 - loss: 0.0262 - val_accuracy: 0.9886 - val_loss: 0.0392\n",
            "Epoch 10/15\n",
            "\u001b[1m1875/1875\u001b[0m \u001b[32m━━━━━━━━━━━━━━━━━━━━\u001b[0m\u001b[37m\u001b[0m \u001b[1m83s\u001b[0m 35ms/step - accuracy: 0.9919 - loss: 0.0255 - val_accuracy: 0.9886 - val_loss: 0.0450\n",
            "Epoch 11/15\n",
            "\u001b[1m1875/1875\u001b[0m \u001b[32m━━━━━━━━━━━━━━━━━━━━\u001b[0m\u001b[37m\u001b[0m \u001b[1m82s\u001b[0m 35ms/step - accuracy: 0.9931 - loss: 0.0225 - val_accuracy: 0.9886 - val_loss: 0.0440\n",
            "Epoch 12/15\n",
            "\u001b[1m1875/1875\u001b[0m \u001b[32m━━━━━━━━━━━━━━━━━━━━\u001b[0m\u001b[37m\u001b[0m \u001b[1m83s\u001b[0m 35ms/step - accuracy: 0.9929 - loss: 0.0217 - val_accuracy: 0.9873 - val_loss: 0.0524\n",
            "Epoch 13/15\n",
            "\u001b[1m1875/1875\u001b[0m \u001b[32m━━━━━━━━━━━━━━━━━━━━\u001b[0m\u001b[37m\u001b[0m \u001b[1m67s\u001b[0m 35ms/step - accuracy: 0.9934 - loss: 0.0200 - val_accuracy: 0.9875 - val_loss: 0.0530\n",
            "Epoch 14/15\n",
            "\u001b[1m1875/1875\u001b[0m \u001b[32m━━━━━━━━━━━━━━━━━━━━\u001b[0m\u001b[37m\u001b[0m \u001b[1m82s\u001b[0m 35ms/step - accuracy: 0.9939 - loss: 0.0185 - val_accuracy: 0.9874 - val_loss: 0.0553\n",
            "Epoch 15/15\n",
            "\u001b[1m1875/1875\u001b[0m \u001b[32m━━━━━━━━━━━━━━━━━━━━\u001b[0m\u001b[37m\u001b[0m \u001b[1m65s\u001b[0m 34ms/step - accuracy: 0.9948 - loss: 0.0165 - val_accuracy: 0.9891 - val_loss: 0.0464\n"
          ]
        },
        {
          "output_type": "execute_result",
          "data": {
            "text/plain": [
              "<keras.src.callbacks.history.History at 0x78724fea9ba0>"
            ]
          },
          "metadata": {},
          "execution_count": 26
        }
      ]
    },
    {
      "cell_type": "code",
      "source": [
        "model.evaluate(x_test, y_test)"
      ],
      "metadata": {
        "colab": {
          "base_uri": "https://localhost:8080/"
        },
        "id": "XnDJgk63xx5i",
        "outputId": "78b8ce79-d3a1-4951-928e-911c21810331"
      },
      "id": "XnDJgk63xx5i",
      "execution_count": null,
      "outputs": [
        {
          "output_type": "stream",
          "name": "stdout",
          "text": [
            "\u001b[1m313/313\u001b[0m \u001b[32m━━━━━━━━━━━━━━━━━━━━\u001b[0m\u001b[37m\u001b[0m \u001b[1m6s\u001b[0m 19ms/step - accuracy: 0.9862 - loss: 0.0587\n"
          ]
        },
        {
          "output_type": "execute_result",
          "data": {
            "text/plain": [
              "[0.04637250304222107, 0.9890999794006348]"
            ]
          },
          "metadata": {},
          "execution_count": 27
        }
      ]
    },
    {
      "cell_type": "markdown",
      "source": [
        "### leNet-5"
      ],
      "metadata": {
        "id": "boCArWG74Nui"
      },
      "id": "boCArWG74Nui"
    },
    {
      "cell_type": "code",
      "source": [
        "from tensorflow.keras.datasets import cifar10"
      ],
      "metadata": {
        "id": "JXwmoIms4MTd"
      },
      "id": "JXwmoIms4MTd",
      "execution_count": null,
      "outputs": []
    },
    {
      "cell_type": "code",
      "source": [
        "(x_train, y_train), (x_test, y_test) = cifar10.load_data()"
      ],
      "metadata": {
        "id": "y6jNfrm82fVN"
      },
      "id": "y6jNfrm82fVN",
      "execution_count": null,
      "outputs": []
    },
    {
      "cell_type": "code",
      "source": [
        "x_train.shape, x_test.shape"
      ],
      "metadata": {
        "colab": {
          "base_uri": "https://localhost:8080/"
        },
        "id": "C6eAmP1V4bjT",
        "outputId": "fc04b445-bb04-4d58-af1f-86ab8b5e7eb1"
      },
      "id": "C6eAmP1V4bjT",
      "execution_count": null,
      "outputs": [
        {
          "output_type": "execute_result",
          "data": {
            "text/plain": [
              "((50000, 32, 32, 3), (10000, 32, 32, 3))"
            ]
          },
          "metadata": {},
          "execution_count": 17
        }
      ]
    },
    {
      "cell_type": "code",
      "source": [
        "import matplotlib.pyplot as plt\n",
        "\n",
        "for i in range(25):\n",
        "    plt.subplot(5,5,i+1)\n",
        "    plt.imshow(x_train[i])\n",
        "    # plt.title(y_train[i])\n",
        "plt.show()"
      ],
      "metadata": {
        "colab": {
          "base_uri": "https://localhost:8080/",
          "height": 434
        },
        "id": "mwuaJ0SZ4ttQ",
        "outputId": "a41141db-f2b2-4321-a0b9-f6d935fdf2c8"
      },
      "id": "mwuaJ0SZ4ttQ",
      "execution_count": null,
      "outputs": [
        {
          "output_type": "display_data",
          "data": {
            "text/plain": [
              "<Figure size 640x480 with 25 Axes>"
            ],
            "image/png": "[encoded data removed]"
          },
          "metadata": {}
        }
      ]
    },
    {
      "cell_type": "code",
      "source": [
        "x_train = x_train.astype('float32') / 255.0\n",
        "x_test = x_test.astype('float32') / 255.0"
      ],
      "metadata": {
        "id": "eL26FpGH4ep3"
      },
      "id": "eL26FpGH4ep3",
      "execution_count": null,
      "outputs": []
    },
    {
      "cell_type": "code",
      "source": [
        "model = Sequential()\n",
        "model.add(Conv2D(32, kernel_size=(5,5), activation='tanh', input_shape=(32,32,3), padding='same'))\n",
        "model.add(MaxPooling2D(pool_size=(2,2), strides=2))\n",
        "\n",
        "model.add(Conv2D(64, kernel_size=(5,5), activation='tanh',padding='valid'))\n",
        "model.add(MaxPooling2D(pool_size=(2,2), strides=2))\n",
        "\n",
        "model.add(Conv2D(128, kernel_size=(5,5), activation='tanh', padding='valid'))\n",
        "model.add(MaxPooling2D(pool_size=(2,2), strides=2))\n",
        "\n",
        "model.add(Flatten())\n",
        "\n",
        "model.add(Dense(128, activation='tanh'))\n",
        "\n",
        "model.add(Dense(10, activation=\"softmax\"))"
      ],
      "metadata": {
        "colab": {
          "base_uri": "https://localhost:8080/"
        },
        "id": "HmHHroMB4lar",
        "outputId": "4358311e-458f-420c-d949-7e3968f771cb"
      },
      "id": "HmHHroMB4lar",
      "execution_count": null,
      "outputs": [
        {
          "output_type": "stream",
          "name": "stderr",
          "text": [
            "/usr/local/lib/python3.10/dist-packages/keras/src/layers/convolutional/base_conv.py:107: UserWarning: Do not pass an `input_shape`/`input_dim` argument to a layer. When using Sequential models, prefer using an `Input(shape)` object as the first layer in the model instead.\n",
            "  super().__init__(activity_regularizer=activity_regularizer, **kwargs)\n"
          ]
        }
      ]
    },
    {
      "cell_type": "code",
      "source": [
        "model.compile(optimizer=\"adam\",  loss=\"sparse_categorical_crossentropy\", metrics=['accuracy'])"
      ],
      "metadata": {
        "id": "1VcEGGGG6MeO"
      },
      "id": "1VcEGGGG6MeO",
      "execution_count": null,
      "outputs": []
    },
    {
      "cell_type": "code",
      "source": [
        "model.summary()"
      ],
      "metadata": {
        "colab": {
          "base_uri": "https://localhost:8080/",
          "height": 417
        },
        "id": "a_RGdrKq6GBT",
        "outputId": "afac25d5-2cae-4dec-b2f4-e8da3925db99"
      },
      "id": "a_RGdrKq6GBT",
      "execution_count": null,
      "outputs": [
        {
          "output_type": "display_data",
          "data": {
            "text/plain": [
              "\u001b[1mModel: \"sequential\"\u001b[0m\n"
            ],
            "text/html": [
              "<pre style=\"white-space:pre;overflow-x:auto;line-height:normal;font-family:Menlo,'DejaVu Sans Mono',consolas,'Courier New',monospace\"><span style=\"font-weight: bold\">Model: \"sequential\"</span>\n",
              "</pre>\n"
            ]
          },
          "metadata": {}
        },
        {
          "output_type": "display_data",
          "data": {
            "text/plain": [
              "┏━━━━━━━━━━━━━━━━━━━━━━━━━━━━━━━━━━━━━━┳━━━━━━━━━━━━━━━━━━━━━━━━━━━━━┳━━━━━━━━━━━━━━━━━┓\n",
              "┃\u001b[1m \u001b[0m\u001b[1mLayer (type)                        \u001b[0m\u001b[1m \u001b[0m┃\u001b[1m \u001b[0m\u001b[1mOutput Shape               \u001b[0m\u001b[1m \u001b[0m┃\u001b[1m \u001b[0m\u001b[1m        Param #\u001b[0m\u001b[1m \u001b[0m┃\n",
              "┡━━━━━━━━━━━━━━━━━━━━━━━━━━━━━━━━━━━━━━╇━━━━━━━━━━━━━━━━━━━━━━━━━━━━━╇━━━━━━━━━━━━━━━━━┩\n",
              "│ conv2d (\u001b[38;5;33mConv2D\u001b[0m)                      │ (\u001b[38;5;45mNone\u001b[0m, \u001b[38;5;34m32\u001b[0m, \u001b[38;5;34m32\u001b[0m, \u001b[38;5;34m32\u001b[0m)          │           \u001b[38;5;34m2,432\u001b[0m │\n",
              "├──────────────────────────────────────┼─────────────────────────────┼─────────────────┤\n",
              "│ max_pooling2d (\u001b[38;5;33mMaxPooling2D\u001b[0m)         │ (\u001b[38;5;45mNone\u001b[0m, \u001b[38;5;34m16\u001b[0m, \u001b[38;5;34m16\u001b[0m, \u001b[38;5;34m32\u001b[0m)          │               \u001b[38;5;34m0\u001b[0m │\n",
              "├──────────────────────────────────────┼─────────────────────────────┼─────────────────┤\n",
              "│ conv2d_1 (\u001b[38;5;33mConv2D\u001b[0m)                    │ (\u001b[38;5;45mNone\u001b[0m, \u001b[38;5;34m12\u001b[0m, \u001b[38;5;34m12\u001b[0m, \u001b[38;5;34m64\u001b[0m)          │          \u001b[38;5;34m51,264\u001b[0m │\n",
              "├──────────────────────────────────────┼─────────────────────────────┼─────────────────┤\n",
              "│ max_pooling2d_1 (\u001b[38;5;33mMaxPooling2D\u001b[0m)       │ (\u001b[38;5;45mNone\u001b[0m, \u001b[38;5;34m6\u001b[0m, \u001b[38;5;34m6\u001b[0m, \u001b[38;5;34m64\u001b[0m)            │               \u001b[38;5;34m0\u001b[0m │\n",
              "├──────────────────────────────────────┼─────────────────────────────┼─────────────────┤\n",
              "│ conv2d_2 (\u001b[38;5;33mConv2D\u001b[0m)                    │ (\u001b[38;5;45mNone\u001b[0m, \u001b[38;5;34m2\u001b[0m, \u001b[38;5;34m2\u001b[0m, \u001b[38;5;34m128\u001b[0m)           │         \u001b[38;5;34m204,928\u001b[0m │\n",
              "├──────────────────────────────────────┼─────────────────────────────┼─────────────────┤\n",
              "│ max_pooling2d_2 (\u001b[38;5;33mMaxPooling2D\u001b[0m)       │ (\u001b[38;5;45mNone\u001b[0m, \u001b[38;5;34m1\u001b[0m, \u001b[38;5;34m1\u001b[0m, \u001b[38;5;34m128\u001b[0m)           │               \u001b[38;5;34m0\u001b[0m │\n",
              "├──────────────────────────────────────┼─────────────────────────────┼─────────────────┤\n",
              "│ flatten (\u001b[38;5;33mFlatten\u001b[0m)                    │ (\u001b[38;5;45mNone\u001b[0m, \u001b[38;5;34m128\u001b[0m)                 │               \u001b[38;5;34m0\u001b[0m │\n",
              "├──────────────────────────────────────┼─────────────────────────────┼─────────────────┤\n",
              "│ dense (\u001b[38;5;33mDense\u001b[0m)                        │ (\u001b[38;5;45mNone\u001b[0m, \u001b[38;5;34m128\u001b[0m)                 │          \u001b[38;5;34m16,512\u001b[0m │\n",
              "├──────────────────────────────────────┼─────────────────────────────┼─────────────────┤\n",
              "│ dense_1 (\u001b[38;5;33mDense\u001b[0m)                      │ (\u001b[38;5;45mNone\u001b[0m, \u001b[38;5;34m10\u001b[0m)                  │           \u001b[38;5;34m1,290\u001b[0m │\n",
              "└──────────────────────────────────────┴─────────────────────────────┴─────────────────┘\n"
            ],
            "text/html": [
              "<pre style=\"white-space:pre;overflow-x:auto;line-height:normal;font-family:Menlo,'DejaVu Sans Mono',consolas,'Courier New',monospace\">┏━━━━━━━━━━━━━━━━━━━━━━━━━━━━━━━━━━━━━━┳━━━━━━━━━━━━━━━━━━━━━━━━━━━━━┳━━━━━━━━━━━━━━━━━┓\n",
              "┃<span style=\"font-weight: bold\"> Layer (type)                         </span>┃<span style=\"font-weight: bold\"> Output Shape                </span>┃<span style=\"font-weight: bold\">         Param # </span>┃\n",
              "┡━━━━━━━━━━━━━━━━━━━━━━━━━━━━━━━━━━━━━━╇━━━━━━━━━━━━━━━━━━━━━━━━━━━━━╇━━━━━━━━━━━━━━━━━┩\n",
              "│ conv2d (<span style=\"color: #0087ff; text-decoration-color: #0087ff\">Conv2D</span>)                      │ (<span style=\"color: #00d7ff; text-decoration-color: #00d7ff\">None</span>, <span style=\"color: #00af00; text-decoration-color: #00af00\">32</span>, <span style=\"color: #00af00; text-decoration-color: #00af00\">32</span>, <span style=\"color: #00af00; text-decoration-color: #00af00\">32</span>)          │           <span style=\"color: #00af00; text-decoration-color: #00af00\">2,432</span> │\n",
              "├──────────────────────────────────────┼─────────────────────────────┼─────────────────┤\n",
              "│ max_pooling2d (<span style=\"color: #0087ff; text-decoration-color: #0087ff\">MaxPooling2D</span>)         │ (<span style=\"color: #00d7ff; text-decoration-color: #00d7ff\">None</span>, <span style=\"color: #00af00; text-decoration-color: #00af00\">16</span>, <span style=\"color: #00af00; text-decoration-color: #00af00\">16</span>, <span style=\"color: #00af00; text-decoration-color: #00af00\">32</span>)          │               <span style=\"color: #00af00; text-decoration-color: #00af00\">0</span> │\n",
              "├──────────────────────────────────────┼─────────────────────────────┼─────────────────┤\n",
              "│ conv2d_1 (<span style=\"color: #0087ff; text-decoration-color: #0087ff\">Conv2D</span>)                    │ (<span style=\"color: #00d7ff; text-decoration-color: #00d7ff\">None</span>, <span style=\"color: #00af00; text-decoration-color: #00af00\">12</span>, <span style=\"color: #00af00; text-decoration-color: #00af00\">12</span>, <span style=\"color: #00af00; text-decoration-color: #00af00\">64</span>)          │          <span style=\"color: #00af00; text-decoration-color: #00af00\">51,264</span> │\n",
              "├──────────────────────────────────────┼─────────────────────────────┼─────────────────┤\n",
              "│ max_pooling2d_1 (<span style=\"color: #0087ff; text-decoration-color: #0087ff\">MaxPooling2D</span>)       │ (<span style=\"color: #00d7ff; text-decoration-color: #00d7ff\">None</span>, <span style=\"color: #00af00; text-decoration-color: #00af00\">6</span>, <span style=\"color: #00af00; text-decoration-color: #00af00\">6</span>, <span style=\"color: #00af00; text-decoration-color: #00af00\">64</span>)            │               <span style=\"color: #00af00; text-decoration-color: #00af00\">0</span> │\n",
              "├──────────────────────────────────────┼─────────────────────────────┼─────────────────┤\n",
              "│ conv2d_2 (<span style=\"color: #0087ff; text-decoration-color: #0087ff\">Conv2D</span>)                    │ (<span style=\"color: #00d7ff; text-decoration-color: #00d7ff\">None</span>, <span style=\"color: #00af00; text-decoration-color: #00af00\">2</span>, <span style=\"color: #00af00; text-decoration-color: #00af00\">2</span>, <span style=\"color: #00af00; text-decoration-color: #00af00\">128</span>)           │         <span style=\"color: #00af00; text-decoration-color: #00af00\">204,928</span> │\n",
              "├──────────────────────────────────────┼─────────────────────────────┼─────────────────┤\n",
              "│ max_pooling2d_2 (<span style=\"color: #0087ff; text-decoration-color: #0087ff\">MaxPooling2D</span>)       │ (<span style=\"color: #00d7ff; text-decoration-color: #00d7ff\">None</span>, <span style=\"color: #00af00; text-decoration-color: #00af00\">1</span>, <span style=\"color: #00af00; text-decoration-color: #00af00\">1</span>, <span style=\"color: #00af00; text-decoration-color: #00af00\">128</span>)           │               <span style=\"color: #00af00; text-decoration-color: #00af00\">0</span> │\n",
              "├──────────────────────────────────────┼─────────────────────────────┼─────────────────┤\n",
              "│ flatten (<span style=\"color: #0087ff; text-decoration-color: #0087ff\">Flatten</span>)                    │ (<span style=\"color: #00d7ff; text-decoration-color: #00d7ff\">None</span>, <span style=\"color: #00af00; text-decoration-color: #00af00\">128</span>)                 │               <span style=\"color: #00af00; text-decoration-color: #00af00\">0</span> │\n",
              "├──────────────────────────────────────┼─────────────────────────────┼─────────────────┤\n",
              "│ dense (<span style=\"color: #0087ff; text-decoration-color: #0087ff\">Dense</span>)                        │ (<span style=\"color: #00d7ff; text-decoration-color: #00d7ff\">None</span>, <span style=\"color: #00af00; text-decoration-color: #00af00\">128</span>)                 │          <span style=\"color: #00af00; text-decoration-color: #00af00\">16,512</span> │\n",
              "├──────────────────────────────────────┼─────────────────────────────┼─────────────────┤\n",
              "│ dense_1 (<span style=\"color: #0087ff; text-decoration-color: #0087ff\">Dense</span>)                      │ (<span style=\"color: #00d7ff; text-decoration-color: #00d7ff\">None</span>, <span style=\"color: #00af00; text-decoration-color: #00af00\">10</span>)                  │           <span style=\"color: #00af00; text-decoration-color: #00af00\">1,290</span> │\n",
              "└──────────────────────────────────────┴─────────────────────────────┴─────────────────┘\n",
              "</pre>\n"
            ]
          },
          "metadata": {}
        },
        {
          "output_type": "display_data",
          "data": {
            "text/plain": [
              "\u001b[1m Total params: \u001b[0m\u001b[38;5;34m276,426\u001b[0m (1.05 MB)\n"
            ],
            "text/html": [
              "<pre style=\"white-space:pre;overflow-x:auto;line-height:normal;font-family:Menlo,'DejaVu Sans Mono',consolas,'Courier New',monospace\"><span style=\"font-weight: bold\"> Total params: </span><span style=\"color: #00af00; text-decoration-color: #00af00\">276,426</span> (1.05 MB)\n",
              "</pre>\n"
            ]
          },
          "metadata": {}
        },
        {
          "output_type": "display_data",
          "data": {
            "text/plain": [
              "\u001b[1m Trainable params: \u001b[0m\u001b[38;5;34m276,426\u001b[0m (1.05 MB)\n"
            ],
            "text/html": [
              "<pre style=\"white-space:pre;overflow-x:auto;line-height:normal;font-family:Menlo,'DejaVu Sans Mono',consolas,'Courier New',monospace\"><span style=\"font-weight: bold\"> Trainable params: </span><span style=\"color: #00af00; text-decoration-color: #00af00\">276,426</span> (1.05 MB)\n",
              "</pre>\n"
            ]
          },
          "metadata": {}
        },
        {
          "output_type": "display_data",
          "data": {
            "text/plain": [
              "\u001b[1m Non-trainable params: \u001b[0m\u001b[38;5;34m0\u001b[0m (0.00 B)\n"
            ],
            "text/html": [
              "<pre style=\"white-space:pre;overflow-x:auto;line-height:normal;font-family:Menlo,'DejaVu Sans Mono',consolas,'Courier New',monospace\"><span style=\"font-weight: bold\"> Non-trainable params: </span><span style=\"color: #00af00; text-decoration-color: #00af00\">0</span> (0.00 B)\n",
              "</pre>\n"
            ]
          },
          "metadata": {}
        }
      ]
    },
    {
      "cell_type": "code",
      "source": [
        "model.fit(x_train, y_train, epochs=15, validation_data=(x_test, y_test))"
      ],
      "metadata": {
        "colab": {
          "base_uri": "https://localhost:8080/"
        },
        "id": "GkT4dOZ76O6P",
        "outputId": "bffe8477-f649-4924-9b18-f6af22e1cdf0"
      },
      "id": "GkT4dOZ76O6P",
      "execution_count": null,
      "outputs": [
        {
          "output_type": "stream",
          "name": "stdout",
          "text": [
            "Epoch 1/15\n",
            "\u001b[1m1563/1563\u001b[0m \u001b[32m━━━━━━━━━━━━━━━━━━━━\u001b[0m\u001b[37m\u001b[0m \u001b[1m162s\u001b[0m 102ms/step - accuracy: 0.4083 - loss: 1.6195 - val_accuracy: 0.6069 - val_loss: 1.1162\n",
            "Epoch 2/15\n",
            "\u001b[1m1563/1563\u001b[0m \u001b[32m━━━━━━━━━━━━━━━━━━━━\u001b[0m\u001b[37m\u001b[0m \u001b[1m201s\u001b[0m 102ms/step - accuracy: 0.6173 - loss: 1.0799 - val_accuracy: 0.6297 - val_loss: 1.0687\n",
            "Epoch 3/15\n",
            "\u001b[1m1563/1563\u001b[0m \u001b[32m━━━━━━━━━━━━━━━━━━━━\u001b[0m\u001b[37m\u001b[0m \u001b[1m202s\u001b[0m 102ms/step - accuracy: 0.6771 - loss: 0.9159 - val_accuracy: 0.6536 - val_loss: 1.0051\n",
            "Epoch 4/15\n",
            "\u001b[1m1563/1563\u001b[0m \u001b[32m━━━━━━━━━━━━━━━━━━━━\u001b[0m\u001b[37m\u001b[0m \u001b[1m204s\u001b[0m 103ms/step - accuracy: 0.7123 - loss: 0.8156 - val_accuracy: 0.6563 - val_loss: 0.9892\n",
            "Epoch 5/15\n",
            "\u001b[1m1563/1563\u001b[0m \u001b[32m━━━━━━━━━━━━━━━━━━━━\u001b[0m\u001b[37m\u001b[0m \u001b[1m161s\u001b[0m 103ms/step - accuracy: 0.7466 - loss: 0.7312 - val_accuracy: 0.6521 - val_loss: 1.0390\n",
            "Epoch 6/15\n",
            "\u001b[1m1563/1563\u001b[0m \u001b[32m━━━━━━━━━━━━━━━━━━━━\u001b[0m\u001b[37m\u001b[0m \u001b[1m203s\u001b[0m 104ms/step - accuracy: 0.7683 - loss: 0.6627 - val_accuracy: 0.6441 - val_loss: 1.0564\n",
            "Epoch 7/15\n",
            "\u001b[1m1563/1563\u001b[0m \u001b[32m━━━━━━━━━━━━━━━━━━━━\u001b[0m\u001b[37m\u001b[0m \u001b[1m201s\u001b[0m 103ms/step - accuracy: 0.7961 - loss: 0.5906 - val_accuracy: 0.6560 - val_loss: 1.0549\n",
            "Epoch 8/15\n",
            "\u001b[1m1563/1563\u001b[0m \u001b[32m━━━━━━━━━━━━━━━━━━━━\u001b[0m\u001b[37m\u001b[0m \u001b[1m202s\u001b[0m 103ms/step - accuracy: 0.8132 - loss: 0.5409 - val_accuracy: 0.6451 - val_loss: 1.1016\n",
            "Epoch 9/15\n",
            "\u001b[1m1563/1563\u001b[0m \u001b[32m━━━━━━━━━━━━━━━━━━━━\u001b[0m\u001b[37m\u001b[0m \u001b[1m160s\u001b[0m 103ms/step - accuracy: 0.8304 - loss: 0.4915 - val_accuracy: 0.6621 - val_loss: 1.0822\n",
            "Epoch 10/15\n",
            "\u001b[1m1563/1563\u001b[0m \u001b[32m━━━━━━━━━━━━━━━━━━━━\u001b[0m\u001b[37m\u001b[0m \u001b[1m201s\u001b[0m 102ms/step - accuracy: 0.8423 - loss: 0.4516 - val_accuracy: 0.6516 - val_loss: 1.1363\n",
            "Epoch 11/15\n",
            "\u001b[1m1563/1563\u001b[0m \u001b[32m━━━━━━━━━━━━━━━━━━━━\u001b[0m\u001b[37m\u001b[0m \u001b[1m160s\u001b[0m 103ms/step - accuracy: 0.8547 - loss: 0.4171 - val_accuracy: 0.6568 - val_loss: 1.1817\n",
            "Epoch 12/15\n",
            "\u001b[1m1563/1563\u001b[0m \u001b[32m━━━━━━━━━━━━━━━━━━━━\u001b[0m\u001b[37m\u001b[0m \u001b[1m159s\u001b[0m 102ms/step - accuracy: 0.8645 - loss: 0.3886 - val_accuracy: 0.6564 - val_loss: 1.2080\n",
            "Epoch 13/15\n",
            "\u001b[1m1563/1563\u001b[0m \u001b[32m━━━━━━━━━━━━━━━━━━━━\u001b[0m\u001b[37m\u001b[0m \u001b[1m202s\u001b[0m 102ms/step - accuracy: 0.8744 - loss: 0.3579 - val_accuracy: 0.6612 - val_loss: 1.1843\n",
            "Epoch 14/15\n",
            "\u001b[1m1563/1563\u001b[0m \u001b[32m━━━━━━━━━━━━━━━━━━━━\u001b[0m\u001b[37m\u001b[0m \u001b[1m206s\u001b[0m 105ms/step - accuracy: 0.8770 - loss: 0.3466 - val_accuracy: 0.6649 - val_loss: 1.2091\n",
            "Epoch 15/15\n",
            "\u001b[1m1563/1563\u001b[0m \u001b[32m━━━━━━━━━━━━━━━━━━━━\u001b[0m\u001b[37m\u001b[0m \u001b[1m159s\u001b[0m 102ms/step - accuracy: 0.8877 - loss: 0.3172 - val_accuracy: 0.6474 - val_loss: 1.2844\n"
          ]
        },
        {
          "output_type": "execute_result",
          "data": {
            "text/plain": [
              "<keras.src.callbacks.history.History at 0x7872785526e0>"
            ]
          },
          "metadata": {},
          "execution_count": 41
        }
      ]
    },
    {
      "cell_type": "code",
      "source": [
        "test_loss, test_acc = model.evaluate(x_test, y_test)\n",
        "test_loss, test_acc"
      ],
      "metadata": {
        "colab": {
          "base_uri": "https://localhost:8080/"
        },
        "id": "rBaKnjxG6Zls",
        "outputId": "1ce31a3a-7111-4e1b-b246-4157b0756811"
      },
      "id": "rBaKnjxG6Zls",
      "execution_count": null,
      "outputs": [
        {
          "output_type": "stream",
          "name": "stdout",
          "text": [
            "\u001b[1m313/313\u001b[0m \u001b[32m━━━━━━━━━━━━━━━━━━━━\u001b[0m\u001b[37m\u001b[0m \u001b[1m13s\u001b[0m 40ms/step - accuracy: 0.6501 - loss: 1.2686\n"
          ]
        },
        {
          "output_type": "execute_result",
          "data": {
            "text/plain": [
              "(1.2844232320785522, 0.6474000215530396)"
            ]
          },
          "metadata": {},
          "execution_count": 42
        }
      ]
    },
    {
      "cell_type": "markdown",
      "source": [
        "leNet-5 with Data Augumentation"
      ],
      "metadata": {
        "id": "Xq7OBjpRCDbF"
      },
      "id": "Xq7OBjpRCDbF"
    },
    {
      "cell_type": "code",
      "source": [
        "x_train.shape"
      ],
      "metadata": {
        "colab": {
          "base_uri": "https://localhost:8080/"
        },
        "id": "9Sz18u5rB5kF",
        "outputId": "749a9803-aa32-4487-e39d-f7fbdf514f96"
      },
      "id": "9Sz18u5rB5kF",
      "execution_count": null,
      "outputs": [
        {
          "output_type": "execute_result",
          "data": {
            "text/plain": [
              "(50000, 32, 32, 3)"
            ]
          },
          "metadata": {},
          "execution_count": 12
        }
      ]
    },
    {
      "cell_type": "code",
      "source": [
        "from tensorflow.keras.preprocessing.image import ImageDataGenerator"
      ],
      "metadata": {
        "id": "CquKcv1cCdmj"
      },
      "id": "CquKcv1cCdmj",
      "execution_count": null,
      "outputs": []
    },
    {
      "cell_type": "code",
      "source": [
        "datagen = ImageDataGenerator(\n",
        "    rotation_range=15,\n",
        "    width_shift_range=0.1,\n",
        "    height_shift_range=0.1,\n",
        "    shear_range=0.1,\n",
        "    zoom_range=0.1,\n",
        "    horizontal_flip=True,\n",
        "    fill_mode=\"nearest\"\n",
        ")"
      ],
      "metadata": {
        "id": "pbV6lJogCo7s"
      },
      "id": "pbV6lJogCo7s",
      "execution_count": null,
      "outputs": []
    },
    {
      "cell_type": "code",
      "source": [
        "datagen.fit(x_train)"
      ],
      "metadata": {
        "id": "bej0_WImCrsf"
      },
      "id": "bej0_WImCrsf",
      "execution_count": null,
      "outputs": []
    },
    {
      "cell_type": "code",
      "source": [
        "batch_size = 64"
      ],
      "metadata": {
        "id": "IJK31dFWDSi3"
      },
      "id": "IJK31dFWDSi3",
      "execution_count": null,
      "outputs": []
    },
    {
      "cell_type": "code",
      "source": [
        "model.fit(datagen.flow(x_train, y_train, batch_size=batch_size), epochs=15, validation_data=(x_test, y_test))"
      ],
      "metadata": {
        "colab": {
          "base_uri": "https://localhost:8080/"
        },
        "id": "rRoyxLDnDXGl",
        "outputId": "07852cd3-740e-4172-c7ef-f8c362b1973b"
      },
      "id": "rRoyxLDnDXGl",
      "execution_count": null,
      "outputs": [
        {
          "output_type": "stream",
          "name": "stdout",
          "text": [
            "Epoch 1/15\n"
          ]
        },
        {
          "output_type": "stream",
          "name": "stderr",
          "text": [
            "/usr/local/lib/python3.10/dist-packages/keras/src/trainers/data_adapters/py_dataset_adapter.py:121: UserWarning: Your `PyDataset` class should call `super().__init__(**kwargs)` in its constructor. `**kwargs` can include `workers`, `use_multiprocessing`, `max_queue_size`. Do not pass these arguments to `fit()`, as they will be ignored.\n",
            "  self._warn_if_super_not_called()\n"
          ]
        },
        {
          "output_type": "stream",
          "name": "stdout",
          "text": [
            "\u001b[1m782/782\u001b[0m \u001b[32m━━━━━━━━━━━━━━━━━━━━\u001b[0m\u001b[37m\u001b[0m \u001b[1m50s\u001b[0m 52ms/step - accuracy: 0.3798 - loss: 1.7133 - val_accuracy: 0.5584 - val_loss: 1.2332\n",
            "Epoch 2/15\n",
            "\u001b[1m782/782\u001b[0m \u001b[32m━━━━━━━━━━━━━━━━━━━━\u001b[0m\u001b[37m\u001b[0m \u001b[1m37s\u001b[0m 47ms/step - accuracy: 0.5327 - loss: 1.3234 - val_accuracy: 0.5940 - val_loss: 1.1271\n",
            "Epoch 3/15\n",
            "\u001b[1m782/782\u001b[0m \u001b[32m━━━━━━━━━━━━━━━━━━━━\u001b[0m\u001b[37m\u001b[0m \u001b[1m39s\u001b[0m 46ms/step - accuracy: 0.5757 - loss: 1.2047 - val_accuracy: 0.6384 - val_loss: 1.0376\n",
            "Epoch 4/15\n",
            "\u001b[1m782/782\u001b[0m \u001b[32m━━━━━━━━━━━━━━━━━━━━\u001b[0m\u001b[37m\u001b[0m \u001b[1m42s\u001b[0m 47ms/step - accuracy: 0.6035 - loss: 1.1227 - val_accuracy: 0.6228 - val_loss: 1.0710\n",
            "Epoch 5/15\n",
            "\u001b[1m782/782\u001b[0m \u001b[32m━━━━━━━━━━━━━━━━━━━━\u001b[0m\u001b[37m\u001b[0m \u001b[1m40s\u001b[0m 46ms/step - accuracy: 0.6160 - loss: 1.0878 - val_accuracy: 0.6545 - val_loss: 0.9899\n",
            "Epoch 6/15\n",
            "\u001b[1m782/782\u001b[0m \u001b[32m━━━━━━━━━━━━━━━━━━━━\u001b[0m\u001b[37m\u001b[0m \u001b[1m35s\u001b[0m 44ms/step - accuracy: 0.6323 - loss: 1.0537 - val_accuracy: 0.6467 - val_loss: 1.0040\n",
            "Epoch 7/15\n",
            "\u001b[1m782/782\u001b[0m \u001b[32m━━━━━━━━━━━━━━━━━━━━\u001b[0m\u001b[37m\u001b[0m \u001b[1m42s\u001b[0m 54ms/step - accuracy: 0.6399 - loss: 1.0252 - val_accuracy: 0.6724 - val_loss: 0.9466\n",
            "Epoch 8/15\n",
            "\u001b[1m782/782\u001b[0m \u001b[32m━━━━━━━━━━━━━━━━━━━━\u001b[0m\u001b[37m\u001b[0m \u001b[1m34s\u001b[0m 43ms/step - accuracy: 0.6498 - loss: 0.9975 - val_accuracy: 0.6710 - val_loss: 0.9461\n",
            "Epoch 9/15\n",
            "\u001b[1m782/782\u001b[0m \u001b[32m━━━━━━━━━━━━━━━━━━━━\u001b[0m\u001b[37m\u001b[0m \u001b[1m36s\u001b[0m 46ms/step - accuracy: 0.6519 - loss: 0.9901 - val_accuracy: 0.6816 - val_loss: 0.9089\n",
            "Epoch 10/15\n",
            "\u001b[1m782/782\u001b[0m \u001b[32m━━━━━━━━━━━━━━━━━━━━\u001b[0m\u001b[37m\u001b[0m \u001b[1m40s\u001b[0m 45ms/step - accuracy: 0.6570 - loss: 0.9838 - val_accuracy: 0.6753 - val_loss: 0.9452\n",
            "Epoch 11/15\n",
            "\u001b[1m782/782\u001b[0m \u001b[32m━━━━━━━━━━━━━━━━━━━━\u001b[0m\u001b[37m\u001b[0m \u001b[1m36s\u001b[0m 45ms/step - accuracy: 0.6644 - loss: 0.9604 - val_accuracy: 0.6660 - val_loss: 0.9774\n",
            "Epoch 12/15\n",
            "\u001b[1m782/782\u001b[0m \u001b[32m━━━━━━━━━━━━━━━━━━━━\u001b[0m\u001b[37m\u001b[0m \u001b[1m36s\u001b[0m 46ms/step - accuracy: 0.6652 - loss: 0.9586 - val_accuracy: 0.6721 - val_loss: 0.9462\n",
            "Epoch 13/15\n",
            "\u001b[1m782/782\u001b[0m \u001b[32m━━━━━━━━━━━━━━━━━━━━\u001b[0m\u001b[37m\u001b[0m \u001b[1m36s\u001b[0m 45ms/step - accuracy: 0.6680 - loss: 0.9503 - val_accuracy: 0.6753 - val_loss: 0.9303\n",
            "Epoch 14/15\n",
            "\u001b[1m782/782\u001b[0m \u001b[32m━━━━━━━━━━━━━━━━━━━━\u001b[0m\u001b[37m\u001b[0m \u001b[1m36s\u001b[0m 46ms/step - accuracy: 0.6721 - loss: 0.9388 - val_accuracy: 0.6644 - val_loss: 0.9720\n",
            "Epoch 15/15\n",
            "\u001b[1m782/782\u001b[0m \u001b[32m━━━━━━━━━━━━━━━━━━━━\u001b[0m\u001b[37m\u001b[0m \u001b[1m41s\u001b[0m 46ms/step - accuracy: 0.6766 - loss: 0.9180 - val_accuracy: 0.6905 - val_loss: 0.8927\n"
          ]
        },
        {
          "output_type": "execute_result",
          "data": {
            "text/plain": [
              "<keras.src.callbacks.history.History at 0x7947c959a6e0>"
            ]
          },
          "metadata": {},
          "execution_count": 14
        }
      ]
    },
    {
      "cell_type": "code",
      "source": [
        "test_loss, test_acc = model.evaluate(x_test, y_test)\n",
        "test_loss, test_acc"
      ],
      "metadata": {
        "colab": {
          "base_uri": "https://localhost:8080/"
        },
        "id": "v8VhULECDofS",
        "outputId": "1a40fbbd-0081-46e2-a757-6418854f3e1e"
      },
      "id": "v8VhULECDofS",
      "execution_count": null,
      "outputs": [
        {
          "output_type": "stream",
          "name": "stdout",
          "text": [
            "\u001b[1m313/313\u001b[0m \u001b[32m━━━━━━━━━━━━━━━━━━━━\u001b[0m\u001b[37m\u001b[0m \u001b[1m1s\u001b[0m 4ms/step - accuracy: 0.6974 - loss: 0.8857\n"
          ]
        },
        {
          "output_type": "execute_result",
          "data": {
            "text/plain": [
              "(0.8926975727081299, 0.690500020980835)"
            ]
          },
          "metadata": {},
          "execution_count": 15
        }
      ]
    },
    {
      "cell_type": "markdown",
      "source": [
        "Custom CNN"
      ],
      "metadata": {
        "id": "2RcxJy75H40Q"
      },
      "id": "2RcxJy75H40Q"
    },
    {
      "cell_type": "code",
      "source": [
        "model = Sequential()\n",
        "model.add(Conv2D(32, kernel_size=(3,3), activation='relu', input_shape=(32,32,3), padding='same'))\n",
        "model.add(BatchNormalization())\n",
        "model.add(MaxPooling2D(pool_size=(2,2)))\n",
        "\n",
        "model.add(Conv2D(64, kernel_size=(3,3), activation='relu', padding='same'))\n",
        "model.add(BatchNormalization())\n",
        "model.add(MaxPooling2D(pool_size=(2,2)))\n",
        "\n",
        "model.add(Conv2D(128, kernel_size=(3,3), activation='relu', padding='same'))\n",
        "model.add(BatchNormalization())\n",
        "model.add(MaxPooling2D(pool_size=(2,2)))\n",
        "\n",
        "model.add(Flatten())\n",
        "model.add(Dense(256, activation='relu'))\n",
        "model.add(BatchNormalization())\n",
        "\n",
        "model.add(Dense(10, activation=\"softmax\"))"
      ],
      "metadata": {
        "colab": {
          "base_uri": "https://localhost:8080/"
        },
        "id": "eNl7hhrlHouH",
        "outputId": "8e78d1d4-3336-41b6-b1d5-439112703822"
      },
      "id": "eNl7hhrlHouH",
      "execution_count": null,
      "outputs": [
        {
          "output_type": "stream",
          "name": "stderr",
          "text": [
            "/usr/local/lib/python3.10/dist-packages/keras/src/layers/convolutional/base_conv.py:107: UserWarning: Do not pass an `input_shape`/`input_dim` argument to a layer. When using Sequential models, prefer using an `Input(shape)` object as the first layer in the model instead.\n",
            "  super().__init__(activity_regularizer=activity_regularizer, **kwargs)\n"
          ]
        }
      ]
    },
    {
      "cell_type": "code",
      "source": [
        "model.compile(optimizer=\"RMSprop\",  loss=\"sparse_categorical_crossentropy\", metrics=['accuracy'])"
      ],
      "metadata": {
        "id": "k-MGOgtFI1D0"
      },
      "id": "k-MGOgtFI1D0",
      "execution_count": null,
      "outputs": []
    },
    {
      "cell_type": "code",
      "source": [
        "model.summary()"
      ],
      "metadata": {
        "colab": {
          "base_uri": "https://localhost:8080/",
          "height": 609
        },
        "id": "dEsLIFyoJAZF",
        "outputId": "b9bc25f4-f0a1-49dc-d10c-bd0dabe9357e"
      },
      "id": "dEsLIFyoJAZF",
      "execution_count": null,
      "outputs": [
        {
          "output_type": "display_data",
          "data": {
            "text/plain": [
              "\u001b[1mModel: \"sequential_1\"\u001b[0m\n"
            ],
            "text/html": [
              "<pre style=\"white-space:pre;overflow-x:auto;line-height:normal;font-family:Menlo,'DejaVu Sans Mono',consolas,'Courier New',monospace\"><span style=\"font-weight: bold\">Model: \"sequential_1\"</span>\n",
              "</pre>\n"
            ]
          },
          "metadata": {}
        },
        {
          "output_type": "display_data",
          "data": {
            "text/plain": [
              "┏━━━━━━━━━━━━━━━━━━━━━━━━━━━━━━━━━━━━━━┳━━━━━━━━━━━━━━━━━━━━━━━━━━━━━┳━━━━━━━━━━━━━━━━━┓\n",
              "┃\u001b[1m \u001b[0m\u001b[1mLayer (type)                        \u001b[0m\u001b[1m \u001b[0m┃\u001b[1m \u001b[0m\u001b[1mOutput Shape               \u001b[0m\u001b[1m \u001b[0m┃\u001b[1m \u001b[0m\u001b[1m        Param #\u001b[0m\u001b[1m \u001b[0m┃\n",
              "┡━━━━━━━━━━━━━━━━━━━━━━━━━━━━━━━━━━━━━━╇━━━━━━━━━━━━━━━━━━━━━━━━━━━━━╇━━━━━━━━━━━━━━━━━┩\n",
              "│ conv2d_3 (\u001b[38;5;33mConv2D\u001b[0m)                    │ (\u001b[38;5;45mNone\u001b[0m, \u001b[38;5;34m32\u001b[0m, \u001b[38;5;34m32\u001b[0m, \u001b[38;5;34m32\u001b[0m)          │             \u001b[38;5;34m896\u001b[0m │\n",
              "├──────────────────────────────────────┼─────────────────────────────┼─────────────────┤\n",
              "│ batch_normalization                  │ (\u001b[38;5;45mNone\u001b[0m, \u001b[38;5;34m32\u001b[0m, \u001b[38;5;34m32\u001b[0m, \u001b[38;5;34m32\u001b[0m)          │             \u001b[38;5;34m128\u001b[0m │\n",
              "│ (\u001b[38;5;33mBatchNormalization\u001b[0m)                 │                             │                 │\n",
              "├──────────────────────────────────────┼─────────────────────────────┼─────────────────┤\n",
              "│ max_pooling2d_3 (\u001b[38;5;33mMaxPooling2D\u001b[0m)       │ (\u001b[38;5;45mNone\u001b[0m, \u001b[38;5;34m16\u001b[0m, \u001b[38;5;34m16\u001b[0m, \u001b[38;5;34m32\u001b[0m)          │               \u001b[38;5;34m0\u001b[0m │\n",
              "├──────────────────────────────────────┼─────────────────────────────┼─────────────────┤\n",
              "│ conv2d_4 (\u001b[38;5;33mConv2D\u001b[0m)                    │ (\u001b[38;5;45mNone\u001b[0m, \u001b[38;5;34m16\u001b[0m, \u001b[38;5;34m16\u001b[0m, \u001b[38;5;34m64\u001b[0m)          │          \u001b[38;5;34m18,496\u001b[0m │\n",
              "├──────────────────────────────────────┼─────────────────────────────┼─────────────────┤\n",
              "│ batch_normalization_1                │ (\u001b[38;5;45mNone\u001b[0m, \u001b[38;5;34m16\u001b[0m, \u001b[38;5;34m16\u001b[0m, \u001b[38;5;34m64\u001b[0m)          │             \u001b[38;5;34m256\u001b[0m │\n",
              "│ (\u001b[38;5;33mBatchNormalization\u001b[0m)                 │                             │                 │\n",
              "├──────────────────────────────────────┼─────────────────────────────┼─────────────────┤\n",
              "│ max_pooling2d_4 (\u001b[38;5;33mMaxPooling2D\u001b[0m)       │ (\u001b[38;5;45mNone\u001b[0m, \u001b[38;5;34m8\u001b[0m, \u001b[38;5;34m8\u001b[0m, \u001b[38;5;34m64\u001b[0m)            │               \u001b[38;5;34m0\u001b[0m │\n",
              "├──────────────────────────────────────┼─────────────────────────────┼─────────────────┤\n",
              "│ conv2d_5 (\u001b[38;5;33mConv2D\u001b[0m)                    │ (\u001b[38;5;45mNone\u001b[0m, \u001b[38;5;34m8\u001b[0m, \u001b[38;5;34m8\u001b[0m, \u001b[38;5;34m128\u001b[0m)           │          \u001b[38;5;34m73,856\u001b[0m │\n",
              "├──────────────────────────────────────┼─────────────────────────────┼─────────────────┤\n",
              "│ batch_normalization_2                │ (\u001b[38;5;45mNone\u001b[0m, \u001b[38;5;34m8\u001b[0m, \u001b[38;5;34m8\u001b[0m, \u001b[38;5;34m128\u001b[0m)           │             \u001b[38;5;34m512\u001b[0m │\n",
              "│ (\u001b[38;5;33mBatchNormalization\u001b[0m)                 │                             │                 │\n",
              "├──────────────────────────────────────┼─────────────────────────────┼─────────────────┤\n",
              "│ max_pooling2d_5 (\u001b[38;5;33mMaxPooling2D\u001b[0m)       │ (\u001b[38;5;45mNone\u001b[0m, \u001b[38;5;34m4\u001b[0m, \u001b[38;5;34m4\u001b[0m, \u001b[38;5;34m128\u001b[0m)           │               \u001b[38;5;34m0\u001b[0m │\n",
              "├──────────────────────────────────────┼─────────────────────────────┼─────────────────┤\n",
              "│ flatten_1 (\u001b[38;5;33mFlatten\u001b[0m)                  │ (\u001b[38;5;45mNone\u001b[0m, \u001b[38;5;34m2048\u001b[0m)                │               \u001b[38;5;34m0\u001b[0m │\n",
              "├──────────────────────────────────────┼─────────────────────────────┼─────────────────┤\n",
              "│ dense_2 (\u001b[38;5;33mDense\u001b[0m)                      │ (\u001b[38;5;45mNone\u001b[0m, \u001b[38;5;34m256\u001b[0m)                 │         \u001b[38;5;34m524,544\u001b[0m │\n",
              "├──────────────────────────────────────┼─────────────────────────────┼─────────────────┤\n",
              "│ batch_normalization_3                │ (\u001b[38;5;45mNone\u001b[0m, \u001b[38;5;34m256\u001b[0m)                 │           \u001b[38;5;34m1,024\u001b[0m │\n",
              "│ (\u001b[38;5;33mBatchNormalization\u001b[0m)                 │                             │                 │\n",
              "├──────────────────────────────────────┼─────────────────────────────┼─────────────────┤\n",
              "│ dense_3 (\u001b[38;5;33mDense\u001b[0m)                      │ (\u001b[38;5;45mNone\u001b[0m, \u001b[38;5;34m10\u001b[0m)                  │           \u001b[38;5;34m2,570\u001b[0m │\n",
              "└──────────────────────────────────────┴─────────────────────────────┴─────────────────┘\n"
            ],
            "text/html": [
              "<pre style=\"white-space:pre;overflow-x:auto;line-height:normal;font-family:Menlo,'DejaVu Sans Mono',consolas,'Courier New',monospace\">┏━━━━━━━━━━━━━━━━━━━━━━━━━━━━━━━━━━━━━━┳━━━━━━━━━━━━━━━━━━━━━━━━━━━━━┳━━━━━━━━━━━━━━━━━┓\n",
              "┃<span style=\"font-weight: bold\"> Layer (type)                         </span>┃<span style=\"font-weight: bold\"> Output Shape                </span>┃<span style=\"font-weight: bold\">         Param # </span>┃\n",
              "┡━━━━━━━━━━━━━━━━━━━━━━━━━━━━━━━━━━━━━━╇━━━━━━━━━━━━━━━━━━━━━━━━━━━━━╇━━━━━━━━━━━━━━━━━┩\n",
              "│ conv2d_3 (<span style=\"color: #0087ff; text-decoration-color: #0087ff\">Conv2D</span>)                    │ (<span style=\"color: #00d7ff; text-decoration-color: #00d7ff\">None</span>, <span style=\"color: #00af00; text-decoration-color: #00af00\">32</span>, <span style=\"color: #00af00; text-decoration-color: #00af00\">32</span>, <span style=\"color: #00af00; text-decoration-color: #00af00\">32</span>)          │             <span style=\"color: #00af00; text-decoration-color: #00af00\">896</span> │\n",
              "├──────────────────────────────────────┼─────────────────────────────┼─────────────────┤\n",
              "│ batch_normalization                  │ (<span style=\"color: #00d7ff; text-decoration-color: #00d7ff\">None</span>, <span style=\"color: #00af00; text-decoration-color: #00af00\">32</span>, <span style=\"color: #00af00; text-decoration-color: #00af00\">32</span>, <span style=\"color: #00af00; text-decoration-color: #00af00\">32</span>)          │             <span style=\"color: #00af00; text-decoration-color: #00af00\">128</span> │\n",
              "│ (<span style=\"color: #0087ff; text-decoration-color: #0087ff\">BatchNormalization</span>)                 │                             │                 │\n",
              "├──────────────────────────────────────┼─────────────────────────────┼─────────────────┤\n",
              "│ max_pooling2d_3 (<span style=\"color: #0087ff; text-decoration-color: #0087ff\">MaxPooling2D</span>)       │ (<span style=\"color: #00d7ff; text-decoration-color: #00d7ff\">None</span>, <span style=\"color: #00af00; text-decoration-color: #00af00\">16</span>, <span style=\"color: #00af00; text-decoration-color: #00af00\">16</span>, <span style=\"color: #00af00; text-decoration-color: #00af00\">32</span>)          │               <span style=\"color: #00af00; text-decoration-color: #00af00\">0</span> │\n",
              "├──────────────────────────────────────┼─────────────────────────────┼─────────────────┤\n",
              "│ conv2d_4 (<span style=\"color: #0087ff; text-decoration-color: #0087ff\">Conv2D</span>)                    │ (<span style=\"color: #00d7ff; text-decoration-color: #00d7ff\">None</span>, <span style=\"color: #00af00; text-decoration-color: #00af00\">16</span>, <span style=\"color: #00af00; text-decoration-color: #00af00\">16</span>, <span style=\"color: #00af00; text-decoration-color: #00af00\">64</span>)          │          <span style=\"color: #00af00; text-decoration-color: #00af00\">18,496</span> │\n",
              "├──────────────────────────────────────┼─────────────────────────────┼─────────────────┤\n",
              "│ batch_normalization_1                │ (<span style=\"color: #00d7ff; text-decoration-color: #00d7ff\">None</span>, <span style=\"color: #00af00; text-decoration-color: #00af00\">16</span>, <span style=\"color: #00af00; text-decoration-color: #00af00\">16</span>, <span style=\"color: #00af00; text-decoration-color: #00af00\">64</span>)          │             <span style=\"color: #00af00; text-decoration-color: #00af00\">256</span> │\n",
              "│ (<span style=\"color: #0087ff; text-decoration-color: #0087ff\">BatchNormalization</span>)                 │                             │                 │\n",
              "├──────────────────────────────────────┼─────────────────────────────┼─────────────────┤\n",
              "│ max_pooling2d_4 (<span style=\"color: #0087ff; text-decoration-color: #0087ff\">MaxPooling2D</span>)       │ (<span style=\"color: #00d7ff; text-decoration-color: #00d7ff\">None</span>, <span style=\"color: #00af00; text-decoration-color: #00af00\">8</span>, <span style=\"color: #00af00; text-decoration-color: #00af00\">8</span>, <span style=\"color: #00af00; text-decoration-color: #00af00\">64</span>)            │               <span style=\"color: #00af00; text-decoration-color: #00af00\">0</span> │\n",
              "├──────────────────────────────────────┼─────────────────────────────┼─────────────────┤\n",
              "│ conv2d_5 (<span style=\"color: #0087ff; text-decoration-color: #0087ff\">Conv2D</span>)                    │ (<span style=\"color: #00d7ff; text-decoration-color: #00d7ff\">None</span>, <span style=\"color: #00af00; text-decoration-color: #00af00\">8</span>, <span style=\"color: #00af00; text-decoration-color: #00af00\">8</span>, <span style=\"color: #00af00; text-decoration-color: #00af00\">128</span>)           │          <span style=\"color: #00af00; text-decoration-color: #00af00\">73,856</span> │\n",
              "├──────────────────────────────────────┼─────────────────────────────┼─────────────────┤\n",
              "│ batch_normalization_2                │ (<span style=\"color: #00d7ff; text-decoration-color: #00d7ff\">None</span>, <span style=\"color: #00af00; text-decoration-color: #00af00\">8</span>, <span style=\"color: #00af00; text-decoration-color: #00af00\">8</span>, <span style=\"color: #00af00; text-decoration-color: #00af00\">128</span>)           │             <span style=\"color: #00af00; text-decoration-color: #00af00\">512</span> │\n",
              "│ (<span style=\"color: #0087ff; text-decoration-color: #0087ff\">BatchNormalization</span>)                 │                             │                 │\n",
              "├──────────────────────────────────────┼─────────────────────────────┼─────────────────┤\n",
              "│ max_pooling2d_5 (<span style=\"color: #0087ff; text-decoration-color: #0087ff\">MaxPooling2D</span>)       │ (<span style=\"color: #00d7ff; text-decoration-color: #00d7ff\">None</span>, <span style=\"color: #00af00; text-decoration-color: #00af00\">4</span>, <span style=\"color: #00af00; text-decoration-color: #00af00\">4</span>, <span style=\"color: #00af00; text-decoration-color: #00af00\">128</span>)           │               <span style=\"color: #00af00; text-decoration-color: #00af00\">0</span> │\n",
              "├──────────────────────────────────────┼─────────────────────────────┼─────────────────┤\n",
              "│ flatten_1 (<span style=\"color: #0087ff; text-decoration-color: #0087ff\">Flatten</span>)                  │ (<span style=\"color: #00d7ff; text-decoration-color: #00d7ff\">None</span>, <span style=\"color: #00af00; text-decoration-color: #00af00\">2048</span>)                │               <span style=\"color: #00af00; text-decoration-color: #00af00\">0</span> │\n",
              "├──────────────────────────────────────┼─────────────────────────────┼─────────────────┤\n",
              "│ dense_2 (<span style=\"color: #0087ff; text-decoration-color: #0087ff\">Dense</span>)                      │ (<span style=\"color: #00d7ff; text-decoration-color: #00d7ff\">None</span>, <span style=\"color: #00af00; text-decoration-color: #00af00\">256</span>)                 │         <span style=\"color: #00af00; text-decoration-color: #00af00\">524,544</span> │\n",
              "├──────────────────────────────────────┼─────────────────────────────┼─────────────────┤\n",
              "│ batch_normalization_3                │ (<span style=\"color: #00d7ff; text-decoration-color: #00d7ff\">None</span>, <span style=\"color: #00af00; text-decoration-color: #00af00\">256</span>)                 │           <span style=\"color: #00af00; text-decoration-color: #00af00\">1,024</span> │\n",
              "│ (<span style=\"color: #0087ff; text-decoration-color: #0087ff\">BatchNormalization</span>)                 │                             │                 │\n",
              "├──────────────────────────────────────┼─────────────────────────────┼─────────────────┤\n",
              "│ dense_3 (<span style=\"color: #0087ff; text-decoration-color: #0087ff\">Dense</span>)                      │ (<span style=\"color: #00d7ff; text-decoration-color: #00d7ff\">None</span>, <span style=\"color: #00af00; text-decoration-color: #00af00\">10</span>)                  │           <span style=\"color: #00af00; text-decoration-color: #00af00\">2,570</span> │\n",
              "└──────────────────────────────────────┴─────────────────────────────┴─────────────────┘\n",
              "</pre>\n"
            ]
          },
          "metadata": {}
        },
        {
          "output_type": "display_data",
          "data": {
            "text/plain": [
              "\u001b[1m Total params: \u001b[0m\u001b[38;5;34m622,282\u001b[0m (2.37 MB)\n"
            ],
            "text/html": [
              "<pre style=\"white-space:pre;overflow-x:auto;line-height:normal;font-family:Menlo,'DejaVu Sans Mono',consolas,'Courier New',monospace\"><span style=\"font-weight: bold\"> Total params: </span><span style=\"color: #00af00; text-decoration-color: #00af00\">622,282</span> (2.37 MB)\n",
              "</pre>\n"
            ]
          },
          "metadata": {}
        },
        {
          "output_type": "display_data",
          "data": {
            "text/plain": [
              "\u001b[1m Trainable params: \u001b[0m\u001b[38;5;34m621,322\u001b[0m (2.37 MB)\n"
            ],
            "text/html": [
              "<pre style=\"white-space:pre;overflow-x:auto;line-height:normal;font-family:Menlo,'DejaVu Sans Mono',consolas,'Courier New',monospace\"><span style=\"font-weight: bold\"> Trainable params: </span><span style=\"color: #00af00; text-decoration-color: #00af00\">621,322</span> (2.37 MB)\n",
              "</pre>\n"
            ]
          },
          "metadata": {}
        },
        {
          "output_type": "display_data",
          "data": {
            "text/plain": [
              "\u001b[1m Non-trainable params: \u001b[0m\u001b[38;5;34m960\u001b[0m (3.75 KB)\n"
            ],
            "text/html": [
              "<pre style=\"white-space:pre;overflow-x:auto;line-height:normal;font-family:Menlo,'DejaVu Sans Mono',consolas,'Courier New',monospace\"><span style=\"font-weight: bold\"> Non-trainable params: </span><span style=\"color: #00af00; text-decoration-color: #00af00\">960</span> (3.75 KB)\n",
              "</pre>\n"
            ]
          },
          "metadata": {}
        }
      ]
    },
    {
      "cell_type": "code",
      "source": [
        "model.fit(x_train,y_train, epochs=15, validation_data=(x_test,y_test))"
      ],
      "metadata": {
        "colab": {
          "base_uri": "https://localhost:8080/"
        },
        "id": "aaUIHRDrJB8h",
        "outputId": "56d607d1-8a6f-40c4-c4d3-a8400eaa1a0c"
      },
      "id": "aaUIHRDrJB8h",
      "execution_count": null,
      "outputs": [
        {
          "output_type": "stream",
          "name": "stdout",
          "text": [
            "Epoch 1/15\n",
            "\u001b[1m1563/1563\u001b[0m \u001b[32m━━━━━━━━━━━━━━━━━━━━\u001b[0m\u001b[37m\u001b[0m \u001b[1m14s\u001b[0m 6ms/step - accuracy: 0.5033 - loss: 1.4594 - val_accuracy: 0.5998 - val_loss: 1.1865\n",
            "Epoch 2/15\n",
            "\u001b[1m1563/1563\u001b[0m \u001b[32m━━━━━━━━━━━━━━━━━━━━\u001b[0m\u001b[37m\u001b[0m \u001b[1m6s\u001b[0m 4ms/step - accuracy: 0.7185 - loss: 0.8074 - val_accuracy: 0.7079 - val_loss: 0.8576\n",
            "Epoch 3/15\n",
            "\u001b[1m1563/1563\u001b[0m \u001b[32m━━━━━━━━━━━━━━━━━━━━\u001b[0m\u001b[37m\u001b[0m \u001b[1m5s\u001b[0m 3ms/step - accuracy: 0.7790 - loss: 0.6329 - val_accuracy: 0.6573 - val_loss: 0.9994\n",
            "Epoch 4/15\n",
            "\u001b[1m1563/1563\u001b[0m \u001b[32m━━━━━━━━━━━━━━━━━━━━\u001b[0m\u001b[37m\u001b[0m \u001b[1m5s\u001b[0m 3ms/step - accuracy: 0.8272 - loss: 0.5029 - val_accuracy: 0.6595 - val_loss: 1.0471\n",
            "Epoch 5/15\n",
            "\u001b[1m1563/1563\u001b[0m \u001b[32m━━━━━━━━━━━━━━━━━━━━\u001b[0m\u001b[37m\u001b[0m \u001b[1m10s\u001b[0m 4ms/step - accuracy: 0.8604 - loss: 0.4082 - val_accuracy: 0.6378 - val_loss: 1.2786\n",
            "Epoch 6/15\n",
            "\u001b[1m1563/1563\u001b[0m \u001b[32m━━━━━━━━━━━━━━━━━━━━\u001b[0m\u001b[37m\u001b[0m \u001b[1m10s\u001b[0m 3ms/step - accuracy: 0.8884 - loss: 0.3206 - val_accuracy: 0.7483 - val_loss: 0.8687\n",
            "Epoch 7/15\n",
            "\u001b[1m1563/1563\u001b[0m \u001b[32m━━━━━━━━━━━━━━━━━━━━\u001b[0m\u001b[37m\u001b[0m \u001b[1m10s\u001b[0m 3ms/step - accuracy: 0.9122 - loss: 0.2591 - val_accuracy: 0.7134 - val_loss: 0.9607\n",
            "Epoch 8/15\n",
            "\u001b[1m1563/1563\u001b[0m \u001b[32m━━━━━━━━━━━━━━━━━━━━\u001b[0m\u001b[37m\u001b[0m \u001b[1m5s\u001b[0m 4ms/step - accuracy: 0.9276 - loss: 0.2130 - val_accuracy: 0.7542 - val_loss: 0.8417\n",
            "Epoch 9/15\n",
            "\u001b[1m1563/1563\u001b[0m \u001b[32m━━━━━━━━━━━━━━━━━━━━\u001b[0m\u001b[37m\u001b[0m \u001b[1m5s\u001b[0m 3ms/step - accuracy: 0.9378 - loss: 0.1788 - val_accuracy: 0.7032 - val_loss: 1.1247\n",
            "Epoch 10/15\n",
            "\u001b[1m1563/1563\u001b[0m \u001b[32m━━━━━━━━━━━━━━━━━━━━\u001b[0m\u001b[37m\u001b[0m \u001b[1m6s\u001b[0m 4ms/step - accuracy: 0.9481 - loss: 0.1529 - val_accuracy: 0.7606 - val_loss: 1.0711\n",
            "Epoch 11/15\n",
            "\u001b[1m1563/1563\u001b[0m \u001b[32m━━━━━━━━━━━━━━━━━━━━\u001b[0m\u001b[37m\u001b[0m \u001b[1m6s\u001b[0m 4ms/step - accuracy: 0.9538 - loss: 0.1361 - val_accuracy: 0.7729 - val_loss: 1.0148\n",
            "Epoch 12/15\n",
            "\u001b[1m1563/1563\u001b[0m \u001b[32m━━━━━━━━━━━━━━━━━━━━\u001b[0m\u001b[37m\u001b[0m \u001b[1m11s\u001b[0m 4ms/step - accuracy: 0.9581 - loss: 0.1231 - val_accuracy: 0.7522 - val_loss: 1.0430\n",
            "Epoch 13/15\n",
            "\u001b[1m1563/1563\u001b[0m \u001b[32m━━━━━━━━━━━━━━━━━━━━\u001b[0m\u001b[37m\u001b[0m \u001b[1m9s\u001b[0m 4ms/step - accuracy: 0.9595 - loss: 0.1173 - val_accuracy: 0.7308 - val_loss: 1.0708\n",
            "Epoch 14/15\n",
            "\u001b[1m1563/1563\u001b[0m \u001b[32m━━━━━━━━━━━━━━━━━━━━\u001b[0m\u001b[37m\u001b[0m \u001b[1m10s\u001b[0m 3ms/step - accuracy: 0.9659 - loss: 0.1006 - val_accuracy: 0.7635 - val_loss: 0.9839\n",
            "Epoch 15/15\n",
            "\u001b[1m1563/1563\u001b[0m \u001b[32m━━━━━━━━━━━━━━━━━━━━\u001b[0m\u001b[37m\u001b[0m \u001b[1m6s\u001b[0m 4ms/step - accuracy: 0.9664 - loss: 0.0990 - val_accuracy: 0.7211 - val_loss: 1.3198\n"
          ]
        },
        {
          "output_type": "execute_result",
          "data": {
            "text/plain": [
              "<keras.src.callbacks.history.History at 0x7947ff2ba2c0>"
            ]
          },
          "metadata": {},
          "execution_count": 22
        }
      ]
    },
    {
      "cell_type": "code",
      "source": [
        "test_loss, test_acc = model.evaluate(x_test, y_test)\n",
        "test_loss, test_acc"
      ],
      "metadata": {
        "colab": {
          "base_uri": "https://localhost:8080/"
        },
        "id": "TJRFy7BeJPRa",
        "outputId": "f0b8b861-3f80-4cab-fb33-859d5049638c"
      },
      "id": "TJRFy7BeJPRa",
      "execution_count": null,
      "outputs": [
        {
          "output_type": "stream",
          "name": "stdout",
          "text": [
            "\u001b[1m313/313\u001b[0m \u001b[32m━━━━━━━━━━━━━━━━━━━━\u001b[0m\u001b[37m\u001b[0m \u001b[1m1s\u001b[0m 4ms/step - accuracy: 0.7250 - loss: 1.3135\n"
          ]
        },
        {
          "output_type": "execute_result",
          "data": {
            "text/plain": [
              "(1.3198127746582031, 0.7210999727249146)"
            ]
          },
          "metadata": {},
          "execution_count": 23
        }
      ]
    },
    {
      "cell_type": "markdown",
      "source": [
        "### Transfer Learning"
      ],
      "metadata": {
        "id": "mBLaNU1zMtFO"
      },
      "id": "mBLaNU1zMtFO"
    },
    {
      "cell_type": "code",
      "source": [
        "import tensorflow as tf\n",
        "from tensorflow.keras.datasets import cifar10\n",
        "from tensorflow.keras.utils import to_categorical"
      ],
      "metadata": {
        "id": "ZoyzHZ32KFo3"
      },
      "id": "ZoyzHZ32KFo3",
      "execution_count": null,
      "outputs": []
    },
    {
      "cell_type": "code",
      "source": [
        "(x_train, y_train), (x_test, y_test) = cifar10.load_data()"
      ],
      "metadata": {
        "id": "hETxTZTbMxDe"
      },
      "id": "hETxTZTbMxDe",
      "execution_count": null,
      "outputs": []
    },
    {
      "cell_type": "code",
      "source": [
        "x_train, x_test = x_train / 255.0, x_test / 255.0"
      ],
      "metadata": {
        "id": "aWqUfVCjMzqe"
      },
      "id": "aWqUfVCjMzqe",
      "execution_count": null,
      "outputs": []
    },
    {
      "cell_type": "code",
      "source": [
        "y_train[:5]"
      ],
      "metadata": {
        "colab": {
          "base_uri": "https://localhost:8080/"
        },
        "id": "YsYPxtd1M2np",
        "outputId": "4e6fabda-3fd9-43b7-f038-d7d33167d06a"
      },
      "id": "YsYPxtd1M2np",
      "execution_count": null,
      "outputs": [
        {
          "output_type": "execute_result",
          "data": {
            "text/plain": [
              "array([[6],\n",
              "       [9],\n",
              "       [9],\n",
              "       [4],\n",
              "       [1]], dtype=uint8)"
            ]
          },
          "metadata": {},
          "execution_count": 41
        }
      ]
    },
    {
      "cell_type": "code",
      "source": [
        "# One-hot encoding of the labels\n",
        "y_train = to_categorical(y_train, 10)\n",
        "y_test = to_categorical(y_test, 10)"
      ],
      "metadata": {
        "id": "8O9sH-V0M7jJ"
      },
      "id": "8O9sH-V0M7jJ",
      "execution_count": null,
      "outputs": []
    },
    {
      "cell_type": "code",
      "source": [
        "y_train[:5]"
      ],
      "metadata": {
        "colab": {
          "base_uri": "https://localhost:8080/"
        },
        "id": "Rz80pBX3M_ZP",
        "outputId": "b726aaf8-429d-420c-8448-dbe71b146250"
      },
      "id": "Rz80pBX3M_ZP",
      "execution_count": null,
      "outputs": [
        {
          "output_type": "execute_result",
          "data": {
            "text/plain": [
              "array([[0., 0., 0., 0., 0., 0., 1., 0., 0., 0.],\n",
              "       [0., 0., 0., 0., 0., 0., 0., 0., 0., 1.],\n",
              "       [0., 0., 0., 0., 0., 0., 0., 0., 0., 1.],\n",
              "       [0., 0., 0., 0., 1., 0., 0., 0., 0., 0.],\n",
              "       [0., 1., 0., 0., 0., 0., 0., 0., 0., 0.]])"
            ]
          },
          "metadata": {},
          "execution_count": 37
        }
      ]
    },
    {
      "cell_type": "code",
      "source": [
        "from tensorflow.keras.applications import ResNet50\n",
        "from tensorflow.keras.models import Sequential\n",
        "from tensorflow.keras.layers import *\n",
        "from tensorflow.keras.optimizers import Adam"
      ],
      "metadata": {
        "id": "VOEHLVHeNBdi"
      },
      "id": "VOEHLVHeNBdi",
      "execution_count": null,
      "outputs": []
    },
    {
      "cell_type": "code",
      "source": [
        "base_model = ResNet50(weights='imagenet', include_top=False, input_shape=(224, 224, 3))"
      ],
      "metadata": {
        "id": "qqBTkh7ANTln"
      },
      "id": "qqBTkh7ANTln",
      "execution_count": null,
      "outputs": []
    },
    {
      "cell_type": "code",
      "source": [
        "# Freeze the base model layers\n",
        "base_model.trainable = False"
      ],
      "metadata": {
        "id": "PeUcIGnSNp4T"
      },
      "id": "PeUcIGnSNp4T",
      "execution_count": null,
      "outputs": []
    },
    {
      "cell_type": "code",
      "source": [
        "model = Sequential()\n",
        "model.add(Resizing(224, 224, input_shape=(32, 32, 3)))\n",
        "model.add(base_model)\n",
        "model.add(GlobalAveragePooling2D())\n",
        "model.add(Dense(1024, activation='relu'))\n",
        "model.add(Dense(512, activation='relu'))\n",
        "model.add(Dense(10, activation='softmax'))"
      ],
      "metadata": {
        "id": "QnCyWujTNton"
      },
      "id": "QnCyWujTNton",
      "execution_count": null,
      "outputs": []
    },
    {
      "cell_type": "code",
      "source": [
        "model.compile(optimizer=Adam(learning_rate=0.001), loss='sparse_categorical_crossentropy', metrics=['accuracy'])"
      ],
      "metadata": {
        "id": "gDf_EG04OKQI"
      },
      "id": "gDf_EG04OKQI",
      "execution_count": null,
      "outputs": []
    },
    {
      "cell_type": "code",
      "source": [
        "history = model.fit(x_train,y_train, epochs=10, batch_size=64, validation_data=(x_test, y_test))"
      ],
      "metadata": {
        "colab": {
          "base_uri": "https://localhost:8080/"
        },
        "id": "quDNLtVvOYPp",
        "outputId": "2b0720d9-8e7e-4078-ad1d-ea183d7505bc"
      },
      "id": "quDNLtVvOYPp",
      "execution_count": null,
      "outputs": [
        {
          "output_type": "stream",
          "name": "stdout",
          "text": [
            "Epoch 1/10\n",
            "\u001b[1m782/782\u001b[0m \u001b[32m━━━━━━━━━━━━━━━━━━━━\u001b[0m\u001b[37m\u001b[0m \u001b[1m185s\u001b[0m 215ms/step - accuracy: 0.1221 - loss: 2.3076 - val_accuracy: 0.2395 - val_loss: 2.0263\n",
            "Epoch 2/10\n",
            "\u001b[1m782/782\u001b[0m \u001b[32m━━━━━━━━━━━━━━━━━━━━\u001b[0m\u001b[37m\u001b[0m \u001b[1m176s\u001b[0m 194ms/step - accuracy: 0.2365 - loss: 2.0241 - val_accuracy: 0.2597 - val_loss: 1.9768\n",
            "Epoch 3/10\n",
            "\u001b[1m782/782\u001b[0m \u001b[32m━━━━━━━━━━━━━━━━━━━━\u001b[0m\u001b[37m\u001b[0m \u001b[1m202s\u001b[0m 194ms/step - accuracy: 0.2485 - loss: 1.9864 - val_accuracy: 0.2571 - val_loss: 1.9544\n",
            "Epoch 4/10\n",
            "\u001b[1m782/782\u001b[0m \u001b[32m━━━━━━━━━━━━━━━━━━━━\u001b[0m\u001b[37m\u001b[0m \u001b[1m218s\u001b[0m 215ms/step - accuracy: 0.2586 - loss: 1.9456 - val_accuracy: 0.2501 - val_loss: 1.9169\n",
            "Epoch 5/10\n",
            "\u001b[1m782/782\u001b[0m \u001b[32m━━━━━━━━━━━━━━━━━━━━\u001b[0m\u001b[37m\u001b[0m \u001b[1m186s\u001b[0m 194ms/step - accuracy: 0.2674 - loss: 1.9191 - val_accuracy: 0.2455 - val_loss: 1.9478\n",
            "Epoch 6/10\n",
            "\u001b[1m782/782\u001b[0m \u001b[32m━━━━━━━━━━━━━━━━━━━━\u001b[0m\u001b[37m\u001b[0m \u001b[1m202s\u001b[0m 194ms/step - accuracy: 0.2681 - loss: 1.9173 - val_accuracy: 0.2934 - val_loss: 1.8547\n",
            "Epoch 7/10\n",
            "\u001b[1m782/782\u001b[0m \u001b[32m━━━━━━━━━━━━━━━━━━━━\u001b[0m\u001b[37m\u001b[0m \u001b[1m167s\u001b[0m 214ms/step - accuracy: 0.2795 - loss: 1.8954 - val_accuracy: 0.2704 - val_loss: 1.8837\n",
            "Epoch 8/10\n",
            "\u001b[1m782/782\u001b[0m \u001b[32m━━━━━━━━━━━━━━━━━━━━\u001b[0m\u001b[37m\u001b[0m \u001b[1m186s\u001b[0m 194ms/step - accuracy: 0.2927 - loss: 1.8673 - val_accuracy: 0.2991 - val_loss: 1.8607\n",
            "Epoch 9/10\n",
            "\u001b[1m782/782\u001b[0m \u001b[32m━━━━━━━━━━━━━━━━━━━━\u001b[0m\u001b[37m\u001b[0m \u001b[1m218s\u001b[0m 214ms/step - accuracy: 0.2978 - loss: 1.8644 - val_accuracy: 0.3176 - val_loss: 1.8194\n",
            "Epoch 10/10\n",
            "\u001b[1m782/782\u001b[0m \u001b[32m━━━━━━━━━━━━━━━━━━━━\u001b[0m\u001b[37m\u001b[0m \u001b[1m202s\u001b[0m 215ms/step - accuracy: 0.3044 - loss: 1.8393 - val_accuracy: 0.2907 - val_loss: 1.8939\n"
          ]
        }
      ]
    },
    {
      "cell_type": "code",
      "source": [
        "test_loss, test_acc = model.evaluate(x_test, y_test)\n",
        "test_loss, test_acc"
      ],
      "metadata": {
        "colab": {
          "base_uri": "https://localhost:8080/"
        },
        "id": "ymQk_P4VPEMA",
        "outputId": "402da1fc-b0fd-4a58-9616-bcffb5ed14a8"
      },
      "id": "ymQk_P4VPEMA",
      "execution_count": null,
      "outputs": [
        {
          "output_type": "stream",
          "name": "stdout",
          "text": [
            "\u001b[1m313/313\u001b[0m \u001b[32m━━━━━━━━━━━━━━━━━━━━\u001b[0m\u001b[37m\u001b[0m \u001b[1m33s\u001b[0m 86ms/step - accuracy: 0.2945 - loss: 1.8919\n"
          ]
        },
        {
          "output_type": "execute_result",
          "data": {
            "text/plain": [
              "(1.8938775062561035, 0.2906999886035919)"
            ]
          },
          "metadata": {},
          "execution_count": 45
        }
      ]
    },
    {
      "cell_type": "code",
      "source": [
        "# fine tuning the. model\n",
        "for layer in base_model.layers[-10:]:\n",
        "    layer.trainable = True"
      ],
      "metadata": {
        "id": "icGo9i2KZnMT"
      },
      "id": "icGo9i2KZnMT",
      "execution_count": null,
      "outputs": []
    },
    {
      "cell_type": "code",
      "source": [
        "model.compile(optimizer=Adam(learning_rate=0.001), loss='sparse_categorical_crossentropy', metrics=['accuracy'])"
      ],
      "metadata": {
        "id": "NiO-vWK3Z08H"
      },
      "id": "NiO-vWK3Z08H",
      "execution_count": null,
      "outputs": []
    },
    {
      "cell_type": "code",
      "source": [
        "model.summary()"
      ],
      "metadata": {
        "colab": {
          "base_uri": "https://localhost:8080/",
          "height": 337
        },
        "id": "zNLTqYUsZ4kM",
        "outputId": "5e0af7f6-2906-4ddd-c2a3-0bbb0d11e473"
      },
      "id": "zNLTqYUsZ4kM",
      "execution_count": null,
      "outputs": [
        {
          "output_type": "display_data",
          "data": {
            "text/plain": [
              "\u001b[1mModel: \"sequential_5\"\u001b[0m\n"
            ],
            "text/html": [
              "<pre style=\"white-space:pre;overflow-x:auto;line-height:normal;font-family:Menlo,'DejaVu Sans Mono',consolas,'Courier New',monospace\"><span style=\"font-weight: bold\">Model: \"sequential_5\"</span>\n",
              "</pre>\n"
            ]
          },
          "metadata": {}
        },
        {
          "output_type": "display_data",
          "data": {
            "text/plain": [
              "┏━━━━━━━━━━━━━━━━━━━━━━━━━━━━━━━━━━━━━━┳━━━━━━━━━━━━━━━━━━━━━━━━━━━━━┳━━━━━━━━━━━━━━━━━┓\n",
              "┃\u001b[1m \u001b[0m\u001b[1mLayer (type)                        \u001b[0m\u001b[1m \u001b[0m┃\u001b[1m \u001b[0m\u001b[1mOutput Shape               \u001b[0m\u001b[1m \u001b[0m┃\u001b[1m \u001b[0m\u001b[1m        Param #\u001b[0m\u001b[1m \u001b[0m┃\n",
              "┡━━━━━━━━━━━━━━━━━━━━━━━━━━━━━━━━━━━━━━╇━━━━━━━━━━━━━━━━━━━━━━━━━━━━━╇━━━━━━━━━━━━━━━━━┩\n",
              "│ resizing_1 (\u001b[38;5;33mResizing\u001b[0m)                │ (\u001b[38;5;45mNone\u001b[0m, \u001b[38;5;34m224\u001b[0m, \u001b[38;5;34m224\u001b[0m, \u001b[38;5;34m3\u001b[0m)         │               \u001b[38;5;34m0\u001b[0m │\n",
              "├──────────────────────────────────────┼─────────────────────────────┼─────────────────┤\n",
              "│ resnet50 (\u001b[38;5;33mFunctional\u001b[0m)                │ (\u001b[38;5;45mNone\u001b[0m, \u001b[38;5;34m7\u001b[0m, \u001b[38;5;34m7\u001b[0m, \u001b[38;5;34m2048\u001b[0m)          │      \u001b[38;5;34m23,587,712\u001b[0m │\n",
              "├──────────────────────────────────────┼─────────────────────────────┼─────────────────┤\n",
              "│ global_average_pooling2d_5           │ (\u001b[38;5;45mNone\u001b[0m, \u001b[38;5;34m2048\u001b[0m)                │               \u001b[38;5;34m0\u001b[0m │\n",
              "│ (\u001b[38;5;33mGlobalAveragePooling2D\u001b[0m)             │                             │                 │\n",
              "├──────────────────────────────────────┼─────────────────────────────┼─────────────────┤\n",
              "│ dense_15 (\u001b[38;5;33mDense\u001b[0m)                     │ (\u001b[38;5;45mNone\u001b[0m, \u001b[38;5;34m1024\u001b[0m)                │       \u001b[38;5;34m2,098,176\u001b[0m │\n",
              "├──────────────────────────────────────┼─────────────────────────────┼─────────────────┤\n",
              "│ dense_16 (\u001b[38;5;33mDense\u001b[0m)                     │ (\u001b[38;5;45mNone\u001b[0m, \u001b[38;5;34m512\u001b[0m)                 │         \u001b[38;5;34m524,800\u001b[0m │\n",
              "├──────────────────────────────────────┼─────────────────────────────┼─────────────────┤\n",
              "│ dense_17 (\u001b[38;5;33mDense\u001b[0m)                     │ (\u001b[38;5;45mNone\u001b[0m, \u001b[38;5;34m10\u001b[0m)                  │           \u001b[38;5;34m5,130\u001b[0m │\n",
              "└──────────────────────────────────────┴─────────────────────────────┴─────────────────┘\n"
            ],
            "text/html": [
              "<pre style=\"white-space:pre;overflow-x:auto;line-height:normal;font-family:Menlo,'DejaVu Sans Mono',consolas,'Courier New',monospace\">┏━━━━━━━━━━━━━━━━━━━━━━━━━━━━━━━━━━━━━━┳━━━━━━━━━━━━━━━━━━━━━━━━━━━━━┳━━━━━━━━━━━━━━━━━┓\n",
              "┃<span style=\"font-weight: bold\"> Layer (type)                         </span>┃<span style=\"font-weight: bold\"> Output Shape                </span>┃<span style=\"font-weight: bold\">         Param # </span>┃\n",
              "┡━━━━━━━━━━━━━━━━━━━━━━━━━━━━━━━━━━━━━━╇━━━━━━━━━━━━━━━━━━━━━━━━━━━━━╇━━━━━━━━━━━━━━━━━┩\n",
              "│ resizing_1 (<span style=\"color: #0087ff; text-decoration-color: #0087ff\">Resizing</span>)                │ (<span style=\"color: #00d7ff; text-decoration-color: #00d7ff\">None</span>, <span style=\"color: #00af00; text-decoration-color: #00af00\">224</span>, <span style=\"color: #00af00; text-decoration-color: #00af00\">224</span>, <span style=\"color: #00af00; text-decoration-color: #00af00\">3</span>)         │               <span style=\"color: #00af00; text-decoration-color: #00af00\">0</span> │\n",
              "├──────────────────────────────────────┼─────────────────────────────┼─────────────────┤\n",
              "│ resnet50 (<span style=\"color: #0087ff; text-decoration-color: #0087ff\">Functional</span>)                │ (<span style=\"color: #00d7ff; text-decoration-color: #00d7ff\">None</span>, <span style=\"color: #00af00; text-decoration-color: #00af00\">7</span>, <span style=\"color: #00af00; text-decoration-color: #00af00\">7</span>, <span style=\"color: #00af00; text-decoration-color: #00af00\">2048</span>)          │      <span style=\"color: #00af00; text-decoration-color: #00af00\">23,587,712</span> │\n",
              "├──────────────────────────────────────┼─────────────────────────────┼─────────────────┤\n",
              "│ global_average_pooling2d_5           │ (<span style=\"color: #00d7ff; text-decoration-color: #00d7ff\">None</span>, <span style=\"color: #00af00; text-decoration-color: #00af00\">2048</span>)                │               <span style=\"color: #00af00; text-decoration-color: #00af00\">0</span> │\n",
              "│ (<span style=\"color: #0087ff; text-decoration-color: #0087ff\">GlobalAveragePooling2D</span>)             │                             │                 │\n",
              "├──────────────────────────────────────┼─────────────────────────────┼─────────────────┤\n",
              "│ dense_15 (<span style=\"color: #0087ff; text-decoration-color: #0087ff\">Dense</span>)                     │ (<span style=\"color: #00d7ff; text-decoration-color: #00d7ff\">None</span>, <span style=\"color: #00af00; text-decoration-color: #00af00\">1024</span>)                │       <span style=\"color: #00af00; text-decoration-color: #00af00\">2,098,176</span> │\n",
              "├──────────────────────────────────────┼─────────────────────────────┼─────────────────┤\n",
              "│ dense_16 (<span style=\"color: #0087ff; text-decoration-color: #0087ff\">Dense</span>)                     │ (<span style=\"color: #00d7ff; text-decoration-color: #00d7ff\">None</span>, <span style=\"color: #00af00; text-decoration-color: #00af00\">512</span>)                 │         <span style=\"color: #00af00; text-decoration-color: #00af00\">524,800</span> │\n",
              "├──────────────────────────────────────┼─────────────────────────────┼─────────────────┤\n",
              "│ dense_17 (<span style=\"color: #0087ff; text-decoration-color: #0087ff\">Dense</span>)                     │ (<span style=\"color: #00d7ff; text-decoration-color: #00d7ff\">None</span>, <span style=\"color: #00af00; text-decoration-color: #00af00\">10</span>)                  │           <span style=\"color: #00af00; text-decoration-color: #00af00\">5,130</span> │\n",
              "└──────────────────────────────────────┴─────────────────────────────┴─────────────────┘\n",
              "</pre>\n"
            ]
          },
          "metadata": {}
        },
        {
          "output_type": "display_data",
          "data": {
            "text/plain": [
              "\u001b[1m Total params: \u001b[0m\u001b[38;5;34m26,215,818\u001b[0m (100.01 MB)\n"
            ],
            "text/html": [
              "<pre style=\"white-space:pre;overflow-x:auto;line-height:normal;font-family:Menlo,'DejaVu Sans Mono',consolas,'Courier New',monospace\"><span style=\"font-weight: bold\"> Total params: </span><span style=\"color: #00af00; text-decoration-color: #00af00\">26,215,818</span> (100.01 MB)\n",
              "</pre>\n"
            ]
          },
          "metadata": {}
        },
        {
          "output_type": "display_data",
          "data": {
            "text/plain": [
              "\u001b[1m Trainable params: \u001b[0m\u001b[38;5;34m7,093,770\u001b[0m (27.06 MB)\n"
            ],
            "text/html": [
              "<pre style=\"white-space:pre;overflow-x:auto;line-height:normal;font-family:Menlo,'DejaVu Sans Mono',consolas,'Courier New',monospace\"><span style=\"font-weight: bold\"> Trainable params: </span><span style=\"color: #00af00; text-decoration-color: #00af00\">7,093,770</span> (27.06 MB)\n",
              "</pre>\n"
            ]
          },
          "metadata": {}
        },
        {
          "output_type": "display_data",
          "data": {
            "text/plain": [
              "\u001b[1m Non-trainable params: \u001b[0m\u001b[38;5;34m19,122,048\u001b[0m (72.94 MB)\n"
            ],
            "text/html": [
              "<pre style=\"white-space:pre;overflow-x:auto;line-height:normal;font-family:Menlo,'DejaVu Sans Mono',consolas,'Courier New',monospace\"><span style=\"font-weight: bold\"> Non-trainable params: </span><span style=\"color: #00af00; text-decoration-color: #00af00\">19,122,048</span> (72.94 MB)\n",
              "</pre>\n"
            ]
          },
          "metadata": {}
        }
      ]
    },
    {
      "cell_type": "code",
      "source": [
        "fineTuneHistory = model.fit(x_train,y_train, epochs=5, batch_size=64, validation_data=(x_test, y_test))"
      ],
      "metadata": {
        "colab": {
          "base_uri": "https://localhost:8080/"
        },
        "id": "s93F7tU5Z7M5",
        "outputId": "11f16dfc-3771-45d1-8849-6458bb80ba5e"
      },
      "id": "s93F7tU5Z7M5",
      "execution_count": null,
      "outputs": [
        {
          "output_type": "stream",
          "name": "stdout",
          "text": [
            "Epoch 1/5\n",
            "\u001b[1m782/782\u001b[0m \u001b[32m━━━━━━━━━━━━━━━━━━━━\u001b[0m\u001b[37m\u001b[0m \u001b[1m206s\u001b[0m 240ms/step - accuracy: 0.1644 - loss: 2.7403 - val_accuracy: 0.1072 - val_loss: 7.7403\n",
            "Epoch 2/5\n",
            "\u001b[1m782/782\u001b[0m \u001b[32m━━━━━━━━━━━━━━━━━━━━\u001b[0m\u001b[37m\u001b[0m \u001b[1m170s\u001b[0m 209ms/step - accuracy: 0.3730 - loss: 1.6696 - val_accuracy: 0.1511 - val_loss: 4.7457\n",
            "Epoch 3/5\n",
            "\u001b[1m782/782\u001b[0m \u001b[32m━━━━━━━━━━━━━━━━━━━━\u001b[0m\u001b[37m\u001b[0m \u001b[1m218s\u001b[0m 230ms/step - accuracy: 0.4519 - loss: 1.4926 - val_accuracy: 0.1778 - val_loss: 5.2387\n",
            "Epoch 4/5\n",
            "\u001b[1m782/782\u001b[0m \u001b[32m━━━━━━━━━━━━━━━━━━━━\u001b[0m\u001b[37m\u001b[0m \u001b[1m163s\u001b[0m 208ms/step - accuracy: 0.4807 - loss: 1.4248 - val_accuracy: 0.1545 - val_loss: 4.7399\n",
            "Epoch 5/5\n",
            "\u001b[1m782/782\u001b[0m \u001b[32m━━━━━━━━━━━━━━━━━━━━\u001b[0m\u001b[37m\u001b[0m \u001b[1m162s\u001b[0m 207ms/step - accuracy: 0.4982 - loss: 1.3797 - val_accuracy: 0.1710 - val_loss: 6.2064\n"
          ]
        }
      ]
    },
    {
      "cell_type": "code",
      "source": [
        "test_loss, test_acc = model.evaluate(x_test, y_test)\n",
        "test_loss, test_acc"
      ],
      "metadata": {
        "colab": {
          "base_uri": "https://localhost:8080/"
        },
        "id": "DusYXcgkaLV5",
        "outputId": "7e98a641-4b53-4577-baca-498da27a19c1"
      },
      "id": "DusYXcgkaLV5",
      "execution_count": null,
      "outputs": [
        {
          "output_type": "stream",
          "name": "stdout",
          "text": [
            "\u001b[1m313/313\u001b[0m \u001b[32m━━━━━━━━━━━━━━━━━━━━\u001b[0m\u001b[37m\u001b[0m \u001b[1m30s\u001b[0m 87ms/step - accuracy: 0.1703 - loss: 6.2581\n"
          ]
        },
        {
          "output_type": "execute_result",
          "data": {
            "text/plain": [
              "(6.206365585327148, 0.17100000381469727)"
            ]
          },
          "metadata": {},
          "execution_count": 50
        }
      ]
    },
    {
      "cell_type": "markdown",
      "source": [
        "### Real Time Dataset"
      ],
      "metadata": {
        "id": "aJ8atz72rDBh"
      },
      "id": "aJ8atz72rDBh"
    },
    {
      "cell_type": "code",
      "source": [
        "import tensorflow as tf\n",
        "from tensorflow.keras.layers import *\n",
        "from tensorflow.keras.models import Sequential\n",
        "from tensorflow.keras.preprocessing.image import ImageDataGenerator\n",
        "from tensorflow.keras.optimizers import RMSprop\n",
        "import matplotlib.pyplot as plt\n",
        "import os\n",
        "import pandas as pd\n",
        "from sklearn.model_selection import train_test_split"
      ],
      "metadata": {
        "id": "x6XLyfBHqtjm"
      },
      "id": "x6XLyfBHqtjm",
      "execution_count": null,
      "outputs": []
    },
    {
      "cell_type": "code",
      "source": [
        "# Define directories for your 15-scene image dataset\n",
        "dataset_dir = './15-Scene/'\n",
        "image_size = (150, 150)"
      ],
      "metadata": {
        "id": "LO3BD6K-r50G"
      },
      "id": "LO3BD6K-r50G",
      "execution_count": null,
      "outputs": []
    },
    {
      "cell_type": "code",
      "source": [
        "all_data = []\n",
        "all_labels = []\n",
        "\n",
        "classes = os.listdir(dataset_dir)\n",
        "for class_name in classes:\n",
        "    class_dir = os.path.join(dataset_dir, class_name)\n",
        "    for img_name in os.listdir(class_dir):\n",
        "        img_path = os.path.join(class_dir, img_name)\n",
        "        all_data.append(img_path)\n",
        "        all_labels.append(class_name)"
      ],
      "metadata": {
        "id": "3NLydQ9Wr-Be"
      },
      "id": "3NLydQ9Wr-Be",
      "execution_count": null,
      "outputs": []
    },
    {
      "cell_type": "code",
      "source": [
        "all_data[:5], all_labels[:5]"
      ],
      "metadata": {
        "colab": {
          "base_uri": "https://localhost:8080/"
        },
        "id": "1t2KWSbAsTQk",
        "outputId": "981b311a-8ac1-4a4f-9ae4-748d3e457820"
      },
      "id": "1t2KWSbAsTQk",
      "execution_count": null,
      "outputs": [
        {
          "output_type": "execute_result",
          "data": {
            "text/plain": [
              "(['./15-Scene/12/3691.jpg',\n",
              "  './15-Scene/12/3767.jpg',\n",
              "  './15-Scene/12/3779.jpg',\n",
              "  './15-Scene/12/3810.jpg',\n",
              "  './15-Scene/12/3901.jpg'],\n",
              " ['12', '12', '12', '12', '12'])"
            ]
          },
          "metadata": {},
          "execution_count": 6
        }
      ]
    },
    {
      "cell_type": "code",
      "source": [
        "len(all_data)"
      ],
      "metadata": {
        "colab": {
          "base_uri": "https://localhost:8080/"
        },
        "id": "fMvbNR_pslMZ",
        "outputId": "804ca4ad-b185-4158-a402-d22e7dfe1eba"
      },
      "id": "fMvbNR_pslMZ",
      "execution_count": null,
      "outputs": [
        {
          "output_type": "execute_result",
          "data": {
            "text/plain": [
              "4485"
            ]
          },
          "metadata": {},
          "execution_count": 7
        }
      ]
    },
    {
      "cell_type": "code",
      "source": [
        "train_data, test_data, train_labels, test_labels = train_test_split(all_data, all_labels, test_size=0.2)"
      ],
      "metadata": {
        "id": "5PNlsxZMsYL6"
      },
      "id": "5PNlsxZMsYL6",
      "execution_count": null,
      "outputs": []
    },
    {
      "cell_type": "code",
      "source": [
        "len(train_data), len(test_data)"
      ],
      "metadata": {
        "colab": {
          "base_uri": "https://localhost:8080/"
        },
        "id": "Z6fhB04CsqZ9",
        "outputId": "22784c7a-0809-45ed-83f1-6a95562dc5e6"
      },
      "id": "Z6fhB04CsqZ9",
      "execution_count": null,
      "outputs": [
        {
          "output_type": "execute_result",
          "data": {
            "text/plain": [
              "(3588, 897)"
            ]
          },
          "metadata": {},
          "execution_count": 9
        }
      ]
    },
    {
      "cell_type": "code",
      "source": [
        "# Data Augmentation and Image Preprocessing\n",
        "datagen = ImageDataGenerator(rescale=1./255, validation_split=0.1, horizontal_flip=True, zoom_range=0.2)"
      ],
      "metadata": {
        "id": "rjip7XfDstq6"
      },
      "id": "rjip7XfDstq6",
      "execution_count": null,
      "outputs": []
    },
    {
      "cell_type": "code",
      "source": [
        "train_gen = datagen.flow_from_dataframe(\n",
        "    dataframe=pd.DataFrame({'filename': train_data, 'class': train_labels}),\n",
        "    x_col='filename',\n",
        "    y_col='class',\n",
        "    target_size=image_size,\n",
        "    batch_size=32,\n",
        "    class_mode='categorical',\n",
        "    shuffle=True\n",
        ")"
      ],
      "metadata": {
        "colab": {
          "base_uri": "https://localhost:8080/"
        },
        "id": "EQDRtRHEs23H",
        "outputId": "9a59c4a7-6b07-45a4-c7c0-1c4c228466c6"
      },
      "id": "EQDRtRHEs23H",
      "execution_count": null,
      "outputs": [
        {
          "output_type": "stream",
          "name": "stdout",
          "text": [
            "Found 3588 validated image filenames belonging to 15 classes.\n"
          ]
        }
      ]
    },
    {
      "cell_type": "code",
      "source": [
        "testing_gen = datagen.flow_from_dataframe(\n",
        "    dataframe=pd.DataFrame({'filename': test_data, 'class': test_labels}),\n",
        "    x_col='filename',\n",
        "    y_col='class',\n",
        "    target_size=image_size,\n",
        "    batch_size=32,\n",
        "    class_mode='categorical',\n",
        "    shuffle=False\n",
        ")"
      ],
      "metadata": {
        "colab": {
          "base_uri": "https://localhost:8080/"
        },
        "id": "OaLNHNe2tGRF",
        "outputId": "db956e01-efb5-45b3-fa18-344bd5eee850"
      },
      "id": "OaLNHNe2tGRF",
      "execution_count": null,
      "outputs": [
        {
          "output_type": "stream",
          "name": "stdout",
          "text": [
            "Found 897 validated image filenames belonging to 15 classes.\n"
          ]
        }
      ]
    },
    {
      "cell_type": "code",
      "source": [
        "train_gen = datagen.flow_from_directory(dataset_dir, target_size=image_size, batch_size=32, class_mode='categorical', subset='training')\n",
        "test_gen = datagen.flow_from_directory(dataset_dir, target_size=image_size, batch_size=32, class_mode='categorical', subset='validation')\n"
      ],
      "metadata": {
        "colab": {
          "base_uri": "https://localhost:8080/"
        },
        "id": "qfsmQf4btH-S",
        "outputId": "3a0d2fec-f6fa-4e29-b473-1cc79ca917bd"
      },
      "id": "qfsmQf4btH-S",
      "execution_count": null,
      "outputs": [
        {
          "output_type": "stream",
          "name": "stdout",
          "text": [
            "Found 4042 images belonging to 15 classes.\n",
            "Found 443 images belonging to 15 classes.\n"
          ]
        }
      ]
    },
    {
      "cell_type": "code",
      "source": [
        "model = Sequential()\n",
        "\n",
        "# first block\n",
        "model.add(Conv2D(32, (3,3), padding='same', input_shape=(150, 150, 3)))\n",
        "model.add(BatchNormalization())\n",
        "model.add(Activation('relu'))\n",
        "model.add(MaxPooling2D(pool_size=(2,2)))\n",
        "model.add(Dropout(0.3))\n",
        "\n",
        "# second block\n",
        "model.add(Conv2D(64, (3,3), padding='same'))\n",
        "model.add(BatchNormalization())\n",
        "model.add(Activation('relu'))\n",
        "model.add(MaxPooling2D(pool_size=(2,2)))\n",
        "model.add(Dropout(0.4))\n",
        "\n",
        "# third block\n",
        "model.add(Conv2D(128, (3,3), padding='same'))\n",
        "model.add(BatchNormalization())\n",
        "model.add(Activation('relu'))\n",
        "model.add(MaxPooling2D(pool_size=(2,2)))\n",
        "model.add(Dropout(0.5))\n",
        "\n",
        "\n",
        "model.add(Flatten())\n",
        "model.add(Dense(256))\n",
        "model.add(BatchNormalization())\n",
        "model.add(Activation('relu'))\n",
        "model.add(Dropout(0.5))\n",
        "\n",
        "model.add(Dense(train_gen.num_classes, activation=\"softmax\"))"
      ],
      "metadata": {
        "colab": {
          "base_uri": "https://localhost:8080/"
        },
        "id": "_1bP9Ipxtbbi",
        "outputId": "969c645c-8c09-4f92-8913-db31f048c109"
      },
      "id": "_1bP9Ipxtbbi",
      "execution_count": null,
      "outputs": [
        {
          "output_type": "stream",
          "name": "stderr",
          "text": [
            "/usr/local/lib/python3.10/dist-packages/keras/src/layers/convolutional/base_conv.py:107: UserWarning: Do not pass an `input_shape`/`input_dim` argument to a layer. When using Sequential models, prefer using an `Input(shape)` object as the first layer in the model instead.\n",
            "  super().__init__(activity_regularizer=activity_regularizer, **kwargs)\n"
          ]
        }
      ]
    },
    {
      "cell_type": "code",
      "source": [
        "model.summary()"
      ],
      "metadata": {
        "colab": {
          "base_uri": "https://localhost:8080/",
          "height": 865
        },
        "id": "xBhmYKUnu4_5",
        "outputId": "0ae7416d-2aa0-4b4a-def5-969553533cae"
      },
      "id": "xBhmYKUnu4_5",
      "execution_count": null,
      "outputs": [
        {
          "output_type": "display_data",
          "data": {
            "text/plain": [
              "\u001b[1mModel: \"sequential_1\"\u001b[0m\n"
            ],
            "text/html": [
              "<pre style=\"white-space:pre;overflow-x:auto;line-height:normal;font-family:Menlo,'DejaVu Sans Mono',consolas,'Courier New',monospace\"><span style=\"font-weight: bold\">Model: \"sequential_1\"</span>\n",
              "</pre>\n"
            ]
          },
          "metadata": {}
        },
        {
          "output_type": "display_data",
          "data": {
            "text/plain": [
              "┏━━━━━━━━━━━━━━━━━━━━━━━━━━━━━━━━━━━━━━┳━━━━━━━━━━━━━━━━━━━━━━━━━━━━━┳━━━━━━━━━━━━━━━━━┓\n",
              "┃\u001b[1m \u001b[0m\u001b[1mLayer (type)                        \u001b[0m\u001b[1m \u001b[0m┃\u001b[1m \u001b[0m\u001b[1mOutput Shape               \u001b[0m\u001b[1m \u001b[0m┃\u001b[1m \u001b[0m\u001b[1m        Param #\u001b[0m\u001b[1m \u001b[0m┃\n",
              "┡━━━━━━━━━━━━━━━━━━━━━━━━━━━━━━━━━━━━━━╇━━━━━━━━━━━━━━━━━━━━━━━━━━━━━╇━━━━━━━━━━━━━━━━━┩\n",
              "│ conv2d_1 (\u001b[38;5;33mConv2D\u001b[0m)                    │ (\u001b[38;5;45mNone\u001b[0m, \u001b[38;5;34m150\u001b[0m, \u001b[38;5;34m150\u001b[0m, \u001b[38;5;34m32\u001b[0m)        │             \u001b[38;5;34m896\u001b[0m │\n",
              "├──────────────────────────────────────┼─────────────────────────────┼─────────────────┤\n",
              "│ batch_normalization                  │ (\u001b[38;5;45mNone\u001b[0m, \u001b[38;5;34m150\u001b[0m, \u001b[38;5;34m150\u001b[0m, \u001b[38;5;34m32\u001b[0m)        │             \u001b[38;5;34m128\u001b[0m │\n",
              "│ (\u001b[38;5;33mBatchNormalization\u001b[0m)                 │                             │                 │\n",
              "├──────────────────────────────────────┼─────────────────────────────┼─────────────────┤\n",
              "│ activation (\u001b[38;5;33mActivation\u001b[0m)              │ (\u001b[38;5;45mNone\u001b[0m, \u001b[38;5;34m150\u001b[0m, \u001b[38;5;34m150\u001b[0m, \u001b[38;5;34m32\u001b[0m)        │               \u001b[38;5;34m0\u001b[0m │\n",
              "├──────────────────────────────────────┼─────────────────────────────┼─────────────────┤\n",
              "│ max_pooling2d (\u001b[38;5;33mMaxPooling2D\u001b[0m)         │ (\u001b[38;5;45mNone\u001b[0m, \u001b[38;5;34m75\u001b[0m, \u001b[38;5;34m75\u001b[0m, \u001b[38;5;34m32\u001b[0m)          │               \u001b[38;5;34m0\u001b[0m │\n",
              "├──────────────────────────────────────┼─────────────────────────────┼─────────────────┤\n",
              "│ dropout (\u001b[38;5;33mDropout\u001b[0m)                    │ (\u001b[38;5;45mNone\u001b[0m, \u001b[38;5;34m75\u001b[0m, \u001b[38;5;34m75\u001b[0m, \u001b[38;5;34m32\u001b[0m)          │               \u001b[38;5;34m0\u001b[0m │\n",
              "├──────────────────────────────────────┼─────────────────────────────┼─────────────────┤\n",
              "│ conv2d_2 (\u001b[38;5;33mConv2D\u001b[0m)                    │ (\u001b[38;5;45mNone\u001b[0m, \u001b[38;5;34m75\u001b[0m, \u001b[38;5;34m75\u001b[0m, \u001b[38;5;34m64\u001b[0m)          │          \u001b[38;5;34m18,496\u001b[0m │\n",
              "├──────────────────────────────────────┼─────────────────────────────┼─────────────────┤\n",
              "│ batch_normalization_1                │ (\u001b[38;5;45mNone\u001b[0m, \u001b[38;5;34m75\u001b[0m, \u001b[38;5;34m75\u001b[0m, \u001b[38;5;34m64\u001b[0m)          │             \u001b[38;5;34m256\u001b[0m │\n",
              "│ (\u001b[38;5;33mBatchNormalization\u001b[0m)                 │                             │                 │\n",
              "├──────────────────────────────────────┼─────────────────────────────┼─────────────────┤\n",
              "│ activation_1 (\u001b[38;5;33mActivation\u001b[0m)            │ (\u001b[38;5;45mNone\u001b[0m, \u001b[38;5;34m75\u001b[0m, \u001b[38;5;34m75\u001b[0m, \u001b[38;5;34m64\u001b[0m)          │               \u001b[38;5;34m0\u001b[0m │\n",
              "├──────────────────────────────────────┼─────────────────────────────┼─────────────────┤\n",
              "│ max_pooling2d_1 (\u001b[38;5;33mMaxPooling2D\u001b[0m)       │ (\u001b[38;5;45mNone\u001b[0m, \u001b[38;5;34m37\u001b[0m, \u001b[38;5;34m37\u001b[0m, \u001b[38;5;34m64\u001b[0m)          │               \u001b[38;5;34m0\u001b[0m │\n",
              "├──────────────────────────────────────┼─────────────────────────────┼─────────────────┤\n",
              "│ dropout_1 (\u001b[38;5;33mDropout\u001b[0m)                  │ (\u001b[38;5;45mNone\u001b[0m, \u001b[38;5;34m37\u001b[0m, \u001b[38;5;34m37\u001b[0m, \u001b[38;5;34m64\u001b[0m)          │               \u001b[38;5;34m0\u001b[0m │\n",
              "├──────────────────────────────────────┼─────────────────────────────┼─────────────────┤\n",
              "│ conv2d_3 (\u001b[38;5;33mConv2D\u001b[0m)                    │ (\u001b[38;5;45mNone\u001b[0m, \u001b[38;5;34m37\u001b[0m, \u001b[38;5;34m37\u001b[0m, \u001b[38;5;34m128\u001b[0m)         │          \u001b[38;5;34m73,856\u001b[0m │\n",
              "├──────────────────────────────────────┼─────────────────────────────┼─────────────────┤\n",
              "│ batch_normalization_2                │ (\u001b[38;5;45mNone\u001b[0m, \u001b[38;5;34m37\u001b[0m, \u001b[38;5;34m37\u001b[0m, \u001b[38;5;34m128\u001b[0m)         │             \u001b[38;5;34m512\u001b[0m │\n",
              "│ (\u001b[38;5;33mBatchNormalization\u001b[0m)                 │                             │                 │\n",
              "├──────────────────────────────────────┼─────────────────────────────┼─────────────────┤\n",
              "│ activation_2 (\u001b[38;5;33mActivation\u001b[0m)            │ (\u001b[38;5;45mNone\u001b[0m, \u001b[38;5;34m37\u001b[0m, \u001b[38;5;34m37\u001b[0m, \u001b[38;5;34m128\u001b[0m)         │               \u001b[38;5;34m0\u001b[0m │\n",
              "├──────────────────────────────────────┼─────────────────────────────┼─────────────────┤\n",
              "│ max_pooling2d_2 (\u001b[38;5;33mMaxPooling2D\u001b[0m)       │ (\u001b[38;5;45mNone\u001b[0m, \u001b[38;5;34m18\u001b[0m, \u001b[38;5;34m18\u001b[0m, \u001b[38;5;34m128\u001b[0m)         │               \u001b[38;5;34m0\u001b[0m │\n",
              "├──────────────────────────────────────┼─────────────────────────────┼─────────────────┤\n",
              "│ dropout_2 (\u001b[38;5;33mDropout\u001b[0m)                  │ (\u001b[38;5;45mNone\u001b[0m, \u001b[38;5;34m18\u001b[0m, \u001b[38;5;34m18\u001b[0m, \u001b[38;5;34m128\u001b[0m)         │               \u001b[38;5;34m0\u001b[0m │\n",
              "├──────────────────────────────────────┼─────────────────────────────┼─────────────────┤\n",
              "│ flatten (\u001b[38;5;33mFlatten\u001b[0m)                    │ (\u001b[38;5;45mNone\u001b[0m, \u001b[38;5;34m41472\u001b[0m)               │               \u001b[38;5;34m0\u001b[0m │\n",
              "├──────────────────────────────────────┼─────────────────────────────┼─────────────────┤\n",
              "│ dense (\u001b[38;5;33mDense\u001b[0m)                        │ (\u001b[38;5;45mNone\u001b[0m, \u001b[38;5;34m256\u001b[0m)                 │      \u001b[38;5;34m10,617,088\u001b[0m │\n",
              "├──────────────────────────────────────┼─────────────────────────────┼─────────────────┤\n",
              "│ batch_normalization_3                │ (\u001b[38;5;45mNone\u001b[0m, \u001b[38;5;34m256\u001b[0m)                 │           \u001b[38;5;34m1,024\u001b[0m │\n",
              "│ (\u001b[38;5;33mBatchNormalization\u001b[0m)                 │                             │                 │\n",
              "├──────────────────────────────────────┼─────────────────────────────┼─────────────────┤\n",
              "│ activation_3 (\u001b[38;5;33mActivation\u001b[0m)            │ (\u001b[38;5;45mNone\u001b[0m, \u001b[38;5;34m256\u001b[0m)                 │               \u001b[38;5;34m0\u001b[0m │\n",
              "├──────────────────────────────────────┼─────────────────────────────┼─────────────────┤\n",
              "│ dropout_3 (\u001b[38;5;33mDropout\u001b[0m)                  │ (\u001b[38;5;45mNone\u001b[0m, \u001b[38;5;34m256\u001b[0m)                 │               \u001b[38;5;34m0\u001b[0m │\n",
              "├──────────────────────────────────────┼─────────────────────────────┼─────────────────┤\n",
              "│ dense_1 (\u001b[38;5;33mDense\u001b[0m)                      │ (\u001b[38;5;45mNone\u001b[0m, \u001b[38;5;34m15\u001b[0m)                  │           \u001b[38;5;34m3,855\u001b[0m │\n",
              "└──────────────────────────────────────┴─────────────────────────────┴─────────────────┘\n"
            ],
            "text/html": [
              "<pre style=\"white-space:pre;overflow-x:auto;line-height:normal;font-family:Menlo,'DejaVu Sans Mono',consolas,'Courier New',monospace\">┏━━━━━━━━━━━━━━━━━━━━━━━━━━━━━━━━━━━━━━┳━━━━━━━━━━━━━━━━━━━━━━━━━━━━━┳━━━━━━━━━━━━━━━━━┓\n",
              "┃<span style=\"font-weight: bold\"> Layer (type)                         </span>┃<span style=\"font-weight: bold\"> Output Shape                </span>┃<span style=\"font-weight: bold\">         Param # </span>┃\n",
              "┡━━━━━━━━━━━━━━━━━━━━━━━━━━━━━━━━━━━━━━╇━━━━━━━━━━━━━━━━━━━━━━━━━━━━━╇━━━━━━━━━━━━━━━━━┩\n",
              "│ conv2d_1 (<span style=\"color: #0087ff; text-decoration-color: #0087ff\">Conv2D</span>)                    │ (<span style=\"color: #00d7ff; text-decoration-color: #00d7ff\">None</span>, <span style=\"color: #00af00; text-decoration-color: #00af00\">150</span>, <span style=\"color: #00af00; text-decoration-color: #00af00\">150</span>, <span style=\"color: #00af00; text-decoration-color: #00af00\">32</span>)        │             <span style=\"color: #00af00; text-decoration-color: #00af00\">896</span> │\n",
              "├──────────────────────────────────────┼─────────────────────────────┼─────────────────┤\n",
              "│ batch_normalization                  │ (<span style=\"color: #00d7ff; text-decoration-color: #00d7ff\">None</span>, <span style=\"color: #00af00; text-decoration-color: #00af00\">150</span>, <span style=\"color: #00af00; text-decoration-color: #00af00\">150</span>, <span style=\"color: #00af00; text-decoration-color: #00af00\">32</span>)        │             <span style=\"color: #00af00; text-decoration-color: #00af00\">128</span> │\n",
              "│ (<span style=\"color: #0087ff; text-decoration-color: #0087ff\">BatchNormalization</span>)                 │                             │                 │\n",
              "├──────────────────────────────────────┼─────────────────────────────┼─────────────────┤\n",
              "│ activation (<span style=\"color: #0087ff; text-decoration-color: #0087ff\">Activation</span>)              │ (<span style=\"color: #00d7ff; text-decoration-color: #00d7ff\">None</span>, <span style=\"color: #00af00; text-decoration-color: #00af00\">150</span>, <span style=\"color: #00af00; text-decoration-color: #00af00\">150</span>, <span style=\"color: #00af00; text-decoration-color: #00af00\">32</span>)        │               <span style=\"color: #00af00; text-decoration-color: #00af00\">0</span> │\n",
              "├──────────────────────────────────────┼─────────────────────────────┼─────────────────┤\n",
              "│ max_pooling2d (<span style=\"color: #0087ff; text-decoration-color: #0087ff\">MaxPooling2D</span>)         │ (<span style=\"color: #00d7ff; text-decoration-color: #00d7ff\">None</span>, <span style=\"color: #00af00; text-decoration-color: #00af00\">75</span>, <span style=\"color: #00af00; text-decoration-color: #00af00\">75</span>, <span style=\"color: #00af00; text-decoration-color: #00af00\">32</span>)          │               <span style=\"color: #00af00; text-decoration-color: #00af00\">0</span> │\n",
              "├──────────────────────────────────────┼─────────────────────────────┼─────────────────┤\n",
              "│ dropout (<span style=\"color: #0087ff; text-decoration-color: #0087ff\">Dropout</span>)                    │ (<span style=\"color: #00d7ff; text-decoration-color: #00d7ff\">None</span>, <span style=\"color: #00af00; text-decoration-color: #00af00\">75</span>, <span style=\"color: #00af00; text-decoration-color: #00af00\">75</span>, <span style=\"color: #00af00; text-decoration-color: #00af00\">32</span>)          │               <span style=\"color: #00af00; text-decoration-color: #00af00\">0</span> │\n",
              "├──────────────────────────────────────┼─────────────────────────────┼─────────────────┤\n",
              "│ conv2d_2 (<span style=\"color: #0087ff; text-decoration-color: #0087ff\">Conv2D</span>)                    │ (<span style=\"color: #00d7ff; text-decoration-color: #00d7ff\">None</span>, <span style=\"color: #00af00; text-decoration-color: #00af00\">75</span>, <span style=\"color: #00af00; text-decoration-color: #00af00\">75</span>, <span style=\"color: #00af00; text-decoration-color: #00af00\">64</span>)          │          <span style=\"color: #00af00; text-decoration-color: #00af00\">18,496</span> │\n",
              "├──────────────────────────────────────┼─────────────────────────────┼─────────────────┤\n",
              "│ batch_normalization_1                │ (<span style=\"color: #00d7ff; text-decoration-color: #00d7ff\">None</span>, <span style=\"color: #00af00; text-decoration-color: #00af00\">75</span>, <span style=\"color: #00af00; text-decoration-color: #00af00\">75</span>, <span style=\"color: #00af00; text-decoration-color: #00af00\">64</span>)          │             <span style=\"color: #00af00; text-decoration-color: #00af00\">256</span> │\n",
              "│ (<span style=\"color: #0087ff; text-decoration-color: #0087ff\">BatchNormalization</span>)                 │                             │                 │\n",
              "├──────────────────────────────────────┼─────────────────────────────┼─────────────────┤\n",
              "│ activation_1 (<span style=\"color: #0087ff; text-decoration-color: #0087ff\">Activation</span>)            │ (<span style=\"color: #00d7ff; text-decoration-color: #00d7ff\">None</span>, <span style=\"color: #00af00; text-decoration-color: #00af00\">75</span>, <span style=\"color: #00af00; text-decoration-color: #00af00\">75</span>, <span style=\"color: #00af00; text-decoration-color: #00af00\">64</span>)          │               <span style=\"color: #00af00; text-decoration-color: #00af00\">0</span> │\n",
              "├──────────────────────────────────────┼─────────────────────────────┼─────────────────┤\n",
              "│ max_pooling2d_1 (<span style=\"color: #0087ff; text-decoration-color: #0087ff\">MaxPooling2D</span>)       │ (<span style=\"color: #00d7ff; text-decoration-color: #00d7ff\">None</span>, <span style=\"color: #00af00; text-decoration-color: #00af00\">37</span>, <span style=\"color: #00af00; text-decoration-color: #00af00\">37</span>, <span style=\"color: #00af00; text-decoration-color: #00af00\">64</span>)          │               <span style=\"color: #00af00; text-decoration-color: #00af00\">0</span> │\n",
              "├──────────────────────────────────────┼─────────────────────────────┼─────────────────┤\n",
              "│ dropout_1 (<span style=\"color: #0087ff; text-decoration-color: #0087ff\">Dropout</span>)                  │ (<span style=\"color: #00d7ff; text-decoration-color: #00d7ff\">None</span>, <span style=\"color: #00af00; text-decoration-color: #00af00\">37</span>, <span style=\"color: #00af00; text-decoration-color: #00af00\">37</span>, <span style=\"color: #00af00; text-decoration-color: #00af00\">64</span>)          │               <span style=\"color: #00af00; text-decoration-color: #00af00\">0</span> │\n",
              "├──────────────────────────────────────┼─────────────────────────────┼─────────────────┤\n",
              "│ conv2d_3 (<span style=\"color: #0087ff; text-decoration-color: #0087ff\">Conv2D</span>)                    │ (<span style=\"color: #00d7ff; text-decoration-color: #00d7ff\">None</span>, <span style=\"color: #00af00; text-decoration-color: #00af00\">37</span>, <span style=\"color: #00af00; text-decoration-color: #00af00\">37</span>, <span style=\"color: #00af00; text-decoration-color: #00af00\">128</span>)         │          <span style=\"color: #00af00; text-decoration-color: #00af00\">73,856</span> │\n",
              "├──────────────────────────────────────┼─────────────────────────────┼─────────────────┤\n",
              "│ batch_normalization_2                │ (<span style=\"color: #00d7ff; text-decoration-color: #00d7ff\">None</span>, <span style=\"color: #00af00; text-decoration-color: #00af00\">37</span>, <span style=\"color: #00af00; text-decoration-color: #00af00\">37</span>, <span style=\"color: #00af00; text-decoration-color: #00af00\">128</span>)         │             <span style=\"color: #00af00; text-decoration-color: #00af00\">512</span> │\n",
              "│ (<span style=\"color: #0087ff; text-decoration-color: #0087ff\">BatchNormalization</span>)                 │                             │                 │\n",
              "├──────────────────────────────────────┼─────────────────────────────┼─────────────────┤\n",
              "│ activation_2 (<span style=\"color: #0087ff; text-decoration-color: #0087ff\">Activation</span>)            │ (<span style=\"color: #00d7ff; text-decoration-color: #00d7ff\">None</span>, <span style=\"color: #00af00; text-decoration-color: #00af00\">37</span>, <span style=\"color: #00af00; text-decoration-color: #00af00\">37</span>, <span style=\"color: #00af00; text-decoration-color: #00af00\">128</span>)         │               <span style=\"color: #00af00; text-decoration-color: #00af00\">0</span> │\n",
              "├──────────────────────────────────────┼─────────────────────────────┼─────────────────┤\n",
              "│ max_pooling2d_2 (<span style=\"color: #0087ff; text-decoration-color: #0087ff\">MaxPooling2D</span>)       │ (<span style=\"color: #00d7ff; text-decoration-color: #00d7ff\">None</span>, <span style=\"color: #00af00; text-decoration-color: #00af00\">18</span>, <span style=\"color: #00af00; text-decoration-color: #00af00\">18</span>, <span style=\"color: #00af00; text-decoration-color: #00af00\">128</span>)         │               <span style=\"color: #00af00; text-decoration-color: #00af00\">0</span> │\n",
              "├──────────────────────────────────────┼─────────────────────────────┼─────────────────┤\n",
              "│ dropout_2 (<span style=\"color: #0087ff; text-decoration-color: #0087ff\">Dropout</span>)                  │ (<span style=\"color: #00d7ff; text-decoration-color: #00d7ff\">None</span>, <span style=\"color: #00af00; text-decoration-color: #00af00\">18</span>, <span style=\"color: #00af00; text-decoration-color: #00af00\">18</span>, <span style=\"color: #00af00; text-decoration-color: #00af00\">128</span>)         │               <span style=\"color: #00af00; text-decoration-color: #00af00\">0</span> │\n",
              "├──────────────────────────────────────┼─────────────────────────────┼─────────────────┤\n",
              "│ flatten (<span style=\"color: #0087ff; text-decoration-color: #0087ff\">Flatten</span>)                    │ (<span style=\"color: #00d7ff; text-decoration-color: #00d7ff\">None</span>, <span style=\"color: #00af00; text-decoration-color: #00af00\">41472</span>)               │               <span style=\"color: #00af00; text-decoration-color: #00af00\">0</span> │\n",
              "├──────────────────────────────────────┼─────────────────────────────┼─────────────────┤\n",
              "│ dense (<span style=\"color: #0087ff; text-decoration-color: #0087ff\">Dense</span>)                        │ (<span style=\"color: #00d7ff; text-decoration-color: #00d7ff\">None</span>, <span style=\"color: #00af00; text-decoration-color: #00af00\">256</span>)                 │      <span style=\"color: #00af00; text-decoration-color: #00af00\">10,617,088</span> │\n",
              "├──────────────────────────────────────┼─────────────────────────────┼─────────────────┤\n",
              "│ batch_normalization_3                │ (<span style=\"color: #00d7ff; text-decoration-color: #00d7ff\">None</span>, <span style=\"color: #00af00; text-decoration-color: #00af00\">256</span>)                 │           <span style=\"color: #00af00; text-decoration-color: #00af00\">1,024</span> │\n",
              "│ (<span style=\"color: #0087ff; text-decoration-color: #0087ff\">BatchNormalization</span>)                 │                             │                 │\n",
              "├──────────────────────────────────────┼─────────────────────────────┼─────────────────┤\n",
              "│ activation_3 (<span style=\"color: #0087ff; text-decoration-color: #0087ff\">Activation</span>)            │ (<span style=\"color: #00d7ff; text-decoration-color: #00d7ff\">None</span>, <span style=\"color: #00af00; text-decoration-color: #00af00\">256</span>)                 │               <span style=\"color: #00af00; text-decoration-color: #00af00\">0</span> │\n",
              "├──────────────────────────────────────┼─────────────────────────────┼─────────────────┤\n",
              "│ dropout_3 (<span style=\"color: #0087ff; text-decoration-color: #0087ff\">Dropout</span>)                  │ (<span style=\"color: #00d7ff; text-decoration-color: #00d7ff\">None</span>, <span style=\"color: #00af00; text-decoration-color: #00af00\">256</span>)                 │               <span style=\"color: #00af00; text-decoration-color: #00af00\">0</span> │\n",
              "├──────────────────────────────────────┼─────────────────────────────┼─────────────────┤\n",
              "│ dense_1 (<span style=\"color: #0087ff; text-decoration-color: #0087ff\">Dense</span>)                      │ (<span style=\"color: #00d7ff; text-decoration-color: #00d7ff\">None</span>, <span style=\"color: #00af00; text-decoration-color: #00af00\">15</span>)                  │           <span style=\"color: #00af00; text-decoration-color: #00af00\">3,855</span> │\n",
              "└──────────────────────────────────────┴─────────────────────────────┴─────────────────┘\n",
              "</pre>\n"
            ]
          },
          "metadata": {}
        },
        {
          "output_type": "display_data",
          "data": {
            "text/plain": [
              "\u001b[1m Total params: \u001b[0m\u001b[38;5;34m10,716,111\u001b[0m (40.88 MB)\n"
            ],
            "text/html": [
              "<pre style=\"white-space:pre;overflow-x:auto;line-height:normal;font-family:Menlo,'DejaVu Sans Mono',consolas,'Courier New',monospace\"><span style=\"font-weight: bold\"> Total params: </span><span style=\"color: #00af00; text-decoration-color: #00af00\">10,716,111</span> (40.88 MB)\n",
              "</pre>\n"
            ]
          },
          "metadata": {}
        },
        {
          "output_type": "display_data",
          "data": {
            "text/plain": [
              "\u001b[1m Trainable params: \u001b[0m\u001b[38;5;34m10,715,151\u001b[0m (40.88 MB)\n"
            ],
            "text/html": [
              "<pre style=\"white-space:pre;overflow-x:auto;line-height:normal;font-family:Menlo,'DejaVu Sans Mono',consolas,'Courier New',monospace\"><span style=\"font-weight: bold\"> Trainable params: </span><span style=\"color: #00af00; text-decoration-color: #00af00\">10,715,151</span> (40.88 MB)\n",
              "</pre>\n"
            ]
          },
          "metadata": {}
        },
        {
          "output_type": "display_data",
          "data": {
            "text/plain": [
              "\u001b[1m Non-trainable params: \u001b[0m\u001b[38;5;34m960\u001b[0m (3.75 KB)\n"
            ],
            "text/html": [
              "<pre style=\"white-space:pre;overflow-x:auto;line-height:normal;font-family:Menlo,'DejaVu Sans Mono',consolas,'Courier New',monospace\"><span style=\"font-weight: bold\"> Non-trainable params: </span><span style=\"color: #00af00; text-decoration-color: #00af00\">960</span> (3.75 KB)\n",
              "</pre>\n"
            ]
          },
          "metadata": {}
        }
      ]
    },
    {
      "cell_type": "code",
      "source": [
        "model.compile(optimizer=RMSprop(learning_rate=0.001), loss=\"categorical_crossentropy\", metrics=['accuracy'])"
      ],
      "metadata": {
        "id": "zX8YO7ijvBHs"
      },
      "id": "zX8YO7ijvBHs",
      "execution_count": null,
      "outputs": []
    },
    {
      "cell_type": "code",
      "source": [
        "history = model.fit(train_gen, validation_data=test_gen, epochs=30, batch_size=32)"
      ],
      "metadata": {
        "colab": {
          "base_uri": "https://localhost:8080/"
        },
        "id": "-t1JpUCrvUcV",
        "outputId": "c206d89b-f12a-4c34-8119-1df888824103"
      },
      "id": "-t1JpUCrvUcV",
      "execution_count": null,
      "outputs": [
        {
          "output_type": "stream",
          "name": "stdout",
          "text": [
            "Epoch 1/30\n"
          ]
        },
        {
          "output_type": "stream",
          "name": "stderr",
          "text": [
            "/usr/local/lib/python3.10/dist-packages/keras/src/trainers/data_adapters/py_dataset_adapter.py:121: UserWarning: Your `PyDataset` class should call `super().__init__(**kwargs)` in its constructor. `**kwargs` can include `workers`, `use_multiprocessing`, `max_queue_size`. Do not pass these arguments to `fit()`, as they will be ignored.\n",
            "  self._warn_if_super_not_called()\n"
          ]
        },
        {
          "output_type": "stream",
          "name": "stdout",
          "text": [
            "\u001b[1m127/127\u001b[0m \u001b[32m━━━━━━━━━━━━━━━━━━━━\u001b[0m\u001b[37m\u001b[0m \u001b[1m48s\u001b[0m 268ms/step - accuracy: 0.2828 - loss: 2.4089 - val_accuracy: 0.0813 - val_loss: 7.9034\n",
            "Epoch 2/30\n",
            "\u001b[1m127/127\u001b[0m \u001b[32m━━━━━━━━━━━━━━━━━━━━\u001b[0m\u001b[37m\u001b[0m \u001b[1m64s\u001b[0m 203ms/step - accuracy: 0.5008 - loss: 1.5615 - val_accuracy: 0.0813 - val_loss: 8.7397\n",
            "Epoch 3/30\n",
            "\u001b[1m127/127\u001b[0m \u001b[32m━━━━━━━━━━━━━━━━━━━━\u001b[0m\u001b[37m\u001b[0m \u001b[1m27s\u001b[0m 202ms/step - accuracy: 0.5574 - loss: 1.3414 - val_accuracy: 0.1219 - val_loss: 4.6297\n",
            "Epoch 4/30\n",
            "\u001b[1m127/127\u001b[0m \u001b[32m━━━━━━━━━━━━━━━━━━━━\u001b[0m\u001b[37m\u001b[0m \u001b[1m41s\u001b[0m 203ms/step - accuracy: 0.6108 - loss: 1.1754 - val_accuracy: 0.1129 - val_loss: 5.2887\n",
            "Epoch 5/30\n",
            "\u001b[1m127/127\u001b[0m \u001b[32m━━━━━━━━━━━━━━━━━━━━\u001b[0m\u001b[37m\u001b[0m \u001b[1m27s\u001b[0m 203ms/step - accuracy: 0.6482 - loss: 1.0431 - val_accuracy: 0.3544 - val_loss: 2.1148\n",
            "Epoch 6/30\n",
            "\u001b[1m127/127\u001b[0m \u001b[32m━━━━━━━━━━━━━━━━━━━━\u001b[0m\u001b[37m\u001b[0m \u001b[1m41s\u001b[0m 201ms/step - accuracy: 0.6726 - loss: 0.9907 - val_accuracy: 0.3251 - val_loss: 2.9048\n",
            "Epoch 7/30\n",
            "\u001b[1m127/127\u001b[0m \u001b[32m━━━━━━━━━━━━━━━━━━━━\u001b[0m\u001b[37m\u001b[0m \u001b[1m41s\u001b[0m 203ms/step - accuracy: 0.6791 - loss: 0.9587 - val_accuracy: 0.5824 - val_loss: 1.3302\n",
            "Epoch 8/30\n",
            "\u001b[1m127/127\u001b[0m \u001b[32m━━━━━━━━━━━━━━━━━━━━\u001b[0m\u001b[37m\u001b[0m \u001b[1m41s\u001b[0m 204ms/step - accuracy: 0.7018 - loss: 0.8836 - val_accuracy: 0.6433 - val_loss: 1.1280\n",
            "Epoch 9/30\n",
            "\u001b[1m127/127\u001b[0m \u001b[32m━━━━━━━━━━━━━━━━━━━━\u001b[0m\u001b[37m\u001b[0m \u001b[1m27s\u001b[0m 200ms/step - accuracy: 0.7192 - loss: 0.8264 - val_accuracy: 0.5576 - val_loss: 1.3591\n",
            "Epoch 10/30\n",
            "\u001b[1m127/127\u001b[0m \u001b[32m━━━━━━━━━━━━━━━━━━━━\u001b[0m\u001b[37m\u001b[0m \u001b[1m41s\u001b[0m 199ms/step - accuracy: 0.7216 - loss: 0.7898 - val_accuracy: 0.5418 - val_loss: 1.8008\n",
            "Epoch 11/30\n",
            "\u001b[1m127/127\u001b[0m \u001b[32m━━━━━━━━━━━━━━━━━━━━\u001b[0m\u001b[37m\u001b[0m \u001b[1m27s\u001b[0m 201ms/step - accuracy: 0.7344 - loss: 0.7659 - val_accuracy: 0.6095 - val_loss: 1.2332\n",
            "Epoch 12/30\n",
            "\u001b[1m127/127\u001b[0m \u001b[32m━━━━━━━━━━━━━━━━━━━━\u001b[0m\u001b[37m\u001b[0m \u001b[1m27s\u001b[0m 205ms/step - accuracy: 0.7529 - loss: 0.7142 - val_accuracy: 0.3544 - val_loss: 3.3374\n",
            "Epoch 13/30\n",
            "\u001b[1m127/127\u001b[0m \u001b[32m━━━━━━━━━━━━━━━━━━━━\u001b[0m\u001b[37m\u001b[0m \u001b[1m40s\u001b[0m 202ms/step - accuracy: 0.7453 - loss: 0.7343 - val_accuracy: 0.5485 - val_loss: 1.3639\n",
            "Epoch 14/30\n",
            "\u001b[1m127/127\u001b[0m \u001b[32m━━━━━━━━━━━━━━━━━━━━\u001b[0m\u001b[37m\u001b[0m \u001b[1m27s\u001b[0m 203ms/step - accuracy: 0.7500 - loss: 0.7533 - val_accuracy: 0.6659 - val_loss: 1.0202\n",
            "Epoch 15/30\n",
            "\u001b[1m127/127\u001b[0m \u001b[32m━━━━━━━━━━━━━━━━━━━━\u001b[0m\u001b[37m\u001b[0m \u001b[1m41s\u001b[0m 201ms/step - accuracy: 0.7563 - loss: 0.7138 - val_accuracy: 0.6479 - val_loss: 1.1304\n",
            "Epoch 16/30\n",
            "\u001b[1m127/127\u001b[0m \u001b[32m━━━━━━━━━━━━━━━━━━━━\u001b[0m\u001b[37m\u001b[0m \u001b[1m27s\u001b[0m 202ms/step - accuracy: 0.7787 - loss: 0.6505 - val_accuracy: 0.6975 - val_loss: 0.9457\n",
            "Epoch 17/30\n",
            "\u001b[1m127/127\u001b[0m \u001b[32m━━━━━━━━━━━━━━━━━━━━\u001b[0m\u001b[37m\u001b[0m \u001b[1m41s\u001b[0m 201ms/step - accuracy: 0.7870 - loss: 0.6125 - val_accuracy: 0.6479 - val_loss: 1.1060\n",
            "Epoch 18/30\n",
            "\u001b[1m127/127\u001b[0m \u001b[32m━━━━━━━━━━━━━━━━━━━━\u001b[0m\u001b[37m\u001b[0m \u001b[1m27s\u001b[0m 202ms/step - accuracy: 0.7670 - loss: 0.6773 - val_accuracy: 0.5914 - val_loss: 1.4362\n",
            "Epoch 19/30\n",
            "\u001b[1m127/127\u001b[0m \u001b[32m━━━━━━━━━━━━━━━━━━━━\u001b[0m\u001b[37m\u001b[0m \u001b[1m27s\u001b[0m 204ms/step - accuracy: 0.7937 - loss: 0.6070 - val_accuracy: 0.6140 - val_loss: 1.2219\n",
            "Epoch 20/30\n",
            "\u001b[1m127/127\u001b[0m \u001b[32m━━━━━━━━━━━━━━━━━━━━\u001b[0m\u001b[37m\u001b[0m \u001b[1m27s\u001b[0m 201ms/step - accuracy: 0.7991 - loss: 0.6049 - val_accuracy: 0.5011 - val_loss: 2.3412\n",
            "Epoch 21/30\n",
            "\u001b[1m127/127\u001b[0m \u001b[32m━━━━━━━━━━━━━━━━━━━━\u001b[0m\u001b[37m\u001b[0m \u001b[1m27s\u001b[0m 201ms/step - accuracy: 0.8025 - loss: 0.5704 - val_accuracy: 0.4650 - val_loss: 1.9030\n",
            "Epoch 22/30\n",
            "\u001b[1m127/127\u001b[0m \u001b[32m━━━━━━━━━━━━━━━━━━━━\u001b[0m\u001b[37m\u001b[0m \u001b[1m41s\u001b[0m 202ms/step - accuracy: 0.7946 - loss: 0.6138 - val_accuracy: 0.4740 - val_loss: 2.1118\n",
            "Epoch 23/30\n",
            "\u001b[1m127/127\u001b[0m \u001b[32m━━━━━━━━━━━━━━━━━━━━\u001b[0m\u001b[37m\u001b[0m \u001b[1m41s\u001b[0m 205ms/step - accuracy: 0.8142 - loss: 0.5418 - val_accuracy: 0.2867 - val_loss: 4.4665\n",
            "Epoch 24/30\n",
            "\u001b[1m127/127\u001b[0m \u001b[32m━━━━━━━━━━━━━━━━━━━━\u001b[0m\u001b[37m\u001b[0m \u001b[1m39s\u001b[0m 297ms/step - accuracy: 0.8019 - loss: 0.5590 - val_accuracy: 0.5914 - val_loss: 1.5817\n",
            "Epoch 25/30\n",
            "\u001b[1m127/127\u001b[0m \u001b[32m━━━━━━━━━━━━━━━━━━━━\u001b[0m\u001b[37m\u001b[0m \u001b[1m34s\u001b[0m 232ms/step - accuracy: 0.8163 - loss: 0.5492 - val_accuracy: 0.3837 - val_loss: 2.9702\n",
            "Epoch 26/30\n",
            "\u001b[1m127/127\u001b[0m \u001b[32m━━━━━━━━━━━━━━━━━━━━\u001b[0m\u001b[37m\u001b[0m \u001b[1m32s\u001b[0m 237ms/step - accuracy: 0.8221 - loss: 0.5338 - val_accuracy: 0.6862 - val_loss: 1.0309\n",
            "Epoch 27/30\n",
            "\u001b[1m127/127\u001b[0m \u001b[32m━━━━━━━━━━━━━━━━━━━━\u001b[0m\u001b[37m\u001b[0m \u001b[1m43s\u001b[0m 324ms/step - accuracy: 0.8370 - loss: 0.5111 - val_accuracy: 0.4695 - val_loss: 1.8484\n",
            "Epoch 28/30\n",
            "\u001b[1m127/127\u001b[0m \u001b[32m━━━━━━━━━━━━━━━━━━━━\u001b[0m\u001b[37m\u001b[0m \u001b[1m29s\u001b[0m 214ms/step - accuracy: 0.8222 - loss: 0.5527 - val_accuracy: 0.4763 - val_loss: 2.0128\n",
            "Epoch 29/30\n",
            "\u001b[1m127/127\u001b[0m \u001b[32m━━━━━━━━━━━━━━━━━━━━\u001b[0m\u001b[37m\u001b[0m \u001b[1m27s\u001b[0m 202ms/step - accuracy: 0.8458 - loss: 0.4568 - val_accuracy: 0.6456 - val_loss: 1.1822\n",
            "Epoch 30/30\n",
            "\u001b[1m127/127\u001b[0m \u001b[32m━━━━━━━━━━━━━━━━━━━━\u001b[0m\u001b[37m\u001b[0m \u001b[1m28s\u001b[0m 210ms/step - accuracy: 0.8452 - loss: 0.4808 - val_accuracy: 0.6749 - val_loss: 1.0757\n"
          ]
        }
      ]
    },
    {
      "cell_type": "code",
      "source": [
        "plt.plot(history.history['accuracy'])\n",
        "plt.plot(history.history['val_accuracy'])\n",
        "plt.title(f'Training and Validation Accuracy')\n",
        "plt.xlabel('Epochs')\n",
        "plt.ylabel('Loss')\n",
        "plt.legend()\n",
        "plt.show()"
      ],
      "metadata": {
        "colab": {
          "base_uri": "https://localhost:8080/",
          "height": 489
        },
        "id": "Xplz7ASKza6K",
        "outputId": "91591111-4cc3-4404-fcff-935cde410894"
      },
      "id": "Xplz7ASKza6K",
      "execution_count": null,
      "outputs": [
        {
          "output_type": "stream",
          "name": "stderr",
          "text": [
            "WARNING:matplotlib.legend:No artists with labels found to put in legend.  Note that artists whose label start with an underscore are ignored when legend() is called with no argument.\n"
          ]
        },
        {
          "output_type": "display_data",
          "data": {
            "text/plain": [
              "<Figure size 640x480 with 1 Axes>"
            ],
            "image/png": "[encoded data removed]"
          },
          "metadata": {}
        }
      ]
    },
    {
      "cell_type": "code",
      "source": [
        "test_loss, test_acc = model.evaluate(testing_gen, verbose=2)\n",
        "\n",
        "# Print the final accuracy for the current optimizer\n",
        "print(f\"\\nFinal Test Accuracy: {test_acc:.4f}\")"
      ],
      "metadata": {
        "colab": {
          "base_uri": "https://localhost:8080/"
        },
        "id": "-9a9UsCpvpLr",
        "outputId": "a0a7322e-628a-4d01-db64-9121b3cb67ae"
      },
      "id": "-9a9UsCpvpLr",
      "execution_count": null,
      "outputs": [
        {
          "output_type": "stream",
          "name": "stdout",
          "text": [
            "29/29 - 5s - 177ms/step - accuracy: 0.8562 - loss: 0.4607\n",
            "\n",
            "Final Test Accuracy: 0.8562\n"
          ]
        }
      ]
    },
    {
      "cell_type": "markdown",
      "source": [
        "### RNN"
      ],
      "metadata": {
        "id": "hRbdvi9HHBs8"
      },
      "id": "hRbdvi9HHBs8"
    },
    {
      "cell_type": "code",
      "source": [
        "import tensorflow as tf\n",
        "from tensorflow.keras.datasets import imdb\n",
        "from tensorflow.keras.preprocessing import sequence\n",
        "from tensorflow.keras.models import Sequential\n",
        "from tensorflow.keras.layers import *"
      ],
      "metadata": {
        "id": "flxIAj5sA1qt"
      },
      "id": "flxIAj5sA1qt",
      "execution_count": 27,
      "outputs": []
    },
    {
      "cell_type": "code",
      "source": [
        "max_features = 10000  # Number of words to consider as features\n",
        "maxlen = 500"
      ],
      "metadata": {
        "id": "cGdfC03mHYIZ"
      },
      "id": "cGdfC03mHYIZ",
      "execution_count": 2,
      "outputs": []
    },
    {
      "cell_type": "code",
      "source": [
        "# Split the data into train and test sets\n",
        "(x_train, y_train), (x_test, y_test) = imdb.load_data(num_words=max_features)"
      ],
      "metadata": {
        "colab": {
          "base_uri": "https://localhost:8080/"
        },
        "id": "1032ASMAA0x-",
        "outputId": "873333be-924f-4333-be4b-92f45edd5eac"
      },
      "id": "1032ASMAA0x-",
      "execution_count": 3,
      "outputs": [
        {
          "output_type": "stream",
          "name": "stdout",
          "text": [
            "Downloading data from https://storage.googleapis.com/tensorflow/tf-keras-datasets/imdb.npz\n",
            "\u001b[1m17464789/17464789\u001b[0m \u001b[32m━━━━━━━━━━━━━━━━━━━━\u001b[0m\u001b[37m\u001b[0m \u001b[1m1s\u001b[0m 0us/step\n"
          ]
        }
      ]
    },
    {
      "cell_type": "code",
      "source": [
        "# Pad sequences (ensure each input has the same length)\n",
        "x_train = sequence.pad_sequences(x_train, maxlen=maxlen)\n",
        "x_test = sequence.pad_sequences(x_test, maxlen=maxlen)"
      ],
      "metadata": {
        "id": "lB_NM21PA0m6"
      },
      "id": "lB_NM21PA0m6",
      "execution_count": 5,
      "outputs": []
    },
    {
      "cell_type": "code",
      "source": [
        "model = Sequential()\n",
        "model.add(Embedding(max_features, 32))\n",
        "model.add(SimpleRNN(32))\n",
        "model.add(Dense(1, activation='sigmoid'))"
      ],
      "metadata": {
        "id": "FBZ3WeEkA0ja"
      },
      "id": "FBZ3WeEkA0ja",
      "execution_count": 6,
      "outputs": []
    },
    {
      "cell_type": "code",
      "source": [
        "model.compile(optimizer='adam', loss='binary_crossentropy', metrics=['accuracy'])"
      ],
      "metadata": {
        "id": "ufyfjHBGA0e5"
      },
      "id": "ufyfjHBGA0e5",
      "execution_count": 7,
      "outputs": []
    },
    {
      "cell_type": "code",
      "source": [
        "model.summary()"
      ],
      "metadata": {
        "colab": {
          "base_uri": "https://localhost:8080/",
          "height": 225
        },
        "id": "mCtroq2BA0aq",
        "outputId": "60586db1-7d0b-496b-a43a-9e36458645d3"
      },
      "id": "mCtroq2BA0aq",
      "execution_count": 8,
      "outputs": [
        {
          "output_type": "display_data",
          "data": {
            "text/plain": [
              "\u001b[1mModel: \"sequential\"\u001b[0m\n"
            ],
            "text/html": [
              "<pre style=\"white-space:pre;overflow-x:auto;line-height:normal;font-family:Menlo,'DejaVu Sans Mono',consolas,'Courier New',monospace\"><span style=\"font-weight: bold\">Model: \"sequential\"</span>\n",
              "</pre>\n"
            ]
          },
          "metadata": {}
        },
        {
          "output_type": "display_data",
          "data": {
            "text/plain": [
              "┏━━━━━━━━━━━━━━━━━━━━━━━━━━━━━━━━━━━━━━┳━━━━━━━━━━━━━━━━━━━━━━━━━━━━━┳━━━━━━━━━━━━━━━━━┓\n",
              "┃\u001b[1m \u001b[0m\u001b[1mLayer (type)                        \u001b[0m\u001b[1m \u001b[0m┃\u001b[1m \u001b[0m\u001b[1mOutput Shape               \u001b[0m\u001b[1m \u001b[0m┃\u001b[1m \u001b[0m\u001b[1m        Param #\u001b[0m\u001b[1m \u001b[0m┃\n",
              "┡━━━━━━━━━━━━━━━━━━━━━━━━━━━━━━━━━━━━━━╇━━━━━━━━━━━━━━━━━━━━━━━━━━━━━╇━━━━━━━━━━━━━━━━━┩\n",
              "│ embedding (\u001b[38;5;33mEmbedding\u001b[0m)                │ ?                           │     \u001b[38;5;34m0\u001b[0m (unbuilt) │\n",
              "├──────────────────────────────────────┼─────────────────────────────┼─────────────────┤\n",
              "│ simple_rnn (\u001b[38;5;33mSimpleRNN\u001b[0m)               │ ?                           │     \u001b[38;5;34m0\u001b[0m (unbuilt) │\n",
              "├──────────────────────────────────────┼─────────────────────────────┼─────────────────┤\n",
              "│ dense (\u001b[38;5;33mDense\u001b[0m)                        │ ?                           │     \u001b[38;5;34m0\u001b[0m (unbuilt) │\n",
              "└──────────────────────────────────────┴─────────────────────────────┴─────────────────┘\n"
            ],
            "text/html": [
              "<pre style=\"white-space:pre;overflow-x:auto;line-height:normal;font-family:Menlo,'DejaVu Sans Mono',consolas,'Courier New',monospace\">┏━━━━━━━━━━━━━━━━━━━━━━━━━━━━━━━━━━━━━━┳━━━━━━━━━━━━━━━━━━━━━━━━━━━━━┳━━━━━━━━━━━━━━━━━┓\n",
              "┃<span style=\"font-weight: bold\"> Layer (type)                         </span>┃<span style=\"font-weight: bold\"> Output Shape                </span>┃<span style=\"font-weight: bold\">         Param # </span>┃\n",
              "┡━━━━━━━━━━━━━━━━━━━━━━━━━━━━━━━━━━━━━━╇━━━━━━━━━━━━━━━━━━━━━━━━━━━━━╇━━━━━━━━━━━━━━━━━┩\n",
              "│ embedding (<span style=\"color: #0087ff; text-decoration-color: #0087ff\">Embedding</span>)                │ ?                           │     <span style=\"color: #00af00; text-decoration-color: #00af00\">0</span> (unbuilt) │\n",
              "├──────────────────────────────────────┼─────────────────────────────┼─────────────────┤\n",
              "│ simple_rnn (<span style=\"color: #0087ff; text-decoration-color: #0087ff\">SimpleRNN</span>)               │ ?                           │     <span style=\"color: #00af00; text-decoration-color: #00af00\">0</span> (unbuilt) │\n",
              "├──────────────────────────────────────┼─────────────────────────────┼─────────────────┤\n",
              "│ dense (<span style=\"color: #0087ff; text-decoration-color: #0087ff\">Dense</span>)                        │ ?                           │     <span style=\"color: #00af00; text-decoration-color: #00af00\">0</span> (unbuilt) │\n",
              "└──────────────────────────────────────┴─────────────────────────────┴─────────────────┘\n",
              "</pre>\n"
            ]
          },
          "metadata": {}
        },
        {
          "output_type": "display_data",
          "data": {
            "text/plain": [
              "\u001b[1m Total params: \u001b[0m\u001b[38;5;34m0\u001b[0m (0.00 B)\n"
            ],
            "text/html": [
              "<pre style=\"white-space:pre;overflow-x:auto;line-height:normal;font-family:Menlo,'DejaVu Sans Mono',consolas,'Courier New',monospace\"><span style=\"font-weight: bold\"> Total params: </span><span style=\"color: #00af00; text-decoration-color: #00af00\">0</span> (0.00 B)\n",
              "</pre>\n"
            ]
          },
          "metadata": {}
        },
        {
          "output_type": "display_data",
          "data": {
            "text/plain": [
              "\u001b[1m Trainable params: \u001b[0m\u001b[38;5;34m0\u001b[0m (0.00 B)\n"
            ],
            "text/html": [
              "<pre style=\"white-space:pre;overflow-x:auto;line-height:normal;font-family:Menlo,'DejaVu Sans Mono',consolas,'Courier New',monospace\"><span style=\"font-weight: bold\"> Trainable params: </span><span style=\"color: #00af00; text-decoration-color: #00af00\">0</span> (0.00 B)\n",
              "</pre>\n"
            ]
          },
          "metadata": {}
        },
        {
          "output_type": "display_data",
          "data": {
            "text/plain": [
              "\u001b[1m Non-trainable params: \u001b[0m\u001b[38;5;34m0\u001b[0m (0.00 B)\n"
            ],
            "text/html": [
              "<pre style=\"white-space:pre;overflow-x:auto;line-height:normal;font-family:Menlo,'DejaVu Sans Mono',consolas,'Courier New',monospace\"><span style=\"font-weight: bold\"> Non-trainable params: </span><span style=\"color: #00af00; text-decoration-color: #00af00\">0</span> (0.00 B)\n",
              "</pre>\n"
            ]
          },
          "metadata": {}
        }
      ]
    },
    {
      "cell_type": "code",
      "source": [
        "history = model.fit(x_train, y_train, epochs=10, batch_size=64, validation_data=(x_test, y_test))"
      ],
      "metadata": {
        "colab": {
          "base_uri": "https://localhost:8080/"
        },
        "id": "mCb7T4ZFA0Tz",
        "outputId": "7bf0a5e1-05bd-4ed7-ed7f-07b410e1b5ab"
      },
      "id": "mCb7T4ZFA0Tz",
      "execution_count": 9,
      "outputs": [
        {
          "output_type": "stream",
          "name": "stdout",
          "text": [
            "Epoch 1/10\n",
            "\u001b[1m391/391\u001b[0m \u001b[32m━━━━━━━━━━━━━━━━━━━━\u001b[0m\u001b[37m\u001b[0m \u001b[1m31s\u001b[0m 71ms/step - accuracy: 0.5645 - loss: 0.6665 - val_accuracy: 0.7705 - val_loss: 0.4922\n",
            "Epoch 2/10\n",
            "\u001b[1m391/391\u001b[0m \u001b[32m━━━━━━━━━━━━━━━━━━━━\u001b[0m\u001b[37m\u001b[0m \u001b[1m25s\u001b[0m 63ms/step - accuracy: 0.7555 - loss: 0.5155 - val_accuracy: 0.6611 - val_loss: 0.6083\n",
            "Epoch 3/10\n",
            "\u001b[1m391/391\u001b[0m \u001b[32m━━━━━━━━━━━━━━━━━━━━\u001b[0m\u001b[37m\u001b[0m \u001b[1m43s\u001b[0m 67ms/step - accuracy: 0.7930 - loss: 0.4712 - val_accuracy: 0.7861 - val_loss: 0.4670\n",
            "Epoch 4/10\n",
            "\u001b[1m391/391\u001b[0m \u001b[32m━━━━━━━━━━━━━━━━━━━━\u001b[0m\u001b[37m\u001b[0m \u001b[1m39s\u001b[0m 63ms/step - accuracy: 0.8533 - loss: 0.3482 - val_accuracy: 0.7740 - val_loss: 0.4867\n",
            "Epoch 5/10\n",
            "\u001b[1m391/391\u001b[0m \u001b[32m━━━━━━━━━━━━━━━━━━━━\u001b[0m\u001b[37m\u001b[0m \u001b[1m41s\u001b[0m 63ms/step - accuracy: 0.9004 - loss: 0.2580 - val_accuracy: 0.7554 - val_loss: 0.5341\n",
            "Epoch 6/10\n",
            "\u001b[1m391/391\u001b[0m \u001b[32m━━━━━━━━━━━━━━━━━━━━\u001b[0m\u001b[37m\u001b[0m \u001b[1m43s\u001b[0m 67ms/step - accuracy: 0.9232 - loss: 0.2041 - val_accuracy: 0.7345 - val_loss: 0.6263\n",
            "Epoch 7/10\n",
            "\u001b[1m391/391\u001b[0m \u001b[32m━━━━━━━━━━━━━━━━━━━━\u001b[0m\u001b[37m\u001b[0m \u001b[1m40s\u001b[0m 64ms/step - accuracy: 0.9595 - loss: 0.1218 - val_accuracy: 0.7836 - val_loss: 0.6098\n",
            "Epoch 8/10\n",
            "\u001b[1m391/391\u001b[0m \u001b[32m━━━━━━━━━━━━━━━━━━━━\u001b[0m\u001b[37m\u001b[0m \u001b[1m41s\u001b[0m 64ms/step - accuracy: 0.9837 - loss: 0.0616 - val_accuracy: 0.7430 - val_loss: 0.7910\n",
            "Epoch 9/10\n",
            "\u001b[1m391/391\u001b[0m \u001b[32m━━━━━━━━━━━━━━━━━━━━\u001b[0m\u001b[37m\u001b[0m \u001b[1m41s\u001b[0m 64ms/step - accuracy: 0.9915 - loss: 0.0357 - val_accuracy: 0.7564 - val_loss: 0.8119\n",
            "Epoch 10/10\n",
            "\u001b[1m391/391\u001b[0m \u001b[32m━━━━━━━━━━━━━━━━━━━━\u001b[0m\u001b[37m\u001b[0m \u001b[1m41s\u001b[0m 64ms/step - accuracy: 0.9838 - loss: 0.0528 - val_accuracy: 0.7609 - val_loss: 0.8896\n"
          ]
        }
      ]
    },
    {
      "cell_type": "code",
      "source": [
        "test_loss, test_acc = model.evaluate(x_test, y_test)\n",
        "print(f'Test Accuracy: {test_acc}')"
      ],
      "metadata": {
        "colab": {
          "base_uri": "https://localhost:8080/"
        },
        "id": "oJ6IIUMiA0RN",
        "outputId": "597acf29-c332-4294-e1b8-9041ce84402e"
      },
      "id": "oJ6IIUMiA0RN",
      "execution_count": 10,
      "outputs": [
        {
          "output_type": "stream",
          "name": "stdout",
          "text": [
            "\u001b[1m782/782\u001b[0m \u001b[32m━━━━━━━━━━━━━━━━━━━━\u001b[0m\u001b[37m\u001b[0m \u001b[1m19s\u001b[0m 23ms/step - accuracy: 0.7587 - loss: 0.9086\n",
            "Test Accuracy: 0.7608799934387207\n"
          ]
        }
      ]
    },
    {
      "cell_type": "code",
      "source": [
        "model_stacked = Sequential()\n",
        "model_stacked.add(Embedding(max_features, 32))\n",
        "model_stacked.add(SimpleRNN(32, return_sequences=True))\n",
        "model_stacked.add(SimpleRNN(32))\n",
        "model_stacked.add(Dense(1, activation='sigmoid'))"
      ],
      "metadata": {
        "id": "LXVSm4G1A0O7"
      },
      "id": "LXVSm4G1A0O7",
      "execution_count": 12,
      "outputs": []
    },
    {
      "cell_type": "code",
      "source": [
        "model_stacked.compile(optimizer='adam', loss='binary_crossentropy', metrics=['accuracy'])"
      ],
      "metadata": {
        "id": "gE4x_yAtA0KP"
      },
      "id": "gE4x_yAtA0KP",
      "execution_count": 13,
      "outputs": []
    },
    {
      "cell_type": "code",
      "source": [
        "model_stacked.fit(x_train, y_train, epochs=10, batch_size=64, validation_data=(x_test, y_test))"
      ],
      "metadata": {
        "colab": {
          "base_uri": "https://localhost:8080/"
        },
        "id": "IHAj2GuPA0Dc",
        "outputId": "c740ee50-98bb-45fe-b9c4-67af965bfe28"
      },
      "id": "IHAj2GuPA0Dc",
      "execution_count": 14,
      "outputs": [
        {
          "output_type": "stream",
          "name": "stdout",
          "text": [
            "Epoch 1/10\n",
            "\u001b[1m391/391\u001b[0m \u001b[32m━━━━━━━━━━━━━━━━━━━━\u001b[0m\u001b[37m\u001b[0m \u001b[1m56s\u001b[0m 128ms/step - accuracy: 0.6187 - loss: 0.6297 - val_accuracy: 0.7912 - val_loss: 0.4589\n",
            "Epoch 2/10\n",
            "\u001b[1m391/391\u001b[0m \u001b[32m━━━━━━━━━━━━━━━━━━━━\u001b[0m\u001b[37m\u001b[0m \u001b[1m88s\u001b[0m 146ms/step - accuracy: 0.8525 - loss: 0.3526 - val_accuracy: 0.8228 - val_loss: 0.4065\n",
            "Epoch 3/10\n",
            "\u001b[1m391/391\u001b[0m \u001b[32m━━━━━━━━━━━━━━━━━━━━\u001b[0m\u001b[37m\u001b[0m \u001b[1m74s\u001b[0m 126ms/step - accuracy: 0.9067 - loss: 0.2399 - val_accuracy: 0.6898 - val_loss: 0.6016\n",
            "Epoch 4/10\n",
            "\u001b[1m391/391\u001b[0m \u001b[32m━━━━━━━━━━━━━━━━━━━━\u001b[0m\u001b[37m\u001b[0m \u001b[1m81s\u001b[0m 123ms/step - accuracy: 0.9069 - loss: 0.2354 - val_accuracy: 0.8080 - val_loss: 0.5372\n",
            "Epoch 5/10\n",
            "\u001b[1m391/391\u001b[0m \u001b[32m━━━━━━━━━━━━━━━━━━━━\u001b[0m\u001b[37m\u001b[0m \u001b[1m82s\u001b[0m 124ms/step - accuracy: 0.9818 - loss: 0.0631 - val_accuracy: 0.7857 - val_loss: 0.7163\n",
            "Epoch 6/10\n",
            "\u001b[1m391/391\u001b[0m \u001b[32m━━━━━━━━━━━━━━━━━━━━\u001b[0m\u001b[37m\u001b[0m \u001b[1m82s\u001b[0m 124ms/step - accuracy: 0.9949 - loss: 0.0205 - val_accuracy: 0.7946 - val_loss: 0.8450\n",
            "Epoch 7/10\n",
            "\u001b[1m391/391\u001b[0m \u001b[32m━━━━━━━━━━━━━━━━━━━━\u001b[0m\u001b[37m\u001b[0m \u001b[1m48s\u001b[0m 123ms/step - accuracy: 0.9859 - loss: 0.0421 - val_accuracy: 0.7904 - val_loss: 0.9214\n",
            "Epoch 8/10\n",
            "\u001b[1m391/391\u001b[0m \u001b[32m━━━━━━━━━━━━━━━━━━━━\u001b[0m\u001b[37m\u001b[0m \u001b[1m82s\u001b[0m 124ms/step - accuracy: 0.9988 - loss: 0.0057 - val_accuracy: 0.7860 - val_loss: 1.0093\n",
            "Epoch 9/10\n",
            "\u001b[1m391/391\u001b[0m \u001b[32m━━━━━━━━━━━━━━━━━━━━\u001b[0m\u001b[37m\u001b[0m \u001b[1m82s\u001b[0m 124ms/step - accuracy: 0.9909 - loss: 0.0299 - val_accuracy: 0.7661 - val_loss: 1.0707\n",
            "Epoch 10/10\n",
            "\u001b[1m391/391\u001b[0m \u001b[32m━━━━━━━━━━━━━━━━━━━━\u001b[0m\u001b[37m\u001b[0m \u001b[1m82s\u001b[0m 124ms/step - accuracy: 0.9853 - loss: 0.0416 - val_accuracy: 0.7674 - val_loss: 1.0367\n"
          ]
        },
        {
          "output_type": "execute_result",
          "data": {
            "text/plain": [
              "<keras.src.callbacks.history.History at 0x798f47ff5810>"
            ]
          },
          "metadata": {},
          "execution_count": 14
        }
      ]
    },
    {
      "cell_type": "code",
      "source": [
        "test_loss, test_acc = model_stacked.evaluate(x_test, y_test)\n",
        "print(f'Test Accuracy: {test_acc}')"
      ],
      "metadata": {
        "colab": {
          "base_uri": "https://localhost:8080/"
        },
        "id": "1NLaub9LKH_d",
        "outputId": "b9c2f34b-b4cf-4a7e-dc30-260ed5e4004d"
      },
      "id": "1NLaub9LKH_d",
      "execution_count": 15,
      "outputs": [
        {
          "output_type": "stream",
          "name": "stdout",
          "text": [
            "\u001b[1m782/782\u001b[0m \u001b[32m━━━━━━━━━━━━━━━━━━━━\u001b[0m\u001b[37m\u001b[0m \u001b[1m40s\u001b[0m 51ms/step - accuracy: 0.7637 - loss: 1.0445\n",
            "Test Accuracy: 0.7674400210380554\n"
          ]
        }
      ]
    },
    {
      "cell_type": "code",
      "source": [
        "texts = [\n",
        "   \"I absolutely loved this movie, the storyline was engaging!\",\n",
        "   \"The film was too slow and boring for my taste.\",\n",
        "   \"A perfect blend of comedy and drama, truly enjoyable!\"\n",
        "]"
      ],
      "metadata": {
        "id": "Kws7PJx6NPzO"
      },
      "id": "Kws7PJx6NPzO",
      "execution_count": 16,
      "outputs": []
    },
    {
      "cell_type": "code",
      "source": [
        "word_index = tf.keras.datasets.imdb.get_word_index()"
      ],
      "metadata": {
        "colab": {
          "base_uri": "https://localhost:8080/"
        },
        "id": "C9-I_KulNcI0",
        "outputId": "43d0ccff-0795-4988-823f-d422c187ed6f"
      },
      "id": "C9-I_KulNcI0",
      "execution_count": 17,
      "outputs": [
        {
          "output_type": "stream",
          "name": "stdout",
          "text": [
            "Downloading data from https://storage.googleapis.com/tensorflow/tf-keras-datasets/imdb_word_index.json\n",
            "\u001b[1m1641221/1641221\u001b[0m \u001b[32m━━━━━━━━━━━━━━━━━━━━\u001b[0m\u001b[37m\u001b[0m \u001b[1m1s\u001b[0m 0us/step\n"
          ]
        }
      ]
    },
    {
      "cell_type": "code",
      "source": [
        "reverse_word_index = {value: key for (key, value) in word_index.items()}"
      ],
      "metadata": {
        "id": "OZX0L5mtNfHW"
      },
      "id": "OZX0L5mtNfHW",
      "execution_count": 18,
      "outputs": []
    },
    {
      "cell_type": "code",
      "source": [
        "tokenizer = tf.keras.preprocessing.text.Tokenizer(num_words=max_features)\n",
        "tokenizer.fit_on_texts([ ' '.join([str(word) for word in sequence]) for sequence in x_train])"
      ],
      "metadata": {
        "id": "TrO_hVhtNutp"
      },
      "id": "TrO_hVhtNutp",
      "execution_count": 19,
      "outputs": []
    },
    {
      "cell_type": "code",
      "source": [
        "sequences = tokenizer.texts_to_sequences(texts)\n",
        "padded_sequences = sequence.pad_sequences(sequences, maxlen=maxlen)"
      ],
      "metadata": {
        "id": "W2Z298G_N2v1"
      },
      "id": "W2Z298G_N2v1",
      "execution_count": 21,
      "outputs": []
    },
    {
      "cell_type": "code",
      "source": [
        "padded_sequences[:3]"
      ],
      "metadata": {
        "colab": {
          "base_uri": "https://localhost:8080/"
        },
        "id": "tCF7dGtjN9-A",
        "outputId": "880c86cd-d121-400c-a8b7-1186b540ef0b"
      },
      "id": "tCF7dGtjN9-A",
      "execution_count": 22,
      "outputs": [
        {
          "output_type": "execute_result",
          "data": {
            "text/plain": [
              "array([[0, 0, 0, ..., 0, 0, 0],\n",
              "       [0, 0, 0, ..., 0, 0, 0],\n",
              "       [0, 0, 0, ..., 0, 0, 0]], dtype=int32)"
            ]
          },
          "metadata": {},
          "execution_count": 22
        }
      ]
    },
    {
      "cell_type": "code",
      "source": [
        "model.predict(padded_sequences)"
      ],
      "metadata": {
        "colab": {
          "base_uri": "https://localhost:8080/"
        },
        "id": "ex_OKkGIOHKJ",
        "outputId": "a107f5d0-9f82-4f8a-e32c-0d53a8cd7acc"
      },
      "id": "ex_OKkGIOHKJ",
      "execution_count": 23,
      "outputs": [
        {
          "output_type": "stream",
          "name": "stdout",
          "text": [
            "\u001b[1m1/1\u001b[0m \u001b[32m━━━━━━━━━━━━━━━━━━━━\u001b[0m\u001b[37m\u001b[0m \u001b[1m1s\u001b[0m 590ms/step\n"
          ]
        },
        {
          "output_type": "execute_result",
          "data": {
            "text/plain": [
              "array([[0.9984623],\n",
              "       [0.9984623],\n",
              "       [0.9984623]], dtype=float32)"
            ]
          },
          "metadata": {},
          "execution_count": 23
        }
      ]
    },
    {
      "cell_type": "code",
      "source": [
        "model_stacked.predict(padded_sequences)"
      ],
      "metadata": {
        "colab": {
          "base_uri": "https://localhost:8080/"
        },
        "id": "xdSxKLYPOQ1e",
        "outputId": "73c2785a-b2b1-4cf0-e013-1d93da0ae240"
      },
      "id": "xdSxKLYPOQ1e",
      "execution_count": 24,
      "outputs": [
        {
          "output_type": "stream",
          "name": "stdout",
          "text": [
            "\u001b[1m1/1\u001b[0m \u001b[32m━━━━━━━━━━━━━━━━━━━━\u001b[0m\u001b[37m\u001b[0m \u001b[1m1s\u001b[0m 678ms/step\n"
          ]
        },
        {
          "output_type": "execute_result",
          "data": {
            "text/plain": [
              "array([[0.99980736],\n",
              "       [0.99980736],\n",
              "       [0.99980736]], dtype=float32)"
            ]
          },
          "metadata": {},
          "execution_count": 24
        }
      ]
    },
    {
      "cell_type": "code",
      "source": [
        "model_stacked_lstm = Sequential()\n",
        "model_stacked_lstm.add(Embedding(max_features, 128, input_length=maxlen))\n",
        "model_stacked_lstm.add(LSTM(64, return_sequences=True))\n",
        "model_stacked_lstm.add(LSTM(64))\n",
        "model_stacked_lstm.add(Dense(1, activation='sigmoid'))"
      ],
      "metadata": {
        "id": "O7RpXR0qOXPk"
      },
      "id": "O7RpXR0qOXPk",
      "execution_count": 28,
      "outputs": []
    },
    {
      "cell_type": "code",
      "source": [
        "model_stacked_lstm.compile(optimizer='adam', loss='binary_crossentropy', metrics=['accuracy'])\n"
      ],
      "metadata": {
        "id": "MW4VXH6WOqmj"
      },
      "id": "MW4VXH6WOqmj",
      "execution_count": 30,
      "outputs": []
    },
    {
      "cell_type": "code",
      "source": [
        "model_stacked_lstm.summary()"
      ],
      "metadata": {
        "colab": {
          "base_uri": "https://localhost:8080/",
          "height": 257
        },
        "id": "cCnjLS-0O85_",
        "outputId": "a6790c4e-0e20-4d5c-c701-517ea0d0501a"
      },
      "id": "cCnjLS-0O85_",
      "execution_count": 31,
      "outputs": [
        {
          "output_type": "display_data",
          "data": {
            "text/plain": [
              "\u001b[1mModel: \"sequential_4\"\u001b[0m\n"
            ],
            "text/html": [
              "<pre style=\"white-space:pre;overflow-x:auto;line-height:normal;font-family:Menlo,'DejaVu Sans Mono',consolas,'Courier New',monospace\"><span style=\"font-weight: bold\">Model: \"sequential_4\"</span>\n",
              "</pre>\n"
            ]
          },
          "metadata": {}
        },
        {
          "output_type": "display_data",
          "data": {
            "text/plain": [
              "┏━━━━━━━━━━━━━━━━━━━━━━━━━━━━━━━━━━━━━━┳━━━━━━━━━━━━━━━━━━━━━━━━━━━━━┳━━━━━━━━━━━━━━━━━┓\n",
              "┃\u001b[1m \u001b[0m\u001b[1mLayer (type)                        \u001b[0m\u001b[1m \u001b[0m┃\u001b[1m \u001b[0m\u001b[1mOutput Shape               \u001b[0m\u001b[1m \u001b[0m┃\u001b[1m \u001b[0m\u001b[1m        Param #\u001b[0m\u001b[1m \u001b[0m┃\n",
              "┡━━━━━━━━━━━━━━━━━━━━━━━━━━━━━━━━━━━━━━╇━━━━━━━━━━━━━━━━━━━━━━━━━━━━━╇━━━━━━━━━━━━━━━━━┩\n",
              "│ embedding_3 (\u001b[38;5;33mEmbedding\u001b[0m)              │ ?                           │     \u001b[38;5;34m0\u001b[0m (unbuilt) │\n",
              "├──────────────────────────────────────┼─────────────────────────────┼─────────────────┤\n",
              "│ lstm (\u001b[38;5;33mLSTM\u001b[0m)                          │ ?                           │     \u001b[38;5;34m0\u001b[0m (unbuilt) │\n",
              "├──────────────────────────────────────┼─────────────────────────────┼─────────────────┤\n",
              "│ lstm_1 (\u001b[38;5;33mLSTM\u001b[0m)                        │ ?                           │     \u001b[38;5;34m0\u001b[0m (unbuilt) │\n",
              "├──────────────────────────────────────┼─────────────────────────────┼─────────────────┤\n",
              "│ dense_2 (\u001b[38;5;33mDense\u001b[0m)                      │ ?                           │     \u001b[38;5;34m0\u001b[0m (unbuilt) │\n",
              "└──────────────────────────────────────┴─────────────────────────────┴─────────────────┘\n"
            ],
            "text/html": [
              "<pre style=\"white-space:pre;overflow-x:auto;line-height:normal;font-family:Menlo,'DejaVu Sans Mono',consolas,'Courier New',monospace\">┏━━━━━━━━━━━━━━━━━━━━━━━━━━━━━━━━━━━━━━┳━━━━━━━━━━━━━━━━━━━━━━━━━━━━━┳━━━━━━━━━━━━━━━━━┓\n",
              "┃<span style=\"font-weight: bold\"> Layer (type)                         </span>┃<span style=\"font-weight: bold\"> Output Shape                </span>┃<span style=\"font-weight: bold\">         Param # </span>┃\n",
              "┡━━━━━━━━━━━━━━━━━━━━━━━━━━━━━━━━━━━━━━╇━━━━━━━━━━━━━━━━━━━━━━━━━━━━━╇━━━━━━━━━━━━━━━━━┩\n",
              "│ embedding_3 (<span style=\"color: #0087ff; text-decoration-color: #0087ff\">Embedding</span>)              │ ?                           │     <span style=\"color: #00af00; text-decoration-color: #00af00\">0</span> (unbuilt) │\n",
              "├──────────────────────────────────────┼─────────────────────────────┼─────────────────┤\n",
              "│ lstm (<span style=\"color: #0087ff; text-decoration-color: #0087ff\">LSTM</span>)                          │ ?                           │     <span style=\"color: #00af00; text-decoration-color: #00af00\">0</span> (unbuilt) │\n",
              "├──────────────────────────────────────┼─────────────────────────────┼─────────────────┤\n",
              "│ lstm_1 (<span style=\"color: #0087ff; text-decoration-color: #0087ff\">LSTM</span>)                        │ ?                           │     <span style=\"color: #00af00; text-decoration-color: #00af00\">0</span> (unbuilt) │\n",
              "├──────────────────────────────────────┼─────────────────────────────┼─────────────────┤\n",
              "│ dense_2 (<span style=\"color: #0087ff; text-decoration-color: #0087ff\">Dense</span>)                      │ ?                           │     <span style=\"color: #00af00; text-decoration-color: #00af00\">0</span> (unbuilt) │\n",
              "└──────────────────────────────────────┴─────────────────────────────┴─────────────────┘\n",
              "</pre>\n"
            ]
          },
          "metadata": {}
        },
        {
          "output_type": "display_data",
          "data": {
            "text/plain": [
              "\u001b[1m Total params: \u001b[0m\u001b[38;5;34m0\u001b[0m (0.00 B)\n"
            ],
            "text/html": [
              "<pre style=\"white-space:pre;overflow-x:auto;line-height:normal;font-family:Menlo,'DejaVu Sans Mono',consolas,'Courier New',monospace\"><span style=\"font-weight: bold\"> Total params: </span><span style=\"color: #00af00; text-decoration-color: #00af00\">0</span> (0.00 B)\n",
              "</pre>\n"
            ]
          },
          "metadata": {}
        },
        {
          "output_type": "display_data",
          "data": {
            "text/plain": [
              "\u001b[1m Trainable params: \u001b[0m\u001b[38;5;34m0\u001b[0m (0.00 B)\n"
            ],
            "text/html": [
              "<pre style=\"white-space:pre;overflow-x:auto;line-height:normal;font-family:Menlo,'DejaVu Sans Mono',consolas,'Courier New',monospace\"><span style=\"font-weight: bold\"> Trainable params: </span><span style=\"color: #00af00; text-decoration-color: #00af00\">0</span> (0.00 B)\n",
              "</pre>\n"
            ]
          },
          "metadata": {}
        },
        {
          "output_type": "display_data",
          "data": {
            "text/plain": [
              "\u001b[1m Non-trainable params: \u001b[0m\u001b[38;5;34m0\u001b[0m (0.00 B)\n"
            ],
            "text/html": [
              "<pre style=\"white-space:pre;overflow-x:auto;line-height:normal;font-family:Menlo,'DejaVu Sans Mono',consolas,'Courier New',monospace\"><span style=\"font-weight: bold\"> Non-trainable params: </span><span style=\"color: #00af00; text-decoration-color: #00af00\">0</span> (0.00 B)\n",
              "</pre>\n"
            ]
          },
          "metadata": {}
        }
      ]
    },
    {
      "cell_type": "code",
      "source": [
        "model_stacked_lstm.fit(x_train, y_train, epochs=5, batch_size=64, validation_data=(x_test, y_test))"
      ],
      "metadata": {
        "colab": {
          "base_uri": "https://localhost:8080/"
        },
        "id": "uIJvYwBHPBK1",
        "outputId": "2579d98e-3265-4ae3-bc86-bb0eadfce250"
      },
      "id": "uIJvYwBHPBK1",
      "execution_count": 32,
      "outputs": [
        {
          "output_type": "stream",
          "name": "stdout",
          "text": [
            "Epoch 1/5\n",
            "\u001b[1m391/391\u001b[0m \u001b[32m━━━━━━━━━━━━━━━━━━━━\u001b[0m\u001b[37m\u001b[0m \u001b[1m26s\u001b[0m 51ms/step - accuracy: 0.7372 - loss: 0.5029 - val_accuracy: 0.8202 - val_loss: 0.4093\n",
            "Epoch 2/5\n",
            "\u001b[1m391/391\u001b[0m \u001b[32m━━━━━━━━━━━━━━━━━━━━\u001b[0m\u001b[37m\u001b[0m \u001b[1m38s\u001b[0m 51ms/step - accuracy: 0.8887 - loss: 0.2825 - val_accuracy: 0.7716 - val_loss: 0.4769\n",
            "Epoch 3/5\n",
            "\u001b[1m391/391\u001b[0m \u001b[32m━━━━━━━━━━━━━━━━━━━━\u001b[0m\u001b[37m\u001b[0m \u001b[1m21s\u001b[0m 51ms/step - accuracy: 0.9199 - loss: 0.2067 - val_accuracy: 0.8655 - val_loss: 0.3191\n",
            "Epoch 4/5\n",
            "\u001b[1m391/391\u001b[0m \u001b[32m━━━━━━━━━━━━━━━━━━━━\u001b[0m\u001b[37m\u001b[0m \u001b[1m18s\u001b[0m 46ms/step - accuracy: 0.9546 - loss: 0.1294 - val_accuracy: 0.8656 - val_loss: 0.4269\n",
            "Epoch 5/5\n",
            "\u001b[1m391/391\u001b[0m \u001b[32m━━━━━━━━━━━━━━━━━━━━\u001b[0m\u001b[37m\u001b[0m \u001b[1m21s\u001b[0m 48ms/step - accuracy: 0.9028 - loss: 0.2320 - val_accuracy: 0.8570 - val_loss: 0.3751\n"
          ]
        },
        {
          "output_type": "execute_result",
          "data": {
            "text/plain": [
              "<keras.src.callbacks.history.History at 0x798f47ed0be0>"
            ]
          },
          "metadata": {},
          "execution_count": 32
        }
      ]
    },
    {
      "cell_type": "code",
      "source": [
        "loss, accuracy = model_stacked_lstm.evaluate(x_test, y_test)\n",
        "print(f\"Stacked LSTM Test Accuracy: {accuracy}\")"
      ],
      "metadata": {
        "colab": {
          "base_uri": "https://localhost:8080/"
        },
        "id": "u8dImQTOPI3V",
        "outputId": "6d3d3d77-d6b0-4ffc-f2e5-1f535a49adbd"
      },
      "id": "u8dImQTOPI3V",
      "execution_count": 33,
      "outputs": [
        {
          "output_type": "stream",
          "name": "stdout",
          "text": [
            "\u001b[1m782/782\u001b[0m \u001b[32m━━━━━━━━━━━━━━━━━━━━\u001b[0m\u001b[37m\u001b[0m \u001b[1m22s\u001b[0m 28ms/step - accuracy: 0.8584 - loss: 0.3718\n",
            "Stacked LSTM Test Accuracy: 0.8570399880409241\n"
          ]
        }
      ]
    },
    {
      "cell_type": "code",
      "source": [
        "model_stacked_lstm.predict(padded_sequences)"
      ],
      "metadata": {
        "colab": {
          "base_uri": "https://localhost:8080/"
        },
        "id": "NfH5haEmPtRx",
        "outputId": "a1b117e5-504b-43b4-c747-c1e3ce514b3b"
      },
      "id": "NfH5haEmPtRx",
      "execution_count": 34,
      "outputs": [
        {
          "output_type": "stream",
          "name": "stdout",
          "text": [
            "\u001b[1m1/1\u001b[0m \u001b[32m━━━━━━━━━━━━━━━━━━━━\u001b[0m\u001b[37m\u001b[0m \u001b[1m0s\u001b[0m 362ms/step\n"
          ]
        },
        {
          "output_type": "execute_result",
          "data": {
            "text/plain": [
              "array([[0.75663024],\n",
              "       [0.75663024],\n",
              "       [0.75663024]], dtype=float32)"
            ]
          },
          "metadata": {},
          "execution_count": 34
        }
      ]
    },
    {
      "cell_type": "code",
      "source": [
        "# Bidirectional RNN\n",
        "import tensorflow as tf\n",
        "from tensorflow.keras.datasets import reuters\n",
        "from tensorflow.keras.preprocessing import sequence\n",
        "from tensorflow.keras.models import Sequential\n",
        "from tensorflow.keras.layers import Dense, Embedding, Bidirectional, SimpleRNN, LSTM\n",
        "from tensorflow.keras.utils import to_categorical"
      ],
      "metadata": {
        "id": "OuKdGvSfP0Yb"
      },
      "id": "OuKdGvSfP0Yb",
      "execution_count": 1,
      "outputs": []
    },
    {
      "cell_type": "code",
      "source": [
        "max_features = 10000\n",
        "maxlen = 200"
      ],
      "metadata": {
        "id": "uvF3_FJARPdo"
      },
      "id": "uvF3_FJARPdo",
      "execution_count": 2,
      "outputs": []
    },
    {
      "cell_type": "code",
      "source": [
        "(x_train, y_train), (x_test, y_test) = reuters.load_data(num_words=max_features)"
      ],
      "metadata": {
        "colab": {
          "base_uri": "https://localhost:8080/"
        },
        "id": "HZKEQCEcRVgL",
        "outputId": "37e22f19-a597-4478-f0c1-8a68599e21cc"
      },
      "id": "HZKEQCEcRVgL",
      "execution_count": 3,
      "outputs": [
        {
          "output_type": "stream",
          "name": "stdout",
          "text": [
            "Downloading data from https://storage.googleapis.com/tensorflow/tf-keras-datasets/reuters.npz\n",
            "2110848/2110848 [==============================] - 0s 0us/step\n"
          ]
        }
      ]
    },
    {
      "cell_type": "code",
      "source": [
        "x_train = sequence.pad_sequences(x_train, maxlen=maxlen)\n",
        "x_test = sequence.pad_sequences(x_test, maxlen=maxlen)"
      ],
      "metadata": {
        "id": "pfTOzfl_RXek"
      },
      "id": "pfTOzfl_RXek",
      "execution_count": 4,
      "outputs": []
    },
    {
      "cell_type": "code",
      "source": [
        "y_train = to_categorical(y_train, 46)\n",
        "y_test = to_categorical(y_test, 46)"
      ],
      "metadata": {
        "id": "9csnuVi5Rc83"
      },
      "id": "9csnuVi5Rc83",
      "execution_count": 5,
      "outputs": []
    },
    {
      "cell_type": "code",
      "source": [
        "model = Sequential()\n",
        "model.add(Embedding(max_features, 128, input_length=maxlen))\n",
        "model.add(Bidirectional(LSTM(64, return_sequences=True)))\n",
        "model.add(Bidirectional(LSTM(64)))\n",
        "model.add(Dense(64, activation='relu'))\n",
        "model.add(Dense(46, activation='softmax'))"
      ],
      "metadata": {
        "id": "cx3q_BiyRhC7"
      },
      "id": "cx3q_BiyRhC7",
      "execution_count": 6,
      "outputs": []
    },
    {
      "cell_type": "code",
      "source": [
        "model.compile(optimizer='adam', loss='categorical_crossentropy', metrics=['accuracy'])"
      ],
      "metadata": {
        "id": "aAA-d6aERxJo"
      },
      "id": "aAA-d6aERxJo",
      "execution_count": 7,
      "outputs": []
    },
    {
      "cell_type": "code",
      "source": [
        "model.summary()"
      ],
      "metadata": {
        "colab": {
          "base_uri": "https://localhost:8080/"
        },
        "id": "px9jgNdrRziB",
        "outputId": "b945c252-fbdb-47ab-b932-cc7b53dde3ff"
      },
      "id": "px9jgNdrRziB",
      "execution_count": 8,
      "outputs": [
        {
          "output_type": "stream",
          "name": "stdout",
          "text": [
            "Model: \"sequential\"\n",
            "_________________________________________________________________\n",
            " Layer (type)                Output Shape              Param #   \n",
            "=================================================================\n",
            " embedding (Embedding)       (None, 200, 128)          1280000   \n",
            "                                                                 \n",
            " bidirectional (Bidirection  (None, 200, 128)          98816     \n",
            " al)                                                             \n",
            "                                                                 \n",
            " bidirectional_1 (Bidirecti  (None, 128)               98816     \n",
            " onal)                                                           \n",
            "                                                                 \n",
            " dense (Dense)               (None, 64)                8256      \n",
            "                                                                 \n",
            " dense_1 (Dense)             (None, 46)                2990      \n",
            "                                                                 \n",
            "=================================================================\n",
            "Total params: 1488878 (5.68 MB)\n",
            "Trainable params: 1488878 (5.68 MB)\n",
            "Non-trainable params: 0 (0.00 Byte)\n",
            "_________________________________________________________________\n"
          ]
        }
      ]
    },
    {
      "cell_type": "code",
      "source": [
        "history = model.fit(x_train, y_train, epochs=15, batch_size=64, validation_data=(x_test, y_test))"
      ],
      "metadata": {
        "colab": {
          "base_uri": "https://localhost:8080/"
        },
        "id": "mN9rJeUFR1m9",
        "outputId": "40dd76ba-f88d-4d91-c019-064cf643e5df"
      },
      "id": "mN9rJeUFR1m9",
      "execution_count": 9,
      "outputs": [
        {
          "output_type": "stream",
          "name": "stdout",
          "text": [
            "Epoch 1/15\n",
            "141/141 [==============================] - 42s 250ms/step - loss: 2.1456 - accuracy: 0.4625 - val_loss: 1.7855 - val_accuracy: 0.5183\n",
            "Epoch 2/15\n",
            "141/141 [==============================] - 34s 239ms/step - loss: 1.6899 - accuracy: 0.5590 - val_loss: 1.8735 - val_accuracy: 0.4858\n",
            "Epoch 3/15\n",
            "141/141 [==============================] - 33s 235ms/step - loss: 1.6028 - accuracy: 0.5919 - val_loss: 1.7015 - val_accuracy: 0.5788\n",
            "Epoch 4/15\n",
            "141/141 [==============================] - 34s 239ms/step - loss: 1.4429 - accuracy: 0.6389 - val_loss: 1.5871 - val_accuracy: 0.5917\n",
            "Epoch 5/15\n",
            "141/141 [==============================] - 33s 236ms/step - loss: 1.2763 - accuracy: 0.6698 - val_loss: 1.4729 - val_accuracy: 0.6247\n",
            "Epoch 6/15\n",
            "141/141 [==============================] - 33s 236ms/step - loss: 1.1611 - accuracy: 0.7014 - val_loss: 1.4526 - val_accuracy: 0.6322\n",
            "Epoch 7/15\n",
            "141/141 [==============================] - 33s 236ms/step - loss: 1.0515 - accuracy: 0.7287 - val_loss: 1.7414 - val_accuracy: 0.5810\n",
            "Epoch 8/15\n",
            "141/141 [==============================] - 33s 234ms/step - loss: 1.0323 - accuracy: 0.7299 - val_loss: 1.4447 - val_accuracy: 0.6469\n",
            "Epoch 9/15\n",
            "141/141 [==============================] - 33s 237ms/step - loss: 0.8966 - accuracy: 0.7693 - val_loss: 1.5499 - val_accuracy: 0.6296\n",
            "Epoch 10/15\n",
            "141/141 [==============================] - 33s 236ms/step - loss: 0.8639 - accuracy: 0.7771 - val_loss: 1.4727 - val_accuracy: 0.6523\n",
            "Epoch 11/15\n",
            "141/141 [==============================] - 33s 235ms/step - loss: 0.7467 - accuracy: 0.8045 - val_loss: 1.5397 - val_accuracy: 0.6545\n",
            "Epoch 12/15\n",
            "141/141 [==============================] - 33s 235ms/step - loss: 0.6682 - accuracy: 0.8259 - val_loss: 1.5205 - val_accuracy: 0.6723\n",
            "Epoch 13/15\n",
            "141/141 [==============================] - 33s 234ms/step - loss: 0.6115 - accuracy: 0.8396 - val_loss: 1.5947 - val_accuracy: 0.6541\n",
            "Epoch 14/15\n",
            "141/141 [==============================] - 33s 235ms/step - loss: 0.5653 - accuracy: 0.8533 - val_loss: 1.6015 - val_accuracy: 0.6621\n",
            "Epoch 15/15\n",
            "141/141 [==============================] - 33s 235ms/step - loss: 0.5157 - accuracy: 0.8631 - val_loss: 1.6479 - val_accuracy: 0.6652\n"
          ]
        }
      ]
    },
    {
      "cell_type": "code",
      "source": [
        "test_loss, test_acc = model.evaluate(x_test, y_test)\n",
        "print(f'Test Accuracy: {test_acc}')"
      ],
      "metadata": {
        "colab": {
          "base_uri": "https://localhost:8080/"
        },
        "id": "wjk9QgeiR6c_",
        "outputId": "45628343-0b85-409a-a4af-ccac842346b9"
      },
      "id": "wjk9QgeiR6c_",
      "execution_count": 10,
      "outputs": [
        {
          "output_type": "stream",
          "name": "stdout",
          "text": [
            "71/71 [==============================] - 4s 54ms/step - loss: 1.6479 - accuracy: 0.6652\n",
            "Test Accuracy: 0.6651825308799744\n"
          ]
        }
      ]
    },
    {
      "cell_type": "code",
      "source": [
        "texts = [\n",
        "   \"The stock market is experiencing significant gains today.\",\n",
        "   \"Scientists have discovered a new species in the Amazon rainforest.\",\n",
        "   \"The football match ended with a surprising score of 3-1.\"\n",
        "]"
      ],
      "metadata": {
        "id": "USdrsry-T8Er"
      },
      "id": "USdrsry-T8Er",
      "execution_count": 11,
      "outputs": []
    },
    {
      "cell_type": "code",
      "source": [
        "from tensorflow.keras.preprocessing.text import Tokenizer\n",
        "word_index = reuters.get_word_index()\n",
        "class_labels = {i: f\"Category {i}\" for i in range(46)}\n",
        "tokenizer = Tokenizer(num_words=max_features)\n",
        "tokenizer.fit_on_texts([ ' '.join([str(word) for word in sequence]) for sequence in x_train])\n",
        "sequences = tokenizer.texts_to_sequences(texts)\n",
        "padded_sequences = sequence.pad_sequences(sequences, maxlen=maxlen)"
      ],
      "metadata": {
        "colab": {
          "base_uri": "https://localhost:8080/"
        },
        "id": "3wry8GChUAx9",
        "outputId": "6258f9b8-824f-47a9-e437-4b9133fd418b"
      },
      "id": "3wry8GChUAx9",
      "execution_count": 12,
      "outputs": [
        {
          "output_type": "stream",
          "name": "stdout",
          "text": [
            "Downloading data from https://storage.googleapis.com/tensorflow/tf-keras-datasets/reuters_word_index.json\n",
            "550378/550378 [==============================] - 0s 0us/step\n"
          ]
        }
      ]
    },
    {
      "cell_type": "code",
      "source": [
        "ypred = model.predict(padded_sequences)"
      ],
      "metadata": {
        "colab": {
          "base_uri": "https://localhost:8080/"
        },
        "id": "4sDzkFdLUg9U",
        "outputId": "4a99577c-5ba4-4439-d3a1-673545f0f649"
      },
      "id": "4sDzkFdLUg9U",
      "execution_count": 14,
      "outputs": [
        {
          "output_type": "stream",
          "name": "stdout",
          "text": [
            "1/1 [==============================] - 0s 49ms/step\n"
          ]
        }
      ]
    },
    {
      "cell_type": "code",
      "source": [
        "import numpy as np\n",
        "np.argmax(ypred, axis=1)"
      ],
      "metadata": {
        "colab": {
          "base_uri": "https://localhost:8080/"
        },
        "id": "3rGmAZeKUnBf",
        "outputId": "f0e2e0e1-9047-48d8-cda6-5ba15f847e5d"
      },
      "id": "3rGmAZeKUnBf",
      "execution_count": 15,
      "outputs": [
        {
          "output_type": "execute_result",
          "data": {
            "text/plain": [
              "array([4, 4, 4])"
            ]
          },
          "metadata": {},
          "execution_count": 15
        }
      ]
    },
    {
      "cell_type": "code",
      "source": [
        "# GRU\n",
        "import tensorflow as tf\n",
        "from tensorflow.keras.datasets import imdb\n",
        "from tensorflow.keras.preprocessing.sequence import pad_sequences\n",
        "from tensorflow.keras.models import Sequential\n",
        "from tensorflow.keras.layers import GRU, Embedding, Dense"
      ],
      "metadata": {
        "id": "w2riZZvhU6Fl"
      },
      "id": "w2riZZvhU6Fl",
      "execution_count": 17,
      "outputs": []
    },
    {
      "cell_type": "code",
      "source": [
        "max_features = 10000\n",
        "maxlen = 150"
      ],
      "metadata": {
        "id": "M_2GixnhWvP9"
      },
      "id": "M_2GixnhWvP9",
      "execution_count": 18,
      "outputs": []
    },
    {
      "cell_type": "code",
      "source": [
        "(x_train, y_train), (x_test, y_test) = imdb.load_data(num_words=max_features)"
      ],
      "metadata": {
        "colab": {
          "base_uri": "https://localhost:8080/"
        },
        "id": "vBJbevDNWzRI",
        "outputId": "3833d976-cc7d-466f-cddd-08d2156662cc"
      },
      "id": "vBJbevDNWzRI",
      "execution_count": 19,
      "outputs": [
        {
          "output_type": "stream",
          "name": "stdout",
          "text": [
            "Downloading data from https://storage.googleapis.com/tensorflow/tf-keras-datasets/imdb.npz\n",
            "17464789/17464789 [==============================] - 0s 0us/step\n"
          ]
        }
      ]
    },
    {
      "cell_type": "code",
      "source": [
        "x_train = pad_sequences(x_train, maxlen=maxlen)\n",
        "x_test = pad_sequences(x_test, maxlen=maxlen)\n"
      ],
      "metadata": {
        "id": "Edlc8UAAW1-T"
      },
      "id": "Edlc8UAAW1-T",
      "execution_count": 20,
      "outputs": []
    },
    {
      "cell_type": "code",
      "source": [
        "model_gru = Sequential()\n",
        "model_gru.add(Embedding(max_features, 128, input_length=maxlen))\n",
        "model_gru.add(GRU(64))\n",
        "model_gru.add(Dense(1, activation='sigmoid'))"
      ],
      "metadata": {
        "id": "tYeZmEqPW3_W"
      },
      "id": "tYeZmEqPW3_W",
      "execution_count": 22,
      "outputs": []
    },
    {
      "cell_type": "code",
      "source": [
        "model_gru.compile(optimizer='adam', loss='binary_crossentropy', metrics=['accuracy'])"
      ],
      "metadata": {
        "id": "__4RlJY9W_EI"
      },
      "id": "__4RlJY9W_EI",
      "execution_count": 23,
      "outputs": []
    },
    {
      "cell_type": "code",
      "source": [
        "model_gru.fit(x_train, y_train, epochs=15, batch_size=64, validation_data=(x_test, y_test))"
      ],
      "metadata": {
        "colab": {
          "base_uri": "https://localhost:8080/"
        },
        "id": "pkdZSeDrXEjD",
        "outputId": "d439e219-33f6-408d-c4aa-17c4af35e99b"
      },
      "id": "pkdZSeDrXEjD",
      "execution_count": 24,
      "outputs": [
        {
          "output_type": "stream",
          "name": "stdout",
          "text": [
            "Epoch 1/15\n",
            "391/391 [==============================] - 38s 93ms/step - loss: 0.4102 - accuracy: 0.8027 - val_loss: 0.3265 - val_accuracy: 0.8617\n",
            "Epoch 2/15\n",
            "391/391 [==============================] - 36s 93ms/step - loss: 0.2372 - accuracy: 0.9063 - val_loss: 0.3306 - val_accuracy: 0.8569\n",
            "Epoch 3/15\n",
            "391/391 [==============================] - 36s 92ms/step - loss: 0.1671 - accuracy: 0.9394 - val_loss: 0.3624 - val_accuracy: 0.8549\n",
            "Epoch 4/15\n",
            "391/391 [==============================] - 36s 91ms/step - loss: 0.1115 - accuracy: 0.9613 - val_loss: 0.4137 - val_accuracy: 0.8595\n",
            "Epoch 5/15\n",
            "391/391 [==============================] - 36s 93ms/step - loss: 0.0780 - accuracy: 0.9723 - val_loss: 0.4811 - val_accuracy: 0.8522\n",
            "Epoch 6/15\n",
            "391/391 [==============================] - 36s 93ms/step - loss: 0.0537 - accuracy: 0.9824 - val_loss: 0.5421 - val_accuracy: 0.8515\n",
            "Epoch 7/15\n",
            "391/391 [==============================] - 36s 93ms/step - loss: 0.0345 - accuracy: 0.9887 - val_loss: 0.5642 - val_accuracy: 0.8436\n",
            "Epoch 8/15\n",
            "391/391 [==============================] - 36s 93ms/step - loss: 0.0296 - accuracy: 0.9910 - val_loss: 0.7764 - val_accuracy: 0.8485\n",
            "Epoch 9/15\n",
            "391/391 [==============================] - 36s 93ms/step - loss: 0.0243 - accuracy: 0.9924 - val_loss: 0.7064 - val_accuracy: 0.8472\n",
            "Epoch 10/15\n",
            "391/391 [==============================] - 36s 93ms/step - loss: 0.0176 - accuracy: 0.9942 - val_loss: 0.7308 - val_accuracy: 0.8474\n",
            "Epoch 11/15\n",
            "391/391 [==============================] - 36s 91ms/step - loss: 0.0106 - accuracy: 0.9972 - val_loss: 0.8363 - val_accuracy: 0.8471\n",
            "Epoch 12/15\n",
            "391/391 [==============================] - 36s 92ms/step - loss: 0.0156 - accuracy: 0.9951 - val_loss: 0.8566 - val_accuracy: 0.8484\n",
            "Epoch 13/15\n",
            "391/391 [==============================] - 36s 91ms/step - loss: 0.0105 - accuracy: 0.9973 - val_loss: 0.9476 - val_accuracy: 0.8467\n",
            "Epoch 14/15\n",
            "391/391 [==============================] - 36s 92ms/step - loss: 0.0105 - accuracy: 0.9971 - val_loss: 0.9544 - val_accuracy: 0.8492\n",
            "Epoch 15/15\n",
            "391/391 [==============================] - 36s 93ms/step - loss: 0.0104 - accuracy: 0.9969 - val_loss: 0.9934 - val_accuracy: 0.8507\n"
          ]
        },
        {
          "output_type": "execute_result",
          "data": {
            "text/plain": [
              "<keras.src.callbacks.History at 0x78976f23d570>"
            ]
          },
          "metadata": {},
          "execution_count": 24
        }
      ]
    },
    {
      "cell_type": "code",
      "source": [
        "loss, accuracy = model_gru.evaluate(x_test, y_test)\n",
        "print(f\"GRU Model Test Accuracy: {accuracy}\")"
      ],
      "metadata": {
        "colab": {
          "base_uri": "https://localhost:8080/"
        },
        "id": "XXtfBZBLXI2-",
        "outputId": "d798f9fc-c6e8-4bb2-b370-94a7337902b7"
      },
      "id": "XXtfBZBLXI2-",
      "execution_count": 25,
      "outputs": [
        {
          "output_type": "stream",
          "name": "stdout",
          "text": [
            "782/782 [==============================] - 12s 15ms/step - loss: 0.9934 - accuracy: 0.8507\n",
            "GRU Model Test Accuracy: 0.8507199883460999\n"
          ]
        }
      ]
    },
    {
      "cell_type": "code",
      "source": [
        "texts = [\n",
        "  \"I absolutely loved this movie, the storyline was engaging!\",\n",
        "  \"The film was too slow and boring for my taste.\",\n",
        "  \"A perfect blend of comedy and drama, truly enjoyable!\"\n",
        "]"
      ],
      "metadata": {
        "id": "g8w5picRXMsA"
      },
      "id": "g8w5picRXMsA",
      "execution_count": 26,
      "outputs": []
    },
    {
      "cell_type": "code",
      "source": [
        "word_index = tf.keras.datasets.imdb.get_word_index()\n",
        "tokenizer = tf.keras.preprocessing.text.Tokenizer(num_words=max_features)\n",
        "tokenizer.fit_on_texts([ ' '.join([str(word) for word in sequence]) for sequence in x_train])\n",
        "sequences = tokenizer.texts_to_sequences(texts)\n",
        "padded_sequences = pad_sequences(sequences, maxlen=maxlen)"
      ],
      "metadata": {
        "colab": {
          "base_uri": "https://localhost:8080/"
        },
        "id": "L6D4gi_0XMQN",
        "outputId": "9d19b93e-058b-4125-a3e6-9ad2ef6a7d1c"
      },
      "id": "L6D4gi_0XMQN",
      "execution_count": 27,
      "outputs": [
        {
          "output_type": "stream",
          "name": "stdout",
          "text": [
            "Downloading data from https://storage.googleapis.com/tensorflow/tf-keras-datasets/imdb_word_index.json\n",
            "1641221/1641221 [==============================] - 0s 0us/step\n"
          ]
        }
      ]
    },
    {
      "cell_type": "code",
      "source": [
        "model_gru.predict(padded_sequences)"
      ],
      "metadata": {
        "colab": {
          "base_uri": "https://localhost:8080/"
        },
        "id": "MwjTSK66Zae6",
        "outputId": "79831fb7-ba09-438c-cc2b-23c98c9cef1c"
      },
      "id": "MwjTSK66Zae6",
      "execution_count": 28,
      "outputs": [
        {
          "output_type": "stream",
          "name": "stdout",
          "text": [
            "1/1 [==============================] - 0s 359ms/step\n"
          ]
        },
        {
          "output_type": "execute_result",
          "data": {
            "text/plain": [
              "array([[0.01174901],\n",
              "       [0.01174901],\n",
              "       [0.01174901]], dtype=float32)"
            ]
          },
          "metadata": {},
          "execution_count": 28
        }
      ]
    },
    {
      "cell_type": "code",
      "source": [
        "# text generation using lstm\n",
        "import numpy as np\n",
        "import tensorflow as tf\n",
        "from tensorflow.keras.models import Sequential\n",
        "from tensorflow.keras.layers import LSTM, Dense, Embedding\n",
        "from tensorflow.keras.preprocessing.text import Tokenizer\n",
        "from tensorflow.keras.preprocessing.sequence import pad_sequences"
      ],
      "metadata": {
        "id": "K139ZPh2ZgNh"
      },
      "id": "K139ZPh2ZgNh",
      "execution_count": 29,
      "outputs": []
    },
    {
      "cell_type": "code",
      "source": [
        "text = \"\"\"Shall I compare thee to a summer's day? Thou art more lovely and more temperate.\n",
        "        Rough winds do shake the darling buds of May, And summer's lease hath all too short a date.\"\"\"\n"
      ],
      "metadata": {
        "id": "JJVCPwEpbHsH"
      },
      "id": "JJVCPwEpbHsH",
      "execution_count": 30,
      "outputs": []
    },
    {
      "cell_type": "code",
      "source": [
        "tokenizer = Tokenizer()\n",
        "tokenizer.fit_on_texts([text])"
      ],
      "metadata": {
        "id": "9zr2Ayv1bKY5"
      },
      "id": "9zr2Ayv1bKY5",
      "execution_count": 31,
      "outputs": []
    },
    {
      "cell_type": "code",
      "source": [
        "total_words = len(tokenizer.word_index) + 1"
      ],
      "metadata": {
        "id": "VveniSDqbQ6p"
      },
      "id": "VveniSDqbQ6p",
      "execution_count": 32,
      "outputs": []
    },
    {
      "cell_type": "code",
      "source": [
        "total_words"
      ],
      "metadata": {
        "colab": {
          "base_uri": "https://localhost:8080/"
        },
        "id": "mrvC8qnJbS-k",
        "outputId": "3f8bc14f-594b-493f-995f-ef0f5870516b"
      },
      "id": "mrvC8qnJbS-k",
      "execution_count": 33,
      "outputs": [
        {
          "output_type": "execute_result",
          "data": {
            "text/plain": [
              "30"
            ]
          },
          "metadata": {},
          "execution_count": 33
        }
      ]
    },
    {
      "cell_type": "code",
      "source": [
        "input_sequences = []\n",
        "for line in text.split('.'):\n",
        "   token_list = tokenizer.texts_to_sequences([line])[0]\n",
        "   for i in range(1, len(token_list)):\n",
        "       n_gram_sequence = token_list[:i+1]\n",
        "       input_sequences.append(n_gram_sequence)"
      ],
      "metadata": {
        "id": "8oXi2QD9bUJ8"
      },
      "id": "8oXi2QD9bUJ8",
      "execution_count": 34,
      "outputs": []
    },
    {
      "cell_type": "code",
      "source": [
        "input_sequences"
      ],
      "metadata": {
        "colab": {
          "base_uri": "https://localhost:8080/"
        },
        "id": "aUuk570Mbm4m",
        "outputId": "a9a006d4-18e8-400b-b1e0-e52f806b4eca"
      },
      "id": "aUuk570Mbm4m",
      "execution_count": 35,
      "outputs": [
        {
          "output_type": "execute_result",
          "data": {
            "text/plain": [
              "[[5, 6],\n",
              " [5, 6, 7],\n",
              " [5, 6, 7, 8],\n",
              " [5, 6, 7, 8, 9],\n",
              " [5, 6, 7, 8, 9, 1],\n",
              " [5, 6, 7, 8, 9, 1, 2],\n",
              " [5, 6, 7, 8, 9, 1, 2, 10],\n",
              " [5, 6, 7, 8, 9, 1, 2, 10, 11],\n",
              " [5, 6, 7, 8, 9, 1, 2, 10, 11, 12],\n",
              " [5, 6, 7, 8, 9, 1, 2, 10, 11, 12, 3],\n",
              " [5, 6, 7, 8, 9, 1, 2, 10, 11, 12, 3, 13],\n",
              " [5, 6, 7, 8, 9, 1, 2, 10, 11, 12, 3, 13, 4],\n",
              " [5, 6, 7, 8, 9, 1, 2, 10, 11, 12, 3, 13, 4, 3],\n",
              " [5, 6, 7, 8, 9, 1, 2, 10, 11, 12, 3, 13, 4, 3, 14],\n",
              " [15, 16],\n",
              " [15, 16, 17],\n",
              " [15, 16, 17, 18],\n",
              " [15, 16, 17, 18, 19],\n",
              " [15, 16, 17, 18, 19, 20],\n",
              " [15, 16, 17, 18, 19, 20, 21],\n",
              " [15, 16, 17, 18, 19, 20, 21, 22],\n",
              " [15, 16, 17, 18, 19, 20, 21, 22, 23],\n",
              " [15, 16, 17, 18, 19, 20, 21, 22, 23, 4],\n",
              " [15, 16, 17, 18, 19, 20, 21, 22, 23, 4, 2],\n",
              " [15, 16, 17, 18, 19, 20, 21, 22, 23, 4, 2, 24],\n",
              " [15, 16, 17, 18, 19, 20, 21, 22, 23, 4, 2, 24, 25],\n",
              " [15, 16, 17, 18, 19, 20, 21, 22, 23, 4, 2, 24, 25, 26],\n",
              " [15, 16, 17, 18, 19, 20, 21, 22, 23, 4, 2, 24, 25, 26, 27],\n",
              " [15, 16, 17, 18, 19, 20, 21, 22, 23, 4, 2, 24, 25, 26, 27, 28],\n",
              " [15, 16, 17, 18, 19, 20, 21, 22, 23, 4, 2, 24, 25, 26, 27, 28, 1],\n",
              " [15, 16, 17, 18, 19, 20, 21, 22, 23, 4, 2, 24, 25, 26, 27, 28, 1, 29]]"
            ]
          },
          "metadata": {},
          "execution_count": 35
        }
      ]
    },
    {
      "cell_type": "code",
      "source": [
        "max_sequence_len = max([len(x) for x in input_sequences])"
      ],
      "metadata": {
        "id": "aPPB75zAbp9-"
      },
      "id": "aPPB75zAbp9-",
      "execution_count": 36,
      "outputs": []
    },
    {
      "cell_type": "code",
      "source": [
        "max_sequence_len"
      ],
      "metadata": {
        "colab": {
          "base_uri": "https://localhost:8080/"
        },
        "id": "wWRZ4UWmb01D",
        "outputId": "61c92d17-0464-4671-d234-ed57714e9653"
      },
      "id": "wWRZ4UWmb01D",
      "execution_count": 37,
      "outputs": [
        {
          "output_type": "execute_result",
          "data": {
            "text/plain": [
              "18"
            ]
          },
          "metadata": {},
          "execution_count": 37
        }
      ]
    },
    {
      "cell_type": "code",
      "source": [
        "input_sequences = np.array(pad_sequences(input_sequences, maxlen=max_sequence_len, padding='pre'))"
      ],
      "metadata": {
        "id": "KBFfyfqJb3Si"
      },
      "id": "KBFfyfqJb3Si",
      "execution_count": 38,
      "outputs": []
    },
    {
      "cell_type": "code",
      "source": [
        "X, y = input_sequences[:, :-1], input_sequences[:, -1]"
      ],
      "metadata": {
        "id": "Fc5Gsg8pb-AN"
      },
      "id": "Fc5Gsg8pb-AN",
      "execution_count": 40,
      "outputs": []
    },
    {
      "cell_type": "code",
      "source": [
        "y"
      ],
      "metadata": {
        "colab": {
          "base_uri": "https://localhost:8080/"
        },
        "id": "tx4iVz2NcJDu",
        "outputId": "6a983ed1-8444-40e6-a894-b6313a05e2e8"
      },
      "id": "tx4iVz2NcJDu",
      "execution_count": 42,
      "outputs": [
        {
          "output_type": "execute_result",
          "data": {
            "text/plain": [
              "array([ 6,  7,  8,  9,  1,  2, 10, 11, 12,  3, 13,  4,  3, 14, 16, 17, 18,\n",
              "       19, 20, 21, 22, 23,  4,  2, 24, 25, 26, 27, 28,  1, 29],\n",
              "      dtype=int32)"
            ]
          },
          "metadata": {},
          "execution_count": 42
        }
      ]
    },
    {
      "cell_type": "code",
      "source": [
        "y = tf.keras.utils.to_categorical(y, num_classes=total_words)"
      ],
      "metadata": {
        "id": "Sp5PZ8oYcJ3O"
      },
      "id": "Sp5PZ8oYcJ3O",
      "execution_count": 43,
      "outputs": []
    },
    {
      "cell_type": "code",
      "source": [
        "model_textgen_lstm = Sequential()\n",
        "model_textgen_lstm.add(Embedding(total_words, 64, input_length=max_sequence_len-1))\n",
        "model_textgen_lstm.add(LSTM(100))\n",
        "model_textgen_lstm.add(Dense(total_words, activation='softmax'))"
      ],
      "metadata": {
        "id": "AKhZmmpccRFC"
      },
      "id": "AKhZmmpccRFC",
      "execution_count": 44,
      "outputs": []
    },
    {
      "cell_type": "code",
      "source": [
        "model_textgen_lstm.compile(optimizer='adam', loss='categorical_crossentropy', metrics=['accuracy'])"
      ],
      "metadata": {
        "id": "t2gRvhyLcasy"
      },
      "id": "t2gRvhyLcasy",
      "execution_count": 45,
      "outputs": []
    },
    {
      "cell_type": "code",
      "source": [
        "model_textgen_lstm.fit(X, y, epochs=100, verbose=1)"
      ],
      "metadata": {
        "colab": {
          "base_uri": "https://localhost:8080/"
        },
        "id": "43o4QnmocdIv",
        "outputId": "e1d6bf29-3fdb-402a-e6ec-eda069930056"
      },
      "id": "43o4QnmocdIv",
      "execution_count": 46,
      "outputs": [
        {
          "output_type": "stream",
          "name": "stdout",
          "text": [
            "Epoch 1/100\n",
            "1/1 [==============================] - 2s 2s/step - loss: 3.4003 - accuracy: 0.0323\n",
            "Epoch 2/100\n",
            "1/1 [==============================] - 0s 17ms/step - loss: 3.3951 - accuracy: 0.0968\n",
            "Epoch 3/100\n",
            "1/1 [==============================] - 0s 16ms/step - loss: 3.3900 - accuracy: 0.1290\n",
            "Epoch 4/100\n",
            "1/1 [==============================] - 0s 15ms/step - loss: 3.3846 - accuracy: 0.1290\n",
            "Epoch 5/100\n",
            "1/1 [==============================] - 0s 15ms/step - loss: 3.3789 - accuracy: 0.1935\n",
            "Epoch 6/100\n",
            "1/1 [==============================] - 0s 15ms/step - loss: 3.3728 - accuracy: 0.2258\n",
            "Epoch 7/100\n",
            "1/1 [==============================] - 0s 13ms/step - loss: 3.3660 - accuracy: 0.1935\n",
            "Epoch 8/100\n",
            "1/1 [==============================] - 0s 14ms/step - loss: 3.3584 - accuracy: 0.1935\n",
            "Epoch 9/100\n",
            "1/1 [==============================] - 0s 15ms/step - loss: 3.3496 - accuracy: 0.1613\n",
            "Epoch 10/100\n",
            "1/1 [==============================] - 0s 14ms/step - loss: 3.3394 - accuracy: 0.1935\n",
            "Epoch 11/100\n",
            "1/1 [==============================] - 0s 14ms/step - loss: 3.3271 - accuracy: 0.1935\n",
            "Epoch 12/100\n",
            "1/1 [==============================] - 0s 13ms/step - loss: 3.3123 - accuracy: 0.1613\n",
            "Epoch 13/100\n",
            "1/1 [==============================] - 0s 13ms/step - loss: 3.2942 - accuracy: 0.1613\n",
            "Epoch 14/100\n",
            "1/1 [==============================] - 0s 14ms/step - loss: 3.2723 - accuracy: 0.1613\n",
            "Epoch 15/100\n",
            "1/1 [==============================] - 0s 13ms/step - loss: 3.2469 - accuracy: 0.1613\n",
            "Epoch 16/100\n",
            "1/1 [==============================] - 0s 14ms/step - loss: 3.2210 - accuracy: 0.1290\n",
            "Epoch 17/100\n",
            "1/1 [==============================] - 0s 14ms/step - loss: 3.1999 - accuracy: 0.0645\n",
            "Epoch 18/100\n",
            "1/1 [==============================] - 0s 16ms/step - loss: 3.1800 - accuracy: 0.0645\n",
            "Epoch 19/100\n",
            "1/1 [==============================] - 0s 13ms/step - loss: 3.1503 - accuracy: 0.1290\n",
            "Epoch 20/100\n",
            "1/1 [==============================] - 0s 15ms/step - loss: 3.1122 - accuracy: 0.1290\n",
            "Epoch 21/100\n",
            "1/1 [==============================] - 0s 15ms/step - loss: 3.0759 - accuracy: 0.1613\n",
            "Epoch 22/100\n",
            "1/1 [==============================] - 0s 15ms/step - loss: 3.0465 - accuracy: 0.1290\n",
            "Epoch 23/100\n",
            "1/1 [==============================] - 0s 15ms/step - loss: 3.0155 - accuracy: 0.0968\n",
            "Epoch 24/100\n",
            "1/1 [==============================] - 0s 15ms/step - loss: 2.9712 - accuracy: 0.1290\n",
            "Epoch 25/100\n",
            "1/1 [==============================] - 0s 15ms/step - loss: 2.9187 - accuracy: 0.0968\n",
            "Epoch 26/100\n",
            "1/1 [==============================] - 0s 15ms/step - loss: 2.8827 - accuracy: 0.1613\n",
            "Epoch 27/100\n",
            "1/1 [==============================] - 0s 15ms/step - loss: 2.8423 - accuracy: 0.1613\n",
            "Epoch 28/100\n",
            "1/1 [==============================] - 0s 14ms/step - loss: 2.7828 - accuracy: 0.1935\n",
            "Epoch 29/100\n",
            "1/1 [==============================] - 0s 16ms/step - loss: 2.7484 - accuracy: 0.1613\n",
            "Epoch 30/100\n",
            "1/1 [==============================] - 0s 13ms/step - loss: 2.6977 - accuracy: 0.1613\n",
            "Epoch 31/100\n",
            "1/1 [==============================] - 0s 14ms/step - loss: 2.6660 - accuracy: 0.2258\n",
            "Epoch 32/100\n",
            "1/1 [==============================] - 0s 15ms/step - loss: 2.6178 - accuracy: 0.2258\n",
            "Epoch 33/100\n",
            "1/1 [==============================] - 0s 15ms/step - loss: 2.5910 - accuracy: 0.2258\n",
            "Epoch 34/100\n",
            "1/1 [==============================] - 0s 14ms/step - loss: 2.5340 - accuracy: 0.1935\n",
            "Epoch 35/100\n",
            "1/1 [==============================] - 0s 15ms/step - loss: 2.5136 - accuracy: 0.2581\n",
            "Epoch 36/100\n",
            "1/1 [==============================] - 0s 15ms/step - loss: 2.4666 - accuracy: 0.2581\n",
            "Epoch 37/100\n",
            "1/1 [==============================] - 0s 14ms/step - loss: 2.4204 - accuracy: 0.2903\n",
            "Epoch 38/100\n",
            "1/1 [==============================] - 0s 15ms/step - loss: 2.3983 - accuracy: 0.2903\n",
            "Epoch 39/100\n",
            "1/1 [==============================] - 0s 15ms/step - loss: 2.3556 - accuracy: 0.3548\n",
            "Epoch 40/100\n",
            "1/1 [==============================] - 0s 14ms/step - loss: 2.3050 - accuracy: 0.4194\n",
            "Epoch 41/100\n",
            "1/1 [==============================] - 0s 14ms/step - loss: 2.2709 - accuracy: 0.3871\n",
            "Epoch 42/100\n",
            "1/1 [==============================] - 0s 15ms/step - loss: 2.2528 - accuracy: 0.3548\n",
            "Epoch 43/100\n",
            "1/1 [==============================] - 0s 14ms/step - loss: 2.2304 - accuracy: 0.4516\n",
            "Epoch 44/100\n",
            "1/1 [==============================] - 0s 16ms/step - loss: 2.1665 - accuracy: 0.4516\n",
            "Epoch 45/100\n",
            "1/1 [==============================] - 0s 17ms/step - loss: 2.1266 - accuracy: 0.4839\n",
            "Epoch 46/100\n",
            "1/1 [==============================] - 0s 15ms/step - loss: 2.1166 - accuracy: 0.4516\n",
            "Epoch 47/100\n",
            "1/1 [==============================] - 0s 14ms/step - loss: 2.0798 - accuracy: 0.3871\n",
            "Epoch 48/100\n",
            "1/1 [==============================] - 0s 15ms/step - loss: 2.0263 - accuracy: 0.5161\n",
            "Epoch 49/100\n",
            "1/1 [==============================] - 0s 16ms/step - loss: 1.9873 - accuracy: 0.5484\n",
            "Epoch 50/100\n",
            "1/1 [==============================] - 0s 16ms/step - loss: 1.9648 - accuracy: 0.6129\n",
            "Epoch 51/100\n",
            "1/1 [==============================] - 0s 16ms/step - loss: 1.9572 - accuracy: 0.5161\n",
            "Epoch 52/100\n",
            "1/1 [==============================] - 0s 15ms/step - loss: 1.9010 - accuracy: 0.5484\n",
            "Epoch 53/100\n",
            "1/1 [==============================] - 0s 15ms/step - loss: 1.8598 - accuracy: 0.6129\n",
            "Epoch 54/100\n",
            "1/1 [==============================] - 0s 15ms/step - loss: 1.8460 - accuracy: 0.6129\n",
            "Epoch 55/100\n",
            "1/1 [==============================] - 0s 15ms/step - loss: 1.8197 - accuracy: 0.4839\n",
            "Epoch 56/100\n",
            "1/1 [==============================] - 0s 14ms/step - loss: 1.7994 - accuracy: 0.6129\n",
            "Epoch 57/100\n",
            "1/1 [==============================] - 0s 15ms/step - loss: 1.7422 - accuracy: 0.5806\n",
            "Epoch 58/100\n",
            "1/1 [==============================] - 0s 13ms/step - loss: 1.7299 - accuracy: 0.6129\n",
            "Epoch 59/100\n",
            "1/1 [==============================] - 0s 13ms/step - loss: 1.7321 - accuracy: 0.5161\n",
            "Epoch 60/100\n",
            "1/1 [==============================] - 0s 15ms/step - loss: 1.6776 - accuracy: 0.5484\n",
            "Epoch 61/100\n",
            "1/1 [==============================] - 0s 15ms/step - loss: 1.6377 - accuracy: 0.6452\n",
            "Epoch 62/100\n",
            "1/1 [==============================] - 0s 15ms/step - loss: 1.6346 - accuracy: 0.6452\n",
            "Epoch 63/100\n",
            "1/1 [==============================] - 0s 14ms/step - loss: 1.6108 - accuracy: 0.6452\n",
            "Epoch 64/100\n",
            "1/1 [==============================] - 0s 15ms/step - loss: 1.5914 - accuracy: 0.6774\n",
            "Epoch 65/100\n",
            "1/1 [==============================] - 0s 14ms/step - loss: 1.5448 - accuracy: 0.6129\n",
            "Epoch 66/100\n",
            "1/1 [==============================] - 0s 15ms/step - loss: 1.5305 - accuracy: 0.7742\n",
            "Epoch 67/100\n",
            "1/1 [==============================] - 0s 14ms/step - loss: 1.5323 - accuracy: 0.6452\n",
            "Epoch 68/100\n",
            "1/1 [==============================] - 0s 13ms/step - loss: 1.5031 - accuracy: 0.6774\n",
            "Epoch 69/100\n",
            "1/1 [==============================] - 0s 15ms/step - loss: 1.4678 - accuracy: 0.7419\n",
            "Epoch 70/100\n",
            "1/1 [==============================] - 0s 15ms/step - loss: 1.4403 - accuracy: 0.8065\n",
            "Epoch 71/100\n",
            "1/1 [==============================] - 0s 14ms/step - loss: 1.4301 - accuracy: 0.8065\n",
            "Epoch 72/100\n",
            "1/1 [==============================] - 0s 15ms/step - loss: 1.4334 - accuracy: 0.7419\n",
            "Epoch 73/100\n",
            "1/1 [==============================] - 0s 15ms/step - loss: 1.3974 - accuracy: 0.7097\n",
            "Epoch 74/100\n",
            "1/1 [==============================] - 0s 14ms/step - loss: 1.3676 - accuracy: 0.8065\n",
            "Epoch 75/100\n",
            "1/1 [==============================] - 0s 16ms/step - loss: 1.3482 - accuracy: 0.8065\n",
            "Epoch 76/100\n",
            "1/1 [==============================] - 0s 16ms/step - loss: 1.3395 - accuracy: 0.7419\n",
            "Epoch 77/100\n",
            "1/1 [==============================] - 0s 15ms/step - loss: 1.3357 - accuracy: 0.7742\n",
            "Epoch 78/100\n",
            "1/1 [==============================] - 0s 15ms/step - loss: 1.3078 - accuracy: 0.8065\n",
            "Epoch 79/100\n",
            "1/1 [==============================] - 0s 13ms/step - loss: 1.2845 - accuracy: 0.8710\n",
            "Epoch 80/100\n",
            "1/1 [==============================] - 0s 14ms/step - loss: 1.2616 - accuracy: 0.8387\n",
            "Epoch 81/100\n",
            "1/1 [==============================] - 0s 15ms/step - loss: 1.2454 - accuracy: 0.8710\n",
            "Epoch 82/100\n",
            "1/1 [==============================] - 0s 15ms/step - loss: 1.2358 - accuracy: 0.8710\n",
            "Epoch 83/100\n",
            "1/1 [==============================] - 0s 14ms/step - loss: 1.2275 - accuracy: 0.8065\n",
            "Epoch 84/100\n",
            "1/1 [==============================] - 0s 14ms/step - loss: 1.2345 - accuracy: 0.8387\n",
            "Epoch 85/100\n",
            "1/1 [==============================] - 0s 15ms/step - loss: 1.2110 - accuracy: 0.7419\n",
            "Epoch 86/100\n",
            "1/1 [==============================] - 0s 14ms/step - loss: 1.2025 - accuracy: 0.8387\n",
            "Epoch 87/100\n",
            "1/1 [==============================] - 0s 15ms/step - loss: 1.1643 - accuracy: 0.8387\n",
            "Epoch 88/100\n",
            "1/1 [==============================] - 0s 15ms/step - loss: 1.1435 - accuracy: 0.8710\n",
            "Epoch 89/100\n",
            "1/1 [==============================] - 0s 15ms/step - loss: 1.1329 - accuracy: 0.8387\n",
            "Epoch 90/100\n",
            "1/1 [==============================] - 0s 15ms/step - loss: 1.1302 - accuracy: 0.8387\n",
            "Epoch 91/100\n",
            "1/1 [==============================] - 0s 15ms/step - loss: 1.1320 - accuracy: 0.8387\n",
            "Epoch 92/100\n",
            "1/1 [==============================] - 0s 15ms/step - loss: 1.1050 - accuracy: 0.7742\n",
            "Epoch 93/100\n",
            "1/1 [==============================] - 0s 14ms/step - loss: 1.0813 - accuracy: 0.9032\n",
            "Epoch 94/100\n",
            "1/1 [==============================] - 0s 15ms/step - loss: 1.0653 - accuracy: 0.9032\n",
            "Epoch 95/100\n",
            "1/1 [==============================] - 0s 15ms/step - loss: 1.0576 - accuracy: 0.8710\n",
            "Epoch 96/100\n",
            "1/1 [==============================] - 0s 15ms/step - loss: 1.0552 - accuracy: 0.9032\n",
            "Epoch 97/100\n",
            "1/1 [==============================] - 0s 14ms/step - loss: 1.0399 - accuracy: 0.8710\n",
            "Epoch 98/100\n",
            "1/1 [==============================] - 0s 15ms/step - loss: 1.0257 - accuracy: 0.9032\n",
            "Epoch 99/100\n",
            "1/1 [==============================] - 0s 14ms/step - loss: 1.0076 - accuracy: 0.9355\n",
            "Epoch 100/100\n",
            "1/1 [==============================] - 0s 14ms/step - loss: 0.9930 - accuracy: 0.9355\n"
          ]
        },
        {
          "output_type": "execute_result",
          "data": {
            "text/plain": [
              "<keras.src.callbacks.History at 0x788e9860f070>"
            ]
          },
          "metadata": {},
          "execution_count": 46
        }
      ]
    },
    {
      "cell_type": "code",
      "source": [
        "def generate_text(seed_text, next_words, max_sequence_len):\n",
        "   for _ in range(next_words):\n",
        "       token_list = tokenizer.texts_to_sequences([seed_text])[0]\n",
        "       token_list = pad_sequences([token_list], maxlen=max_sequence_len-1, padding='pre')\n",
        "       predicted = np.argmax(model_textgen_lstm.predict(token_list), axis=-1)\n",
        "       output_word = \"\"\n",
        "       for word, index in tokenizer.word_index.items():\n",
        "           if index == predicted:\n",
        "               output_word = word\n",
        "               break\n",
        "       seed_text += \" \" + output_word\n",
        "   return seed_text\n"
      ],
      "metadata": {
        "id": "YppMVR65cgH_"
      },
      "id": "YppMVR65cgH_",
      "execution_count": 47,
      "outputs": []
    },
    {
      "cell_type": "code",
      "source": [
        "print(generate_text(\"Lovely summer\", 3, max_sequence_len))"
      ],
      "metadata": {
        "colab": {
          "base_uri": "https://localhost:8080/"
        },
        "id": "2Y_JOixQc0qk",
        "outputId": "1bfd8987-7264-48a5-a762-c364195f0e97"
      },
      "id": "2Y_JOixQc0qk",
      "execution_count": 50,
      "outputs": [
        {
          "output_type": "stream",
          "name": "stdout",
          "text": [
            "1/1 [==============================] - 0s 25ms/step\n",
            "1/1 [==============================] - 0s 25ms/step\n",
            "1/1 [==============================] - 0s 25ms/step\n",
            "Lovely summer winds do shake\n"
          ]
        }
      ]
    },
    {
      "cell_type": "code",
      "source": [
        "# text generation using lstm and glove\n",
        "import numpy as np\n",
        "import tensorflow as tf\n",
        "from tensorflow.keras.models import Sequential\n",
        "from tensorflow.keras.layers import LSTM, Dense, Embedding\n",
        "from tensorflow.keras.preprocessing.text import Tokenizer\n",
        "from tensorflow.keras.preprocessing.sequence import pad_sequences"
      ],
      "metadata": {
        "id": "InS_xUgLeTU_"
      },
      "execution_count": 67,
      "outputs": [],
      "id": "InS_xUgLeTU_"
    },
    {
      "cell_type": "code",
      "source": [
        "text = \"\"\"Shall I compare thee to a summer's day? Thou art more lovely and more temperate.\n",
        "        Rough winds do shake the darling buds of May, And summer's lease hath all too short a date.\n",
        "        Sometime too hot the eye of heaven shines, And often is his gold complexion dimmed;\n",
        "        And every fair from fair sometime declines, By chance or nature's changing course untrimmed;\n",
        "        But thy eternal summer shall not fade, Nor lose possession of that fair thou ow'st;\n",
        "        Nor shall Death brag thou wander'st in his shade, When in eternal lines to time thou grow'st:\n",
        "        So long as men can breathe or eyes can see, So long lives this, and this gives life to thee.\"\"\""
      ],
      "metadata": {
        "id": "4dRhpL0MeTVA"
      },
      "execution_count": 68,
      "outputs": [],
      "id": "4dRhpL0MeTVA"
    },
    {
      "cell_type": "code",
      "source": [
        "tokenizer = Tokenizer()\n",
        "tokenizer.fit_on_texts([text])"
      ],
      "metadata": {
        "id": "nLPN-9m-eTVA"
      },
      "execution_count": 69,
      "outputs": [],
      "id": "nLPN-9m-eTVA"
    },
    {
      "cell_type": "code",
      "source": [
        "total_words = len(tokenizer.word_index) + 1"
      ],
      "metadata": {
        "id": "jIJIIHjaeTVB"
      },
      "execution_count": 70,
      "outputs": [],
      "id": "jIJIIHjaeTVB"
    },
    {
      "cell_type": "code",
      "source": [
        "total_words"
      ],
      "metadata": {
        "colab": {
          "base_uri": "https://localhost:8080/"
        },
        "outputId": "aa5ad570-ed05-48ff-a38e-cd3cccc97276",
        "id": "PdxOjJXAeTVB"
      },
      "execution_count": 71,
      "outputs": [
        {
          "output_type": "execute_result",
          "data": {
            "text/plain": [
              "84"
            ]
          },
          "metadata": {},
          "execution_count": 71
        }
      ],
      "id": "PdxOjJXAeTVB"
    },
    {
      "cell_type": "code",
      "source": [
        "input_sequences = []\n",
        "for line in text.split('.'):\n",
        "   token_list = tokenizer.texts_to_sequences([line])[0]\n",
        "   for i in range(1, len(token_list)):\n",
        "       n_gram_sequence = token_list[:i+1]\n",
        "       input_sequences.append(n_gram_sequence)"
      ],
      "metadata": {
        "id": "PHOO-BxpeTVC"
      },
      "execution_count": 72,
      "outputs": [],
      "id": "PHOO-BxpeTVC"
    },
    {
      "cell_type": "code",
      "source": [
        "max_sequence_len = max([len(x) for x in input_sequences])"
      ],
      "metadata": {
        "id": "BlBN85Blebp3"
      },
      "id": "BlBN85Blebp3",
      "execution_count": 73,
      "outputs": []
    },
    {
      "cell_type": "code",
      "source": [
        "input_sequences = np.array(pad_sequences(input_sequences, maxlen=max_sequence_len, padding='pre'))"
      ],
      "metadata": {
        "id": "1K5BReqEegzm"
      },
      "execution_count": 74,
      "outputs": [],
      "id": "1K5BReqEegzm"
    },
    {
      "cell_type": "code",
      "source": [
        "X, y = input_sequences[:, :-1], input_sequences[:, -1]"
      ],
      "metadata": {
        "id": "FmU0Jejuegzn"
      },
      "execution_count": 75,
      "outputs": [],
      "id": "FmU0Jejuegzn"
    },
    {
      "cell_type": "code",
      "source": [
        "y"
      ],
      "metadata": {
        "colab": {
          "base_uri": "https://localhost:8080/"
        },
        "outputId": "30ee3f54-10c4-4c08-9cba-4ae2415b8804",
        "id": "gCucVBktegzo"
      },
      "execution_count": 76,
      "outputs": [
        {
          "output_type": "execute_result",
          "data": {
            "text/plain": [
              "array([23, 24,  7,  4,  8,  9, 25,  2, 26, 10, 27,  1, 10, 28, 30, 31, 32,\n",
              "       11, 33, 34,  5, 35,  1,  9, 36, 37, 38, 12, 39,  8, 40, 12, 41, 11,\n",
              "       42,  5, 43, 44,  1, 45, 46, 14, 47, 48, 49,  1, 50,  6, 51,  6, 13,\n",
              "       52, 53, 54, 15, 55, 56, 57, 58, 59, 60, 16, 61,  3, 62, 63, 17, 64,\n",
              "       65,  5, 66,  6,  2, 67, 17,  3, 68, 69,  2, 70, 18, 14, 71, 72, 18,\n",
              "       16, 73,  4, 74,  2, 75, 19, 20, 76, 77, 21, 78, 15, 79, 21, 80, 19,\n",
              "       20, 81, 22,  1, 22, 82, 83,  4,  7], dtype=int32)"
            ]
          },
          "metadata": {},
          "execution_count": 76
        }
      ],
      "id": "gCucVBktegzo"
    },
    {
      "cell_type": "code",
      "source": [
        "y = tf.keras.utils.to_categorical(y, num_classes=total_words)"
      ],
      "metadata": {
        "id": "kNRAxbepegzp"
      },
      "execution_count": 77,
      "outputs": [],
      "id": "kNRAxbepegzp"
    },
    {
      "cell_type": "code",
      "source": [
        "embeddings_index = {}\n",
        "with open('glove.6B.100d.txt', encoding='utf-8') as f:\n",
        "    for line in f:\n",
        "        values = line.split()\n",
        "        word = values[0]\n",
        "        coefs = np.asarray(values[1:], dtype='float32')\n",
        "        embeddings_index[word] = coefs\n",
        "\n",
        "embedding_dim = 100\n",
        "embedding_matrix = np.zeros((total_words, embedding_dim))\n",
        "for word, i in tokenizer.word_index.items():\n",
        "    embedding_vector = embeddings_index.get(word)\n",
        "    if embedding_vector is not None:\n",
        "        embedding_matrix[i] = embedding_vector\n"
      ],
      "metadata": {
        "id": "Xax81hy7evPi"
      },
      "id": "Xax81hy7evPi",
      "execution_count": 78,
      "outputs": []
    },
    {
      "cell_type": "code",
      "source": [
        "from tensorflow.keras.layers import Dropout"
      ],
      "metadata": {
        "id": "cDVqcuwuhYMT"
      },
      "id": "cDVqcuwuhYMT",
      "execution_count": 88,
      "outputs": []
    },
    {
      "cell_type": "code",
      "source": [
        "model_textgen_lstm = Sequential()\n",
        "model_textgen_lstm.add(Embedding(total_words, 100, weights=[embedding_matrix], trainable=False, input_length=max_sequence_len-1))\n",
        "model_textgen_lstm.add(LSTM(100, return_sequences=True))\n",
        "model_textgen_lstm.add(Dropout(0.2))\n",
        "model_textgen_lstm.add(LSTM(50))\n",
        "model_textgen_lstm.add(Dense(total_words, activation='softmax'))"
      ],
      "metadata": {
        "id": "0hAUSVzbezpH"
      },
      "id": "0hAUSVzbezpH",
      "execution_count": 89,
      "outputs": []
    },
    {
      "cell_type": "code",
      "source": [
        "model_textgen_lstm.compile(optimizer='adam', loss='categorical_crossentropy', metrics=['accuracy'])"
      ],
      "metadata": {
        "id": "FyrH180te8Xz"
      },
      "id": "FyrH180te8Xz",
      "execution_count": 90,
      "outputs": []
    },
    {
      "cell_type": "code",
      "source": [
        "model_textgen_lstm.fit(X, y, epochs=100, verbose=1)"
      ],
      "metadata": {
        "colab": {
          "base_uri": "https://localhost:8080/"
        },
        "id": "_zRB48hXfNwJ",
        "outputId": "9009e337-2935-4239-8ac9-f841c7cc3f89"
      },
      "id": "_zRB48hXfNwJ",
      "execution_count": 91,
      "outputs": [
        {
          "output_type": "stream",
          "name": "stdout",
          "text": [
            "Epoch 1/100\n",
            "4/4 [==============================] - 3s 68ms/step - loss: 4.4362 - accuracy: 0.0180\n",
            "Epoch 2/100\n",
            "4/4 [==============================] - 0s 65ms/step - loss: 4.3806 - accuracy: 0.0450\n",
            "Epoch 3/100\n",
            "4/4 [==============================] - 0s 69ms/step - loss: 4.3464 - accuracy: 0.0450\n",
            "Epoch 4/100\n",
            "4/4 [==============================] - 0s 65ms/step - loss: 4.3139 - accuracy: 0.0450\n",
            "Epoch 5/100\n",
            "4/4 [==============================] - 0s 66ms/step - loss: 4.2767 - accuracy: 0.0450\n",
            "Epoch 6/100\n",
            "4/4 [==============================] - 0s 66ms/step - loss: 4.2267 - accuracy: 0.0811\n",
            "Epoch 7/100\n",
            "4/4 [==============================] - 0s 70ms/step - loss: 4.1677 - accuracy: 0.0721\n",
            "Epoch 8/100\n",
            "4/4 [==============================] - 0s 64ms/step - loss: 4.0969 - accuracy: 0.0631\n",
            "Epoch 9/100\n",
            "4/4 [==============================] - 0s 64ms/step - loss: 4.0091 - accuracy: 0.0901\n",
            "Epoch 10/100\n",
            "4/4 [==============================] - 0s 68ms/step - loss: 3.9287 - accuracy: 0.0901\n",
            "Epoch 11/100\n",
            "4/4 [==============================] - 0s 68ms/step - loss: 3.8587 - accuracy: 0.1081\n",
            "Epoch 12/100\n",
            "4/4 [==============================] - 0s 66ms/step - loss: 3.7463 - accuracy: 0.0901\n",
            "Epoch 13/100\n",
            "4/4 [==============================] - 0s 65ms/step - loss: 3.6840 - accuracy: 0.1081\n",
            "Epoch 14/100\n",
            "4/4 [==============================] - 0s 67ms/step - loss: 3.5979 - accuracy: 0.1351\n",
            "Epoch 15/100\n",
            "4/4 [==============================] - 0s 74ms/step - loss: 3.5222 - accuracy: 0.1532\n",
            "Epoch 16/100\n",
            "4/4 [==============================] - 0s 69ms/step - loss: 3.4360 - accuracy: 0.1712\n",
            "Epoch 17/100\n",
            "4/4 [==============================] - 0s 70ms/step - loss: 3.3328 - accuracy: 0.1351\n",
            "Epoch 18/100\n",
            "4/4 [==============================] - 0s 71ms/step - loss: 3.2908 - accuracy: 0.1802\n",
            "Epoch 19/100\n",
            "4/4 [==============================] - 0s 73ms/step - loss: 3.2124 - accuracy: 0.2072\n",
            "Epoch 20/100\n",
            "4/4 [==============================] - 0s 70ms/step - loss: 3.1336 - accuracy: 0.1622\n",
            "Epoch 21/100\n",
            "4/4 [==============================] - 0s 70ms/step - loss: 3.0619 - accuracy: 0.1982\n",
            "Epoch 22/100\n",
            "4/4 [==============================] - 0s 70ms/step - loss: 3.0062 - accuracy: 0.2162\n",
            "Epoch 23/100\n",
            "4/4 [==============================] - 0s 67ms/step - loss: 2.9156 - accuracy: 0.2613\n",
            "Epoch 24/100\n",
            "4/4 [==============================] - 0s 68ms/step - loss: 2.8712 - accuracy: 0.2523\n",
            "Epoch 25/100\n",
            "4/4 [==============================] - 0s 62ms/step - loss: 2.8373 - accuracy: 0.2432\n",
            "Epoch 26/100\n",
            "4/4 [==============================] - 0s 60ms/step - loss: 2.7707 - accuracy: 0.2432\n",
            "Epoch 27/100\n",
            "4/4 [==============================] - 0s 62ms/step - loss: 2.7034 - accuracy: 0.2703\n",
            "Epoch 28/100\n",
            "4/4 [==============================] - 0s 66ms/step - loss: 2.6569 - accuracy: 0.2703\n",
            "Epoch 29/100\n",
            "4/4 [==============================] - 0s 66ms/step - loss: 2.6257 - accuracy: 0.2793\n",
            "Epoch 30/100\n",
            "4/4 [==============================] - 0s 65ms/step - loss: 2.5891 - accuracy: 0.2973\n",
            "Epoch 31/100\n",
            "4/4 [==============================] - 0s 63ms/step - loss: 2.5279 - accuracy: 0.3153\n",
            "Epoch 32/100\n",
            "4/4 [==============================] - 0s 62ms/step - loss: 2.5168 - accuracy: 0.2973\n",
            "Epoch 33/100\n",
            "4/4 [==============================] - 0s 62ms/step - loss: 2.4616 - accuracy: 0.3243\n",
            "Epoch 34/100\n",
            "4/4 [==============================] - 0s 66ms/step - loss: 2.4176 - accuracy: 0.3333\n",
            "Epoch 35/100\n",
            "4/4 [==============================] - 0s 64ms/step - loss: 2.4126 - accuracy: 0.2973\n",
            "Epoch 36/100\n",
            "4/4 [==============================] - 0s 61ms/step - loss: 2.3618 - accuracy: 0.3423\n",
            "Epoch 37/100\n",
            "4/4 [==============================] - 0s 62ms/step - loss: 2.3428 - accuracy: 0.3514\n",
            "Epoch 38/100\n",
            "4/4 [==============================] - 0s 64ms/step - loss: 2.2901 - accuracy: 0.3423\n",
            "Epoch 39/100\n",
            "4/4 [==============================] - 0s 64ms/step - loss: 2.2694 - accuracy: 0.3063\n",
            "Epoch 40/100\n",
            "4/4 [==============================] - 0s 64ms/step - loss: 2.2415 - accuracy: 0.3243\n",
            "Epoch 41/100\n",
            "4/4 [==============================] - 0s 65ms/step - loss: 2.2075 - accuracy: 0.3694\n",
            "Epoch 42/100\n",
            "4/4 [==============================] - 0s 67ms/step - loss: 2.1877 - accuracy: 0.3423\n",
            "Epoch 43/100\n",
            "4/4 [==============================] - 0s 64ms/step - loss: 2.1779 - accuracy: 0.3784\n",
            "Epoch 44/100\n",
            "4/4 [==============================] - 0s 65ms/step - loss: 2.1527 - accuracy: 0.3604\n",
            "Epoch 45/100\n",
            "4/4 [==============================] - 0s 62ms/step - loss: 2.1074 - accuracy: 0.4054\n",
            "Epoch 46/100\n",
            "4/4 [==============================] - 0s 63ms/step - loss: 2.1083 - accuracy: 0.3874\n",
            "Epoch 47/100\n",
            "4/4 [==============================] - 0s 63ms/step - loss: 2.0671 - accuracy: 0.3964\n",
            "Epoch 48/100\n",
            "4/4 [==============================] - 0s 67ms/step - loss: 2.0519 - accuracy: 0.4234\n",
            "Epoch 49/100\n",
            "4/4 [==============================] - 0s 68ms/step - loss: 2.0163 - accuracy: 0.4234\n",
            "Epoch 50/100\n",
            "4/4 [==============================] - 0s 64ms/step - loss: 1.9942 - accuracy: 0.4144\n",
            "Epoch 51/100\n",
            "4/4 [==============================] - 0s 65ms/step - loss: 1.9856 - accuracy: 0.3964\n",
            "Epoch 52/100\n",
            "4/4 [==============================] - 0s 66ms/step - loss: 1.9650 - accuracy: 0.4054\n",
            "Epoch 53/100\n",
            "4/4 [==============================] - 0s 68ms/step - loss: 1.9357 - accuracy: 0.4505\n",
            "Epoch 54/100\n",
            "4/4 [==============================] - 0s 64ms/step - loss: 1.9290 - accuracy: 0.4685\n",
            "Epoch 55/100\n",
            "4/4 [==============================] - 0s 63ms/step - loss: 1.9034 - accuracy: 0.4685\n",
            "Epoch 56/100\n",
            "4/4 [==============================] - 0s 64ms/step - loss: 1.8813 - accuracy: 0.4775\n",
            "Epoch 57/100\n",
            "4/4 [==============================] - 0s 66ms/step - loss: 1.8672 - accuracy: 0.4685\n",
            "Epoch 58/100\n",
            "4/4 [==============================] - 0s 64ms/step - loss: 1.8538 - accuracy: 0.5045\n",
            "Epoch 59/100\n",
            "4/4 [==============================] - 0s 66ms/step - loss: 1.8544 - accuracy: 0.4775\n",
            "Epoch 60/100\n",
            "4/4 [==============================] - 0s 70ms/step - loss: 1.8089 - accuracy: 0.5405\n",
            "Epoch 61/100\n",
            "4/4 [==============================] - 0s 70ms/step - loss: 1.8073 - accuracy: 0.4955\n",
            "Epoch 62/100\n",
            "4/4 [==============================] - 0s 73ms/step - loss: 1.8001 - accuracy: 0.5405\n",
            "Epoch 63/100\n",
            "4/4 [==============================] - 0s 70ms/step - loss: 1.7794 - accuracy: 0.5135\n",
            "Epoch 64/100\n",
            "4/4 [==============================] - 0s 71ms/step - loss: 1.7600 - accuracy: 0.4955\n",
            "Epoch 65/100\n",
            "4/4 [==============================] - 0s 70ms/step - loss: 1.7562 - accuracy: 0.5225\n",
            "Epoch 66/100\n",
            "4/4 [==============================] - 0s 69ms/step - loss: 1.7425 - accuracy: 0.5405\n",
            "Epoch 67/100\n",
            "4/4 [==============================] - 0s 67ms/step - loss: 1.7310 - accuracy: 0.5586\n",
            "Epoch 68/100\n",
            "4/4 [==============================] - 0s 66ms/step - loss: 1.7155 - accuracy: 0.5856\n",
            "Epoch 69/100\n",
            "4/4 [==============================] - 0s 66ms/step - loss: 1.7005 - accuracy: 0.5315\n",
            "Epoch 70/100\n",
            "4/4 [==============================] - 0s 64ms/step - loss: 1.7085 - accuracy: 0.5405\n",
            "Epoch 71/100\n",
            "4/4 [==============================] - 0s 60ms/step - loss: 1.6648 - accuracy: 0.5856\n",
            "Epoch 72/100\n",
            "4/4 [==============================] - 0s 61ms/step - loss: 1.6602 - accuracy: 0.5405\n",
            "Epoch 73/100\n",
            "4/4 [==============================] - 0s 69ms/step - loss: 1.6299 - accuracy: 0.5856\n",
            "Epoch 74/100\n",
            "4/4 [==============================] - 0s 67ms/step - loss: 1.6501 - accuracy: 0.5676\n",
            "Epoch 75/100\n",
            "4/4 [==============================] - 0s 64ms/step - loss: 1.6109 - accuracy: 0.6486\n",
            "Epoch 76/100\n",
            "4/4 [==============================] - 0s 67ms/step - loss: 1.6143 - accuracy: 0.5495\n",
            "Epoch 77/100\n",
            "4/4 [==============================] - 0s 68ms/step - loss: 1.5884 - accuracy: 0.6126\n",
            "Epoch 78/100\n",
            "4/4 [==============================] - 0s 69ms/step - loss: 1.5988 - accuracy: 0.5766\n",
            "Epoch 79/100\n",
            "4/4 [==============================] - 0s 68ms/step - loss: 1.5758 - accuracy: 0.6036\n",
            "Epoch 80/100\n",
            "4/4 [==============================] - 0s 68ms/step - loss: 1.5747 - accuracy: 0.6216\n",
            "Epoch 81/100\n",
            "4/4 [==============================] - 0s 64ms/step - loss: 1.5584 - accuracy: 0.6126\n",
            "Epoch 82/100\n",
            "4/4 [==============================] - 0s 66ms/step - loss: 1.5290 - accuracy: 0.6306\n",
            "Epoch 83/100\n",
            "4/4 [==============================] - 0s 63ms/step - loss: 1.5473 - accuracy: 0.5676\n",
            "Epoch 84/100\n",
            "4/4 [==============================] - 0s 67ms/step - loss: 1.5278 - accuracy: 0.6396\n",
            "Epoch 85/100\n",
            "4/4 [==============================] - 0s 68ms/step - loss: 1.5148 - accuracy: 0.5946\n",
            "Epoch 86/100\n",
            "4/4 [==============================] - 0s 70ms/step - loss: 1.5082 - accuracy: 0.6577\n",
            "Epoch 87/100\n",
            "4/4 [==============================] - 0s 68ms/step - loss: 1.4957 - accuracy: 0.6847\n",
            "Epoch 88/100\n",
            "4/4 [==============================] - 0s 68ms/step - loss: 1.4808 - accuracy: 0.6847\n",
            "Epoch 89/100\n",
            "4/4 [==============================] - 0s 66ms/step - loss: 1.4800 - accuracy: 0.6306\n",
            "Epoch 90/100\n",
            "4/4 [==============================] - 0s 67ms/step - loss: 1.4677 - accuracy: 0.6667\n",
            "Epoch 91/100\n",
            "4/4 [==============================] - 0s 66ms/step - loss: 1.4636 - accuracy: 0.6667\n",
            "Epoch 92/100\n",
            "4/4 [==============================] - 0s 67ms/step - loss: 1.4343 - accuracy: 0.6667\n",
            "Epoch 93/100\n",
            "4/4 [==============================] - 0s 66ms/step - loss: 1.4238 - accuracy: 0.6757\n",
            "Epoch 94/100\n",
            "4/4 [==============================] - 0s 65ms/step - loss: 1.4343 - accuracy: 0.6847\n",
            "Epoch 95/100\n",
            "4/4 [==============================] - 0s 71ms/step - loss: 1.4210 - accuracy: 0.6847\n",
            "Epoch 96/100\n",
            "4/4 [==============================] - 0s 67ms/step - loss: 1.4118 - accuracy: 0.6757\n",
            "Epoch 97/100\n",
            "4/4 [==============================] - 0s 65ms/step - loss: 1.3995 - accuracy: 0.6937\n",
            "Epoch 98/100\n",
            "4/4 [==============================] - 0s 63ms/step - loss: 1.3874 - accuracy: 0.6937\n",
            "Epoch 99/100\n",
            "4/4 [==============================] - 0s 67ms/step - loss: 1.4016 - accuracy: 0.6667\n",
            "Epoch 100/100\n",
            "4/4 [==============================] - 0s 68ms/step - loss: 1.4025 - accuracy: 0.6847\n"
          ]
        },
        {
          "output_type": "execute_result",
          "data": {
            "text/plain": [
              "<keras.src.callbacks.History at 0x788d580e78b0>"
            ]
          },
          "metadata": {},
          "execution_count": 91
        }
      ]
    },
    {
      "cell_type": "code",
      "source": [
        "print(generate_text(\"Death brag\", 4, max_sequence_len))"
      ],
      "metadata": {
        "colab": {
          "base_uri": "https://localhost:8080/"
        },
        "id": "ui-8zhntfOZr",
        "outputId": "f10cc627-73f1-4b6a-9835-dc0db95673ef"
      },
      "id": "ui-8zhntfOZr",
      "execution_count": 93,
      "outputs": [
        {
          "output_type": "stream",
          "name": "stdout",
          "text": [
            "1/1 [==============================] - 0s 33ms/step\n",
            "1/1 [==============================] - 0s 31ms/step\n",
            "1/1 [==============================] - 0s 33ms/step\n",
            "1/1 [==============================] - 0s 31ms/step\n",
            "Death brag i compare to to\n"
          ]
        }
      ]
    },
    {
      "cell_type": "code",
      "source": [
        "print(text)"
      ],
      "metadata": {
        "colab": {
          "base_uri": "https://localhost:8080/"
        },
        "id": "PKcxVnB7fZqa",
        "outputId": "8cc0231e-dbe9-4a81-8305-d1533a24b8d7"
      },
      "id": "PKcxVnB7fZqa",
      "execution_count": 84,
      "outputs": [
        {
          "output_type": "stream",
          "name": "stdout",
          "text": [
            "Shall I compare thee to a summer's day? Thou art more lovely and more temperate.\n",
            "        Rough winds do shake the darling buds of May, And summer's lease hath all too short a date.\n",
            "        Sometime too hot the eye of heaven shines, And often is his gold complexion dimmed;\n",
            "        And every fair from fair sometime declines, By chance or nature's changing course untrimmed;\n",
            "        But thy eternal summer shall not fade, Nor lose possession of that fair thou ow'st;\n",
            "        Nor shall Death brag thou wander'st in his shade, When in eternal lines to time thou grow'st:\n",
            "        So long as men can breathe or eyes can see, So long lives this, and this gives life to thee.\n"
          ]
        }
      ]
    },
    {
      "cell_type": "code",
      "source": [
        "Death brag too hot the eye of heaven shines and often is\n",
        "\n"
      ],
      "metadata": {
        "id": "1pfrbruIgynf"
      },
      "id": "1pfrbruIgynf",
      "execution_count": null,
      "outputs": []
    },
    {
      "cell_type": "code",
      "source": [
        "import numpy as np\n",
        "import pandas as pd\n",
        "from sklearn.preprocessing import MinMaxScaler\n",
        "import tensorflow as tf\n",
        "import matplotlib.pyplot as plt\n",
        "from tensorflow.keras.models import Sequential\n",
        "from tensorflow.keras.layers import GRU, Dense"
      ],
      "metadata": {
        "id": "oYatqdkfmI_2"
      },
      "id": "oYatqdkfmI_2",
      "execution_count": 1,
      "outputs": []
    },
    {
      "cell_type": "code",
      "source": [
        "url = 'https://raw.githubusercontent.com/jbrownlee/Datasets/master/airline-passengers.csv'\n",
        "data = pd.read_csv(url, usecols=[1])\n",
        "data = data.values.astype('float32')"
      ],
      "metadata": {
        "id": "ab7RFq_VmNhv"
      },
      "id": "ab7RFq_VmNhv",
      "execution_count": 2,
      "outputs": []
    },
    {
      "cell_type": "code",
      "source": [
        "data"
      ],
      "metadata": {
        "colab": {
          "base_uri": "https://localhost:8080/"
        },
        "id": "F9dibGZZmUKR",
        "outputId": "d0c4e557-f245-47f4-ea47-46db03d5e44c"
      },
      "id": "F9dibGZZmUKR",
      "execution_count": 4,
      "outputs": [
        {
          "output_type": "execute_result",
          "data": {
            "text/plain": [
              "array([[112.],\n",
              "       [118.],\n",
              "       [132.],\n",
              "       [129.],\n",
              "       [121.],\n",
              "       [135.],\n",
              "       [148.],\n",
              "       [148.],\n",
              "       [136.],\n",
              "       [119.],\n",
              "       [104.],\n",
              "       [118.],\n",
              "       [115.],\n",
              "       [126.],\n",
              "       [141.],\n",
              "       [135.],\n",
              "       [125.],\n",
              "       [149.],\n",
              "       [170.],\n",
              "       [170.],\n",
              "       [158.],\n",
              "       [133.],\n",
              "       [114.],\n",
              "       [140.],\n",
              "       [145.],\n",
              "       [150.],\n",
              "       [178.],\n",
              "       [163.],\n",
              "       [172.],\n",
              "       [178.],\n",
              "       [199.],\n",
              "       [199.],\n",
              "       [184.],\n",
              "       [162.],\n",
              "       [146.],\n",
              "       [166.],\n",
              "       [171.],\n",
              "       [180.],\n",
              "       [193.],\n",
              "       [181.],\n",
              "       [183.],\n",
              "       [218.],\n",
              "       [230.],\n",
              "       [242.],\n",
              "       [209.],\n",
              "       [191.],\n",
              "       [172.],\n",
              "       [194.],\n",
              "       [196.],\n",
              "       [196.],\n",
              "       [236.],\n",
              "       [235.],\n",
              "       [229.],\n",
              "       [243.],\n",
              "       [264.],\n",
              "       [272.],\n",
              "       [237.],\n",
              "       [211.],\n",
              "       [180.],\n",
              "       [201.],\n",
              "       [204.],\n",
              "       [188.],\n",
              "       [235.],\n",
              "       [227.],\n",
              "       [234.],\n",
              "       [264.],\n",
              "       [302.],\n",
              "       [293.],\n",
              "       [259.],\n",
              "       [229.],\n",
              "       [203.],\n",
              "       [229.],\n",
              "       [242.],\n",
              "       [233.],\n",
              "       [267.],\n",
              "       [269.],\n",
              "       [270.],\n",
              "       [315.],\n",
              "       [364.],\n",
              "       [347.],\n",
              "       [312.],\n",
              "       [274.],\n",
              "       [237.],\n",
              "       [278.],\n",
              "       [284.],\n",
              "       [277.],\n",
              "       [317.],\n",
              "       [313.],\n",
              "       [318.],\n",
              "       [374.],\n",
              "       [413.],\n",
              "       [405.],\n",
              "       [355.],\n",
              "       [306.],\n",
              "       [271.],\n",
              "       [306.],\n",
              "       [315.],\n",
              "       [301.],\n",
              "       [356.],\n",
              "       [348.],\n",
              "       [355.],\n",
              "       [422.],\n",
              "       [465.],\n",
              "       [467.],\n",
              "       [404.],\n",
              "       [347.],\n",
              "       [305.],\n",
              "       [336.],\n",
              "       [340.],\n",
              "       [318.],\n",
              "       [362.],\n",
              "       [348.],\n",
              "       [363.],\n",
              "       [435.],\n",
              "       [491.],\n",
              "       [505.],\n",
              "       [404.],\n",
              "       [359.],\n",
              "       [310.],\n",
              "       [337.],\n",
              "       [360.],\n",
              "       [342.],\n",
              "       [406.],\n",
              "       [396.],\n",
              "       [420.],\n",
              "       [472.],\n",
              "       [548.],\n",
              "       [559.],\n",
              "       [463.],\n",
              "       [407.],\n",
              "       [362.],\n",
              "       [405.],\n",
              "       [417.],\n",
              "       [391.],\n",
              "       [419.],\n",
              "       [461.],\n",
              "       [472.],\n",
              "       [535.],\n",
              "       [622.],\n",
              "       [606.],\n",
              "       [508.],\n",
              "       [461.],\n",
              "       [390.],\n",
              "       [432.]], dtype=float32)"
            ]
          },
          "metadata": {},
          "execution_count": 4
        }
      ]
    },
    {
      "cell_type": "code",
      "source": [
        "scaler = MinMaxScaler(feature_range=(0, 1))\n",
        "data = scaler.fit_transform(data)"
      ],
      "metadata": {
        "id": "FpQ14IdamV05"
      },
      "id": "FpQ14IdamV05",
      "execution_count": 5,
      "outputs": []
    },
    {
      "cell_type": "code",
      "source": [
        "def create_dataset(data, look_back=1):\n",
        "   X, y = [], []\n",
        "   for i in range(len(data)-look_back-1):\n",
        "       a = data[i:(i+look_back), 0]\n",
        "       X.append(a)\n",
        "       y.append(data[i + look_back, 0])\n",
        "   return np.array(X), np.array(y)\n",
        "\n",
        "\n",
        "look_back = 10\n",
        "X, y = create_dataset(data, look_back)"
      ],
      "metadata": {
        "id": "SdgLvFiJmnu_"
      },
      "id": "SdgLvFiJmnu_",
      "execution_count": 6,
      "outputs": []
    },
    {
      "cell_type": "code",
      "source": [
        "len(X), len(y)"
      ],
      "metadata": {
        "colab": {
          "base_uri": "https://localhost:8080/"
        },
        "id": "PuYVey1nmtVv",
        "outputId": "dcd5c63b-cc39-4d33-df16-22bf3062029a"
      },
      "id": "PuYVey1nmtVv",
      "execution_count": 8,
      "outputs": [
        {
          "output_type": "execute_result",
          "data": {
            "text/plain": [
              "(133, 133)"
            ]
          },
          "metadata": {},
          "execution_count": 8
        }
      ]
    },
    {
      "cell_type": "code",
      "source": [
        "len(data)"
      ],
      "metadata": {
        "colab": {
          "base_uri": "https://localhost:8080/"
        },
        "id": "aSIVNrTsmuZC",
        "outputId": "f9fd07f6-61e6-4030-a557-1bc6c90be358"
      },
      "id": "aSIVNrTsmuZC",
      "execution_count": 9,
      "outputs": [
        {
          "output_type": "execute_result",
          "data": {
            "text/plain": [
              "144"
            ]
          },
          "metadata": {},
          "execution_count": 9
        }
      ]
    },
    {
      "cell_type": "code",
      "source": [
        "# Reshape input to be [samples, time steps, features]\n",
        "X = np.reshape(X, (X.shape[0], X.shape[1], 1))"
      ],
      "metadata": {
        "id": "_Bc-_LhCm42a"
      },
      "id": "_Bc-_LhCm42a",
      "execution_count": 10,
      "outputs": []
    },
    {
      "cell_type": "code",
      "source": [
        "X.shape"
      ],
      "metadata": {
        "colab": {
          "base_uri": "https://localhost:8080/"
        },
        "id": "PB2BBsvinPyT",
        "outputId": "5de54d97-4452-436b-d2bf-e2d817271526"
      },
      "id": "PB2BBsvinPyT",
      "execution_count": 11,
      "outputs": [
        {
          "output_type": "execute_result",
          "data": {
            "text/plain": [
              "(133, 10, 1)"
            ]
          },
          "metadata": {},
          "execution_count": 11
        }
      ]
    },
    {
      "cell_type": "code",
      "source": [
        "model_gru_ts = Sequential()\n",
        "model_gru_ts.add(GRU(50, return_sequences=True, input_shape=(look_back, 1)))\n",
        "model_gru_ts.add(GRU(50))\n",
        "model_gru_ts.add(Dense(1))"
      ],
      "metadata": {
        "colab": {
          "base_uri": "https://localhost:8080/"
        },
        "id": "fRx0CGDLnRfH",
        "outputId": "91104fe5-4b2d-445a-ee19-e3131fefccb1"
      },
      "id": "fRx0CGDLnRfH",
      "execution_count": 12,
      "outputs": [
        {
          "output_type": "stream",
          "name": "stderr",
          "text": [
            "/usr/local/lib/python3.10/dist-packages/keras/src/layers/rnn/rnn.py:204: UserWarning: Do not pass an `input_shape`/`input_dim` argument to a layer. When using Sequential models, prefer using an `Input(shape)` object as the first layer in the model instead.\n",
            "  super().__init__(**kwargs)\n"
          ]
        }
      ]
    },
    {
      "cell_type": "code",
      "source": [
        "model_gru_ts.compile(optimizer='adam', loss='mean_squared_error')"
      ],
      "metadata": {
        "id": "7-eEoR_nnaa6"
      },
      "id": "7-eEoR_nnaa6",
      "execution_count": 13,
      "outputs": []
    },
    {
      "cell_type": "code",
      "source": [
        "model_gru_ts.summary()"
      ],
      "metadata": {
        "colab": {
          "base_uri": "https://localhost:8080/",
          "height": 225
        },
        "id": "gAAs9SzYndVD",
        "outputId": "6f6f7def-6ed1-4b7d-8e1f-610c5fa03e38"
      },
      "id": "gAAs9SzYndVD",
      "execution_count": 15,
      "outputs": [
        {
          "output_type": "display_data",
          "data": {
            "text/plain": [
              "\u001b[1mModel: \"sequential\"\u001b[0m\n"
            ],
            "text/html": [
              "<pre style=\"white-space:pre;overflow-x:auto;line-height:normal;font-family:Menlo,'DejaVu Sans Mono',consolas,'Courier New',monospace\"><span style=\"font-weight: bold\">Model: \"sequential\"</span>\n",
              "</pre>\n"
            ]
          },
          "metadata": {}
        },
        {
          "output_type": "display_data",
          "data": {
            "text/plain": [
              "┏━━━━━━━━━━━━━━━━━━━━━━━━━━━━━━━━━━━━━━┳━━━━━━━━━━━━━━━━━━━━━━━━━━━━━┳━━━━━━━━━━━━━━━━━┓\n",
              "┃\u001b[1m \u001b[0m\u001b[1mLayer (type)                        \u001b[0m\u001b[1m \u001b[0m┃\u001b[1m \u001b[0m\u001b[1mOutput Shape               \u001b[0m\u001b[1m \u001b[0m┃\u001b[1m \u001b[0m\u001b[1m        Param #\u001b[0m\u001b[1m \u001b[0m┃\n",
              "┡━━━━━━━━━━━━━━━━━━━━━━━━━━━━━━━━━━━━━━╇━━━━━━━━━━━━━━━━━━━━━━━━━━━━━╇━━━━━━━━━━━━━━━━━┩\n",
              "│ gru (\u001b[38;5;33mGRU\u001b[0m)                            │ (\u001b[38;5;45mNone\u001b[0m, \u001b[38;5;34m10\u001b[0m, \u001b[38;5;34m50\u001b[0m)              │           \u001b[38;5;34m7,950\u001b[0m │\n",
              "├──────────────────────────────────────┼─────────────────────────────┼─────────────────┤\n",
              "│ gru_1 (\u001b[38;5;33mGRU\u001b[0m)                          │ (\u001b[38;5;45mNone\u001b[0m, \u001b[38;5;34m50\u001b[0m)                  │          \u001b[38;5;34m15,300\u001b[0m │\n",
              "├──────────────────────────────────────┼─────────────────────────────┼─────────────────┤\n",
              "│ dense (\u001b[38;5;33mDense\u001b[0m)                        │ (\u001b[38;5;45mNone\u001b[0m, \u001b[38;5;34m1\u001b[0m)                   │              \u001b[38;5;34m51\u001b[0m │\n",
              "└──────────────────────────────────────┴─────────────────────────────┴─────────────────┘\n"
            ],
            "text/html": [
              "<pre style=\"white-space:pre;overflow-x:auto;line-height:normal;font-family:Menlo,'DejaVu Sans Mono',consolas,'Courier New',monospace\">┏━━━━━━━━━━━━━━━━━━━━━━━━━━━━━━━━━━━━━━┳━━━━━━━━━━━━━━━━━━━━━━━━━━━━━┳━━━━━━━━━━━━━━━━━┓\n",
              "┃<span style=\"font-weight: bold\"> Layer (type)                         </span>┃<span style=\"font-weight: bold\"> Output Shape                </span>┃<span style=\"font-weight: bold\">         Param # </span>┃\n",
              "┡━━━━━━━━━━━━━━━━━━━━━━━━━━━━━━━━━━━━━━╇━━━━━━━━━━━━━━━━━━━━━━━━━━━━━╇━━━━━━━━━━━━━━━━━┩\n",
              "│ gru (<span style=\"color: #0087ff; text-decoration-color: #0087ff\">GRU</span>)                            │ (<span style=\"color: #00d7ff; text-decoration-color: #00d7ff\">None</span>, <span style=\"color: #00af00; text-decoration-color: #00af00\">10</span>, <span style=\"color: #00af00; text-decoration-color: #00af00\">50</span>)              │           <span style=\"color: #00af00; text-decoration-color: #00af00\">7,950</span> │\n",
              "├──────────────────────────────────────┼─────────────────────────────┼─────────────────┤\n",
              "│ gru_1 (<span style=\"color: #0087ff; text-decoration-color: #0087ff\">GRU</span>)                          │ (<span style=\"color: #00d7ff; text-decoration-color: #00d7ff\">None</span>, <span style=\"color: #00af00; text-decoration-color: #00af00\">50</span>)                  │          <span style=\"color: #00af00; text-decoration-color: #00af00\">15,300</span> │\n",
              "├──────────────────────────────────────┼─────────────────────────────┼─────────────────┤\n",
              "│ dense (<span style=\"color: #0087ff; text-decoration-color: #0087ff\">Dense</span>)                        │ (<span style=\"color: #00d7ff; text-decoration-color: #00d7ff\">None</span>, <span style=\"color: #00af00; text-decoration-color: #00af00\">1</span>)                   │              <span style=\"color: #00af00; text-decoration-color: #00af00\">51</span> │\n",
              "└──────────────────────────────────────┴─────────────────────────────┴─────────────────┘\n",
              "</pre>\n"
            ]
          },
          "metadata": {}
        },
        {
          "output_type": "display_data",
          "data": {
            "text/plain": [
              "\u001b[1m Total params: \u001b[0m\u001b[38;5;34m23,301\u001b[0m (91.02 KB)\n"
            ],
            "text/html": [
              "<pre style=\"white-space:pre;overflow-x:auto;line-height:normal;font-family:Menlo,'DejaVu Sans Mono',consolas,'Courier New',monospace\"><span style=\"font-weight: bold\"> Total params: </span><span style=\"color: #00af00; text-decoration-color: #00af00\">23,301</span> (91.02 KB)\n",
              "</pre>\n"
            ]
          },
          "metadata": {}
        },
        {
          "output_type": "display_data",
          "data": {
            "text/plain": [
              "\u001b[1m Trainable params: \u001b[0m\u001b[38;5;34m23,301\u001b[0m (91.02 KB)\n"
            ],
            "text/html": [
              "<pre style=\"white-space:pre;overflow-x:auto;line-height:normal;font-family:Menlo,'DejaVu Sans Mono',consolas,'Courier New',monospace\"><span style=\"font-weight: bold\"> Trainable params: </span><span style=\"color: #00af00; text-decoration-color: #00af00\">23,301</span> (91.02 KB)\n",
              "</pre>\n"
            ]
          },
          "metadata": {}
        },
        {
          "output_type": "display_data",
          "data": {
            "text/plain": [
              "\u001b[1m Non-trainable params: \u001b[0m\u001b[38;5;34m0\u001b[0m (0.00 B)\n"
            ],
            "text/html": [
              "<pre style=\"white-space:pre;overflow-x:auto;line-height:normal;font-family:Menlo,'DejaVu Sans Mono',consolas,'Courier New',monospace\"><span style=\"font-weight: bold\"> Non-trainable params: </span><span style=\"color: #00af00; text-decoration-color: #00af00\">0</span> (0.00 B)\n",
              "</pre>\n"
            ]
          },
          "metadata": {}
        }
      ]
    },
    {
      "cell_type": "code",
      "source": [
        "model_gru_ts.fit(X, y, epochs=100, batch_size=32, verbose=1)"
      ],
      "metadata": {
        "colab": {
          "base_uri": "https://localhost:8080/"
        },
        "id": "rvNlF9gInfIB",
        "outputId": "a81b7d4b-4d72-4008-c1a9-95b6ea6fb7e6"
      },
      "id": "rvNlF9gInfIB",
      "execution_count": 16,
      "outputs": [
        {
          "output_type": "stream",
          "name": "stdout",
          "text": [
            "Epoch 1/100\n",
            "\u001b[1m5/5\u001b[0m \u001b[32m━━━━━━━━━━━━━━━━━━━━\u001b[0m\u001b[37m\u001b[0m \u001b[1m8s\u001b[0m 13ms/step - loss: 0.1330\n",
            "Epoch 2/100\n",
            "\u001b[1m5/5\u001b[0m \u001b[32m━━━━━━━━━━━━━━━━━━━━\u001b[0m\u001b[37m\u001b[0m \u001b[1m0s\u001b[0m 11ms/step - loss: 0.0182\n",
            "Epoch 3/100\n",
            "\u001b[1m5/5\u001b[0m \u001b[32m━━━━━━━━━━━━━━━━━━━━\u001b[0m\u001b[37m\u001b[0m \u001b[1m0s\u001b[0m 12ms/step - loss: 0.0298\n",
            "Epoch 4/100\n",
            "\u001b[1m5/5\u001b[0m \u001b[32m━━━━━━━━━━━━━━━━━━━━\u001b[0m\u001b[37m\u001b[0m \u001b[1m0s\u001b[0m 11ms/step - loss: 0.0143\n",
            "Epoch 5/100\n",
            "\u001b[1m5/5\u001b[0m \u001b[32m━━━━━━━━━━━━━━━━━━━━\u001b[0m\u001b[37m\u001b[0m \u001b[1m0s\u001b[0m 12ms/step - loss: 0.0161\n",
            "Epoch 6/100\n",
            "\u001b[1m5/5\u001b[0m \u001b[32m━━━━━━━━━━━━━━━━━━━━\u001b[0m\u001b[37m\u001b[0m \u001b[1m0s\u001b[0m 12ms/step - loss: 0.0159\n",
            "Epoch 7/100\n",
            "\u001b[1m5/5\u001b[0m \u001b[32m━━━━━━━━━━━━━━━━━━━━\u001b[0m\u001b[37m\u001b[0m \u001b[1m0s\u001b[0m 12ms/step - loss: 0.0111\n",
            "Epoch 8/100\n",
            "\u001b[1m5/5\u001b[0m \u001b[32m━━━━━━━━━━━━━━━━━━━━\u001b[0m\u001b[37m\u001b[0m \u001b[1m0s\u001b[0m 17ms/step - loss: 0.0139\n",
            "Epoch 9/100\n",
            "\u001b[1m5/5\u001b[0m \u001b[32m━━━━━━━━━━━━━━━━━━━━\u001b[0m\u001b[37m\u001b[0m \u001b[1m0s\u001b[0m 11ms/step - loss: 0.0111\n",
            "Epoch 10/100\n",
            "\u001b[1m5/5\u001b[0m \u001b[32m━━━━━━━━━━━━━━━━━━━━\u001b[0m\u001b[37m\u001b[0m \u001b[1m0s\u001b[0m 12ms/step - loss: 0.0112\n",
            "Epoch 11/100\n",
            "\u001b[1m5/5\u001b[0m \u001b[32m━━━━━━━━━━━━━━━━━━━━\u001b[0m\u001b[37m\u001b[0m \u001b[1m0s\u001b[0m 12ms/step - loss: 0.0123\n",
            "Epoch 12/100\n",
            "\u001b[1m5/5\u001b[0m \u001b[32m━━━━━━━━━━━━━━━━━━━━\u001b[0m\u001b[37m\u001b[0m \u001b[1m0s\u001b[0m 16ms/step - loss: 0.0091\n",
            "Epoch 13/100\n",
            "\u001b[1m5/5\u001b[0m \u001b[32m━━━━━━━━━━━━━━━━━━━━\u001b[0m\u001b[37m\u001b[0m \u001b[1m0s\u001b[0m 15ms/step - loss: 0.0106\n",
            "Epoch 14/100\n",
            "\u001b[1m5/5\u001b[0m \u001b[32m━━━━━━━━━━━━━━━━━━━━\u001b[0m\u001b[37m\u001b[0m \u001b[1m0s\u001b[0m 14ms/step - loss: 0.0099\n",
            "Epoch 15/100\n",
            "\u001b[1m5/5\u001b[0m \u001b[32m━━━━━━━━━━━━━━━━━━━━\u001b[0m\u001b[37m\u001b[0m \u001b[1m0s\u001b[0m 14ms/step - loss: 0.0095\n",
            "Epoch 16/100\n",
            "\u001b[1m5/5\u001b[0m \u001b[32m━━━━━━━━━━━━━━━━━━━━\u001b[0m\u001b[37m\u001b[0m \u001b[1m0s\u001b[0m 13ms/step - loss: 0.0088\n",
            "Epoch 17/100\n",
            "\u001b[1m5/5\u001b[0m \u001b[32m━━━━━━━━━━━━━━━━━━━━\u001b[0m\u001b[37m\u001b[0m \u001b[1m0s\u001b[0m 18ms/step - loss: 0.0090\n",
            "Epoch 18/100\n",
            "\u001b[1m5/5\u001b[0m \u001b[32m━━━━━━━━━━━━━━━━━━━━\u001b[0m\u001b[37m\u001b[0m \u001b[1m0s\u001b[0m 12ms/step - loss: 0.0085\n",
            "Epoch 19/100\n",
            "\u001b[1m5/5\u001b[0m \u001b[32m━━━━━━━━━━━━━━━━━━━━\u001b[0m\u001b[37m\u001b[0m \u001b[1m0s\u001b[0m 12ms/step - loss: 0.0098\n",
            "Epoch 20/100\n",
            "\u001b[1m5/5\u001b[0m \u001b[32m━━━━━━━━━━━━━━━━━━━━\u001b[0m\u001b[37m\u001b[0m \u001b[1m0s\u001b[0m 15ms/step - loss: 0.0094\n",
            "Epoch 21/100\n",
            "\u001b[1m5/5\u001b[0m \u001b[32m━━━━━━━━━━━━━━━━━━━━\u001b[0m\u001b[37m\u001b[0m \u001b[1m0s\u001b[0m 12ms/step - loss: 0.0103\n",
            "Epoch 22/100\n",
            "\u001b[1m5/5\u001b[0m \u001b[32m━━━━━━━━━━━━━━━━━━━━\u001b[0m\u001b[37m\u001b[0m \u001b[1m0s\u001b[0m 12ms/step - loss: 0.0084\n",
            "Epoch 23/100\n",
            "\u001b[1m5/5\u001b[0m \u001b[32m━━━━━━━━━━━━━━━━━━━━\u001b[0m\u001b[37m\u001b[0m \u001b[1m0s\u001b[0m 12ms/step - loss: 0.0080\n",
            "Epoch 24/100\n",
            "\u001b[1m5/5\u001b[0m \u001b[32m━━━━━━━━━━━━━━━━━━━━\u001b[0m\u001b[37m\u001b[0m \u001b[1m0s\u001b[0m 13ms/step - loss: 0.0091\n",
            "Epoch 25/100\n",
            "\u001b[1m5/5\u001b[0m \u001b[32m━━━━━━━━━━━━━━━━━━━━\u001b[0m\u001b[37m\u001b[0m \u001b[1m0s\u001b[0m 13ms/step - loss: 0.0087\n",
            "Epoch 26/100\n",
            "\u001b[1m5/5\u001b[0m \u001b[32m━━━━━━━━━━━━━━━━━━━━\u001b[0m\u001b[37m\u001b[0m \u001b[1m0s\u001b[0m 12ms/step - loss: 0.0079\n",
            "Epoch 27/100\n",
            "\u001b[1m5/5\u001b[0m \u001b[32m━━━━━━━━━━━━━━━━━━━━\u001b[0m\u001b[37m\u001b[0m \u001b[1m0s\u001b[0m 12ms/step - loss: 0.0085\n",
            "Epoch 28/100\n",
            "\u001b[1m5/5\u001b[0m \u001b[32m━━━━━━━━━━━━━━━━━━━━\u001b[0m\u001b[37m\u001b[0m \u001b[1m0s\u001b[0m 14ms/step - loss: 0.0089\n",
            "Epoch 29/100\n",
            "\u001b[1m5/5\u001b[0m \u001b[32m━━━━━━━━━━━━━━━━━━━━\u001b[0m\u001b[37m\u001b[0m \u001b[1m0s\u001b[0m 18ms/step - loss: 0.0076\n",
            "Epoch 30/100\n",
            "\u001b[1m5/5\u001b[0m \u001b[32m━━━━━━━━━━━━━━━━━━━━\u001b[0m\u001b[37m\u001b[0m \u001b[1m0s\u001b[0m 16ms/step - loss: 0.0075\n",
            "Epoch 31/100\n",
            "\u001b[1m5/5\u001b[0m \u001b[32m━━━━━━━━━━━━━━━━━━━━\u001b[0m\u001b[37m\u001b[0m \u001b[1m0s\u001b[0m 12ms/step - loss: 0.0073\n",
            "Epoch 32/100\n",
            "\u001b[1m5/5\u001b[0m \u001b[32m━━━━━━━━━━━━━━━━━━━━\u001b[0m\u001b[37m\u001b[0m \u001b[1m0s\u001b[0m 14ms/step - loss: 0.0086\n",
            "Epoch 33/100\n",
            "\u001b[1m5/5\u001b[0m \u001b[32m━━━━━━━━━━━━━━━━━━━━\u001b[0m\u001b[37m\u001b[0m \u001b[1m0s\u001b[0m 14ms/step - loss: 0.0068\n",
            "Epoch 34/100\n",
            "\u001b[1m5/5\u001b[0m \u001b[32m━━━━━━━━━━━━━━━━━━━━\u001b[0m\u001b[37m\u001b[0m \u001b[1m0s\u001b[0m 12ms/step - loss: 0.0081\n",
            "Epoch 35/100\n",
            "\u001b[1m5/5\u001b[0m \u001b[32m━━━━━━━━━━━━━━━━━━━━\u001b[0m\u001b[37m\u001b[0m \u001b[1m0s\u001b[0m 12ms/step - loss: 0.0076\n",
            "Epoch 36/100\n",
            "\u001b[1m5/5\u001b[0m \u001b[32m━━━━━━━━━━━━━━━━━━━━\u001b[0m\u001b[37m\u001b[0m \u001b[1m0s\u001b[0m 13ms/step - loss: 0.0069\n",
            "Epoch 37/100\n",
            "\u001b[1m5/5\u001b[0m \u001b[32m━━━━━━━━━━━━━━━━━━━━\u001b[0m\u001b[37m\u001b[0m \u001b[1m0s\u001b[0m 17ms/step - loss: 0.0079\n",
            "Epoch 38/100\n",
            "\u001b[1m5/5\u001b[0m \u001b[32m━━━━━━━━━━━━━━━━━━━━\u001b[0m\u001b[37m\u001b[0m \u001b[1m0s\u001b[0m 14ms/step - loss: 0.0065\n",
            "Epoch 39/100\n",
            "\u001b[1m5/5\u001b[0m \u001b[32m━━━━━━━━━━━━━━━━━━━━\u001b[0m\u001b[37m\u001b[0m \u001b[1m0s\u001b[0m 13ms/step - loss: 0.0060\n",
            "Epoch 40/100\n",
            "\u001b[1m5/5\u001b[0m \u001b[32m━━━━━━━━━━━━━━━━━━━━\u001b[0m\u001b[37m\u001b[0m \u001b[1m0s\u001b[0m 13ms/step - loss: 0.0070\n",
            "Epoch 41/100\n",
            "\u001b[1m5/5\u001b[0m \u001b[32m━━━━━━━━━━━━━━━━━━━━\u001b[0m\u001b[37m\u001b[0m \u001b[1m0s\u001b[0m 13ms/step - loss: 0.0057\n",
            "Epoch 42/100\n",
            "\u001b[1m5/5\u001b[0m \u001b[32m━━━━━━━━━━━━━━━━━━━━\u001b[0m\u001b[37m\u001b[0m \u001b[1m0s\u001b[0m 12ms/step - loss: 0.0055\n",
            "Epoch 43/100\n",
            "\u001b[1m5/5\u001b[0m \u001b[32m━━━━━━━━━━━━━━━━━━━━\u001b[0m\u001b[37m\u001b[0m \u001b[1m0s\u001b[0m 15ms/step - loss: 0.0061\n",
            "Epoch 44/100\n",
            "\u001b[1m5/5\u001b[0m \u001b[32m━━━━━━━━━━━━━━━━━━━━\u001b[0m\u001b[37m\u001b[0m \u001b[1m0s\u001b[0m 12ms/step - loss: 0.0049\n",
            "Epoch 45/100\n",
            "\u001b[1m5/5\u001b[0m \u001b[32m━━━━━━━━━━━━━━━━━━━━\u001b[0m\u001b[37m\u001b[0m \u001b[1m0s\u001b[0m 14ms/step - loss: 0.0065\n",
            "Epoch 46/100\n",
            "\u001b[1m5/5\u001b[0m \u001b[32m━━━━━━━━━━━━━━━━━━━━\u001b[0m\u001b[37m\u001b[0m \u001b[1m0s\u001b[0m 17ms/step - loss: 0.0056\n",
            "Epoch 47/100\n",
            "\u001b[1m5/5\u001b[0m \u001b[32m━━━━━━━━━━━━━━━━━━━━\u001b[0m\u001b[37m\u001b[0m \u001b[1m0s\u001b[0m 12ms/step - loss: 0.0054\n",
            "Epoch 48/100\n",
            "\u001b[1m5/5\u001b[0m \u001b[32m━━━━━━━━━━━━━━━━━━━━\u001b[0m\u001b[37m\u001b[0m \u001b[1m0s\u001b[0m 12ms/step - loss: 0.0054\n",
            "Epoch 49/100\n",
            "\u001b[1m5/5\u001b[0m \u001b[32m━━━━━━━━━━━━━━━━━━━━\u001b[0m\u001b[37m\u001b[0m \u001b[1m0s\u001b[0m 13ms/step - loss: 0.0048\n",
            "Epoch 50/100\n",
            "\u001b[1m5/5\u001b[0m \u001b[32m━━━━━━━━━━━━━━━━━━━━\u001b[0m\u001b[37m\u001b[0m \u001b[1m0s\u001b[0m 14ms/step - loss: 0.0049\n",
            "Epoch 51/100\n",
            "\u001b[1m5/5\u001b[0m \u001b[32m━━━━━━━━━━━━━━━━━━━━\u001b[0m\u001b[37m\u001b[0m \u001b[1m0s\u001b[0m 14ms/step - loss: 0.0042\n",
            "Epoch 52/100\n",
            "\u001b[1m5/5\u001b[0m \u001b[32m━━━━━━━━━━━━━━━━━━━━\u001b[0m\u001b[37m\u001b[0m \u001b[1m0s\u001b[0m 13ms/step - loss: 0.0044\n",
            "Epoch 53/100\n",
            "\u001b[1m5/5\u001b[0m \u001b[32m━━━━━━━━━━━━━━━━━━━━\u001b[0m\u001b[37m\u001b[0m \u001b[1m0s\u001b[0m 19ms/step - loss: 0.0042\n",
            "Epoch 54/100\n",
            "\u001b[1m5/5\u001b[0m \u001b[32m━━━━━━━━━━━━━━━━━━━━\u001b[0m\u001b[37m\u001b[0m \u001b[1m0s\u001b[0m 16ms/step - loss: 0.0039\n",
            "Epoch 55/100\n",
            "\u001b[1m5/5\u001b[0m \u001b[32m━━━━━━━━━━━━━━━━━━━━\u001b[0m\u001b[37m\u001b[0m \u001b[1m0s\u001b[0m 12ms/step - loss: 0.0039\n",
            "Epoch 56/100\n",
            "\u001b[1m5/5\u001b[0m \u001b[32m━━━━━━━━━━━━━━━━━━━━\u001b[0m\u001b[37m\u001b[0m \u001b[1m0s\u001b[0m 12ms/step - loss: 0.0042 \n",
            "Epoch 57/100\n",
            "\u001b[1m5/5\u001b[0m \u001b[32m━━━━━━━━━━━━━━━━━━━━\u001b[0m\u001b[37m\u001b[0m \u001b[1m0s\u001b[0m 13ms/step - loss: 0.0038\n",
            "Epoch 58/100\n",
            "\u001b[1m5/5\u001b[0m \u001b[32m━━━━━━━━━━━━━━━━━━━━\u001b[0m\u001b[37m\u001b[0m \u001b[1m0s\u001b[0m 21ms/step - loss: 0.0033\n",
            "Epoch 59/100\n",
            "\u001b[1m5/5\u001b[0m \u001b[32m━━━━━━━━━━━━━━━━━━━━\u001b[0m\u001b[37m\u001b[0m \u001b[1m0s\u001b[0m 20ms/step - loss: 0.0034\n",
            "Epoch 60/100\n",
            "\u001b[1m5/5\u001b[0m \u001b[32m━━━━━━━━━━━━━━━━━━━━\u001b[0m\u001b[37m\u001b[0m \u001b[1m0s\u001b[0m 22ms/step - loss: 0.0036\n",
            "Epoch 61/100\n",
            "\u001b[1m5/5\u001b[0m \u001b[32m━━━━━━━━━━━━━━━━━━━━\u001b[0m\u001b[37m\u001b[0m \u001b[1m0s\u001b[0m 24ms/step - loss: 0.0036\n",
            "Epoch 62/100\n",
            "\u001b[1m5/5\u001b[0m \u001b[32m━━━━━━━━━━━━━━━━━━━━\u001b[0m\u001b[37m\u001b[0m \u001b[1m0s\u001b[0m 19ms/step - loss: 0.0036\n",
            "Epoch 63/100\n",
            "\u001b[1m5/5\u001b[0m \u001b[32m━━━━━━━━━━━━━━━━━━━━\u001b[0m\u001b[37m\u001b[0m \u001b[1m0s\u001b[0m 19ms/step - loss: 0.0035\n",
            "Epoch 64/100\n",
            "\u001b[1m5/5\u001b[0m \u001b[32m━━━━━━━━━━━━━━━━━━━━\u001b[0m\u001b[37m\u001b[0m \u001b[1m0s\u001b[0m 23ms/step - loss: 0.0040\n",
            "Epoch 65/100\n",
            "\u001b[1m5/5\u001b[0m \u001b[32m━━━━━━━━━━━━━━━━━━━━\u001b[0m\u001b[37m\u001b[0m \u001b[1m0s\u001b[0m 21ms/step - loss: 0.0038\n",
            "Epoch 66/100\n",
            "\u001b[1m5/5\u001b[0m \u001b[32m━━━━━━━━━━━━━━━━━━━━\u001b[0m\u001b[37m\u001b[0m \u001b[1m0s\u001b[0m 23ms/step - loss: 0.0035\n",
            "Epoch 67/100\n",
            "\u001b[1m5/5\u001b[0m \u001b[32m━━━━━━━━━━━━━━━━━━━━\u001b[0m\u001b[37m\u001b[0m \u001b[1m0s\u001b[0m 32ms/step - loss: 0.0033\n",
            "Epoch 68/100\n",
            "\u001b[1m5/5\u001b[0m \u001b[32m━━━━━━━━━━━━━━━━━━━━\u001b[0m\u001b[37m\u001b[0m \u001b[1m0s\u001b[0m 23ms/step - loss: 0.0034\n",
            "Epoch 69/100\n",
            "\u001b[1m5/5\u001b[0m \u001b[32m━━━━━━━━━━━━━━━━━━━━\u001b[0m\u001b[37m\u001b[0m \u001b[1m0s\u001b[0m 15ms/step - loss: 0.0035\n",
            "Epoch 70/100\n",
            "\u001b[1m5/5\u001b[0m \u001b[32m━━━━━━━━━━━━━━━━━━━━\u001b[0m\u001b[37m\u001b[0m \u001b[1m0s\u001b[0m 23ms/step - loss: 0.0031\n",
            "Epoch 71/100\n",
            "\u001b[1m5/5\u001b[0m \u001b[32m━━━━━━━━━━━━━━━━━━━━\u001b[0m\u001b[37m\u001b[0m \u001b[1m0s\u001b[0m 24ms/step - loss: 0.0030\n",
            "Epoch 72/100\n",
            "\u001b[1m5/5\u001b[0m \u001b[32m━━━━━━━━━━━━━━━━━━━━\u001b[0m\u001b[37m\u001b[0m \u001b[1m0s\u001b[0m 24ms/step - loss: 0.0037\n",
            "Epoch 73/100\n",
            "\u001b[1m5/5\u001b[0m \u001b[32m━━━━━━━━━━━━━━━━━━━━\u001b[0m\u001b[37m\u001b[0m \u001b[1m0s\u001b[0m 23ms/step - loss: 0.0034\n",
            "Epoch 74/100\n",
            "\u001b[1m5/5\u001b[0m \u001b[32m━━━━━━━━━━━━━━━━━━━━\u001b[0m\u001b[37m\u001b[0m \u001b[1m0s\u001b[0m 24ms/step - loss: 0.0037\n",
            "Epoch 75/100\n",
            "\u001b[1m5/5\u001b[0m \u001b[32m━━━━━━━━━━━━━━━━━━━━\u001b[0m\u001b[37m\u001b[0m \u001b[1m0s\u001b[0m 22ms/step - loss: 0.0033\n",
            "Epoch 76/100\n",
            "\u001b[1m5/5\u001b[0m \u001b[32m━━━━━━━━━━━━━━━━━━━━\u001b[0m\u001b[37m\u001b[0m \u001b[1m0s\u001b[0m 22ms/step - loss: 0.0035\n",
            "Epoch 77/100\n",
            "\u001b[1m5/5\u001b[0m \u001b[32m━━━━━━━━━━━━━━━━━━━━\u001b[0m\u001b[37m\u001b[0m \u001b[1m0s\u001b[0m 28ms/step - loss: 0.0032\n",
            "Epoch 78/100\n",
            "\u001b[1m5/5\u001b[0m \u001b[32m━━━━━━━━━━━━━━━━━━━━\u001b[0m\u001b[37m\u001b[0m \u001b[1m0s\u001b[0m 25ms/step - loss: 0.0030\n",
            "Epoch 79/100\n",
            "\u001b[1m5/5\u001b[0m \u001b[32m━━━━━━━━━━━━━━━━━━━━\u001b[0m\u001b[37m\u001b[0m \u001b[1m0s\u001b[0m 24ms/step - loss: 0.0030\n",
            "Epoch 80/100\n",
            "\u001b[1m5/5\u001b[0m \u001b[32m━━━━━━━━━━━━━━━━━━━━\u001b[0m\u001b[37m\u001b[0m \u001b[1m0s\u001b[0m 21ms/step - loss: 0.0036\n",
            "Epoch 81/100\n",
            "\u001b[1m5/5\u001b[0m \u001b[32m━━━━━━━━━━━━━━━━━━━━\u001b[0m\u001b[37m\u001b[0m \u001b[1m0s\u001b[0m 25ms/step - loss: 0.0034\n",
            "Epoch 82/100\n",
            "\u001b[1m5/5\u001b[0m \u001b[32m━━━━━━━━━━━━━━━━━━━━\u001b[0m\u001b[37m\u001b[0m \u001b[1m0s\u001b[0m 22ms/step - loss: 0.0030\n",
            "Epoch 83/100\n",
            "\u001b[1m5/5\u001b[0m \u001b[32m━━━━━━━━━━━━━━━━━━━━\u001b[0m\u001b[37m\u001b[0m \u001b[1m0s\u001b[0m 25ms/step - loss: 0.0033\n",
            "Epoch 84/100\n",
            "\u001b[1m5/5\u001b[0m \u001b[32m━━━━━━━━━━━━━━━━━━━━\u001b[0m\u001b[37m\u001b[0m \u001b[1m0s\u001b[0m 22ms/step - loss: 0.0030\n",
            "Epoch 85/100\n",
            "\u001b[1m5/5\u001b[0m \u001b[32m━━━━━━━━━━━━━━━━━━━━\u001b[0m\u001b[37m\u001b[0m \u001b[1m0s\u001b[0m 21ms/step - loss: 0.0031\n",
            "Epoch 86/100\n",
            "\u001b[1m5/5\u001b[0m \u001b[32m━━━━━━━━━━━━━━━━━━━━\u001b[0m\u001b[37m\u001b[0m \u001b[1m0s\u001b[0m 36ms/step - loss: 0.0035\n",
            "Epoch 87/100\n",
            "\u001b[1m5/5\u001b[0m \u001b[32m━━━━━━━━━━━━━━━━━━━━\u001b[0m\u001b[37m\u001b[0m \u001b[1m0s\u001b[0m 40ms/step - loss: 0.0031\n",
            "Epoch 88/100\n",
            "\u001b[1m5/5\u001b[0m \u001b[32m━━━━━━━━━━━━━━━━━━━━\u001b[0m\u001b[37m\u001b[0m \u001b[1m0s\u001b[0m 26ms/step - loss: 0.0034\n",
            "Epoch 89/100\n",
            "\u001b[1m5/5\u001b[0m \u001b[32m━━━━━━━━━━━━━━━━━━━━\u001b[0m\u001b[37m\u001b[0m \u001b[1m0s\u001b[0m 12ms/step - loss: 0.0032 \n",
            "Epoch 90/100\n",
            "\u001b[1m5/5\u001b[0m \u001b[32m━━━━━━━━━━━━━━━━━━━━\u001b[0m\u001b[37m\u001b[0m \u001b[1m0s\u001b[0m 13ms/step - loss: 0.0032\n",
            "Epoch 91/100\n",
            "\u001b[1m5/5\u001b[0m \u001b[32m━━━━━━━━━━━━━━━━━━━━\u001b[0m\u001b[37m\u001b[0m \u001b[1m0s\u001b[0m 16ms/step - loss: 0.0033\n",
            "Epoch 92/100\n",
            "\u001b[1m5/5\u001b[0m \u001b[32m━━━━━━━━━━━━━━━━━━━━\u001b[0m\u001b[37m\u001b[0m \u001b[1m0s\u001b[0m 15ms/step - loss: 0.0033\n",
            "Epoch 93/100\n",
            "\u001b[1m5/5\u001b[0m \u001b[32m━━━━━━━━━━━━━━━━━━━━\u001b[0m\u001b[37m\u001b[0m \u001b[1m0s\u001b[0m 26ms/step - loss: 0.0035\n",
            "Epoch 94/100\n",
            "\u001b[1m5/5\u001b[0m \u001b[32m━━━━━━━━━━━━━━━━━━━━\u001b[0m\u001b[37m\u001b[0m \u001b[1m0s\u001b[0m 40ms/step - loss: 0.0030\n",
            "Epoch 95/100\n",
            "\u001b[1m5/5\u001b[0m \u001b[32m━━━━━━━━━━━━━━━━━━━━\u001b[0m\u001b[37m\u001b[0m \u001b[1m0s\u001b[0m 34ms/step - loss: 0.0035\n",
            "Epoch 96/100\n",
            "\u001b[1m5/5\u001b[0m \u001b[32m━━━━━━━━━━━━━━━━━━━━\u001b[0m\u001b[37m\u001b[0m \u001b[1m0s\u001b[0m 27ms/step - loss: 0.0035\n",
            "Epoch 97/100\n",
            "\u001b[1m5/5\u001b[0m \u001b[32m━━━━━━━━━━━━━━━━━━━━\u001b[0m\u001b[37m\u001b[0m \u001b[1m0s\u001b[0m 22ms/step - loss: 0.0032\n",
            "Epoch 98/100\n",
            "\u001b[1m5/5\u001b[0m \u001b[32m━━━━━━━━━━━━━━━━━━━━\u001b[0m\u001b[37m\u001b[0m \u001b[1m0s\u001b[0m 22ms/step - loss: 0.0035\n",
            "Epoch 99/100\n",
            "\u001b[1m5/5\u001b[0m \u001b[32m━━━━━━━━━━━━━━━━━━━━\u001b[0m\u001b[37m\u001b[0m \u001b[1m0s\u001b[0m 24ms/step - loss: 0.0028\n",
            "Epoch 100/100\n",
            "\u001b[1m5/5\u001b[0m \u001b[32m━━━━━━━━━━━━━━━━━━━━\u001b[0m\u001b[37m\u001b[0m \u001b[1m0s\u001b[0m 38ms/step - loss: 0.0031\n"
          ]
        },
        {
          "output_type": "execute_result",
          "data": {
            "text/plain": [
              "<keras.src.callbacks.history.History at 0x786ca7aaf310>"
            ]
          },
          "metadata": {},
          "execution_count": 16
        }
      ]
    },
    {
      "cell_type": "code",
      "source": [
        "predictions = model_gru_ts.predict(X)"
      ],
      "metadata": {
        "colab": {
          "base_uri": "https://localhost:8080/"
        },
        "id": "x3hlebn3nl7R",
        "outputId": "da646c8e-9aaa-4692-97ce-7e1f53ac88bf"
      },
      "id": "x3hlebn3nl7R",
      "execution_count": 17,
      "outputs": [
        {
          "output_type": "stream",
          "name": "stdout",
          "text": [
            "\u001b[1m5/5\u001b[0m \u001b[32m━━━━━━━━━━━━━━━━━━━━\u001b[0m\u001b[37m\u001b[0m \u001b[1m1s\u001b[0m 149ms/step\n"
          ]
        }
      ]
    },
    {
      "cell_type": "code",
      "source": [
        "predictions = scaler.inverse_transform(predictions)\n",
        "y_actual = scaler.inverse_transform([y])"
      ],
      "metadata": {
        "id": "Ec7CMuOSntWT"
      },
      "id": "Ec7CMuOSntWT",
      "execution_count": 18,
      "outputs": []
    },
    {
      "cell_type": "code",
      "source": [
        "plt.figure(figsize=(12,6))\n",
        "plt.plot(y_actual[0], label='Original Data')\n",
        "plt.plot(predictions, label='Predicted Data', color='r')\n",
        "plt.xlabel('Time')\n",
        "plt.ylabel('Number of Passengers')\n",
        "plt.title('Time-Series Forecasting using GRU')\n",
        "plt.legend()\n",
        "plt.show()"
      ],
      "metadata": {
        "colab": {
          "base_uri": "https://localhost:8080/",
          "height": 564
        },
        "id": "g7hMfRLInyaG",
        "outputId": "dcac381b-d5ff-4a2e-c1be-d6dddbb870c4"
      },
      "id": "g7hMfRLInyaG",
      "execution_count": 24,
      "outputs": [
        {
          "output_type": "display_data",
          "data": {
            "text/plain": [
              "<Figure size 1200x600 with 1 Axes>"
            ],
            "image/png": "[encoded data removed]"
          },
          "metadata": {}
        }
      ]
    },
    {
      "cell_type": "code",
      "source": [],
      "metadata": {
        "id": "AgyPSSyin3td"
      },
      "id": "AgyPSSyin3td",
      "execution_count": null,
      "outputs": []
    }
  ],
  "metadata": {
    "kernelspec": {
      "display_name": "Python 3",
      "name": "python3"
    },
    "language_info": {
      "codemirror_mode": {
        "name": "ipython",
        "version": 3
      },
      "file_extension": ".py",
      "mimetype": "text/x-python",
      "name": "python",
      "nbconvert_exporter": "python",
      "pygments_lexer": "ipython3",
      "version": "3.8.10"
    },
    "nbTranslate": {
      "displayLangs": [
        "*"
      ],
      "hotkey": "alt-t",
      "langInMainMenu": true,
      "sourceLang": "en",
      "targetLang": "fr",
      "useGoogleTranslate": true
    },
    "toc": {
      "base_numbering": 1,
      "nav_menu": {},
      "number_sections": true,
      "sideBar": true,
      "skip_h1_title": false,
      "title_cell": "Table of Contents",
      "title_sidebar": "Contents",
      "toc_cell": false,
      "toc_position": {
        "height": "calc(100% - 180px)",
        "left": "10px",
        "top": "150px",
        "width": "214.6px"
      },
      "toc_section_display": true,
      "toc_window_display": false
    },
    "varInspector": {
      "cols": {
        "lenName": 16,
        "lenType": 16,
        "lenVar": 40
      },
      "kernels_config": {
        "python": {
          "delete_cmd_postfix": "",
          "delete_cmd_prefix": "del ",
          "library": "var_list.py",
          "varRefreshCmd": "print(var_dic_list())"
        },
        "r": {
          "delete_cmd_postfix": ") ",
          "delete_cmd_prefix": "rm(",
          "library": "var_list.r",
          "varRefreshCmd": "cat(var_dic_list()) "
        }
      },
      "types_to_exclude": [
        "module",
        "function",
        "builtin_function_or_method",
        "instance",
        "_Feature"
      ],
      "window_display": false
    },
    "colab": {
      "provenance": [],
      "gpuType": "V28"
    },
    "accelerator": "TPU"
  },
  "nbformat": 4,
  "nbformat_minor": 5
}