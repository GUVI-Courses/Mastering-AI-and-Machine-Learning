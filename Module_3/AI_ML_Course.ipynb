{
 "cells": [
  {
   "cell_type": "markdown",
   "id": "7572fb73",
   "metadata": {},
   "source": [
    "### Variables"
   ]
  },
  {
   "cell_type": "code",
   "execution_count": null,
   "id": "55c570c6",
   "metadata": {},
   "outputs": [],
   "source": [
    "# possible variables\n",
    "name, name1, name_1, Name, \n",
    "\n",
    "# Non variables\n",
    "1name, 1.name, name.1 "
   ]
  },
  {
   "cell_type": "code",
   "execution_count": 3,
   "id": "df0cbcf1",
   "metadata": {},
   "outputs": [],
   "source": [
    "firstName = \"john\" # camel case\n",
    "last_name = \"Doe\" # snake case"
   ]
  },
  {
   "cell_type": "markdown",
   "id": "3ea4e57c",
   "metadata": {},
   "source": [
    "### Datatypes"
   ]
  },
  {
   "cell_type": "code",
   "execution_count": 4,
   "id": "a5d9922a",
   "metadata": {},
   "outputs": [],
   "source": [
    "number = 12\n",
    "decimal_number = 3.14\n",
    "string = \"apple\"\n",
    "boolean = True # False"
   ]
  },
  {
   "cell_type": "code",
   "execution_count": 7,
   "id": "22d8f068",
   "metadata": {},
   "outputs": [
    {
     "data": {
      "text/plain": [
       "(int, float, str, bool)"
      ]
     },
     "execution_count": 7,
     "metadata": {},
     "output_type": "execute_result"
    }
   ],
   "source": [
    "type(number), type(decimal_number), type(string), type(boolean)"
   ]
  },
  {
   "cell_type": "code",
   "execution_count": 8,
   "id": "a6eaaf2b",
   "metadata": {},
   "outputs": [
    {
     "data": {
      "text/plain": [
       "str"
      ]
     },
     "execution_count": 8,
     "metadata": {},
     "output_type": "execute_result"
    }
   ],
   "source": [
    "type(\"12345\")"
   ]
  },
  {
   "cell_type": "markdown",
   "id": "d6d3dfc6",
   "metadata": {},
   "source": [
    "### Typecast"
   ]
  },
  {
   "cell_type": "code",
   "execution_count": 11,
   "id": "3918a4a3",
   "metadata": {},
   "outputs": [
    {
     "data": {
      "text/plain": [
       "('12', str, int)"
      ]
     },
     "execution_count": 11,
     "metadata": {},
     "output_type": "execute_result"
    }
   ],
   "source": [
    "num = 12\n",
    "num2 = str(num)\n",
    "num2, type(num2), type(num)"
   ]
  },
  {
   "cell_type": "code",
   "execution_count": 13,
   "id": "0b160663",
   "metadata": {},
   "outputs": [
    {
     "data": {
      "text/plain": [
       "('12', 12, 12.0)"
      ]
     },
     "execution_count": 13,
     "metadata": {},
     "output_type": "execute_result"
    }
   ],
   "source": [
    "num2, int(num2), float(num2)"
   ]
  },
  {
   "cell_type": "code",
   "execution_count": 14,
   "id": "a74f204c",
   "metadata": {},
   "outputs": [
    {
     "ename": "ValueError",
     "evalue": "invalid literal for int() with base 10: 'apple'",
     "output_type": "error",
     "traceback": [
      "\u001b[0;31m---------------------------------------------------------------------------\u001b[0m",
      "\u001b[0;31mValueError\u001b[0m                                Traceback (most recent call last)",
      "Cell \u001b[0;32mIn[14], line 1\u001b[0m\n\u001b[0;32m----> 1\u001b[0m \u001b[38;5;28;43mint\u001b[39;49m\u001b[43m(\u001b[49m\u001b[43mstring\u001b[49m\u001b[43m)\u001b[49m\n",
      "\u001b[0;31mValueError\u001b[0m: invalid literal for int() with base 10: 'apple'"
     ]
    }
   ],
   "source": [
    "int(string)"
   ]
  },
  {
   "cell_type": "markdown",
   "id": "58ded02a",
   "metadata": {},
   "source": [
    "### Print function"
   ]
  },
  {
   "cell_type": "code",
   "execution_count": 15,
   "id": "d85e8f8b",
   "metadata": {},
   "outputs": [
    {
     "name": "stdout",
     "output_type": "stream",
     "text": [
      "hello world!!!\n"
     ]
    }
   ],
   "source": [
    "print(\"hello world!!!\")"
   ]
  },
  {
   "cell_type": "code",
   "execution_count": 16,
   "id": "74e18fff",
   "metadata": {},
   "outputs": [
    {
     "name": "stdout",
     "output_type": "stream",
     "text": [
      "apple\n"
     ]
    }
   ],
   "source": [
    "print(string)"
   ]
  },
  {
   "cell_type": "code",
   "execution_count": 17,
   "id": "56b54124",
   "metadata": {},
   "outputs": [
    {
     "ename": "NameError",
     "evalue": "name 'strings' is not defined",
     "output_type": "error",
     "traceback": [
      "\u001b[0;31m---------------------------------------------------------------------------\u001b[0m",
      "\u001b[0;31mNameError\u001b[0m                                 Traceback (most recent call last)",
      "Cell \u001b[0;32mIn[17], line 1\u001b[0m\n\u001b[0;32m----> 1\u001b[0m \u001b[38;5;28mprint\u001b[39m(\u001b[43mstrings\u001b[49m)\n",
      "\u001b[0;31mNameError\u001b[0m: name 'strings' is not defined"
     ]
    }
   ],
   "source": [
    "print(strings)"
   ]
  },
  {
   "cell_type": "code",
   "execution_count": 18,
   "id": "d5d76f36",
   "metadata": {},
   "outputs": [
    {
     "name": "stdout",
     "output_type": "stream",
     "text": [
      "12345\n"
     ]
    }
   ],
   "source": [
    "print(12345)"
   ]
  },
  {
   "cell_type": "code",
   "execution_count": 19,
   "id": "9ad6ba21",
   "metadata": {},
   "outputs": [
    {
     "name": "stdout",
     "output_type": "stream",
     "text": [
      "12.45\n"
     ]
    }
   ],
   "source": [
    "print(12.45)"
   ]
  },
  {
   "cell_type": "code",
   "execution_count": 23,
   "id": "95926758",
   "metadata": {},
   "outputs": [
    {
     "name": "stdout",
     "output_type": "stream",
     "text": [
      "<class 'int'>\n",
      "<class 'float'>\n",
      "<class 'str'>\n",
      "<class 'bool'>\n"
     ]
    }
   ],
   "source": [
    "print(type(number), type(decimal_number), type(string), type(boolean), sep=\"\\n\")"
   ]
  },
  {
   "cell_type": "code",
   "execution_count": 24,
   "id": "8cbff12f",
   "metadata": {},
   "outputs": [],
   "source": [
    "# I bought 3 kgs of apple for 148.35Rs\n",
    "weight = 3\n",
    "fruit = \"apple\"\n",
    "cost = 148.35"
   ]
  },
  {
   "cell_type": "code",
   "execution_count": 31,
   "id": "9b159c7b",
   "metadata": {},
   "outputs": [
    {
     "name": "stdout",
     "output_type": "stream",
     "text": [
      "I bought 3 kgs of apple for 148.35 Rs\n",
      "I bought 3 kgs of apple for 148.35Rs\n",
      "I bought 3 kgs of apple for 148.35Rs\n",
      "I bought 3 kgs of apple for 148.35Rs\n"
     ]
    }
   ],
   "source": [
    "# method-1 (using comma)\n",
    "print(\"I bought\",weight,\"kgs of\",fruit,\"for\",cost,\"Rs\")\n",
    "\n",
    "# method-2 (using typecast)\n",
    "print(\"I bought \"+str(weight)+\" kgs of \"+fruit+\" for \"+str(cost)+\"Rs\")\n",
    "\n",
    "# method-3\n",
    "print(\"I bought %d kgs of %s for %0.2fRs\"%(weight, fruit, cost))\n",
    "\n",
    "# method-4\n",
    "print(f\"I bought {weight} kgs of {fruit} for {cost}Rs\")"
   ]
  },
  {
   "cell_type": "markdown",
   "id": "ddf6fe07",
   "metadata": {},
   "source": [
    "### input Functions"
   ]
  },
  {
   "cell_type": "code",
   "execution_count": 32,
   "id": "6fe89125",
   "metadata": {},
   "outputs": [
    {
     "name": "stdout",
     "output_type": "stream",
     "text": [
      "2\n"
     ]
    }
   ],
   "source": [
    "randomNumber = input()"
   ]
  },
  {
   "cell_type": "code",
   "execution_count": 35,
   "id": "4dfbebe8",
   "metadata": {},
   "outputs": [
    {
     "name": "stdout",
     "output_type": "stream",
     "text": [
      "Enter your first name: William\n"
     ]
    }
   ],
   "source": [
    "firstName = input(\"Enter your first name: \")"
   ]
  },
  {
   "cell_type": "code",
   "execution_count": 36,
   "id": "be13654e",
   "metadata": {},
   "outputs": [
    {
     "name": "stdout",
     "output_type": "stream",
     "text": [
      "William\n"
     ]
    }
   ],
   "source": [
    "print(firstName)"
   ]
  },
  {
   "cell_type": "code",
   "execution_count": 37,
   "id": "ad4a5d0b",
   "metadata": {},
   "outputs": [
    {
     "name": "stdout",
     "output_type": "stream",
     "text": [
      "Enter your 10 digit phone number: 9876543210\n"
     ]
    }
   ],
   "source": [
    "phone_number = input(\"Enter your 10 digit phone number: \")"
   ]
  },
  {
   "cell_type": "code",
   "execution_count": 39,
   "id": "45508c91",
   "metadata": {},
   "outputs": [
    {
     "data": {
      "text/plain": [
       "str"
      ]
     },
     "execution_count": 39,
     "metadata": {},
     "output_type": "execute_result"
    }
   ],
   "source": [
    "type(phone_number)"
   ]
  },
  {
   "cell_type": "markdown",
   "id": "4474a343",
   "metadata": {},
   "source": [
    "### Operators"
   ]
  },
  {
   "cell_type": "markdown",
   "id": "9af21f07",
   "metadata": {},
   "source": [
    "#### Arithmetic Operators"
   ]
  },
  {
   "cell_type": "code",
   "execution_count": 40,
   "id": "a59697da",
   "metadata": {},
   "outputs": [
    {
     "name": "stdout",
     "output_type": "stream",
     "text": [
      "13\n",
      "3\n",
      "40\n",
      "1.6\n",
      "3\n",
      "1\n",
      "32768\n"
     ]
    }
   ],
   "source": [
    "# + - * / % // **\n",
    "print(8 + 5)\n",
    "print(8 - 5)\n",
    "print(8 * 5)\n",
    "print(8 / 5)\n",
    "print(8 % 5)\n",
    "print(8 // 5)\n",
    "print(8 ** 5)"
   ]
  },
  {
   "cell_type": "code",
   "execution_count": 42,
   "id": "d7ded9ad",
   "metadata": {},
   "outputs": [
    {
     "name": "stdout",
     "output_type": "stream",
     "text": [
      "butterjam\n",
      "appleappleapple\n"
     ]
    }
   ],
   "source": [
    "# + *\n",
    "print(\"butter\" + \"jam\")\n",
    "print(\"apple\" * 3)"
   ]
  },
  {
   "cell_type": "markdown",
   "id": "7c5b847c",
   "metadata": {},
   "source": [
    "#### Comparison Operators"
   ]
  },
  {
   "cell_type": "code",
   "execution_count": 43,
   "id": "2b2f3f49",
   "metadata": {},
   "outputs": [
    {
     "name": "stdout",
     "output_type": "stream",
     "text": [
      "True\n",
      "True\n",
      "False\n",
      "False\n",
      "False\n",
      "True\n"
     ]
    }
   ],
   "source": [
    "# > >= < <= == !=\n",
    "\n",
    "print(8 > 5)\n",
    "print(8 >= 5)\n",
    "print(8 < 5)\n",
    "print(8 <= 5)\n",
    "print(8 == 5)\n",
    "print(8 != 5)"
   ]
  },
  {
   "cell_type": "markdown",
   "id": "291704dc",
   "metadata": {},
   "source": [
    "#### logical Operators"
   ]
  },
  {
   "cell_type": "code",
   "execution_count": 44,
   "id": "39861cec",
   "metadata": {},
   "outputs": [
    {
     "name": "stdout",
     "output_type": "stream",
     "text": [
      "True\n",
      "False\n",
      "False\n",
      "True\n",
      "True\n",
      "False\n",
      "True\n",
      "False\n"
     ]
    }
   ],
   "source": [
    "# and or not\n",
    "\n",
    "print(8 > 5 and 3 < 10)\n",
    "print(8 > 5 and 13 < 10)\n",
    "print(8 > 15 and 13 < 10)\n",
    "\n",
    "print(8 > 5 or 3 < 10)\n",
    "print(8 > 5 or 13 < 10)\n",
    "print(8 > 15 or 13 < 10)\n",
    "\n",
    "num = None\n",
    "print(not num)\n",
    "\n",
    "num = 10\n",
    "print(not num)"
   ]
  },
  {
   "cell_type": "markdown",
   "id": "74c600e8",
   "metadata": {},
   "source": [
    "### Conditional Statements"
   ]
  },
  {
   "cell_type": "code",
   "execution_count": null,
   "id": "d5f50b58",
   "metadata": {},
   "outputs": [],
   "source": [
    "if condition :\n",
    "    \"statement\"\n",
    "    \"statement2\"\n",
    "else:\n",
    "     \"statement\""
   ]
  },
  {
   "cell_type": "code",
   "execution_count": 46,
   "id": "6e922edb",
   "metadata": {},
   "outputs": [
    {
     "name": "stdout",
     "output_type": "stream",
     "text": [
      "Enter any number :5\n",
      "the given number is odd\n"
     ]
    }
   ],
   "source": [
    "num = int(input(\"Enter any number :\"))\n",
    "if num % 2 == 0:\n",
    "    print(\"the given number is even\")\n",
    "else:\n",
    "    print(\"the given number is odd\")"
   ]
  },
  {
   "cell_type": "code",
   "execution_count": 49,
   "id": "cf87be58",
   "metadata": {},
   "outputs": [
    {
     "name": "stdout",
     "output_type": "stream",
     "text": [
      "Enter any number :9\n",
      "the given number is odd\n"
     ]
    }
   ],
   "source": [
    "num = int(input(\"Enter any number :\"))\n",
    "output = \"the given number is odd\"\n",
    "if num % 2 == 0:\n",
    "    output = \"the given number is even\"\n",
    "print(output)"
   ]
  },
  {
   "cell_type": "code",
   "execution_count": 52,
   "id": "0c2dedc6",
   "metadata": {},
   "outputs": [
    {
     "name": "stdout",
     "output_type": "stream",
     "text": [
      "Enter any number :5\n",
      "the given number is odd\n"
     ]
    }
   ],
   "source": [
    "num = int(input(\"Enter any number :\"))\n",
    "if num % 4 == 0:\n",
    "    print(\"the given number is divisible by 4 and even\")\n",
    "elif num % 2 == 0:\n",
    "    print(\"the given number is even\")\n",
    "else:\n",
    "    print(\"the given number is odd\")"
   ]
  },
  {
   "cell_type": "code",
   "execution_count": 58,
   "id": "5fe5d488",
   "metadata": {},
   "outputs": [
    {
     "name": "stdout",
     "output_type": "stream",
     "text": [
      "Enter any number :5\n",
      "the given number is odd\n"
     ]
    }
   ],
   "source": [
    "num = int(input(\"Enter any number :\"))\n",
    "if num % 2 == 0:\n",
    "    output = \"the given number is even\"\n",
    "    if num % 4 == 0:\n",
    "        output = \"the given number is divisible by 4 and also even\"\n",
    "    print(output)\n",
    "else:\n",
    "    print(\"the given number is odd\")"
   ]
  },
  {
   "cell_type": "markdown",
   "id": "6337af07",
   "metadata": {},
   "source": [
    "### While loop"
   ]
  },
  {
   "cell_type": "code",
   "execution_count": null,
   "id": "d435ab67",
   "metadata": {},
   "outputs": [],
   "source": [
    "while condition:\n",
    "    statements"
   ]
  },
  {
   "cell_type": "code",
   "execution_count": 59,
   "id": "3040e1d4",
   "metadata": {},
   "outputs": [
    {
     "name": "stdout",
     "output_type": "stream",
     "text": [
      "Enter any number :20\n",
      "the given number is divisible by 4 and even\n",
      "Enter any number :10\n",
      "the given number is even\n",
      "Enter any number :5\n",
      "the given number is odd\n"
     ]
    }
   ],
   "source": [
    "count = 1\n",
    "while count <= 3:\n",
    "    num = int(input(\"Enter any number :\"))\n",
    "    if num % 4 == 0:\n",
    "        print(\"the given number is divisible by 4 and even\")\n",
    "    elif num % 2 == 0:\n",
    "        print(\"the given number is even\")\n",
    "    else:\n",
    "        print(\"the given number is odd\")\n",
    "    \n",
    "    count += 1"
   ]
  },
  {
   "cell_type": "code",
   "execution_count": 60,
   "id": "d0c13951",
   "metadata": {},
   "outputs": [
    {
     "name": "stdout",
     "output_type": "stream",
     "text": [
      "Enter any number :20\n",
      "the given number is divisible by 4 and even\n",
      "Do you want to continue? y/n: y\n",
      "Enter any number :4\n",
      "the given number is divisible by 4 and even\n",
      "Do you want to continue? y/n: n\n"
     ]
    }
   ],
   "source": [
    "option = \"y\"\n",
    "while option == \"y\":\n",
    "    num = int(input(\"Enter any number :\"))\n",
    "    if num % 4 == 0:\n",
    "        print(\"the given number is divisible by 4 and even\")\n",
    "    elif num % 2 == 0:\n",
    "        print(\"the given number is even\")\n",
    "    else:\n",
    "        print(\"the given number is odd\")\n",
    "    \n",
    "    option = input(\"Do you want to continue? y/n: \")"
   ]
  },
  {
   "cell_type": "code",
   "execution_count": 61,
   "id": "e2bf9ae5",
   "metadata": {},
   "outputs": [
    {
     "name": "stdout",
     "output_type": "stream",
     "text": [
      "Enter any number :20\n",
      "the given number is divisible by 4 and even\n",
      "Enter any number :34\n",
      "the given number is even\n",
      "Enter any number :35\n",
      "the given number is odd\n",
      "Enter any number :14\n",
      "the given number is even\n",
      "Enter any number :15\n",
      "the given number is odd\n",
      "Enter any number :a\n"
     ]
    },
    {
     "ename": "ValueError",
     "evalue": "invalid literal for int() with base 10: 'a'",
     "output_type": "error",
     "traceback": [
      "\u001b[0;31m---------------------------------------------------------------------------\u001b[0m",
      "\u001b[0;31mValueError\u001b[0m                                Traceback (most recent call last)",
      "Cell \u001b[0;32mIn[61], line 2\u001b[0m\n\u001b[1;32m      1\u001b[0m \u001b[38;5;28;01mwhile\u001b[39;00m \u001b[38;5;28;01mTrue\u001b[39;00m:\n\u001b[0;32m----> 2\u001b[0m     num \u001b[38;5;241m=\u001b[39m \u001b[38;5;28;43mint\u001b[39;49m\u001b[43m(\u001b[49m\u001b[38;5;28;43minput\u001b[39;49m\u001b[43m(\u001b[49m\u001b[38;5;124;43m\"\u001b[39;49m\u001b[38;5;124;43mEnter any number :\u001b[39;49m\u001b[38;5;124;43m\"\u001b[39;49m\u001b[43m)\u001b[49m\u001b[43m)\u001b[49m\n\u001b[1;32m      3\u001b[0m     \u001b[38;5;28;01mif\u001b[39;00m num \u001b[38;5;241m%\u001b[39m \u001b[38;5;241m4\u001b[39m \u001b[38;5;241m==\u001b[39m \u001b[38;5;241m0\u001b[39m:\n\u001b[1;32m      4\u001b[0m         \u001b[38;5;28mprint\u001b[39m(\u001b[38;5;124m\"\u001b[39m\u001b[38;5;124mthe given number is divisible by 4 and even\u001b[39m\u001b[38;5;124m\"\u001b[39m)\n",
      "\u001b[0;31mValueError\u001b[0m: invalid literal for int() with base 10: 'a'"
     ]
    }
   ],
   "source": [
    "while True:\n",
    "    num = int(input(\"Enter any number :\"))\n",
    "    if num % 4 == 0:\n",
    "        print(\"the given number is divisible by 4 and even\")\n",
    "    elif num % 2 == 0:\n",
    "        print(\"the given number is even\")\n",
    "    else:\n",
    "        print(\"the given number is odd\")"
   ]
  },
  {
   "cell_type": "code",
   "execution_count": 63,
   "id": "60c9e669",
   "metadata": {},
   "outputs": [
    {
     "name": "stdout",
     "output_type": "stream",
     "text": [
      "Enter any number :47\n",
      "the given number is odd\n",
      "Enter any number :32\n",
      "the given number is divisible by 4 and even\n",
      "Enter any number :14\n",
      "the given number is even\n",
      "Enter any number :24\n",
      "the given number is divisible by 4 and even\n",
      "Enter any number :25\n",
      "Skipping....\n",
      "Enter any number :48\n",
      "the given number is divisible by 4 and even\n",
      "Enter any number :36\n",
      "the given number is divisible by 4 and even\n",
      "Enter any number :15\n",
      "Stopping....\n"
     ]
    }
   ],
   "source": [
    "while True:\n",
    "    num = int(input(\"Enter any number :\"))\n",
    "    \n",
    "    if num == 15:\n",
    "        print(\"Stopping....\")\n",
    "        break\n",
    "    elif num == 25:\n",
    "        print(\"Skipping....\")\n",
    "        continue\n",
    "        \n",
    "    if num % 4 == 0:\n",
    "        print(\"the given number is divisible by 4 and even\")\n",
    "    elif num % 2 == 0:\n",
    "        print(\"the given number is even\")\n",
    "    else:\n",
    "        print(\"the given number is odd\")"
   ]
  },
  {
   "cell_type": "code",
   "execution_count": 80,
   "id": "50eb1870",
   "metadata": {},
   "outputs": [
    {
     "name": "stdout",
     "output_type": "stream",
     "text": [
      "This program can calculate the area of three objects. Please select one\n",
      "1. Circle\n",
      "2. Rectangle\n",
      "3. triangle\n",
      "Enter your choice: 1\n",
      "Enter the radius of the circle: 2\n",
      "Area of the circle is 12.56\n",
      "Do you want to continue? y/n:a\n"
     ]
    }
   ],
   "source": [
    "# write a python program for calculating of 3 objects, the object has to be selected\n",
    "\n",
    "print(\n",
    "    \"This program can calculate the area of three objects. Please select one\")\n",
    "print(\"1. Circle\")\n",
    "print(\"2. Rectangle\")\n",
    "print(\"3. triangle\")\n",
    "while True:\n",
    "    choice = input(\"Enter your choice: \")\n",
    "\n",
    "    if choice == \"circle\" or choice == \"1\":\n",
    "        r = float(input(\"Enter the radius of the circle: \"))\n",
    "        area = 3.14 * r * r\n",
    "        print(\"Area of the circle is\", area)\n",
    "\n",
    "    elif choice == \"rectangle\" or choice == \"2\":\n",
    "        l = float(input(\"Enter the length of the rectangle: \"))\n",
    "        b = float(input(\"Enter the breadth of the rectangle: \"))\n",
    "        area = l * b\n",
    "        print(\"Area of the rectangle is\", area)\n",
    "\n",
    "    elif choice == \"triangle\" or choice == \"3\":\n",
    "        b = float(input(\"Enter the base of the triangle: \"))\n",
    "        h = float(input(\"Enter the height of the triangle: \"))\n",
    "        area = b * h * 0.5\n",
    "        print(\"Area of the rectangle is\", area)\n",
    "\n",
    "    else:\n",
    "        print(\"Invalid option. Please select proper option\")\n",
    "        continue\n",
    "    \n",
    "    option = input(\"Do you want to continue? y/n:\")\n",
    "    if option != \"y\":\n",
    "        break\n",
    "else:\n",
    "    print(\"Good bye...\")"
   ]
  },
  {
   "cell_type": "markdown",
   "id": "f89133c3",
   "metadata": {},
   "source": [
    "### For loops"
   ]
  },
  {
   "cell_type": "code",
   "execution_count": 65,
   "id": "d8663c5b",
   "metadata": {},
   "outputs": [
    {
     "name": "stdout",
     "output_type": "stream",
     "text": [
      "0\n",
      "1\n",
      "2\n",
      "3\n",
      "4\n"
     ]
    }
   ],
   "source": [
    "for i in range(5):\n",
    "    print(i)"
   ]
  },
  {
   "cell_type": "code",
   "execution_count": 66,
   "id": "17727a16",
   "metadata": {},
   "outputs": [
    {
     "name": "stdout",
     "output_type": "stream",
     "text": [
      "hello\n",
      "hello\n",
      "hello\n",
      "hello\n",
      "hello\n"
     ]
    }
   ],
   "source": [
    "for i in range(5):\n",
    "    print(\"hello\")"
   ]
  },
  {
   "cell_type": "code",
   "execution_count": 68,
   "id": "1439d998",
   "metadata": {},
   "outputs": [
    {
     "name": "stdout",
     "output_type": "stream",
     "text": [
      "Enter any number :20\n",
      "the given number is divisible by 4 and even\n",
      "Enter any number :10\n",
      "the given number is even\n",
      "Enter any number :5\n",
      "the given number is odd\n"
     ]
    }
   ],
   "source": [
    "for _ in range(3):\n",
    "    num = int(input(\"Enter any number :\"))\n",
    "    if num % 4 == 0:\n",
    "        print(\"the given number is divisible by 4 and even\")\n",
    "    elif num % 2 == 0:\n",
    "        print(\"the given number is even\")\n",
    "    else:\n",
    "        print(\"the given number is odd\")"
   ]
  },
  {
   "cell_type": "code",
   "execution_count": 70,
   "id": "47de7b77",
   "metadata": {},
   "outputs": [
    {
     "name": "stdout",
     "output_type": "stream",
     "text": [
      "16\n",
      "17\n",
      "18\n",
      "19\n",
      "20\n"
     ]
    }
   ],
   "source": [
    "for i in range(16, 21):\n",
    "    print(i)"
   ]
  },
  {
   "cell_type": "code",
   "execution_count": 72,
   "id": "06bb44a0",
   "metadata": {},
   "outputs": [
    {
     "name": "stdout",
     "output_type": "stream",
     "text": [
      "1\n",
      "3\n",
      "5\n",
      "7\n",
      "9\n"
     ]
    }
   ],
   "source": [
    "for i in range(1,10,2):\n",
    "    print(i)"
   ]
  },
  {
   "cell_type": "code",
   "execution_count": 73,
   "id": "0af79358",
   "metadata": {},
   "outputs": [
    {
     "name": "stdout",
     "output_type": "stream",
     "text": [
      "W\n",
      "i\n",
      "l\n",
      "l\n",
      "i\n",
      "a\n",
      "m\n"
     ]
    }
   ],
   "source": [
    "for i in firstName:\n",
    "    print(i)"
   ]
  },
  {
   "cell_type": "code",
   "execution_count": 75,
   "id": "1e669112",
   "metadata": {},
   "outputs": [
    {
     "name": "stdout",
     "output_type": "stream",
     "text": [
      "W D\n",
      "i o\n",
      "l e\n"
     ]
    }
   ],
   "source": [
    "for i,j in zip(firstName, last_name):\n",
    "    print(i,j)"
   ]
  },
  {
   "cell_type": "code",
   "execution_count": 77,
   "id": "5b23308e",
   "metadata": {},
   "outputs": [
    {
     "name": "stdout",
     "output_type": "stream",
     "text": [
      "0 W\n",
      "1 i\n",
      "2 l\n",
      "3 l\n",
      "4 i\n",
      "5 a\n",
      "6 m\n"
     ]
    }
   ],
   "source": [
    "for i, char in enumerate(firstName):\n",
    "    print(i, char)"
   ]
  },
  {
   "cell_type": "code",
   "execution_count": 79,
   "id": "81e41ce3",
   "metadata": {},
   "outputs": [
    {
     "name": "stdout",
     "output_type": "stream",
     "text": [
      "Enter any number :20\n",
      "the given number is divisible by 4 and even\n",
      "Enter any number :10\n",
      "the given number is even\n",
      "Enter any number :5\n",
      "the given number is odd\n",
      "Thank you!!!\n"
     ]
    }
   ],
   "source": [
    "for _ in range(3):\n",
    "    num = int(input(\"Enter any number :\"))\n",
    "    if num % 4 == 0:\n",
    "        print(\"the given number is divisible by 4 and even\")\n",
    "    elif num % 2 == 0:\n",
    "        print(\"the given number is even\")\n",
    "    else:\n",
    "        print(\"the given number is odd\")\n",
    "else:\n",
    "    print(\"Thank you!!!\")"
   ]
  },
  {
   "cell_type": "code",
   "execution_count": 84,
   "id": "e3b19f79",
   "metadata": {},
   "outputs": [
    {
     "name": "stdout",
     "output_type": "stream",
     "text": [
      "0\n",
      "1\n",
      "2\n",
      "3\n",
      "5\n",
      "7\n",
      "11\n",
      "13\n",
      "17\n",
      "19\n"
     ]
    }
   ],
   "source": [
    "# identifying prime numbers between two numbers\n",
    "\n",
    "for num in range(0, 21):\n",
    "    for i in range(2, num):\n",
    "        if num % i == 0:\n",
    "            break\n",
    "    else:\n",
    "        print(num)"
   ]
  },
  {
   "cell_type": "markdown",
   "id": "ddad5d9b",
   "metadata": {},
   "source": [
    "### Example - Rock paper scissor Game"
   ]
  },
  {
   "cell_type": "markdown",
   "id": "3bd86feb",
   "metadata": {},
   "source": [
    "Write a program for rock-paper-scissor game using the following rules, Game should be executed until any of the players wants to quit.\n",
    "\n",
    "* Rock beats Scissor\n",
    "* Scissor beats Paper\n",
    "* Paper beats Rock"
   ]
  },
  {
   "cell_type": "code",
   "execution_count": 86,
   "id": "60698fba",
   "metadata": {},
   "outputs": [
    {
     "name": "stdout",
     "output_type": "stream",
     "text": [
      "Enter your player-1 :rock\n",
      "Enter your player-2 :paper\n",
      "player_1 choice is  rock and player_2 choice is  paper\n",
      "player_2 won the game\n",
      "\n",
      "Enter your player-1 :scissor\n",
      "Enter your player-2 :paper\n",
      "player_1 choice is  scissor and player_2 choice is  paper\n",
      "player_1 won the game\n",
      "\n",
      "Enter your player-1 :quit\n",
      "Good Bye....\n"
     ]
    }
   ],
   "source": [
    "while True:\n",
    "    player1 = input(\"Enter your player-1 :\")\n",
    "    if player1 == \"quit\" or player1 == \"q\":\n",
    "        print(\"Good Bye....\")\n",
    "        break\n",
    "\n",
    "    player2 = input(\"Enter your player-2 :\")\n",
    "    if player2 == \"quit\" or player2 == \"q\":\n",
    "        print(\"Good Bye....\")\n",
    "        break\n",
    "\n",
    "    print(\"player_1 choice is \", player1, \"and player_2 choice is \", player2)\n",
    "\n",
    "    if player1 == player2:\n",
    "        print(\"Game is tie\")\n",
    "        continue\n",
    "    elif player1 == \"rock\" and player2 == \"scissor\":\n",
    "        print(\"player_1 won the game\")\n",
    "    elif player1 == \"scissor\" and player2 == \"paper\":\n",
    "        print(\"player_1 won the game\")\n",
    "    elif player1 == \"paper\" and player2 == \"rock\":\n",
    "        print(\"player_1 won the game\")\n",
    "    else:\n",
    "        print(\"player_2 won the game\")\n",
    "    print()"
   ]
  },
  {
   "cell_type": "markdown",
   "id": "d94ba3d9",
   "metadata": {},
   "source": [
    "### String Operations"
   ]
  },
  {
   "cell_type": "code",
   "execution_count": 87,
   "id": "bf8ffd08",
   "metadata": {},
   "outputs": [],
   "source": [
    "animal = \"elephant\"\n",
    "sentence = \"elephant is an animal\""
   ]
  },
  {
   "cell_type": "markdown",
   "id": "f6f32305",
   "metadata": {},
   "source": [
    "#### Slice and dice"
   ]
  },
  {
   "cell_type": "code",
   "execution_count": 89,
   "id": "cd321d6c",
   "metadata": {},
   "outputs": [
    {
     "data": {
      "text/plain": [
       "'a'"
      ]
     },
     "execution_count": 89,
     "metadata": {},
     "output_type": "execute_result"
    }
   ],
   "source": [
    "animal[5]"
   ]
  },
  {
   "cell_type": "code",
   "execution_count": 90,
   "id": "379e88ed",
   "metadata": {},
   "outputs": [
    {
     "data": {
      "text/plain": [
       "8"
      ]
     },
     "execution_count": 90,
     "metadata": {},
     "output_type": "execute_result"
    }
   ],
   "source": [
    "len(animal)"
   ]
  },
  {
   "cell_type": "code",
   "execution_count": 92,
   "id": "b49fa2a3",
   "metadata": {},
   "outputs": [
    {
     "data": {
      "text/plain": [
       "'phant'"
      ]
     },
     "execution_count": 92,
     "metadata": {},
     "output_type": "execute_result"
    }
   ],
   "source": [
    "animal[3:]"
   ]
  },
  {
   "cell_type": "code",
   "execution_count": 93,
   "id": "06b2a277",
   "metadata": {},
   "outputs": [
    {
     "data": {
      "text/plain": [
       "'eleph'"
      ]
     },
     "execution_count": 93,
     "metadata": {},
     "output_type": "execute_result"
    }
   ],
   "source": [
    "animal[:5]"
   ]
  },
  {
   "cell_type": "code",
   "execution_count": 94,
   "id": "9b8758cf",
   "metadata": {},
   "outputs": [
    {
     "data": {
      "text/plain": [
       "'epha'"
      ]
     },
     "execution_count": 94,
     "metadata": {},
     "output_type": "execute_result"
    }
   ],
   "source": [
    "animal[2:6]"
   ]
  },
  {
   "cell_type": "code",
   "execution_count": 96,
   "id": "b2e30a97",
   "metadata": {},
   "outputs": [
    {
     "data": {
      "text/plain": [
       "('lepha', 'lpa')"
      ]
     },
     "execution_count": 96,
     "metadata": {},
     "output_type": "execute_result"
    }
   ],
   "source": [
    "animal[1:6], animal[1:6:2]"
   ]
  },
  {
   "cell_type": "code",
   "execution_count": 97,
   "id": "2dd36b5b",
   "metadata": {},
   "outputs": [
    {
     "data": {
      "text/plain": [
       "'tnahpele'"
      ]
     },
     "execution_count": 97,
     "metadata": {},
     "output_type": "execute_result"
    }
   ],
   "source": [
    "animal[::-1]"
   ]
  },
  {
   "cell_type": "markdown",
   "id": "8c89d168",
   "metadata": {},
   "source": [
    "#### String function"
   ]
  },
  {
   "cell_type": "code",
   "execution_count": 103,
   "id": "bf81e587",
   "metadata": {},
   "outputs": [
    {
     "data": {
      "text/plain": [
       "'elephant'"
      ]
     },
     "execution_count": 103,
     "metadata": {},
     "output_type": "execute_result"
    }
   ],
   "source": [
    "# case\n",
    "animal.capitalize(), sentence.capitalize()\n",
    "animal.upper(), sentence.upper()\n",
    "animal.lower(), sentence.lower()\n",
    "animal.title(), sentence.title()\n",
    "\"ElEpHaNt\".swapcase()\n",
    "\"ElEpHaNt\".casefold()"
   ]
  },
  {
   "cell_type": "code",
   "execution_count": 107,
   "id": "692217d8",
   "metadata": {},
   "outputs": [
    {
     "data": {
      "text/plain": [
       "'0000000elephant'"
      ]
     },
     "execution_count": 107,
     "metadata": {},
     "output_type": "execute_result"
    }
   ],
   "source": [
    "# decorative \n",
    "animal.center(40,\"~\")\n",
    "animal.zfill(15)"
   ]
  },
  {
   "cell_type": "code",
   "execution_count": 111,
   "id": "4211a08b",
   "metadata": {},
   "outputs": [
    {
     "data": {
      "text/plain": [
       "['eleph', 't is ', ' ', 'imal']"
      ]
     },
     "execution_count": 111,
     "metadata": {},
     "output_type": "execute_result"
    }
   ],
   "source": [
    "# slice and join\n",
    "sentence.split()\n",
    "splittedSentence = sentence.split('an')\n",
    "splittedSentence"
   ]
  },
  {
   "cell_type": "code",
   "execution_count": 115,
   "id": "020984da",
   "metadata": {},
   "outputs": [
    {
     "data": {
      "text/plain": [
       "'elephant is an animal'"
      ]
     },
     "execution_count": 115,
     "metadata": {},
     "output_type": "execute_result"
    }
   ],
   "source": [
    "\"an\".join(splittedSentence)"
   ]
  },
  {
   "cell_type": "code",
   "execution_count": 117,
   "id": "d37cb909",
   "metadata": {},
   "outputs": [
    {
     "data": {
      "text/plain": [
       "(2, 3)"
      ]
     },
     "execution_count": 117,
     "metadata": {},
     "output_type": "execute_result"
    }
   ],
   "source": [
    "animal.count('e'), sentence.count('an')"
   ]
  },
  {
   "cell_type": "code",
   "execution_count": 119,
   "id": "b61eeaf9",
   "metadata": {},
   "outputs": [
    {
     "data": {
      "text/plain": [
       "'eYephant'"
      ]
     },
     "execution_count": 119,
     "metadata": {},
     "output_type": "execute_result"
    }
   ],
   "source": [
    "animal.replace(\"l\",\"Y\")"
   ]
  },
  {
   "cell_type": "code",
   "execution_count": 123,
   "id": "ab18d1bc",
   "metadata": {},
   "outputs": [
    {
     "data": {
      "text/plain": [
       "(True, True)"
      ]
     },
     "execution_count": 123,
     "metadata": {},
     "output_type": "execute_result"
    }
   ],
   "source": [
    "animal.endswith(\"nt\"), animal.startswith('el')"
   ]
  },
  {
   "cell_type": "code",
   "execution_count": 126,
   "id": "91e68c7f",
   "metadata": {},
   "outputs": [
    {
     "data": {
      "text/plain": [
       "'elephant is an animal'"
      ]
     },
     "execution_count": 126,
     "metadata": {},
     "output_type": "execute_result"
    }
   ],
   "source": [
    "sentence.encode('utf16').decode('utf16')"
   ]
  },
  {
   "cell_type": "code",
   "execution_count": 127,
   "id": "3cd40548",
   "metadata": {},
   "outputs": [
    {
     "data": {
      "text/plain": [
       "(5, 5)"
      ]
     },
     "execution_count": 127,
     "metadata": {},
     "output_type": "execute_result"
    }
   ],
   "source": [
    "sentence.find('an'), sentence.index('an')"
   ]
  },
  {
   "cell_type": "code",
   "execution_count": 128,
   "id": "050a3436",
   "metadata": {},
   "outputs": [
    {
     "data": {
      "text/plain": [
       "'an'"
      ]
     },
     "execution_count": 128,
     "metadata": {},
     "output_type": "execute_result"
    }
   ],
   "source": [
    "sentence[5:7]"
   ]
  },
  {
   "cell_type": "code",
   "execution_count": 129,
   "id": "c717b5a6",
   "metadata": {},
   "outputs": [
    {
     "data": {
      "text/plain": [
       "-1"
      ]
     },
     "execution_count": 129,
     "metadata": {},
     "output_type": "execute_result"
    }
   ],
   "source": [
    "animal.find('y')"
   ]
  },
  {
   "cell_type": "code",
   "execution_count": 130,
   "id": "8eb667a3",
   "metadata": {},
   "outputs": [
    {
     "ename": "ValueError",
     "evalue": "substring not found",
     "output_type": "error",
     "traceback": [
      "\u001b[0;31m---------------------------------------------------------------------------\u001b[0m",
      "\u001b[0;31mValueError\u001b[0m                                Traceback (most recent call last)",
      "Cell \u001b[0;32mIn[130], line 1\u001b[0m\n\u001b[0;32m----> 1\u001b[0m \u001b[43manimal\u001b[49m\u001b[38;5;241;43m.\u001b[39;49m\u001b[43mindex\u001b[49m\u001b[43m(\u001b[49m\u001b[38;5;124;43m'\u001b[39;49m\u001b[38;5;124;43my\u001b[39;49m\u001b[38;5;124;43m'\u001b[39;49m\u001b[43m)\u001b[49m\n",
      "\u001b[0;31mValueError\u001b[0m: substring not found"
     ]
    }
   ],
   "source": [
    "animal.index('y')"
   ]
  },
  {
   "cell_type": "code",
   "execution_count": 132,
   "id": "008e152b",
   "metadata": {},
   "outputs": [
    {
     "data": {
      "text/plain": [
       "(False, True)"
      ]
     },
     "execution_count": 132,
     "metadata": {},
     "output_type": "execute_result"
    }
   ],
   "source": [
    "animal.isupper(), animal.islower()"
   ]
  },
  {
   "cell_type": "code",
   "execution_count": 134,
   "id": "f01a3deb",
   "metadata": {},
   "outputs": [
    {
     "data": {
      "text/plain": [
       "(True, True)"
      ]
     },
     "execution_count": 134,
     "metadata": {},
     "output_type": "execute_result"
    }
   ],
   "source": [
    "animal.isalnum(), animal.isalpha()"
   ]
  },
  {
   "cell_type": "code",
   "execution_count": 135,
   "id": "9cee268d",
   "metadata": {},
   "outputs": [
    {
     "data": {
      "text/plain": [
       "False"
      ]
     },
     "execution_count": 135,
     "metadata": {},
     "output_type": "execute_result"
    }
   ],
   "source": [
    "\"1234\".isalpha()"
   ]
  },
  {
   "cell_type": "code",
   "execution_count": null,
   "id": "5e4a854f",
   "metadata": {},
   "outputs": [],
   "source": [
    "animal.is"
   ]
  },
  {
   "cell_type": "markdown",
   "id": "98114f2c",
   "metadata": {},
   "source": [
    "### List"
   ]
  },
  {
   "cell_type": "code",
   "execution_count": 136,
   "id": "16bdaf83",
   "metadata": {},
   "outputs": [],
   "source": [
    "emptyList = []"
   ]
  },
  {
   "cell_type": "code",
   "execution_count": 137,
   "id": "efc8c84a",
   "metadata": {},
   "outputs": [
    {
     "name": "stdout",
     "output_type": "stream",
     "text": [
      "[]\n"
     ]
    }
   ],
   "source": [
    "print(emptyList)"
   ]
  },
  {
   "cell_type": "code",
   "execution_count": 138,
   "id": "b9552482",
   "metadata": {},
   "outputs": [],
   "source": [
    "contentList = [\"apple\",\"mango\",\"pineapple\", \"orange\", 12,45,26,3.14]"
   ]
  },
  {
   "cell_type": "code",
   "execution_count": 139,
   "id": "500c8b04",
   "metadata": {},
   "outputs": [
    {
     "name": "stdout",
     "output_type": "stream",
     "text": [
      "['apple', 'mango', 'pineapple', 'orange', 12, 45, 26, 3.14]\n"
     ]
    }
   ],
   "source": [
    "print(contentList)"
   ]
  },
  {
   "cell_type": "markdown",
   "id": "cfa70d37",
   "metadata": {},
   "source": [
    "#### Slice and Dice"
   ]
  },
  {
   "cell_type": "code",
   "execution_count": 140,
   "id": "626adc5b",
   "metadata": {},
   "outputs": [
    {
     "data": {
      "text/plain": [
       "'pineapple'"
      ]
     },
     "execution_count": 140,
     "metadata": {},
     "output_type": "execute_result"
    }
   ],
   "source": [
    "contentList[2]"
   ]
  },
  {
   "cell_type": "code",
   "execution_count": 141,
   "id": "513e1d34",
   "metadata": {},
   "outputs": [
    {
     "data": {
      "text/plain": [
       "'a'"
      ]
     },
     "execution_count": 141,
     "metadata": {},
     "output_type": "execute_result"
    }
   ],
   "source": [
    "contentList[2][4]"
   ]
  },
  {
   "cell_type": "code",
   "execution_count": 142,
   "id": "915ad467",
   "metadata": {},
   "outputs": [
    {
     "data": {
      "text/plain": [
       "8"
      ]
     },
     "execution_count": 142,
     "metadata": {},
     "output_type": "execute_result"
    }
   ],
   "source": [
    "len(contentList)"
   ]
  },
  {
   "cell_type": "code",
   "execution_count": 143,
   "id": "f68a798f",
   "metadata": {},
   "outputs": [
    {
     "data": {
      "text/plain": [
       "['pineapple', 'orange', 12, 45]"
      ]
     },
     "execution_count": 143,
     "metadata": {},
     "output_type": "execute_result"
    }
   ],
   "source": [
    "contentList[2:6]"
   ]
  },
  {
   "cell_type": "code",
   "execution_count": 144,
   "id": "ce6d2918",
   "metadata": {},
   "outputs": [
    {
     "data": {
      "text/plain": [
       "['pineapple', 'orange', 12, 45, 26, 3.14]"
      ]
     },
     "execution_count": 144,
     "metadata": {},
     "output_type": "execute_result"
    }
   ],
   "source": [
    "contentList[2:]"
   ]
  },
  {
   "cell_type": "code",
   "execution_count": 145,
   "id": "ed41f0de",
   "metadata": {},
   "outputs": [
    {
     "data": {
      "text/plain": [
       "['apple', 'mango', 'pineapple', 'orange', 12, 45]"
      ]
     },
     "execution_count": 145,
     "metadata": {},
     "output_type": "execute_result"
    }
   ],
   "source": [
    "contentList[:6]"
   ]
  },
  {
   "cell_type": "code",
   "execution_count": 146,
   "id": "99b505dd",
   "metadata": {},
   "outputs": [
    {
     "data": {
      "text/plain": [
       "3.14"
      ]
     },
     "execution_count": 146,
     "metadata": {},
     "output_type": "execute_result"
    }
   ],
   "source": [
    "# CRUD \n",
    "contentList[7]"
   ]
  },
  {
   "cell_type": "code",
   "execution_count": 147,
   "id": "f4d9a4f2",
   "metadata": {},
   "outputs": [],
   "source": [
    "contentList[7] = 5.18"
   ]
  },
  {
   "cell_type": "code",
   "execution_count": 148,
   "id": "d92e7b64",
   "metadata": {},
   "outputs": [
    {
     "data": {
      "text/plain": [
       "['apple', 'mango', 'pineapple', 'orange', 12, 45, 26, 5.18]"
      ]
     },
     "execution_count": 148,
     "metadata": {},
     "output_type": "execute_result"
    }
   ],
   "source": [
    "contentList"
   ]
  },
  {
   "cell_type": "code",
   "execution_count": 149,
   "id": "1c893dfe",
   "metadata": {},
   "outputs": [],
   "source": [
    "del contentList[6]"
   ]
  },
  {
   "cell_type": "code",
   "execution_count": 150,
   "id": "564ac409",
   "metadata": {},
   "outputs": [
    {
     "data": {
      "text/plain": [
       "['apple', 'mango', 'pineapple', 'orange', 12, 45, 5.18]"
      ]
     },
     "execution_count": 150,
     "metadata": {},
     "output_type": "execute_result"
    }
   ],
   "source": [
    "contentList"
   ]
  },
  {
   "cell_type": "markdown",
   "id": "719beea9",
   "metadata": {},
   "source": [
    "#### List functions"
   ]
  },
  {
   "cell_type": "code",
   "execution_count": 151,
   "id": "25236559",
   "metadata": {},
   "outputs": [],
   "source": [
    "emptyList.append(\"new\")"
   ]
  },
  {
   "cell_type": "code",
   "execution_count": 152,
   "id": "4b462d13",
   "metadata": {},
   "outputs": [
    {
     "data": {
      "text/plain": [
       "['new']"
      ]
     },
     "execution_count": 152,
     "metadata": {},
     "output_type": "execute_result"
    }
   ],
   "source": [
    "emptyList"
   ]
  },
  {
   "cell_type": "code",
   "execution_count": 153,
   "id": "4caf8612",
   "metadata": {},
   "outputs": [],
   "source": [
    "contentList.append(\"papaya\")"
   ]
  },
  {
   "cell_type": "code",
   "execution_count": 154,
   "id": "b9b3414a",
   "metadata": {},
   "outputs": [
    {
     "data": {
      "text/plain": [
       "['apple', 'mango', 'pineapple', 'orange', 12, 45, 5.18, 'papaya']"
      ]
     },
     "execution_count": 154,
     "metadata": {},
     "output_type": "execute_result"
    }
   ],
   "source": [
    "contentList"
   ]
  },
  {
   "cell_type": "code",
   "execution_count": 155,
   "id": "5d175927",
   "metadata": {},
   "outputs": [],
   "source": [
    "contentList.insert(5, \"carrot\")"
   ]
  },
  {
   "cell_type": "code",
   "execution_count": 156,
   "id": "791159e4",
   "metadata": {},
   "outputs": [
    {
     "data": {
      "text/plain": [
       "['apple', 'mango', 'pineapple', 'orange', 12, 'carrot', 45, 5.18, 'papaya']"
      ]
     },
     "execution_count": 156,
     "metadata": {},
     "output_type": "execute_result"
    }
   ],
   "source": [
    "contentList"
   ]
  },
  {
   "cell_type": "code",
   "execution_count": 157,
   "id": "a07e8d5e",
   "metadata": {},
   "outputs": [
    {
     "data": {
      "text/plain": [
       "'papaya'"
      ]
     },
     "execution_count": 157,
     "metadata": {},
     "output_type": "execute_result"
    }
   ],
   "source": [
    "contentList.pop()"
   ]
  },
  {
   "cell_type": "code",
   "execution_count": 158,
   "id": "27f84bb4",
   "metadata": {},
   "outputs": [
    {
     "data": {
      "text/plain": [
       "['apple', 'mango', 'pineapple', 'orange', 12, 'carrot', 45, 5.18]"
      ]
     },
     "execution_count": 158,
     "metadata": {},
     "output_type": "execute_result"
    }
   ],
   "source": [
    "contentList"
   ]
  },
  {
   "cell_type": "code",
   "execution_count": 159,
   "id": "2b23037e",
   "metadata": {},
   "outputs": [],
   "source": [
    "contentList.remove(12)"
   ]
  },
  {
   "cell_type": "code",
   "execution_count": 160,
   "id": "14cc3395",
   "metadata": {},
   "outputs": [
    {
     "data": {
      "text/plain": [
       "['apple', 'mango', 'pineapple', 'orange', 'carrot', 45, 5.18]"
      ]
     },
     "execution_count": 160,
     "metadata": {},
     "output_type": "execute_result"
    }
   ],
   "source": [
    "contentList"
   ]
  },
  {
   "cell_type": "code",
   "execution_count": 161,
   "id": "af918514",
   "metadata": {},
   "outputs": [
    {
     "data": {
      "text/plain": [
       "1"
      ]
     },
     "execution_count": 161,
     "metadata": {},
     "output_type": "execute_result"
    }
   ],
   "source": [
    "contentList.count(\"apple\")"
   ]
  },
  {
   "cell_type": "code",
   "execution_count": 162,
   "id": "870adb0c",
   "metadata": {},
   "outputs": [
    {
     "data": {
      "text/plain": [
       "3"
      ]
     },
     "execution_count": 162,
     "metadata": {},
     "output_type": "execute_result"
    }
   ],
   "source": [
    "contentList.index(\"orange\")"
   ]
  },
  {
   "cell_type": "code",
   "execution_count": 163,
   "id": "2f8952fe",
   "metadata": {},
   "outputs": [],
   "source": [
    "newList = contentList"
   ]
  },
  {
   "cell_type": "code",
   "execution_count": 165,
   "id": "6c5b6bc8",
   "metadata": {},
   "outputs": [
    {
     "data": {
      "text/plain": [
       "5.18"
      ]
     },
     "execution_count": 165,
     "metadata": {},
     "output_type": "execute_result"
    }
   ],
   "source": [
    "newList.pop()"
   ]
  },
  {
   "cell_type": "code",
   "execution_count": 166,
   "id": "61b7eb38",
   "metadata": {},
   "outputs": [
    {
     "data": {
      "text/plain": [
       "['apple', 'mango', 'pineapple', 'orange', 'carrot', 45]"
      ]
     },
     "execution_count": 166,
     "metadata": {},
     "output_type": "execute_result"
    }
   ],
   "source": [
    "newList"
   ]
  },
  {
   "cell_type": "code",
   "execution_count": 167,
   "id": "b1acbba5",
   "metadata": {},
   "outputs": [
    {
     "data": {
      "text/plain": [
       "['apple', 'mango', 'pineapple', 'orange', 'carrot', 45]"
      ]
     },
     "execution_count": 167,
     "metadata": {},
     "output_type": "execute_result"
    }
   ],
   "source": [
    "contentList"
   ]
  },
  {
   "cell_type": "code",
   "execution_count": 168,
   "id": "6ae2efb1",
   "metadata": {},
   "outputs": [],
   "source": [
    "newlist2 = contentList.copy()"
   ]
  },
  {
   "cell_type": "code",
   "execution_count": 170,
   "id": "3672f40e",
   "metadata": {},
   "outputs": [
    {
     "data": {
      "text/plain": [
       "45"
      ]
     },
     "execution_count": 170,
     "metadata": {},
     "output_type": "execute_result"
    }
   ],
   "source": [
    "newlist2.pop()"
   ]
  },
  {
   "cell_type": "code",
   "execution_count": 171,
   "id": "85ad2bb7",
   "metadata": {},
   "outputs": [
    {
     "data": {
      "text/plain": [
       "['apple', 'mango', 'pineapple', 'orange', 'carrot']"
      ]
     },
     "execution_count": 171,
     "metadata": {},
     "output_type": "execute_result"
    }
   ],
   "source": [
    "newlist2"
   ]
  },
  {
   "cell_type": "code",
   "execution_count": 172,
   "id": "249b8d48",
   "metadata": {},
   "outputs": [
    {
     "data": {
      "text/plain": [
       "['apple', 'mango', 'pineapple', 'orange', 'carrot', 45]"
      ]
     },
     "execution_count": 172,
     "metadata": {},
     "output_type": "execute_result"
    }
   ],
   "source": [
    "contentList"
   ]
  },
  {
   "cell_type": "code",
   "execution_count": 174,
   "id": "d6d8bd1c",
   "metadata": {},
   "outputs": [],
   "source": [
    "emptyList.extend(newlist2)"
   ]
  },
  {
   "cell_type": "code",
   "execution_count": 175,
   "id": "0c4a6728",
   "metadata": {},
   "outputs": [
    {
     "data": {
      "text/plain": [
       "['new', 'apple', 'mango', 'pineapple', 'orange', 'carrot']"
      ]
     },
     "execution_count": 175,
     "metadata": {},
     "output_type": "execute_result"
    }
   ],
   "source": [
    "emptyList"
   ]
  },
  {
   "cell_type": "code",
   "execution_count": 176,
   "id": "d74ea416",
   "metadata": {},
   "outputs": [
    {
     "data": {
      "text/plain": [
       "['carrot', 'orange', 'pineapple', 'mango', 'apple', 'new']"
      ]
     },
     "execution_count": 176,
     "metadata": {},
     "output_type": "execute_result"
    }
   ],
   "source": [
    "emptyList[::-1]"
   ]
  },
  {
   "cell_type": "code",
   "execution_count": 179,
   "id": "1a8fac9e",
   "metadata": {},
   "outputs": [],
   "source": [
    "emptyList.reverse()"
   ]
  },
  {
   "cell_type": "code",
   "execution_count": 180,
   "id": "aa52de73",
   "metadata": {},
   "outputs": [
    {
     "data": {
      "text/plain": [
       "['new', 'apple', 'mango', 'pineapple', 'orange', 'carrot']"
      ]
     },
     "execution_count": 180,
     "metadata": {},
     "output_type": "execute_result"
    }
   ],
   "source": [
    "emptyList"
   ]
  },
  {
   "cell_type": "code",
   "execution_count": 182,
   "id": "d506c970",
   "metadata": {},
   "outputs": [
    {
     "ename": "TypeError",
     "evalue": "'<' not supported between instances of 'int' and 'str'",
     "output_type": "error",
     "traceback": [
      "\u001b[0;31m---------------------------------------------------------------------------\u001b[0m",
      "\u001b[0;31mTypeError\u001b[0m                                 Traceback (most recent call last)",
      "Cell \u001b[0;32mIn[182], line 1\u001b[0m\n\u001b[0;32m----> 1\u001b[0m \u001b[43mcontentList\u001b[49m\u001b[38;5;241;43m.\u001b[39;49m\u001b[43msort\u001b[49m\u001b[43m(\u001b[49m\u001b[43m)\u001b[49m\n",
      "\u001b[0;31mTypeError\u001b[0m: '<' not supported between instances of 'int' and 'str'"
     ]
    }
   ],
   "source": [
    "contentList.sort()"
   ]
  },
  {
   "cell_type": "code",
   "execution_count": 183,
   "id": "d27a7869",
   "metadata": {},
   "outputs": [],
   "source": [
    "emptyList.sort()"
   ]
  },
  {
   "cell_type": "code",
   "execution_count": 185,
   "id": "30bdf619",
   "metadata": {},
   "outputs": [],
   "source": [
    "emptyList.sort(reverse=True)"
   ]
  },
  {
   "cell_type": "code",
   "execution_count": 186,
   "id": "a83e6426",
   "metadata": {},
   "outputs": [
    {
     "data": {
      "text/plain": [
       "['pineapple', 'orange', 'new', 'mango', 'carrot', 'apple']"
      ]
     },
     "execution_count": 186,
     "metadata": {},
     "output_type": "execute_result"
    }
   ],
   "source": [
    "emptyList"
   ]
  },
  {
   "cell_type": "markdown",
   "id": "1d125472",
   "metadata": {},
   "source": [
    "### Tuples"
   ]
  },
  {
   "cell_type": "code",
   "execution_count": 187,
   "id": "1f4e1d82",
   "metadata": {},
   "outputs": [],
   "source": [
    "emptyTuple = ()"
   ]
  },
  {
   "cell_type": "code",
   "execution_count": 188,
   "id": "caf421d2",
   "metadata": {},
   "outputs": [],
   "source": [
    "contentTuple = ('pineapple', 'orange', 'new', 'mango', 'carrot', 'apple')"
   ]
  },
  {
   "cell_type": "code",
   "execution_count": 189,
   "id": "3f2a855b",
   "metadata": {},
   "outputs": [
    {
     "data": {
      "text/plain": [
       "('mango', 'carrot', 'apple')"
      ]
     },
     "execution_count": 189,
     "metadata": {},
     "output_type": "execute_result"
    }
   ],
   "source": [
    "contentTuple[3:]"
   ]
  },
  {
   "cell_type": "code",
   "execution_count": 190,
   "id": "e426c1dd",
   "metadata": {},
   "outputs": [
    {
     "data": {
      "text/plain": [
       "('mango', 'carrot', 'apple')"
      ]
     },
     "execution_count": 190,
     "metadata": {},
     "output_type": "execute_result"
    }
   ],
   "source": [
    "contentTuple[3:7]"
   ]
  },
  {
   "cell_type": "code",
   "execution_count": 192,
   "id": "5b21b614",
   "metadata": {},
   "outputs": [
    {
     "ename": "TypeError",
     "evalue": "'tuple' object does not support item assignment",
     "output_type": "error",
     "traceback": [
      "\u001b[0;31m---------------------------------------------------------------------------\u001b[0m",
      "\u001b[0;31mTypeError\u001b[0m                                 Traceback (most recent call last)",
      "Cell \u001b[0;32mIn[192], line 1\u001b[0m\n\u001b[0;32m----> 1\u001b[0m \u001b[43mcontentTuple\u001b[49m\u001b[43m[\u001b[49m\u001b[38;5;241;43m4\u001b[39;49m\u001b[43m]\u001b[49m \u001b[38;5;241m=\u001b[39m \u001b[38;5;124m\"\u001b[39m\u001b[38;5;124mbeetroot\u001b[39m\u001b[38;5;124m\"\u001b[39m\n",
      "\u001b[0;31mTypeError\u001b[0m: 'tuple' object does not support item assignment"
     ]
    }
   ],
   "source": [
    "contentTuple[4] = \"beetroot\""
   ]
  },
  {
   "cell_type": "code",
   "execution_count": 193,
   "id": "2f321ac3",
   "metadata": {},
   "outputs": [
    {
     "ename": "TypeError",
     "evalue": "'tuple' object doesn't support item deletion",
     "output_type": "error",
     "traceback": [
      "\u001b[0;31m---------------------------------------------------------------------------\u001b[0m",
      "\u001b[0;31mTypeError\u001b[0m                                 Traceback (most recent call last)",
      "Cell \u001b[0;32mIn[193], line 1\u001b[0m\n\u001b[0;32m----> 1\u001b[0m \u001b[38;5;28;01mdel\u001b[39;00m contentTuple[\u001b[38;5;241m4\u001b[39m]\n",
      "\u001b[0;31mTypeError\u001b[0m: 'tuple' object doesn't support item deletion"
     ]
    }
   ],
   "source": [
    "del contentTuple[4]"
   ]
  },
  {
   "cell_type": "code",
   "execution_count": 194,
   "id": "a4f9c3ae",
   "metadata": {},
   "outputs": [],
   "source": [
    "a,b,c = (3,6,9)"
   ]
  },
  {
   "cell_type": "code",
   "execution_count": 196,
   "id": "0a326a85",
   "metadata": {},
   "outputs": [
    {
     "data": {
      "text/plain": [
       "3"
      ]
     },
     "execution_count": 196,
     "metadata": {},
     "output_type": "execute_result"
    }
   ],
   "source": [
    "a"
   ]
  },
  {
   "cell_type": "markdown",
   "id": "e511565d",
   "metadata": {},
   "source": [
    "### Dictionary"
   ]
  },
  {
   "cell_type": "code",
   "execution_count": 197,
   "id": "060dc200",
   "metadata": {},
   "outputs": [],
   "source": [
    "emptyDict = {}"
   ]
  },
  {
   "cell_type": "code",
   "execution_count": 198,
   "id": "07be3e97",
   "metadata": {},
   "outputs": [],
   "source": [
    "contentDict = {\n",
    "    \"a\": \"apple\",\n",
    "    \"b\": \"banana\",\n",
    "    12: \"carrot\",\n",
    "    4.5: \"papaya\",\n",
    "    \"tuple\": contentTuple,\n",
    "    \"list\": contentList\n",
    "    \n",
    "}"
   ]
  },
  {
   "cell_type": "code",
   "execution_count": 199,
   "id": "90c686fc",
   "metadata": {},
   "outputs": [
    {
     "data": {
      "text/plain": [
       "{'a': 'apple',\n",
       " 'b': 'banana',\n",
       " 12: 'carrot',\n",
       " 4.5: 'papaya',\n",
       " 'tuple': ('pineapple', 'orange', 'new', 'mango', 'carrot', 'apple'),\n",
       " 'list': ['apple', 'carrot', 'mango', 'orange', 'pineapple', 45]}"
      ]
     },
     "execution_count": 199,
     "metadata": {},
     "output_type": "execute_result"
    }
   ],
   "source": [
    "contentDict"
   ]
  },
  {
   "cell_type": "code",
   "execution_count": 200,
   "id": "8047e515",
   "metadata": {},
   "outputs": [
    {
     "data": {
      "text/plain": [
       "'banana'"
      ]
     },
     "execution_count": 200,
     "metadata": {},
     "output_type": "execute_result"
    }
   ],
   "source": [
    "contentDict['b']"
   ]
  },
  {
   "cell_type": "code",
   "execution_count": 201,
   "id": "311dc048",
   "metadata": {},
   "outputs": [],
   "source": [
    "contentDict['b'] = \"bat\""
   ]
  },
  {
   "cell_type": "code",
   "execution_count": 202,
   "id": "4ea1272e",
   "metadata": {},
   "outputs": [
    {
     "data": {
      "text/plain": [
       "{'a': 'apple',\n",
       " 'b': 'bat',\n",
       " 12: 'carrot',\n",
       " 4.5: 'papaya',\n",
       " 'tuple': ('pineapple', 'orange', 'new', 'mango', 'carrot', 'apple'),\n",
       " 'list': ['apple', 'carrot', 'mango', 'orange', 'pineapple', 45]}"
      ]
     },
     "execution_count": 202,
     "metadata": {},
     "output_type": "execute_result"
    }
   ],
   "source": [
    "contentDict"
   ]
  },
  {
   "cell_type": "code",
   "execution_count": 203,
   "id": "b779419a",
   "metadata": {},
   "outputs": [],
   "source": [
    "del contentDict['b']"
   ]
  },
  {
   "cell_type": "code",
   "execution_count": 204,
   "id": "2b75aac0",
   "metadata": {},
   "outputs": [
    {
     "data": {
      "text/plain": [
       "{'a': 'apple',\n",
       " 12: 'carrot',\n",
       " 4.5: 'papaya',\n",
       " 'tuple': ('pineapple', 'orange', 'new', 'mango', 'carrot', 'apple'),\n",
       " 'list': ['apple', 'carrot', 'mango', 'orange', 'pineapple', 45]}"
      ]
     },
     "execution_count": 204,
     "metadata": {},
     "output_type": "execute_result"
    }
   ],
   "source": [
    "contentDict"
   ]
  },
  {
   "cell_type": "code",
   "execution_count": 205,
   "id": "628afd2e",
   "metadata": {},
   "outputs": [],
   "source": [
    "contentDict['b'] = \"banana\""
   ]
  },
  {
   "cell_type": "code",
   "execution_count": 206,
   "id": "2ebb9c3c",
   "metadata": {},
   "outputs": [
    {
     "data": {
      "text/plain": [
       "'banana'"
      ]
     },
     "execution_count": 206,
     "metadata": {},
     "output_type": "execute_result"
    }
   ],
   "source": [
    "contentDict['b']"
   ]
  },
  {
   "cell_type": "code",
   "execution_count": 207,
   "id": "22789fc0",
   "metadata": {},
   "outputs": [
    {
     "data": {
      "text/plain": [
       "{'a': 'apple',\n",
       " 12: 'carrot',\n",
       " 4.5: 'papaya',\n",
       " 'tuple': ('pineapple', 'orange', 'new', 'mango', 'carrot', 'apple'),\n",
       " 'list': ['apple', 'carrot', 'mango', 'orange', 'pineapple', 45],\n",
       " 'b': 'banana'}"
      ]
     },
     "execution_count": 207,
     "metadata": {},
     "output_type": "execute_result"
    }
   ],
   "source": [
    "contentDict"
   ]
  },
  {
   "cell_type": "markdown",
   "id": "d96c47e4",
   "metadata": {},
   "source": [
    "#### Dictionary methods"
   ]
  },
  {
   "cell_type": "code",
   "execution_count": 208,
   "id": "cbd4d470",
   "metadata": {},
   "outputs": [
    {
     "data": {
      "text/plain": [
       "dict_keys(['a', 12, 4.5, 'tuple', 'list', 'b'])"
      ]
     },
     "execution_count": 208,
     "metadata": {},
     "output_type": "execute_result"
    }
   ],
   "source": [
    "contentDict.keys()"
   ]
  },
  {
   "cell_type": "code",
   "execution_count": 209,
   "id": "90378f67",
   "metadata": {},
   "outputs": [
    {
     "data": {
      "text/plain": [
       "dict_values(['apple', 'carrot', 'papaya', ('pineapple', 'orange', 'new', 'mango', 'carrot', 'apple'), ['apple', 'carrot', 'mango', 'orange', 'pineapple', 45], 'banana'])"
      ]
     },
     "execution_count": 209,
     "metadata": {},
     "output_type": "execute_result"
    }
   ],
   "source": [
    "contentDict.values()"
   ]
  },
  {
   "cell_type": "code",
   "execution_count": 210,
   "id": "c274167e",
   "metadata": {},
   "outputs": [
    {
     "data": {
      "text/plain": [
       "dict_items([('a', 'apple'), (12, 'carrot'), (4.5, 'papaya'), ('tuple', ('pineapple', 'orange', 'new', 'mango', 'carrot', 'apple')), ('list', ['apple', 'carrot', 'mango', 'orange', 'pineapple', 45]), ('b', 'banana')])"
      ]
     },
     "execution_count": 210,
     "metadata": {},
     "output_type": "execute_result"
    }
   ],
   "source": [
    "contentDict.items()"
   ]
  },
  {
   "cell_type": "code",
   "execution_count": 211,
   "id": "840a533e",
   "metadata": {},
   "outputs": [
    {
     "data": {
      "text/plain": [
       "'banana'"
      ]
     },
     "execution_count": 211,
     "metadata": {},
     "output_type": "execute_result"
    }
   ],
   "source": [
    "contentDict.pop(\"b\")"
   ]
  },
  {
   "cell_type": "code",
   "execution_count": 212,
   "id": "2b5d3419",
   "metadata": {},
   "outputs": [
    {
     "data": {
      "text/plain": [
       "{'a': 'apple',\n",
       " 12: 'carrot',\n",
       " 4.5: 'papaya',\n",
       " 'tuple': ('pineapple', 'orange', 'new', 'mango', 'carrot', 'apple'),\n",
       " 'list': ['apple', 'carrot', 'mango', 'orange', 'pineapple', 45]}"
      ]
     },
     "execution_count": 212,
     "metadata": {},
     "output_type": "execute_result"
    }
   ],
   "source": [
    "contentDict"
   ]
  },
  {
   "cell_type": "code",
   "execution_count": 213,
   "id": "85b696d8",
   "metadata": {},
   "outputs": [
    {
     "data": {
      "text/plain": [
       "('list', ['apple', 'carrot', 'mango', 'orange', 'pineapple', 45])"
      ]
     },
     "execution_count": 213,
     "metadata": {},
     "output_type": "execute_result"
    }
   ],
   "source": [
    "contentDict.popitem()"
   ]
  },
  {
   "cell_type": "code",
   "execution_count": 215,
   "id": "1840c612",
   "metadata": {},
   "outputs": [],
   "source": [
    "emptyDict.update(contentDict)"
   ]
  },
  {
   "cell_type": "code",
   "execution_count": 216,
   "id": "f720e949",
   "metadata": {},
   "outputs": [
    {
     "data": {
      "text/plain": [
       "{'a': 'apple',\n",
       " 12: 'carrot',\n",
       " 4.5: 'papaya',\n",
       " 'tuple': ('pineapple', 'orange', 'new', 'mango', 'carrot', 'apple')}"
      ]
     },
     "execution_count": 216,
     "metadata": {},
     "output_type": "execute_result"
    }
   ],
   "source": [
    "emptyDict"
   ]
  },
  {
   "cell_type": "markdown",
   "id": "5bad933a",
   "metadata": {},
   "source": [
    "### looping over data structures"
   ]
  },
  {
   "cell_type": "code",
   "execution_count": 217,
   "id": "610771ef",
   "metadata": {},
   "outputs": [
    {
     "name": "stdout",
     "output_type": "stream",
     "text": [
      "apple\n",
      "carrot\n",
      "mango\n",
      "orange\n",
      "pineapple\n",
      "45\n"
     ]
    }
   ],
   "source": [
    "for ele in contentList:\n",
    "    print(ele)"
   ]
  },
  {
   "cell_type": "code",
   "execution_count": 218,
   "id": "160a82e0",
   "metadata": {},
   "outputs": [
    {
     "name": "stdout",
     "output_type": "stream",
     "text": [
      "apple apple\n",
      "carrot mango\n",
      "mango pineapple\n",
      "orange orange\n",
      "pineapple carrot\n"
     ]
    }
   ],
   "source": [
    "for ele1,ele2 in zip(contentList, newlist2):\n",
    "    print(ele1, ele2)"
   ]
  },
  {
   "cell_type": "code",
   "execution_count": 219,
   "id": "518f8ef0",
   "metadata": {},
   "outputs": [
    {
     "name": "stdout",
     "output_type": "stream",
     "text": [
      "pineapple\n",
      "orange\n",
      "new\n",
      "mango\n",
      "carrot\n",
      "apple\n"
     ]
    }
   ],
   "source": [
    "for ele in contentTuple:\n",
    "    print(ele)"
   ]
  },
  {
   "cell_type": "code",
   "execution_count": 222,
   "id": "97cbaa8f",
   "metadata": {},
   "outputs": [
    {
     "name": "stdout",
     "output_type": "stream",
     "text": [
      "a\n",
      "12\n",
      "4.5\n",
      "tuple\n"
     ]
    }
   ],
   "source": [
    "for ele in contentDict:\n",
    "    print(ele)"
   ]
  },
  {
   "cell_type": "code",
   "execution_count": 221,
   "id": "6da09501",
   "metadata": {},
   "outputs": [
    {
     "name": "stdout",
     "output_type": "stream",
     "text": [
      "apple\n",
      "carrot\n",
      "papaya\n",
      "('pineapple', 'orange', 'new', 'mango', 'carrot', 'apple')\n"
     ]
    }
   ],
   "source": [
    "for ele in contentDict.values():\n",
    "    print(ele)"
   ]
  },
  {
   "cell_type": "code",
   "execution_count": 224,
   "id": "263f3abd",
   "metadata": {},
   "outputs": [
    {
     "name": "stdout",
     "output_type": "stream",
     "text": [
      "a --> apple\n",
      "12 --> carrot\n",
      "4.5 --> papaya\n",
      "tuple --> ('pineapple', 'orange', 'new', 'mango', 'carrot', 'apple')\n"
     ]
    }
   ],
   "source": [
    "for k,v in contentDict.items():\n",
    "    print(k,\"-->\", v)"
   ]
  },
  {
   "cell_type": "code",
   "execution_count": 225,
   "id": "d3088e9c",
   "metadata": {},
   "outputs": [
    {
     "name": "stdout",
     "output_type": "stream",
     "text": [
      "apple\n",
      "carrot\n",
      "mango\n",
      "orange\n",
      "pineapple\n",
      "45\n"
     ]
    }
   ],
   "source": [
    "for i in range(len(contentList)):\n",
    "    print(contentList[i])"
   ]
  },
  {
   "cell_type": "markdown",
   "id": "1a47a236",
   "metadata": {},
   "source": [
    "#### Example of Dictionary and list looping"
   ]
  },
  {
   "cell_type": "code",
   "execution_count": 226,
   "id": "61ecd0ae",
   "metadata": {},
   "outputs": [],
   "source": [
    "students = [\n",
    "    {\n",
    "        \"name\": \"Alice Johnson\",\n",
    "        \"age\": 14,\n",
    "        \"subjects\": {\n",
    "            \"Math\": 85,\n",
    "            \"Science\": 90,\n",
    "            \"English\": 88\n",
    "        }\n",
    "    },\n",
    "    {\n",
    "        \"name\": \"Bob Smith\",\n",
    "        \"age\": 15,\n",
    "        \"subjects\": {\n",
    "            \"Math\": 78,\n",
    "            \"Science\": 83,\n",
    "            \"English\": 75\n",
    "        }\n",
    "    },\n",
    "    {\n",
    "        \"name\": \"Charlie Brown\",\n",
    "        \"age\": 14,\n",
    "        \"subjects\": {\n",
    "            \"Math\": 92,\n",
    "            \"Science\": 89,\n",
    "            \"English\": 94\n",
    "        }\n",
    "    },\n",
    "    {\n",
    "        \"name\": \"David Wilson\",\n",
    "        \"age\": 15,\n",
    "        \"subjects\": {\n",
    "            \"Math\": 74,\n",
    "            \"Science\": 80,\n",
    "            \"English\": 72\n",
    "        }\n",
    "    },\n",
    "    {\n",
    "        \"name\": \"Emma Davis\",\n",
    "        \"age\": 14,\n",
    "        \"subjects\": {\n",
    "            \"Math\": 88,\n",
    "            \"Science\": 92,\n",
    "            \"English\": 91\n",
    "        }\n",
    "    }\n",
    "]\n"
   ]
  },
  {
   "cell_type": "code",
   "execution_count": 229,
   "id": "7c0211f9",
   "metadata": {},
   "outputs": [
    {
     "data": {
      "text/plain": [
       "85"
      ]
     },
     "execution_count": 229,
     "metadata": {},
     "output_type": "execute_result"
    }
   ],
   "source": [
    "students[0]['subjects']['Math']"
   ]
  },
  {
   "cell_type": "code",
   "execution_count": 232,
   "id": "a014c865",
   "metadata": {},
   "outputs": [
    {
     "data": {
      "text/plain": [
       "263"
      ]
     },
     "execution_count": 232,
     "metadata": {},
     "output_type": "execute_result"
    }
   ],
   "source": [
    "sum(students[0]['subjects'].values())"
   ]
  },
  {
   "cell_type": "code",
   "execution_count": 237,
   "id": "06dd9ee0",
   "metadata": {},
   "outputs": [
    {
     "name": "stdout",
     "output_type": "stream",
     "text": [
      "Student Name is Alice Johnson and the math mark is 85\n",
      "And the total mark is 263\n",
      "\n",
      "Student Name is Charlie Brown and the math mark is 92\n",
      "And the total mark is 275\n",
      "\n",
      "Student Name is Emma Davis and the math mark is 88\n",
      "And the total mark is 271\n",
      "\n"
     ]
    }
   ],
   "source": [
    "for obj in students:\n",
    "    if obj['subjects']['Math'] >= 85:\n",
    "        print(f\"Student Name is {obj['name']} and the math mark is {obj['subjects']['Math']}\")\n",
    "        print(f\"And the total mark is {sum(obj['subjects'].values())}\")\n",
    "        print()\n",
    "                                           "
   ]
  },
  {
   "cell_type": "code",
   "execution_count": 238,
   "id": "65d43c42",
   "metadata": {},
   "outputs": [
    {
     "name": "stdout",
     "output_type": "stream",
     "text": [
      "Student Name is Alice Johnson and the math mark is 85\n",
      "And the total mark is 263\n",
      "\n",
      "Student Name is Charlie Brown and the math mark is 92\n",
      "And the total mark is 275\n",
      "\n",
      "Student Name is Emma Davis and the math mark is 88\n",
      "And the total mark is 271\n",
      "\n"
     ]
    }
   ],
   "source": [
    "for obj in students:\n",
    "    if obj['subjects']['Math'] >= 85:\n",
    "        print(f\"Student Name is {obj['name']} and the math mark is {obj['subjects']['Math']}\")\n",
    "        print(f\"And the total mark is {sum(obj['subjects'].values())}\")\n",
    "        obj['Total'] = sum(obj['subjects'].values())\n",
    "        print()\n",
    "                                           "
   ]
  },
  {
   "cell_type": "code",
   "execution_count": 239,
   "id": "edcc1656",
   "metadata": {},
   "outputs": [
    {
     "data": {
      "text/plain": [
       "[{'name': 'Alice Johnson',\n",
       "  'age': 14,\n",
       "  'subjects': {'Math': 85, 'Science': 90, 'English': 88},\n",
       "  'Total': 263},\n",
       " {'name': 'Bob Smith',\n",
       "  'age': 15,\n",
       "  'subjects': {'Math': 78, 'Science': 83, 'English': 75}},\n",
       " {'name': 'Charlie Brown',\n",
       "  'age': 14,\n",
       "  'subjects': {'Math': 92, 'Science': 89, 'English': 94},\n",
       "  'Total': 275},\n",
       " {'name': 'David Wilson',\n",
       "  'age': 15,\n",
       "  'subjects': {'Math': 74, 'Science': 80, 'English': 72}},\n",
       " {'name': 'Emma Davis',\n",
       "  'age': 14,\n",
       "  'subjects': {'Math': 88, 'Science': 92, 'English': 91},\n",
       "  'Total': 271}]"
      ]
     },
     "execution_count": 239,
     "metadata": {},
     "output_type": "execute_result"
    }
   ],
   "source": [
    "students"
   ]
  },
  {
   "cell_type": "markdown",
   "id": "3b7da4e1",
   "metadata": {},
   "source": [
    "### Sets"
   ]
  },
  {
   "cell_type": "code",
   "execution_count": 240,
   "id": "813c07ed",
   "metadata": {},
   "outputs": [],
   "source": [
    "fruits = {\"apple\", \"banana\", \"pineapple\"}"
   ]
  },
  {
   "cell_type": "code",
   "execution_count": 241,
   "id": "d0806f96",
   "metadata": {},
   "outputs": [
    {
     "name": "stdout",
     "output_type": "stream",
     "text": [
      "{'apple', 'banana', 'pineapple'}\n"
     ]
    }
   ],
   "source": [
    "print(fruits)"
   ]
  },
  {
   "cell_type": "code",
   "execution_count": 242,
   "id": "27712ac0",
   "metadata": {},
   "outputs": [
    {
     "data": {
      "text/plain": [
       "{1, 2, 3, 4, 5}"
      ]
     },
     "execution_count": 242,
     "metadata": {},
     "output_type": "execute_result"
    }
   ],
   "source": [
    "set([1,2,2,3,4,4,5])"
   ]
  },
  {
   "cell_type": "code",
   "execution_count": 244,
   "id": "4ecd26c5",
   "metadata": {},
   "outputs": [],
   "source": [
    "emptySet = set()"
   ]
  },
  {
   "cell_type": "code",
   "execution_count": 245,
   "id": "73a31288",
   "metadata": {},
   "outputs": [],
   "source": [
    "fruits.add(\"orange\")"
   ]
  },
  {
   "cell_type": "code",
   "execution_count": 246,
   "id": "8b8c7198",
   "metadata": {},
   "outputs": [],
   "source": [
    "fruits.update([\"kiwi\", ])"
   ]
  },
  {
   "cell_type": "code",
   "execution_count": 247,
   "id": "35a8c7db",
   "metadata": {},
   "outputs": [
    {
     "data": {
      "text/plain": [
       "{'apple', 'banana', 'kiwi', 'orange', 'pineapple'}"
      ]
     },
     "execution_count": 247,
     "metadata": {},
     "output_type": "execute_result"
    }
   ],
   "source": [
    "fruits"
   ]
  },
  {
   "cell_type": "code",
   "execution_count": 248,
   "id": "645f6995",
   "metadata": {},
   "outputs": [],
   "source": [
    "fruits.remove('banana')"
   ]
  },
  {
   "cell_type": "code",
   "execution_count": 249,
   "id": "189fa68c",
   "metadata": {},
   "outputs": [
    {
     "data": {
      "text/plain": [
       "{'apple', 'kiwi', 'orange', 'pineapple'}"
      ]
     },
     "execution_count": 249,
     "metadata": {},
     "output_type": "execute_result"
    }
   ],
   "source": [
    "fruits"
   ]
  },
  {
   "cell_type": "code",
   "execution_count": 250,
   "id": "fd730662",
   "metadata": {},
   "outputs": [
    {
     "ename": "KeyError",
     "evalue": "'banana'",
     "output_type": "error",
     "traceback": [
      "\u001b[0;31m---------------------------------------------------------------------------\u001b[0m",
      "\u001b[0;31mKeyError\u001b[0m                                  Traceback (most recent call last)",
      "Cell \u001b[0;32mIn[250], line 1\u001b[0m\n\u001b[0;32m----> 1\u001b[0m \u001b[43mfruits\u001b[49m\u001b[38;5;241;43m.\u001b[39;49m\u001b[43mremove\u001b[49m\u001b[43m(\u001b[49m\u001b[38;5;124;43m'\u001b[39;49m\u001b[38;5;124;43mbanana\u001b[39;49m\u001b[38;5;124;43m'\u001b[39;49m\u001b[43m)\u001b[49m\n",
      "\u001b[0;31mKeyError\u001b[0m: 'banana'"
     ]
    }
   ],
   "source": [
    "fruits.remove('banana')"
   ]
  },
  {
   "cell_type": "code",
   "execution_count": 251,
   "id": "526efa89",
   "metadata": {},
   "outputs": [],
   "source": [
    "fruits.discard('banana')"
   ]
  },
  {
   "cell_type": "code",
   "execution_count": 252,
   "id": "65bf52c4",
   "metadata": {},
   "outputs": [],
   "source": [
    "fruits.discard('kiwi')"
   ]
  },
  {
   "cell_type": "code",
   "execution_count": 254,
   "id": "a07a2124",
   "metadata": {},
   "outputs": [],
   "source": [
    "fruits.update([\"kiwi\", 'banana', 'mango'])"
   ]
  },
  {
   "cell_type": "code",
   "execution_count": 257,
   "id": "39dc5c6b",
   "metadata": {},
   "outputs": [
    {
     "data": {
      "text/plain": [
       "'kiwi'"
      ]
     },
     "execution_count": 257,
     "metadata": {},
     "output_type": "execute_result"
    }
   ],
   "source": [
    "fruits.pop()"
   ]
  },
  {
   "cell_type": "code",
   "execution_count": 258,
   "id": "82f9f101",
   "metadata": {},
   "outputs": [],
   "source": [
    "# union\n",
    "a = {1,2,3}\n",
    "b = {3,4,5}"
   ]
  },
  {
   "cell_type": "code",
   "execution_count": 259,
   "id": "58ee377c",
   "metadata": {},
   "outputs": [
    {
     "data": {
      "text/plain": [
       "{1, 2, 3, 4, 5}"
      ]
     },
     "execution_count": 259,
     "metadata": {},
     "output_type": "execute_result"
    }
   ],
   "source": [
    "a.union(b)"
   ]
  },
  {
   "cell_type": "code",
   "execution_count": 260,
   "id": "a356dddf",
   "metadata": {},
   "outputs": [
    {
     "data": {
      "text/plain": [
       "{1, 2, 3, 4, 5}"
      ]
     },
     "execution_count": 260,
     "metadata": {},
     "output_type": "execute_result"
    }
   ],
   "source": [
    "a | b"
   ]
  },
  {
   "cell_type": "code",
   "execution_count": 261,
   "id": "eec51f47",
   "metadata": {},
   "outputs": [
    {
     "data": {
      "text/plain": [
       "{3}"
      ]
     },
     "execution_count": 261,
     "metadata": {},
     "output_type": "execute_result"
    }
   ],
   "source": [
    "# intersection\n",
    "a.intersection(b)"
   ]
  },
  {
   "cell_type": "code",
   "execution_count": 262,
   "id": "7bcbd411",
   "metadata": {},
   "outputs": [
    {
     "data": {
      "text/plain": [
       "{3}"
      ]
     },
     "execution_count": 262,
     "metadata": {},
     "output_type": "execute_result"
    }
   ],
   "source": [
    "a & b"
   ]
  },
  {
   "cell_type": "code",
   "execution_count": 263,
   "id": "e02004af",
   "metadata": {},
   "outputs": [
    {
     "data": {
      "text/plain": [
       "{1, 2}"
      ]
     },
     "execution_count": 263,
     "metadata": {},
     "output_type": "execute_result"
    }
   ],
   "source": [
    "# difference\n",
    "a.difference(b)"
   ]
  },
  {
   "cell_type": "code",
   "execution_count": 264,
   "id": "a5bf284d",
   "metadata": {},
   "outputs": [
    {
     "data": {
      "text/plain": [
       "{4, 5}"
      ]
     },
     "execution_count": 264,
     "metadata": {},
     "output_type": "execute_result"
    }
   ],
   "source": [
    "b.difference(a)"
   ]
  },
  {
   "cell_type": "code",
   "execution_count": 265,
   "id": "25f0316b",
   "metadata": {},
   "outputs": [
    {
     "data": {
      "text/plain": [
       "{1, 2}"
      ]
     },
     "execution_count": 265,
     "metadata": {},
     "output_type": "execute_result"
    }
   ],
   "source": [
    "a - b"
   ]
  },
  {
   "cell_type": "code",
   "execution_count": 266,
   "id": "71a53eec",
   "metadata": {},
   "outputs": [
    {
     "data": {
      "text/plain": [
       "{4, 5}"
      ]
     },
     "execution_count": 266,
     "metadata": {},
     "output_type": "execute_result"
    }
   ],
   "source": [
    "b - a "
   ]
  },
  {
   "cell_type": "code",
   "execution_count": 267,
   "id": "6dac0e52",
   "metadata": {},
   "outputs": [
    {
     "data": {
      "text/plain": [
       "{1, 2, 4, 5}"
      ]
     },
     "execution_count": 267,
     "metadata": {},
     "output_type": "execute_result"
    }
   ],
   "source": [
    "a.symmetric_difference(b)"
   ]
  },
  {
   "cell_type": "code",
   "execution_count": 268,
   "id": "20a75b56",
   "metadata": {},
   "outputs": [
    {
     "data": {
      "text/plain": [
       "{1, 2, 4, 5}"
      ]
     },
     "execution_count": 268,
     "metadata": {},
     "output_type": "execute_result"
    }
   ],
   "source": [
    "a ^ b"
   ]
  },
  {
   "cell_type": "code",
   "execution_count": 269,
   "id": "00c63b95",
   "metadata": {},
   "outputs": [],
   "source": [
    "small = {1, 2}\n",
    "big = {1,2,3,4}"
   ]
  },
  {
   "cell_type": "code",
   "execution_count": 270,
   "id": "9282b651",
   "metadata": {},
   "outputs": [
    {
     "data": {
      "text/plain": [
       "True"
      ]
     },
     "execution_count": 270,
     "metadata": {},
     "output_type": "execute_result"
    }
   ],
   "source": [
    "small.issubset(big)"
   ]
  },
  {
   "cell_type": "code",
   "execution_count": 271,
   "id": "776032fd",
   "metadata": {},
   "outputs": [
    {
     "data": {
      "text/plain": [
       "True"
      ]
     },
     "execution_count": 271,
     "metadata": {},
     "output_type": "execute_result"
    }
   ],
   "source": [
    "big.issuperset(small)"
   ]
  },
  {
   "cell_type": "code",
   "execution_count": 272,
   "id": "88aca61f",
   "metadata": {},
   "outputs": [],
   "source": [
    "set1 = {1,2,3}\n",
    "set2 = {4,5,6}"
   ]
  },
  {
   "cell_type": "code",
   "execution_count": 273,
   "id": "ef8900f8",
   "metadata": {},
   "outputs": [
    {
     "data": {
      "text/plain": [
       "True"
      ]
     },
     "execution_count": 273,
     "metadata": {},
     "output_type": "execute_result"
    }
   ],
   "source": [
    "set1.isdisjoint(set2)"
   ]
  },
  {
   "cell_type": "code",
   "execution_count": 274,
   "id": "1e3f3bce",
   "metadata": {},
   "outputs": [
    {
     "data": {
      "text/plain": [
       "False"
      ]
     },
     "execution_count": 274,
     "metadata": {},
     "output_type": "execute_result"
    }
   ],
   "source": [
    "small.isdisjoint(big)"
   ]
  },
  {
   "cell_type": "code",
   "execution_count": 275,
   "id": "c6720dbb",
   "metadata": {},
   "outputs": [],
   "source": [
    "copySet = fruits.copy()"
   ]
  },
  {
   "cell_type": "code",
   "execution_count": 276,
   "id": "17a49165",
   "metadata": {},
   "outputs": [
    {
     "data": {
      "text/plain": [
       "{'apple', 'banana', 'mango', 'orange', 'pineapple'}"
      ]
     },
     "execution_count": 276,
     "metadata": {},
     "output_type": "execute_result"
    }
   ],
   "source": [
    "copySet"
   ]
  },
  {
   "cell_type": "code",
   "execution_count": 277,
   "id": "40658410",
   "metadata": {},
   "outputs": [],
   "source": [
    "copySet.clear()"
   ]
  },
  {
   "cell_type": "code",
   "execution_count": 278,
   "id": "cb0200c0",
   "metadata": {},
   "outputs": [
    {
     "data": {
      "text/plain": [
       "set()"
      ]
     },
     "execution_count": 278,
     "metadata": {},
     "output_type": "execute_result"
    }
   ],
   "source": [
    "copySet"
   ]
  },
  {
   "cell_type": "code",
   "execution_count": 279,
   "id": "b7859d41",
   "metadata": {},
   "outputs": [],
   "source": [
    "class_A = {\"Alice\", \"Bob\", \"Charlie\", \"David\"}\n",
    "class_B = {\"Charlie\", \"David\", \"Eve\", \"Frank\"}"
   ]
  },
  {
   "cell_type": "code",
   "execution_count": 281,
   "id": "76ded791",
   "metadata": {},
   "outputs": [
    {
     "data": {
      "text/plain": [
       "{'Charlie', 'David'}"
      ]
     },
     "execution_count": 281,
     "metadata": {},
     "output_type": "execute_result"
    }
   ],
   "source": [
    "# attending both the class\n",
    "class_A & class_B"
   ]
  },
  {
   "cell_type": "code",
   "execution_count": 282,
   "id": "001913bb",
   "metadata": {},
   "outputs": [
    {
     "data": {
      "text/plain": [
       "{'Charlie', 'David'}"
      ]
     },
     "execution_count": 282,
     "metadata": {},
     "output_type": "execute_result"
    }
   ],
   "source": [
    "class_A.intersection(class_B)"
   ]
  },
  {
   "cell_type": "code",
   "execution_count": 283,
   "id": "4f7d4de1",
   "metadata": {},
   "outputs": [
    {
     "data": {
      "text/plain": [
       "{'Alice', 'Bob', 'Eve', 'Frank'}"
      ]
     },
     "execution_count": 283,
     "metadata": {},
     "output_type": "execute_result"
    }
   ],
   "source": [
    "# attending one class\n",
    "class_A ^ class_B"
   ]
  },
  {
   "cell_type": "code",
   "execution_count": 284,
   "id": "e0b98e47",
   "metadata": {},
   "outputs": [
    {
     "data": {
      "text/plain": [
       "{'Alice', 'Bob', 'Eve', 'Frank'}"
      ]
     },
     "execution_count": 284,
     "metadata": {},
     "output_type": "execute_result"
    }
   ],
   "source": [
    "class_A.symmetric_difference( class_B)"
   ]
  },
  {
   "cell_type": "code",
   "execution_count": 285,
   "id": "b43e7453",
   "metadata": {},
   "outputs": [
    {
     "data": {
      "text/plain": [
       "{'Alice', 'Bob', 'Charlie', 'David', 'Eve', 'Frank'}"
      ]
     },
     "execution_count": 285,
     "metadata": {},
     "output_type": "execute_result"
    }
   ],
   "source": [
    "class_A | class_B"
   ]
  },
  {
   "cell_type": "code",
   "execution_count": 286,
   "id": "4c63aa9f",
   "metadata": {},
   "outputs": [
    {
     "data": {
      "text/plain": [
       "{'Alice', 'Bob', 'Charlie', 'David', 'Eve', 'Frank'}"
      ]
     },
     "execution_count": 286,
     "metadata": {},
     "output_type": "execute_result"
    }
   ],
   "source": [
    "class_B.union(class_A)"
   ]
  },
  {
   "cell_type": "markdown",
   "id": "a36f459e",
   "metadata": {},
   "source": [
    "### Example: Cows - Bulls"
   ]
  },
  {
   "cell_type": "markdown",
   "id": "e97e4cda",
   "metadata": {},
   "source": [
    "* The computer generates a random 3-digit number.\n",
    "* The player guesses a 3-digit number.\n",
    "* If the player guesses a digit that is correct and in the correct position, it's called a 'Cow.'\n",
    "* If the player guesses a digit that's in the number but in the wrong position, it's called a 'Bull.'\n",
    "* The goal is to guess the number correctly by receiving feedback about the number of 'Cows' and 'Bulls.'\""
   ]
  },
  {
   "cell_type": "code",
   "execution_count": 287,
   "id": "77c6d533",
   "metadata": {},
   "outputs": [],
   "source": [
    "import random as r"
   ]
  },
  {
   "cell_type": "code",
   "execution_count": 292,
   "id": "be199d54",
   "metadata": {},
   "outputs": [],
   "source": [
    "num = str(r.randint(100, 999))"
   ]
  },
  {
   "cell_type": "code",
   "execution_count": 294,
   "id": "0e769f76",
   "metadata": {},
   "outputs": [
    {
     "name": "stdout",
     "output_type": "stream",
     "text": [
      "145\n"
     ]
    }
   ],
   "source": [
    "print(num)"
   ]
  },
  {
   "cell_type": "code",
   "execution_count": null,
   "id": "411eb6e7",
   "metadata": {},
   "outputs": [],
   "source": [
    "user = input(\"Enter your guess: \")\n",
    "if user.lower() == \"quit\" or user.lower ==\"q\":\n",
    "    print('Good bye..,')\n",
    "    break"
   ]
  },
  {
   "cell_type": "code",
   "execution_count": null,
   "id": "2fce9e89",
   "metadata": {},
   "outputs": [],
   "source": [
    "if len(user) !=3 or not user.isdigit():\n",
    "    print('Invalid input! Please enter a 3-digit number.')\n",
    "    continue"
   ]
  },
  {
   "cell_type": "code",
   "execution_count": null,
   "id": "fefd50eb",
   "metadata": {},
   "outputs": [],
   "source": [
    "cow_bull = [0, 0]\n",
    "for i in range(len(num)):\n",
    "    if num[i] == user[i]:\n",
    "        cow_bull[0] += 1"
   ]
  },
  {
   "cell_type": "code",
   "execution_count": null,
   "id": "3592bbae",
   "metadata": {},
   "outputs": [],
   "source": [
    "for digit in user:\n",
    "    if digit in num:\n",
    "        cow_bull[1] += 1\n",
    "cow_bull[1] -= cow_bull[0]"
   ]
  },
  {
   "cell_type": "code",
   "execution_count": null,
   "id": "22abde66",
   "metadata": {},
   "outputs": [],
   "source": [
    "print(f'Cows: {cow_bull[0]}, Bulls: {cow_bull[1]}')"
   ]
  },
  {
   "cell_type": "code",
   "execution_count": null,
   "id": "b255b6e4",
   "metadata": {},
   "outputs": [],
   "source": [
    "attempt = 0\n",
    "attempt += 1 "
   ]
  },
  {
   "cell_type": "code",
   "execution_count": null,
   "id": "891f91aa",
   "metadata": {},
   "outputs": [],
   "source": [
    "if cow_bull[0] == 3:\n",
    "    print(f'You win after {attempt} attempts!')\n",
    "    break\n",
    "else:\n",
    "    print('Your guess isn’t quite right, try again.')\n"
   ]
  },
  {
   "cell_type": "code",
   "execution_count": 295,
   "id": "e086c191",
   "metadata": {},
   "outputs": [
    {
     "name": "stdout",
     "output_type": "stream",
     "text": [
      "Enter your guess: 789\n",
      "Cows: 0, Bulls: 0\n",
      "Your guess isn’t quite right, try again.\n",
      "Enter your guess: 781\n",
      "Cows: 0, Bulls: 1\n",
      "Your guess isn’t quite right, try again.\n",
      "Enter your guess: 751\n",
      "Cows: 0, Bulls: 2\n",
      "Your guess isn’t quite right, try again.\n",
      "Enter your guess: 451\n",
      "Cows: 0, Bulls: 3\n",
      "Your guess isn’t quite right, try again.\n",
      "Enter your guess: 149\n",
      "Cows: 2, Bulls: 0\n",
      "Your guess isn’t quite right, try again.\n",
      "Enter your guess: 194\n",
      "Cows: 1, Bulls: 1\n",
      "Your guess isn’t quite right, try again.\n",
      "Enter your guess: 1425\n",
      "Invalid input! Please enter a 3-digit number.\n",
      "Enter your guess: 145\n",
      "Cows: 3, Bulls: 0\n",
      "You win after 7 attempts!\n"
     ]
    }
   ],
   "source": [
    "attempt = 0\n",
    "while True:\n",
    "    user = input(\"Enter your guess: \")\n",
    "    if user.lower() == \"quit\" or user.lower ==\"q\":\n",
    "        print('Good bye..,')\n",
    "        break\n",
    "\n",
    "    if len(user) !=3 or not user.isdigit():\n",
    "        print('Invalid input! Please enter a 3-digit number.')\n",
    "        continue\n",
    "        \n",
    "    cow_bull = [0, 0]\n",
    "    # cow value calculation\n",
    "    for i in range(len(num)):\n",
    "        if num[i] == user[i]:\n",
    "            cow_bull[0] += 1\n",
    "                \n",
    "    # bull value calculation\n",
    "    for digit in user:\n",
    "        if digit in num:\n",
    "            cow_bull[1] += 1\n",
    "    cow_bull[1] -= cow_bull[0]\n",
    "\n",
    "    attempt += 1 \n",
    "    print(f'Cows: {cow_bull[0]}, Bulls: {cow_bull[1]}')\n",
    "    \n",
    "    if cow_bull[0] == 3:\n",
    "        print(f'You win after {attempt} attempts!')\n",
    "        break\n",
    "    else:\n",
    "        print('Your guess isn’t quite right, try again.')\n"
   ]
  },
  {
   "cell_type": "markdown",
   "id": "28942bf7",
   "metadata": {},
   "source": [
    "### Functions"
   ]
  },
  {
   "cell_type": "code",
   "execution_count": 42,
   "id": "425756a8",
   "metadata": {},
   "outputs": [],
   "source": [
    "def greet():\n",
    "    print(\"Hello, welcome to the python for AI/ML Course!!!\")"
   ]
  },
  {
   "cell_type": "code",
   "execution_count": 43,
   "id": "9d7d3682",
   "metadata": {},
   "outputs": [
    {
     "name": "stdout",
     "output_type": "stream",
     "text": [
      "Hello, welcome to the python for AI/ML Course!!!\n"
     ]
    }
   ],
   "source": [
    "greet()"
   ]
  },
  {
   "cell_type": "code",
   "execution_count": null,
   "id": "5e118c9f",
   "metadata": {},
   "outputs": [],
   "source": [
    "def function_name(parameters):\n",
    "    # code block\n",
    "    return result"
   ]
  },
  {
   "cell_type": "code",
   "execution_count": 44,
   "id": "8b373fd4",
   "metadata": {},
   "outputs": [],
   "source": [
    "def greet():\n",
    "    print(\"Hello, welcome to the python for AI/ML Course!!!\")"
   ]
  },
  {
   "cell_type": "code",
   "execution_count": 45,
   "id": "1558de7c",
   "metadata": {},
   "outputs": [
    {
     "name": "stdout",
     "output_type": "stream",
     "text": [
      "Hello, welcome to the python for AI/ML Course!!!\n"
     ]
    }
   ],
   "source": [
    "greet()"
   ]
  },
  {
   "cell_type": "code",
   "execution_count": 46,
   "id": "c14ca7c7",
   "metadata": {},
   "outputs": [],
   "source": [
    "def add_numbers(a,b):\n",
    "    return a+b"
   ]
  },
  {
   "cell_type": "code",
   "execution_count": 47,
   "id": "c7e1b14e",
   "metadata": {},
   "outputs": [
    {
     "data": {
      "text/plain": [
       "9"
      ]
     },
     "execution_count": 47,
     "metadata": {},
     "output_type": "execute_result"
    }
   ],
   "source": [
    "result = add_numbers(4,5)\n",
    "result"
   ]
  },
  {
   "cell_type": "code",
   "execution_count": 49,
   "id": "4ca5f14f",
   "metadata": {},
   "outputs": [],
   "source": [
    "def multiply_numbers(x,y):\n",
    "    return x*y"
   ]
  },
  {
   "cell_type": "code",
   "execution_count": 50,
   "id": "3257ed92",
   "metadata": {},
   "outputs": [
    {
     "data": {
      "text/plain": [
       "21"
      ]
     },
     "execution_count": 50,
     "metadata": {},
     "output_type": "execute_result"
    }
   ],
   "source": [
    "multiply_numbers(3,7)"
   ]
  },
  {
   "cell_type": "code",
   "execution_count": 51,
   "id": "5bbd496c",
   "metadata": {},
   "outputs": [],
   "source": [
    "def subtract_numbers(x, y):\n",
    "    return x - y"
   ]
  },
  {
   "cell_type": "code",
   "execution_count": 52,
   "id": "cec1ad9b",
   "metadata": {},
   "outputs": [
    {
     "data": {
      "text/plain": [
       "4"
      ]
     },
     "execution_count": 52,
     "metadata": {},
     "output_type": "execute_result"
    }
   ],
   "source": [
    "subtract_numbers(7,3)"
   ]
  },
  {
   "cell_type": "code",
   "execution_count": 53,
   "id": "40b1b92a",
   "metadata": {},
   "outputs": [
    {
     "data": {
      "text/plain": [
       "-4"
      ]
     },
     "execution_count": 53,
     "metadata": {},
     "output_type": "execute_result"
    }
   ],
   "source": [
    "subtract_numbers(3,7)"
   ]
  },
  {
   "cell_type": "code",
   "execution_count": 54,
   "id": "bfb7c25d",
   "metadata": {},
   "outputs": [],
   "source": [
    "def display(name, age, city):\n",
    "    print(f\"{name} is {age} years old and lives in {city}\")"
   ]
  },
  {
   "cell_type": "code",
   "execution_count": 55,
   "id": "e3c25164",
   "metadata": {},
   "outputs": [
    {
     "name": "stdout",
     "output_type": "stream",
     "text": [
      "John Doe is 30 years old and lives in Chennai\n"
     ]
    }
   ],
   "source": [
    "display(\"John Doe\", 30, \"Chennai\")"
   ]
  },
  {
   "cell_type": "code",
   "execution_count": 56,
   "id": "0b7b8872",
   "metadata": {},
   "outputs": [
    {
     "name": "stdout",
     "output_type": "stream",
     "text": [
      "John Doe is 30 years old and lives in Chennai\n"
     ]
    }
   ],
   "source": [
    "display(name=\"John Doe\", age=30, city=\"Chennai\")"
   ]
  },
  {
   "cell_type": "code",
   "execution_count": 57,
   "id": "97c9efbb",
   "metadata": {},
   "outputs": [
    {
     "name": "stdout",
     "output_type": "stream",
     "text": [
      "John Doe is 30 years old and lives in Chennai\n"
     ]
    }
   ],
   "source": [
    "display(city=\"Chennai\",name=\"John Doe\", age=30 )"
   ]
  },
  {
   "cell_type": "code",
   "execution_count": 58,
   "id": "1efda113",
   "metadata": {},
   "outputs": [],
   "source": [
    "def greet(name=\"Guest\"):\n",
    "    print(f\"hello {name}!!!!\")"
   ]
  },
  {
   "cell_type": "code",
   "execution_count": 59,
   "id": "df4e32a6",
   "metadata": {},
   "outputs": [
    {
     "name": "stdout",
     "output_type": "stream",
     "text": [
      "hello John Doe!!!!\n"
     ]
    }
   ],
   "source": [
    "greet(\"John Doe\")"
   ]
  },
  {
   "cell_type": "code",
   "execution_count": 60,
   "id": "33569e47",
   "metadata": {},
   "outputs": [
    {
     "name": "stdout",
     "output_type": "stream",
     "text": [
      "hello Guest!!!!\n"
     ]
    }
   ],
   "source": [
    "greet()"
   ]
  },
  {
   "cell_type": "code",
   "execution_count": 61,
   "id": "d4f235df",
   "metadata": {},
   "outputs": [],
   "source": [
    "def display(name, age=30, city=\"Chennai\"):\n",
    "    print(f\"{name} is {age} years old and lives in {city}\")"
   ]
  },
  {
   "cell_type": "code",
   "execution_count": 64,
   "id": "d3d89400",
   "metadata": {},
   "outputs": [
    {
     "name": "stdout",
     "output_type": "stream",
     "text": [
      "John Doe is 28 years old and lives in Mumbai\n"
     ]
    }
   ],
   "source": [
    "display(\"John Doe\", 28, \"Mumbai\")"
   ]
  },
  {
   "cell_type": "code",
   "execution_count": null,
   "id": "ab65bf7e",
   "metadata": {},
   "outputs": [],
   "source": [
    "*args, **kwargs"
   ]
  },
  {
   "cell_type": "code",
   "execution_count": 65,
   "id": "3b35f86f",
   "metadata": {},
   "outputs": [],
   "source": [
    "def print_numbers(*args):\n",
    "    for item in args:\n",
    "        print(item)"
   ]
  },
  {
   "cell_type": "code",
   "execution_count": 68,
   "id": "3f3da4b8",
   "metadata": {},
   "outputs": [
    {
     "name": "stdout",
     "output_type": "stream",
     "text": [
      "1\n"
     ]
    }
   ],
   "source": [
    "print_numbers(1)"
   ]
  },
  {
   "cell_type": "code",
   "execution_count": 69,
   "id": "ef0104a6",
   "metadata": {},
   "outputs": [
    {
     "name": "stdout",
     "output_type": "stream",
     "text": [
      "10\n",
      "20\n",
      "30\n"
     ]
    }
   ],
   "source": [
    "print_numbers(10, 20,30)"
   ]
  },
  {
   "cell_type": "code",
   "execution_count": 70,
   "id": "90e22154",
   "metadata": {},
   "outputs": [],
   "source": [
    "def sum_numbers(*args):\n",
    "    print(sum(args))"
   ]
  },
  {
   "cell_type": "code",
   "execution_count": 71,
   "id": "35738cf0",
   "metadata": {},
   "outputs": [
    {
     "name": "stdout",
     "output_type": "stream",
     "text": [
      "22\n"
     ]
    }
   ],
   "source": [
    "sum_numbers(10,12)"
   ]
  },
  {
   "cell_type": "code",
   "execution_count": 72,
   "id": "3a8a1083",
   "metadata": {},
   "outputs": [
    {
     "name": "stdout",
     "output_type": "stream",
     "text": [
      "69\n"
     ]
    }
   ],
   "source": [
    "sum_numbers(10,12,8,29,10)"
   ]
  },
  {
   "cell_type": "code",
   "execution_count": 73,
   "id": "ba8fc1b9",
   "metadata": {},
   "outputs": [],
   "source": [
    "def display(**kwargs):\n",
    "    for key, value in kwargs.items():\n",
    "        print(key, value)"
   ]
  },
  {
   "cell_type": "code",
   "execution_count": 74,
   "id": "94596621",
   "metadata": {},
   "outputs": [
    {
     "name": "stdout",
     "output_type": "stream",
     "text": [
      "city Chennai\n",
      "name John Doe\n",
      "age 30\n"
     ]
    }
   ],
   "source": [
    "display(city=\"Chennai\",name=\"John Doe\", age=30 )"
   ]
  },
  {
   "cell_type": "code",
   "execution_count": 75,
   "id": "67a873f6",
   "metadata": {},
   "outputs": [],
   "source": [
    "def display_info(*args, **kwargs):\n",
    "    print(\"Positional Arguments:\", args)\n",
    "    print(\"Keyword Arguments:\", kwargs)"
   ]
  },
  {
   "cell_type": "code",
   "execution_count": 76,
   "id": "a80532ea",
   "metadata": {},
   "outputs": [
    {
     "name": "stdout",
     "output_type": "stream",
     "text": [
      "Positional Arguments: (1, 2, 3, 4)\n",
      "Keyword Arguments: {'name': 'John Doe', 'age': 30}\n"
     ]
    }
   ],
   "source": [
    "display_info(1,2,3,4,name=\"John Doe\", age=30)"
   ]
  },
  {
   "cell_type": "code",
   "execution_count": 77,
   "id": "035c0eaf",
   "metadata": {},
   "outputs": [],
   "source": [
    "def take_order(*items, **details):\n",
    "    print(\"Order Details:\")\n",
    "    print(\"Items ordered:\", items)\n",
    "    for key, value in details.items():\n",
    "        print(f\"{key.title()}: {value}\")"
   ]
  },
  {
   "cell_type": "code",
   "execution_count": 78,
   "id": "e23302f0",
   "metadata": {},
   "outputs": [
    {
     "name": "stdout",
     "output_type": "stream",
     "text": [
      "Order Details:\n",
      "Items ordered: ('Pizza', 'Burger', 'Pasta')\n",
      "Table_Number: 5\n",
      "Waiter: John\n",
      "Payment_Method: Credit Card\n"
     ]
    }
   ],
   "source": [
    "take_order(\"Pizza\", \"Burger\", \"Pasta\", table_number=5, waiter=\"John\", payment_method=\"Credit Card\")"
   ]
  },
  {
   "cell_type": "code",
   "execution_count": 82,
   "id": "dd787274",
   "metadata": {},
   "outputs": [],
   "source": [
    "def function_order(x, y, *args, name, age, **kwargs):\n",
    "    print(x, y)\n",
    "    print(args)\n",
    "    print(name, age)\n",
    "    print(kwargs)"
   ]
  },
  {
   "cell_type": "code",
   "execution_count": 84,
   "id": "dd81bf4a",
   "metadata": {},
   "outputs": [
    {
     "name": "stdout",
     "output_type": "stream",
     "text": [
      "1 2\n",
      "(4, 5, 6)\n",
      "John Doe 35\n",
      "{'city': 'chennai', 'mobile_no': 123456789}\n"
     ]
    }
   ],
   "source": [
    "function_order(1,2,4,5,6,name=\"John Doe\", age=35, city=\"chennai\", mobile_no=123456789)"
   ]
  },
  {
   "cell_type": "markdown",
   "id": "fc440b5a",
   "metadata": {},
   "source": [
    "### Lambda functions"
   ]
  },
  {
   "cell_type": "code",
   "execution_count": null,
   "id": "4e08babb",
   "metadata": {},
   "outputs": [],
   "source": [
    "lambda arguments: expression"
   ]
  },
  {
   "cell_type": "code",
   "execution_count": 85,
   "id": "092b4cfc",
   "metadata": {},
   "outputs": [
    {
     "data": {
      "text/plain": [
       "9"
      ]
     },
     "execution_count": 85,
     "metadata": {},
     "output_type": "execute_result"
    }
   ],
   "source": [
    "def add(x,y):\n",
    "    return x + y\n",
    "\n",
    "result = add(3,6)\n",
    "result"
   ]
  },
  {
   "cell_type": "code",
   "execution_count": 86,
   "id": "ee5a5fbc",
   "metadata": {},
   "outputs": [],
   "source": [
    "add = lambda x,y : x + y"
   ]
  },
  {
   "cell_type": "code",
   "execution_count": 87,
   "id": "29e18175",
   "metadata": {},
   "outputs": [
    {
     "data": {
      "text/plain": [
       "9"
      ]
     },
     "execution_count": 87,
     "metadata": {},
     "output_type": "execute_result"
    }
   ],
   "source": [
    "result = add(3,6)\n",
    "result"
   ]
  },
  {
   "cell_type": "code",
   "execution_count": 88,
   "id": "21e118d1",
   "metadata": {},
   "outputs": [],
   "source": [
    "square = lambda x : x ** 2"
   ]
  },
  {
   "cell_type": "code",
   "execution_count": 89,
   "id": "a82aa4d4",
   "metadata": {},
   "outputs": [
    {
     "data": {
      "text/plain": [
       "16"
      ]
     },
     "execution_count": 89,
     "metadata": {},
     "output_type": "execute_result"
    }
   ],
   "source": [
    "square(4)"
   ]
  },
  {
   "cell_type": "code",
   "execution_count": 90,
   "id": "ccad6974",
   "metadata": {},
   "outputs": [],
   "source": [
    "multiply = lambda x, y : x * y"
   ]
  },
  {
   "cell_type": "code",
   "execution_count": 91,
   "id": "6c9e50d2",
   "metadata": {},
   "outputs": [
    {
     "data": {
      "text/plain": [
       "8"
      ]
     },
     "execution_count": 91,
     "metadata": {},
     "output_type": "execute_result"
    }
   ],
   "source": [
    "multiply(2,4)"
   ]
  },
  {
   "cell_type": "code",
   "execution_count": 93,
   "id": "0b0ca40a",
   "metadata": {},
   "outputs": [
    {
     "data": {
      "text/plain": [
       "[1, 4, 9, 16, 25, 36, 4, 16, 49]"
      ]
     },
     "execution_count": 93,
     "metadata": {},
     "output_type": "execute_result"
    }
   ],
   "source": [
    "numbers = [1,2,3,4,5,6, 2 , 4, 7]\n",
    "square = list(map(lambda x : x ** 2, numbers))\n",
    "square"
   ]
  },
  {
   "cell_type": "code",
   "execution_count": 94,
   "id": "8ac3a9c5",
   "metadata": {},
   "outputs": [
    {
     "data": {
      "text/plain": [
       "[2, 4, 6, 2, 4]"
      ]
     },
     "execution_count": 94,
     "metadata": {},
     "output_type": "execute_result"
    }
   ],
   "source": [
    "list(filter(lambda x : x % 2 == 0, numbers))"
   ]
  },
  {
   "cell_type": "code",
   "execution_count": 95,
   "id": "8f58b90c",
   "metadata": {},
   "outputs": [],
   "source": [
    "from functools import  reduce"
   ]
  },
  {
   "cell_type": "code",
   "execution_count": 97,
   "id": "31ce721f",
   "metadata": {},
   "outputs": [
    {
     "data": {
      "text/plain": [
       "40320"
      ]
     },
     "execution_count": 97,
     "metadata": {},
     "output_type": "execute_result"
    }
   ],
   "source": [
    "reduce(lambda x,y : x * y, numbers)"
   ]
  },
  {
   "cell_type": "code",
   "execution_count": 98,
   "id": "2eb830e9",
   "metadata": {},
   "outputs": [],
   "source": [
    "def incrementor(n):\n",
    "    return lambda x:x+n"
   ]
  },
  {
   "cell_type": "code",
   "execution_count": 99,
   "id": "b6256910",
   "metadata": {},
   "outputs": [],
   "source": [
    "inc = incrementor(5)"
   ]
  },
  {
   "cell_type": "code",
   "execution_count": 101,
   "id": "c9805f0f",
   "metadata": {},
   "outputs": [
    {
     "data": {
      "text/plain": [
       "12"
      ]
     },
     "execution_count": 101,
     "metadata": {},
     "output_type": "execute_result"
    }
   ],
   "source": [
    "inc(7)"
   ]
  },
  {
   "cell_type": "code",
   "execution_count": 102,
   "id": "c7c4ea2a",
   "metadata": {},
   "outputs": [],
   "source": [
    "points = [(1,2),(3,1),(5,-1)]"
   ]
  },
  {
   "cell_type": "code",
   "execution_count": 103,
   "id": "b99de255",
   "metadata": {},
   "outputs": [
    {
     "data": {
      "text/plain": [
       "[(5, -1), (3, 1), (1, 2)]"
      ]
     },
     "execution_count": 103,
     "metadata": {},
     "output_type": "execute_result"
    }
   ],
   "source": [
    "sorted(points, key=lambda x:x[1])"
   ]
  },
  {
   "cell_type": "markdown",
   "id": "d6251ec1",
   "metadata": {},
   "source": [
    "### List Comprehension"
   ]
  },
  {
   "cell_type": "code",
   "execution_count": null,
   "id": "b0407279",
   "metadata": {},
   "outputs": [],
   "source": [
    "[expression for item in iterable if condition]"
   ]
  },
  {
   "cell_type": "code",
   "execution_count": 107,
   "id": "ff7090d1",
   "metadata": {},
   "outputs": [],
   "source": [
    "numbers = [1,2,3,4,5,6,7]\n",
    "square = []\n",
    "for i in numbers:\n",
    "    square.append(i**2)"
   ]
  },
  {
   "cell_type": "code",
   "execution_count": 108,
   "id": "6036feee",
   "metadata": {},
   "outputs": [
    {
     "data": {
      "text/plain": [
       "[1, 4, 9, 16, 25, 36, 49]"
      ]
     },
     "execution_count": 108,
     "metadata": {},
     "output_type": "execute_result"
    }
   ],
   "source": [
    "square"
   ]
  },
  {
   "cell_type": "code",
   "execution_count": 109,
   "id": "8515aeb0",
   "metadata": {},
   "outputs": [
    {
     "data": {
      "text/plain": [
       "[1, 4, 9, 16, 25, 36, 49]"
      ]
     },
     "execution_count": 109,
     "metadata": {},
     "output_type": "execute_result"
    }
   ],
   "source": [
    "square = [i**2 for i in numbers]\n",
    "square"
   ]
  },
  {
   "cell_type": "code",
   "execution_count": 110,
   "id": "1c67473d",
   "metadata": {},
   "outputs": [
    {
     "data": {
      "text/plain": [
       "[4, 16, 36]"
      ]
     },
     "execution_count": 110,
     "metadata": {},
     "output_type": "execute_result"
    }
   ],
   "source": [
    "numbers = [1,2,3,4,5,6,7]\n",
    "square = []\n",
    "for i in numbers:\n",
    "    if i % 2 == 0:\n",
    "        square.append(i**2)\n",
    "square"
   ]
  },
  {
   "cell_type": "code",
   "execution_count": 111,
   "id": "38103137",
   "metadata": {},
   "outputs": [
    {
     "data": {
      "text/plain": [
       "[4, 16, 36]"
      ]
     },
     "execution_count": 111,
     "metadata": {},
     "output_type": "execute_result"
    }
   ],
   "source": [
    "square = [i**2 for i in numbers if i % 2 == 0]\n",
    "square"
   ]
  },
  {
   "cell_type": "code",
   "execution_count": 112,
   "id": "ae263702",
   "metadata": {},
   "outputs": [
    {
     "data": {
      "text/plain": [
       "[1, 2, 3, 4, 5, 6, 7, 8, 9]"
      ]
     },
     "execution_count": 112,
     "metadata": {},
     "output_type": "execute_result"
    }
   ],
   "source": [
    "matrix = [[1, 2, 3], [4, 5, 6], [7, 8, 9]]\n",
    "[num for row in matrix for num in row]"
   ]
  },
  {
   "cell_type": "code",
   "execution_count": 113,
   "id": "4e50aa3e",
   "metadata": {},
   "outputs": [
    {
     "data": {
      "text/plain": [
       "[2, 4, 6, 8]"
      ]
     },
     "execution_count": 113,
     "metadata": {},
     "output_type": "execute_result"
    }
   ],
   "source": [
    "[num for row in matrix for num in row if num % 2 == 0]"
   ]
  },
  {
   "cell_type": "code",
   "execution_count": 114,
   "id": "f81685d6",
   "metadata": {},
   "outputs": [
    {
     "data": {
      "text/plain": [
       "{1: 1, 2: 4, 3: 9, 4: 16, 5: 25, 6: 36, 7: 49}"
      ]
     },
     "execution_count": 114,
     "metadata": {},
     "output_type": "execute_result"
    }
   ],
   "source": [
    "{x : x**2 for x in numbers}"
   ]
  },
  {
   "cell_type": "code",
   "execution_count": 115,
   "id": "a3296a99",
   "metadata": {},
   "outputs": [
    {
     "data": {
      "text/plain": [
       "{1, 4, 9, 16, 25, 36, 49}"
      ]
     },
     "execution_count": 115,
     "metadata": {},
     "output_type": "execute_result"
    }
   ],
   "source": [
    "{x**2 for x in numbers}"
   ]
  },
  {
   "cell_type": "code",
   "execution_count": 116,
   "id": "e1489128",
   "metadata": {},
   "outputs": [
    {
     "data": {
      "text/plain": [
       "[1, 2, 3, 4, 5, 6, 7]"
      ]
     },
     "execution_count": 116,
     "metadata": {},
     "output_type": "execute_result"
    }
   ],
   "source": [
    "numbers"
   ]
  },
  {
   "cell_type": "code",
   "execution_count": 117,
   "id": "dba9281b",
   "metadata": {},
   "outputs": [
    {
     "data": {
      "text/plain": [
       "[3, 4, 5, 6, 7, 8, 9]"
      ]
     },
     "execution_count": 117,
     "metadata": {},
     "output_type": "execute_result"
    }
   ],
   "source": [
    "[(lambda x: x+2)(i) for i in numbers]"
   ]
  },
  {
   "cell_type": "code",
   "execution_count": 118,
   "id": "fed9c7a2",
   "metadata": {},
   "outputs": [
    {
     "data": {
      "text/plain": [
       "[4, 6, 8]"
      ]
     },
     "execution_count": 118,
     "metadata": {},
     "output_type": "execute_result"
    }
   ],
   "source": [
    "[(lambda x: x+2)(i) for i in numbers if i % 2 == 0]"
   ]
  },
  {
   "cell_type": "markdown",
   "id": "f3295d16",
   "metadata": {},
   "source": [
    "### Importing Libraries"
   ]
  },
  {
   "cell_type": "code",
   "execution_count": 119,
   "id": "c52c7d18",
   "metadata": {
    "collapsed": true
   },
   "outputs": [
    {
     "name": "stdout",
     "output_type": "stream",
     "text": [
      "Requirement already satisfied: scikit-learn in /Library/Frameworks/Python.framework/Versions/3.8/lib/python3.8/site-packages (1.3.2)\n",
      "Requirement already satisfied: numpy<2.0,>=1.17.3 in /Library/Frameworks/Python.framework/Versions/3.8/lib/python3.8/site-packages (from scikit-learn) (1.24.3)\n",
      "Requirement already satisfied: scipy>=1.5.0 in /Library/Frameworks/Python.framework/Versions/3.8/lib/python3.8/site-packages (from scikit-learn) (1.10.1)\n",
      "Requirement already satisfied: joblib>=1.1.1 in /Library/Frameworks/Python.framework/Versions/3.8/lib/python3.8/site-packages (from scikit-learn) (1.3.2)\n",
      "Requirement already satisfied: threadpoolctl>=2.0.0 in /Library/Frameworks/Python.framework/Versions/3.8/lib/python3.8/site-packages (from scikit-learn) (3.4.0)\n",
      "\n",
      "\u001b[1m[\u001b[0m\u001b[34;49mnotice\u001b[0m\u001b[1;39;49m]\u001b[0m\u001b[39;49m A new release of pip is available: \u001b[0m\u001b[31;49m24.0\u001b[0m\u001b[39;49m -> \u001b[0m\u001b[32;49m24.2\u001b[0m\n",
      "\u001b[1m[\u001b[0m\u001b[34;49mnotice\u001b[0m\u001b[1;39;49m]\u001b[0m\u001b[39;49m To update, run: \u001b[0m\u001b[32;49mpip install --upgrade pip\u001b[0m\n"
     ]
    }
   ],
   "source": [
    "!pip install scikit-learn"
   ]
  },
  {
   "cell_type": "code",
   "execution_count": null,
   "id": "8876bf12",
   "metadata": {},
   "outputs": [],
   "source": [
    "# tensorflow cheatsheet"
   ]
  },
  {
   "cell_type": "code",
   "execution_count": 120,
   "id": "d79427a0",
   "metadata": {},
   "outputs": [],
   "source": [
    "import math"
   ]
  },
  {
   "cell_type": "code",
   "execution_count": 121,
   "id": "a5a5d820",
   "metadata": {},
   "outputs": [
    {
     "data": {
      "text/plain": [
       "0.8939966636005579"
      ]
     },
     "execution_count": 121,
     "metadata": {},
     "output_type": "execute_result"
    }
   ],
   "source": [
    "math.sin(90)"
   ]
  },
  {
   "cell_type": "code",
   "execution_count": 122,
   "id": "b7e3274a",
   "metadata": {},
   "outputs": [
    {
     "data": {
      "text/plain": [
       "6"
      ]
     },
     "execution_count": 122,
     "metadata": {},
     "output_type": "execute_result"
    }
   ],
   "source": [
    "math.factorial(3)"
   ]
  },
  {
   "cell_type": "code",
   "execution_count": 123,
   "id": "7bfb4413",
   "metadata": {},
   "outputs": [
    {
     "name": "stderr",
     "output_type": "stream",
     "text": [
      "2024-09-08 18:24:34.265816: I tensorflow/core/platform/cpu_feature_guard.cc:182] This TensorFlow binary is optimized to use available CPU instructions in performance-critical operations.\n",
      "To enable the following instructions: AVX2 AVX512F AVX512_VNNI FMA, in other operations, rebuild TensorFlow with the appropriate compiler flags.\n"
     ]
    }
   ],
   "source": [
    "import tensorflow as tf"
   ]
  },
  {
   "cell_type": "code",
   "execution_count": 127,
   "id": "bd4da1bf",
   "metadata": {},
   "outputs": [],
   "source": [
    "from math import sin, cos, tan"
   ]
  },
  {
   "cell_type": "code",
   "execution_count": 125,
   "id": "dc4b0025",
   "metadata": {},
   "outputs": [
    {
     "data": {
      "text/plain": [
       "-0.4480736161291701"
      ]
     },
     "execution_count": 125,
     "metadata": {},
     "output_type": "execute_result"
    }
   ],
   "source": [
    "cos(90)"
   ]
  },
  {
   "cell_type": "code",
   "execution_count": 126,
   "id": "ec80c2de",
   "metadata": {},
   "outputs": [
    {
     "data": {
      "text/plain": [
       "-1.995200412208242"
      ]
     },
     "execution_count": 126,
     "metadata": {},
     "output_type": "execute_result"
    }
   ],
   "source": [
    "tan(90)"
   ]
  },
  {
   "cell_type": "code",
   "execution_count": 128,
   "id": "fcddd3c2",
   "metadata": {},
   "outputs": [],
   "source": [
    "from math import *"
   ]
  },
  {
   "cell_type": "code",
   "execution_count": 129,
   "id": "f9424337",
   "metadata": {},
   "outputs": [
    {
     "data": {
      "text/plain": [
       "24"
      ]
     },
     "execution_count": 129,
     "metadata": {},
     "output_type": "execute_result"
    }
   ],
   "source": [
    "factorial(4)"
   ]
  },
  {
   "cell_type": "markdown",
   "id": "7f8baf91",
   "metadata": {},
   "source": [
    "### Libraries Operations"
   ]
  },
  {
   "cell_type": "markdown",
   "id": "f31c2014",
   "metadata": {},
   "source": [
    "#### Math Libraries"
   ]
  },
  {
   "cell_type": "code",
   "execution_count": 130,
   "id": "8a1b299c",
   "metadata": {},
   "outputs": [],
   "source": [
    "import math"
   ]
  },
  {
   "cell_type": "code",
   "execution_count": 131,
   "id": "a2e79369",
   "metadata": {},
   "outputs": [
    {
     "data": {
      "text/plain": [
       "4.0"
      ]
     },
     "execution_count": 131,
     "metadata": {},
     "output_type": "execute_result"
    }
   ],
   "source": [
    "math.sqrt(16)"
   ]
  },
  {
   "cell_type": "code",
   "execution_count": 132,
   "id": "781efdab",
   "metadata": {},
   "outputs": [
    {
     "data": {
      "text/plain": [
       "8.0"
      ]
     },
     "execution_count": 132,
     "metadata": {},
     "output_type": "execute_result"
    }
   ],
   "source": [
    "math.pow(2,3)"
   ]
  },
  {
   "cell_type": "code",
   "execution_count": 133,
   "id": "5a1f6826",
   "metadata": {},
   "outputs": [
    {
     "data": {
      "text/plain": [
       "24"
      ]
     },
     "execution_count": 133,
     "metadata": {},
     "output_type": "execute_result"
    }
   ],
   "source": [
    "math.factorial(4)"
   ]
  },
  {
   "cell_type": "code",
   "execution_count": 135,
   "id": "ba2b4aa9",
   "metadata": {},
   "outputs": [
    {
     "data": {
      "text/plain": [
       "(0.8939966636005579, 1.0)"
      ]
     },
     "execution_count": 135,
     "metadata": {},
     "output_type": "execute_result"
    }
   ],
   "source": [
    "math.sin(90), math.sin(math.pi/2)"
   ]
  },
  {
   "cell_type": "code",
   "execution_count": 137,
   "id": "89f332ae",
   "metadata": {},
   "outputs": [
    {
     "data": {
      "text/plain": [
       "1.5707963267948966"
      ]
     },
     "execution_count": 137,
     "metadata": {},
     "output_type": "execute_result"
    }
   ],
   "source": [
    "math.asin(1)"
   ]
  },
  {
   "cell_type": "code",
   "execution_count": 139,
   "id": "57abd940",
   "metadata": {},
   "outputs": [
    {
     "data": {
      "text/plain": [
       "(5, 4)"
      ]
     },
     "execution_count": 139,
     "metadata": {},
     "output_type": "execute_result"
    }
   ],
   "source": [
    "math.ceil(4.7), math.floor(4.7)"
   ]
  },
  {
   "cell_type": "code",
   "execution_count": 144,
   "id": "2f1f25a9",
   "metadata": {},
   "outputs": [
    {
     "data": {
      "text/plain": [
       "(3.3219280948873626, 1.0)"
      ]
     },
     "execution_count": 144,
     "metadata": {},
     "output_type": "execute_result"
    }
   ],
   "source": [
    "math.log(10, 2), math.log(10, 10)"
   ]
  },
  {
   "cell_type": "code",
   "execution_count": 141,
   "id": "6416bf8a",
   "metadata": {},
   "outputs": [
    {
     "data": {
      "text/plain": [
       "3.321928094887362"
      ]
     },
     "execution_count": 141,
     "metadata": {},
     "output_type": "execute_result"
    }
   ],
   "source": [
    "math.log2(10)"
   ]
  },
  {
   "cell_type": "code",
   "execution_count": 143,
   "id": "1423c6ac",
   "metadata": {},
   "outputs": [
    {
     "data": {
      "text/plain": [
       "1.0"
      ]
     },
     "execution_count": 143,
     "metadata": {},
     "output_type": "execute_result"
    }
   ],
   "source": [
    "math.log10(10)"
   ]
  },
  {
   "cell_type": "code",
   "execution_count": 145,
   "id": "cb0324b5",
   "metadata": {},
   "outputs": [
    {
     "data": {
      "text/plain": [
       "(2.718281828459045, 3.141592653589793)"
      ]
     },
     "execution_count": 145,
     "metadata": {},
     "output_type": "execute_result"
    }
   ],
   "source": [
    "math.e, math.pi"
   ]
  },
  {
   "cell_type": "markdown",
   "id": "c7b314b9",
   "metadata": {},
   "source": [
    "#### Datetime"
   ]
  },
  {
   "cell_type": "code",
   "execution_count": 147,
   "id": "abbe5756",
   "metadata": {},
   "outputs": [],
   "source": [
    "import datetime as dt"
   ]
  },
  {
   "cell_type": "code",
   "execution_count": 149,
   "id": "32a10be4",
   "metadata": {},
   "outputs": [
    {
     "data": {
      "text/plain": [
       "'2024-09-09'"
      ]
     },
     "execution_count": 149,
     "metadata": {},
     "output_type": "execute_result"
    }
   ],
   "source": [
    "str(dt.date.today())"
   ]
  },
  {
   "cell_type": "code",
   "execution_count": 151,
   "id": "7b603448",
   "metadata": {},
   "outputs": [
    {
     "data": {
      "text/plain": [
       "datetime.date(2024, 9, 10)"
      ]
     },
     "execution_count": 151,
     "metadata": {},
     "output_type": "execute_result"
    }
   ],
   "source": [
    "dt.date(2024,9,10)"
   ]
  },
  {
   "cell_type": "code",
   "execution_count": 152,
   "id": "51f82625",
   "metadata": {},
   "outputs": [
    {
     "data": {
      "text/plain": [
       "datetime.time(10, 43, 3, 479388)"
      ]
     },
     "execution_count": 152,
     "metadata": {},
     "output_type": "execute_result"
    }
   ],
   "source": [
    "dt.datetime.now().time()"
   ]
  },
  {
   "cell_type": "code",
   "execution_count": 153,
   "id": "8227283e",
   "metadata": {},
   "outputs": [
    {
     "data": {
      "text/plain": [
       "'10:43:11.833139'"
      ]
     },
     "execution_count": 153,
     "metadata": {},
     "output_type": "execute_result"
    }
   ],
   "source": [
    "str(dt.datetime.now().time())"
   ]
  },
  {
   "cell_type": "code",
   "execution_count": 154,
   "id": "679e477b",
   "metadata": {},
   "outputs": [
    {
     "name": "stdout",
     "output_type": "stream",
     "text": [
      "2024-09-09\n"
     ]
    }
   ],
   "source": [
    "today = dt.date.today()\n",
    "print(today)"
   ]
  },
  {
   "cell_type": "code",
   "execution_count": 156,
   "id": "c17da5d3",
   "metadata": {},
   "outputs": [
    {
     "name": "stdout",
     "output_type": "stream",
     "text": [
      "2024-09-04\n"
     ]
    }
   ],
   "source": [
    "print(today - dt.timedelta(days=5))"
   ]
  },
  {
   "cell_type": "code",
   "execution_count": 157,
   "id": "f7302156",
   "metadata": {},
   "outputs": [
    {
     "data": {
      "text/plain": [
       "'Monday, September 09, 2024'"
      ]
     },
     "execution_count": 157,
     "metadata": {},
     "output_type": "execute_result"
    }
   ],
   "source": [
    "today.strftime(\"%A, %B %d, %Y\")"
   ]
  },
  {
   "cell_type": "code",
   "execution_count": 162,
   "id": "5eafb6e6",
   "metadata": {},
   "outputs": [
    {
     "data": {
      "text/plain": [
       "'Mon, Sep 09, 24'"
      ]
     },
     "execution_count": 162,
     "metadata": {},
     "output_type": "execute_result"
    }
   ],
   "source": [
    "today.strftime(\"%a, %b %d, %y\")"
   ]
  },
  {
   "cell_type": "markdown",
   "id": "2f4adaf3",
   "metadata": {},
   "source": [
    "#### Random Library"
   ]
  },
  {
   "cell_type": "code",
   "execution_count": 163,
   "id": "af479b9a",
   "metadata": {},
   "outputs": [],
   "source": [
    "import random as rd"
   ]
  },
  {
   "cell_type": "code",
   "execution_count": 171,
   "id": "da182474",
   "metadata": {},
   "outputs": [
    {
     "data": {
      "text/plain": [
       "7"
      ]
     },
     "execution_count": 171,
     "metadata": {},
     "output_type": "execute_result"
    }
   ],
   "source": [
    "rd.randint(1,20)"
   ]
  },
  {
   "cell_type": "code",
   "execution_count": 176,
   "id": "6bd1196b",
   "metadata": {},
   "outputs": [
    {
     "data": {
      "text/plain": [
       "0.2062930689790896"
      ]
     },
     "execution_count": 176,
     "metadata": {},
     "output_type": "execute_result"
    }
   ],
   "source": [
    "rd.random()"
   ]
  },
  {
   "cell_type": "code",
   "execution_count": 179,
   "id": "5b4e6726",
   "metadata": {},
   "outputs": [
    {
     "data": {
      "text/plain": [
       "'apple'"
      ]
     },
     "execution_count": 179,
     "metadata": {},
     "output_type": "execute_result"
    }
   ],
   "source": [
    "choices = [\"apple\", \"mango\", \"pineapple\"]\n",
    "rd.choice(choices)"
   ]
  },
  {
   "cell_type": "code",
   "execution_count": 183,
   "id": "c8e517c5",
   "metadata": {},
   "outputs": [
    {
     "data": {
      "text/plain": [
       "['mango', 'apple']"
      ]
     },
     "execution_count": 183,
     "metadata": {},
     "output_type": "execute_result"
    }
   ],
   "source": [
    "rd.choices(choices, k=2)"
   ]
  },
  {
   "cell_type": "code",
   "execution_count": 186,
   "id": "cd7a5316",
   "metadata": {},
   "outputs": [],
   "source": [
    "rd.shuffle(choices)"
   ]
  },
  {
   "cell_type": "code",
   "execution_count": 187,
   "id": "3113382a",
   "metadata": {},
   "outputs": [
    {
     "data": {
      "text/plain": [
       "['pineapple', 'apple', 'mango']"
      ]
     },
     "execution_count": 187,
     "metadata": {},
     "output_type": "execute_result"
    }
   ],
   "source": [
    "choices"
   ]
  },
  {
   "cell_type": "code",
   "execution_count": 195,
   "id": "3284e623",
   "metadata": {},
   "outputs": [
    {
     "data": {
      "text/plain": [
       "5"
      ]
     },
     "execution_count": 195,
     "metadata": {},
     "output_type": "execute_result"
    }
   ],
   "source": [
    "rd.seed(13)\n",
    "rd.randint(1,10)"
   ]
  },
  {
   "cell_type": "markdown",
   "id": "da66587a",
   "metadata": {},
   "source": [
    "### Error handling"
   ]
  },
  {
   "cell_type": "code",
   "execution_count": 196,
   "id": "5b5d62ea",
   "metadata": {},
   "outputs": [
    {
     "ename": "SyntaxError",
     "evalue": "unexpected EOF while parsing (1028029194.py, line 1)",
     "output_type": "error",
     "traceback": [
      "\u001b[0;36m  Cell \u001b[0;32mIn[196], line 1\u001b[0;36m\u001b[0m\n\u001b[0;31m    print(\"hello world\"\u001b[0m\n\u001b[0m                       ^\u001b[0m\n\u001b[0;31mSyntaxError\u001b[0m\u001b[0;31m:\u001b[0m unexpected EOF while parsing\n"
     ]
    }
   ],
   "source": [
    "print(\"hello world\""
   ]
  },
  {
   "cell_type": "code",
   "execution_count": 197,
   "id": "ea798a32",
   "metadata": {},
   "outputs": [
    {
     "ename": "ZeroDivisionError",
     "evalue": "division by zero",
     "output_type": "error",
     "traceback": [
      "\u001b[0;31m---------------------------------------------------------------------------\u001b[0m",
      "\u001b[0;31mZeroDivisionError\u001b[0m                         Traceback (most recent call last)",
      "Cell \u001b[0;32mIn[197], line 1\u001b[0m\n\u001b[0;32m----> 1\u001b[0m \u001b[38;5;241;43m1\u001b[39;49m\u001b[38;5;241;43m/\u001b[39;49m\u001b[38;5;241;43m0\u001b[39;49m\n",
      "\u001b[0;31mZeroDivisionError\u001b[0m: division by zero"
     ]
    }
   ],
   "source": [
    "1/0"
   ]
  },
  {
   "cell_type": "code",
   "execution_count": 198,
   "id": "84018139",
   "metadata": {},
   "outputs": [
    {
     "ename": "TypeError",
     "evalue": "'x' is an invalid keyword argument for print()",
     "output_type": "error",
     "traceback": [
      "\u001b[0;31m---------------------------------------------------------------------------\u001b[0m",
      "\u001b[0;31mTypeError\u001b[0m                                 Traceback (most recent call last)",
      "Cell \u001b[0;32mIn[198], line 1\u001b[0m\n\u001b[0;32m----> 1\u001b[0m \u001b[38;5;28;43mprint\u001b[39;49m\u001b[43m(\u001b[49m\u001b[43mx\u001b[49m\u001b[38;5;241;43m=\u001b[39;49m\u001b[38;5;241;43m4\u001b[39;49m\u001b[43m)\u001b[49m\n",
      "\u001b[0;31mTypeError\u001b[0m: 'x' is an invalid keyword argument for print()"
     ]
    }
   ],
   "source": [
    "print(x=4)"
   ]
  },
  {
   "cell_type": "code",
   "execution_count": 200,
   "id": "df673243",
   "metadata": {},
   "outputs": [
    {
     "name": "stdout",
     "output_type": "stream",
     "text": [
      "Enter a number: k\n",
      "oops! That's not a valid number\n"
     ]
    }
   ],
   "source": [
    "try:\n",
    "    num = int(input(\"Enter a number: \"))\n",
    "    print(\"You entered:\", num)\n",
    "except:\n",
    "    print(\"oops! That's not a valid number\")"
   ]
  },
  {
   "cell_type": "code",
   "execution_count": 203,
   "id": "5b291d68",
   "metadata": {},
   "outputs": [
    {
     "name": "stdout",
     "output_type": "stream",
     "text": [
      "Enter a number: 2\n",
      "You entered: 2\n"
     ]
    }
   ],
   "source": [
    "try:\n",
    "    num = int(input(\"Enter a number: \"))\n",
    "    print(\"You entered:\", num)\n",
    "except ValueError:\n",
    "    print(\"oops! That's not a valid number\")"
   ]
  },
  {
   "cell_type": "code",
   "execution_count": 204,
   "id": "df7285f8",
   "metadata": {},
   "outputs": [
    {
     "name": "stdout",
     "output_type": "stream",
     "text": [
      "5.0\n"
     ]
    }
   ],
   "source": [
    "try:\n",
    "    result = 10/2\n",
    "except:\n",
    "    print(\"There is an error!!!\")\n",
    "else:\n",
    "    print(result)"
   ]
  },
  {
   "cell_type": "code",
   "execution_count": 205,
   "id": "c9b38970",
   "metadata": {},
   "outputs": [
    {
     "name": "stdout",
     "output_type": "stream",
     "text": [
      "There is an error!!!\n"
     ]
    }
   ],
   "source": [
    "try:\n",
    "    result = 10/0\n",
    "except:\n",
    "    print(\"There is an error!!!\")\n",
    "else:\n",
    "    print(result)"
   ]
  },
  {
   "cell_type": "code",
   "execution_count": 211,
   "id": "da2c92f9",
   "metadata": {},
   "outputs": [
    {
     "name": "stdout",
     "output_type": "stream",
     "text": [
      "Enter a number: 0\n",
      "You entered: 0\n",
      "Number cannot be zero\n"
     ]
    }
   ],
   "source": [
    "try:\n",
    "    num = int(input(\"Enter a number: \"))\n",
    "    print(\"You entered:\", num)\n",
    "    print(10/num)\n",
    "except ValueError:\n",
    "    print(\"oops! That's not a valid number\")\n",
    "except ZeroDivisionError:\n",
    "    print(\"Number cannot be zero\")"
   ]
  },
  {
   "cell_type": "code",
   "execution_count": 215,
   "id": "60d4e7f0",
   "metadata": {},
   "outputs": [
    {
     "name": "stdout",
     "output_type": "stream",
     "text": [
      "Enter a number: 0\n",
      "There is an error!!!\n"
     ]
    }
   ],
   "source": [
    "try:\n",
    "    num = int(input(\"Enter a number: \"))\n",
    "    result = 10/num\n",
    "except (ValueError, ZeroDivisionError):\n",
    "    print(\"There is an error!!!\")\n",
    "else:\n",
    "    print(result)"
   ]
  },
  {
   "cell_type": "code",
   "execution_count": 230,
   "id": "5e4cb306",
   "metadata": {},
   "outputs": [
    {
     "name": "stdout",
     "output_type": "stream",
     "text": [
      "Error: Age must be at least 18.\n"
     ]
    }
   ],
   "source": [
    "def check_age(age):\n",
    "    if age < 18:\n",
    "        raise ValueError(\"Age must be at least 18.\")\n",
    "    return True\n",
    "\n",
    "try:\n",
    "    check_age(13)\n",
    "except ValueError as e:\n",
    "    print(\"Error:\", e)"
   ]
  },
  {
   "cell_type": "code",
   "execution_count": 231,
   "id": "7e5f3077",
   "metadata": {},
   "outputs": [
    {
     "name": "stdout",
     "output_type": "stream",
     "text": [
      "Error: Age must be at least 18.\n"
     ]
    }
   ],
   "source": [
    "try:\n",
    "    check_age(13)\n",
    "except Exception as e:\n",
    "    print(\"Error:\", e)"
   ]
  },
  {
   "cell_type": "code",
   "execution_count": 232,
   "id": "c7db5576",
   "metadata": {},
   "outputs": [
    {
     "name": "stdout",
     "output_type": "stream",
     "text": [
      "Error: division by zero\n"
     ]
    }
   ],
   "source": [
    "try:\n",
    "    result = 10 / 0 \n",
    "except Exception as e:\n",
    "    print(\"Error:\", e)"
   ]
  },
  {
   "cell_type": "code",
   "execution_count": 237,
   "id": "73f1bca2",
   "metadata": {},
   "outputs": [
    {
     "name": "stdout",
     "output_type": "stream",
     "text": [
      "Error: division by zero\n",
      "hey\n"
     ]
    }
   ],
   "source": [
    "try:\n",
    "    result = 10 / 0 \n",
    "    print(result)\n",
    "except Exception as e:\n",
    "    print(\"Error:\", e)\n",
    "finally:\n",
    "    print(\"hey\")"
   ]
  },
  {
   "cell_type": "code",
   "execution_count": 238,
   "id": "23112a2c",
   "metadata": {},
   "outputs": [
    {
     "name": "stdout",
     "output_type": "stream",
     "text": [
      "Error: division by zero\n"
     ]
    }
   ],
   "source": [
    "try:\n",
    "    result = 10 / 0\n",
    "    print(result)\n",
    "except Exception as e:\n",
    "    print(\"Error:\", e)\n",
    "else:\n",
    "    print(\"hey\")"
   ]
  },
  {
   "cell_type": "code",
   "execution_count": null,
   "id": "60e6bab6",
   "metadata": {},
   "outputs": [],
   "source": [
    "FileNotFoundError, PermissionError, Exception"
   ]
  },
  {
   "cell_type": "markdown",
   "id": "4ffbedfd",
   "metadata": {},
   "source": [
    "### Guess Game"
   ]
  },
  {
   "cell_type": "code",
   "execution_count": 239,
   "id": "30669121",
   "metadata": {},
   "outputs": [],
   "source": [
    "import random as rd\n",
    "import time"
   ]
  },
  {
   "cell_type": "code",
   "execution_count": 241,
   "id": "ac701714",
   "metadata": {},
   "outputs": [
    {
     "name": "stdout",
     "output_type": "stream",
     "text": [
      "Think of any number between 0-100 and keep it with you, let me find out!!\n",
      "\n",
      "Isn't it 9 ?\n",
      "Enter the option \n",
      " a.high \n",
      " b.low \n",
      " c.Bingo \n",
      "low\n",
      "\n",
      "Isn't it 78 ?\n",
      "Enter the option \n",
      " a.high \n",
      " b.low \n",
      " c.Bingo \n",
      "high\n",
      "\n",
      "Isn't it 37 ?\n",
      "Enter the option \n",
      " a.high \n",
      " b.low \n",
      " c.Bingo \n",
      "low\n",
      "\n",
      "Isn't it 56 ?\n",
      "Enter the option \n",
      " a.high \n",
      " b.low \n",
      " c.Bingo \n",
      "low\n",
      "\n",
      "Isn't it 57 ?\n",
      "Enter the option \n",
      " a.high \n",
      " b.low \n",
      " c.Bingo \n",
      "low\n",
      "\n",
      "Isn't it 71 ?\n",
      "Enter the option \n",
      " a.high \n",
      " b.low \n",
      " c.Bingo \n",
      "high\n",
      "\n",
      "Isn't it 60 ?\n",
      "Enter the option \n",
      " a.high \n",
      " b.low \n",
      " c.Bingo \n",
      "low\n",
      "\n",
      "Isn't it 70 ?\n",
      "Enter the option \n",
      " a.high \n",
      " b.low \n",
      " c.Bingo \n",
      "high\n",
      "\n",
      "Isn't it 61 ?\n",
      "Enter the option \n",
      " a.high \n",
      " b.low \n",
      " c.Bingo \n",
      "low\n",
      "\n",
      "Isn't it 66 ?\n",
      "Enter the option \n",
      " a.high \n",
      " b.low \n",
      " c.Bingo \n",
      "low\n",
      "\n",
      "Isn't it 67 ?\n",
      "Enter the option \n",
      " a.high \n",
      " b.low \n",
      " c.Bingo \n",
      "bingo\n",
      "\n",
      "The number is in your mind is 67 and computer took 11 attempts\n"
     ]
    }
   ],
   "source": [
    "print(\"Think of any number between 0-100 and keep it with you, let me find out!!\")\n",
    "time.sleep(5)\n",
    "\n",
    "min_val = 0 \n",
    "max_val = 100\n",
    "\n",
    "attempt = 0\n",
    "\n",
    "while True:\n",
    "    computer = rd.randint(min_val, max_val)\n",
    "    print (\"\\nIsn't it %d ?\"%computer)\n",
    "    attempt += 1\n",
    "\n",
    "    user = input(\"Enter the option \\n a.high \\n b.low \\n c.Bingo \\n\")\n",
    "    \n",
    "    if user == \"high\" or user == \"a\":\n",
    "        max_val = computer - 1\n",
    "    \n",
    "    elif user == \"low\" or user == \"b\":\n",
    "        min_val = computer + 1\n",
    "    \n",
    "    elif user == \"bingo\" or user == \"c\":\n",
    "        print (\"\\nThe number is in your mind is %d and computer took %d attempts\"%(computer,attempt))\n",
    "        break\n",
    "    else:\n",
    "        print (\"\\nPlease enter the valid option\")"
   ]
  },
  {
   "cell_type": "markdown",
   "id": "4386f9d1",
   "metadata": {},
   "source": [
    "### FIle Operations"
   ]
  },
  {
   "cell_type": "markdown",
   "id": "1738ac4a",
   "metadata": {},
   "source": [
    "#### txt file operations"
   ]
  },
  {
   "cell_type": "code",
   "execution_count": 305,
   "id": "eda6ad00",
   "metadata": {},
   "outputs": [],
   "source": [
    "filePath = \"./output.txt\""
   ]
  },
  {
   "cell_type": "code",
   "execution_count": 306,
   "id": "8afaea2f",
   "metadata": {},
   "outputs": [],
   "source": [
    "file = open(filePath, \"r\")"
   ]
  },
  {
   "cell_type": "code",
   "execution_count": 307,
   "id": "41059745",
   "metadata": {},
   "outputs": [],
   "source": [
    "content = file.read()"
   ]
  },
  {
   "cell_type": "code",
   "execution_count": 309,
   "id": "276657f3",
   "metadata": {},
   "outputs": [
    {
     "name": "stdout",
     "output_type": "stream",
     "text": [
      "this is a sample content for the txt file\n",
      "Another line of text\n"
     ]
    }
   ],
   "source": [
    "print(content)"
   ]
  },
  {
   "cell_type": "code",
   "execution_count": 296,
   "id": "e4fdbb02",
   "metadata": {},
   "outputs": [],
   "source": [
    "file.close()"
   ]
  },
  {
   "cell_type": "code",
   "execution_count": 297,
   "id": "266f2cff",
   "metadata": {},
   "outputs": [],
   "source": [
    "with open(filePath, \"r\") as file:\n",
    "    content = file.read()\n",
    "    content"
   ]
  },
  {
   "cell_type": "code",
   "execution_count": 304,
   "id": "d5556458",
   "metadata": {},
   "outputs": [],
   "source": [
    "filePath = \"./output.txt\"\n",
    "with open(filePath, \"w\") as file:\n",
    "    file.write(\"this is a sample content for the txt file\\n\")\n",
    "    file.write(\"Another line of text\")"
   ]
  },
  {
   "cell_type": "code",
   "execution_count": 311,
   "id": "f043e986",
   "metadata": {},
   "outputs": [
    {
     "name": "stdout",
     "output_type": "stream",
     "text": [
      "this is a sample content for the txt file\n",
      "\n",
      "Another line of text\n",
      "\n"
     ]
    }
   ],
   "source": [
    "with open(filePath, \"r\") as file:\n",
    "    for line in file:\n",
    "        print(line.strip())\n",
    "        input()"
   ]
  },
  {
   "cell_type": "markdown",
   "id": "3a174aac",
   "metadata": {},
   "source": [
    "#### CSV files"
   ]
  },
  {
   "cell_type": "code",
   "execution_count": 312,
   "id": "bbc5149b",
   "metadata": {},
   "outputs": [],
   "source": [
    "import csv"
   ]
  },
  {
   "cell_type": "code",
   "execution_count": 313,
   "id": "2fc393b7",
   "metadata": {},
   "outputs": [],
   "source": [
    "csvFilePath = \"./csvFile.csv\""
   ]
  },
  {
   "cell_type": "code",
   "execution_count": 314,
   "id": "76b025b1",
   "metadata": {},
   "outputs": [],
   "source": [
    "data = [\n",
    "    ['Name', 'Age', 'City'],\n",
    "    ['John', 28, 'New York'],\n",
    "    ['Jane', 32, 'Los Angeles'],\n",
    "    ['Mike', 25, 'Chicago']\n",
    "]"
   ]
  },
  {
   "cell_type": "code",
   "execution_count": 315,
   "id": "1ae9be91",
   "metadata": {},
   "outputs": [],
   "source": [
    "with open(csvFilePath, \"w\", newline='') as file:\n",
    "    csvWriter = csv.writer(file)\n",
    "    csvWriter.writerows(data)\n"
   ]
  },
  {
   "cell_type": "code",
   "execution_count": 334,
   "id": "4e6d91ee",
   "metadata": {},
   "outputs": [
    {
     "name": "stdout",
     "output_type": "stream",
     "text": [
      "['Name', 'Age', 'City']\n",
      "['John', '30', 'New York']\n",
      "['Jane', '35', 'Los Angeles']\n",
      "['Mike', '40', 'Chicago']\n"
     ]
    }
   ],
   "source": [
    "with open(csvFilePath, \"r\") as file:\n",
    "    csvReader = csv.reader(file)\n",
    "    for row in csvReader:\n",
    "        print(row)"
   ]
  },
  {
   "cell_type": "code",
   "execution_count": 333,
   "id": "b1174ad4",
   "metadata": {},
   "outputs": [
    {
     "name": "stdout",
     "output_type": "stream",
     "text": [
      "{'Name': 'John', 'Age': '30', 'City': 'New York'}\n",
      "{'Name': 'Jane', 'Age': '35', 'City': 'Los Angeles'}\n",
      "{'Name': 'Mike', 'Age': '40', 'City': 'Chicago'}\n"
     ]
    }
   ],
   "source": [
    "with open(csvFilePath, \"r\") as file:\n",
    "    csvReader = csv.DictReader(file)\n",
    "    for row in csvReader:\n",
    "        print(row)"
   ]
  },
  {
   "cell_type": "code",
   "execution_count": 331,
   "id": "5282bf6c",
   "metadata": {},
   "outputs": [],
   "source": [
    "dictData = [\n",
    "    {'Name': 'John', 'Age': '30', 'City': 'New York'},\n",
    "    {'Name': 'Jane', 'Age': '35', 'City': 'Los Angeles'},\n",
    "    {'Name': 'Mike', 'Age': '40', 'City': 'Chicago'}\n",
    "]"
   ]
  },
  {
   "cell_type": "code",
   "execution_count": 332,
   "id": "35a52000",
   "metadata": {},
   "outputs": [],
   "source": [
    "with open(csvFilePath, \"w\", newline='') as file:\n",
    "    fieldNames = ['Name', 'Age', 'City']\n",
    "    csvWriter = csv.DictWriter(file, fieldnames=fieldNames)\n",
    "    csvWriter.writeheader()\n",
    "    csvWriter.writerows(dictData)"
   ]
  },
  {
   "cell_type": "markdown",
   "id": "cea43205",
   "metadata": {},
   "source": [
    "#### Json File"
   ]
  },
  {
   "cell_type": "code",
   "execution_count": 337,
   "id": "afd0c698",
   "metadata": {},
   "outputs": [],
   "source": [
    "import json"
   ]
  },
  {
   "cell_type": "code",
   "execution_count": 335,
   "id": "72345b2c",
   "metadata": {},
   "outputs": [],
   "source": [
    "jsonPath = \"./jsonFIle.json\""
   ]
  },
  {
   "cell_type": "code",
   "execution_count": 336,
   "id": "72b9f465",
   "metadata": {},
   "outputs": [],
   "source": [
    "data = {'Name': 'John', 'Age': '30', 'City': 'New York'}"
   ]
  },
  {
   "cell_type": "code",
   "execution_count": 338,
   "id": "a5ac82ca",
   "metadata": {},
   "outputs": [],
   "source": [
    "with open(jsonPath, \"w\") as file:\n",
    "    json.dump(data, file, indent=4)\n"
   ]
  },
  {
   "cell_type": "code",
   "execution_count": 340,
   "id": "acfef7e0",
   "metadata": {},
   "outputs": [
    {
     "name": "stdout",
     "output_type": "stream",
     "text": [
      "{'Name': 'John', 'Age': '30', 'City': 'New York'}\n"
     ]
    }
   ],
   "source": [
    "with open(jsonPath, \"r\") as file:\n",
    "    data = json.load(file)\n",
    "    print(data)"
   ]
  },
  {
   "cell_type": "markdown",
   "id": "df2a578a",
   "metadata": {},
   "source": [
    "### Pandas Library"
   ]
  },
  {
   "cell_type": "code",
   "execution_count": null,
   "id": "dbb83642",
   "metadata": {},
   "outputs": [],
   "source": [
    "!pip install pandas"
   ]
  },
  {
   "cell_type": "code",
   "execution_count": 344,
   "id": "70b73855",
   "metadata": {},
   "outputs": [],
   "source": [
    "import pandas as pd"
   ]
  },
  {
   "cell_type": "code",
   "execution_count": 345,
   "id": "fd424fb5",
   "metadata": {},
   "outputs": [],
   "source": [
    "data = [10,20,30,40,50]"
   ]
  },
  {
   "cell_type": "code",
   "execution_count": 346,
   "id": "c41d03cc",
   "metadata": {},
   "outputs": [
    {
     "data": {
      "text/plain": [
       "0    10\n",
       "1    20\n",
       "2    30\n",
       "3    40\n",
       "4    50\n",
       "dtype: int64"
      ]
     },
     "execution_count": 346,
     "metadata": {},
     "output_type": "execute_result"
    }
   ],
   "source": [
    "pd.Series(data)"
   ]
  },
  {
   "cell_type": "code",
   "execution_count": 347,
   "id": "d4df03fa",
   "metadata": {},
   "outputs": [
    {
     "data": {
      "text/plain": [
       "a    10\n",
       "b    20\n",
       "c    30\n",
       "d    40\n",
       "e    50\n",
       "dtype: int64"
      ]
     },
     "execution_count": 347,
     "metadata": {},
     "output_type": "execute_result"
    }
   ],
   "source": [
    "pd.Series(data, index=['a', 'b', 'c', 'd', 'e'])"
   ]
  },
  {
   "cell_type": "code",
   "execution_count": 348,
   "id": "2553977e",
   "metadata": {},
   "outputs": [],
   "source": [
    "dict_data = {'apples': 10, 'bananas': 20, 'cherries': 30}"
   ]
  },
  {
   "cell_type": "code",
   "execution_count": 349,
   "id": "a878dfc2",
   "metadata": {},
   "outputs": [
    {
     "data": {
      "text/plain": [
       "apples      10\n",
       "bananas     20\n",
       "cherries    30\n",
       "dtype: int64"
      ]
     },
     "execution_count": 349,
     "metadata": {},
     "output_type": "execute_result"
    }
   ],
   "source": [
    "pd.Series(dict_data)"
   ]
  },
  {
   "cell_type": "code",
   "execution_count": 350,
   "id": "d43e6149",
   "metadata": {},
   "outputs": [],
   "source": [
    "data = {\n",
    "    'Name': ['Alice', 'Bob', 'Charlie', 'David'],\n",
    "    'Age': [24, 27, 22, 32],\n",
    "    'City': ['New York', 'San Francisco', 'Los Angeles', 'Chicago']\n",
    "}"
   ]
  },
  {
   "cell_type": "code",
   "execution_count": 351,
   "id": "d4f83198",
   "metadata": {},
   "outputs": [],
   "source": [
    "df = pd.DataFrame(data)"
   ]
  },
  {
   "cell_type": "code",
   "execution_count": 352,
   "id": "e7bcb0d6",
   "metadata": {},
   "outputs": [
    {
     "data": {
      "text/html": [
       "<div>\n",
       "<style scoped>\n",
       "    .dataframe tbody tr th:only-of-type {\n",
       "        vertical-align: middle;\n",
       "    }\n",
       "\n",
       "    .dataframe tbody tr th {\n",
       "        vertical-align: top;\n",
       "    }\n",
       "\n",
       "    .dataframe thead th {\n",
       "        text-align: right;\n",
       "    }\n",
       "</style>\n",
       "<table border=\"1\" class=\"dataframe\">\n",
       "  <thead>\n",
       "    <tr style=\"text-align: right;\">\n",
       "      <th></th>\n",
       "      <th>Name</th>\n",
       "      <th>Age</th>\n",
       "      <th>City</th>\n",
       "    </tr>\n",
       "  </thead>\n",
       "  <tbody>\n",
       "    <tr>\n",
       "      <th>0</th>\n",
       "      <td>Alice</td>\n",
       "      <td>24</td>\n",
       "      <td>New York</td>\n",
       "    </tr>\n",
       "    <tr>\n",
       "      <th>1</th>\n",
       "      <td>Bob</td>\n",
       "      <td>27</td>\n",
       "      <td>San Francisco</td>\n",
       "    </tr>\n",
       "    <tr>\n",
       "      <th>2</th>\n",
       "      <td>Charlie</td>\n",
       "      <td>22</td>\n",
       "      <td>Los Angeles</td>\n",
       "    </tr>\n",
       "    <tr>\n",
       "      <th>3</th>\n",
       "      <td>David</td>\n",
       "      <td>32</td>\n",
       "      <td>Chicago</td>\n",
       "    </tr>\n",
       "  </tbody>\n",
       "</table>\n",
       "</div>"
      ],
      "text/plain": [
       "      Name  Age           City\n",
       "0    Alice   24       New York\n",
       "1      Bob   27  San Francisco\n",
       "2  Charlie   22    Los Angeles\n",
       "3    David   32        Chicago"
      ]
     },
     "execution_count": 352,
     "metadata": {},
     "output_type": "execute_result"
    }
   ],
   "source": [
    "df"
   ]
  },
  {
   "cell_type": "code",
   "execution_count": 353,
   "id": "134c4530",
   "metadata": {},
   "outputs": [],
   "source": [
    "data = [\n",
    "    [1, 2, 3],\n",
    "    [4, 5, 6],\n",
    "    [7, 8, 9]\n",
    "]"
   ]
  },
  {
   "cell_type": "code",
   "execution_count": 354,
   "id": "1bd70d04",
   "metadata": {},
   "outputs": [],
   "source": [
    "df = pd.DataFrame(data, columns=[\"A\", \"B\", \"C\"], index=[1,2,3])"
   ]
  },
  {
   "cell_type": "code",
   "execution_count": 355,
   "id": "48ad4fdf",
   "metadata": {},
   "outputs": [
    {
     "data": {
      "text/html": [
       "<div>\n",
       "<style scoped>\n",
       "    .dataframe tbody tr th:only-of-type {\n",
       "        vertical-align: middle;\n",
       "    }\n",
       "\n",
       "    .dataframe tbody tr th {\n",
       "        vertical-align: top;\n",
       "    }\n",
       "\n",
       "    .dataframe thead th {\n",
       "        text-align: right;\n",
       "    }\n",
       "</style>\n",
       "<table border=\"1\" class=\"dataframe\">\n",
       "  <thead>\n",
       "    <tr style=\"text-align: right;\">\n",
       "      <th></th>\n",
       "      <th>A</th>\n",
       "      <th>B</th>\n",
       "      <th>C</th>\n",
       "    </tr>\n",
       "  </thead>\n",
       "  <tbody>\n",
       "    <tr>\n",
       "      <th>1</th>\n",
       "      <td>1</td>\n",
       "      <td>2</td>\n",
       "      <td>3</td>\n",
       "    </tr>\n",
       "    <tr>\n",
       "      <th>2</th>\n",
       "      <td>4</td>\n",
       "      <td>5</td>\n",
       "      <td>6</td>\n",
       "    </tr>\n",
       "    <tr>\n",
       "      <th>3</th>\n",
       "      <td>7</td>\n",
       "      <td>8</td>\n",
       "      <td>9</td>\n",
       "    </tr>\n",
       "  </tbody>\n",
       "</table>\n",
       "</div>"
      ],
      "text/plain": [
       "   A  B  C\n",
       "1  1  2  3\n",
       "2  4  5  6\n",
       "3  7  8  9"
      ]
     },
     "execution_count": 355,
     "metadata": {},
     "output_type": "execute_result"
    }
   ],
   "source": [
    "df"
   ]
  },
  {
   "cell_type": "code",
   "execution_count": 367,
   "id": "7793f8b4",
   "metadata": {},
   "outputs": [],
   "source": [
    "csvData = pd.read_csv(\"./csvFile.csv\")"
   ]
  },
  {
   "cell_type": "code",
   "execution_count": 368,
   "id": "a8b32a80",
   "metadata": {},
   "outputs": [
    {
     "data": {
      "text/html": [
       "<div>\n",
       "<style scoped>\n",
       "    .dataframe tbody tr th:only-of-type {\n",
       "        vertical-align: middle;\n",
       "    }\n",
       "\n",
       "    .dataframe tbody tr th {\n",
       "        vertical-align: top;\n",
       "    }\n",
       "\n",
       "    .dataframe thead th {\n",
       "        text-align: right;\n",
       "    }\n",
       "</style>\n",
       "<table border=\"1\" class=\"dataframe\">\n",
       "  <thead>\n",
       "    <tr style=\"text-align: right;\">\n",
       "      <th></th>\n",
       "      <th>Name</th>\n",
       "      <th>Age</th>\n",
       "      <th>City</th>\n",
       "    </tr>\n",
       "  </thead>\n",
       "  <tbody>\n",
       "    <tr>\n",
       "      <th>0</th>\n",
       "      <td>John</td>\n",
       "      <td>30</td>\n",
       "      <td>New York</td>\n",
       "    </tr>\n",
       "    <tr>\n",
       "      <th>1</th>\n",
       "      <td>Jane</td>\n",
       "      <td>35</td>\n",
       "      <td>Los Angeles</td>\n",
       "    </tr>\n",
       "    <tr>\n",
       "      <th>2</th>\n",
       "      <td>Mike</td>\n",
       "      <td>40</td>\n",
       "      <td>Chicago</td>\n",
       "    </tr>\n",
       "  </tbody>\n",
       "</table>\n",
       "</div>"
      ],
      "text/plain": [
       "   Name  Age         City\n",
       "0  John   30     New York\n",
       "1  Jane   35  Los Angeles\n",
       "2  Mike   40      Chicago"
      ]
     },
     "execution_count": 368,
     "metadata": {},
     "output_type": "execute_result"
    }
   ],
   "source": [
    "csvData"
   ]
  },
  {
   "cell_type": "code",
   "execution_count": 369,
   "id": "c094711e",
   "metadata": {},
   "outputs": [],
   "source": [
    "csvData[\"Salary\"] = [5000, 8500, 6500]"
   ]
  },
  {
   "cell_type": "code",
   "execution_count": 370,
   "id": "e85b4892",
   "metadata": {},
   "outputs": [
    {
     "data": {
      "text/html": [
       "<div>\n",
       "<style scoped>\n",
       "    .dataframe tbody tr th:only-of-type {\n",
       "        vertical-align: middle;\n",
       "    }\n",
       "\n",
       "    .dataframe tbody tr th {\n",
       "        vertical-align: top;\n",
       "    }\n",
       "\n",
       "    .dataframe thead th {\n",
       "        text-align: right;\n",
       "    }\n",
       "</style>\n",
       "<table border=\"1\" class=\"dataframe\">\n",
       "  <thead>\n",
       "    <tr style=\"text-align: right;\">\n",
       "      <th></th>\n",
       "      <th>Name</th>\n",
       "      <th>Age</th>\n",
       "      <th>City</th>\n",
       "      <th>Salary</th>\n",
       "    </tr>\n",
       "  </thead>\n",
       "  <tbody>\n",
       "    <tr>\n",
       "      <th>0</th>\n",
       "      <td>John</td>\n",
       "      <td>30</td>\n",
       "      <td>New York</td>\n",
       "      <td>5000</td>\n",
       "    </tr>\n",
       "    <tr>\n",
       "      <th>1</th>\n",
       "      <td>Jane</td>\n",
       "      <td>35</td>\n",
       "      <td>Los Angeles</td>\n",
       "      <td>8500</td>\n",
       "    </tr>\n",
       "    <tr>\n",
       "      <th>2</th>\n",
       "      <td>Mike</td>\n",
       "      <td>40</td>\n",
       "      <td>Chicago</td>\n",
       "      <td>6500</td>\n",
       "    </tr>\n",
       "  </tbody>\n",
       "</table>\n",
       "</div>"
      ],
      "text/plain": [
       "   Name  Age         City  Salary\n",
       "0  John   30     New York    5000\n",
       "1  Jane   35  Los Angeles    8500\n",
       "2  Mike   40      Chicago    6500"
      ]
     },
     "execution_count": 370,
     "metadata": {},
     "output_type": "execute_result"
    }
   ],
   "source": [
    "csvData"
   ]
  },
  {
   "cell_type": "code",
   "execution_count": 372,
   "id": "892ac5a2",
   "metadata": {},
   "outputs": [
    {
     "data": {
      "text/html": [
       "<div>\n",
       "<style scoped>\n",
       "    .dataframe tbody tr th:only-of-type {\n",
       "        vertical-align: middle;\n",
       "    }\n",
       "\n",
       "    .dataframe tbody tr th {\n",
       "        vertical-align: top;\n",
       "    }\n",
       "\n",
       "    .dataframe thead th {\n",
       "        text-align: right;\n",
       "    }\n",
       "</style>\n",
       "<table border=\"1\" class=\"dataframe\">\n",
       "  <thead>\n",
       "    <tr style=\"text-align: right;\">\n",
       "      <th></th>\n",
       "      <th>Name</th>\n",
       "      <th>Age</th>\n",
       "      <th>Salary</th>\n",
       "    </tr>\n",
       "  </thead>\n",
       "  <tbody>\n",
       "    <tr>\n",
       "      <th>0</th>\n",
       "      <td>John</td>\n",
       "      <td>30</td>\n",
       "      <td>5000</td>\n",
       "    </tr>\n",
       "    <tr>\n",
       "      <th>1</th>\n",
       "      <td>Jane</td>\n",
       "      <td>35</td>\n",
       "      <td>8500</td>\n",
       "    </tr>\n",
       "    <tr>\n",
       "      <th>2</th>\n",
       "      <td>Mike</td>\n",
       "      <td>40</td>\n",
       "      <td>6500</td>\n",
       "    </tr>\n",
       "  </tbody>\n",
       "</table>\n",
       "</div>"
      ],
      "text/plain": [
       "   Name  Age  Salary\n",
       "0  John   30    5000\n",
       "1  Jane   35    8500\n",
       "2  Mike   40    6500"
      ]
     },
     "execution_count": 372,
     "metadata": {},
     "output_type": "execute_result"
    }
   ],
   "source": [
    "csvData.drop(\"City\", axis=1)"
   ]
  },
  {
   "cell_type": "code",
   "execution_count": 373,
   "id": "84f22157",
   "metadata": {},
   "outputs": [],
   "source": [
    "csvData = pd.read_csv(\"./data.csv\")"
   ]
  },
  {
   "cell_type": "code",
   "execution_count": 374,
   "id": "699fe212",
   "metadata": {},
   "outputs": [
    {
     "data": {
      "text/html": [
       "<div>\n",
       "<style scoped>\n",
       "    .dataframe tbody tr th:only-of-type {\n",
       "        vertical-align: middle;\n",
       "    }\n",
       "\n",
       "    .dataframe tbody tr th {\n",
       "        vertical-align: top;\n",
       "    }\n",
       "\n",
       "    .dataframe thead th {\n",
       "        text-align: right;\n",
       "    }\n",
       "</style>\n",
       "<table border=\"1\" class=\"dataframe\">\n",
       "  <thead>\n",
       "    <tr style=\"text-align: right;\">\n",
       "      <th></th>\n",
       "      <th>feature1</th>\n",
       "      <th>feature2</th>\n",
       "      <th>category</th>\n",
       "      <th>label</th>\n",
       "    </tr>\n",
       "  </thead>\n",
       "  <tbody>\n",
       "    <tr>\n",
       "      <th>0</th>\n",
       "      <td>0.496714</td>\n",
       "      <td>-70.768537</td>\n",
       "      <td>B</td>\n",
       "      <td>0</td>\n",
       "    </tr>\n",
       "    <tr>\n",
       "      <th>1</th>\n",
       "      <td>-0.138264</td>\n",
       "      <td>-21.032266</td>\n",
       "      <td>B</td>\n",
       "      <td>0</td>\n",
       "    </tr>\n",
       "    <tr>\n",
       "      <th>2</th>\n",
       "      <td>0.647689</td>\n",
       "      <td>-17.135726</td>\n",
       "      <td>A</td>\n",
       "      <td>0</td>\n",
       "    </tr>\n",
       "  </tbody>\n",
       "</table>\n",
       "</div>"
      ],
      "text/plain": [
       "   feature1   feature2 category  label\n",
       "0  0.496714 -70.768537        B      0\n",
       "1 -0.138264 -21.032266        B      0\n",
       "2  0.647689 -17.135726        A      0"
      ]
     },
     "execution_count": 374,
     "metadata": {},
     "output_type": "execute_result"
    }
   ],
   "source": [
    "csvData.head(3)"
   ]
  },
  {
   "cell_type": "code",
   "execution_count": 375,
   "id": "2f33c576",
   "metadata": {},
   "outputs": [
    {
     "data": {
      "text/html": [
       "<div>\n",
       "<style scoped>\n",
       "    .dataframe tbody tr th:only-of-type {\n",
       "        vertical-align: middle;\n",
       "    }\n",
       "\n",
       "    .dataframe tbody tr th {\n",
       "        vertical-align: top;\n",
       "    }\n",
       "\n",
       "    .dataframe thead th {\n",
       "        text-align: right;\n",
       "    }\n",
       "</style>\n",
       "<table border=\"1\" class=\"dataframe\">\n",
       "  <thead>\n",
       "    <tr style=\"text-align: right;\">\n",
       "      <th></th>\n",
       "      <th>feature1</th>\n",
       "      <th>feature2</th>\n",
       "      <th>category</th>\n",
       "      <th>label</th>\n",
       "    </tr>\n",
       "  </thead>\n",
       "  <tbody>\n",
       "    <tr>\n",
       "      <th>97</th>\n",
       "      <td>0.261055</td>\n",
       "      <td>7.686255</td>\n",
       "      <td>B</td>\n",
       "      <td>0</td>\n",
       "    </tr>\n",
       "    <tr>\n",
       "      <th>98</th>\n",
       "      <td>0.005113</td>\n",
       "      <td>2.910436</td>\n",
       "      <td>A</td>\n",
       "      <td>0</td>\n",
       "    </tr>\n",
       "    <tr>\n",
       "      <th>99</th>\n",
       "      <td>-0.234587</td>\n",
       "      <td>-57.148515</td>\n",
       "      <td>B</td>\n",
       "      <td>0</td>\n",
       "    </tr>\n",
       "  </tbody>\n",
       "</table>\n",
       "</div>"
      ],
      "text/plain": [
       "    feature1   feature2 category  label\n",
       "97  0.261055   7.686255        B      0\n",
       "98  0.005113   2.910436        A      0\n",
       "99 -0.234587 -57.148515        B      0"
      ]
     },
     "execution_count": 375,
     "metadata": {},
     "output_type": "execute_result"
    }
   ],
   "source": [
    "csvData.tail(3)"
   ]
  },
  {
   "cell_type": "code",
   "execution_count": 376,
   "id": "ad608474",
   "metadata": {},
   "outputs": [
    {
     "data": {
      "text/plain": [
       "(100, 4)"
      ]
     },
     "execution_count": 376,
     "metadata": {},
     "output_type": "execute_result"
    }
   ],
   "source": [
    "csvData.shape"
   ]
  },
  {
   "cell_type": "code",
   "execution_count": 365,
   "id": "096f7c1a",
   "metadata": {},
   "outputs": [
    {
     "data": {
      "text/html": [
       "<div>\n",
       "<style scoped>\n",
       "    .dataframe tbody tr th:only-of-type {\n",
       "        vertical-align: middle;\n",
       "    }\n",
       "\n",
       "    .dataframe tbody tr th {\n",
       "        vertical-align: top;\n",
       "    }\n",
       "\n",
       "    .dataframe thead th {\n",
       "        text-align: right;\n",
       "    }\n",
       "</style>\n",
       "<table border=\"1\" class=\"dataframe\">\n",
       "  <thead>\n",
       "    <tr style=\"text-align: right;\">\n",
       "      <th></th>\n",
       "      <th>feature1</th>\n",
       "      <th>feature2</th>\n",
       "      <th>label</th>\n",
       "    </tr>\n",
       "  </thead>\n",
       "  <tbody>\n",
       "    <tr>\n",
       "      <th>count</th>\n",
       "      <td>100.000000</td>\n",
       "      <td>100.000000</td>\n",
       "      <td>100.000000</td>\n",
       "    </tr>\n",
       "    <tr>\n",
       "      <th>mean</th>\n",
       "      <td>-0.103847</td>\n",
       "      <td>1.115229</td>\n",
       "      <td>0.540000</td>\n",
       "    </tr>\n",
       "    <tr>\n",
       "      <th>std</th>\n",
       "      <td>0.908168</td>\n",
       "      <td>47.683448</td>\n",
       "      <td>0.500908</td>\n",
       "    </tr>\n",
       "    <tr>\n",
       "      <th>min</th>\n",
       "      <td>-2.619745</td>\n",
       "      <td>-95.938561</td>\n",
       "      <td>0.000000</td>\n",
       "    </tr>\n",
       "    <tr>\n",
       "      <th>25%</th>\n",
       "      <td>-0.600906</td>\n",
       "      <td>-40.283026</td>\n",
       "      <td>0.000000</td>\n",
       "    </tr>\n",
       "    <tr>\n",
       "      <th>50%</th>\n",
       "      <td>-0.126956</td>\n",
       "      <td>4.205358</td>\n",
       "      <td>1.000000</td>\n",
       "    </tr>\n",
       "    <tr>\n",
       "      <th>75%</th>\n",
       "      <td>0.405952</td>\n",
       "      <td>26.908522</td>\n",
       "      <td>1.000000</td>\n",
       "    </tr>\n",
       "    <tr>\n",
       "      <th>max</th>\n",
       "      <td>1.852278</td>\n",
       "      <td>136.008458</td>\n",
       "      <td>1.000000</td>\n",
       "    </tr>\n",
       "  </tbody>\n",
       "</table>\n",
       "</div>"
      ],
      "text/plain": [
       "         feature1    feature2       label\n",
       "count  100.000000  100.000000  100.000000\n",
       "mean    -0.103847    1.115229    0.540000\n",
       "std      0.908168   47.683448    0.500908\n",
       "min     -2.619745  -95.938561    0.000000\n",
       "25%     -0.600906  -40.283026    0.000000\n",
       "50%     -0.126956    4.205358    1.000000\n",
       "75%      0.405952   26.908522    1.000000\n",
       "max      1.852278  136.008458    1.000000"
      ]
     },
     "execution_count": 365,
     "metadata": {},
     "output_type": "execute_result"
    }
   ],
   "source": [
    "csvData.describe()"
   ]
  },
  {
   "cell_type": "code",
   "execution_count": 366,
   "id": "954f1f7e",
   "metadata": {},
   "outputs": [
    {
     "data": {
      "text/html": [
       "<div>\n",
       "<style scoped>\n",
       "    .dataframe tbody tr th:only-of-type {\n",
       "        vertical-align: middle;\n",
       "    }\n",
       "\n",
       "    .dataframe tbody tr th {\n",
       "        vertical-align: top;\n",
       "    }\n",
       "\n",
       "    .dataframe thead th {\n",
       "        text-align: right;\n",
       "    }\n",
       "</style>\n",
       "<table border=\"1\" class=\"dataframe\">\n",
       "  <thead>\n",
       "    <tr style=\"text-align: right;\">\n",
       "      <th></th>\n",
       "      <th>feature1</th>\n",
       "      <th>feature2</th>\n",
       "      <th>category</th>\n",
       "      <th>label</th>\n",
       "    </tr>\n",
       "  </thead>\n",
       "  <tbody>\n",
       "    <tr>\n",
       "      <th>0</th>\n",
       "      <td>0.496714</td>\n",
       "      <td>-70.768537</td>\n",
       "      <td>B</td>\n",
       "      <td>0</td>\n",
       "    </tr>\n",
       "    <tr>\n",
       "      <th>1</th>\n",
       "      <td>-0.138264</td>\n",
       "      <td>-21.032266</td>\n",
       "      <td>B</td>\n",
       "      <td>0</td>\n",
       "    </tr>\n",
       "    <tr>\n",
       "      <th>2</th>\n",
       "      <td>0.647689</td>\n",
       "      <td>-17.135726</td>\n",
       "      <td>A</td>\n",
       "      <td>0</td>\n",
       "    </tr>\n",
       "    <tr>\n",
       "      <th>3</th>\n",
       "      <td>1.523030</td>\n",
       "      <td>-40.113863</td>\n",
       "      <td>D</td>\n",
       "      <td>1</td>\n",
       "    </tr>\n",
       "    <tr>\n",
       "      <th>4</th>\n",
       "      <td>-0.234153</td>\n",
       "      <td>-8.064286</td>\n",
       "      <td>A</td>\n",
       "      <td>0</td>\n",
       "    </tr>\n",
       "    <tr>\n",
       "      <th>...</th>\n",
       "      <td>...</td>\n",
       "      <td>...</td>\n",
       "      <td>...</td>\n",
       "      <td>...</td>\n",
       "    </tr>\n",
       "    <tr>\n",
       "      <th>95</th>\n",
       "      <td>-1.463515</td>\n",
       "      <td>19.265869</td>\n",
       "      <td>B</td>\n",
       "      <td>0</td>\n",
       "    </tr>\n",
       "    <tr>\n",
       "      <th>96</th>\n",
       "      <td>0.296120</td>\n",
       "      <td>-44.192872</td>\n",
       "      <td>A</td>\n",
       "      <td>0</td>\n",
       "    </tr>\n",
       "    <tr>\n",
       "      <th>97</th>\n",
       "      <td>0.261055</td>\n",
       "      <td>7.686255</td>\n",
       "      <td>B</td>\n",
       "      <td>0</td>\n",
       "    </tr>\n",
       "    <tr>\n",
       "      <th>98</th>\n",
       "      <td>0.005113</td>\n",
       "      <td>2.910436</td>\n",
       "      <td>A</td>\n",
       "      <td>0</td>\n",
       "    </tr>\n",
       "    <tr>\n",
       "      <th>99</th>\n",
       "      <td>-0.234587</td>\n",
       "      <td>-57.148515</td>\n",
       "      <td>B</td>\n",
       "      <td>0</td>\n",
       "    </tr>\n",
       "  </tbody>\n",
       "</table>\n",
       "<p>100 rows × 4 columns</p>\n",
       "</div>"
      ],
      "text/plain": [
       "    feature1   feature2 category  label\n",
       "0   0.496714 -70.768537        B      0\n",
       "1  -0.138264 -21.032266        B      0\n",
       "2   0.647689 -17.135726        A      0\n",
       "3   1.523030 -40.113863        D      1\n",
       "4  -0.234153  -8.064286        A      0\n",
       "..       ...        ...      ...    ...\n",
       "95 -1.463515  19.265869        B      0\n",
       "96  0.296120 -44.192872        A      0\n",
       "97  0.261055   7.686255        B      0\n",
       "98  0.005113   2.910436        A      0\n",
       "99 -0.234587 -57.148515        B      0\n",
       "\n",
       "[100 rows x 4 columns]"
      ]
     },
     "execution_count": 366,
     "metadata": {},
     "output_type": "execute_result"
    }
   ],
   "source": [
    "csvData"
   ]
  },
  {
   "cell_type": "code",
   "execution_count": 378,
   "id": "bb5f8024",
   "metadata": {},
   "outputs": [
    {
     "data": {
      "text/html": [
       "<div>\n",
       "<style scoped>\n",
       "    .dataframe tbody tr th:only-of-type {\n",
       "        vertical-align: middle;\n",
       "    }\n",
       "\n",
       "    .dataframe tbody tr th {\n",
       "        vertical-align: top;\n",
       "    }\n",
       "\n",
       "    .dataframe thead th {\n",
       "        text-align: right;\n",
       "    }\n",
       "</style>\n",
       "<table border=\"1\" class=\"dataframe\">\n",
       "  <thead>\n",
       "    <tr style=\"text-align: right;\">\n",
       "      <th></th>\n",
       "      <th>feature1</th>\n",
       "      <th>feature2</th>\n",
       "      <th>label</th>\n",
       "    </tr>\n",
       "    <tr>\n",
       "      <th>category</th>\n",
       "      <th></th>\n",
       "      <th></th>\n",
       "      <th></th>\n",
       "    </tr>\n",
       "  </thead>\n",
       "  <tbody>\n",
       "    <tr>\n",
       "      <th>A</th>\n",
       "      <td>-3.260241</td>\n",
       "      <td>47.290757</td>\n",
       "      <td>8</td>\n",
       "    </tr>\n",
       "    <tr>\n",
       "      <th>B</th>\n",
       "      <td>-3.442436</td>\n",
       "      <td>-10.813358</td>\n",
       "      <td>17</td>\n",
       "    </tr>\n",
       "    <tr>\n",
       "      <th>C</th>\n",
       "      <td>0.008503</td>\n",
       "      <td>222.268779</td>\n",
       "      <td>13</td>\n",
       "    </tr>\n",
       "    <tr>\n",
       "      <th>D</th>\n",
       "      <td>-3.690478</td>\n",
       "      <td>-147.223242</td>\n",
       "      <td>16</td>\n",
       "    </tr>\n",
       "  </tbody>\n",
       "</table>\n",
       "</div>"
      ],
      "text/plain": [
       "          feature1    feature2  label\n",
       "category                             \n",
       "A        -3.260241   47.290757      8\n",
       "B        -3.442436  -10.813358     17\n",
       "C         0.008503  222.268779     13\n",
       "D        -3.690478 -147.223242     16"
      ]
     },
     "execution_count": 378,
     "metadata": {},
     "output_type": "execute_result"
    }
   ],
   "source": [
    "csvData.groupby(\"category\").sum()"
   ]
  },
  {
   "cell_type": "code",
   "execution_count": 379,
   "id": "b3b0b322",
   "metadata": {},
   "outputs": [
    {
     "data": {
      "text/plain": [
       "0    -3.442436\n",
       "1    -3.442436\n",
       "2    -3.260241\n",
       "3    -3.690478\n",
       "4    -3.260241\n",
       "        ...   \n",
       "95   -3.442436\n",
       "96   -3.260241\n",
       "97   -3.442436\n",
       "98   -3.260241\n",
       "99   -3.442436\n",
       "Name: feature1, Length: 100, dtype: float64"
      ]
     },
     "execution_count": 379,
     "metadata": {},
     "output_type": "execute_result"
    }
   ],
   "source": [
    "csvData.groupby(\"category\")['feature1'].transform('sum')"
   ]
  },
  {
   "cell_type": "code",
   "execution_count": 380,
   "id": "789a01ed",
   "metadata": {},
   "outputs": [
    {
     "data": {
      "text/html": [
       "<div>\n",
       "<style scoped>\n",
       "    .dataframe tbody tr th:only-of-type {\n",
       "        vertical-align: middle;\n",
       "    }\n",
       "\n",
       "    .dataframe tbody tr th {\n",
       "        vertical-align: top;\n",
       "    }\n",
       "\n",
       "    .dataframe thead th {\n",
       "        text-align: right;\n",
       "    }\n",
       "</style>\n",
       "<table border=\"1\" class=\"dataframe\">\n",
       "  <thead>\n",
       "    <tr style=\"text-align: right;\">\n",
       "      <th></th>\n",
       "      <th>feature1</th>\n",
       "      <th>feature2</th>\n",
       "      <th>category</th>\n",
       "      <th>label</th>\n",
       "    </tr>\n",
       "  </thead>\n",
       "  <tbody>\n",
       "    <tr>\n",
       "      <th>68</th>\n",
       "      <td>0.361636</td>\n",
       "      <td>-12.269406</td>\n",
       "      <td>A</td>\n",
       "      <td>0</td>\n",
       "    </tr>\n",
       "    <tr>\n",
       "      <th>24</th>\n",
       "      <td>-0.544383</td>\n",
       "      <td>29.342855</td>\n",
       "      <td>A</td>\n",
       "      <td>0</td>\n",
       "    </tr>\n",
       "    <tr>\n",
       "      <th>61</th>\n",
       "      <td>-0.185659</td>\n",
       "      <td>39.354230</td>\n",
       "      <td>A</td>\n",
       "      <td>1</td>\n",
       "    </tr>\n",
       "    <tr>\n",
       "      <th>22</th>\n",
       "      <td>0.067528</td>\n",
       "      <td>70.139716</td>\n",
       "      <td>A</td>\n",
       "      <td>0</td>\n",
       "    </tr>\n",
       "    <tr>\n",
       "      <th>62</th>\n",
       "      <td>-1.106335</td>\n",
       "      <td>57.929779</td>\n",
       "      <td>A</td>\n",
       "      <td>1</td>\n",
       "    </tr>\n",
       "    <tr>\n",
       "      <th>...</th>\n",
       "      <td>...</td>\n",
       "      <td>...</td>\n",
       "      <td>...</td>\n",
       "      <td>...</td>\n",
       "    </tr>\n",
       "    <tr>\n",
       "      <th>25</th>\n",
       "      <td>0.110923</td>\n",
       "      <td>109.522781</td>\n",
       "      <td>D</td>\n",
       "      <td>0</td>\n",
       "    </tr>\n",
       "    <tr>\n",
       "      <th>27</th>\n",
       "      <td>0.375698</td>\n",
       "      <td>-28.314886</td>\n",
       "      <td>D</td>\n",
       "      <td>0</td>\n",
       "    </tr>\n",
       "    <tr>\n",
       "      <th>79</th>\n",
       "      <td>-1.987569</td>\n",
       "      <td>136.008458</td>\n",
       "      <td>D</td>\n",
       "      <td>1</td>\n",
       "    </tr>\n",
       "    <tr>\n",
       "      <th>17</th>\n",
       "      <td>0.314247</td>\n",
       "      <td>-58.433902</td>\n",
       "      <td>D</td>\n",
       "      <td>0</td>\n",
       "    </tr>\n",
       "    <tr>\n",
       "      <th>81</th>\n",
       "      <td>0.357113</td>\n",
       "      <td>-42.857878</td>\n",
       "      <td>D</td>\n",
       "      <td>1</td>\n",
       "    </tr>\n",
       "  </tbody>\n",
       "</table>\n",
       "<p>100 rows × 4 columns</p>\n",
       "</div>"
      ],
      "text/plain": [
       "    feature1    feature2 category  label\n",
       "68  0.361636  -12.269406        A      0\n",
       "24 -0.544383   29.342855        A      0\n",
       "61 -0.185659   39.354230        A      1\n",
       "22  0.067528   70.139716        A      0\n",
       "62 -1.106335   57.929779        A      1\n",
       "..       ...         ...      ...    ...\n",
       "25  0.110923  109.522781        D      0\n",
       "27  0.375698  -28.314886        D      0\n",
       "79 -1.987569  136.008458        D      1\n",
       "17  0.314247  -58.433902        D      0\n",
       "81  0.357113  -42.857878        D      1\n",
       "\n",
       "[100 rows x 4 columns]"
      ]
     },
     "execution_count": 380,
     "metadata": {},
     "output_type": "execute_result"
    }
   ],
   "source": [
    "csvData.sort_values(\"category\")"
   ]
  },
  {
   "cell_type": "code",
   "execution_count": 382,
   "id": "42589094",
   "metadata": {},
   "outputs": [
    {
     "data": {
      "text/plain": [
       "feature1    False\n",
       "feature2    False\n",
       "category    False\n",
       "label       False\n",
       "dtype: bool"
      ]
     },
     "execution_count": 382,
     "metadata": {},
     "output_type": "execute_result"
    }
   ],
   "source": [
    "csvData.isna().any()"
   ]
  },
  {
   "cell_type": "code",
   "execution_count": 383,
   "id": "eb9eb7f4",
   "metadata": {},
   "outputs": [
    {
     "data": {
      "text/html": [
       "<div>\n",
       "<style scoped>\n",
       "    .dataframe tbody tr th:only-of-type {\n",
       "        vertical-align: middle;\n",
       "    }\n",
       "\n",
       "    .dataframe tbody tr th {\n",
       "        vertical-align: top;\n",
       "    }\n",
       "\n",
       "    .dataframe thead th {\n",
       "        text-align: right;\n",
       "    }\n",
       "</style>\n",
       "<table border=\"1\" class=\"dataframe\">\n",
       "  <thead>\n",
       "    <tr style=\"text-align: right;\">\n",
       "      <th></th>\n",
       "      <th>feature1</th>\n",
       "      <th>feature2</th>\n",
       "      <th>category</th>\n",
       "      <th>label</th>\n",
       "    </tr>\n",
       "  </thead>\n",
       "  <tbody>\n",
       "    <tr>\n",
       "      <th>0</th>\n",
       "      <td>0.496714</td>\n",
       "      <td>-70.768537</td>\n",
       "      <td>B</td>\n",
       "      <td>0</td>\n",
       "    </tr>\n",
       "    <tr>\n",
       "      <th>1</th>\n",
       "      <td>-0.138264</td>\n",
       "      <td>-21.032266</td>\n",
       "      <td>B</td>\n",
       "      <td>0</td>\n",
       "    </tr>\n",
       "    <tr>\n",
       "      <th>2</th>\n",
       "      <td>0.647689</td>\n",
       "      <td>-17.135726</td>\n",
       "      <td>A</td>\n",
       "      <td>0</td>\n",
       "    </tr>\n",
       "    <tr>\n",
       "      <th>3</th>\n",
       "      <td>1.523030</td>\n",
       "      <td>-40.113863</td>\n",
       "      <td>D</td>\n",
       "      <td>1</td>\n",
       "    </tr>\n",
       "    <tr>\n",
       "      <th>4</th>\n",
       "      <td>-0.234153</td>\n",
       "      <td>-8.064286</td>\n",
       "      <td>A</td>\n",
       "      <td>0</td>\n",
       "    </tr>\n",
       "    <tr>\n",
       "      <th>...</th>\n",
       "      <td>...</td>\n",
       "      <td>...</td>\n",
       "      <td>...</td>\n",
       "      <td>...</td>\n",
       "    </tr>\n",
       "    <tr>\n",
       "      <th>95</th>\n",
       "      <td>-1.463515</td>\n",
       "      <td>19.265869</td>\n",
       "      <td>B</td>\n",
       "      <td>0</td>\n",
       "    </tr>\n",
       "    <tr>\n",
       "      <th>96</th>\n",
       "      <td>0.296120</td>\n",
       "      <td>-44.192872</td>\n",
       "      <td>A</td>\n",
       "      <td>0</td>\n",
       "    </tr>\n",
       "    <tr>\n",
       "      <th>97</th>\n",
       "      <td>0.261055</td>\n",
       "      <td>7.686255</td>\n",
       "      <td>B</td>\n",
       "      <td>0</td>\n",
       "    </tr>\n",
       "    <tr>\n",
       "      <th>98</th>\n",
       "      <td>0.005113</td>\n",
       "      <td>2.910436</td>\n",
       "      <td>A</td>\n",
       "      <td>0</td>\n",
       "    </tr>\n",
       "    <tr>\n",
       "      <th>99</th>\n",
       "      <td>-0.234587</td>\n",
       "      <td>-57.148515</td>\n",
       "      <td>B</td>\n",
       "      <td>0</td>\n",
       "    </tr>\n",
       "  </tbody>\n",
       "</table>\n",
       "<p>100 rows × 4 columns</p>\n",
       "</div>"
      ],
      "text/plain": [
       "    feature1   feature2 category  label\n",
       "0   0.496714 -70.768537        B      0\n",
       "1  -0.138264 -21.032266        B      0\n",
       "2   0.647689 -17.135726        A      0\n",
       "3   1.523030 -40.113863        D      1\n",
       "4  -0.234153  -8.064286        A      0\n",
       "..       ...        ...      ...    ...\n",
       "95 -1.463515  19.265869        B      0\n",
       "96  0.296120 -44.192872        A      0\n",
       "97  0.261055   7.686255        B      0\n",
       "98  0.005113   2.910436        A      0\n",
       "99 -0.234587 -57.148515        B      0\n",
       "\n",
       "[100 rows x 4 columns]"
      ]
     },
     "execution_count": 383,
     "metadata": {},
     "output_type": "execute_result"
    }
   ],
   "source": [
    "csvData.drop_duplicates(subset=\"feature1\")"
   ]
  },
  {
   "cell_type": "markdown",
   "id": "cccbdf1e",
   "metadata": {},
   "source": [
    "### Example : hangman game"
   ]
  },
  {
   "cell_type": "code",
   "execution_count": 279,
   "id": "af1d90cf",
   "metadata": {},
   "outputs": [],
   "source": [
    "f = open(\"wordList.txt\", \"r\")\n",
    "lines = f.readlines()\n",
    "words = [i.strip() for i in lines]"
   ]
  },
  {
   "cell_type": "code",
   "execution_count": 280,
   "id": "5c0bcc2a",
   "metadata": {
    "collapsed": true
   },
   "outputs": [
    {
     "data": {
      "text/plain": [
       "['AA',\n",
       " 'AAH',\n",
       " 'AAHED',\n",
       " 'AAHING',\n",
       " 'AAHS',\n",
       " 'AAL',\n",
       " 'AALII',\n",
       " 'AALIIS',\n",
       " 'AALS',\n",
       " 'AARDVARK',\n",
       " 'AARDVARKS',\n",
       " 'AARDWOLF',\n",
       " 'AARDWOLVES',\n",
       " 'AARGH',\n",
       " 'AARRGH',\n",
       " 'AARRGHH',\n",
       " 'AARTI',\n",
       " 'AARTIS',\n",
       " 'AAS',\n",
       " 'AASVOGEL',\n",
       " 'AASVOGELS',\n",
       " 'AB',\n",
       " 'ABA',\n",
       " 'ABAC',\n",
       " 'ABACA',\n",
       " 'ABACAS',\n",
       " 'ABACI',\n",
       " 'ABACK',\n",
       " 'ABACS',\n",
       " 'ABACTERIAL',\n",
       " 'ABACTINAL',\n",
       " 'ABACTINALLY',\n",
       " 'ABACTOR',\n",
       " 'ABACTORS',\n",
       " 'ABACUS',\n",
       " 'ABACUSES',\n",
       " 'ABAFT',\n",
       " 'ABAKA',\n",
       " 'ABAKAS',\n",
       " 'ABALONE',\n",
       " 'ABALONES',\n",
       " 'ABAMP',\n",
       " 'ABAMPERE',\n",
       " 'ABAMPERES',\n",
       " 'ABAMPS',\n",
       " 'ABAND',\n",
       " 'ABANDED',\n",
       " 'ABANDING',\n",
       " 'ABANDON',\n",
       " 'ABANDONED',\n",
       " 'ABANDONEDLY',\n",
       " 'ABANDONEE',\n",
       " 'ABANDONEES',\n",
       " 'ABANDONER',\n",
       " 'ABANDONERS',\n",
       " 'ABANDONING',\n",
       " 'ABANDONMENT',\n",
       " 'ABANDONMENTS',\n",
       " 'ABANDONS',\n",
       " 'ABANDONWARE',\n",
       " 'ABANDONWARES',\n",
       " 'ABANDS',\n",
       " 'ABAPICAL',\n",
       " 'ABAS',\n",
       " 'ABASE',\n",
       " 'ABASED',\n",
       " 'ABASEDLY',\n",
       " 'ABASEMENT',\n",
       " 'ABASEMENTS',\n",
       " 'ABASER',\n",
       " 'ABASERS',\n",
       " 'ABASES',\n",
       " 'ABASH',\n",
       " 'ABASHED',\n",
       " 'ABASHEDLY',\n",
       " 'ABASHES',\n",
       " 'ABASHING',\n",
       " 'ABASHLESS',\n",
       " 'ABASHMENT',\n",
       " 'ABASHMENTS',\n",
       " 'ABASIA',\n",
       " 'ABASIAS',\n",
       " 'ABASING',\n",
       " 'ABASK',\n",
       " 'ABATABLE',\n",
       " 'ABATE',\n",
       " 'ABATED',\n",
       " 'ABATEMENT',\n",
       " 'ABATEMENTS',\n",
       " 'ABATER',\n",
       " 'ABATERS',\n",
       " 'ABATES',\n",
       " 'ABATING',\n",
       " 'ABATIS',\n",
       " 'ABATISES',\n",
       " 'ABATOR',\n",
       " 'ABATORS',\n",
       " 'ABATTIS',\n",
       " 'ABATTISES',\n",
       " 'ABATTOIR',\n",
       " 'ABATTOIRS',\n",
       " 'ABATTU',\n",
       " 'ABATURE',\n",
       " 'ABATURES',\n",
       " 'ABAXIAL',\n",
       " 'ABAXILE',\n",
       " 'ABAYA',\n",
       " 'ABAYAS',\n",
       " 'ABB',\n",
       " 'ABBA',\n",
       " 'ABBACIES',\n",
       " 'ABBACY',\n",
       " 'ABBAS',\n",
       " 'ABBATIAL',\n",
       " 'ABBE',\n",
       " 'ABBED',\n",
       " 'ABBES',\n",
       " 'ABBESS',\n",
       " 'ABBESSES',\n",
       " 'ABBEY',\n",
       " 'ABBEYS',\n",
       " 'ABBOT',\n",
       " 'ABBOTCIES',\n",
       " 'ABBOTCY',\n",
       " 'ABBOTS',\n",
       " 'ABBOTSHIP',\n",
       " 'ABBOTSHIPS',\n",
       " 'ABBREVIATE',\n",
       " 'ABBREVIATED',\n",
       " 'ABBREVIATES',\n",
       " 'ABBREVIATING',\n",
       " 'ABBREVIATION',\n",
       " 'ABBREVIATIONS',\n",
       " 'ABBREVIATOR',\n",
       " 'ABBREVIATORS',\n",
       " 'ABBREVIATORY',\n",
       " 'ABBREVIATURE',\n",
       " 'ABBREVIATURES',\n",
       " 'ABBS',\n",
       " 'ABCEE',\n",
       " 'ABCEES',\n",
       " 'ABCOULOMB',\n",
       " 'ABCOULOMBS',\n",
       " 'ABDABS',\n",
       " 'ABDICABLE',\n",
       " 'ABDICANT',\n",
       " 'ABDICATE',\n",
       " 'ABDICATED',\n",
       " 'ABDICATES',\n",
       " 'ABDICATING',\n",
       " 'ABDICATION',\n",
       " 'ABDICATIONS',\n",
       " 'ABDICATIVE',\n",
       " 'ABDICATOR',\n",
       " 'ABDICATORS',\n",
       " 'ABDOMEN',\n",
       " 'ABDOMENS',\n",
       " 'ABDOMINA',\n",
       " 'ABDOMINAL',\n",
       " 'ABDOMINALLY',\n",
       " 'ABDOMINALS',\n",
       " 'ABDOMINOPLASTY',\n",
       " 'ABDOMINOUS',\n",
       " 'ABDUCE',\n",
       " 'ABDUCED',\n",
       " 'ABDUCENS',\n",
       " 'ABDUCENT',\n",
       " 'ABDUCENTES',\n",
       " 'ABDUCES',\n",
       " 'ABDUCING',\n",
       " 'ABDUCT',\n",
       " 'ABDUCTED',\n",
       " 'ABDUCTEE',\n",
       " 'ABDUCTEES',\n",
       " 'ABDUCTING',\n",
       " 'ABDUCTION',\n",
       " 'ABDUCTIONS',\n",
       " 'ABDUCTOR',\n",
       " 'ABDUCTORES',\n",
       " 'ABDUCTORS',\n",
       " 'ABDUCTS',\n",
       " 'ABEAM',\n",
       " 'ABEAR',\n",
       " 'ABEARING',\n",
       " 'ABEARS',\n",
       " 'ABECEDARIAN',\n",
       " 'ABECEDARIANS',\n",
       " 'ABED',\n",
       " 'ABEGGING',\n",
       " 'ABEIGH',\n",
       " 'ABELE',\n",
       " 'ABELES',\n",
       " 'ABELIA',\n",
       " 'ABELIAN',\n",
       " 'ABELIAS',\n",
       " 'ABELMOSK',\n",
       " 'ABELMOSKS',\n",
       " 'ABERDEVINE',\n",
       " 'ABERDEVINES',\n",
       " 'ABERNETHIES',\n",
       " 'ABERNETHY',\n",
       " 'ABERRANCE',\n",
       " 'ABERRANCES',\n",
       " 'ABERRANCIES',\n",
       " 'ABERRANCY',\n",
       " 'ABERRANT',\n",
       " 'ABERRANTLY',\n",
       " 'ABERRANTS',\n",
       " 'ABERRATE',\n",
       " 'ABERRATED',\n",
       " 'ABERRATES',\n",
       " 'ABERRATING',\n",
       " 'ABERRATION',\n",
       " 'ABERRATIONAL',\n",
       " 'ABERRATIONS',\n",
       " 'ABESSIVE',\n",
       " 'ABESSIVES',\n",
       " 'ABET',\n",
       " 'ABETMENT',\n",
       " 'ABETMENTS',\n",
       " 'ABETS',\n",
       " 'ABETTAL',\n",
       " 'ABETTALS',\n",
       " 'ABETTED',\n",
       " 'ABETTER',\n",
       " 'ABETTERS',\n",
       " 'ABETTING',\n",
       " 'ABETTOR',\n",
       " 'ABETTORS',\n",
       " 'ABEYANCE',\n",
       " 'ABEYANCES',\n",
       " 'ABEYANCIES',\n",
       " 'ABEYANCY',\n",
       " 'ABEYANT',\n",
       " 'ABFARAD',\n",
       " 'ABFARADS',\n",
       " 'ABHENRIES',\n",
       " 'ABHENRY',\n",
       " 'ABHENRYS',\n",
       " 'ABHOMINABLE',\n",
       " 'ABHOR',\n",
       " 'ABHORRED',\n",
       " 'ABHORRENCE',\n",
       " 'ABHORRENCES',\n",
       " 'ABHORRENCIES',\n",
       " 'ABHORRENCY',\n",
       " 'ABHORRENT',\n",
       " 'ABHORRENTLY',\n",
       " 'ABHORRER',\n",
       " 'ABHORRERS',\n",
       " 'ABHORRING',\n",
       " 'ABHORRINGS',\n",
       " 'ABHORS',\n",
       " 'ABID',\n",
       " 'ABIDANCE',\n",
       " 'ABIDANCES',\n",
       " 'ABIDDEN',\n",
       " 'ABIDE',\n",
       " 'ABIDED',\n",
       " 'ABIDER',\n",
       " 'ABIDERS',\n",
       " 'ABIDES',\n",
       " 'ABIDING',\n",
       " 'ABIDINGLY',\n",
       " 'ABIDINGS',\n",
       " 'ABIES',\n",
       " 'ABIETIC',\n",
       " 'ABIGAIL',\n",
       " 'ABIGAILS',\n",
       " 'ABILITIES',\n",
       " 'ABILITY',\n",
       " 'ABIOGENESES',\n",
       " 'ABIOGENESIS',\n",
       " 'ABIOGENETIC',\n",
       " 'ABIOGENETICALLY',\n",
       " 'ABIOGENIC',\n",
       " 'ABIOGENICALLY',\n",
       " 'ABIOGENIST',\n",
       " 'ABIOGENISTS',\n",
       " 'ABIOLOGICAL',\n",
       " 'ABIOSES',\n",
       " 'ABIOSIS',\n",
       " 'ABIOTIC',\n",
       " 'ABIOTICALLY',\n",
       " 'ABIOTROPHIC',\n",
       " 'ABIOTROPHIES',\n",
       " 'ABIOTROPHY',\n",
       " 'ABIRRITANT',\n",
       " 'ABIRRITANTS',\n",
       " 'ABIRRITATE',\n",
       " 'ABIRRITATED',\n",
       " 'ABIRRITATES',\n",
       " 'ABIRRITATING',\n",
       " 'ABITURIENT',\n",
       " 'ABITURIENTS',\n",
       " 'ABJECT',\n",
       " 'ABJECTED',\n",
       " 'ABJECTING',\n",
       " 'ABJECTION',\n",
       " 'ABJECTIONS',\n",
       " 'ABJECTLY',\n",
       " 'ABJECTNESS',\n",
       " 'ABJECTNESSES',\n",
       " 'ABJECTS',\n",
       " 'ABJOINT',\n",
       " 'ABJOINTED',\n",
       " 'ABJOINTING',\n",
       " 'ABJOINTS',\n",
       " 'ABJUNCTION',\n",
       " 'ABJUNCTIONS',\n",
       " 'ABJURATION',\n",
       " 'ABJURATIONS',\n",
       " 'ABJURE',\n",
       " 'ABJURED',\n",
       " 'ABJURER',\n",
       " 'ABJURERS',\n",
       " 'ABJURES',\n",
       " 'ABJURING',\n",
       " 'ABLACTATION',\n",
       " 'ABLACTATIONS',\n",
       " 'ABLATE',\n",
       " 'ABLATED',\n",
       " 'ABLATES',\n",
       " 'ABLATING',\n",
       " 'ABLATION',\n",
       " 'ABLATIONS',\n",
       " 'ABLATITIOUS',\n",
       " 'ABLATIVAL',\n",
       " 'ABLATIVE',\n",
       " 'ABLATIVELY',\n",
       " 'ABLATIVES',\n",
       " 'ABLATOR',\n",
       " 'ABLATORS',\n",
       " 'ABLAUT',\n",
       " 'ABLAUTS',\n",
       " 'ABLAZE',\n",
       " 'ABLE',\n",
       " 'ABLED',\n",
       " 'ABLEGATE',\n",
       " 'ABLEGATES',\n",
       " 'ABLEISM',\n",
       " 'ABLEISMS',\n",
       " 'ABLEIST',\n",
       " 'ABLEISTS',\n",
       " 'ABLER',\n",
       " 'ABLES',\n",
       " 'ABLEST',\n",
       " 'ABLET',\n",
       " 'ABLETS',\n",
       " 'ABLING',\n",
       " 'ABLINGS',\n",
       " 'ABLINS',\n",
       " 'ABLOOM',\n",
       " 'ABLOW',\n",
       " 'ABLUENT',\n",
       " 'ABLUENTS',\n",
       " 'ABLUSH',\n",
       " 'ABLUTED',\n",
       " 'ABLUTION',\n",
       " 'ABLUTIONARY',\n",
       " 'ABLUTIONS',\n",
       " 'ABLUTOMANE',\n",
       " 'ABLUTOMANES',\n",
       " 'ABLY',\n",
       " 'ABMHO',\n",
       " 'ABMHOS',\n",
       " 'ABNEGATE',\n",
       " 'ABNEGATED',\n",
       " 'ABNEGATES',\n",
       " 'ABNEGATING',\n",
       " 'ABNEGATION',\n",
       " 'ABNEGATIONS',\n",
       " 'ABNEGATOR',\n",
       " 'ABNEGATORS',\n",
       " 'ABNORMAL',\n",
       " 'ABNORMALISM',\n",
       " 'ABNORMALISMS',\n",
       " 'ABNORMALITIES',\n",
       " 'ABNORMALITY',\n",
       " 'ABNORMALLY',\n",
       " 'ABNORMALS',\n",
       " 'ABNORMITIES',\n",
       " 'ABNORMITY',\n",
       " 'ABNORMOUS',\n",
       " 'ABO',\n",
       " 'ABOARD',\n",
       " 'ABODE',\n",
       " 'ABODED',\n",
       " 'ABODEMENT',\n",
       " 'ABODEMENTS',\n",
       " 'ABODES',\n",
       " 'ABODING',\n",
       " 'ABOHM',\n",
       " 'ABOHMS',\n",
       " 'ABOIDEAU',\n",
       " 'ABOIDEAUS',\n",
       " 'ABOIDEAUX',\n",
       " 'ABOIL',\n",
       " 'ABOITEAU',\n",
       " 'ABOITEAUS',\n",
       " 'ABOITEAUX',\n",
       " 'ABOLISH',\n",
       " 'ABOLISHABLE',\n",
       " 'ABOLISHED',\n",
       " 'ABOLISHER',\n",
       " 'ABOLISHERS',\n",
       " 'ABOLISHES',\n",
       " 'ABOLISHING',\n",
       " 'ABOLISHMENT',\n",
       " 'ABOLISHMENTS',\n",
       " 'ABOLITION',\n",
       " 'ABOLITIONAL',\n",
       " 'ABOLITIONARY',\n",
       " 'ABOLITIONISM',\n",
       " 'ABOLITIONISMS',\n",
       " 'ABOLITIONIST',\n",
       " 'ABOLITIONISTS',\n",
       " 'ABOLITIONS',\n",
       " 'ABOLLA',\n",
       " 'ABOLLAE',\n",
       " 'ABOLLAS',\n",
       " 'ABOMA',\n",
       " 'ABOMAS',\n",
       " 'ABOMASA',\n",
       " 'ABOMASAL',\n",
       " 'ABOMASI',\n",
       " 'ABOMASUM',\n",
       " 'ABOMASUS',\n",
       " 'ABOMASUSES',\n",
       " 'ABOMINABLE',\n",
       " 'ABOMINABLENESS',\n",
       " 'ABOMINABLY',\n",
       " 'ABOMINATE',\n",
       " 'ABOMINATED',\n",
       " 'ABOMINATES',\n",
       " 'ABOMINATING',\n",
       " 'ABOMINATION',\n",
       " 'ABOMINATIONS',\n",
       " 'ABOMINATOR',\n",
       " 'ABOMINATORS',\n",
       " 'ABONDANCE',\n",
       " 'ABONDANCES',\n",
       " 'ABONNEMENT',\n",
       " 'ABONNEMENTS',\n",
       " 'ABOON',\n",
       " 'ABORAL',\n",
       " 'ABORALLY',\n",
       " 'ABORD',\n",
       " 'ABORDED',\n",
       " 'ABORDING',\n",
       " 'ABORDS',\n",
       " 'ABORE',\n",
       " 'ABORIGEN',\n",
       " 'ABORIGENS',\n",
       " 'ABORIGIN',\n",
       " 'ABORIGINAL',\n",
       " 'ABORIGINALISM',\n",
       " 'ABORIGINALISMS',\n",
       " 'ABORIGINALITIES',\n",
       " 'ABORIGINALITY',\n",
       " 'ABORIGINALLY',\n",
       " 'ABORIGINALS',\n",
       " 'ABORIGINE',\n",
       " 'ABORIGINES',\n",
       " 'ABORIGINS',\n",
       " 'ABORNE',\n",
       " 'ABORNING',\n",
       " 'ABORT',\n",
       " 'ABORTED',\n",
       " 'ABORTEE',\n",
       " 'ABORTEES',\n",
       " 'ABORTER',\n",
       " 'ABORTERS',\n",
       " 'ABORTICIDE',\n",
       " 'ABORTICIDES',\n",
       " 'ABORTIFACIENT',\n",
       " 'ABORTIFACIENTS',\n",
       " 'ABORTING',\n",
       " 'ABORTION',\n",
       " 'ABORTIONAL',\n",
       " 'ABORTIONIST',\n",
       " 'ABORTIONISTS',\n",
       " 'ABORTIONS',\n",
       " 'ABORTIVE',\n",
       " 'ABORTIVELY',\n",
       " 'ABORTIVENESS',\n",
       " 'ABORTIVENESSES',\n",
       " 'ABORTS',\n",
       " 'ABORTUARIES',\n",
       " 'ABORTUARY',\n",
       " 'ABORTUS',\n",
       " 'ABORTUSES',\n",
       " 'ABOS',\n",
       " 'ABOUGHT',\n",
       " 'ABOULIA',\n",
       " 'ABOULIAS',\n",
       " 'ABOULIC',\n",
       " 'ABOUND',\n",
       " 'ABOUNDED',\n",
       " 'ABOUNDING',\n",
       " 'ABOUNDS',\n",
       " 'ABOUT',\n",
       " 'ABOUTS',\n",
       " 'ABOVE',\n",
       " 'ABOVEBOARD',\n",
       " 'ABOVEGROUND',\n",
       " 'ABOVES',\n",
       " 'ABRACADABRA',\n",
       " 'ABRACADABRAS',\n",
       " 'ABRACHIA',\n",
       " 'ABRACHIAS',\n",
       " 'ABRADABLE',\n",
       " 'ABRADANT',\n",
       " 'ABRADANTS',\n",
       " 'ABRADE',\n",
       " 'ABRADED',\n",
       " 'ABRADER',\n",
       " 'ABRADERS',\n",
       " 'ABRADES',\n",
       " 'ABRADING',\n",
       " 'ABRAID',\n",
       " 'ABRAIDED',\n",
       " 'ABRAIDING',\n",
       " 'ABRAIDS',\n",
       " 'ABRAM',\n",
       " 'ABRANCHIAL',\n",
       " 'ABRANCHIATE',\n",
       " 'ABRASAX',\n",
       " 'ABRASAXES',\n",
       " 'ABRASION',\n",
       " 'ABRASIONS',\n",
       " 'ABRASIVE',\n",
       " 'ABRASIVELY',\n",
       " 'ABRASIVENESS',\n",
       " 'ABRASIVENESSES',\n",
       " 'ABRASIVES',\n",
       " 'ABRAXAS',\n",
       " 'ABRAXASES',\n",
       " 'ABRAY',\n",
       " 'ABRAYED',\n",
       " 'ABRAYING',\n",
       " 'ABRAYS',\n",
       " 'ABRAZO',\n",
       " 'ABRAZOS',\n",
       " 'ABREACT',\n",
       " 'ABREACTED',\n",
       " 'ABREACTING',\n",
       " 'ABREACTION',\n",
       " 'ABREACTIONS',\n",
       " 'ABREACTIVE',\n",
       " 'ABREACTS',\n",
       " 'ABREAST',\n",
       " 'ABREGE',\n",
       " 'ABREGES',\n",
       " 'ABRI',\n",
       " 'ABRICOCK',\n",
       " 'ABRICOCKS',\n",
       " 'ABRIDGABLE',\n",
       " 'ABRIDGE',\n",
       " 'ABRIDGEABLE',\n",
       " 'ABRIDGED',\n",
       " 'ABRIDGEMENT',\n",
       " 'ABRIDGEMENTS',\n",
       " 'ABRIDGER',\n",
       " 'ABRIDGERS',\n",
       " 'ABRIDGES',\n",
       " 'ABRIDGING',\n",
       " 'ABRIDGMENT',\n",
       " 'ABRIDGMENTS',\n",
       " 'ABRIM',\n",
       " 'ABRIN',\n",
       " 'ABRINS',\n",
       " 'ABRIS',\n",
       " 'ABROACH',\n",
       " 'ABROAD',\n",
       " 'ABROADS',\n",
       " 'ABROGABLE',\n",
       " 'ABROGATE',\n",
       " 'ABROGATED',\n",
       " 'ABROGATES',\n",
       " 'ABROGATING',\n",
       " 'ABROGATION',\n",
       " 'ABROGATIONS',\n",
       " 'ABROGATIVE',\n",
       " 'ABROGATOR',\n",
       " 'ABROGATORS',\n",
       " 'ABROOKE',\n",
       " 'ABROOKED',\n",
       " 'ABROOKES',\n",
       " 'ABROOKING',\n",
       " 'ABROSIA',\n",
       " 'ABROSIAS',\n",
       " 'ABRUPT',\n",
       " 'ABRUPTER',\n",
       " 'ABRUPTEST',\n",
       " 'ABRUPTION',\n",
       " 'ABRUPTIONS',\n",
       " 'ABRUPTLY',\n",
       " 'ABRUPTNESS',\n",
       " 'ABRUPTNESSES',\n",
       " 'ABRUPTS',\n",
       " 'ABS',\n",
       " 'ABSCESS',\n",
       " 'ABSCESSED',\n",
       " 'ABSCESSES',\n",
       " 'ABSCESSING',\n",
       " 'ABSCIND',\n",
       " 'ABSCINDED',\n",
       " 'ABSCINDING',\n",
       " 'ABSCINDS',\n",
       " 'ABSCISE',\n",
       " 'ABSCISED',\n",
       " 'ABSCISES',\n",
       " 'ABSCISIN',\n",
       " 'ABSCISING',\n",
       " 'ABSCISINS',\n",
       " 'ABSCISS',\n",
       " 'ABSCISSA',\n",
       " 'ABSCISSAE',\n",
       " 'ABSCISSAS',\n",
       " 'ABSCISSE',\n",
       " 'ABSCISSES',\n",
       " 'ABSCISSIN',\n",
       " 'ABSCISSINS',\n",
       " 'ABSCISSION',\n",
       " 'ABSCISSIONS',\n",
       " 'ABSCOND',\n",
       " 'ABSCONDED',\n",
       " 'ABSCONDENCE',\n",
       " 'ABSCONDENCES',\n",
       " 'ABSCONDER',\n",
       " 'ABSCONDERS',\n",
       " 'ABSCONDING',\n",
       " 'ABSCONDS',\n",
       " 'ABSEIL',\n",
       " 'ABSEILED',\n",
       " 'ABSEILING',\n",
       " 'ABSEILINGS',\n",
       " 'ABSEILS',\n",
       " 'ABSENCE',\n",
       " 'ABSENCES',\n",
       " 'ABSENT',\n",
       " 'ABSENTED',\n",
       " 'ABSENTEE',\n",
       " 'ABSENTEEISM',\n",
       " 'ABSENTEEISMS',\n",
       " 'ABSENTEES',\n",
       " 'ABSENTER',\n",
       " 'ABSENTERS',\n",
       " 'ABSENTING',\n",
       " 'ABSENTLY',\n",
       " 'ABSENTMINDED',\n",
       " 'ABSENTMINDEDLY',\n",
       " 'ABSENTS',\n",
       " 'ABSEY',\n",
       " 'ABSEYS',\n",
       " 'ABSINTH',\n",
       " 'ABSINTHE',\n",
       " 'ABSINTHES',\n",
       " 'ABSINTHIATED',\n",
       " 'ABSINTHISM',\n",
       " 'ABSINTHISMS',\n",
       " 'ABSINTHS',\n",
       " 'ABSIT',\n",
       " 'ABSITS',\n",
       " 'ABSOLUTE',\n",
       " 'ABSOLUTELY',\n",
       " 'ABSOLUTENESS',\n",
       " 'ABSOLUTENESSES',\n",
       " 'ABSOLUTER',\n",
       " 'ABSOLUTES',\n",
       " 'ABSOLUTEST',\n",
       " 'ABSOLUTION',\n",
       " 'ABSOLUTIONS',\n",
       " 'ABSOLUTISE',\n",
       " 'ABSOLUTISED',\n",
       " 'ABSOLUTISES',\n",
       " 'ABSOLUTISING',\n",
       " 'ABSOLUTISM',\n",
       " 'ABSOLUTISMS',\n",
       " 'ABSOLUTIST',\n",
       " 'ABSOLUTISTIC',\n",
       " 'ABSOLUTISTS',\n",
       " 'ABSOLUTIVE',\n",
       " 'ABSOLUTIZE',\n",
       " 'ABSOLUTIZED',\n",
       " 'ABSOLUTIZES',\n",
       " 'ABSOLUTIZING',\n",
       " 'ABSOLUTORY',\n",
       " 'ABSOLVABLE',\n",
       " 'ABSOLVE',\n",
       " 'ABSOLVED',\n",
       " 'ABSOLVENT',\n",
       " 'ABSOLVENTS',\n",
       " 'ABSOLVER',\n",
       " 'ABSOLVERS',\n",
       " 'ABSOLVES',\n",
       " 'ABSOLVING',\n",
       " 'ABSOLVITOR',\n",
       " 'ABSOLVITORS',\n",
       " 'ABSONANT',\n",
       " 'ABSORB',\n",
       " 'ABSORBABILITIES',\n",
       " 'ABSORBABILITY',\n",
       " 'ABSORBABLE',\n",
       " 'ABSORBANCE',\n",
       " 'ABSORBANCES',\n",
       " 'ABSORBANCIES',\n",
       " 'ABSORBANCY',\n",
       " 'ABSORBANT',\n",
       " 'ABSORBANTS',\n",
       " 'ABSORBATE',\n",
       " 'ABSORBATES',\n",
       " 'ABSORBED',\n",
       " 'ABSORBEDLY',\n",
       " 'ABSORBEFACIENT',\n",
       " 'ABSORBEFACIENTS',\n",
       " 'ABSORBENCIES',\n",
       " 'ABSORBENCY',\n",
       " 'ABSORBENT',\n",
       " 'ABSORBENTS',\n",
       " 'ABSORBER',\n",
       " 'ABSORBERS',\n",
       " 'ABSORBING',\n",
       " 'ABSORBINGLY',\n",
       " 'ABSORBS',\n",
       " 'ABSORPTANCE',\n",
       " 'ABSORPTANCES',\n",
       " 'ABSORPTIOMETER',\n",
       " 'ABSORPTIOMETERS',\n",
       " 'ABSORPTION',\n",
       " 'ABSORPTIONS',\n",
       " 'ABSORPTIVE',\n",
       " 'ABSORPTIVENESS',\n",
       " 'ABSORPTIVITIES',\n",
       " 'ABSORPTIVITY',\n",
       " 'ABSQUATULATE',\n",
       " 'ABSQUATULATED',\n",
       " 'ABSQUATULATES',\n",
       " 'ABSQUATULATING',\n",
       " 'ABSTAIN',\n",
       " 'ABSTAINED',\n",
       " 'ABSTAINER',\n",
       " 'ABSTAINERS',\n",
       " 'ABSTAINING',\n",
       " 'ABSTAINS',\n",
       " 'ABSTEMIOUS',\n",
       " 'ABSTEMIOUSLY',\n",
       " 'ABSTEMIOUSNESS',\n",
       " 'ABSTENTION',\n",
       " 'ABSTENTIONISM',\n",
       " 'ABSTENTIONISMS',\n",
       " 'ABSTENTIONIST',\n",
       " 'ABSTENTIONISTS',\n",
       " 'ABSTENTIONS',\n",
       " 'ABSTENTIOUS',\n",
       " 'ABSTERGE',\n",
       " 'ABSTERGED',\n",
       " 'ABSTERGENT',\n",
       " 'ABSTERGENTS',\n",
       " 'ABSTERGES',\n",
       " 'ABSTERGING',\n",
       " 'ABSTERSION',\n",
       " 'ABSTERSIONS',\n",
       " 'ABSTERSIVE',\n",
       " 'ABSTERSIVES',\n",
       " 'ABSTINENCE',\n",
       " 'ABSTINENCES',\n",
       " 'ABSTINENCIES',\n",
       " 'ABSTINENCY',\n",
       " 'ABSTINENT',\n",
       " 'ABSTINENTLY',\n",
       " 'ABSTRACT',\n",
       " 'ABSTRACTABLE',\n",
       " 'ABSTRACTED',\n",
       " 'ABSTRACTEDLY',\n",
       " 'ABSTRACTEDNESS',\n",
       " 'ABSTRACTER',\n",
       " 'ABSTRACTERS',\n",
       " 'ABSTRACTEST',\n",
       " 'ABSTRACTING',\n",
       " 'ABSTRACTION',\n",
       " 'ABSTRACTIONAL',\n",
       " 'ABSTRACTIONISM',\n",
       " 'ABSTRACTIONISMS',\n",
       " 'ABSTRACTIONIST',\n",
       " 'ABSTRACTIONISTS',\n",
       " 'ABSTRACTIONS',\n",
       " 'ABSTRACTIVE',\n",
       " 'ABSTRACTIVELY',\n",
       " 'ABSTRACTIVES',\n",
       " 'ABSTRACTLY',\n",
       " 'ABSTRACTNESS',\n",
       " 'ABSTRACTNESSES',\n",
       " 'ABSTRACTOR',\n",
       " 'ABSTRACTORS',\n",
       " 'ABSTRACTS',\n",
       " 'ABSTRICT',\n",
       " 'ABSTRICTED',\n",
       " 'ABSTRICTING',\n",
       " 'ABSTRICTION',\n",
       " 'ABSTRICTIONS',\n",
       " 'ABSTRICTS',\n",
       " 'ABSTRUSE',\n",
       " 'ABSTRUSELY',\n",
       " 'ABSTRUSENESS',\n",
       " 'ABSTRUSENESSES',\n",
       " 'ABSTRUSER',\n",
       " 'ABSTRUSEST',\n",
       " 'ABSTRUSITIES',\n",
       " 'ABSTRUSITY',\n",
       " 'ABSURD',\n",
       " 'ABSURDER',\n",
       " 'ABSURDEST',\n",
       " 'ABSURDISM',\n",
       " 'ABSURDISMS',\n",
       " 'ABSURDIST',\n",
       " 'ABSURDISTS',\n",
       " 'ABSURDITIES',\n",
       " 'ABSURDITY',\n",
       " 'ABSURDLY',\n",
       " 'ABSURDNESS',\n",
       " 'ABSURDNESSES',\n",
       " 'ABSURDS',\n",
       " 'ABTHANE',\n",
       " 'ABTHANES',\n",
       " 'ABUBBLE',\n",
       " 'ABUILDING',\n",
       " 'ABULIA',\n",
       " 'ABULIAS',\n",
       " 'ABULIC',\n",
       " 'ABUNA',\n",
       " 'ABUNAS',\n",
       " 'ABUNDANCE',\n",
       " 'ABUNDANCES',\n",
       " 'ABUNDANCIES',\n",
       " 'ABUNDANCY',\n",
       " 'ABUNDANT',\n",
       " 'ABUNDANTLY',\n",
       " 'ABUNE',\n",
       " 'ABURST',\n",
       " 'ABUSABLE',\n",
       " 'ABUSAGE',\n",
       " 'ABUSAGES',\n",
       " 'ABUSE',\n",
       " 'ABUSED',\n",
       " 'ABUSER',\n",
       " 'ABUSERS',\n",
       " 'ABUSES',\n",
       " 'ABUSING',\n",
       " 'ABUSION',\n",
       " 'ABUSIONS',\n",
       " 'ABUSIVE',\n",
       " 'ABUSIVELY',\n",
       " 'ABUSIVENESS',\n",
       " 'ABUSIVENESSES',\n",
       " 'ABUT',\n",
       " 'ABUTILON',\n",
       " 'ABUTILONS',\n",
       " 'ABUTMENT',\n",
       " 'ABUTMENTS',\n",
       " 'ABUTS',\n",
       " 'ABUTTAL',\n",
       " 'ABUTTALS',\n",
       " 'ABUTTED',\n",
       " 'ABUTTER',\n",
       " 'ABUTTERS',\n",
       " 'ABUTTING',\n",
       " 'ABUZZ',\n",
       " 'ABVOLT',\n",
       " 'ABVOLTS',\n",
       " 'ABWATT',\n",
       " 'ABWATTS',\n",
       " 'ABY',\n",
       " 'ABYE',\n",
       " 'ABYEING',\n",
       " 'ABYES',\n",
       " 'ABYING',\n",
       " 'ABYS',\n",
       " 'ABYSM',\n",
       " 'ABYSMAL',\n",
       " 'ABYSMALLY',\n",
       " 'ABYSMS',\n",
       " 'ABYSS',\n",
       " 'ABYSSAL',\n",
       " 'ABYSSES',\n",
       " 'ABYSSOPELAGIC',\n",
       " 'ACACIA',\n",
       " 'ACACIAS',\n",
       " 'ACADEME',\n",
       " 'ACADEMES',\n",
       " 'ACADEMIA',\n",
       " 'ACADEMIAS',\n",
       " 'ACADEMIC',\n",
       " 'ACADEMICAL',\n",
       " 'ACADEMICALISM',\n",
       " 'ACADEMICALISMS',\n",
       " 'ACADEMICALLY',\n",
       " 'ACADEMICALS',\n",
       " 'ACADEMICIAN',\n",
       " 'ACADEMICIANS',\n",
       " 'ACADEMICISM',\n",
       " 'ACADEMICISMS',\n",
       " 'ACADEMICS',\n",
       " 'ACADEMIES',\n",
       " 'ACADEMISM',\n",
       " 'ACADEMISMS',\n",
       " 'ACADEMIST',\n",
       " 'ACADEMISTS',\n",
       " 'ACADEMY',\n",
       " 'ACAI',\n",
       " 'ACAIS',\n",
       " 'ACAJOU',\n",
       " 'ACAJOUS',\n",
       " 'ACALCULIA',\n",
       " 'ACALCULIAS',\n",
       " 'ACALEPH',\n",
       " 'ACALEPHAE',\n",
       " 'ACALEPHAN',\n",
       " 'ACALEPHANS',\n",
       " 'ACALEPHE',\n",
       " 'ACALEPHES',\n",
       " 'ACALEPHS',\n",
       " 'ACANACEOUS',\n",
       " 'ACANTH',\n",
       " 'ACANTHA',\n",
       " 'ACANTHACEOUS',\n",
       " 'ACANTHAE',\n",
       " 'ACANTHAS',\n",
       " 'ACANTHI',\n",
       " 'ACANTHIN',\n",
       " 'ACANTHINE',\n",
       " 'ACANTHINS',\n",
       " 'ACANTHOCEPHALAN',\n",
       " 'ACANTHOID',\n",
       " 'ACANTHOUS',\n",
       " 'ACANTHS',\n",
       " 'ACANTHUS',\n",
       " 'ACANTHUSES',\n",
       " 'ACAPNIA',\n",
       " 'ACAPNIAS',\n",
       " 'ACARBOSE',\n",
       " 'ACARBOSES',\n",
       " 'ACARI',\n",
       " 'ACARIAN',\n",
       " 'ACARIASES',\n",
       " 'ACARIASIS',\n",
       " 'ACARICIDAL',\n",
       " 'ACARICIDE',\n",
       " 'ACARICIDES',\n",
       " 'ACARID',\n",
       " 'ACARIDAN',\n",
       " 'ACARIDANS',\n",
       " 'ACARIDEAN',\n",
       " 'ACARIDEANS',\n",
       " 'ACARIDIAN',\n",
       " 'ACARIDIANS',\n",
       " 'ACARIDOMATIA',\n",
       " 'ACARIDOMATIUM',\n",
       " 'ACARIDS',\n",
       " 'ACARINE',\n",
       " 'ACARINES',\n",
       " 'ACARODOMATIA',\n",
       " 'ACARODOMATIUM',\n",
       " 'ACAROID',\n",
       " 'ACAROLOGIES',\n",
       " 'ACAROLOGIST',\n",
       " 'ACAROLOGISTS',\n",
       " 'ACAROLOGY',\n",
       " 'ACAROPHILIES',\n",
       " 'ACAROPHILY',\n",
       " 'ACARPELLOUS',\n",
       " 'ACARPELOUS',\n",
       " 'ACARPOUS',\n",
       " 'ACARUS',\n",
       " 'ACATALECTIC',\n",
       " 'ACATALECTICS',\n",
       " 'ACATALEPSIES',\n",
       " 'ACATALEPSY',\n",
       " 'ACATALEPTIC',\n",
       " 'ACATALEPTICS',\n",
       " 'ACATAMATHESIA',\n",
       " 'ACATAMATHESIAS',\n",
       " 'ACATER',\n",
       " 'ACATERS',\n",
       " 'ACATES',\n",
       " 'ACATOUR',\n",
       " 'ACATOURS',\n",
       " 'ACAUDAL',\n",
       " 'ACAUDATE',\n",
       " 'ACAULESCENT',\n",
       " 'ACAULINE',\n",
       " 'ACAULOSE',\n",
       " 'ACAULOUS',\n",
       " 'ACCA',\n",
       " 'ACCABLE',\n",
       " 'ACCAS',\n",
       " 'ACCEDE',\n",
       " 'ACCEDED',\n",
       " 'ACCEDENCE',\n",
       " ...]"
      ]
     },
     "execution_count": 280,
     "metadata": {},
     "output_type": "execute_result"
    }
   ],
   "source": [
    "words "
   ]
  },
  {
   "cell_type": "code",
   "execution_count": 281,
   "id": "c9b61c7d",
   "metadata": {},
   "outputs": [],
   "source": [
    "import random as rd"
   ]
  },
  {
   "cell_type": "code",
   "execution_count": 282,
   "id": "38c42429",
   "metadata": {},
   "outputs": [],
   "source": [
    "picked = rd.choice(words)"
   ]
  },
  {
   "cell_type": "code",
   "execution_count": 283,
   "id": "f91c06c3",
   "metadata": {},
   "outputs": [
    {
     "data": {
      "text/plain": [
       "'COMPONY'"
      ]
     },
     "execution_count": 283,
     "metadata": {},
     "output_type": "execute_result"
    }
   ],
   "source": [
    "picked"
   ]
  },
  {
   "cell_type": "code",
   "execution_count": 290,
   "id": "6bc8ce87",
   "metadata": {},
   "outputs": [
    {
     "name": "stdout",
     "output_type": "stream",
     "text": [
      "The word has 7 letters: ['_', '_', '_', '_', '_', '_', '_']\n",
      "The starting letter of the word is C\n"
     ]
    }
   ],
   "source": [
    "originalWordList = list(picked)\n",
    "answerList = list(\"_\" * len(picked))\n",
    "print(\"The word has\",len(picked),\"letters:\", answerList)\n",
    "print(f\"The starting letter of the word is {originalWordList[0]}\")"
   ]
  },
  {
   "cell_type": "code",
   "execution_count": 291,
   "id": "f4b50399",
   "metadata": {},
   "outputs": [
    {
     "name": "stdout",
     "output_type": "stream",
     "text": [
      "Enter your guess: c\n",
      "Current Progress: ['C', '_', '_', '_', '_', '_', '_']\n",
      "Enter your guess: i\n",
      "Wrong guess!!!\n",
      "Enter your guess: n\n",
      "Current Progress: ['C', '_', '_', '_', '_', 'N', '_']\n",
      "Enter your guess: y\n",
      "Current Progress: ['C', '_', '_', '_', '_', 'N', 'Y']\n",
      "Enter your guess: o\n",
      "Current Progress: ['C', 'O', '_', '_', 'O', 'N', 'Y']\n",
      "Enter your guess: m\n",
      "Current Progress: ['C', 'O', 'M', '_', 'O', 'N', 'Y']\n",
      "Enter your guess: p\n",
      "Current Progress: ['C', 'O', 'M', 'P', 'O', 'N', 'Y']\n",
      "Congratulations! you have guessed the word COMPONY\n",
      "You won in 7 attempts.\n"
     ]
    }
   ],
   "source": [
    "attempt = len(picked) + 2\n",
    "while True:\n",
    "    guessChar = input(\"Enter your guess: \").upper()\n",
    "    attempt -= 1\n",
    "    \n",
    "    if guessChar in originalWordList:\n",
    "        indices = [i for i,x in enumerate(originalWordList) if x == guessChar]\n",
    "        for index in indices:\n",
    "            answerList[index] = guessChar\n",
    "        print(\"Current Progress:\", answerList)\n",
    "    else:\n",
    "        print(\"Wrong guess!!!\")\n",
    "    \n",
    "    if \"_\" not in answerList:\n",
    "        print(\"Congratulations! you have guessed the word\", picked)\n",
    "        print(\"You won in\",attempt,\"attempts.\")\n",
    "        break\n",
    "    \n",
    "    if attempt <= 0:\n",
    "        print(\"No attempts Try\")"
   ]
  },
  {
   "cell_type": "code",
   "execution_count": null,
   "id": "ed2fd5c6",
   "metadata": {},
   "outputs": [],
   "source": [
    "f = open(\"wordList.txt\", \"r\")\n",
    "lines = f.readlines()\n",
    "words = [i.strip() for i in lines]\n",
    "picked = rd.choice(words)\n",
    "\n",
    "originalWordList = list(picked)\n",
    "answerList = list(\"_\" * len(picked))\n",
    "print(\"The word has\",len(picked),\"letters:\", answerList)\n",
    "print(f\"The starting letter of the word is {originalWordList[0]}\")\n",
    "\n",
    "attempt = len(picked) + 2\n",
    "while True:\n",
    "    guessChar = input(\"Enter your guess: \").upper()\n",
    "    attempt -= 1\n",
    "    \n",
    "    if guessChar in originalWordList:\n",
    "        indices = [i for i,x in enumerate(originalWordList) if x == guessChar]\n",
    "        for index in indices:\n",
    "            answerList[index] = guessChar\n",
    "        print(\"Current Progress:\", answerList)\n",
    "    else:\n",
    "        print(\"Wrong guess!!!\")\n",
    "    \n",
    "    if \"_\" not in answerList:\n",
    "        print(\"Congratulations! you have guessed the word\", picked)\n",
    "        print(\"You won in\",attempt,\"attempts.\")\n",
    "        break\n",
    "    \n",
    "    if attempt <= 0:\n",
    "        print(\"No attempts Try\")"
   ]
  },
  {
   "cell_type": "markdown",
   "id": "2856dedd",
   "metadata": {},
   "source": [
    "### Project: GooglePay Expense Sharing"
   ]
  },
  {
   "cell_type": "markdown",
   "id": "b57fc828",
   "metadata": {},
   "source": [
    "**Business Use Case**: Friends want to easily track shared expenses and settle debts using a simple tool similar to Google Pay.\n",
    "\n",
    "\n",
    "**Description**: Create a Python program that helps friends manage shared expenses and calculate who owes whom. Suppose there are three friends—Alice, Bob, and Carol. They went on a trip and shared expenses for accommodation and meals. The program will allow them to input these expenses, calculate how much each person needs to pay or be reimbursed, and display the final settlement amounts.\n"
   ]
  },
  {
   "cell_type": "code",
   "execution_count": null,
   "id": "c2a6b425",
   "metadata": {},
   "outputs": [],
   "source": [
    "!pip install numpy prettytable"
   ]
  },
  {
   "cell_type": "code",
   "execution_count": 254,
   "id": "dc196c54",
   "metadata": {},
   "outputs": [],
   "source": [
    "import numpy as np\n",
    "from prettytable import PrettyTable"
   ]
  },
  {
   "cell_type": "code",
   "execution_count": 269,
   "id": "740ecfca",
   "metadata": {},
   "outputs": [],
   "source": [
    "friends = [\"Alice\", \"Bob\", \"Carol\", \"David\"]\n",
    "expense_matrix = np.zeros((len(friends), len(friends)))  # Rows: Who paid, Columns: Who it's for"
   ]
  },
  {
   "cell_type": "code",
   "execution_count": 270,
   "id": "af11c909",
   "metadata": {},
   "outputs": [
    {
     "data": {
      "text/plain": [
       "array([[0., 0., 0., 0.],\n",
       "       [0., 0., 0., 0.],\n",
       "       [0., 0., 0., 0.],\n",
       "       [0., 0., 0., 0.]])"
      ]
     },
     "execution_count": 270,
     "metadata": {},
     "output_type": "execute_result"
    }
   ],
   "source": [
    "expense_matrix"
   ]
  },
  {
   "cell_type": "code",
   "execution_count": 271,
   "id": "70492beb",
   "metadata": {},
   "outputs": [],
   "source": [
    "def add_expense(payer, beneficiaries, amount):\n",
    "    payer_idx = friends.index(payer)\n",
    "    share_per_person = amount / len(beneficiaries)\n",
    "    for beneficiary in beneficiaries:\n",
    "        beneficiary_idx = friends.index(beneficiary)\n",
    "        expense_matrix[payer_idx][beneficiary_idx] += share_per_person"
   ]
  },
  {
   "cell_type": "code",
   "execution_count": 272,
   "id": "e58648ba",
   "metadata": {},
   "outputs": [],
   "source": [
    "def calculate_settlements():\n",
    "    total_paid = np.sum(expense_matrix, axis=1)  # How much each person paid\n",
    "    total_owed = np.sum(expense_matrix, axis=0)  # How much each person owes\n",
    "    net_balance = total_paid - total_owed  # Positive: person should receive, Negative: person owes\n",
    "    return net_balance"
   ]
  },
  {
   "cell_type": "code",
   "execution_count": 273,
   "id": "70deefa7",
   "metadata": {},
   "outputs": [],
   "source": [
    "def display_settlements():\n",
    "    settlements = calculate_settlements()\n",
    "\n",
    "    table = PrettyTable()\n",
    "    table.field_names = [\"Friend\", \"Settlement\"]\n",
    "\n",
    "    for i, friend in enumerate(friends):\n",
    "        if settlements[i] > 0:\n",
    "            table.add_row([friend, f\"Should Receive ₹{settlements[i]:.2f}\"])\n",
    "        elif settlements[i] < 0:\n",
    "            table.add_row([friend, f\"Owes ₹{-settlements[i]:.2f}\"])\n",
    "        else:\n",
    "            table.add_row([friend, \"Is Settled\"])\n",
    "\n",
    "    print(\"\\nFinal Settlements:\")\n",
    "    print(table)"
   ]
  },
  {
   "cell_type": "code",
   "execution_count": 274,
   "id": "c65a8a7d",
   "metadata": {},
   "outputs": [],
   "source": [
    "def suggest_payments():\n",
    "    settlements = calculate_settlements()\n",
    "\n",
    "    creditors = [(friends[i], amt) for i, amt in enumerate(settlements) if amt > 0]\n",
    "    debtors = [(friends[i], -amt) for i, amt in enumerate(settlements) if amt < 0]\n",
    "\n",
    "    transactions = []\n",
    "\n",
    "    # Match debtors to creditors\n",
    "    while debtors and creditors:\n",
    "        debtor, debt_amount = debtors.pop(0)\n",
    "        creditor, credit_amount = creditors.pop(0)\n",
    "\n",
    "        payment = min(debt_amount, credit_amount)\n",
    "        transactions.append((debtor, creditor, payment))\n",
    "\n",
    "        # Adjust balances\n",
    "        debt_amount -= payment\n",
    "        credit_amount -= payment\n",
    "\n",
    "        # Re-add to list if any balance remains\n",
    "        if debt_amount > 0:\n",
    "            debtors.insert(0, (debtor, debt_amount))\n",
    "        if credit_amount > 0:\n",
    "            creditors.insert(0, (creditor, credit_amount))\n",
    "    print(\"\\nSuggested Transactions:\")\n",
    "    if transactions:\n",
    "        for debtor, creditor, amount in transactions:\n",
    "            print(f\"{debtor} should pay ₹{amount:.2f} to {creditor}\")\n",
    "    else:\n",
    "        print(\"No transactions needed. Everyone is settled.\")"
   ]
  },
  {
   "cell_type": "code",
   "execution_count": 275,
   "id": "b89cb1c2",
   "metadata": {},
   "outputs": [],
   "source": [
    "# Input expenses\n",
    "add_expense(\"Alice\", [\"Alice\", \"Bob\", \"Carol\"], 1200)   # Alice paid ₹1250 for Alice, Bob, and Carol\n",
    "add_expense(\"Bob\", [\"Bob\", \"Carol\"], 800)               # Bob paid ₹800 for Bob and Carol\n",
    "add_expense(\"Carol\", [\"Alice\", \"Bob\", \"Carol\", \"David\"], 1600)  # Carol paid ₹1785 for everyone"
   ]
  },
  {
   "cell_type": "code",
   "execution_count": 276,
   "id": "e8d965f8",
   "metadata": {},
   "outputs": [
    {
     "name": "stdout",
     "output_type": "stream",
     "text": [
      "\n",
      "Final Settlements:\n",
      "+--------+------------------------+\n",
      "| Friend |       Settlement       |\n",
      "+--------+------------------------+\n",
      "| Alice  | Should Receive ₹400.00 |\n",
      "|  Bob   |      Owes ₹400.00      |\n",
      "| Carol  | Should Receive ₹400.00 |\n",
      "| David  |      Owes ₹400.00      |\n",
      "+--------+------------------------+\n"
     ]
    }
   ],
   "source": [
    "# Display final settlement\n",
    "display_settlements()"
   ]
  },
  {
   "cell_type": "code",
   "execution_count": 277,
   "id": "cf6412c7",
   "metadata": {},
   "outputs": [
    {
     "name": "stdout",
     "output_type": "stream",
     "text": [
      "\n",
      "Suggested Transactions:\n",
      "Bob should pay ₹400.00 to Alice\n",
      "David should pay ₹400.00 to Carol\n"
     ]
    }
   ],
   "source": [
    "# Suggest payments to settle debts\n",
    "suggest_payments()"
   ]
  },
  {
   "cell_type": "markdown",
   "id": "ee4a19f8",
   "metadata": {},
   "source": [
    "### Linear Regression"
   ]
  },
  {
   "cell_type": "markdown",
   "id": "86c7a3a7",
   "metadata": {},
   "source": [
    "![formula](https://miro.medium.com/v2/resize:fit:960/0*rHOClzLZwTKY6Q6O.png)"
   ]
  },
  {
   "cell_type": "markdown",
   "id": "130e8255",
   "metadata": {},
   "source": [
    "![Linear Regression](https://i.ytimg.com/vi/zPG4NjIkCjc/maxresdefault.jpg?sqp=-oaymwEmCIAKENAF8quKqQMa8AEB-AH-CYAC0AWKAgwIABABGFIgZShfMA8=&rs=AOn4CLBZnskaRI7tBftWcYmNtmIZv2i-fw)"
   ]
  },
  {
   "cell_type": "markdown",
   "id": "fa293b24",
   "metadata": {},
   "source": [
    "![MSE](https://media.licdn.com/dms/image/v2/D4D12AQElnzGmdRcbWw/article-inline_image-shrink_400_744/article-inline_image-shrink_400_744/0/1671516160761?e=1731542400&v=beta&t=wSYDTuPMIcGSFnvj6vhtrACqVS_8uqaFEge05bYR2jg)"
   ]
  },
  {
   "cell_type": "code",
   "execution_count": null,
   "id": "cb3e9c07",
   "metadata": {},
   "outputs": [],
   "source": [
    "y = [4, 4]\n",
    "ypred = [6,2]\n",
    "error = [-2, 2] = [4, 4] = 4"
   ]
  },
  {
   "cell_type": "markdown",
   "id": "db839af9",
   "metadata": {},
   "source": [
    "![R-Squared](https://miro.medium.com/v2/resize:fit:1200/1*_mVvAFVEGinHlijmmeWwzg.png)"
   ]
  },
  {
   "cell_type": "code",
   "execution_count": 437,
   "id": "b8d5b58a",
   "metadata": {},
   "outputs": [],
   "source": [
    "import pandas as pd\n",
    "from sklearn.model_selection import train_test_split\n",
    "from sklearn.linear_model import LinearRegression\n",
    "from sklearn.metrics import mean_squared_error, r2_score"
   ]
  },
  {
   "cell_type": "code",
   "execution_count": 433,
   "id": "2bb50886",
   "metadata": {},
   "outputs": [],
   "source": [
    "# load dataset\n",
    "dataset = pd.read_csv(\"./Advertising.csv\", index_col=0)"
   ]
  },
  {
   "cell_type": "code",
   "execution_count": 434,
   "id": "3217573c",
   "metadata": {},
   "outputs": [
    {
     "data": {
      "text/html": [
       "<div>\n",
       "<style scoped>\n",
       "    .dataframe tbody tr th:only-of-type {\n",
       "        vertical-align: middle;\n",
       "    }\n",
       "\n",
       "    .dataframe tbody tr th {\n",
       "        vertical-align: top;\n",
       "    }\n",
       "\n",
       "    .dataframe thead th {\n",
       "        text-align: right;\n",
       "    }\n",
       "</style>\n",
       "<table border=\"1\" class=\"dataframe\">\n",
       "  <thead>\n",
       "    <tr style=\"text-align: right;\">\n",
       "      <th></th>\n",
       "      <th>TV</th>\n",
       "      <th>radio</th>\n",
       "      <th>newspaper</th>\n",
       "      <th>sales</th>\n",
       "    </tr>\n",
       "  </thead>\n",
       "  <tbody>\n",
       "    <tr>\n",
       "      <th>1</th>\n",
       "      <td>230.1</td>\n",
       "      <td>37.8</td>\n",
       "      <td>69.2</td>\n",
       "      <td>22.1</td>\n",
       "    </tr>\n",
       "    <tr>\n",
       "      <th>2</th>\n",
       "      <td>44.5</td>\n",
       "      <td>39.3</td>\n",
       "      <td>45.1</td>\n",
       "      <td>10.4</td>\n",
       "    </tr>\n",
       "    <tr>\n",
       "      <th>3</th>\n",
       "      <td>17.2</td>\n",
       "      <td>45.9</td>\n",
       "      <td>69.3</td>\n",
       "      <td>9.3</td>\n",
       "    </tr>\n",
       "    <tr>\n",
       "      <th>4</th>\n",
       "      <td>151.5</td>\n",
       "      <td>41.3</td>\n",
       "      <td>58.5</td>\n",
       "      <td>18.5</td>\n",
       "    </tr>\n",
       "    <tr>\n",
       "      <th>5</th>\n",
       "      <td>180.8</td>\n",
       "      <td>10.8</td>\n",
       "      <td>58.4</td>\n",
       "      <td>12.9</td>\n",
       "    </tr>\n",
       "  </tbody>\n",
       "</table>\n",
       "</div>"
      ],
      "text/plain": [
       "      TV  radio  newspaper  sales\n",
       "1  230.1   37.8       69.2   22.1\n",
       "2   44.5   39.3       45.1   10.4\n",
       "3   17.2   45.9       69.3    9.3\n",
       "4  151.5   41.3       58.5   18.5\n",
       "5  180.8   10.8       58.4   12.9"
      ]
     },
     "execution_count": 434,
     "metadata": {},
     "output_type": "execute_result"
    }
   ],
   "source": [
    "dataset.head()"
   ]
  },
  {
   "cell_type": "code",
   "execution_count": 438,
   "id": "5a5d53ad",
   "metadata": {},
   "outputs": [
    {
     "data": {
      "text/plain": [
       "(200, 4)"
      ]
     },
     "execution_count": 438,
     "metadata": {},
     "output_type": "execute_result"
    }
   ],
   "source": [
    "dataset.shape"
   ]
  },
  {
   "cell_type": "code",
   "execution_count": 436,
   "id": "bb7fa539",
   "metadata": {},
   "outputs": [],
   "source": [
    "features = dataset.loc[:, \"TV\":\"newspaper\"]\n",
    "output = dataset['sales']"
   ]
  },
  {
   "cell_type": "code",
   "execution_count": 439,
   "id": "f9b76785",
   "metadata": {},
   "outputs": [],
   "source": [
    "# spliting dataset\n",
    "x_train, x_test, y_train, y_test = train_test_split(features, output, test_size=0.1, random_state=3)"
   ]
  },
  {
   "cell_type": "code",
   "execution_count": 440,
   "id": "01e869e0",
   "metadata": {},
   "outputs": [
    {
     "data": {
      "text/plain": [
       "((180, 3), (20, 3))"
      ]
     },
     "execution_count": 440,
     "metadata": {},
     "output_type": "execute_result"
    }
   ],
   "source": [
    "x_train.shape, x_test.shape"
   ]
  },
  {
   "cell_type": "code",
   "execution_count": 441,
   "id": "3b315cbe",
   "metadata": {},
   "outputs": [],
   "source": [
    "# define a model\n",
    "model = LinearRegression()"
   ]
  },
  {
   "cell_type": "code",
   "execution_count": 442,
   "id": "90c74782",
   "metadata": {},
   "outputs": [
    {
     "data": {
      "text/html": [
       "<style>#sk-container-id-1 {color: black;}#sk-container-id-1 pre{padding: 0;}#sk-container-id-1 div.sk-toggleable {background-color: white;}#sk-container-id-1 label.sk-toggleable__label {cursor: pointer;display: block;width: 100%;margin-bottom: 0;padding: 0.3em;box-sizing: border-box;text-align: center;}#sk-container-id-1 label.sk-toggleable__label-arrow:before {content: \"▸\";float: left;margin-right: 0.25em;color: #696969;}#sk-container-id-1 label.sk-toggleable__label-arrow:hover:before {color: black;}#sk-container-id-1 div.sk-estimator:hover label.sk-toggleable__label-arrow:before {color: black;}#sk-container-id-1 div.sk-toggleable__content {max-height: 0;max-width: 0;overflow: hidden;text-align: left;background-color: #f0f8ff;}#sk-container-id-1 div.sk-toggleable__content pre {margin: 0.2em;color: black;border-radius: 0.25em;background-color: #f0f8ff;}#sk-container-id-1 input.sk-toggleable__control:checked~div.sk-toggleable__content {max-height: 200px;max-width: 100%;overflow: auto;}#sk-container-id-1 input.sk-toggleable__control:checked~label.sk-toggleable__label-arrow:before {content: \"▾\";}#sk-container-id-1 div.sk-estimator input.sk-toggleable__control:checked~label.sk-toggleable__label {background-color: #d4ebff;}#sk-container-id-1 div.sk-label input.sk-toggleable__control:checked~label.sk-toggleable__label {background-color: #d4ebff;}#sk-container-id-1 input.sk-hidden--visually {border: 0;clip: rect(1px 1px 1px 1px);clip: rect(1px, 1px, 1px, 1px);height: 1px;margin: -1px;overflow: hidden;padding: 0;position: absolute;width: 1px;}#sk-container-id-1 div.sk-estimator {font-family: monospace;background-color: #f0f8ff;border: 1px dotted black;border-radius: 0.25em;box-sizing: border-box;margin-bottom: 0.5em;}#sk-container-id-1 div.sk-estimator:hover {background-color: #d4ebff;}#sk-container-id-1 div.sk-parallel-item::after {content: \"\";width: 100%;border-bottom: 1px solid gray;flex-grow: 1;}#sk-container-id-1 div.sk-label:hover label.sk-toggleable__label {background-color: #d4ebff;}#sk-container-id-1 div.sk-serial::before {content: \"\";position: absolute;border-left: 1px solid gray;box-sizing: border-box;top: 0;bottom: 0;left: 50%;z-index: 0;}#sk-container-id-1 div.sk-serial {display: flex;flex-direction: column;align-items: center;background-color: white;padding-right: 0.2em;padding-left: 0.2em;position: relative;}#sk-container-id-1 div.sk-item {position: relative;z-index: 1;}#sk-container-id-1 div.sk-parallel {display: flex;align-items: stretch;justify-content: center;background-color: white;position: relative;}#sk-container-id-1 div.sk-item::before, #sk-container-id-1 div.sk-parallel-item::before {content: \"\";position: absolute;border-left: 1px solid gray;box-sizing: border-box;top: 0;bottom: 0;left: 50%;z-index: -1;}#sk-container-id-1 div.sk-parallel-item {display: flex;flex-direction: column;z-index: 1;position: relative;background-color: white;}#sk-container-id-1 div.sk-parallel-item:first-child::after {align-self: flex-end;width: 50%;}#sk-container-id-1 div.sk-parallel-item:last-child::after {align-self: flex-start;width: 50%;}#sk-container-id-1 div.sk-parallel-item:only-child::after {width: 0;}#sk-container-id-1 div.sk-dashed-wrapped {border: 1px dashed gray;margin: 0 0.4em 0.5em 0.4em;box-sizing: border-box;padding-bottom: 0.4em;background-color: white;}#sk-container-id-1 div.sk-label label {font-family: monospace;font-weight: bold;display: inline-block;line-height: 1.2em;}#sk-container-id-1 div.sk-label-container {text-align: center;}#sk-container-id-1 div.sk-container {/* jupyter's `normalize.less` sets `[hidden] { display: none; }` but bootstrap.min.css set `[hidden] { display: none !important; }` so we also need the `!important` here to be able to override the default hidden behavior on the sphinx rendered scikit-learn.org. See: https://github.com/scikit-learn/scikit-learn/issues/21755 */display: inline-block !important;position: relative;}#sk-container-id-1 div.sk-text-repr-fallback {display: none;}</style><div id=\"sk-container-id-1\" class=\"sk-top-container\"><div class=\"sk-text-repr-fallback\"><pre>LinearRegression()</pre><b>In a Jupyter environment, please rerun this cell to show the HTML representation or trust the notebook. <br />On GitHub, the HTML representation is unable to render, please try loading this page with nbviewer.org.</b></div><div class=\"sk-container\" hidden><div class=\"sk-item\"><div class=\"sk-estimator sk-toggleable\"><input class=\"sk-toggleable__control sk-hidden--visually\" id=\"sk-estimator-id-1\" type=\"checkbox\" checked><label for=\"sk-estimator-id-1\" class=\"sk-toggleable__label sk-toggleable__label-arrow\">LinearRegression</label><div class=\"sk-toggleable__content\"><pre>LinearRegression()</pre></div></div></div></div></div>"
      ],
      "text/plain": [
       "LinearRegression()"
      ]
     },
     "execution_count": 442,
     "metadata": {},
     "output_type": "execute_result"
    }
   ],
   "source": [
    "# training\n",
    "model.fit(x_train, y_train)"
   ]
  },
  {
   "cell_type": "code",
   "execution_count": 443,
   "id": "2e8e2933",
   "metadata": {},
   "outputs": [],
   "source": [
    "ypred = model.predict(x_test)"
   ]
  },
  {
   "cell_type": "code",
   "execution_count": 444,
   "id": "0a5e638b",
   "metadata": {},
   "outputs": [
    {
     "data": {
      "text/plain": [
       "array([16.36528856,  9.36728585, 19.60016013, 12.82613894,  7.39981865,\n",
       "       10.1507892 , 24.04453141,  8.88249258, 17.73452864, 13.92017011,\n",
       "       12.41500687, 14.30821082, 15.67855222, 12.39670494, 12.3866775 ,\n",
       "       12.01417423, 16.25354153, 17.49832766, 17.23760224, 21.79013094])"
      ]
     },
     "execution_count": 444,
     "metadata": {},
     "output_type": "execute_result"
    }
   ],
   "source": [
    "ypred"
   ]
  },
  {
   "cell_type": "code",
   "execution_count": 445,
   "id": "fa1e1aa9",
   "metadata": {
    "collapsed": true
   },
   "outputs": [
    {
     "data": {
      "text/plain": [
       "41     16.6\n",
       "52     10.7\n",
       "140    20.7\n",
       "198    12.8\n",
       "171     8.4\n",
       "83     11.3\n",
       "184    26.2\n",
       "47     10.6\n",
       "71     18.3\n",
       "101    11.7\n",
       "180    12.6\n",
       "84     13.6\n",
       "26     12.0\n",
       "191    10.8\n",
       "160    12.9\n",
       "174    11.7\n",
       "96     16.9\n",
       "4      18.5\n",
       "42     17.1\n",
       "59     23.8\n",
       "Name: sales, dtype: float64"
      ]
     },
     "execution_count": 445,
     "metadata": {},
     "output_type": "execute_result"
    }
   ],
   "source": [
    "y_test"
   ]
  },
  {
   "cell_type": "code",
   "execution_count": 446,
   "id": "2167f56a",
   "metadata": {},
   "outputs": [
    {
     "data": {
      "text/plain": [
       "array([ 0.04593521,  0.1850863 , -0.00152064])"
      ]
     },
     "execution_count": 446,
     "metadata": {},
     "output_type": "execute_result"
    }
   ],
   "source": [
    "model.coef_"
   ]
  },
  {
   "cell_type": "code",
   "execution_count": 447,
   "id": "4f27dfe7",
   "metadata": {},
   "outputs": [
    {
     "data": {
      "text/plain": [
       "2.984036978558942"
      ]
     },
     "execution_count": 447,
     "metadata": {},
     "output_type": "execute_result"
    }
   ],
   "source": [
    "model.intercept_"
   ]
  },
  {
   "cell_type": "code",
   "execution_count": 448,
   "id": "dd6ce5a2",
   "metadata": {},
   "outputs": [
    {
     "data": {
      "text/plain": [
       "2.0333176505187955"
      ]
     },
     "execution_count": 448,
     "metadata": {},
     "output_type": "execute_result"
    }
   ],
   "source": [
    "# metrics\n",
    "mean_squared_error(y_test, ypred)"
   ]
  },
  {
   "cell_type": "code",
   "execution_count": 449,
   "id": "d6ddea4c",
   "metadata": {},
   "outputs": [
    {
     "data": {
      "text/plain": [
       "0.9052481592906234"
      ]
     },
     "execution_count": 449,
     "metadata": {},
     "output_type": "execute_result"
    }
   ],
   "source": [
    "r2_score(y_test, ypred)"
   ]
  },
  {
   "cell_type": "code",
   "execution_count": 450,
   "id": "3af9593c",
   "metadata": {},
   "outputs": [
    {
     "name": "stderr",
     "output_type": "stream",
     "text": [
      "/Library/Frameworks/Python.framework/Versions/3.8/lib/python3.8/site-packages/sklearn/base.py:465: UserWarning: X does not have valid feature names, but LinearRegression was fitted with feature names\n",
      "  warnings.warn(\n"
     ]
    },
    {
     "data": {
      "text/plain": [
       "array([25.93412406])"
      ]
     },
     "execution_count": 450,
     "metadata": {},
     "output_type": "execute_result"
    }
   ],
   "source": [
    "# objective-1 how much would i get if i invest 100 in all\n",
    "model.predict([[100,100,100]])"
   ]
  },
  {
   "cell_type": "code",
   "execution_count": 453,
   "id": "b0e95f66",
   "metadata": {},
   "outputs": [
    {
     "name": "stderr",
     "output_type": "stream",
     "text": [
      "/Library/Frameworks/Python.framework/Versions/3.8/lib/python3.8/site-packages/sklearn/base.py:465: UserWarning: X does not have valid feature names, but LinearRegression was fitted with feature names\n",
      "  warnings.warn(\n"
     ]
    },
    {
     "data": {
      "text/plain": [
       "array([35.26447106])"
      ]
     },
     "execution_count": 453,
     "metadata": {},
     "output_type": "execute_result"
    }
   ],
   "source": [
    "# objective-2 in which platform i should invest more\n",
    "model.predict([[100,150,50]])"
   ]
  },
  {
   "cell_type": "code",
   "execution_count": 454,
   "id": "b23772d1",
   "metadata": {},
   "outputs": [
    {
     "name": "stderr",
     "output_type": "stream",
     "text": [
      "/Library/Frameworks/Python.framework/Versions/3.8/lib/python3.8/site-packages/sklearn/base.py:465: UserWarning: X does not have valid feature names, but LinearRegression was fitted with feature names\n",
      "  warnings.warn(\n"
     ]
    },
    {
     "data": {
      "text/plain": [
       "array([37.63726322])"
      ]
     },
     "execution_count": 454,
     "metadata": {},
     "output_type": "execute_result"
    }
   ],
   "source": [
    "model.predict([[150,150,0]])"
   ]
  },
  {
   "cell_type": "markdown",
   "id": "b0fb5fef",
   "metadata": {},
   "source": [
    "### Ridge Regression"
   ]
  },
  {
   "cell_type": "markdown",
   "id": "1a41044d",
   "metadata": {},
   "source": [
    "![Ridge Regression](https://cf-courses-data.s3.us.cloud-object-storage.appdomain.cloud/2GzY9lVDj2Jdf8de7Kgc9Q.png)"
   ]
  },
  {
   "cell_type": "code",
   "execution_count": 456,
   "id": "87c76201",
   "metadata": {},
   "outputs": [],
   "source": [
    "import pandas as pd\n",
    "from sklearn.model_selection import train_test_split\n",
    "from sklearn.linear_model import Ridge\n",
    "from sklearn.metrics import mean_squared_error, r2_score"
   ]
  },
  {
   "cell_type": "code",
   "execution_count": 485,
   "id": "f60157e7",
   "metadata": {},
   "outputs": [],
   "source": [
    "# define a model\n",
    "model = Ridge(alpha=100)"
   ]
  },
  {
   "cell_type": "code",
   "execution_count": 486,
   "id": "4a329d11",
   "metadata": {},
   "outputs": [
    {
     "data": {
      "text/html": [
       "<style>#sk-container-id-5 {color: black;}#sk-container-id-5 pre{padding: 0;}#sk-container-id-5 div.sk-toggleable {background-color: white;}#sk-container-id-5 label.sk-toggleable__label {cursor: pointer;display: block;width: 100%;margin-bottom: 0;padding: 0.3em;box-sizing: border-box;text-align: center;}#sk-container-id-5 label.sk-toggleable__label-arrow:before {content: \"▸\";float: left;margin-right: 0.25em;color: #696969;}#sk-container-id-5 label.sk-toggleable__label-arrow:hover:before {color: black;}#sk-container-id-5 div.sk-estimator:hover label.sk-toggleable__label-arrow:before {color: black;}#sk-container-id-5 div.sk-toggleable__content {max-height: 0;max-width: 0;overflow: hidden;text-align: left;background-color: #f0f8ff;}#sk-container-id-5 div.sk-toggleable__content pre {margin: 0.2em;color: black;border-radius: 0.25em;background-color: #f0f8ff;}#sk-container-id-5 input.sk-toggleable__control:checked~div.sk-toggleable__content {max-height: 200px;max-width: 100%;overflow: auto;}#sk-container-id-5 input.sk-toggleable__control:checked~label.sk-toggleable__label-arrow:before {content: \"▾\";}#sk-container-id-5 div.sk-estimator input.sk-toggleable__control:checked~label.sk-toggleable__label {background-color: #d4ebff;}#sk-container-id-5 div.sk-label input.sk-toggleable__control:checked~label.sk-toggleable__label {background-color: #d4ebff;}#sk-container-id-5 input.sk-hidden--visually {border: 0;clip: rect(1px 1px 1px 1px);clip: rect(1px, 1px, 1px, 1px);height: 1px;margin: -1px;overflow: hidden;padding: 0;position: absolute;width: 1px;}#sk-container-id-5 div.sk-estimator {font-family: monospace;background-color: #f0f8ff;border: 1px dotted black;border-radius: 0.25em;box-sizing: border-box;margin-bottom: 0.5em;}#sk-container-id-5 div.sk-estimator:hover {background-color: #d4ebff;}#sk-container-id-5 div.sk-parallel-item::after {content: \"\";width: 100%;border-bottom: 1px solid gray;flex-grow: 1;}#sk-container-id-5 div.sk-label:hover label.sk-toggleable__label {background-color: #d4ebff;}#sk-container-id-5 div.sk-serial::before {content: \"\";position: absolute;border-left: 1px solid gray;box-sizing: border-box;top: 0;bottom: 0;left: 50%;z-index: 0;}#sk-container-id-5 div.sk-serial {display: flex;flex-direction: column;align-items: center;background-color: white;padding-right: 0.2em;padding-left: 0.2em;position: relative;}#sk-container-id-5 div.sk-item {position: relative;z-index: 1;}#sk-container-id-5 div.sk-parallel {display: flex;align-items: stretch;justify-content: center;background-color: white;position: relative;}#sk-container-id-5 div.sk-item::before, #sk-container-id-5 div.sk-parallel-item::before {content: \"\";position: absolute;border-left: 1px solid gray;box-sizing: border-box;top: 0;bottom: 0;left: 50%;z-index: -1;}#sk-container-id-5 div.sk-parallel-item {display: flex;flex-direction: column;z-index: 1;position: relative;background-color: white;}#sk-container-id-5 div.sk-parallel-item:first-child::after {align-self: flex-end;width: 50%;}#sk-container-id-5 div.sk-parallel-item:last-child::after {align-self: flex-start;width: 50%;}#sk-container-id-5 div.sk-parallel-item:only-child::after {width: 0;}#sk-container-id-5 div.sk-dashed-wrapped {border: 1px dashed gray;margin: 0 0.4em 0.5em 0.4em;box-sizing: border-box;padding-bottom: 0.4em;background-color: white;}#sk-container-id-5 div.sk-label label {font-family: monospace;font-weight: bold;display: inline-block;line-height: 1.2em;}#sk-container-id-5 div.sk-label-container {text-align: center;}#sk-container-id-5 div.sk-container {/* jupyter's `normalize.less` sets `[hidden] { display: none; }` but bootstrap.min.css set `[hidden] { display: none !important; }` so we also need the `!important` here to be able to override the default hidden behavior on the sphinx rendered scikit-learn.org. See: https://github.com/scikit-learn/scikit-learn/issues/21755 */display: inline-block !important;position: relative;}#sk-container-id-5 div.sk-text-repr-fallback {display: none;}</style><div id=\"sk-container-id-5\" class=\"sk-top-container\"><div class=\"sk-text-repr-fallback\"><pre>Ridge(alpha=100)</pre><b>In a Jupyter environment, please rerun this cell to show the HTML representation or trust the notebook. <br />On GitHub, the HTML representation is unable to render, please try loading this page with nbviewer.org.</b></div><div class=\"sk-container\" hidden><div class=\"sk-item\"><div class=\"sk-estimator sk-toggleable\"><input class=\"sk-toggleable__control sk-hidden--visually\" id=\"sk-estimator-id-5\" type=\"checkbox\" checked><label for=\"sk-estimator-id-5\" class=\"sk-toggleable__label sk-toggleable__label-arrow\">Ridge</label><div class=\"sk-toggleable__content\"><pre>Ridge(alpha=100)</pre></div></div></div></div></div>"
      ],
      "text/plain": [
       "Ridge(alpha=100)"
      ]
     },
     "execution_count": 486,
     "metadata": {},
     "output_type": "execute_result"
    }
   ],
   "source": [
    "# training\n",
    "model.fit(x_train, y_train)"
   ]
  },
  {
   "cell_type": "code",
   "execution_count": 487,
   "id": "dc849fcb",
   "metadata": {},
   "outputs": [],
   "source": [
    "ypred = model.predict(x_test)"
   ]
  },
  {
   "cell_type": "code",
   "execution_count": 488,
   "id": "c52843e9",
   "metadata": {},
   "outputs": [
    {
     "data": {
      "text/plain": [
       "array([16.36592623,  9.37106277, 19.5851786 , 12.83050435,  7.40440676,\n",
       "       10.15252781, 24.03927797,  8.89029316, 17.73159623, 13.93295022,\n",
       "       12.42044773, 14.29724264, 15.68783806, 12.38366148, 12.3897638 ,\n",
       "       12.02056067, 16.25189495, 17.49215016, 17.23313603, 21.77678684])"
      ]
     },
     "execution_count": 488,
     "metadata": {},
     "output_type": "execute_result"
    }
   ],
   "source": [
    "ypred"
   ]
  },
  {
   "cell_type": "code",
   "execution_count": 472,
   "id": "35ae0519",
   "metadata": {
    "collapsed": true
   },
   "outputs": [
    {
     "data": {
      "text/plain": [
       "41     16.6\n",
       "52     10.7\n",
       "140    20.7\n",
       "198    12.8\n",
       "171     8.4\n",
       "83     11.3\n",
       "184    26.2\n",
       "47     10.6\n",
       "71     18.3\n",
       "101    11.7\n",
       "180    12.6\n",
       "84     13.6\n",
       "26     12.0\n",
       "191    10.8\n",
       "160    12.9\n",
       "174    11.7\n",
       "96     16.9\n",
       "4      18.5\n",
       "42     17.1\n",
       "59     23.8\n",
       "Name: sales, dtype: float64"
      ]
     },
     "execution_count": 472,
     "metadata": {},
     "output_type": "execute_result"
    }
   ],
   "source": [
    "y_test"
   ]
  },
  {
   "cell_type": "code",
   "execution_count": 489,
   "id": "ed87d973",
   "metadata": {},
   "outputs": [
    {
     "data": {
      "text/plain": [
       "array([ 0.04593599,  0.18454471, -0.00138997])"
      ]
     },
     "execution_count": 489,
     "metadata": {},
     "output_type": "execute_result"
    }
   ],
   "source": [
    "model.coef_"
   ]
  },
  {
   "cell_type": "code",
   "execution_count": 490,
   "id": "f633f178",
   "metadata": {},
   "outputs": [
    {
     "data": {
      "text/plain": [
       "2.9924639214540125"
      ]
     },
     "execution_count": 490,
     "metadata": {},
     "output_type": "execute_result"
    }
   ],
   "source": [
    "model.intercept_"
   ]
  },
  {
   "cell_type": "code",
   "execution_count": 491,
   "id": "268686a4",
   "metadata": {},
   "outputs": [
    {
     "data": {
      "text/plain": [
       "2.0405012392866118"
      ]
     },
     "execution_count": 491,
     "metadata": {},
     "output_type": "execute_result"
    }
   ],
   "source": [
    "# metrics\n",
    "mean_squared_error(y_test, ypred)"
   ]
  },
  {
   "cell_type": "code",
   "execution_count": 492,
   "id": "51fe0827",
   "metadata": {},
   "outputs": [
    {
     "data": {
      "text/plain": [
       "0.9049134067454536"
      ]
     },
     "execution_count": 492,
     "metadata": {},
     "output_type": "execute_result"
    }
   ],
   "source": [
    "r2_score(y_test, ypred)"
   ]
  },
  {
   "cell_type": "markdown",
   "id": "6d9e071d",
   "metadata": {},
   "source": [
    "### Logistic Regression"
   ]
  },
  {
   "cell_type": "markdown",
   "id": "6b4225fd",
   "metadata": {},
   "source": [
    "![logistic](https://d1.awsstatic.com/sigmoid.bfc853980146c5868a496eafea4fb79907675f44.png)"
   ]
  },
  {
   "cell_type": "markdown",
   "id": "adce53e3",
   "metadata": {},
   "source": [
    "![curve](https://upload.wikimedia.org/wikipedia/commons/thumb/8/88/Logistic-curve.svg/1200px-Logistic-curve.svg.png)"
   ]
  },
  {
   "cell_type": "markdown",
   "id": "26af8cb6",
   "metadata": {},
   "source": [
    "![log loss](https://editor.analyticsvidhya.com/uploads/90149Capture0.PNG)"
   ]
  },
  {
   "cell_type": "code",
   "execution_count": 493,
   "id": "5b4da7ff",
   "metadata": {},
   "outputs": [],
   "source": [
    "import numpy as np\n",
    "from sklearn.model_selection import  train_test_split\n",
    "from sklearn.linear_model import  LogisticRegression\n",
    "from sklearn.datasets import load_breast_cancer\n",
    "from sklearn.metrics import classification_report, confusion_matrix"
   ]
  },
  {
   "cell_type": "code",
   "execution_count": 494,
   "id": "98c87830",
   "metadata": {},
   "outputs": [],
   "source": [
    "dataset = load_breast_cancer()"
   ]
  },
  {
   "cell_type": "code",
   "execution_count": 495,
   "id": "feaf00a4",
   "metadata": {},
   "outputs": [
    {
     "data": {
      "text/plain": [
       "array(['mean radius', 'mean texture', 'mean perimeter', 'mean area',\n",
       "       'mean smoothness', 'mean compactness', 'mean concavity',\n",
       "       'mean concave points', 'mean symmetry', 'mean fractal dimension',\n",
       "       'radius error', 'texture error', 'perimeter error', 'area error',\n",
       "       'smoothness error', 'compactness error', 'concavity error',\n",
       "       'concave points error', 'symmetry error',\n",
       "       'fractal dimension error', 'worst radius', 'worst texture',\n",
       "       'worst perimeter', 'worst area', 'worst smoothness',\n",
       "       'worst compactness', 'worst concavity', 'worst concave points',\n",
       "       'worst symmetry', 'worst fractal dimension'], dtype='<U23')"
      ]
     },
     "execution_count": 495,
     "metadata": {},
     "output_type": "execute_result"
    }
   ],
   "source": [
    "dataset.feature_names"
   ]
  },
  {
   "cell_type": "code",
   "execution_count": 496,
   "id": "267c3fd7",
   "metadata": {},
   "outputs": [
    {
     "data": {
      "text/plain": [
       "array(['malignant', 'benign'], dtype='<U9')"
      ]
     },
     "execution_count": 496,
     "metadata": {},
     "output_type": "execute_result"
    }
   ],
   "source": [
    "dataset.target_names"
   ]
  },
  {
   "cell_type": "code",
   "execution_count": 498,
   "id": "59390d79",
   "metadata": {},
   "outputs": [],
   "source": [
    "features = dataset.data\n",
    "labels = dataset.target"
   ]
  },
  {
   "cell_type": "code",
   "execution_count": 499,
   "id": "55947139",
   "metadata": {},
   "outputs": [],
   "source": [
    "x_train, x_test, y_train, y_test = train_test_split(features,labels, test_size=0.2, random_state=3)"
   ]
  },
  {
   "cell_type": "code",
   "execution_count": 501,
   "id": "4dabe66c",
   "metadata": {},
   "outputs": [
    {
     "data": {
      "text/plain": [
       "((455, 30), (114, 30))"
      ]
     },
     "execution_count": 501,
     "metadata": {},
     "output_type": "execute_result"
    }
   ],
   "source": [
    "x_train.shape, x_test.shape"
   ]
  },
  {
   "cell_type": "code",
   "execution_count": 504,
   "id": "af336d95",
   "metadata": {},
   "outputs": [],
   "source": [
    "model = LogisticRegression(max_iter=500)"
   ]
  },
  {
   "cell_type": "code",
   "execution_count": 505,
   "id": "245a0231",
   "metadata": {},
   "outputs": [
    {
     "name": "stderr",
     "output_type": "stream",
     "text": [
      "/Library/Frameworks/Python.framework/Versions/3.8/lib/python3.8/site-packages/sklearn/linear_model/_logistic.py:460: ConvergenceWarning: lbfgs failed to converge (status=1):\n",
      "STOP: TOTAL NO. of ITERATIONS REACHED LIMIT.\n",
      "\n",
      "Increase the number of iterations (max_iter) or scale the data as shown in:\n",
      "    https://scikit-learn.org/stable/modules/preprocessing.html\n",
      "Please also refer to the documentation for alternative solver options:\n",
      "    https://scikit-learn.org/stable/modules/linear_model.html#logistic-regression\n",
      "  n_iter_i = _check_optimize_result(\n"
     ]
    },
    {
     "data": {
      "text/html": [
       "<style>#sk-container-id-7 {color: black;}#sk-container-id-7 pre{padding: 0;}#sk-container-id-7 div.sk-toggleable {background-color: white;}#sk-container-id-7 label.sk-toggleable__label {cursor: pointer;display: block;width: 100%;margin-bottom: 0;padding: 0.3em;box-sizing: border-box;text-align: center;}#sk-container-id-7 label.sk-toggleable__label-arrow:before {content: \"▸\";float: left;margin-right: 0.25em;color: #696969;}#sk-container-id-7 label.sk-toggleable__label-arrow:hover:before {color: black;}#sk-container-id-7 div.sk-estimator:hover label.sk-toggleable__label-arrow:before {color: black;}#sk-container-id-7 div.sk-toggleable__content {max-height: 0;max-width: 0;overflow: hidden;text-align: left;background-color: #f0f8ff;}#sk-container-id-7 div.sk-toggleable__content pre {margin: 0.2em;color: black;border-radius: 0.25em;background-color: #f0f8ff;}#sk-container-id-7 input.sk-toggleable__control:checked~div.sk-toggleable__content {max-height: 200px;max-width: 100%;overflow: auto;}#sk-container-id-7 input.sk-toggleable__control:checked~label.sk-toggleable__label-arrow:before {content: \"▾\";}#sk-container-id-7 div.sk-estimator input.sk-toggleable__control:checked~label.sk-toggleable__label {background-color: #d4ebff;}#sk-container-id-7 div.sk-label input.sk-toggleable__control:checked~label.sk-toggleable__label {background-color: #d4ebff;}#sk-container-id-7 input.sk-hidden--visually {border: 0;clip: rect(1px 1px 1px 1px);clip: rect(1px, 1px, 1px, 1px);height: 1px;margin: -1px;overflow: hidden;padding: 0;position: absolute;width: 1px;}#sk-container-id-7 div.sk-estimator {font-family: monospace;background-color: #f0f8ff;border: 1px dotted black;border-radius: 0.25em;box-sizing: border-box;margin-bottom: 0.5em;}#sk-container-id-7 div.sk-estimator:hover {background-color: #d4ebff;}#sk-container-id-7 div.sk-parallel-item::after {content: \"\";width: 100%;border-bottom: 1px solid gray;flex-grow: 1;}#sk-container-id-7 div.sk-label:hover label.sk-toggleable__label {background-color: #d4ebff;}#sk-container-id-7 div.sk-serial::before {content: \"\";position: absolute;border-left: 1px solid gray;box-sizing: border-box;top: 0;bottom: 0;left: 50%;z-index: 0;}#sk-container-id-7 div.sk-serial {display: flex;flex-direction: column;align-items: center;background-color: white;padding-right: 0.2em;padding-left: 0.2em;position: relative;}#sk-container-id-7 div.sk-item {position: relative;z-index: 1;}#sk-container-id-7 div.sk-parallel {display: flex;align-items: stretch;justify-content: center;background-color: white;position: relative;}#sk-container-id-7 div.sk-item::before, #sk-container-id-7 div.sk-parallel-item::before {content: \"\";position: absolute;border-left: 1px solid gray;box-sizing: border-box;top: 0;bottom: 0;left: 50%;z-index: -1;}#sk-container-id-7 div.sk-parallel-item {display: flex;flex-direction: column;z-index: 1;position: relative;background-color: white;}#sk-container-id-7 div.sk-parallel-item:first-child::after {align-self: flex-end;width: 50%;}#sk-container-id-7 div.sk-parallel-item:last-child::after {align-self: flex-start;width: 50%;}#sk-container-id-7 div.sk-parallel-item:only-child::after {width: 0;}#sk-container-id-7 div.sk-dashed-wrapped {border: 1px dashed gray;margin: 0 0.4em 0.5em 0.4em;box-sizing: border-box;padding-bottom: 0.4em;background-color: white;}#sk-container-id-7 div.sk-label label {font-family: monospace;font-weight: bold;display: inline-block;line-height: 1.2em;}#sk-container-id-7 div.sk-label-container {text-align: center;}#sk-container-id-7 div.sk-container {/* jupyter's `normalize.less` sets `[hidden] { display: none; }` but bootstrap.min.css set `[hidden] { display: none !important; }` so we also need the `!important` here to be able to override the default hidden behavior on the sphinx rendered scikit-learn.org. See: https://github.com/scikit-learn/scikit-learn/issues/21755 */display: inline-block !important;position: relative;}#sk-container-id-7 div.sk-text-repr-fallback {display: none;}</style><div id=\"sk-container-id-7\" class=\"sk-top-container\"><div class=\"sk-text-repr-fallback\"><pre>LogisticRegression(max_iter=500)</pre><b>In a Jupyter environment, please rerun this cell to show the HTML representation or trust the notebook. <br />On GitHub, the HTML representation is unable to render, please try loading this page with nbviewer.org.</b></div><div class=\"sk-container\" hidden><div class=\"sk-item\"><div class=\"sk-estimator sk-toggleable\"><input class=\"sk-toggleable__control sk-hidden--visually\" id=\"sk-estimator-id-7\" type=\"checkbox\" checked><label for=\"sk-estimator-id-7\" class=\"sk-toggleable__label sk-toggleable__label-arrow\">LogisticRegression</label><div class=\"sk-toggleable__content\"><pre>LogisticRegression(max_iter=500)</pre></div></div></div></div></div>"
      ],
      "text/plain": [
       "LogisticRegression(max_iter=500)"
      ]
     },
     "execution_count": 505,
     "metadata": {},
     "output_type": "execute_result"
    }
   ],
   "source": [
    "model.fit(x_train, y_train)"
   ]
  },
  {
   "cell_type": "code",
   "execution_count": 506,
   "id": "409692b0",
   "metadata": {},
   "outputs": [],
   "source": [
    "ypred = model.predict(x_test)"
   ]
  },
  {
   "cell_type": "code",
   "execution_count": 508,
   "id": "40a9af72",
   "metadata": {},
   "outputs": [
    {
     "name": "stdout",
     "output_type": "stream",
     "text": [
      "              precision    recall  f1-score   support\n",
      "\n",
      "           0       0.90      0.88      0.89        40\n",
      "           1       0.93      0.95      0.94        74\n",
      "\n",
      "    accuracy                           0.92       114\n",
      "   macro avg       0.92      0.91      0.91       114\n",
      "weighted avg       0.92      0.92      0.92       114\n",
      "\n"
     ]
    }
   ],
   "source": [
    "print(classification_report(y_test, ypred))"
   ]
  },
  {
   "cell_type": "code",
   "execution_count": 509,
   "id": "99c55662",
   "metadata": {},
   "outputs": [
    {
     "name": "stdout",
     "output_type": "stream",
     "text": [
      "[[35  5]\n",
      " [ 4 70]]\n"
     ]
    }
   ],
   "source": [
    "print(confusion_matrix(y_test, ypred))"
   ]
  },
  {
   "cell_type": "markdown",
   "id": "b2277923",
   "metadata": {},
   "source": [
    "### SVM"
   ]
  },
  {
   "cell_type": "markdown",
   "id": "0e2ba519",
   "metadata": {},
   "source": [
    "![svm](https://vitalflux.com/wp-content/uploads/2022/08/support-vector-machine-1.png)"
   ]
  },
  {
   "cell_type": "markdown",
   "id": "7ae8b9ac",
   "metadata": {},
   "source": [
    "w.x + b = 0\n",
    "\n",
    "y(w.x + b) >= 1"
   ]
  },
  {
   "cell_type": "code",
   "execution_count": 512,
   "id": "67e89602",
   "metadata": {},
   "outputs": [],
   "source": [
    "import numpy as np\n",
    "from sklearn.model_selection import  train_test_split\n",
    "from sklearn.svm import SVC\n",
    "from sklearn.datasets import load_breast_cancer\n",
    "from sklearn.metrics import classification_report, confusion_matrix"
   ]
  },
  {
   "cell_type": "code",
   "execution_count": 529,
   "id": "0fe42dea",
   "metadata": {},
   "outputs": [],
   "source": [
    "model = SVC(kernel=\"linear\", C=1)"
   ]
  },
  {
   "cell_type": "code",
   "execution_count": 530,
   "id": "37d896c2",
   "metadata": {},
   "outputs": [
    {
     "data": {
      "text/html": [
       "<style>#sk-container-id-12 {color: black;}#sk-container-id-12 pre{padding: 0;}#sk-container-id-12 div.sk-toggleable {background-color: white;}#sk-container-id-12 label.sk-toggleable__label {cursor: pointer;display: block;width: 100%;margin-bottom: 0;padding: 0.3em;box-sizing: border-box;text-align: center;}#sk-container-id-12 label.sk-toggleable__label-arrow:before {content: \"▸\";float: left;margin-right: 0.25em;color: #696969;}#sk-container-id-12 label.sk-toggleable__label-arrow:hover:before {color: black;}#sk-container-id-12 div.sk-estimator:hover label.sk-toggleable__label-arrow:before {color: black;}#sk-container-id-12 div.sk-toggleable__content {max-height: 0;max-width: 0;overflow: hidden;text-align: left;background-color: #f0f8ff;}#sk-container-id-12 div.sk-toggleable__content pre {margin: 0.2em;color: black;border-radius: 0.25em;background-color: #f0f8ff;}#sk-container-id-12 input.sk-toggleable__control:checked~div.sk-toggleable__content {max-height: 200px;max-width: 100%;overflow: auto;}#sk-container-id-12 input.sk-toggleable__control:checked~label.sk-toggleable__label-arrow:before {content: \"▾\";}#sk-container-id-12 div.sk-estimator input.sk-toggleable__control:checked~label.sk-toggleable__label {background-color: #d4ebff;}#sk-container-id-12 div.sk-label input.sk-toggleable__control:checked~label.sk-toggleable__label {background-color: #d4ebff;}#sk-container-id-12 input.sk-hidden--visually {border: 0;clip: rect(1px 1px 1px 1px);clip: rect(1px, 1px, 1px, 1px);height: 1px;margin: -1px;overflow: hidden;padding: 0;position: absolute;width: 1px;}#sk-container-id-12 div.sk-estimator {font-family: monospace;background-color: #f0f8ff;border: 1px dotted black;border-radius: 0.25em;box-sizing: border-box;margin-bottom: 0.5em;}#sk-container-id-12 div.sk-estimator:hover {background-color: #d4ebff;}#sk-container-id-12 div.sk-parallel-item::after {content: \"\";width: 100%;border-bottom: 1px solid gray;flex-grow: 1;}#sk-container-id-12 div.sk-label:hover label.sk-toggleable__label {background-color: #d4ebff;}#sk-container-id-12 div.sk-serial::before {content: \"\";position: absolute;border-left: 1px solid gray;box-sizing: border-box;top: 0;bottom: 0;left: 50%;z-index: 0;}#sk-container-id-12 div.sk-serial {display: flex;flex-direction: column;align-items: center;background-color: white;padding-right: 0.2em;padding-left: 0.2em;position: relative;}#sk-container-id-12 div.sk-item {position: relative;z-index: 1;}#sk-container-id-12 div.sk-parallel {display: flex;align-items: stretch;justify-content: center;background-color: white;position: relative;}#sk-container-id-12 div.sk-item::before, #sk-container-id-12 div.sk-parallel-item::before {content: \"\";position: absolute;border-left: 1px solid gray;box-sizing: border-box;top: 0;bottom: 0;left: 50%;z-index: -1;}#sk-container-id-12 div.sk-parallel-item {display: flex;flex-direction: column;z-index: 1;position: relative;background-color: white;}#sk-container-id-12 div.sk-parallel-item:first-child::after {align-self: flex-end;width: 50%;}#sk-container-id-12 div.sk-parallel-item:last-child::after {align-self: flex-start;width: 50%;}#sk-container-id-12 div.sk-parallel-item:only-child::after {width: 0;}#sk-container-id-12 div.sk-dashed-wrapped {border: 1px dashed gray;margin: 0 0.4em 0.5em 0.4em;box-sizing: border-box;padding-bottom: 0.4em;background-color: white;}#sk-container-id-12 div.sk-label label {font-family: monospace;font-weight: bold;display: inline-block;line-height: 1.2em;}#sk-container-id-12 div.sk-label-container {text-align: center;}#sk-container-id-12 div.sk-container {/* jupyter's `normalize.less` sets `[hidden] { display: none; }` but bootstrap.min.css set `[hidden] { display: none !important; }` so we also need the `!important` here to be able to override the default hidden behavior on the sphinx rendered scikit-learn.org. See: https://github.com/scikit-learn/scikit-learn/issues/21755 */display: inline-block !important;position: relative;}#sk-container-id-12 div.sk-text-repr-fallback {display: none;}</style><div id=\"sk-container-id-12\" class=\"sk-top-container\"><div class=\"sk-text-repr-fallback\"><pre>SVC(C=1, kernel=&#x27;linear&#x27;)</pre><b>In a Jupyter environment, please rerun this cell to show the HTML representation or trust the notebook. <br />On GitHub, the HTML representation is unable to render, please try loading this page with nbviewer.org.</b></div><div class=\"sk-container\" hidden><div class=\"sk-item\"><div class=\"sk-estimator sk-toggleable\"><input class=\"sk-toggleable__control sk-hidden--visually\" id=\"sk-estimator-id-12\" type=\"checkbox\" checked><label for=\"sk-estimator-id-12\" class=\"sk-toggleable__label sk-toggleable__label-arrow\">SVC</label><div class=\"sk-toggleable__content\"><pre>SVC(C=1, kernel=&#x27;linear&#x27;)</pre></div></div></div></div></div>"
      ],
      "text/plain": [
       "SVC(C=1, kernel='linear')"
      ]
     },
     "execution_count": 530,
     "metadata": {},
     "output_type": "execute_result"
    }
   ],
   "source": [
    "model.fit(x_train, y_train)"
   ]
  },
  {
   "cell_type": "code",
   "execution_count": 531,
   "id": "c564dec9",
   "metadata": {},
   "outputs": [],
   "source": [
    "ypred = model.predict(x_test)"
   ]
  },
  {
   "cell_type": "code",
   "execution_count": 532,
   "id": "5b41c61d",
   "metadata": {},
   "outputs": [
    {
     "name": "stdout",
     "output_type": "stream",
     "text": [
      "              precision    recall  f1-score   support\n",
      "\n",
      "           0       0.90      0.90      0.90        40\n",
      "           1       0.95      0.95      0.95        74\n",
      "\n",
      "    accuracy                           0.93       114\n",
      "   macro avg       0.92      0.92      0.92       114\n",
      "weighted avg       0.93      0.93      0.93       114\n",
      "\n"
     ]
    }
   ],
   "source": [
    "print(classification_report(y_test, ypred))"
   ]
  },
  {
   "cell_type": "code",
   "execution_count": 533,
   "id": "256074d6",
   "metadata": {},
   "outputs": [
    {
     "name": "stdout",
     "output_type": "stream",
     "text": [
      "[[36  4]\n",
      " [ 4 70]]\n"
     ]
    }
   ],
   "source": [
    "print(confusion_matrix(y_test, ypred))"
   ]
  },
  {
   "cell_type": "markdown",
   "id": "0b667f51",
   "metadata": {},
   "source": [
    "### Decision Tree"
   ]
  },
  {
   "cell_type": "markdown",
   "id": "bc7253dd",
   "metadata": {},
   "source": [
    "Gini Impurity"
   ]
  },
  {
   "cell_type": "markdown",
   "id": "5de90e4d",
   "metadata": {},
   "source": [
    "![gini](https://miro.medium.com/v2/resize:fit:928/1*OdxwLHiDtWB9g1RsaTd8Iw.png)"
   ]
  },
  {
   "cell_type": "markdown",
   "id": "3d53bab3",
   "metadata": {},
   "source": [
    "Information Gain"
   ]
  },
  {
   "cell_type": "markdown",
   "id": "73af1a47",
   "metadata": {},
   "source": [
    "![entropy](https://miro.medium.com/v2/resize:fit:736/1*aRIPv55GHPy7g9OllMvbwg.png)"
   ]
  },
  {
   "cell_type": "markdown",
   "id": "9e062add",
   "metadata": {},
   "source": [
    "![dataset](https://cdn-images-1.medium.com/v2/resize:fit:1600/1*L3wbmF9htj1PFSCrm-Nr1Q.jpeg)"
   ]
  },
  {
   "cell_type": "code",
   "execution_count": 536,
   "id": "de013ba1",
   "metadata": {},
   "outputs": [],
   "source": [
    "entropy_play = - ((9/14 * log2(9/14)) + (5/14 * log2(5/14)))"
   ]
  },
  {
   "cell_type": "code",
   "execution_count": 553,
   "id": "fac41d8b",
   "metadata": {},
   "outputs": [
    {
     "data": {
      "text/plain": [
       "0.9402859586706311"
      ]
     },
     "execution_count": 553,
     "metadata": {},
     "output_type": "execute_result"
    }
   ],
   "source": [
    "entropy_play"
   ]
  },
  {
   "cell_type": "code",
   "execution_count": null,
   "id": "4448a9b9",
   "metadata": {},
   "outputs": [],
   "source": [
    "Test_scenario = \"Sunny, Mild, high, True\""
   ]
  },
  {
   "cell_type": "code",
   "execution_count": 537,
   "id": "fbb836e4",
   "metadata": {},
   "outputs": [],
   "source": [
    "import pandas as pd\n",
    "import numpy as np\n",
    "from sklearn.tree import DecisionTreeClassifier"
   ]
  },
  {
   "cell_type": "code",
   "execution_count": 538,
   "id": "a633fbf9",
   "metadata": {},
   "outputs": [],
   "source": [
    "dataset = pd.read_csv(\"../PlayTennis.csv\")"
   ]
  },
  {
   "cell_type": "code",
   "execution_count": 539,
   "id": "29e8d592",
   "metadata": {},
   "outputs": [
    {
     "data": {
      "text/html": [
       "<div>\n",
       "<style scoped>\n",
       "    .dataframe tbody tr th:only-of-type {\n",
       "        vertical-align: middle;\n",
       "    }\n",
       "\n",
       "    .dataframe tbody tr th {\n",
       "        vertical-align: top;\n",
       "    }\n",
       "\n",
       "    .dataframe thead th {\n",
       "        text-align: right;\n",
       "    }\n",
       "</style>\n",
       "<table border=\"1\" class=\"dataframe\">\n",
       "  <thead>\n",
       "    <tr style=\"text-align: right;\">\n",
       "      <th></th>\n",
       "      <th>Outlook</th>\n",
       "      <th>Temperature</th>\n",
       "      <th>Humidity</th>\n",
       "      <th>Wind</th>\n",
       "      <th>Play Tennis</th>\n",
       "    </tr>\n",
       "  </thead>\n",
       "  <tbody>\n",
       "    <tr>\n",
       "      <th>0</th>\n",
       "      <td>Sunny</td>\n",
       "      <td>Hot</td>\n",
       "      <td>High</td>\n",
       "      <td>Weak</td>\n",
       "      <td>No</td>\n",
       "    </tr>\n",
       "    <tr>\n",
       "      <th>1</th>\n",
       "      <td>Sunny</td>\n",
       "      <td>Hot</td>\n",
       "      <td>High</td>\n",
       "      <td>Strong</td>\n",
       "      <td>No</td>\n",
       "    </tr>\n",
       "    <tr>\n",
       "      <th>2</th>\n",
       "      <td>Overcast</td>\n",
       "      <td>Hot</td>\n",
       "      <td>High</td>\n",
       "      <td>Weak</td>\n",
       "      <td>Yes</td>\n",
       "    </tr>\n",
       "    <tr>\n",
       "      <th>3</th>\n",
       "      <td>Rain</td>\n",
       "      <td>Mild</td>\n",
       "      <td>High</td>\n",
       "      <td>Weak</td>\n",
       "      <td>Yes</td>\n",
       "    </tr>\n",
       "    <tr>\n",
       "      <th>4</th>\n",
       "      <td>Rain</td>\n",
       "      <td>Cool</td>\n",
       "      <td>Normal</td>\n",
       "      <td>Weak</td>\n",
       "      <td>Yes</td>\n",
       "    </tr>\n",
       "  </tbody>\n",
       "</table>\n",
       "</div>"
      ],
      "text/plain": [
       "    Outlook Temperature Humidity    Wind Play Tennis\n",
       "0     Sunny         Hot     High    Weak          No\n",
       "1     Sunny         Hot     High  Strong          No\n",
       "2  Overcast         Hot     High    Weak         Yes\n",
       "3      Rain        Mild     High    Weak         Yes\n",
       "4      Rain        Cool   Normal    Weak         Yes"
      ]
     },
     "execution_count": 539,
     "metadata": {},
     "output_type": "execute_result"
    }
   ],
   "source": [
    "dataset.head()"
   ]
  },
  {
   "cell_type": "code",
   "execution_count": 541,
   "id": "7b7df748",
   "metadata": {},
   "outputs": [],
   "source": [
    "X = dataset[['Outlook', 'Temperature', 'Humidity', 'Wind']]\n",
    "y = dataset['Play Tennis']"
   ]
  },
  {
   "cell_type": "code",
   "execution_count": 544,
   "id": "23cf80a0",
   "metadata": {},
   "outputs": [],
   "source": [
    "from sklearn.preprocessing import LabelEncoder\n",
    "le = LabelEncoder()"
   ]
  },
  {
   "cell_type": "code",
   "execution_count": 545,
   "id": "493408b3",
   "metadata": {},
   "outputs": [
    {
     "name": "stderr",
     "output_type": "stream",
     "text": [
      "/var/folders/ql/7lsthhzd23bbzkr8gwrhq__h0000gn/T/ipykernel_76383/1886169123.py:2: SettingWithCopyWarning: \n",
      "A value is trying to be set on a copy of a slice from a DataFrame.\n",
      "Try using .loc[row_indexer,col_indexer] = value instead\n",
      "\n",
      "See the caveats in the documentation: https://pandas.pydata.org/pandas-docs/stable/user_guide/indexing.html#returning-a-view-versus-a-copy\n",
      "  X[column] = le.fit_transform(X[column])\n",
      "/var/folders/ql/7lsthhzd23bbzkr8gwrhq__h0000gn/T/ipykernel_76383/1886169123.py:2: SettingWithCopyWarning: \n",
      "A value is trying to be set on a copy of a slice from a DataFrame.\n",
      "Try using .loc[row_indexer,col_indexer] = value instead\n",
      "\n",
      "See the caveats in the documentation: https://pandas.pydata.org/pandas-docs/stable/user_guide/indexing.html#returning-a-view-versus-a-copy\n",
      "  X[column] = le.fit_transform(X[column])\n",
      "/var/folders/ql/7lsthhzd23bbzkr8gwrhq__h0000gn/T/ipykernel_76383/1886169123.py:2: SettingWithCopyWarning: \n",
      "A value is trying to be set on a copy of a slice from a DataFrame.\n",
      "Try using .loc[row_indexer,col_indexer] = value instead\n",
      "\n",
      "See the caveats in the documentation: https://pandas.pydata.org/pandas-docs/stable/user_guide/indexing.html#returning-a-view-versus-a-copy\n",
      "  X[column] = le.fit_transform(X[column])\n",
      "/var/folders/ql/7lsthhzd23bbzkr8gwrhq__h0000gn/T/ipykernel_76383/1886169123.py:2: SettingWithCopyWarning: \n",
      "A value is trying to be set on a copy of a slice from a DataFrame.\n",
      "Try using .loc[row_indexer,col_indexer] = value instead\n",
      "\n",
      "See the caveats in the documentation: https://pandas.pydata.org/pandas-docs/stable/user_guide/indexing.html#returning-a-view-versus-a-copy\n",
      "  X[column] = le.fit_transform(X[column])\n"
     ]
    }
   ],
   "source": [
    "for column in X.columns:\n",
    "    X[column] = le.fit_transform(X[column])"
   ]
  },
  {
   "cell_type": "code",
   "execution_count": 546,
   "id": "1eccef6b",
   "metadata": {
    "scrolled": true
   },
   "outputs": [
    {
     "data": {
      "text/html": [
       "<div>\n",
       "<style scoped>\n",
       "    .dataframe tbody tr th:only-of-type {\n",
       "        vertical-align: middle;\n",
       "    }\n",
       "\n",
       "    .dataframe tbody tr th {\n",
       "        vertical-align: top;\n",
       "    }\n",
       "\n",
       "    .dataframe thead th {\n",
       "        text-align: right;\n",
       "    }\n",
       "</style>\n",
       "<table border=\"1\" class=\"dataframe\">\n",
       "  <thead>\n",
       "    <tr style=\"text-align: right;\">\n",
       "      <th></th>\n",
       "      <th>Outlook</th>\n",
       "      <th>Temperature</th>\n",
       "      <th>Humidity</th>\n",
       "      <th>Wind</th>\n",
       "    </tr>\n",
       "  </thead>\n",
       "  <tbody>\n",
       "    <tr>\n",
       "      <th>0</th>\n",
       "      <td>2</td>\n",
       "      <td>1</td>\n",
       "      <td>0</td>\n",
       "      <td>1</td>\n",
       "    </tr>\n",
       "    <tr>\n",
       "      <th>1</th>\n",
       "      <td>2</td>\n",
       "      <td>1</td>\n",
       "      <td>0</td>\n",
       "      <td>0</td>\n",
       "    </tr>\n",
       "    <tr>\n",
       "      <th>2</th>\n",
       "      <td>0</td>\n",
       "      <td>1</td>\n",
       "      <td>0</td>\n",
       "      <td>1</td>\n",
       "    </tr>\n",
       "    <tr>\n",
       "      <th>3</th>\n",
       "      <td>1</td>\n",
       "      <td>2</td>\n",
       "      <td>0</td>\n",
       "      <td>1</td>\n",
       "    </tr>\n",
       "    <tr>\n",
       "      <th>4</th>\n",
       "      <td>1</td>\n",
       "      <td>0</td>\n",
       "      <td>1</td>\n",
       "      <td>1</td>\n",
       "    </tr>\n",
       "    <tr>\n",
       "      <th>5</th>\n",
       "      <td>1</td>\n",
       "      <td>0</td>\n",
       "      <td>1</td>\n",
       "      <td>0</td>\n",
       "    </tr>\n",
       "    <tr>\n",
       "      <th>6</th>\n",
       "      <td>0</td>\n",
       "      <td>0</td>\n",
       "      <td>1</td>\n",
       "      <td>0</td>\n",
       "    </tr>\n",
       "    <tr>\n",
       "      <th>7</th>\n",
       "      <td>2</td>\n",
       "      <td>2</td>\n",
       "      <td>0</td>\n",
       "      <td>1</td>\n",
       "    </tr>\n",
       "    <tr>\n",
       "      <th>8</th>\n",
       "      <td>2</td>\n",
       "      <td>0</td>\n",
       "      <td>1</td>\n",
       "      <td>1</td>\n",
       "    </tr>\n",
       "    <tr>\n",
       "      <th>9</th>\n",
       "      <td>1</td>\n",
       "      <td>2</td>\n",
       "      <td>1</td>\n",
       "      <td>1</td>\n",
       "    </tr>\n",
       "    <tr>\n",
       "      <th>10</th>\n",
       "      <td>2</td>\n",
       "      <td>2</td>\n",
       "      <td>1</td>\n",
       "      <td>0</td>\n",
       "    </tr>\n",
       "    <tr>\n",
       "      <th>11</th>\n",
       "      <td>0</td>\n",
       "      <td>2</td>\n",
       "      <td>0</td>\n",
       "      <td>0</td>\n",
       "    </tr>\n",
       "    <tr>\n",
       "      <th>12</th>\n",
       "      <td>0</td>\n",
       "      <td>1</td>\n",
       "      <td>1</td>\n",
       "      <td>1</td>\n",
       "    </tr>\n",
       "    <tr>\n",
       "      <th>13</th>\n",
       "      <td>1</td>\n",
       "      <td>2</td>\n",
       "      <td>0</td>\n",
       "      <td>0</td>\n",
       "    </tr>\n",
       "  </tbody>\n",
       "</table>\n",
       "</div>"
      ],
      "text/plain": [
       "    Outlook  Temperature  Humidity  Wind\n",
       "0         2            1         0     1\n",
       "1         2            1         0     0\n",
       "2         0            1         0     1\n",
       "3         1            2         0     1\n",
       "4         1            0         1     1\n",
       "5         1            0         1     0\n",
       "6         0            0         1     0\n",
       "7         2            2         0     1\n",
       "8         2            0         1     1\n",
       "9         1            2         1     1\n",
       "10        2            2         1     0\n",
       "11        0            2         0     0\n",
       "12        0            1         1     1\n",
       "13        1            2         0     0"
      ]
     },
     "execution_count": 546,
     "metadata": {},
     "output_type": "execute_result"
    }
   ],
   "source": [
    "X"
   ]
  },
  {
   "cell_type": "code",
   "execution_count": 547,
   "id": "bebd5010",
   "metadata": {},
   "outputs": [],
   "source": [
    "model = DecisionTreeClassifier(criterion=\"entropy\")"
   ]
  },
  {
   "cell_type": "code",
   "execution_count": 548,
   "id": "99983bc2",
   "metadata": {},
   "outputs": [
    {
     "data": {
      "text/html": [
       "<style>#sk-container-id-13 {color: black;}#sk-container-id-13 pre{padding: 0;}#sk-container-id-13 div.sk-toggleable {background-color: white;}#sk-container-id-13 label.sk-toggleable__label {cursor: pointer;display: block;width: 100%;margin-bottom: 0;padding: 0.3em;box-sizing: border-box;text-align: center;}#sk-container-id-13 label.sk-toggleable__label-arrow:before {content: \"▸\";float: left;margin-right: 0.25em;color: #696969;}#sk-container-id-13 label.sk-toggleable__label-arrow:hover:before {color: black;}#sk-container-id-13 div.sk-estimator:hover label.sk-toggleable__label-arrow:before {color: black;}#sk-container-id-13 div.sk-toggleable__content {max-height: 0;max-width: 0;overflow: hidden;text-align: left;background-color: #f0f8ff;}#sk-container-id-13 div.sk-toggleable__content pre {margin: 0.2em;color: black;border-radius: 0.25em;background-color: #f0f8ff;}#sk-container-id-13 input.sk-toggleable__control:checked~div.sk-toggleable__content {max-height: 200px;max-width: 100%;overflow: auto;}#sk-container-id-13 input.sk-toggleable__control:checked~label.sk-toggleable__label-arrow:before {content: \"▾\";}#sk-container-id-13 div.sk-estimator input.sk-toggleable__control:checked~label.sk-toggleable__label {background-color: #d4ebff;}#sk-container-id-13 div.sk-label input.sk-toggleable__control:checked~label.sk-toggleable__label {background-color: #d4ebff;}#sk-container-id-13 input.sk-hidden--visually {border: 0;clip: rect(1px 1px 1px 1px);clip: rect(1px, 1px, 1px, 1px);height: 1px;margin: -1px;overflow: hidden;padding: 0;position: absolute;width: 1px;}#sk-container-id-13 div.sk-estimator {font-family: monospace;background-color: #f0f8ff;border: 1px dotted black;border-radius: 0.25em;box-sizing: border-box;margin-bottom: 0.5em;}#sk-container-id-13 div.sk-estimator:hover {background-color: #d4ebff;}#sk-container-id-13 div.sk-parallel-item::after {content: \"\";width: 100%;border-bottom: 1px solid gray;flex-grow: 1;}#sk-container-id-13 div.sk-label:hover label.sk-toggleable__label {background-color: #d4ebff;}#sk-container-id-13 div.sk-serial::before {content: \"\";position: absolute;border-left: 1px solid gray;box-sizing: border-box;top: 0;bottom: 0;left: 50%;z-index: 0;}#sk-container-id-13 div.sk-serial {display: flex;flex-direction: column;align-items: center;background-color: white;padding-right: 0.2em;padding-left: 0.2em;position: relative;}#sk-container-id-13 div.sk-item {position: relative;z-index: 1;}#sk-container-id-13 div.sk-parallel {display: flex;align-items: stretch;justify-content: center;background-color: white;position: relative;}#sk-container-id-13 div.sk-item::before, #sk-container-id-13 div.sk-parallel-item::before {content: \"\";position: absolute;border-left: 1px solid gray;box-sizing: border-box;top: 0;bottom: 0;left: 50%;z-index: -1;}#sk-container-id-13 div.sk-parallel-item {display: flex;flex-direction: column;z-index: 1;position: relative;background-color: white;}#sk-container-id-13 div.sk-parallel-item:first-child::after {align-self: flex-end;width: 50%;}#sk-container-id-13 div.sk-parallel-item:last-child::after {align-self: flex-start;width: 50%;}#sk-container-id-13 div.sk-parallel-item:only-child::after {width: 0;}#sk-container-id-13 div.sk-dashed-wrapped {border: 1px dashed gray;margin: 0 0.4em 0.5em 0.4em;box-sizing: border-box;padding-bottom: 0.4em;background-color: white;}#sk-container-id-13 div.sk-label label {font-family: monospace;font-weight: bold;display: inline-block;line-height: 1.2em;}#sk-container-id-13 div.sk-label-container {text-align: center;}#sk-container-id-13 div.sk-container {/* jupyter's `normalize.less` sets `[hidden] { display: none; }` but bootstrap.min.css set `[hidden] { display: none !important; }` so we also need the `!important` here to be able to override the default hidden behavior on the sphinx rendered scikit-learn.org. See: https://github.com/scikit-learn/scikit-learn/issues/21755 */display: inline-block !important;position: relative;}#sk-container-id-13 div.sk-text-repr-fallback {display: none;}</style><div id=\"sk-container-id-13\" class=\"sk-top-container\"><div class=\"sk-text-repr-fallback\"><pre>DecisionTreeClassifier(criterion=&#x27;entropy&#x27;)</pre><b>In a Jupyter environment, please rerun this cell to show the HTML representation or trust the notebook. <br />On GitHub, the HTML representation is unable to render, please try loading this page with nbviewer.org.</b></div><div class=\"sk-container\" hidden><div class=\"sk-item\"><div class=\"sk-estimator sk-toggleable\"><input class=\"sk-toggleable__control sk-hidden--visually\" id=\"sk-estimator-id-13\" type=\"checkbox\" checked><label for=\"sk-estimator-id-13\" class=\"sk-toggleable__label sk-toggleable__label-arrow\">DecisionTreeClassifier</label><div class=\"sk-toggleable__content\"><pre>DecisionTreeClassifier(criterion=&#x27;entropy&#x27;)</pre></div></div></div></div></div>"
      ],
      "text/plain": [
       "DecisionTreeClassifier(criterion='entropy')"
      ]
     },
     "execution_count": 548,
     "metadata": {},
     "output_type": "execute_result"
    }
   ],
   "source": [
    "model.fit(X, y)"
   ]
  },
  {
   "cell_type": "code",
   "execution_count": 549,
   "id": "33bfebaa",
   "metadata": {},
   "outputs": [
    {
     "name": "stderr",
     "output_type": "stream",
     "text": [
      "/Library/Frameworks/Python.framework/Versions/3.8/lib/python3.8/site-packages/sklearn/base.py:465: UserWarning: X does not have valid feature names, but DecisionTreeClassifier was fitted with feature names\n",
      "  warnings.warn(\n"
     ]
    },
    {
     "data": {
      "text/plain": [
       "array(['No'], dtype=object)"
      ]
     },
     "execution_count": 549,
     "metadata": {},
     "output_type": "execute_result"
    }
   ],
   "source": [
    "model.predict([[2,2,0,0]])"
   ]
  },
  {
   "cell_type": "code",
   "execution_count": 550,
   "id": "a3c00b11",
   "metadata": {},
   "outputs": [
    {
     "name": "stderr",
     "output_type": "stream",
     "text": [
      "/Library/Frameworks/Python.framework/Versions/3.8/lib/python3.8/site-packages/sklearn/base.py:465: UserWarning: X does not have valid feature names, but DecisionTreeClassifier was fitted with feature names\n",
      "  warnings.warn(\n"
     ]
    },
    {
     "data": {
      "text/plain": [
       "array([[1., 0.]])"
      ]
     },
     "execution_count": 550,
     "metadata": {},
     "output_type": "execute_result"
    }
   ],
   "source": [
    "model.predict_proba([[2,2,0,0]])"
   ]
  },
  {
   "cell_type": "code",
   "execution_count": 551,
   "id": "83680123",
   "metadata": {},
   "outputs": [],
   "source": [
    "from sklearn.tree import plot_tree\n",
    "import matplotlib.pyplot as plt"
   ]
  },
  {
   "cell_type": "code",
   "execution_count": 552,
   "id": "93e8e21e",
   "metadata": {},
   "outputs": [
    {
     "data": {
      "text/plain": [
       "[Text(0.4444444444444444, 0.9, 'Outlook <= 0.5\\nentropy = 0.94\\nsamples = 14\\nvalue = [5, 9]\\nclass = Yes'),\n",
       " Text(0.3333333333333333, 0.7, 'entropy = 0.0\\nsamples = 4\\nvalue = [0, 4]\\nclass = Yes'),\n",
       " Text(0.5555555555555556, 0.7, 'Humidity <= 0.5\\nentropy = 1.0\\nsamples = 10\\nvalue = [5, 5]\\nclass = No'),\n",
       " Text(0.3333333333333333, 0.5, 'Outlook <= 1.5\\nentropy = 0.722\\nsamples = 5\\nvalue = [4, 1]\\nclass = No'),\n",
       " Text(0.2222222222222222, 0.3, 'Wind <= 0.5\\nentropy = 1.0\\nsamples = 2\\nvalue = [1, 1]\\nclass = No'),\n",
       " Text(0.1111111111111111, 0.1, 'entropy = 0.0\\nsamples = 1\\nvalue = [1, 0]\\nclass = No'),\n",
       " Text(0.3333333333333333, 0.1, 'entropy = 0.0\\nsamples = 1\\nvalue = [0, 1]\\nclass = Yes'),\n",
       " Text(0.4444444444444444, 0.3, 'entropy = 0.0\\nsamples = 3\\nvalue = [3, 0]\\nclass = No'),\n",
       " Text(0.7777777777777778, 0.5, 'Wind <= 0.5\\nentropy = 0.722\\nsamples = 5\\nvalue = [1, 4]\\nclass = Yes'),\n",
       " Text(0.6666666666666666, 0.3, 'Outlook <= 1.5\\nentropy = 1.0\\nsamples = 2\\nvalue = [1, 1]\\nclass = No'),\n",
       " Text(0.5555555555555556, 0.1, 'entropy = 0.0\\nsamples = 1\\nvalue = [1, 0]\\nclass = No'),\n",
       " Text(0.7777777777777778, 0.1, 'entropy = 0.0\\nsamples = 1\\nvalue = [0, 1]\\nclass = Yes'),\n",
       " Text(0.8888888888888888, 0.3, 'entropy = 0.0\\nsamples = 3\\nvalue = [0, 3]\\nclass = Yes')]"
      ]
     },
     "execution_count": 552,
     "metadata": {},
     "output_type": "execute_result"
    },
    {
     "data": {
      "image/png": "[encoded data removed]",
      "text/plain": [
       "<Figure size 640x480 with 1 Axes>"
      ]
     },
     "metadata": {},
     "output_type": "display_data"
    }
   ],
   "source": [
    "plot_tree(model, feature_names=X.columns, class_names=['No', 'Yes'], filled=True)"
   ]
  },
  {
   "cell_type": "markdown",
   "id": "d1c0f960",
   "metadata": {},
   "source": [
    "### Ensemble Method - Random Forest"
   ]
  },
  {
   "cell_type": "markdown",
   "id": "e233d3ea",
   "metadata": {},
   "source": [
    "![ensemble](https://cdn.corporatefinanceinstitute.com/assets/ensemble-methods.png)"
   ]
  },
  {
   "cell_type": "markdown",
   "id": "0f76cae3",
   "metadata": {},
   "source": [
    "![rf](https://miro.medium.com/v2/resize:fit:1010/1*R3oJiyaQwyLUyLZL-scDpw.png)"
   ]
  },
  {
   "cell_type": "code",
   "execution_count": 555,
   "id": "46420a35",
   "metadata": {},
   "outputs": [],
   "source": [
    "import pandas as pd\n",
    "import numpy as np\n",
    "\n",
    "from sklearn.ensemble import RandomForestClassifier\n",
    "from sklearn.metrics import classification_report\n",
    "from sklearn.model_selection import train_test_split"
   ]
  },
  {
   "cell_type": "code",
   "execution_count": 563,
   "id": "ae79b4fb",
   "metadata": {},
   "outputs": [],
   "source": [
    "url = 'https://raw.githubusercontent.com/datasciencedojo/datasets/master/titanic.csv'\n",
    "titanic_data = pd.read_csv(url)"
   ]
  },
  {
   "cell_type": "code",
   "execution_count": 564,
   "id": "bec929a5",
   "metadata": {},
   "outputs": [
    {
     "data": {
      "text/html": [
       "<div>\n",
       "<style scoped>\n",
       "    .dataframe tbody tr th:only-of-type {\n",
       "        vertical-align: middle;\n",
       "    }\n",
       "\n",
       "    .dataframe tbody tr th {\n",
       "        vertical-align: top;\n",
       "    }\n",
       "\n",
       "    .dataframe thead th {\n",
       "        text-align: right;\n",
       "    }\n",
       "</style>\n",
       "<table border=\"1\" class=\"dataframe\">\n",
       "  <thead>\n",
       "    <tr style=\"text-align: right;\">\n",
       "      <th></th>\n",
       "      <th>PassengerId</th>\n",
       "      <th>Survived</th>\n",
       "      <th>Pclass</th>\n",
       "      <th>Name</th>\n",
       "      <th>Sex</th>\n",
       "      <th>Age</th>\n",
       "      <th>SibSp</th>\n",
       "      <th>Parch</th>\n",
       "      <th>Ticket</th>\n",
       "      <th>Fare</th>\n",
       "      <th>Cabin</th>\n",
       "      <th>Embarked</th>\n",
       "    </tr>\n",
       "  </thead>\n",
       "  <tbody>\n",
       "    <tr>\n",
       "      <th>0</th>\n",
       "      <td>1</td>\n",
       "      <td>0</td>\n",
       "      <td>3</td>\n",
       "      <td>Braund, Mr. Owen Harris</td>\n",
       "      <td>male</td>\n",
       "      <td>22.0</td>\n",
       "      <td>1</td>\n",
       "      <td>0</td>\n",
       "      <td>A/5 21171</td>\n",
       "      <td>7.2500</td>\n",
       "      <td>NaN</td>\n",
       "      <td>S</td>\n",
       "    </tr>\n",
       "    <tr>\n",
       "      <th>1</th>\n",
       "      <td>2</td>\n",
       "      <td>1</td>\n",
       "      <td>1</td>\n",
       "      <td>Cumings, Mrs. John Bradley (Florence Briggs Th...</td>\n",
       "      <td>female</td>\n",
       "      <td>38.0</td>\n",
       "      <td>1</td>\n",
       "      <td>0</td>\n",
       "      <td>PC 17599</td>\n",
       "      <td>71.2833</td>\n",
       "      <td>C85</td>\n",
       "      <td>C</td>\n",
       "    </tr>\n",
       "    <tr>\n",
       "      <th>2</th>\n",
       "      <td>3</td>\n",
       "      <td>1</td>\n",
       "      <td>3</td>\n",
       "      <td>Heikkinen, Miss. Laina</td>\n",
       "      <td>female</td>\n",
       "      <td>26.0</td>\n",
       "      <td>0</td>\n",
       "      <td>0</td>\n",
       "      <td>STON/O2. 3101282</td>\n",
       "      <td>7.9250</td>\n",
       "      <td>NaN</td>\n",
       "      <td>S</td>\n",
       "    </tr>\n",
       "    <tr>\n",
       "      <th>3</th>\n",
       "      <td>4</td>\n",
       "      <td>1</td>\n",
       "      <td>1</td>\n",
       "      <td>Futrelle, Mrs. Jacques Heath (Lily May Peel)</td>\n",
       "      <td>female</td>\n",
       "      <td>35.0</td>\n",
       "      <td>1</td>\n",
       "      <td>0</td>\n",
       "      <td>113803</td>\n",
       "      <td>53.1000</td>\n",
       "      <td>C123</td>\n",
       "      <td>S</td>\n",
       "    </tr>\n",
       "    <tr>\n",
       "      <th>4</th>\n",
       "      <td>5</td>\n",
       "      <td>0</td>\n",
       "      <td>3</td>\n",
       "      <td>Allen, Mr. William Henry</td>\n",
       "      <td>male</td>\n",
       "      <td>35.0</td>\n",
       "      <td>0</td>\n",
       "      <td>0</td>\n",
       "      <td>373450</td>\n",
       "      <td>8.0500</td>\n",
       "      <td>NaN</td>\n",
       "      <td>S</td>\n",
       "    </tr>\n",
       "  </tbody>\n",
       "</table>\n",
       "</div>"
      ],
      "text/plain": [
       "   PassengerId  Survived  Pclass  \\\n",
       "0            1         0       3   \n",
       "1            2         1       1   \n",
       "2            3         1       3   \n",
       "3            4         1       1   \n",
       "4            5         0       3   \n",
       "\n",
       "                                                Name     Sex   Age  SibSp  \\\n",
       "0                            Braund, Mr. Owen Harris    male  22.0      1   \n",
       "1  Cumings, Mrs. John Bradley (Florence Briggs Th...  female  38.0      1   \n",
       "2                             Heikkinen, Miss. Laina  female  26.0      0   \n",
       "3       Futrelle, Mrs. Jacques Heath (Lily May Peel)  female  35.0      1   \n",
       "4                           Allen, Mr. William Henry    male  35.0      0   \n",
       "\n",
       "   Parch            Ticket     Fare Cabin Embarked  \n",
       "0      0         A/5 21171   7.2500   NaN        S  \n",
       "1      0          PC 17599  71.2833   C85        C  \n",
       "2      0  STON/O2. 3101282   7.9250   NaN        S  \n",
       "3      0            113803  53.1000  C123        S  \n",
       "4      0            373450   8.0500   NaN        S  "
      ]
     },
     "execution_count": 564,
     "metadata": {},
     "output_type": "execute_result"
    }
   ],
   "source": [
    "titanic_data.head()"
   ]
  },
  {
   "cell_type": "code",
   "execution_count": 566,
   "id": "ea86a941",
   "metadata": {},
   "outputs": [
    {
     "data": {
      "text/plain": [
       "PassengerId    False\n",
       "Survived       False\n",
       "Pclass         False\n",
       "Name           False\n",
       "Sex            False\n",
       "Age             True\n",
       "SibSp          False\n",
       "Parch          False\n",
       "Ticket         False\n",
       "Fare           False\n",
       "Cabin           True\n",
       "Embarked        True\n",
       "dtype: bool"
      ]
     },
     "execution_count": 566,
     "metadata": {},
     "output_type": "execute_result"
    }
   ],
   "source": [
    "titanic_data.isna().any()"
   ]
  },
  {
   "cell_type": "code",
   "execution_count": 565,
   "id": "9f74b5f9",
   "metadata": {},
   "outputs": [
    {
     "data": {
      "text/plain": [
       "PassengerId    False\n",
       "Survived       False\n",
       "Pclass         False\n",
       "Name           False\n",
       "Sex            False\n",
       "Age             True\n",
       "SibSp          False\n",
       "Parch          False\n",
       "Ticket         False\n",
       "Fare           False\n",
       "Cabin           True\n",
       "Embarked        True\n",
       "dtype: bool"
      ]
     },
     "execution_count": 565,
     "metadata": {},
     "output_type": "execute_result"
    }
   ],
   "source": [
    "titanic_data.isnull().any()"
   ]
  },
  {
   "cell_type": "code",
   "execution_count": 567,
   "id": "57866e04",
   "metadata": {},
   "outputs": [
    {
     "data": {
      "text/plain": [
       "(891, 12)"
      ]
     },
     "execution_count": 567,
     "metadata": {},
     "output_type": "execute_result"
    }
   ],
   "source": [
    "titanic_data.shape"
   ]
  },
  {
   "cell_type": "code",
   "execution_count": 568,
   "id": "c0995542",
   "metadata": {},
   "outputs": [],
   "source": [
    "titanic_data['Age'].fillna(titanic_data['Age'].mean(), inplace=True)\n",
    "titanic_data['Cabin'].fillna(titanic_data['Cabin'].mode()[0], inplace=True)\n",
    "titanic_data['Embarked'].fillna(titanic_data['Embarked'].mode()[0], inplace=True)"
   ]
  },
  {
   "cell_type": "code",
   "execution_count": 569,
   "id": "ee722fca",
   "metadata": {},
   "outputs": [
    {
     "data": {
      "text/html": [
       "<div>\n",
       "<style scoped>\n",
       "    .dataframe tbody tr th:only-of-type {\n",
       "        vertical-align: middle;\n",
       "    }\n",
       "\n",
       "    .dataframe tbody tr th {\n",
       "        vertical-align: top;\n",
       "    }\n",
       "\n",
       "    .dataframe thead th {\n",
       "        text-align: right;\n",
       "    }\n",
       "</style>\n",
       "<table border=\"1\" class=\"dataframe\">\n",
       "  <thead>\n",
       "    <tr style=\"text-align: right;\">\n",
       "      <th></th>\n",
       "      <th>PassengerId</th>\n",
       "      <th>Survived</th>\n",
       "      <th>Pclass</th>\n",
       "      <th>Name</th>\n",
       "      <th>Sex</th>\n",
       "      <th>Age</th>\n",
       "      <th>SibSp</th>\n",
       "      <th>Parch</th>\n",
       "      <th>Ticket</th>\n",
       "      <th>Fare</th>\n",
       "      <th>Cabin</th>\n",
       "      <th>Embarked</th>\n",
       "    </tr>\n",
       "  </thead>\n",
       "  <tbody>\n",
       "    <tr>\n",
       "      <th>0</th>\n",
       "      <td>1</td>\n",
       "      <td>0</td>\n",
       "      <td>3</td>\n",
       "      <td>Braund, Mr. Owen Harris</td>\n",
       "      <td>male</td>\n",
       "      <td>22.0</td>\n",
       "      <td>1</td>\n",
       "      <td>0</td>\n",
       "      <td>A/5 21171</td>\n",
       "      <td>7.2500</td>\n",
       "      <td>B96 B98</td>\n",
       "      <td>S</td>\n",
       "    </tr>\n",
       "    <tr>\n",
       "      <th>1</th>\n",
       "      <td>2</td>\n",
       "      <td>1</td>\n",
       "      <td>1</td>\n",
       "      <td>Cumings, Mrs. John Bradley (Florence Briggs Th...</td>\n",
       "      <td>female</td>\n",
       "      <td>38.0</td>\n",
       "      <td>1</td>\n",
       "      <td>0</td>\n",
       "      <td>PC 17599</td>\n",
       "      <td>71.2833</td>\n",
       "      <td>C85</td>\n",
       "      <td>C</td>\n",
       "    </tr>\n",
       "    <tr>\n",
       "      <th>2</th>\n",
       "      <td>3</td>\n",
       "      <td>1</td>\n",
       "      <td>3</td>\n",
       "      <td>Heikkinen, Miss. Laina</td>\n",
       "      <td>female</td>\n",
       "      <td>26.0</td>\n",
       "      <td>0</td>\n",
       "      <td>0</td>\n",
       "      <td>STON/O2. 3101282</td>\n",
       "      <td>7.9250</td>\n",
       "      <td>B96 B98</td>\n",
       "      <td>S</td>\n",
       "    </tr>\n",
       "    <tr>\n",
       "      <th>3</th>\n",
       "      <td>4</td>\n",
       "      <td>1</td>\n",
       "      <td>1</td>\n",
       "      <td>Futrelle, Mrs. Jacques Heath (Lily May Peel)</td>\n",
       "      <td>female</td>\n",
       "      <td>35.0</td>\n",
       "      <td>1</td>\n",
       "      <td>0</td>\n",
       "      <td>113803</td>\n",
       "      <td>53.1000</td>\n",
       "      <td>C123</td>\n",
       "      <td>S</td>\n",
       "    </tr>\n",
       "    <tr>\n",
       "      <th>4</th>\n",
       "      <td>5</td>\n",
       "      <td>0</td>\n",
       "      <td>3</td>\n",
       "      <td>Allen, Mr. William Henry</td>\n",
       "      <td>male</td>\n",
       "      <td>35.0</td>\n",
       "      <td>0</td>\n",
       "      <td>0</td>\n",
       "      <td>373450</td>\n",
       "      <td>8.0500</td>\n",
       "      <td>B96 B98</td>\n",
       "      <td>S</td>\n",
       "    </tr>\n",
       "  </tbody>\n",
       "</table>\n",
       "</div>"
      ],
      "text/plain": [
       "   PassengerId  Survived  Pclass  \\\n",
       "0            1         0       3   \n",
       "1            2         1       1   \n",
       "2            3         1       3   \n",
       "3            4         1       1   \n",
       "4            5         0       3   \n",
       "\n",
       "                                                Name     Sex   Age  SibSp  \\\n",
       "0                            Braund, Mr. Owen Harris    male  22.0      1   \n",
       "1  Cumings, Mrs. John Bradley (Florence Briggs Th...  female  38.0      1   \n",
       "2                             Heikkinen, Miss. Laina  female  26.0      0   \n",
       "3       Futrelle, Mrs. Jacques Heath (Lily May Peel)  female  35.0      1   \n",
       "4                           Allen, Mr. William Henry    male  35.0      0   \n",
       "\n",
       "   Parch            Ticket     Fare    Cabin Embarked  \n",
       "0      0         A/5 21171   7.2500  B96 B98        S  \n",
       "1      0          PC 17599  71.2833      C85        C  \n",
       "2      0  STON/O2. 3101282   7.9250  B96 B98        S  \n",
       "3      0            113803  53.1000     C123        S  \n",
       "4      0            373450   8.0500  B96 B98        S  "
      ]
     },
     "execution_count": 569,
     "metadata": {},
     "output_type": "execute_result"
    }
   ],
   "source": [
    "titanic_data.head()"
   ]
  },
  {
   "cell_type": "code",
   "execution_count": 570,
   "id": "2d12084d",
   "metadata": {},
   "outputs": [
    {
     "data": {
      "text/plain": [
       "PassengerId    False\n",
       "Survived       False\n",
       "Pclass         False\n",
       "Name           False\n",
       "Sex            False\n",
       "Age            False\n",
       "SibSp          False\n",
       "Parch          False\n",
       "Ticket         False\n",
       "Fare           False\n",
       "Cabin          False\n",
       "Embarked       False\n",
       "dtype: bool"
      ]
     },
     "execution_count": 570,
     "metadata": {},
     "output_type": "execute_result"
    }
   ],
   "source": [
    "titanic_data.isna().any()"
   ]
  },
  {
   "cell_type": "code",
   "execution_count": 571,
   "id": "f2ca1d9b",
   "metadata": {},
   "outputs": [],
   "source": [
    "titanic_data['Embarked'] = titanic_data['Embarked'].map({'S': 0, 'C': 1, 'Q': 2})\n",
    "titanic_data['Sex']= titanic_data['Sex'].map({'male':0, \"female\":1})"
   ]
  },
  {
   "cell_type": "code",
   "execution_count": 572,
   "id": "ab65a3b1",
   "metadata": {},
   "outputs": [
    {
     "data": {
      "text/html": [
       "<div>\n",
       "<style scoped>\n",
       "    .dataframe tbody tr th:only-of-type {\n",
       "        vertical-align: middle;\n",
       "    }\n",
       "\n",
       "    .dataframe tbody tr th {\n",
       "        vertical-align: top;\n",
       "    }\n",
       "\n",
       "    .dataframe thead th {\n",
       "        text-align: right;\n",
       "    }\n",
       "</style>\n",
       "<table border=\"1\" class=\"dataframe\">\n",
       "  <thead>\n",
       "    <tr style=\"text-align: right;\">\n",
       "      <th></th>\n",
       "      <th>PassengerId</th>\n",
       "      <th>Survived</th>\n",
       "      <th>Pclass</th>\n",
       "      <th>Name</th>\n",
       "      <th>Sex</th>\n",
       "      <th>Age</th>\n",
       "      <th>SibSp</th>\n",
       "      <th>Parch</th>\n",
       "      <th>Ticket</th>\n",
       "      <th>Fare</th>\n",
       "      <th>Cabin</th>\n",
       "      <th>Embarked</th>\n",
       "    </tr>\n",
       "  </thead>\n",
       "  <tbody>\n",
       "    <tr>\n",
       "      <th>0</th>\n",
       "      <td>1</td>\n",
       "      <td>0</td>\n",
       "      <td>3</td>\n",
       "      <td>Braund, Mr. Owen Harris</td>\n",
       "      <td>0</td>\n",
       "      <td>22.0</td>\n",
       "      <td>1</td>\n",
       "      <td>0</td>\n",
       "      <td>A/5 21171</td>\n",
       "      <td>7.2500</td>\n",
       "      <td>B96 B98</td>\n",
       "      <td>0</td>\n",
       "    </tr>\n",
       "    <tr>\n",
       "      <th>1</th>\n",
       "      <td>2</td>\n",
       "      <td>1</td>\n",
       "      <td>1</td>\n",
       "      <td>Cumings, Mrs. John Bradley (Florence Briggs Th...</td>\n",
       "      <td>1</td>\n",
       "      <td>38.0</td>\n",
       "      <td>1</td>\n",
       "      <td>0</td>\n",
       "      <td>PC 17599</td>\n",
       "      <td>71.2833</td>\n",
       "      <td>C85</td>\n",
       "      <td>1</td>\n",
       "    </tr>\n",
       "    <tr>\n",
       "      <th>2</th>\n",
       "      <td>3</td>\n",
       "      <td>1</td>\n",
       "      <td>3</td>\n",
       "      <td>Heikkinen, Miss. Laina</td>\n",
       "      <td>1</td>\n",
       "      <td>26.0</td>\n",
       "      <td>0</td>\n",
       "      <td>0</td>\n",
       "      <td>STON/O2. 3101282</td>\n",
       "      <td>7.9250</td>\n",
       "      <td>B96 B98</td>\n",
       "      <td>0</td>\n",
       "    </tr>\n",
       "    <tr>\n",
       "      <th>3</th>\n",
       "      <td>4</td>\n",
       "      <td>1</td>\n",
       "      <td>1</td>\n",
       "      <td>Futrelle, Mrs. Jacques Heath (Lily May Peel)</td>\n",
       "      <td>1</td>\n",
       "      <td>35.0</td>\n",
       "      <td>1</td>\n",
       "      <td>0</td>\n",
       "      <td>113803</td>\n",
       "      <td>53.1000</td>\n",
       "      <td>C123</td>\n",
       "      <td>0</td>\n",
       "    </tr>\n",
       "    <tr>\n",
       "      <th>4</th>\n",
       "      <td>5</td>\n",
       "      <td>0</td>\n",
       "      <td>3</td>\n",
       "      <td>Allen, Mr. William Henry</td>\n",
       "      <td>0</td>\n",
       "      <td>35.0</td>\n",
       "      <td>0</td>\n",
       "      <td>0</td>\n",
       "      <td>373450</td>\n",
       "      <td>8.0500</td>\n",
       "      <td>B96 B98</td>\n",
       "      <td>0</td>\n",
       "    </tr>\n",
       "  </tbody>\n",
       "</table>\n",
       "</div>"
      ],
      "text/plain": [
       "   PassengerId  Survived  Pclass  \\\n",
       "0            1         0       3   \n",
       "1            2         1       1   \n",
       "2            3         1       3   \n",
       "3            4         1       1   \n",
       "4            5         0       3   \n",
       "\n",
       "                                                Name  Sex   Age  SibSp  Parch  \\\n",
       "0                            Braund, Mr. Owen Harris    0  22.0      1      0   \n",
       "1  Cumings, Mrs. John Bradley (Florence Briggs Th...    1  38.0      1      0   \n",
       "2                             Heikkinen, Miss. Laina    1  26.0      0      0   \n",
       "3       Futrelle, Mrs. Jacques Heath (Lily May Peel)    1  35.0      1      0   \n",
       "4                           Allen, Mr. William Henry    0  35.0      0      0   \n",
       "\n",
       "             Ticket     Fare    Cabin  Embarked  \n",
       "0         A/5 21171   7.2500  B96 B98         0  \n",
       "1          PC 17599  71.2833      C85         1  \n",
       "2  STON/O2. 3101282   7.9250  B96 B98         0  \n",
       "3            113803  53.1000     C123         0  \n",
       "4            373450   8.0500  B96 B98         0  "
      ]
     },
     "execution_count": 572,
     "metadata": {},
     "output_type": "execute_result"
    }
   ],
   "source": [
    "titanic_data.head()"
   ]
  },
  {
   "cell_type": "code",
   "execution_count": 573,
   "id": "6c738bdb",
   "metadata": {},
   "outputs": [],
   "source": [
    "X = titanic_data[['Pclass', 'Sex', 'Age', 'Fare', 'Embarked']]\n",
    "y = titanic_data['Survived']"
   ]
  },
  {
   "cell_type": "code",
   "execution_count": 574,
   "id": "9d6bffa8",
   "metadata": {},
   "outputs": [],
   "source": [
    "X_train, X_test, y_train, y_test = train_test_split(X, y, test_size=0.1, random_state=42)"
   ]
  },
  {
   "cell_type": "code",
   "execution_count": 579,
   "id": "c326c666",
   "metadata": {},
   "outputs": [],
   "source": [
    "model = RandomForestClassifier(n_estimators=500)"
   ]
  },
  {
   "cell_type": "code",
   "execution_count": 580,
   "id": "713c362b",
   "metadata": {},
   "outputs": [
    {
     "data": {
      "text/html": [
       "<style>#sk-container-id-15 {color: black;}#sk-container-id-15 pre{padding: 0;}#sk-container-id-15 div.sk-toggleable {background-color: white;}#sk-container-id-15 label.sk-toggleable__label {cursor: pointer;display: block;width: 100%;margin-bottom: 0;padding: 0.3em;box-sizing: border-box;text-align: center;}#sk-container-id-15 label.sk-toggleable__label-arrow:before {content: \"▸\";float: left;margin-right: 0.25em;color: #696969;}#sk-container-id-15 label.sk-toggleable__label-arrow:hover:before {color: black;}#sk-container-id-15 div.sk-estimator:hover label.sk-toggleable__label-arrow:before {color: black;}#sk-container-id-15 div.sk-toggleable__content {max-height: 0;max-width: 0;overflow: hidden;text-align: left;background-color: #f0f8ff;}#sk-container-id-15 div.sk-toggleable__content pre {margin: 0.2em;color: black;border-radius: 0.25em;background-color: #f0f8ff;}#sk-container-id-15 input.sk-toggleable__control:checked~div.sk-toggleable__content {max-height: 200px;max-width: 100%;overflow: auto;}#sk-container-id-15 input.sk-toggleable__control:checked~label.sk-toggleable__label-arrow:before {content: \"▾\";}#sk-container-id-15 div.sk-estimator input.sk-toggleable__control:checked~label.sk-toggleable__label {background-color: #d4ebff;}#sk-container-id-15 div.sk-label input.sk-toggleable__control:checked~label.sk-toggleable__label {background-color: #d4ebff;}#sk-container-id-15 input.sk-hidden--visually {border: 0;clip: rect(1px 1px 1px 1px);clip: rect(1px, 1px, 1px, 1px);height: 1px;margin: -1px;overflow: hidden;padding: 0;position: absolute;width: 1px;}#sk-container-id-15 div.sk-estimator {font-family: monospace;background-color: #f0f8ff;border: 1px dotted black;border-radius: 0.25em;box-sizing: border-box;margin-bottom: 0.5em;}#sk-container-id-15 div.sk-estimator:hover {background-color: #d4ebff;}#sk-container-id-15 div.sk-parallel-item::after {content: \"\";width: 100%;border-bottom: 1px solid gray;flex-grow: 1;}#sk-container-id-15 div.sk-label:hover label.sk-toggleable__label {background-color: #d4ebff;}#sk-container-id-15 div.sk-serial::before {content: \"\";position: absolute;border-left: 1px solid gray;box-sizing: border-box;top: 0;bottom: 0;left: 50%;z-index: 0;}#sk-container-id-15 div.sk-serial {display: flex;flex-direction: column;align-items: center;background-color: white;padding-right: 0.2em;padding-left: 0.2em;position: relative;}#sk-container-id-15 div.sk-item {position: relative;z-index: 1;}#sk-container-id-15 div.sk-parallel {display: flex;align-items: stretch;justify-content: center;background-color: white;position: relative;}#sk-container-id-15 div.sk-item::before, #sk-container-id-15 div.sk-parallel-item::before {content: \"\";position: absolute;border-left: 1px solid gray;box-sizing: border-box;top: 0;bottom: 0;left: 50%;z-index: -1;}#sk-container-id-15 div.sk-parallel-item {display: flex;flex-direction: column;z-index: 1;position: relative;background-color: white;}#sk-container-id-15 div.sk-parallel-item:first-child::after {align-self: flex-end;width: 50%;}#sk-container-id-15 div.sk-parallel-item:last-child::after {align-self: flex-start;width: 50%;}#sk-container-id-15 div.sk-parallel-item:only-child::after {width: 0;}#sk-container-id-15 div.sk-dashed-wrapped {border: 1px dashed gray;margin: 0 0.4em 0.5em 0.4em;box-sizing: border-box;padding-bottom: 0.4em;background-color: white;}#sk-container-id-15 div.sk-label label {font-family: monospace;font-weight: bold;display: inline-block;line-height: 1.2em;}#sk-container-id-15 div.sk-label-container {text-align: center;}#sk-container-id-15 div.sk-container {/* jupyter's `normalize.less` sets `[hidden] { display: none; }` but bootstrap.min.css set `[hidden] { display: none !important; }` so we also need the `!important` here to be able to override the default hidden behavior on the sphinx rendered scikit-learn.org. See: https://github.com/scikit-learn/scikit-learn/issues/21755 */display: inline-block !important;position: relative;}#sk-container-id-15 div.sk-text-repr-fallback {display: none;}</style><div id=\"sk-container-id-15\" class=\"sk-top-container\"><div class=\"sk-text-repr-fallback\"><pre>RandomForestClassifier(n_estimators=500)</pre><b>In a Jupyter environment, please rerun this cell to show the HTML representation or trust the notebook. <br />On GitHub, the HTML representation is unable to render, please try loading this page with nbviewer.org.</b></div><div class=\"sk-container\" hidden><div class=\"sk-item\"><div class=\"sk-estimator sk-toggleable\"><input class=\"sk-toggleable__control sk-hidden--visually\" id=\"sk-estimator-id-15\" type=\"checkbox\" checked><label for=\"sk-estimator-id-15\" class=\"sk-toggleable__label sk-toggleable__label-arrow\">RandomForestClassifier</label><div class=\"sk-toggleable__content\"><pre>RandomForestClassifier(n_estimators=500)</pre></div></div></div></div></div>"
      ],
      "text/plain": [
       "RandomForestClassifier(n_estimators=500)"
      ]
     },
     "execution_count": 580,
     "metadata": {},
     "output_type": "execute_result"
    }
   ],
   "source": [
    "model.fit(X_train,y_train)"
   ]
  },
  {
   "cell_type": "code",
   "execution_count": 581,
   "id": "5efb3603",
   "metadata": {},
   "outputs": [],
   "source": [
    "ypred = model.predict(X_test)"
   ]
  },
  {
   "cell_type": "code",
   "execution_count": 582,
   "id": "3f0ddfdc",
   "metadata": {},
   "outputs": [
    {
     "name": "stdout",
     "output_type": "stream",
     "text": [
      "              precision    recall  f1-score   support\n",
      "\n",
      "           0       0.90      0.81      0.85        54\n",
      "           1       0.76      0.86      0.81        36\n",
      "\n",
      "    accuracy                           0.83        90\n",
      "   macro avg       0.83      0.84      0.83        90\n",
      "weighted avg       0.84      0.83      0.83        90\n",
      "\n"
     ]
    }
   ],
   "source": [
    "print(classification_report(y_test, ypred))"
   ]
  },
  {
   "cell_type": "markdown",
   "id": "d3a6afac",
   "metadata": {},
   "source": [
    "### Gradient Boosting"
   ]
  },
  {
   "cell_type": "markdown",
   "id": "f596f10d",
   "metadata": {},
   "source": [
    "![gradient](https://media.geeksforgeeks.org/wp-content/uploads/20200721214745/gradientboosting.PNG)"
   ]
  },
  {
   "cell_type": "code",
   "execution_count": 1,
   "id": "26401813",
   "metadata": {},
   "outputs": [],
   "source": [
    "import pandas as pd\n",
    "import numpy as np\n",
    "\n",
    "from sklearn.ensemble import GradientBoostingClassifier\n",
    "from sklearn.metrics import classification_report\n",
    "from sklearn.model_selection import train_test_split"
   ]
  },
  {
   "cell_type": "code",
   "execution_count": 2,
   "id": "dba03a19",
   "metadata": {},
   "outputs": [],
   "source": [
    "url = 'https://raw.githubusercontent.com/datasciencedojo/datasets/master/titanic.csv'\n",
    "titanic_data = pd.read_csv(url)"
   ]
  },
  {
   "cell_type": "code",
   "execution_count": 3,
   "id": "476a0813",
   "metadata": {},
   "outputs": [
    {
     "data": {
      "text/html": [
       "<div>\n",
       "<style scoped>\n",
       "    .dataframe tbody tr th:only-of-type {\n",
       "        vertical-align: middle;\n",
       "    }\n",
       "\n",
       "    .dataframe tbody tr th {\n",
       "        vertical-align: top;\n",
       "    }\n",
       "\n",
       "    .dataframe thead th {\n",
       "        text-align: right;\n",
       "    }\n",
       "</style>\n",
       "<table border=\"1\" class=\"dataframe\">\n",
       "  <thead>\n",
       "    <tr style=\"text-align: right;\">\n",
       "      <th></th>\n",
       "      <th>PassengerId</th>\n",
       "      <th>Survived</th>\n",
       "      <th>Pclass</th>\n",
       "      <th>Name</th>\n",
       "      <th>Sex</th>\n",
       "      <th>Age</th>\n",
       "      <th>SibSp</th>\n",
       "      <th>Parch</th>\n",
       "      <th>Ticket</th>\n",
       "      <th>Fare</th>\n",
       "      <th>Cabin</th>\n",
       "      <th>Embarked</th>\n",
       "    </tr>\n",
       "  </thead>\n",
       "  <tbody>\n",
       "    <tr>\n",
       "      <th>0</th>\n",
       "      <td>1</td>\n",
       "      <td>0</td>\n",
       "      <td>3</td>\n",
       "      <td>Braund, Mr. Owen Harris</td>\n",
       "      <td>male</td>\n",
       "      <td>22.0</td>\n",
       "      <td>1</td>\n",
       "      <td>0</td>\n",
       "      <td>A/5 21171</td>\n",
       "      <td>7.2500</td>\n",
       "      <td>NaN</td>\n",
       "      <td>S</td>\n",
       "    </tr>\n",
       "    <tr>\n",
       "      <th>1</th>\n",
       "      <td>2</td>\n",
       "      <td>1</td>\n",
       "      <td>1</td>\n",
       "      <td>Cumings, Mrs. John Bradley (Florence Briggs Th...</td>\n",
       "      <td>female</td>\n",
       "      <td>38.0</td>\n",
       "      <td>1</td>\n",
       "      <td>0</td>\n",
       "      <td>PC 17599</td>\n",
       "      <td>71.2833</td>\n",
       "      <td>C85</td>\n",
       "      <td>C</td>\n",
       "    </tr>\n",
       "    <tr>\n",
       "      <th>2</th>\n",
       "      <td>3</td>\n",
       "      <td>1</td>\n",
       "      <td>3</td>\n",
       "      <td>Heikkinen, Miss. Laina</td>\n",
       "      <td>female</td>\n",
       "      <td>26.0</td>\n",
       "      <td>0</td>\n",
       "      <td>0</td>\n",
       "      <td>STON/O2. 3101282</td>\n",
       "      <td>7.9250</td>\n",
       "      <td>NaN</td>\n",
       "      <td>S</td>\n",
       "    </tr>\n",
       "    <tr>\n",
       "      <th>3</th>\n",
       "      <td>4</td>\n",
       "      <td>1</td>\n",
       "      <td>1</td>\n",
       "      <td>Futrelle, Mrs. Jacques Heath (Lily May Peel)</td>\n",
       "      <td>female</td>\n",
       "      <td>35.0</td>\n",
       "      <td>1</td>\n",
       "      <td>0</td>\n",
       "      <td>113803</td>\n",
       "      <td>53.1000</td>\n",
       "      <td>C123</td>\n",
       "      <td>S</td>\n",
       "    </tr>\n",
       "    <tr>\n",
       "      <th>4</th>\n",
       "      <td>5</td>\n",
       "      <td>0</td>\n",
       "      <td>3</td>\n",
       "      <td>Allen, Mr. William Henry</td>\n",
       "      <td>male</td>\n",
       "      <td>35.0</td>\n",
       "      <td>0</td>\n",
       "      <td>0</td>\n",
       "      <td>373450</td>\n",
       "      <td>8.0500</td>\n",
       "      <td>NaN</td>\n",
       "      <td>S</td>\n",
       "    </tr>\n",
       "  </tbody>\n",
       "</table>\n",
       "</div>"
      ],
      "text/plain": [
       "   PassengerId  Survived  Pclass  \\\n",
       "0            1         0       3   \n",
       "1            2         1       1   \n",
       "2            3         1       3   \n",
       "3            4         1       1   \n",
       "4            5         0       3   \n",
       "\n",
       "                                                Name     Sex   Age  SibSp  \\\n",
       "0                            Braund, Mr. Owen Harris    male  22.0      1   \n",
       "1  Cumings, Mrs. John Bradley (Florence Briggs Th...  female  38.0      1   \n",
       "2                             Heikkinen, Miss. Laina  female  26.0      0   \n",
       "3       Futrelle, Mrs. Jacques Heath (Lily May Peel)  female  35.0      1   \n",
       "4                           Allen, Mr. William Henry    male  35.0      0   \n",
       "\n",
       "   Parch            Ticket     Fare Cabin Embarked  \n",
       "0      0         A/5 21171   7.2500   NaN        S  \n",
       "1      0          PC 17599  71.2833   C85        C  \n",
       "2      0  STON/O2. 3101282   7.9250   NaN        S  \n",
       "3      0            113803  53.1000  C123        S  \n",
       "4      0            373450   8.0500   NaN        S  "
      ]
     },
     "execution_count": 3,
     "metadata": {},
     "output_type": "execute_result"
    }
   ],
   "source": [
    "titanic_data.head()"
   ]
  },
  {
   "cell_type": "code",
   "execution_count": 4,
   "id": "0831303c",
   "metadata": {},
   "outputs": [
    {
     "data": {
      "text/plain": [
       "PassengerId    False\n",
       "Survived       False\n",
       "Pclass         False\n",
       "Name           False\n",
       "Sex            False\n",
       "Age             True\n",
       "SibSp          False\n",
       "Parch          False\n",
       "Ticket         False\n",
       "Fare           False\n",
       "Cabin           True\n",
       "Embarked        True\n",
       "dtype: bool"
      ]
     },
     "execution_count": 4,
     "metadata": {},
     "output_type": "execute_result"
    }
   ],
   "source": [
    "titanic_data.isna().any()"
   ]
  },
  {
   "cell_type": "code",
   "execution_count": null,
   "id": "5fa629b8",
   "metadata": {},
   "outputs": [],
   "source": [
    "titanic_data.isnull().any()"
   ]
  },
  {
   "cell_type": "code",
   "execution_count": 5,
   "id": "56c92739",
   "metadata": {},
   "outputs": [
    {
     "data": {
      "text/plain": [
       "(891, 12)"
      ]
     },
     "execution_count": 5,
     "metadata": {},
     "output_type": "execute_result"
    }
   ],
   "source": [
    "titanic_data.shape"
   ]
  },
  {
   "cell_type": "code",
   "execution_count": 6,
   "id": "2db54bb6",
   "metadata": {},
   "outputs": [],
   "source": [
    "titanic_data['Age'].fillna(titanic_data['Age'].mean(), inplace=True)\n",
    "titanic_data['Cabin'].fillna(titanic_data['Cabin'].mode()[0], inplace=True)\n",
    "titanic_data['Embarked'].fillna(titanic_data['Embarked'].mode()[0], inplace=True)"
   ]
  },
  {
   "cell_type": "code",
   "execution_count": 7,
   "id": "941f9cc5",
   "metadata": {},
   "outputs": [
    {
     "data": {
      "text/html": [
       "<div>\n",
       "<style scoped>\n",
       "    .dataframe tbody tr th:only-of-type {\n",
       "        vertical-align: middle;\n",
       "    }\n",
       "\n",
       "    .dataframe tbody tr th {\n",
       "        vertical-align: top;\n",
       "    }\n",
       "\n",
       "    .dataframe thead th {\n",
       "        text-align: right;\n",
       "    }\n",
       "</style>\n",
       "<table border=\"1\" class=\"dataframe\">\n",
       "  <thead>\n",
       "    <tr style=\"text-align: right;\">\n",
       "      <th></th>\n",
       "      <th>PassengerId</th>\n",
       "      <th>Survived</th>\n",
       "      <th>Pclass</th>\n",
       "      <th>Name</th>\n",
       "      <th>Sex</th>\n",
       "      <th>Age</th>\n",
       "      <th>SibSp</th>\n",
       "      <th>Parch</th>\n",
       "      <th>Ticket</th>\n",
       "      <th>Fare</th>\n",
       "      <th>Cabin</th>\n",
       "      <th>Embarked</th>\n",
       "    </tr>\n",
       "  </thead>\n",
       "  <tbody>\n",
       "    <tr>\n",
       "      <th>0</th>\n",
       "      <td>1</td>\n",
       "      <td>0</td>\n",
       "      <td>3</td>\n",
       "      <td>Braund, Mr. Owen Harris</td>\n",
       "      <td>male</td>\n",
       "      <td>22.0</td>\n",
       "      <td>1</td>\n",
       "      <td>0</td>\n",
       "      <td>A/5 21171</td>\n",
       "      <td>7.2500</td>\n",
       "      <td>B96 B98</td>\n",
       "      <td>S</td>\n",
       "    </tr>\n",
       "    <tr>\n",
       "      <th>1</th>\n",
       "      <td>2</td>\n",
       "      <td>1</td>\n",
       "      <td>1</td>\n",
       "      <td>Cumings, Mrs. John Bradley (Florence Briggs Th...</td>\n",
       "      <td>female</td>\n",
       "      <td>38.0</td>\n",
       "      <td>1</td>\n",
       "      <td>0</td>\n",
       "      <td>PC 17599</td>\n",
       "      <td>71.2833</td>\n",
       "      <td>C85</td>\n",
       "      <td>C</td>\n",
       "    </tr>\n",
       "    <tr>\n",
       "      <th>2</th>\n",
       "      <td>3</td>\n",
       "      <td>1</td>\n",
       "      <td>3</td>\n",
       "      <td>Heikkinen, Miss. Laina</td>\n",
       "      <td>female</td>\n",
       "      <td>26.0</td>\n",
       "      <td>0</td>\n",
       "      <td>0</td>\n",
       "      <td>STON/O2. 3101282</td>\n",
       "      <td>7.9250</td>\n",
       "      <td>B96 B98</td>\n",
       "      <td>S</td>\n",
       "    </tr>\n",
       "    <tr>\n",
       "      <th>3</th>\n",
       "      <td>4</td>\n",
       "      <td>1</td>\n",
       "      <td>1</td>\n",
       "      <td>Futrelle, Mrs. Jacques Heath (Lily May Peel)</td>\n",
       "      <td>female</td>\n",
       "      <td>35.0</td>\n",
       "      <td>1</td>\n",
       "      <td>0</td>\n",
       "      <td>113803</td>\n",
       "      <td>53.1000</td>\n",
       "      <td>C123</td>\n",
       "      <td>S</td>\n",
       "    </tr>\n",
       "    <tr>\n",
       "      <th>4</th>\n",
       "      <td>5</td>\n",
       "      <td>0</td>\n",
       "      <td>3</td>\n",
       "      <td>Allen, Mr. William Henry</td>\n",
       "      <td>male</td>\n",
       "      <td>35.0</td>\n",
       "      <td>0</td>\n",
       "      <td>0</td>\n",
       "      <td>373450</td>\n",
       "      <td>8.0500</td>\n",
       "      <td>B96 B98</td>\n",
       "      <td>S</td>\n",
       "    </tr>\n",
       "  </tbody>\n",
       "</table>\n",
       "</div>"
      ],
      "text/plain": [
       "   PassengerId  Survived  Pclass  \\\n",
       "0            1         0       3   \n",
       "1            2         1       1   \n",
       "2            3         1       3   \n",
       "3            4         1       1   \n",
       "4            5         0       3   \n",
       "\n",
       "                                                Name     Sex   Age  SibSp  \\\n",
       "0                            Braund, Mr. Owen Harris    male  22.0      1   \n",
       "1  Cumings, Mrs. John Bradley (Florence Briggs Th...  female  38.0      1   \n",
       "2                             Heikkinen, Miss. Laina  female  26.0      0   \n",
       "3       Futrelle, Mrs. Jacques Heath (Lily May Peel)  female  35.0      1   \n",
       "4                           Allen, Mr. William Henry    male  35.0      0   \n",
       "\n",
       "   Parch            Ticket     Fare    Cabin Embarked  \n",
       "0      0         A/5 21171   7.2500  B96 B98        S  \n",
       "1      0          PC 17599  71.2833      C85        C  \n",
       "2      0  STON/O2. 3101282   7.9250  B96 B98        S  \n",
       "3      0            113803  53.1000     C123        S  \n",
       "4      0            373450   8.0500  B96 B98        S  "
      ]
     },
     "execution_count": 7,
     "metadata": {},
     "output_type": "execute_result"
    }
   ],
   "source": [
    "titanic_data.head()"
   ]
  },
  {
   "cell_type": "code",
   "execution_count": 8,
   "id": "32560529",
   "metadata": {},
   "outputs": [
    {
     "data": {
      "text/plain": [
       "PassengerId    False\n",
       "Survived       False\n",
       "Pclass         False\n",
       "Name           False\n",
       "Sex            False\n",
       "Age            False\n",
       "SibSp          False\n",
       "Parch          False\n",
       "Ticket         False\n",
       "Fare           False\n",
       "Cabin          False\n",
       "Embarked       False\n",
       "dtype: bool"
      ]
     },
     "execution_count": 8,
     "metadata": {},
     "output_type": "execute_result"
    }
   ],
   "source": [
    "titanic_data.isna().any()"
   ]
  },
  {
   "cell_type": "code",
   "execution_count": 9,
   "id": "e659c977",
   "metadata": {},
   "outputs": [],
   "source": [
    "titanic_data['Embarked'] = titanic_data['Embarked'].map({'S': 0, 'C': 1, 'Q': 2})\n",
    "titanic_data['Sex']= titanic_data['Sex'].map({'male':0, \"female\":1})"
   ]
  },
  {
   "cell_type": "code",
   "execution_count": 10,
   "id": "36db4281",
   "metadata": {},
   "outputs": [
    {
     "data": {
      "text/html": [
       "<div>\n",
       "<style scoped>\n",
       "    .dataframe tbody tr th:only-of-type {\n",
       "        vertical-align: middle;\n",
       "    }\n",
       "\n",
       "    .dataframe tbody tr th {\n",
       "        vertical-align: top;\n",
       "    }\n",
       "\n",
       "    .dataframe thead th {\n",
       "        text-align: right;\n",
       "    }\n",
       "</style>\n",
       "<table border=\"1\" class=\"dataframe\">\n",
       "  <thead>\n",
       "    <tr style=\"text-align: right;\">\n",
       "      <th></th>\n",
       "      <th>PassengerId</th>\n",
       "      <th>Survived</th>\n",
       "      <th>Pclass</th>\n",
       "      <th>Name</th>\n",
       "      <th>Sex</th>\n",
       "      <th>Age</th>\n",
       "      <th>SibSp</th>\n",
       "      <th>Parch</th>\n",
       "      <th>Ticket</th>\n",
       "      <th>Fare</th>\n",
       "      <th>Cabin</th>\n",
       "      <th>Embarked</th>\n",
       "    </tr>\n",
       "  </thead>\n",
       "  <tbody>\n",
       "    <tr>\n",
       "      <th>0</th>\n",
       "      <td>1</td>\n",
       "      <td>0</td>\n",
       "      <td>3</td>\n",
       "      <td>Braund, Mr. Owen Harris</td>\n",
       "      <td>0</td>\n",
       "      <td>22.0</td>\n",
       "      <td>1</td>\n",
       "      <td>0</td>\n",
       "      <td>A/5 21171</td>\n",
       "      <td>7.2500</td>\n",
       "      <td>B96 B98</td>\n",
       "      <td>0</td>\n",
       "    </tr>\n",
       "    <tr>\n",
       "      <th>1</th>\n",
       "      <td>2</td>\n",
       "      <td>1</td>\n",
       "      <td>1</td>\n",
       "      <td>Cumings, Mrs. John Bradley (Florence Briggs Th...</td>\n",
       "      <td>1</td>\n",
       "      <td>38.0</td>\n",
       "      <td>1</td>\n",
       "      <td>0</td>\n",
       "      <td>PC 17599</td>\n",
       "      <td>71.2833</td>\n",
       "      <td>C85</td>\n",
       "      <td>1</td>\n",
       "    </tr>\n",
       "    <tr>\n",
       "      <th>2</th>\n",
       "      <td>3</td>\n",
       "      <td>1</td>\n",
       "      <td>3</td>\n",
       "      <td>Heikkinen, Miss. Laina</td>\n",
       "      <td>1</td>\n",
       "      <td>26.0</td>\n",
       "      <td>0</td>\n",
       "      <td>0</td>\n",
       "      <td>STON/O2. 3101282</td>\n",
       "      <td>7.9250</td>\n",
       "      <td>B96 B98</td>\n",
       "      <td>0</td>\n",
       "    </tr>\n",
       "    <tr>\n",
       "      <th>3</th>\n",
       "      <td>4</td>\n",
       "      <td>1</td>\n",
       "      <td>1</td>\n",
       "      <td>Futrelle, Mrs. Jacques Heath (Lily May Peel)</td>\n",
       "      <td>1</td>\n",
       "      <td>35.0</td>\n",
       "      <td>1</td>\n",
       "      <td>0</td>\n",
       "      <td>113803</td>\n",
       "      <td>53.1000</td>\n",
       "      <td>C123</td>\n",
       "      <td>0</td>\n",
       "    </tr>\n",
       "    <tr>\n",
       "      <th>4</th>\n",
       "      <td>5</td>\n",
       "      <td>0</td>\n",
       "      <td>3</td>\n",
       "      <td>Allen, Mr. William Henry</td>\n",
       "      <td>0</td>\n",
       "      <td>35.0</td>\n",
       "      <td>0</td>\n",
       "      <td>0</td>\n",
       "      <td>373450</td>\n",
       "      <td>8.0500</td>\n",
       "      <td>B96 B98</td>\n",
       "      <td>0</td>\n",
       "    </tr>\n",
       "  </tbody>\n",
       "</table>\n",
       "</div>"
      ],
      "text/plain": [
       "   PassengerId  Survived  Pclass  \\\n",
       "0            1         0       3   \n",
       "1            2         1       1   \n",
       "2            3         1       3   \n",
       "3            4         1       1   \n",
       "4            5         0       3   \n",
       "\n",
       "                                                Name  Sex   Age  SibSp  Parch  \\\n",
       "0                            Braund, Mr. Owen Harris    0  22.0      1      0   \n",
       "1  Cumings, Mrs. John Bradley (Florence Briggs Th...    1  38.0      1      0   \n",
       "2                             Heikkinen, Miss. Laina    1  26.0      0      0   \n",
       "3       Futrelle, Mrs. Jacques Heath (Lily May Peel)    1  35.0      1      0   \n",
       "4                           Allen, Mr. William Henry    0  35.0      0      0   \n",
       "\n",
       "             Ticket     Fare    Cabin  Embarked  \n",
       "0         A/5 21171   7.2500  B96 B98         0  \n",
       "1          PC 17599  71.2833      C85         1  \n",
       "2  STON/O2. 3101282   7.9250  B96 B98         0  \n",
       "3            113803  53.1000     C123         0  \n",
       "4            373450   8.0500  B96 B98         0  "
      ]
     },
     "execution_count": 10,
     "metadata": {},
     "output_type": "execute_result"
    }
   ],
   "source": [
    "titanic_data.head()"
   ]
  },
  {
   "cell_type": "code",
   "execution_count": 11,
   "id": "3be051fa",
   "metadata": {},
   "outputs": [],
   "source": [
    "X = titanic_data[['Pclass', 'Sex', 'Age', 'Fare', 'Embarked']]\n",
    "y = titanic_data['Survived']"
   ]
  },
  {
   "cell_type": "code",
   "execution_count": 12,
   "id": "b42b08f9",
   "metadata": {},
   "outputs": [],
   "source": [
    "X_train, X_test, y_train, y_test = train_test_split(X, y, test_size=0.1, random_state=42)"
   ]
  },
  {
   "cell_type": "code",
   "execution_count": 33,
   "id": "78bbd14c",
   "metadata": {},
   "outputs": [],
   "source": [
    "model = GradientBoostingClassifier(n_estimators=500, learning_rate=0.1, max_depth=3)"
   ]
  },
  {
   "cell_type": "code",
   "execution_count": 34,
   "id": "81fb2980",
   "metadata": {},
   "outputs": [
    {
     "data": {
      "text/html": [
       "<style>#sk-container-id-6 {color: black;}#sk-container-id-6 pre{padding: 0;}#sk-container-id-6 div.sk-toggleable {background-color: white;}#sk-container-id-6 label.sk-toggleable__label {cursor: pointer;display: block;width: 100%;margin-bottom: 0;padding: 0.3em;box-sizing: border-box;text-align: center;}#sk-container-id-6 label.sk-toggleable__label-arrow:before {content: \"▸\";float: left;margin-right: 0.25em;color: #696969;}#sk-container-id-6 label.sk-toggleable__label-arrow:hover:before {color: black;}#sk-container-id-6 div.sk-estimator:hover label.sk-toggleable__label-arrow:before {color: black;}#sk-container-id-6 div.sk-toggleable__content {max-height: 0;max-width: 0;overflow: hidden;text-align: left;background-color: #f0f8ff;}#sk-container-id-6 div.sk-toggleable__content pre {margin: 0.2em;color: black;border-radius: 0.25em;background-color: #f0f8ff;}#sk-container-id-6 input.sk-toggleable__control:checked~div.sk-toggleable__content {max-height: 200px;max-width: 100%;overflow: auto;}#sk-container-id-6 input.sk-toggleable__control:checked~label.sk-toggleable__label-arrow:before {content: \"▾\";}#sk-container-id-6 div.sk-estimator input.sk-toggleable__control:checked~label.sk-toggleable__label {background-color: #d4ebff;}#sk-container-id-6 div.sk-label input.sk-toggleable__control:checked~label.sk-toggleable__label {background-color: #d4ebff;}#sk-container-id-6 input.sk-hidden--visually {border: 0;clip: rect(1px 1px 1px 1px);clip: rect(1px, 1px, 1px, 1px);height: 1px;margin: -1px;overflow: hidden;padding: 0;position: absolute;width: 1px;}#sk-container-id-6 div.sk-estimator {font-family: monospace;background-color: #f0f8ff;border: 1px dotted black;border-radius: 0.25em;box-sizing: border-box;margin-bottom: 0.5em;}#sk-container-id-6 div.sk-estimator:hover {background-color: #d4ebff;}#sk-container-id-6 div.sk-parallel-item::after {content: \"\";width: 100%;border-bottom: 1px solid gray;flex-grow: 1;}#sk-container-id-6 div.sk-label:hover label.sk-toggleable__label {background-color: #d4ebff;}#sk-container-id-6 div.sk-serial::before {content: \"\";position: absolute;border-left: 1px solid gray;box-sizing: border-box;top: 0;bottom: 0;left: 50%;z-index: 0;}#sk-container-id-6 div.sk-serial {display: flex;flex-direction: column;align-items: center;background-color: white;padding-right: 0.2em;padding-left: 0.2em;position: relative;}#sk-container-id-6 div.sk-item {position: relative;z-index: 1;}#sk-container-id-6 div.sk-parallel {display: flex;align-items: stretch;justify-content: center;background-color: white;position: relative;}#sk-container-id-6 div.sk-item::before, #sk-container-id-6 div.sk-parallel-item::before {content: \"\";position: absolute;border-left: 1px solid gray;box-sizing: border-box;top: 0;bottom: 0;left: 50%;z-index: -1;}#sk-container-id-6 div.sk-parallel-item {display: flex;flex-direction: column;z-index: 1;position: relative;background-color: white;}#sk-container-id-6 div.sk-parallel-item:first-child::after {align-self: flex-end;width: 50%;}#sk-container-id-6 div.sk-parallel-item:last-child::after {align-self: flex-start;width: 50%;}#sk-container-id-6 div.sk-parallel-item:only-child::after {width: 0;}#sk-container-id-6 div.sk-dashed-wrapped {border: 1px dashed gray;margin: 0 0.4em 0.5em 0.4em;box-sizing: border-box;padding-bottom: 0.4em;background-color: white;}#sk-container-id-6 div.sk-label label {font-family: monospace;font-weight: bold;display: inline-block;line-height: 1.2em;}#sk-container-id-6 div.sk-label-container {text-align: center;}#sk-container-id-6 div.sk-container {/* jupyter's `normalize.less` sets `[hidden] { display: none; }` but bootstrap.min.css set `[hidden] { display: none !important; }` so we also need the `!important` here to be able to override the default hidden behavior on the sphinx rendered scikit-learn.org. See: https://github.com/scikit-learn/scikit-learn/issues/21755 */display: inline-block !important;position: relative;}#sk-container-id-6 div.sk-text-repr-fallback {display: none;}</style><div id=\"sk-container-id-6\" class=\"sk-top-container\"><div class=\"sk-text-repr-fallback\"><pre>GradientBoostingClassifier(n_estimators=500)</pre><b>In a Jupyter environment, please rerun this cell to show the HTML representation or trust the notebook. <br />On GitHub, the HTML representation is unable to render, please try loading this page with nbviewer.org.</b></div><div class=\"sk-container\" hidden><div class=\"sk-item\"><div class=\"sk-estimator sk-toggleable\"><input class=\"sk-toggleable__control sk-hidden--visually\" id=\"sk-estimator-id-6\" type=\"checkbox\" checked><label for=\"sk-estimator-id-6\" class=\"sk-toggleable__label sk-toggleable__label-arrow\">GradientBoostingClassifier</label><div class=\"sk-toggleable__content\"><pre>GradientBoostingClassifier(n_estimators=500)</pre></div></div></div></div></div>"
      ],
      "text/plain": [
       "GradientBoostingClassifier(n_estimators=500)"
      ]
     },
     "execution_count": 34,
     "metadata": {},
     "output_type": "execute_result"
    }
   ],
   "source": [
    "model.fit(X_train, y_train)"
   ]
  },
  {
   "cell_type": "code",
   "execution_count": 35,
   "id": "aa4c32ea",
   "metadata": {},
   "outputs": [],
   "source": [
    "ypred = model.predict(X_test)"
   ]
  },
  {
   "cell_type": "code",
   "execution_count": 36,
   "id": "8c9240e8",
   "metadata": {},
   "outputs": [
    {
     "name": "stdout",
     "output_type": "stream",
     "text": [
      "              precision    recall  f1-score   support\n",
      "\n",
      "           0       0.88      0.85      0.87        54\n",
      "           1       0.79      0.83      0.81        36\n",
      "\n",
      "    accuracy                           0.84        90\n",
      "   macro avg       0.84      0.84      0.84        90\n",
      "weighted avg       0.85      0.84      0.85        90\n",
      "\n"
     ]
    }
   ],
   "source": [
    "print(classification_report(y_test, ypred))"
   ]
  },
  {
   "cell_type": "markdown",
   "id": "f22b293a",
   "metadata": {},
   "source": [
    "### K-Means Clustering "
   ]
  },
  {
   "cell_type": "markdown",
   "id": "63f4d26b",
   "metadata": {},
   "source": [
    "![K-means](https://images.squarespace-cdn.com/content/v1/5acbdd3a25bf024c12f4c8b4/1608407348392-22767PJ7RQ85BD5RLSLZ/k-means-clustering.png\n",
    ")"
   ]
  },
  {
   "cell_type": "markdown",
   "id": "deed576f",
   "metadata": {},
   "source": [
    "![euclidean](https://media.hswstatic.com/eyJidWNrZXQiOiJjb250ZW50Lmhzd3N0YXRpYy5jb20iLCJrZXkiOiJnaWZcL2Rpc3RhbmNlLWZvcm11bGEuanBnIiwiZWRpdHMiOnsicmVzaXplIjp7IndpZHRoIjoiMTIwMCJ9fX0=)"
   ]
  },
  {
   "cell_type": "code",
   "execution_count": 37,
   "id": "f5364ca5",
   "metadata": {},
   "outputs": [],
   "source": [
    "import numpy as np\n",
    "import matplotlib.pyplot as plt\n",
    "from sklearn.cluster import KMeans\n",
    "from sklearn.datasets import make_blobs"
   ]
  },
  {
   "cell_type": "code",
   "execution_count": 38,
   "id": "e2273163",
   "metadata": {},
   "outputs": [],
   "source": [
    "X, y = make_blobs(n_samples=300, centers=4, cluster_std=0.60, random_state=3)\n"
   ]
  },
  {
   "cell_type": "code",
   "execution_count": 42,
   "id": "96a411d4",
   "metadata": {},
   "outputs": [
    {
     "data": {
      "image/png": "[encoded data removed]",
      "text/plain": [
       "<Figure size 640x480 with 1 Axes>"
      ]
     },
     "metadata": {},
     "output_type": "display_data"
    }
   ],
   "source": [
    "plt.scatter(X[:, 0], X[:, 1], s=50)\n",
    "plt.title('Sample Data Points')\n",
    "plt.show()"
   ]
  },
  {
   "cell_type": "code",
   "execution_count": 43,
   "id": "93351cb0",
   "metadata": {},
   "outputs": [],
   "source": [
    "kmeans = KMeans(n_clusters=4)"
   ]
  },
  {
   "cell_type": "code",
   "execution_count": 44,
   "id": "99772875",
   "metadata": {},
   "outputs": [
    {
     "name": "stderr",
     "output_type": "stream",
     "text": [
      "/Library/Frameworks/Python.framework/Versions/3.8/lib/python3.8/site-packages/sklearn/cluster/_kmeans.py:1416: FutureWarning: The default value of `n_init` will change from 10 to 'auto' in 1.4. Set the value of `n_init` explicitly to suppress the warning\n",
      "  super()._check_params_vs_input(X, default_n_init=10)\n"
     ]
    },
    {
     "data": {
      "text/html": [
       "<style>#sk-container-id-7 {color: black;}#sk-container-id-7 pre{padding: 0;}#sk-container-id-7 div.sk-toggleable {background-color: white;}#sk-container-id-7 label.sk-toggleable__label {cursor: pointer;display: block;width: 100%;margin-bottom: 0;padding: 0.3em;box-sizing: border-box;text-align: center;}#sk-container-id-7 label.sk-toggleable__label-arrow:before {content: \"▸\";float: left;margin-right: 0.25em;color: #696969;}#sk-container-id-7 label.sk-toggleable__label-arrow:hover:before {color: black;}#sk-container-id-7 div.sk-estimator:hover label.sk-toggleable__label-arrow:before {color: black;}#sk-container-id-7 div.sk-toggleable__content {max-height: 0;max-width: 0;overflow: hidden;text-align: left;background-color: #f0f8ff;}#sk-container-id-7 div.sk-toggleable__content pre {margin: 0.2em;color: black;border-radius: 0.25em;background-color: #f0f8ff;}#sk-container-id-7 input.sk-toggleable__control:checked~div.sk-toggleable__content {max-height: 200px;max-width: 100%;overflow: auto;}#sk-container-id-7 input.sk-toggleable__control:checked~label.sk-toggleable__label-arrow:before {content: \"▾\";}#sk-container-id-7 div.sk-estimator input.sk-toggleable__control:checked~label.sk-toggleable__label {background-color: #d4ebff;}#sk-container-id-7 div.sk-label input.sk-toggleable__control:checked~label.sk-toggleable__label {background-color: #d4ebff;}#sk-container-id-7 input.sk-hidden--visually {border: 0;clip: rect(1px 1px 1px 1px);clip: rect(1px, 1px, 1px, 1px);height: 1px;margin: -1px;overflow: hidden;padding: 0;position: absolute;width: 1px;}#sk-container-id-7 div.sk-estimator {font-family: monospace;background-color: #f0f8ff;border: 1px dotted black;border-radius: 0.25em;box-sizing: border-box;margin-bottom: 0.5em;}#sk-container-id-7 div.sk-estimator:hover {background-color: #d4ebff;}#sk-container-id-7 div.sk-parallel-item::after {content: \"\";width: 100%;border-bottom: 1px solid gray;flex-grow: 1;}#sk-container-id-7 div.sk-label:hover label.sk-toggleable__label {background-color: #d4ebff;}#sk-container-id-7 div.sk-serial::before {content: \"\";position: absolute;border-left: 1px solid gray;box-sizing: border-box;top: 0;bottom: 0;left: 50%;z-index: 0;}#sk-container-id-7 div.sk-serial {display: flex;flex-direction: column;align-items: center;background-color: white;padding-right: 0.2em;padding-left: 0.2em;position: relative;}#sk-container-id-7 div.sk-item {position: relative;z-index: 1;}#sk-container-id-7 div.sk-parallel {display: flex;align-items: stretch;justify-content: center;background-color: white;position: relative;}#sk-container-id-7 div.sk-item::before, #sk-container-id-7 div.sk-parallel-item::before {content: \"\";position: absolute;border-left: 1px solid gray;box-sizing: border-box;top: 0;bottom: 0;left: 50%;z-index: -1;}#sk-container-id-7 div.sk-parallel-item {display: flex;flex-direction: column;z-index: 1;position: relative;background-color: white;}#sk-container-id-7 div.sk-parallel-item:first-child::after {align-self: flex-end;width: 50%;}#sk-container-id-7 div.sk-parallel-item:last-child::after {align-self: flex-start;width: 50%;}#sk-container-id-7 div.sk-parallel-item:only-child::after {width: 0;}#sk-container-id-7 div.sk-dashed-wrapped {border: 1px dashed gray;margin: 0 0.4em 0.5em 0.4em;box-sizing: border-box;padding-bottom: 0.4em;background-color: white;}#sk-container-id-7 div.sk-label label {font-family: monospace;font-weight: bold;display: inline-block;line-height: 1.2em;}#sk-container-id-7 div.sk-label-container {text-align: center;}#sk-container-id-7 div.sk-container {/* jupyter's `normalize.less` sets `[hidden] { display: none; }` but bootstrap.min.css set `[hidden] { display: none !important; }` so we also need the `!important` here to be able to override the default hidden behavior on the sphinx rendered scikit-learn.org. See: https://github.com/scikit-learn/scikit-learn/issues/21755 */display: inline-block !important;position: relative;}#sk-container-id-7 div.sk-text-repr-fallback {display: none;}</style><div id=\"sk-container-id-7\" class=\"sk-top-container\"><div class=\"sk-text-repr-fallback\"><pre>KMeans(n_clusters=4)</pre><b>In a Jupyter environment, please rerun this cell to show the HTML representation or trust the notebook. <br />On GitHub, the HTML representation is unable to render, please try loading this page with nbviewer.org.</b></div><div class=\"sk-container\" hidden><div class=\"sk-item\"><div class=\"sk-estimator sk-toggleable\"><input class=\"sk-toggleable__control sk-hidden--visually\" id=\"sk-estimator-id-7\" type=\"checkbox\" checked><label for=\"sk-estimator-id-7\" class=\"sk-toggleable__label sk-toggleable__label-arrow\">KMeans</label><div class=\"sk-toggleable__content\"><pre>KMeans(n_clusters=4)</pre></div></div></div></div></div>"
      ],
      "text/plain": [
       "KMeans(n_clusters=4)"
      ]
     },
     "execution_count": 44,
     "metadata": {},
     "output_type": "execute_result"
    }
   ],
   "source": [
    "kmeans.fit(X)"
   ]
  },
  {
   "cell_type": "code",
   "execution_count": 45,
   "id": "f46a3ff5",
   "metadata": {},
   "outputs": [],
   "source": [
    "y_kmeans = kmeans.predict(X)"
   ]
  },
  {
   "cell_type": "code",
   "execution_count": 46,
   "id": "3481bed6",
   "metadata": {},
   "outputs": [
    {
     "data": {
      "text/plain": [
       "array([0, 0, 1, 3, 0, 1, 0, 2, 0, 3, 2, 3, 1, 3, 3, 3, 1, 0, 3, 0, 3, 0,\n",
       "       2, 3, 3, 3, 1, 1, 0, 0, 0, 3, 1, 0, 1, 2, 3, 2, 0, 1, 2, 1, 0, 2,\n",
       "       3, 3, 1, 1, 3, 3, 0, 0, 2, 2, 2, 3, 3, 1, 0, 1, 3, 2, 3, 3, 3, 2,\n",
       "       1, 1, 1, 0, 1, 0, 1, 1, 1, 1, 3, 0, 0, 0, 2, 3, 0, 2, 2, 1, 0, 2,\n",
       "       3, 2, 2, 3, 1, 1, 3, 1, 2, 3, 2, 0, 0, 0, 2, 3, 1, 2, 1, 0, 2, 0,\n",
       "       2, 3, 0, 0, 2, 3, 0, 2, 3, 3, 0, 2, 0, 2, 1, 1, 1, 3, 3, 2, 3, 1,\n",
       "       3, 3, 1, 2, 2, 3, 0, 1, 2, 2, 1, 0, 3, 0, 3, 2, 0, 0, 2, 2, 1, 2,\n",
       "       0, 1, 1, 3, 2, 1, 0, 3, 3, 1, 2, 3, 1, 3, 0, 1, 0, 1, 3, 0, 2, 2,\n",
       "       2, 3, 2, 0, 2, 1, 1, 0, 2, 1, 2, 0, 2, 1, 0, 1, 3, 0, 3, 1, 0, 1,\n",
       "       3, 1, 3, 0, 0, 3, 3, 2, 0, 1, 2, 3, 2, 0, 0, 1, 1, 0, 1, 1, 2, 2,\n",
       "       0, 3, 3, 3, 2, 2, 2, 0, 0, 3, 1, 2, 0, 1, 0, 2, 3, 3, 1, 0, 3, 3,\n",
       "       1, 3, 2, 0, 1, 2, 0, 1, 0, 0, 2, 1, 3, 2, 2, 2, 0, 2, 3, 1, 1, 1,\n",
       "       1, 3, 3, 2, 0, 1, 3, 2, 1, 1, 2, 2, 2, 0, 2, 2, 1, 3, 2, 2, 0, 0,\n",
       "       1, 2, 0, 1, 0, 3, 3, 3, 3, 1, 1, 0, 0, 2], dtype=int32)"
      ]
     },
     "execution_count": 46,
     "metadata": {},
     "output_type": "execute_result"
    }
   ],
   "source": [
    "y_kmeans"
   ]
  },
  {
   "cell_type": "code",
   "execution_count": 47,
   "id": "0c15bd39",
   "metadata": {},
   "outputs": [
    {
     "data": {
      "text/plain": [
       "<matplotlib.collections.PathCollection at 0x7f833e74b820>"
      ]
     },
     "execution_count": 47,
     "metadata": {},
     "output_type": "execute_result"
    },
    {
     "data": {
      "image/png": "[encoded data removed]",
      "text/plain": [
       "<Figure size 640x480 with 1 Axes>"
      ]
     },
     "metadata": {},
     "output_type": "display_data"
    }
   ],
   "source": [
    "plt.scatter(X[:, 0], X[:, 1], c=y_kmeans, s=50, cmap='viridis')"
   ]
  },
  {
   "cell_type": "markdown",
   "id": "be87902e",
   "metadata": {},
   "source": [
    "### Hierarchical Clustering"
   ]
  },
  {
   "cell_type": "markdown",
   "id": "06f0d906",
   "metadata": {},
   "source": [
    "![dendrogram](https://miro.medium.com/v2/resize:fit:979/0*R8acBZk1JrLw4Hg1.png)"
   ]
  },
  {
   "cell_type": "code",
   "execution_count": 49,
   "id": "3152bea4",
   "metadata": {},
   "outputs": [],
   "source": [
    "import numpy as np\n",
    "import matplotlib.pyplot as plt\n",
    "from sklearn.datasets import make_blobs\n",
    "from scipy.cluster.hierarchy import dendrogram, linkage\n",
    "from sklearn.cluster import AgglomerativeClustering"
   ]
  },
  {
   "cell_type": "code",
   "execution_count": 50,
   "id": "de4d561a",
   "metadata": {},
   "outputs": [
    {
     "data": {
      "image/png": "[encoded data removed]",
      "text/plain": [
       "<Figure size 640x480 with 1 Axes>"
      ]
     },
     "metadata": {},
     "output_type": "display_data"
    }
   ],
   "source": [
    "X, y = make_blobs(n_samples=300, centers=4, cluster_std=0.6, random_state=42)\n",
    "plt.scatter(X[:, 0], X[:, 1])\n",
    "plt.show()"
   ]
  },
  {
   "cell_type": "code",
   "execution_count": 51,
   "id": "975f63d8",
   "metadata": {},
   "outputs": [
    {
     "data": {
      "image/png": "[encoded data removed]",
      "text/plain": [
       "<Figure size 640x480 with 1 Axes>"
      ]
     },
     "metadata": {},
     "output_type": "display_data"
    }
   ],
   "source": [
    "Z = linkage(X, method='ward') # Ward method minimizes variance within clusters\n",
    "dendrogram(Z)\n",
    "plt.show()"
   ]
  },
  {
   "cell_type": "code",
   "execution_count": 53,
   "id": "5485c0bd",
   "metadata": {},
   "outputs": [
    {
     "name": "stderr",
     "output_type": "stream",
     "text": [
      "/Library/Frameworks/Python.framework/Versions/3.8/lib/python3.8/site-packages/sklearn/cluster/_agglomerative.py:1006: FutureWarning: Attribute `affinity` was deprecated in version 1.2 and will be removed in 1.4. Use `metric` instead\n",
      "  warnings.warn(\n"
     ]
    },
    {
     "data": {
      "image/png": "[encoded data removed]",
      "text/plain": [
       "<Figure size 640x480 with 1 Axes>"
      ]
     },
     "metadata": {},
     "output_type": "display_data"
    }
   ],
   "source": [
    "agg_cluster = AgglomerativeClustering(n_clusters=3, affinity='euclidean', linkage='ward')\n",
    "y_pred = agg_cluster.fit_predict(X)\n",
    "\n",
    "# Plot the clustered data\n",
    "plt.scatter(X[:, 0], X[:, 1], c=y_pred)\n",
    "plt.show()"
   ]
  },
  {
   "cell_type": "markdown",
   "id": "cff61f18",
   "metadata": {},
   "source": [
    "### DBSCAN"
   ]
  },
  {
   "cell_type": "markdown",
   "id": "c5a24602",
   "metadata": {},
   "source": [
    "![dbscan](https://miro.medium.com/v2/resize:fit:1400/0*SOUGjZwam-QJdp0Q)"
   ]
  },
  {
   "cell_type": "markdown",
   "id": "f5b059de",
   "metadata": {},
   "source": [
    "![points](https://miro.medium.com/v2/resize:fit:627/1*yT96veo7Zb5QeswV7Vr7YQ.png)"
   ]
  },
  {
   "cell_type": "code",
   "execution_count": 54,
   "id": "f9afbe43",
   "metadata": {},
   "outputs": [
    {
     "data": {
      "image/png": "[encoded data removed]",
      "text/plain": [
       "<Figure size 640x480 with 1 Axes>"
      ]
     },
     "metadata": {},
     "output_type": "display_data"
    }
   ],
   "source": [
    "from sklearn.cluster import DBSCAN\n",
    "import numpy as np\n",
    "import matplotlib.pyplot as plt\n",
    "from sklearn.datasets import make_blobs\n",
    "\n",
    "# Generating sample data\n",
    "X, _ = make_blobs(n_samples=300, centers=4, cluster_std=0.6, random_state=0)\n",
    "\n",
    "# Visualizing the data\n",
    "plt.scatter(X[:, 0], X[:, 1])\n",
    "plt.show()"
   ]
  },
  {
   "cell_type": "code",
   "execution_count": 59,
   "id": "4151a383",
   "metadata": {},
   "outputs": [
    {
     "data": {
      "image/png": "[encoded data removed]",
      "text/plain": [
       "<Figure size 640x480 with 1 Axes>"
      ]
     },
     "metadata": {},
     "output_type": "display_data"
    }
   ],
   "source": [
    "# Applying DBSCAN\n",
    "dbscan = DBSCAN(eps=0.5, min_samples=5)\n",
    "clusters = dbscan.fit_predict(X)\n",
    "\n",
    "# Plotting the clustered data\n",
    "plt.scatter(X[:, 0], X[:, 1], c=clusters, cmap='plasma')\n",
    "plt.show()\n"
   ]
  },
  {
   "cell_type": "markdown",
   "id": "1561d175",
   "metadata": {},
   "source": [
    "### Gaussian Mixture Models (GMM) Clustering"
   ]
  },
  {
   "cell_type": "markdown",
   "id": "37b7272f",
   "metadata": {},
   "source": [
    "![gaussian](https://miro.medium.com/v2/resize:fit:753/1*EJsRv-8nUeqYOOVxBhol5A.png)"
   ]
  },
  {
   "cell_type": "markdown",
   "id": "42108755",
   "metadata": {},
   "source": [
    "![formula](https://www.mygreatlearning.com/blog/wp-content/uploads/2020/09/image-1.png)"
   ]
  },
  {
   "cell_type": "code",
   "execution_count": 66,
   "id": "ccbd37b5",
   "metadata": {},
   "outputs": [
    {
     "data": {
      "image/png": "[encoded data removed]",
      "text/plain": [
       "<Figure size 640x480 with 1 Axes>"
      ]
     },
     "metadata": {},
     "output_type": "display_data"
    }
   ],
   "source": [
    "import numpy as np\n",
    "import matplotlib.pyplot as plt\n",
    "from sklearn.mixture import GaussianMixture\n",
    "from sklearn.datasets import make_blobs\n",
    "\n",
    "# Create synthetic data\n",
    "X, y = make_blobs(n_samples=300, centers=3, cluster_std=1.0, random_state=42)\n",
    "X, y = make_blobs(n_samples=300, centers=3, cluster_std=0.6, random_state=2)\n",
    "\n",
    "# Plot the raw data\n",
    "plt.scatter(X[:, 0], X[:, 1], c='gray', marker='o', s=40)\n",
    "plt.title(\"Raw Data\")\n",
    "plt.show()\n"
   ]
  },
  {
   "cell_type": "code",
   "execution_count": 67,
   "id": "2244adba",
   "metadata": {},
   "outputs": [
    {
     "data": {
      "image/png": "[encoded data removed]",
      "text/plain": [
       "<Figure size 640x480 with 1 Axes>"
      ]
     },
     "metadata": {},
     "output_type": "display_data"
    }
   ],
   "source": [
    "# Fit a GMM model\n",
    "gmm = GaussianMixture(n_components=3)\n",
    "gmm.fit(X)\n",
    "\n",
    "# Predict the cluster labels\n",
    "labels = gmm.predict(X)\n",
    "\n",
    "# Plot the clustered data\n",
    "plt.scatter(X[:, 0], X[:, 1], c=labels, s=40, cmap='viridis')\n",
    "plt.title(\"Clustered Data using GMM\")\n",
    "plt.show()\n"
   ]
  },
  {
   "cell_type": "code",
   "execution_count": 68,
   "id": "f4937532",
   "metadata": {},
   "outputs": [
    {
     "data": {
      "image/png": "[encoded data removed]",
      "text/plain": [
       "<Figure size 640x480 with 1 Axes>"
      ]
     },
     "metadata": {},
     "output_type": "display_data"
    }
   ],
   "source": [
    "# Get the probability of each point belonging to each cluster\n",
    "probs = gmm.predict_proba(X)\n",
    "\n",
    "# Plot the probability of each point belonging to a specific cluster\n",
    "plt.scatter(X[:, 0], X[:, 1], c=probs[:, 1], cmap='coolwarm', s=40)\n",
    "plt.title(\"Soft Clustering Probabilities\")\n",
    "plt.show()\n"
   ]
  },
  {
   "cell_type": "markdown",
   "id": "0e3d85f8",
   "metadata": {},
   "source": [
    "### PCA"
   ]
  },
  {
   "cell_type": "markdown",
   "id": "c73c9862",
   "metadata": {},
   "source": [
    "![PCA](https://dimensionless.in/wp-content/uploads/2019/07/pca2.png)"
   ]
  },
  {
   "cell_type": "markdown",
   "id": "b73c83f5",
   "metadata": {},
   "source": [
    "![formula](https://emergingindiagroup.com/wp-content/uploads/2024/05/article1.png)"
   ]
  },
  {
   "cell_type": "code",
   "execution_count": 1,
   "id": "b66e8fd6",
   "metadata": {},
   "outputs": [],
   "source": [
    "import pandas as pd\n",
    "import numpy as np\n",
    "from sklearn.decomposition import PCA\n",
    "from sklearn.datasets import load_iris\n",
    "import matplotlib.pyplot as plt"
   ]
  },
  {
   "cell_type": "code",
   "execution_count": 70,
   "id": "fb939406",
   "metadata": {},
   "outputs": [],
   "source": [
    "data = load_iris()\n",
    "X = data.data\n",
    "y = data.target"
   ]
  },
  {
   "cell_type": "code",
   "execution_count": 74,
   "id": "f13f470a",
   "metadata": {},
   "outputs": [],
   "source": [
    "from sklearn.preprocessing import StandardScaler\n",
    "X_standardized = StandardScaler().fit_transform(X)"
   ]
  },
  {
   "cell_type": "code",
   "execution_count": 76,
   "id": "b2474c45",
   "metadata": {},
   "outputs": [
    {
     "data": {
      "text/plain": [
       "array([[5.1, 3.5, 1.4, 0.2],\n",
       "       [4.9, 3. , 1.4, 0.2],\n",
       "       [4.7, 3.2, 1.3, 0.2],\n",
       "       [4.6, 3.1, 1.5, 0.2],\n",
       "       [5. , 3.6, 1.4, 0.2]])"
      ]
     },
     "execution_count": 76,
     "metadata": {},
     "output_type": "execute_result"
    }
   ],
   "source": [
    "X[:5]"
   ]
  },
  {
   "cell_type": "code",
   "execution_count": 77,
   "id": "4ef24a04",
   "metadata": {},
   "outputs": [
    {
     "data": {
      "text/plain": [
       "array([[-0.90068117,  1.01900435, -1.34022653, -1.3154443 ],\n",
       "       [-1.14301691, -0.13197948, -1.34022653, -1.3154443 ],\n",
       "       [-1.38535265,  0.32841405, -1.39706395, -1.3154443 ],\n",
       "       [-1.50652052,  0.09821729, -1.2833891 , -1.3154443 ],\n",
       "       [-1.02184904,  1.24920112, -1.34022653, -1.3154443 ]])"
      ]
     },
     "execution_count": 77,
     "metadata": {},
     "output_type": "execute_result"
    }
   ],
   "source": [
    "X_standardized[:5]"
   ]
  },
  {
   "cell_type": "code",
   "execution_count": 78,
   "id": "d25d3c17",
   "metadata": {},
   "outputs": [],
   "source": [
    "pca = PCA(n_components=2)"
   ]
  },
  {
   "cell_type": "code",
   "execution_count": 79,
   "id": "203feebf",
   "metadata": {},
   "outputs": [],
   "source": [
    "X_pca = pca.fit_transform(X_standardized)"
   ]
  },
  {
   "cell_type": "code",
   "execution_count": 80,
   "id": "850bfb23",
   "metadata": {},
   "outputs": [
    {
     "data": {
      "text/plain": [
       "array([[-2.26470281,  0.4800266 ],\n",
       "       [-2.08096115, -0.67413356],\n",
       "       [-2.36422905, -0.34190802],\n",
       "       [-2.29938422, -0.59739451],\n",
       "       [-2.38984217,  0.64683538]])"
      ]
     },
     "execution_count": 80,
     "metadata": {},
     "output_type": "execute_result"
    }
   ],
   "source": [
    "X_pca[:5]"
   ]
  },
  {
   "cell_type": "code",
   "execution_count": 81,
   "id": "72e08a1e",
   "metadata": {},
   "outputs": [
    {
     "data": {
      "image/png": "[encoded data removed]",
      "text/plain": [
       "<Figure size 800x600 with 2 Axes>"
      ]
     },
     "metadata": {},
     "output_type": "display_data"
    }
   ],
   "source": [
    "# Plotting the PCA result\n",
    "plt.figure(figsize=(8,6))\n",
    "plt.scatter(X_pca[:, 0], X_pca[:, 1], c=y, cmap='viridis')\n",
    "plt.xlabel('First Principal Component')\n",
    "plt.ylabel('Second Principal Component')\n",
    "plt.title('PCA on Iris Dataset')\n",
    "plt.colorbar()\n",
    "plt.show()"
   ]
  },
  {
   "cell_type": "markdown",
   "id": "6b0b69f1",
   "metadata": {},
   "source": [
    "### Cross-Validation and Hyperparameter Tuning"
   ]
  },
  {
   "cell_type": "markdown",
   "id": "499719eb",
   "metadata": {},
   "source": [
    "![crossValidation](https://miro.medium.com/v2/resize:fit:940/1*lOZqYqwmuW1lg6fitwqXxA.png)"
   ]
  },
  {
   "cell_type": "code",
   "execution_count": 2,
   "id": "965e80c8",
   "metadata": {},
   "outputs": [],
   "source": [
    "import numpy as np\n",
    "from sklearn.model_selection import  train_test_split, KFold\n",
    "from sklearn.linear_model import  LogisticRegression\n",
    "from sklearn.datasets import load_breast_cancer\n",
    "from sklearn.metrics import classification_report, confusion_matrix, accuracy_score"
   ]
  },
  {
   "cell_type": "code",
   "execution_count": 84,
   "id": "a2d12de5",
   "metadata": {},
   "outputs": [],
   "source": [
    "dataset = load_breast_cancer()"
   ]
  },
  {
   "cell_type": "code",
   "execution_count": 85,
   "id": "97b421a6",
   "metadata": {},
   "outputs": [
    {
     "data": {
      "text/plain": [
       "array(['mean radius', 'mean texture', 'mean perimeter', 'mean area',\n",
       "       'mean smoothness', 'mean compactness', 'mean concavity',\n",
       "       'mean concave points', 'mean symmetry', 'mean fractal dimension',\n",
       "       'radius error', 'texture error', 'perimeter error', 'area error',\n",
       "       'smoothness error', 'compactness error', 'concavity error',\n",
       "       'concave points error', 'symmetry error',\n",
       "       'fractal dimension error', 'worst radius', 'worst texture',\n",
       "       'worst perimeter', 'worst area', 'worst smoothness',\n",
       "       'worst compactness', 'worst concavity', 'worst concave points',\n",
       "       'worst symmetry', 'worst fractal dimension'], dtype='<U23')"
      ]
     },
     "execution_count": 85,
     "metadata": {},
     "output_type": "execute_result"
    }
   ],
   "source": [
    "dataset.feature_names"
   ]
  },
  {
   "cell_type": "code",
   "execution_count": 86,
   "id": "be43e821",
   "metadata": {},
   "outputs": [
    {
     "data": {
      "text/plain": [
       "array(['malignant', 'benign'], dtype='<U9')"
      ]
     },
     "execution_count": 86,
     "metadata": {},
     "output_type": "execute_result"
    }
   ],
   "source": [
    "dataset.target_names"
   ]
  },
  {
   "cell_type": "code",
   "execution_count": 87,
   "id": "479df092",
   "metadata": {},
   "outputs": [],
   "source": [
    "features = dataset.data\n",
    "labels = dataset.target"
   ]
  },
  {
   "cell_type": "code",
   "execution_count": 88,
   "id": "b31de545",
   "metadata": {},
   "outputs": [],
   "source": [
    "model = LogisticRegression()"
   ]
  },
  {
   "cell_type": "code",
   "execution_count": 89,
   "id": "517d3e7d",
   "metadata": {},
   "outputs": [],
   "source": [
    "scores = []\n",
    "kf = KFold(n_splits=5,shuffle=True, random_state=42)"
   ]
  },
  {
   "cell_type": "code",
   "execution_count": 92,
   "id": "47fa284a",
   "metadata": {},
   "outputs": [
    {
     "name": "stderr",
     "output_type": "stream",
     "text": [
      "/Library/Frameworks/Python.framework/Versions/3.8/lib/python3.8/site-packages/sklearn/linear_model/_logistic.py:460: ConvergenceWarning: lbfgs failed to converge (status=1):\n",
      "STOP: TOTAL NO. of ITERATIONS REACHED LIMIT.\n",
      "\n",
      "Increase the number of iterations (max_iter) or scale the data as shown in:\n",
      "    https://scikit-learn.org/stable/modules/preprocessing.html\n",
      "Please also refer to the documentation for alternative solver options:\n",
      "    https://scikit-learn.org/stable/modules/linear_model.html#logistic-regression\n",
      "  n_iter_i = _check_optimize_result(\n",
      "/Library/Frameworks/Python.framework/Versions/3.8/lib/python3.8/site-packages/sklearn/linear_model/_logistic.py:460: ConvergenceWarning: lbfgs failed to converge (status=1):\n",
      "STOP: TOTAL NO. of ITERATIONS REACHED LIMIT.\n",
      "\n",
      "Increase the number of iterations (max_iter) or scale the data as shown in:\n",
      "    https://scikit-learn.org/stable/modules/preprocessing.html\n",
      "Please also refer to the documentation for alternative solver options:\n",
      "    https://scikit-learn.org/stable/modules/linear_model.html#logistic-regression\n",
      "  n_iter_i = _check_optimize_result(\n",
      "/Library/Frameworks/Python.framework/Versions/3.8/lib/python3.8/site-packages/sklearn/linear_model/_logistic.py:460: ConvergenceWarning: lbfgs failed to converge (status=1):\n",
      "STOP: TOTAL NO. of ITERATIONS REACHED LIMIT.\n",
      "\n",
      "Increase the number of iterations (max_iter) or scale the data as shown in:\n",
      "    https://scikit-learn.org/stable/modules/preprocessing.html\n",
      "Please also refer to the documentation for alternative solver options:\n",
      "    https://scikit-learn.org/stable/modules/linear_model.html#logistic-regression\n",
      "  n_iter_i = _check_optimize_result(\n",
      "/Library/Frameworks/Python.framework/Versions/3.8/lib/python3.8/site-packages/sklearn/linear_model/_logistic.py:460: ConvergenceWarning: lbfgs failed to converge (status=1):\n",
      "STOP: TOTAL NO. of ITERATIONS REACHED LIMIT.\n",
      "\n",
      "Increase the number of iterations (max_iter) or scale the data as shown in:\n",
      "    https://scikit-learn.org/stable/modules/preprocessing.html\n",
      "Please also refer to the documentation for alternative solver options:\n",
      "    https://scikit-learn.org/stable/modules/linear_model.html#logistic-regression\n",
      "  n_iter_i = _check_optimize_result(\n",
      "/Library/Frameworks/Python.framework/Versions/3.8/lib/python3.8/site-packages/sklearn/linear_model/_logistic.py:460: ConvergenceWarning: lbfgs failed to converge (status=1):\n",
      "STOP: TOTAL NO. of ITERATIONS REACHED LIMIT.\n",
      "\n",
      "Increase the number of iterations (max_iter) or scale the data as shown in:\n",
      "    https://scikit-learn.org/stable/modules/preprocessing.html\n",
      "Please also refer to the documentation for alternative solver options:\n",
      "    https://scikit-learn.org/stable/modules/linear_model.html#logistic-regression\n",
      "  n_iter_i = _check_optimize_result(\n"
     ]
    }
   ],
   "source": [
    "for train_index, test_index in kf.split(features):\n",
    "    X_train, X_test = features[train_index], features[test_index]\n",
    "    y_train, y_test = labels[train_index], labels[test_index]\n",
    "    model.fit(X_train, y_train)\n",
    "    y_pred = model.predict(X_test)\n",
    "    \n",
    "    accuracy = accuracy_score(y_test, y_pred)\n",
    "    scores.append(accuracy)"
   ]
  },
  {
   "cell_type": "code",
   "execution_count": 94,
   "id": "de63d659",
   "metadata": {},
   "outputs": [
    {
     "data": {
      "text/plain": [
       "0.9419655333022823"
      ]
     },
     "execution_count": 94,
     "metadata": {},
     "output_type": "execute_result"
    }
   ],
   "source": [
    "np.mean(scores)"
   ]
  },
  {
   "cell_type": "markdown",
   "id": "6cf8c035",
   "metadata": {},
   "source": [
    "![hyperparameter](https://researchgate.net/profile/Hana-Alkassar/publication/360189662/figure/fig1/AS:1149088523390989@1650975461937/Hyperparameter-tuning-using-five-fold-cross-validation-GridSearchCV.png)"
   ]
  },
  {
   "cell_type": "code",
   "execution_count": null,
   "id": "67bf3ff5",
   "metadata": {
    "scrolled": true
   },
   "outputs": [],
   "source": [
    "from sklearn.model_selection import GridSearchCV\n",
    "from sklearn.ensemble import RandomForestClassifier\n",
    "\n",
    "# Define the parameter grid\n",
    "param_grid = {\n",
    "    'n_estimators': [10, 50, 100],\n",
    "    'max_depth': [None, 10, 20, 30],\n",
    "    'min_samples_split': [2, 5, 10]\n",
    "}\n",
    "\n",
    "X = features\n",
    "y = labels\n",
    "\n",
    "# Random Forest model\n",
    "rf = RandomForestClassifier(random_state=42)\n",
    "\n",
    "# Grid Search with Cross-Validation\n",
    "grid_search = GridSearchCV(estimator=rf, param_grid=param_grid, cv=5, n_jobs=-1)\n",
    "\n",
    "# Fit model\n",
    "grid_search.fit(X, y)\n",
    "\n",
    "# Best parameters\n",
    "print(f'Best parameters: {grid_search.best_params_}')\n",
    "print(f'Best cross-validation score: {grid_search.best_score_}')\n"
   ]
  },
  {
   "cell_type": "code",
   "execution_count": 4,
   "id": "d63659b5",
   "metadata": {},
   "outputs": [],
   "source": [
    "url = 'https://raw.githubusercontent.com/datasciencedojo/datasets/master/titanic.csv'\n",
    "titanic_data = pd.read_csv(url)"
   ]
  },
  {
   "cell_type": "code",
   "execution_count": 5,
   "id": "ca8b1e64",
   "metadata": {},
   "outputs": [
    {
     "data": {
      "text/html": [
       "<div>\n",
       "<style scoped>\n",
       "    .dataframe tbody tr th:only-of-type {\n",
       "        vertical-align: middle;\n",
       "    }\n",
       "\n",
       "    .dataframe tbody tr th {\n",
       "        vertical-align: top;\n",
       "    }\n",
       "\n",
       "    .dataframe thead th {\n",
       "        text-align: right;\n",
       "    }\n",
       "</style>\n",
       "<table border=\"1\" class=\"dataframe\">\n",
       "  <thead>\n",
       "    <tr style=\"text-align: right;\">\n",
       "      <th></th>\n",
       "      <th>PassengerId</th>\n",
       "      <th>Survived</th>\n",
       "      <th>Pclass</th>\n",
       "      <th>Name</th>\n",
       "      <th>Sex</th>\n",
       "      <th>Age</th>\n",
       "      <th>SibSp</th>\n",
       "      <th>Parch</th>\n",
       "      <th>Ticket</th>\n",
       "      <th>Fare</th>\n",
       "      <th>Cabin</th>\n",
       "      <th>Embarked</th>\n",
       "    </tr>\n",
       "  </thead>\n",
       "  <tbody>\n",
       "    <tr>\n",
       "      <th>0</th>\n",
       "      <td>1</td>\n",
       "      <td>0</td>\n",
       "      <td>3</td>\n",
       "      <td>Braund, Mr. Owen Harris</td>\n",
       "      <td>male</td>\n",
       "      <td>22.0</td>\n",
       "      <td>1</td>\n",
       "      <td>0</td>\n",
       "      <td>A/5 21171</td>\n",
       "      <td>7.2500</td>\n",
       "      <td>NaN</td>\n",
       "      <td>S</td>\n",
       "    </tr>\n",
       "    <tr>\n",
       "      <th>1</th>\n",
       "      <td>2</td>\n",
       "      <td>1</td>\n",
       "      <td>1</td>\n",
       "      <td>Cumings, Mrs. John Bradley (Florence Briggs Th...</td>\n",
       "      <td>female</td>\n",
       "      <td>38.0</td>\n",
       "      <td>1</td>\n",
       "      <td>0</td>\n",
       "      <td>PC 17599</td>\n",
       "      <td>71.2833</td>\n",
       "      <td>C85</td>\n",
       "      <td>C</td>\n",
       "    </tr>\n",
       "    <tr>\n",
       "      <th>2</th>\n",
       "      <td>3</td>\n",
       "      <td>1</td>\n",
       "      <td>3</td>\n",
       "      <td>Heikkinen, Miss. Laina</td>\n",
       "      <td>female</td>\n",
       "      <td>26.0</td>\n",
       "      <td>0</td>\n",
       "      <td>0</td>\n",
       "      <td>STON/O2. 3101282</td>\n",
       "      <td>7.9250</td>\n",
       "      <td>NaN</td>\n",
       "      <td>S</td>\n",
       "    </tr>\n",
       "    <tr>\n",
       "      <th>3</th>\n",
       "      <td>4</td>\n",
       "      <td>1</td>\n",
       "      <td>1</td>\n",
       "      <td>Futrelle, Mrs. Jacques Heath (Lily May Peel)</td>\n",
       "      <td>female</td>\n",
       "      <td>35.0</td>\n",
       "      <td>1</td>\n",
       "      <td>0</td>\n",
       "      <td>113803</td>\n",
       "      <td>53.1000</td>\n",
       "      <td>C123</td>\n",
       "      <td>S</td>\n",
       "    </tr>\n",
       "    <tr>\n",
       "      <th>4</th>\n",
       "      <td>5</td>\n",
       "      <td>0</td>\n",
       "      <td>3</td>\n",
       "      <td>Allen, Mr. William Henry</td>\n",
       "      <td>male</td>\n",
       "      <td>35.0</td>\n",
       "      <td>0</td>\n",
       "      <td>0</td>\n",
       "      <td>373450</td>\n",
       "      <td>8.0500</td>\n",
       "      <td>NaN</td>\n",
       "      <td>S</td>\n",
       "    </tr>\n",
       "  </tbody>\n",
       "</table>\n",
       "</div>"
      ],
      "text/plain": [
       "   PassengerId  Survived  Pclass  \\\n",
       "0            1         0       3   \n",
       "1            2         1       1   \n",
       "2            3         1       3   \n",
       "3            4         1       1   \n",
       "4            5         0       3   \n",
       "\n",
       "                                                Name     Sex   Age  SibSp  \\\n",
       "0                            Braund, Mr. Owen Harris    male  22.0      1   \n",
       "1  Cumings, Mrs. John Bradley (Florence Briggs Th...  female  38.0      1   \n",
       "2                             Heikkinen, Miss. Laina  female  26.0      0   \n",
       "3       Futrelle, Mrs. Jacques Heath (Lily May Peel)  female  35.0      1   \n",
       "4                           Allen, Mr. William Henry    male  35.0      0   \n",
       "\n",
       "   Parch            Ticket     Fare Cabin Embarked  \n",
       "0      0         A/5 21171   7.2500   NaN        S  \n",
       "1      0          PC 17599  71.2833   C85        C  \n",
       "2      0  STON/O2. 3101282   7.9250   NaN        S  \n",
       "3      0            113803  53.1000  C123        S  \n",
       "4      0            373450   8.0500   NaN        S  "
      ]
     },
     "execution_count": 5,
     "metadata": {},
     "output_type": "execute_result"
    }
   ],
   "source": [
    "titanic_data.head()"
   ]
  },
  {
   "cell_type": "code",
   "execution_count": null,
   "id": "1a9aa85b",
   "metadata": {},
   "outputs": [],
   "source": [
    "titanic_data.isna().any()"
   ]
  },
  {
   "cell_type": "code",
   "execution_count": null,
   "id": "ea080c71",
   "metadata": {},
   "outputs": [],
   "source": [
    "titanic_data.isnull().any()"
   ]
  },
  {
   "cell_type": "code",
   "execution_count": null,
   "id": "a903145b",
   "metadata": {},
   "outputs": [],
   "source": [
    "titanic_data.shape"
   ]
  },
  {
   "cell_type": "code",
   "execution_count": 6,
   "id": "400c3f82",
   "metadata": {},
   "outputs": [],
   "source": [
    "titanic_data['Age'].fillna(titanic_data['Age'].mean(), inplace=True)\n",
    "titanic_data['Cabin'].fillna(titanic_data['Cabin'].mode()[0], inplace=True)\n",
    "titanic_data['Embarked'].fillna(titanic_data['Embarked'].mode()[0], inplace=True)"
   ]
  },
  {
   "cell_type": "code",
   "execution_count": 7,
   "id": "5c73c9b3",
   "metadata": {},
   "outputs": [
    {
     "data": {
      "text/html": [
       "<div>\n",
       "<style scoped>\n",
       "    .dataframe tbody tr th:only-of-type {\n",
       "        vertical-align: middle;\n",
       "    }\n",
       "\n",
       "    .dataframe tbody tr th {\n",
       "        vertical-align: top;\n",
       "    }\n",
       "\n",
       "    .dataframe thead th {\n",
       "        text-align: right;\n",
       "    }\n",
       "</style>\n",
       "<table border=\"1\" class=\"dataframe\">\n",
       "  <thead>\n",
       "    <tr style=\"text-align: right;\">\n",
       "      <th></th>\n",
       "      <th>PassengerId</th>\n",
       "      <th>Survived</th>\n",
       "      <th>Pclass</th>\n",
       "      <th>Name</th>\n",
       "      <th>Sex</th>\n",
       "      <th>Age</th>\n",
       "      <th>SibSp</th>\n",
       "      <th>Parch</th>\n",
       "      <th>Ticket</th>\n",
       "      <th>Fare</th>\n",
       "      <th>Cabin</th>\n",
       "      <th>Embarked</th>\n",
       "    </tr>\n",
       "  </thead>\n",
       "  <tbody>\n",
       "    <tr>\n",
       "      <th>0</th>\n",
       "      <td>1</td>\n",
       "      <td>0</td>\n",
       "      <td>3</td>\n",
       "      <td>Braund, Mr. Owen Harris</td>\n",
       "      <td>male</td>\n",
       "      <td>22.0</td>\n",
       "      <td>1</td>\n",
       "      <td>0</td>\n",
       "      <td>A/5 21171</td>\n",
       "      <td>7.2500</td>\n",
       "      <td>B96 B98</td>\n",
       "      <td>S</td>\n",
       "    </tr>\n",
       "    <tr>\n",
       "      <th>1</th>\n",
       "      <td>2</td>\n",
       "      <td>1</td>\n",
       "      <td>1</td>\n",
       "      <td>Cumings, Mrs. John Bradley (Florence Briggs Th...</td>\n",
       "      <td>female</td>\n",
       "      <td>38.0</td>\n",
       "      <td>1</td>\n",
       "      <td>0</td>\n",
       "      <td>PC 17599</td>\n",
       "      <td>71.2833</td>\n",
       "      <td>C85</td>\n",
       "      <td>C</td>\n",
       "    </tr>\n",
       "    <tr>\n",
       "      <th>2</th>\n",
       "      <td>3</td>\n",
       "      <td>1</td>\n",
       "      <td>3</td>\n",
       "      <td>Heikkinen, Miss. Laina</td>\n",
       "      <td>female</td>\n",
       "      <td>26.0</td>\n",
       "      <td>0</td>\n",
       "      <td>0</td>\n",
       "      <td>STON/O2. 3101282</td>\n",
       "      <td>7.9250</td>\n",
       "      <td>B96 B98</td>\n",
       "      <td>S</td>\n",
       "    </tr>\n",
       "    <tr>\n",
       "      <th>3</th>\n",
       "      <td>4</td>\n",
       "      <td>1</td>\n",
       "      <td>1</td>\n",
       "      <td>Futrelle, Mrs. Jacques Heath (Lily May Peel)</td>\n",
       "      <td>female</td>\n",
       "      <td>35.0</td>\n",
       "      <td>1</td>\n",
       "      <td>0</td>\n",
       "      <td>113803</td>\n",
       "      <td>53.1000</td>\n",
       "      <td>C123</td>\n",
       "      <td>S</td>\n",
       "    </tr>\n",
       "    <tr>\n",
       "      <th>4</th>\n",
       "      <td>5</td>\n",
       "      <td>0</td>\n",
       "      <td>3</td>\n",
       "      <td>Allen, Mr. William Henry</td>\n",
       "      <td>male</td>\n",
       "      <td>35.0</td>\n",
       "      <td>0</td>\n",
       "      <td>0</td>\n",
       "      <td>373450</td>\n",
       "      <td>8.0500</td>\n",
       "      <td>B96 B98</td>\n",
       "      <td>S</td>\n",
       "    </tr>\n",
       "  </tbody>\n",
       "</table>\n",
       "</div>"
      ],
      "text/plain": [
       "   PassengerId  Survived  Pclass  \\\n",
       "0            1         0       3   \n",
       "1            2         1       1   \n",
       "2            3         1       3   \n",
       "3            4         1       1   \n",
       "4            5         0       3   \n",
       "\n",
       "                                                Name     Sex   Age  SibSp  \\\n",
       "0                            Braund, Mr. Owen Harris    male  22.0      1   \n",
       "1  Cumings, Mrs. John Bradley (Florence Briggs Th...  female  38.0      1   \n",
       "2                             Heikkinen, Miss. Laina  female  26.0      0   \n",
       "3       Futrelle, Mrs. Jacques Heath (Lily May Peel)  female  35.0      1   \n",
       "4                           Allen, Mr. William Henry    male  35.0      0   \n",
       "\n",
       "   Parch            Ticket     Fare    Cabin Embarked  \n",
       "0      0         A/5 21171   7.2500  B96 B98        S  \n",
       "1      0          PC 17599  71.2833      C85        C  \n",
       "2      0  STON/O2. 3101282   7.9250  B96 B98        S  \n",
       "3      0            113803  53.1000     C123        S  \n",
       "4      0            373450   8.0500  B96 B98        S  "
      ]
     },
     "execution_count": 7,
     "metadata": {},
     "output_type": "execute_result"
    }
   ],
   "source": [
    "titanic_data.head()"
   ]
  },
  {
   "cell_type": "code",
   "execution_count": 8,
   "id": "99a08e17",
   "metadata": {},
   "outputs": [
    {
     "data": {
      "text/plain": [
       "PassengerId    False\n",
       "Survived       False\n",
       "Pclass         False\n",
       "Name           False\n",
       "Sex            False\n",
       "Age            False\n",
       "SibSp          False\n",
       "Parch          False\n",
       "Ticket         False\n",
       "Fare           False\n",
       "Cabin          False\n",
       "Embarked       False\n",
       "dtype: bool"
      ]
     },
     "execution_count": 8,
     "metadata": {},
     "output_type": "execute_result"
    }
   ],
   "source": [
    "titanic_data.isna().any()"
   ]
  },
  {
   "cell_type": "code",
   "execution_count": 9,
   "id": "cc9dbdc7",
   "metadata": {},
   "outputs": [],
   "source": [
    "titanic_data['Embarked'] = titanic_data['Embarked'].map({'S': 0, 'C': 1, 'Q': 2})\n",
    "titanic_data['Sex']= titanic_data['Sex'].map({'male':0, \"female\":1})"
   ]
  },
  {
   "cell_type": "code",
   "execution_count": 10,
   "id": "660d733a",
   "metadata": {},
   "outputs": [
    {
     "data": {
      "text/html": [
       "<div>\n",
       "<style scoped>\n",
       "    .dataframe tbody tr th:only-of-type {\n",
       "        vertical-align: middle;\n",
       "    }\n",
       "\n",
       "    .dataframe tbody tr th {\n",
       "        vertical-align: top;\n",
       "    }\n",
       "\n",
       "    .dataframe thead th {\n",
       "        text-align: right;\n",
       "    }\n",
       "</style>\n",
       "<table border=\"1\" class=\"dataframe\">\n",
       "  <thead>\n",
       "    <tr style=\"text-align: right;\">\n",
       "      <th></th>\n",
       "      <th>PassengerId</th>\n",
       "      <th>Survived</th>\n",
       "      <th>Pclass</th>\n",
       "      <th>Name</th>\n",
       "      <th>Sex</th>\n",
       "      <th>Age</th>\n",
       "      <th>SibSp</th>\n",
       "      <th>Parch</th>\n",
       "      <th>Ticket</th>\n",
       "      <th>Fare</th>\n",
       "      <th>Cabin</th>\n",
       "      <th>Embarked</th>\n",
       "    </tr>\n",
       "  </thead>\n",
       "  <tbody>\n",
       "    <tr>\n",
       "      <th>0</th>\n",
       "      <td>1</td>\n",
       "      <td>0</td>\n",
       "      <td>3</td>\n",
       "      <td>Braund, Mr. Owen Harris</td>\n",
       "      <td>0</td>\n",
       "      <td>22.0</td>\n",
       "      <td>1</td>\n",
       "      <td>0</td>\n",
       "      <td>A/5 21171</td>\n",
       "      <td>7.2500</td>\n",
       "      <td>B96 B98</td>\n",
       "      <td>0</td>\n",
       "    </tr>\n",
       "    <tr>\n",
       "      <th>1</th>\n",
       "      <td>2</td>\n",
       "      <td>1</td>\n",
       "      <td>1</td>\n",
       "      <td>Cumings, Mrs. John Bradley (Florence Briggs Th...</td>\n",
       "      <td>1</td>\n",
       "      <td>38.0</td>\n",
       "      <td>1</td>\n",
       "      <td>0</td>\n",
       "      <td>PC 17599</td>\n",
       "      <td>71.2833</td>\n",
       "      <td>C85</td>\n",
       "      <td>1</td>\n",
       "    </tr>\n",
       "    <tr>\n",
       "      <th>2</th>\n",
       "      <td>3</td>\n",
       "      <td>1</td>\n",
       "      <td>3</td>\n",
       "      <td>Heikkinen, Miss. Laina</td>\n",
       "      <td>1</td>\n",
       "      <td>26.0</td>\n",
       "      <td>0</td>\n",
       "      <td>0</td>\n",
       "      <td>STON/O2. 3101282</td>\n",
       "      <td>7.9250</td>\n",
       "      <td>B96 B98</td>\n",
       "      <td>0</td>\n",
       "    </tr>\n",
       "    <tr>\n",
       "      <th>3</th>\n",
       "      <td>4</td>\n",
       "      <td>1</td>\n",
       "      <td>1</td>\n",
       "      <td>Futrelle, Mrs. Jacques Heath (Lily May Peel)</td>\n",
       "      <td>1</td>\n",
       "      <td>35.0</td>\n",
       "      <td>1</td>\n",
       "      <td>0</td>\n",
       "      <td>113803</td>\n",
       "      <td>53.1000</td>\n",
       "      <td>C123</td>\n",
       "      <td>0</td>\n",
       "    </tr>\n",
       "    <tr>\n",
       "      <th>4</th>\n",
       "      <td>5</td>\n",
       "      <td>0</td>\n",
       "      <td>3</td>\n",
       "      <td>Allen, Mr. William Henry</td>\n",
       "      <td>0</td>\n",
       "      <td>35.0</td>\n",
       "      <td>0</td>\n",
       "      <td>0</td>\n",
       "      <td>373450</td>\n",
       "      <td>8.0500</td>\n",
       "      <td>B96 B98</td>\n",
       "      <td>0</td>\n",
       "    </tr>\n",
       "  </tbody>\n",
       "</table>\n",
       "</div>"
      ],
      "text/plain": [
       "   PassengerId  Survived  Pclass  \\\n",
       "0            1         0       3   \n",
       "1            2         1       1   \n",
       "2            3         1       3   \n",
       "3            4         1       1   \n",
       "4            5         0       3   \n",
       "\n",
       "                                                Name  Sex   Age  SibSp  Parch  \\\n",
       "0                            Braund, Mr. Owen Harris    0  22.0      1      0   \n",
       "1  Cumings, Mrs. John Bradley (Florence Briggs Th...    1  38.0      1      0   \n",
       "2                             Heikkinen, Miss. Laina    1  26.0      0      0   \n",
       "3       Futrelle, Mrs. Jacques Heath (Lily May Peel)    1  35.0      1      0   \n",
       "4                           Allen, Mr. William Henry    0  35.0      0      0   \n",
       "\n",
       "             Ticket     Fare    Cabin  Embarked  \n",
       "0         A/5 21171   7.2500  B96 B98         0  \n",
       "1          PC 17599  71.2833      C85         1  \n",
       "2  STON/O2. 3101282   7.9250  B96 B98         0  \n",
       "3            113803  53.1000     C123         0  \n",
       "4            373450   8.0500  B96 B98         0  "
      ]
     },
     "execution_count": 10,
     "metadata": {},
     "output_type": "execute_result"
    }
   ],
   "source": [
    "titanic_data.head()"
   ]
  },
  {
   "cell_type": "code",
   "execution_count": 11,
   "id": "d4db28c2",
   "metadata": {},
   "outputs": [],
   "source": [
    "X = titanic_data[['Pclass', 'Sex', 'Age', 'Fare', 'Embarked']]\n",
    "y = titanic_data['Survived']"
   ]
  },
  {
   "cell_type": "code",
   "execution_count": 107,
   "id": "4ff8fade",
   "metadata": {},
   "outputs": [],
   "source": [
    "X, Y"
   ]
  },
  {
   "cell_type": "code",
   "execution_count": 12,
   "id": "2da96529",
   "metadata": {},
   "outputs": [
    {
     "name": "stdout",
     "output_type": "stream",
     "text": [
      "Best parameters: {'max_depth': 20, 'min_samples_split': 5, 'n_estimators': 100}\n",
      "Best cross-validation score: 0.8305567760969179\n"
     ]
    }
   ],
   "source": [
    "# Define the parameter grid\n",
    "param_grid = {\n",
    "    'n_estimators': [10, 50, 100],\n",
    "    'max_depth': [None, 10, 20, 30],\n",
    "    'min_samples_split': [2, 5, 10]\n",
    "}\n",
    "\n",
    "# Random Forest model\n",
    "rf = RandomForestClassifier(random_state=42)\n",
    "\n",
    "# Grid Search with Cross-Validation\n",
    "grid_search = GridSearchCV(estimator=rf, param_grid=param_grid, cv=5, n_jobs=-1)\n",
    "\n",
    "# Fit model\n",
    "grid_search.fit(X, y)\n",
    "\n",
    "# Best parameters\n",
    "print(f'Best parameters: {grid_search.best_params_}')\n",
    "print(f'Best cross-validation score: {grid_search.best_score_}')"
   ]
  },
  {
   "cell_type": "code",
   "execution_count": null,
   "id": "60d428e5",
   "metadata": {},
   "outputs": [],
   "source": [
    "from sklearn.model_selection import RandomizedSearchCV"
   ]
  },
  {
   "cell_type": "markdown",
   "id": "ae0642f0",
   "metadata": {},
   "source": [
    "### Stacking Model"
   ]
  },
  {
   "cell_type": "markdown",
   "id": "95879c83",
   "metadata": {},
   "source": [
    "![stacking](https://miro.medium.com/v2/resize:fit:1400/1*0qQTUDfImZYQBsyn9F6dpw.png)"
   ]
  },
  {
   "cell_type": "markdown",
   "id": "22355d2d",
   "metadata": {},
   "source": [
    "![stacking](https://media.geeksforgeeks.org/wp-content/uploads/20190515104518/stacking.png)"
   ]
  },
  {
   "cell_type": "code",
   "execution_count": 13,
   "id": "1638eefa",
   "metadata": {},
   "outputs": [],
   "source": [
    "import numpy as np\n",
    "import pandas as pd\n",
    "from sklearn.model_selection import train_test_split\n",
    "from sklearn.ensemble import RandomForestClassifier, GradientBoostingClassifier\n",
    "from sklearn.linear_model import LogisticRegression\n",
    "from sklearn.neighbors import KNeighborsClassifier\n",
    "from sklearn.ensemble import StackingClassifier\n",
    "from sklearn.metrics import accuracy_score\n"
   ]
  },
  {
   "cell_type": "code",
   "execution_count": 14,
   "id": "626f92e1",
   "metadata": {},
   "outputs": [
    {
     "data": {
      "text/html": [
       "<div>\n",
       "<style scoped>\n",
       "    .dataframe tbody tr th:only-of-type {\n",
       "        vertical-align: middle;\n",
       "    }\n",
       "\n",
       "    .dataframe tbody tr th {\n",
       "        vertical-align: top;\n",
       "    }\n",
       "\n",
       "    .dataframe thead th {\n",
       "        text-align: right;\n",
       "    }\n",
       "</style>\n",
       "<table border=\"1\" class=\"dataframe\">\n",
       "  <thead>\n",
       "    <tr style=\"text-align: right;\">\n",
       "      <th></th>\n",
       "      <th>Pclass</th>\n",
       "      <th>Sex</th>\n",
       "      <th>Age</th>\n",
       "      <th>Fare</th>\n",
       "      <th>Embarked</th>\n",
       "    </tr>\n",
       "  </thead>\n",
       "  <tbody>\n",
       "    <tr>\n",
       "      <th>0</th>\n",
       "      <td>3</td>\n",
       "      <td>0</td>\n",
       "      <td>22.0</td>\n",
       "      <td>7.2500</td>\n",
       "      <td>0</td>\n",
       "    </tr>\n",
       "    <tr>\n",
       "      <th>1</th>\n",
       "      <td>1</td>\n",
       "      <td>1</td>\n",
       "      <td>38.0</td>\n",
       "      <td>71.2833</td>\n",
       "      <td>1</td>\n",
       "    </tr>\n",
       "    <tr>\n",
       "      <th>2</th>\n",
       "      <td>3</td>\n",
       "      <td>1</td>\n",
       "      <td>26.0</td>\n",
       "      <td>7.9250</td>\n",
       "      <td>0</td>\n",
       "    </tr>\n",
       "    <tr>\n",
       "      <th>3</th>\n",
       "      <td>1</td>\n",
       "      <td>1</td>\n",
       "      <td>35.0</td>\n",
       "      <td>53.1000</td>\n",
       "      <td>0</td>\n",
       "    </tr>\n",
       "    <tr>\n",
       "      <th>4</th>\n",
       "      <td>3</td>\n",
       "      <td>0</td>\n",
       "      <td>35.0</td>\n",
       "      <td>8.0500</td>\n",
       "      <td>0</td>\n",
       "    </tr>\n",
       "  </tbody>\n",
       "</table>\n",
       "</div>"
      ],
      "text/plain": [
       "   Pclass  Sex   Age     Fare  Embarked\n",
       "0       3    0  22.0   7.2500         0\n",
       "1       1    1  38.0  71.2833         1\n",
       "2       3    1  26.0   7.9250         0\n",
       "3       1    1  35.0  53.1000         0\n",
       "4       3    0  35.0   8.0500         0"
      ]
     },
     "execution_count": 14,
     "metadata": {},
     "output_type": "execute_result"
    }
   ],
   "source": [
    "X.head()"
   ]
  },
  {
   "cell_type": "code",
   "execution_count": 15,
   "id": "9e569cb8",
   "metadata": {},
   "outputs": [],
   "source": [
    "X_train, X_test, y_train, y_test = train_test_split(X, y, test_size=0.1, random_state=42)\n"
   ]
  },
  {
   "cell_type": "code",
   "execution_count": 20,
   "id": "9816f405",
   "metadata": {},
   "outputs": [],
   "source": [
    "# Define base models\n",
    "base_models = [\n",
    "    ('rf', RandomForestClassifier(n_estimators=500, random_state=42)),\n",
    "    ('gb', GradientBoostingClassifier(n_estimators=500, random_state=42)),\n",
    "    ('knn', KNeighborsClassifier())\n",
    "]"
   ]
  },
  {
   "cell_type": "code",
   "execution_count": 21,
   "id": "7d5b3bcd",
   "metadata": {},
   "outputs": [],
   "source": [
    "# Define meta-model\n",
    "meta_model = LogisticRegression()\n"
   ]
  },
  {
   "cell_type": "code",
   "execution_count": 22,
   "id": "3e41abad",
   "metadata": {},
   "outputs": [],
   "source": [
    "stacking_clf = StackingClassifier(estimators=base_models, final_estimator=meta_model, cv=5)"
   ]
  },
  {
   "cell_type": "code",
   "execution_count": 23,
   "id": "7ac2eee3",
   "metadata": {},
   "outputs": [
    {
     "name": "stdout",
     "output_type": "stream",
     "text": [
      "Stacking Model Accuracy: 85.56%\n"
     ]
    }
   ],
   "source": [
    "# Train the stacking model\n",
    "stacking_clf.fit(X_train, y_train)\n",
    "\n",
    "# Predictions\n",
    "y_pred = stacking_clf.predict(X_test)\n",
    "\n",
    "# Accuracy\n",
    "accuracy = accuracy_score(y_test, y_pred)\n",
    "print(f\"Stacking Model Accuracy: {accuracy * 100:.2f}%\")"
   ]
  },
  {
   "cell_type": "code",
   "execution_count": null,
   "id": "5cf0f844",
   "metadata": {},
   "outputs": [],
   "source": []
  },
  {
   "cell_type": "code",
   "execution_count": null,
   "id": "9e4d4672",
   "metadata": {},
   "outputs": [],
   "source": []
  },
  {
   "cell_type": "code",
   "execution_count": null,
   "id": "4e96aaf5",
   "metadata": {},
   "outputs": [],
   "source": []
  },
  {
   "cell_type": "code",
   "execution_count": null,
   "id": "fe2e2f6d",
   "metadata": {},
   "outputs": [],
   "source": []
  },
  {
   "cell_type": "code",
   "execution_count": null,
   "id": "5faf7088",
   "metadata": {},
   "outputs": [],
   "source": []
  },
  {
   "cell_type": "code",
   "execution_count": null,
   "id": "67e84835",
   "metadata": {},
   "outputs": [],
   "source": []
  },
  {
   "cell_type": "code",
   "execution_count": null,
   "id": "47ede415",
   "metadata": {},
   "outputs": [],
   "source": []
  }
 ],
 "metadata": {
  "kernelspec": {
   "display_name": "Python 3 (ipykernel)",
   "language": "python",
   "name": "python3"
  },
  "language_info": {
   "codemirror_mode": {
    "name": "ipython",
    "version": 3
   },
   "file_extension": ".py",
   "mimetype": "text/x-python",
   "name": "python",
   "nbconvert_exporter": "python",
   "pygments_lexer": "ipython3",
   "version": "3.8.10"
  },
  "nbTranslate": {
   "displayLangs": [
    "*"
   ],
   "hotkey": "alt-t",
   "langInMainMenu": true,
   "sourceLang": "en",
   "targetLang": "fr",
   "useGoogleTranslate": true
  },
  "toc": {
   "base_numbering": 1,
   "nav_menu": {},
   "number_sections": true,
   "sideBar": true,
   "skip_h1_title": false,
   "title_cell": "Table of Contents",
   "title_sidebar": "Contents",
   "toc_cell": false,
   "toc_position": {
    "height": "calc(100% - 180px)",
    "left": "10px",
    "top": "150px",
    "width": "307.2px"
   },
   "toc_section_display": true,
   "toc_window_display": false
  },
  "varInspector": {
   "cols": {
    "lenName": 16,
    "lenType": 16,
    "lenVar": 40
   },
   "kernels_config": {
    "python": {
     "delete_cmd_postfix": "",
     "delete_cmd_prefix": "del ",
     "library": "var_list.py",
     "varRefreshCmd": "print(var_dic_list())"
    },
    "r": {
     "delete_cmd_postfix": ") ",
     "delete_cmd_prefix": "rm(",
     "library": "var_list.r",
     "varRefreshCmd": "cat(var_dic_list()) "
    }
   },
   "types_to_exclude": [
    "module",
    "function",
    "builtin_function_or_method",
    "instance",
    "_Feature"
   ],
   "window_display": false
  }
 },
 "nbformat": 4,
 "nbformat_minor": 5
}
